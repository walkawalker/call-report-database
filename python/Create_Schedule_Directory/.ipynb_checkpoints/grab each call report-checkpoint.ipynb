{
 "cells": [
  {
   "cell_type": "code",
   "execution_count": 52,
   "id": "c38fbb1a",
   "metadata": {},
   "outputs": [],
   "source": [
    "from ffiec_data_connect import methods, credentials, ffiec_connection\n",
    "import pandas as pd\n",
    "import snowflake.snowpark as snowpark\n",
    "from snowflake.connector.pandas_tools import write_pandas\n",
    "import time\n",
    "from zeep.exceptions import Fault\n",
    "import datetime\n",
    "from pathlib import Path\n",
    "import numpy as np \n",
    "from snowflake.connector.errors import ProgrammingError\n",
    "#creds = credentials.WebserviceCredentials(username=\"your-username\", password=\"your-token\")\n",
    "#creds = credentials.WebserviceCredentials(username=\"whills12\", password=\"vGzHZX7EAsPCwfXuV6pI\")\n",
    "#conn = ffiec_connection.FFIECConnection()"
   ]
  },
  {
   "cell_type": "code",
   "execution_count": 62,
   "id": "27800b90",
   "metadata": {},
   "outputs": [],
   "source": [
    "def format_callreports(p,fp, y, q):\n",
    "    parts= q.split('_')\n",
    "    replacement_dict = {'0': f'{y}{parts[0]}{parts[1]}', '': f'{y}{parts[0]}{parts[1]}'} \n",
    "    datefill = f'{y}-{parts[0]}-{parts[1]}'\n",
    "    yeardf = pd.DataFrame()\n",
    "    yearflag = 0\n",
    "    ct=0\n",
    "    plist = list(p.glob(f'**\\\\{y}\\\\{q}\\\\*'))\n",
    "    if not plist:\n",
    "        print(f'the following folder didnt exist/has nothing {y}:{q}')\n",
    "        \n",
    "    for pl in plist:\n",
    "        if ct == 0:\n",
    "            dfinitial = pd.read_csv(pl, sep='\\t', on_bad_lines='warn',engine=\"python\") \n",
    "            dfinitial.drop(dfinitial.columns[-1],axis=1,inplace=True)\n",
    "            dfinitial['IDRSSD'] = dfinitial['IDRSSD'].astype(int)\n",
    "            ct += 1\n",
    "            continue\n",
    "        else: \n",
    "            dftomerge = pd.read_csv(pl, sep='\\t', on_bad_lines='warn', engine=\"python\")\n",
    "            dftomerge.drop(dftomerge.columns[-1],axis=1,inplace=True)\n",
    "            dftomerge.drop(0,inplace=True)\n",
    "        print(str(pl))\n",
    "        dftomerge['IDRSSD'] = pd.to_numeric(dftomerge['IDRSSD'], errors = 'coerce').dropna()\n",
    "\n",
    "        dfinitial = pd.merge(dfinitial, dftomerge, on=['IDRSSD'], how='left', suffixes=('', '_y'))\n",
    "        dfinitial.drop(dfinitial.filter(regex='_y$').columns, axis=1, inplace=True)\n",
    "\n",
    "    if yearflag==0:\n",
    "        yeardf = dfinitial\n",
    "        yearflag+=1\n",
    "    else:\n",
    "        yeardf = pd.concat([yeardf, dfinitial], axis=0, ignore_index=True)\n",
    "        print(len(yeardf))        \n",
    "    yeardf.drop(list(yeardf.filter(regex = 'TEXT').columns),axis = 1, inplace = True)\n",
    "    try:\n",
    "        yeardf['RCON9999']=pd.to_datetime(yeardf['RCON9999'], format='%Y%m%d').dt.strftime('%Y-%m-%d')\n",
    "    except ValueError:\n",
    "        yeardf['RCON9999'] = yeardf['RCON9999'].replace(replacement_dict)\n",
    "        yeardf['RCON9999']=pd.to_datetime(yeardf['RCON9999'], format='%Y%m%d').dt.strftime('%Y-%m-%d')\n",
    "    yeardf.replace('CONF', None, inplace=True)\n",
    "    #yeardf['RCON9999'] = yeardf['RCON9999'].fillna(datefill)\n",
    "    yeardf.dropna(subset=['IDRSSD'], how='any', inplace=True)\n",
    "    yeardf['RCON9999']=yeardf['RCON9999'].replace(np.NaN, f'{y}-{parts[0]}-{parts[1]}')\n",
    "    return yeardf"
   ]
  },
  {
   "cell_type": "code",
   "execution_count": 3,
   "id": "e7e4a353",
   "metadata": {},
   "outputs": [],
   "source": [
    "def initialize_snowflake_connection(username,password,account,role,warehouse,database,schema):\n",
    "    connection_parameters = {\n",
    "        \"user\": username,\n",
    "        \"password\": password,\n",
    "        \"account\": account,\n",
    "        \"role\": role,\n",
    "        \"warehouse\": warehouse,\n",
    "        \"database\": database,\n",
    "        \"schema\": schema }\n",
    "    return snowpark.session.Session.builder.configs(connection_parameters).create()"
   ]
  },
  {
   "cell_type": "code",
   "execution_count": 4,
   "id": "b49e39ed",
   "metadata": {},
   "outputs": [],
   "source": [
    "def initialize_ffeic_connection(username, password):\n",
    "    creds = credentials.WebserviceCredentials(username=username, password=password)\n",
    "    conn = ffiec_connection.FFIECConnection()\n",
    "    return creds, conn"
   ]
  },
  {
   "cell_type": "code",
   "execution_count": 5,
   "id": "4ed9b302",
   "metadata": {},
   "outputs": [],
   "source": [
    "def print_row_count(session: snowpark.Session, t):\n",
    "    row_count = session.sql(f\"SELECT COUNT(*) AS row_count FROM {t};\").collect()\n",
    "    df = pd.DataFrame(row_count)\n",
    "    return print(f'{df[\"ROW_COUNT\"][0]} values inserted into table {t}')"
   ]
  },
  {
   "cell_type": "code",
   "execution_count": 6,
   "id": "a9a2a195",
   "metadata": {},
   "outputs": [],
   "source": [
    "def grab_table_name(session: snowpark.Session):\n",
    "    tables = session.sql('''SELECT TABLE_NAME\n",
    "    FROM INFORMATION_SCHEMA.TABLES\n",
    "    WHERE TABLE_SCHEMA = 'PUBLIC';''').collect()\n",
    "    table_names = pd.DataFrame(tables)\n",
    "    table_list = table_names['TABLE_NAME'].tolist()\n",
    "    table_list.remove('SCHEDULE_METADATA')\n",
    "    return table_list"
   ]
  },
  {
   "cell_type": "code",
   "execution_count": 7,
   "id": "8dc0620b",
   "metadata": {},
   "outputs": [],
   "source": [
    "def grab_table_schema(session: snowpark.Session, table_name):\n",
    "    df_schema = session.sql(f\"DESCRIBE TABLE {table_name};\").collect()\n",
    "    schema_cols = pd.DataFrame(df_schema)\n",
    "    return pd.DataFrame(columns=schema_cols['name'].tolist()), schema_cols['name'].tolist()"
   ]
  },
  {
   "cell_type": "code",
   "execution_count": 8,
   "id": "69c175e9",
   "metadata": {},
   "outputs": [],
   "source": [
    "def grab_id_data(reporting_period, passed_list, creds, conn):\n",
    "    skipper = 0\n",
    "    limit_caller = 0\n",
    "    error_list = []\n",
    "    give_it_back = 0\n",
    "    try:\n",
    "        if not passed_list:\n",
    "            limit_caller += 1\n",
    "            give_it_back = 2499\n",
    "            raise ValueError('The passed ID RSSD list is empty, calling the webservice')\n",
    "        else:\n",
    "            id_rssd_list = passed_list \n",
    "            print('Using the passed id list')\n",
    "    except ValueError as e:\n",
    "        print(e)\n",
    "        filers = methods.collect_filers_on_reporting_period(\n",
    "        session=conn,\n",
    "        creds=creds,\n",
    "        reporting_period=reporting_period,\n",
    "        output_type=\"pandas\")\n",
    "        id_rssd_list = sorted(filers['id_rssd'].tolist())\n",
    "    print('Processing period: ', reporting_period, f\"list length is {len(id_rssd_list)}\")\n",
    "    print(\"The time was : \", time.ctime())\n",
    "    for id_rssd in id_rssd_list:\n",
    "        if limit_caller == 2500:\n",
    "            break\n",
    "        else:\n",
    "            try:\n",
    "                df = methods.collect_data(\n",
    "                    session=conn,\n",
    "                    creds=creds,\n",
    "                    rssd_id=id_rssd,\n",
    "                    reporting_period=reporting_period,\n",
    "                    series=\"call\",\n",
    "                    output_type='pandas'\n",
    "                )\n",
    "                result_df = pd.DataFrame(columns=df['mdrm'].unique())\n",
    "                for index, row in df.iterrows():\n",
    "                    mdrm = row['mdrm']\n",
    "                    data_type = row['data_type']\n",
    "                    if data_type == 'str':\n",
    "                        value = row['str_data']\n",
    "                    elif data_type == 'bool':\n",
    "                        value = row['bool_data']\n",
    "                    elif data_type == 'float':\n",
    "                        value = row['float_data']\n",
    "                    elif data_type == 'int':\n",
    "                        value = row['int_data']\n",
    "                    else:\n",
    "                        value = None\n",
    "                    result_df.at[0, mdrm] = value\n",
    "                result_df.insert(0, 'IDRSSD',id_rssd)\n",
    "                result_df['RCON9999']=pd.to_datetime(result_df['RCON9999'], format='%Y%m%d.%f').dt.strftime('%Y-%m-%d')\n",
    "                date_column = result_df.pop('RCON9999') \n",
    "                result_df.insert(1, 'RCON9999', date_column) \n",
    "                if skipper == 0:\n",
    "                    final_df = result_df\n",
    "                    skipper+=1\n",
    "                else:\n",
    "                    final_df = pd.concat([final_df,result_df]).reset_index(drop=True)\n",
    "                limit_caller+=1\n",
    "            except Fault as e:\n",
    "                print(f'The IDRSSD: {id_rssd} is not available for reporting period {reporting_period}: printing fault statement {e}')\n",
    "                error_list.append(id_rssd)\n",
    "                limit_caller+=1\n",
    "                continue\n",
    "    if give_it_back == 0:\n",
    "        id_rssd_partial = id_rssd_list[limit_caller:]\n",
    "    else: \n",
    "        id_rssd_partial = id_rssd_list[give_it_back:]\n",
    "    print(\"Records to still be processed: \", len(id_rssd_partial))\n",
    "    return final_df, error_list, id_rssd_partial"
   ]
  },
  {
   "cell_type": "code",
   "execution_count": 9,
   "id": "2e0bcae6",
   "metadata": {},
   "outputs": [],
   "source": [
    "def main(session: snowpark.Session, creds, conn, is_df,reporting_period,period_string):\n",
    "    print('Grabbing Data')\n",
    "    if is_df:\n",
    "        passed_list = []\n",
    "    else: \n",
    "        passed_df=pd.read_csv(f'C:\\\\Users\\\\whill\\\\OneDrive\\\\Desktop\\\\Fall2022\\\\ISYE6740\\\\call-report-database\\\\Uploading Files\\\\{period_string}_partial_id_list.csv')\n",
    "        passed_list = passed_df['0'].tolist()\n",
    "    #passed_list = [] \n",
    "    #passed_df=pd.read_csv(f'C:\\\\Users\\\\whill\\\\OneDrive\\\\Desktop\\\\Fall2022\\\\ISYE6740\\\\call-report-database\\\\Uploading Files\\\\{period_string}_partial_id_list.csv')\n",
    "    #passed_list = passed_df['0'].tolist()\n",
    "    #pd.read_csv(f'C:\\\\Users\\\\whill\\\\OneDrive\\\\Desktop\\\\Fall2022\\\\ISYE6740\\\\call-report-database\\\\Uploading Files\\\\{reporting_period}_error_list.csv')\n",
    "    final_df, error_list, id_rssd_partial = grab_id_data(reporting_period, passed_list, creds, conn)\n",
    "    print(\"The last data call was : \", time.ctime())\n",
    "    if error_list:\n",
    "        print('saving errors')\n",
    "        e_df = pd.DataFrame(error_list)\n",
    "        e_df.to_csv(f'C:\\\\Users\\\\whill\\\\OneDrive\\\\Desktop\\\\Fall2022\\\\ISYE6740\\\\call-report-database\\\\Uploading Files\\\\{period_string}_error_list.csv',index=False)\n",
    "    if id_rssd_partial: \n",
    "        print('saving partial list')\n",
    "        partial_id_df = pd.DataFrame(id_rssd_partial)\n",
    "        partial_id_df.to_csv(f'C:\\\\Users\\\\whill\\\\OneDrive\\\\Desktop\\\\Fall2022\\\\ISYE6740\\\\call-report-database\\\\Uploading Files\\\\{period_string}_partial_id_list.csv',index=False)\n",
    "    table_list = grab_table_name(session)\n",
    "    print(\"Started writing data to snowflake @: \", time.ctime())\n",
    "    for t in table_list:\n",
    "        concat_df, col_list = grab_table_schema(session, t)\n",
    "        write_df = pd.concat([concat_df,final_df.filter(items=col_list)])\n",
    "        session.write_pandas(write_df,t)\n",
    "        print_row_count(session, t)"
   ]
  },
  {
   "cell_type": "code",
   "execution_count": 17,
   "id": "62ac550c",
   "metadata": {
    "collapsed": true
   },
   "outputs": [
    {
     "name": "stdout",
     "output_type": "stream",
     "text": [
      "Grabbing Data\n",
      "Using the passed id list\n",
      "Processing period:  03/31/2020 list length is 166\n",
      "The time was :  Fri Dec 15 15:32:16 2023\n",
      "Records to still be processed:  0\n",
      "The last data call was :  Fri Dec 15 15:33:16 2023\n",
      "Started writing data to snowflake @:  Fri Dec 15 15:33:18 2023\n",
      "73426 values inserted into table SCHEDULE_RCCI\n",
      "73426 values inserted into table SCHEDULE_RCD\n",
      "73426 values inserted into table SCHEDULE_RCEII\n",
      "73426 values inserted into table SCHEDULE_RCF\n",
      "73426 values inserted into table SCHEDULE_RCG\n",
      "73426 values inserted into table SCHEDULE_RCS\n",
      "73426 values inserted into table SCHEDULE_RCT\n",
      "73426 values inserted into table SCHEDULE_RCN\n",
      "73426 values inserted into table SCHEDULE_RCV\n",
      "73426 values inserted into table SCHEDULE_RIC\n",
      "73426 values inserted into table SCHEDULE_LEO\n",
      "73426 values inserted into table SCHEDULE_RCH\n",
      "73426 values inserted into table SCHEDULE_RCI\n",
      "73426 values inserted into table SCHEDULE_RCM\n",
      "73426 values inserted into table SCHEDULE_RIBII\n",
      "73426 values inserted into table SCHEDULE_UNDEFINED\n",
      "73426 values inserted into table SCHEDULE_ENT\n",
      "73426 values inserted into table SCHEDULE_NARR\n",
      "73426 values inserted into table SCHEDULE_RCB\n",
      "73426 values inserted into table SCHEDULE_RCEI\n",
      "73426 values inserted into table SCHEDULE_RCO\n",
      "73426 values inserted into table SCHEDULE_RCR\n",
      "73426 values inserted into table SCHEDULE_RCRII\n",
      "73426 values inserted into table SCHEDULE_RCP\n",
      "73426 values inserted into table SCHEDULE_RCQ\n",
      "73426 values inserted into table SCHEDULE_RCRI\n",
      "73426 values inserted into table SCHEDULE_RIA\n",
      "73426 values inserted into table SCHEDULE_RICI\n",
      "73426 values inserted into table SCHEDULE_RIE\n",
      "73426 values inserted into table SCHEDULE_RCL\n",
      "73426 values inserted into table SCHEDULE_RC\n",
      "73426 values inserted into table SCHEDULE_RCA\n",
      "73426 values inserted into table SCHEDULE_RCCII\n",
      "73426 values inserted into table SCHEDULE_RCE\n",
      "73426 values inserted into table SCHEDULE_RI\n",
      "73426 values inserted into table SCHEDULE_RICII\n",
      "73426 values inserted into table SCHEDULE_SU\n",
      "73426 values inserted into table SCHEDULE_RIBI\n",
      "73426 values inserted into table SCHEDULE_RCK\n",
      "73426 values inserted into table SCHEDULE_RID\n"
     ]
    }
   ],
   "source": [
    "if __name__ == \"__main__\":\n",
    "    warehouse = \"COMPUTE_WH\"\n",
    "    session = initialize_snowflake_connection(username= \"\",password = \"\",account= \"\",role = \"\",\n",
    "                                    warehouse = \"\",database = \"\",schema = \"\")\n",
    "    creds, conn = initialize_ffeic_connection(username='',password=\"\")\n",
    "    reporting_period = '03/31/2020'\n",
    "    period_string = '03_31_2020'\n",
    "    main(session, creds, conn, False, reporting_period, period_string)\n",
    "    session.sql(f\"ALTER WAREHOUSE {warehouse} SUSPEND;\")\n",
    "    session.close()"
   ]
  },
  {
   "cell_type": "code",
   "execution_count": 12,
   "id": "bc847426",
   "metadata": {},
   "outputs": [],
   "source": [
    "def main(session: snowpark.Session, df, fp,y,q):\n",
    "    table_list = grab_table_name(session)\n",
    "    for t in table_list:\n",
    "        try:\n",
    "            concat_df, col_list = grab_table_schema(session, t)\n",
    "            write_df = pd.concat([concat_df,df.filter(items=col_list)])\n",
    "            write_df.to_csv(f'{fp}\\\\{t}\\\\{y}_CallReports_{q}.csv',index=False)\n",
    "            session.write_pandas(write_df,t)\n",
    "            print_row_count(session, t)\n",
    "        except ProgrammingError as pe:\n",
    "            print(f\"Error in table {t}: {pe}\")\n",
    "            write_df.to_csv(f'{fp}\\\\Failed_Uploads\\\\{y}_{t}_error_upload_report_{q}.csv',index=False)"
   ]
  },
  {
   "cell_type": "code",
   "execution_count": 66,
   "id": "236412e7",
   "metadata": {},
   "outputs": [
    {
     "name": "stdout",
     "output_type": "stream",
     "text": [
      "C:\\Users\\whill\\call-report-database\\Bulk_Files\\2013\\03_31\\FFIEC CDR Call Schedule CI 03312013.txt\n",
      "C:\\Users\\whill\\call-report-database\\Bulk_Files\\2013\\03_31\\FFIEC CDR Call Schedule ENT 03312013.txt\n",
      "C:\\Users\\whill\\call-report-database\\Bulk_Files\\2013\\03_31\\FFIEC CDR Call Schedule NARR 03312013.txt\n",
      "C:\\Users\\whill\\call-report-database\\Bulk_Files\\2013\\03_31\\FFIEC CDR Call Schedule RC 03312013.txt\n",
      "C:\\Users\\whill\\call-report-database\\Bulk_Files\\2013\\03_31\\FFIEC CDR Call Schedule RCA 03312013.txt\n",
      "C:\\Users\\whill\\call-report-database\\Bulk_Files\\2013\\03_31\\FFIEC CDR Call Schedule RCB 03312013(1 of 2).txt\n",
      "C:\\Users\\whill\\call-report-database\\Bulk_Files\\2013\\03_31\\FFIEC CDR Call Schedule RCB 03312013(2 of 2).txt\n",
      "C:\\Users\\whill\\call-report-database\\Bulk_Files\\2013\\03_31\\FFIEC CDR Call Schedule RCCI 03312013.txt\n",
      "C:\\Users\\whill\\call-report-database\\Bulk_Files\\2013\\03_31\\FFIEC CDR Call Schedule RCCII 03312013.txt\n",
      "C:\\Users\\whill\\call-report-database\\Bulk_Files\\2013\\03_31\\FFIEC CDR Call Schedule RCD 03312013.txt\n",
      "C:\\Users\\whill\\call-report-database\\Bulk_Files\\2013\\03_31\\FFIEC CDR Call Schedule RCE 03312013.txt\n",
      "C:\\Users\\whill\\call-report-database\\Bulk_Files\\2013\\03_31\\FFIEC CDR Call Schedule RCEI 03312013.txt\n",
      "C:\\Users\\whill\\call-report-database\\Bulk_Files\\2013\\03_31\\FFIEC CDR Call Schedule RCEII 03312013.txt\n",
      "C:\\Users\\whill\\call-report-database\\Bulk_Files\\2013\\03_31\\FFIEC CDR Call Schedule RCF 03312013.txt\n",
      "C:\\Users\\whill\\call-report-database\\Bulk_Files\\2013\\03_31\\FFIEC CDR Call Schedule RCG 03312013.txt\n",
      "C:\\Users\\whill\\call-report-database\\Bulk_Files\\2013\\03_31\\FFIEC CDR Call Schedule RCH 03312013.txt\n",
      "C:\\Users\\whill\\call-report-database\\Bulk_Files\\2013\\03_31\\FFIEC CDR Call Schedule RCI 03312013.txt\n",
      "C:\\Users\\whill\\call-report-database\\Bulk_Files\\2013\\03_31\\FFIEC CDR Call Schedule RCK 03312013.txt\n",
      "C:\\Users\\whill\\call-report-database\\Bulk_Files\\2013\\03_31\\FFIEC CDR Call Schedule RCL 03312013(1 of 2).txt\n",
      "C:\\Users\\whill\\call-report-database\\Bulk_Files\\2013\\03_31\\FFIEC CDR Call Schedule RCL 03312013(2 of 2).txt\n",
      "C:\\Users\\whill\\call-report-database\\Bulk_Files\\2013\\03_31\\FFIEC CDR Call Schedule RCM 03312013.txt\n",
      "C:\\Users\\whill\\call-report-database\\Bulk_Files\\2013\\03_31\\FFIEC CDR Call Schedule RCN 03312013(1 of 2).txt\n",
      "C:\\Users\\whill\\call-report-database\\Bulk_Files\\2013\\03_31\\FFIEC CDR Call Schedule RCN 03312013(2 of 2).txt\n",
      "C:\\Users\\whill\\call-report-database\\Bulk_Files\\2013\\03_31\\FFIEC CDR Call Schedule RCO 03312013.txt\n",
      "C:\\Users\\whill\\call-report-database\\Bulk_Files\\2013\\03_31\\FFIEC CDR Call Schedule RCP 03312013.txt\n",
      "C:\\Users\\whill\\call-report-database\\Bulk_Files\\2013\\03_31\\FFIEC CDR Call Schedule RCQ 03312013(1 of 2).txt\n",
      "C:\\Users\\whill\\call-report-database\\Bulk_Files\\2013\\03_31\\FFIEC CDR Call Schedule RCQ 03312013(2 of 2).txt\n",
      "C:\\Users\\whill\\call-report-database\\Bulk_Files\\2013\\03_31\\FFIEC CDR Call Schedule RCR 03312013(1 of 2).txt\n",
      "C:\\Users\\whill\\call-report-database\\Bulk_Files\\2013\\03_31\\FFIEC CDR Call Schedule RCR 03312013(2 of 2).txt\n",
      "C:\\Users\\whill\\call-report-database\\Bulk_Files\\2013\\03_31\\FFIEC CDR Call Schedule RCS 03312013.txt\n",
      "C:\\Users\\whill\\call-report-database\\Bulk_Files\\2013\\03_31\\FFIEC CDR Call Schedule RCT 03312013(1 of 2).txt\n",
      "C:\\Users\\whill\\call-report-database\\Bulk_Files\\2013\\03_31\\FFIEC CDR Call Schedule RCT 03312013(2 of 2).txt\n",
      "C:\\Users\\whill\\call-report-database\\Bulk_Files\\2013\\03_31\\FFIEC CDR Call Schedule RCV 03312013.txt\n",
      "C:\\Users\\whill\\call-report-database\\Bulk_Files\\2013\\03_31\\FFIEC CDR Call Schedule RI 03312013.txt\n",
      "C:\\Users\\whill\\call-report-database\\Bulk_Files\\2013\\03_31\\FFIEC CDR Call Schedule RIA 03312013.txt\n",
      "C:\\Users\\whill\\call-report-database\\Bulk_Files\\2013\\03_31\\FFIEC CDR Call Schedule RIBI 03312013.txt\n",
      "C:\\Users\\whill\\call-report-database\\Bulk_Files\\2013\\03_31\\FFIEC CDR Call Schedule RIBII 03312013.txt\n",
      "C:\\Users\\whill\\call-report-database\\Bulk_Files\\2013\\03_31\\FFIEC CDR Call Schedule RIC 03312013.txt\n",
      "C:\\Users\\whill\\call-report-database\\Bulk_Files\\2013\\03_31\\FFIEC CDR Call Schedule RID 03312013.txt\n",
      "C:\\Users\\whill\\call-report-database\\Bulk_Files\\2013\\03_31\\FFIEC CDR Call Schedule RIE 03312013.txt\n"
     ]
    },
    {
     "name": "stderr",
     "output_type": "stream",
     "text": [
      "C:\\Users\\whill\\anaconda3\\lib\\site-packages\\snowflake\\snowpark\\session.py:1891: UserWarning: Pandas Dataframe has non-standard index of type <class 'pandas.core.indexes.numeric.Int64Index'> which will not be written. Consider changing the index to pd.RangeIndex(start=0,...,step=1) or call reset_index() to keep index as column(s)\n",
      "  success, nchunks, nrows, ci_output = write_pandas(\n"
     ]
    },
    {
     "name": "stdout",
     "output_type": "stream",
     "text": [
      "457297 values inserted into table SCHEDULE_RCE\n"
     ]
    },
    {
     "name": "stderr",
     "output_type": "stream",
     "text": [
      "C:\\Users\\whill\\anaconda3\\lib\\site-packages\\snowflake\\snowpark\\session.py:1891: UserWarning: Pandas Dataframe has non-standard index of type <class 'pandas.core.indexes.numeric.Int64Index'> which will not be written. Consider changing the index to pd.RangeIndex(start=0,...,step=1) or call reset_index() to keep index as column(s)\n",
      "  success, nchunks, nrows, ci_output = write_pandas(\n"
     ]
    },
    {
     "name": "stdout",
     "output_type": "stream",
     "text": [
      "457297 values inserted into table SCHEDULE_RCEI\n"
     ]
    },
    {
     "name": "stderr",
     "output_type": "stream",
     "text": [
      "C:\\Users\\whill\\anaconda3\\lib\\site-packages\\snowflake\\snowpark\\session.py:1891: UserWarning: Pandas Dataframe has non-standard index of type <class 'pandas.core.indexes.numeric.Int64Index'> which will not be written. Consider changing the index to pd.RangeIndex(start=0,...,step=1) or call reset_index() to keep index as column(s)\n",
      "  success, nchunks, nrows, ci_output = write_pandas(\n"
     ]
    },
    {
     "name": "stdout",
     "output_type": "stream",
     "text": [
      "457297 values inserted into table SCHEDULE_RCF\n"
     ]
    },
    {
     "name": "stderr",
     "output_type": "stream",
     "text": [
      "C:\\Users\\whill\\anaconda3\\lib\\site-packages\\snowflake\\snowpark\\session.py:1891: UserWarning: Pandas Dataframe has non-standard index of type <class 'pandas.core.indexes.numeric.Int64Index'> which will not be written. Consider changing the index to pd.RangeIndex(start=0,...,step=1) or call reset_index() to keep index as column(s)\n",
      "  success, nchunks, nrows, ci_output = write_pandas(\n"
     ]
    },
    {
     "name": "stdout",
     "output_type": "stream",
     "text": [
      "457297 values inserted into table SCHEDULE_RIBII\n"
     ]
    },
    {
     "name": "stderr",
     "output_type": "stream",
     "text": [
      "C:\\Users\\whill\\anaconda3\\lib\\site-packages\\snowflake\\snowpark\\session.py:1891: UserWarning: Pandas Dataframe has non-standard index of type <class 'pandas.core.indexes.numeric.Int64Index'> which will not be written. Consider changing the index to pd.RangeIndex(start=0,...,step=1) or call reset_index() to keep index as column(s)\n",
      "  success, nchunks, nrows, ci_output = write_pandas(\n"
     ]
    },
    {
     "name": "stdout",
     "output_type": "stream",
     "text": [
      "457297 values inserted into table SCHEDULE_RCCI\n"
     ]
    },
    {
     "name": "stderr",
     "output_type": "stream",
     "text": [
      "C:\\Users\\whill\\anaconda3\\lib\\site-packages\\snowflake\\snowpark\\session.py:1891: UserWarning: Pandas Dataframe has non-standard index of type <class 'pandas.core.indexes.numeric.Int64Index'> which will not be written. Consider changing the index to pd.RangeIndex(start=0,...,step=1) or call reset_index() to keep index as column(s)\n",
      "  success, nchunks, nrows, ci_output = write_pandas(\n"
     ]
    },
    {
     "name": "stdout",
     "output_type": "stream",
     "text": [
      "457297 values inserted into table SCHEDULE_RIC\n"
     ]
    },
    {
     "name": "stderr",
     "output_type": "stream",
     "text": [
      "C:\\Users\\whill\\anaconda3\\lib\\site-packages\\snowflake\\snowpark\\session.py:1891: UserWarning: Pandas Dataframe has non-standard index of type <class 'pandas.core.indexes.numeric.Int64Index'> which will not be written. Consider changing the index to pd.RangeIndex(start=0,...,step=1) or call reset_index() to keep index as column(s)\n",
      "  success, nchunks, nrows, ci_output = write_pandas(\n"
     ]
    },
    {
     "name": "stdout",
     "output_type": "stream",
     "text": [
      "457297 values inserted into table SCHEDULE_SU\n"
     ]
    },
    {
     "name": "stderr",
     "output_type": "stream",
     "text": [
      "C:\\Users\\whill\\anaconda3\\lib\\site-packages\\snowflake\\snowpark\\session.py:1891: UserWarning: Pandas Dataframe has non-standard index of type <class 'pandas.core.indexes.numeric.Int64Index'> which will not be written. Consider changing the index to pd.RangeIndex(start=0,...,step=1) or call reset_index() to keep index as column(s)\n",
      "  success, nchunks, nrows, ci_output = write_pandas(\n"
     ]
    },
    {
     "name": "stdout",
     "output_type": "stream",
     "text": [
      "457297 values inserted into table SCHEDULE_RCM\n"
     ]
    },
    {
     "name": "stderr",
     "output_type": "stream",
     "text": [
      "C:\\Users\\whill\\anaconda3\\lib\\site-packages\\snowflake\\snowpark\\session.py:1891: UserWarning: Pandas Dataframe has non-standard index of type <class 'pandas.core.indexes.numeric.Int64Index'> which will not be written. Consider changing the index to pd.RangeIndex(start=0,...,step=1) or call reset_index() to keep index as column(s)\n",
      "  success, nchunks, nrows, ci_output = write_pandas(\n"
     ]
    },
    {
     "name": "stdout",
     "output_type": "stream",
     "text": [
      "457297 values inserted into table SCHEDULE_LEO\n"
     ]
    },
    {
     "name": "stderr",
     "output_type": "stream",
     "text": [
      "C:\\Users\\whill\\anaconda3\\lib\\site-packages\\snowflake\\snowpark\\session.py:1891: UserWarning: Pandas Dataframe has non-standard index of type <class 'pandas.core.indexes.numeric.Int64Index'> which will not be written. Consider changing the index to pd.RangeIndex(start=0,...,step=1) or call reset_index() to keep index as column(s)\n",
      "  success, nchunks, nrows, ci_output = write_pandas(\n"
     ]
    },
    {
     "name": "stdout",
     "output_type": "stream",
     "text": [
      "457297 values inserted into table SCHEDULE_RC\n"
     ]
    },
    {
     "name": "stderr",
     "output_type": "stream",
     "text": [
      "C:\\Users\\whill\\anaconda3\\lib\\site-packages\\snowflake\\snowpark\\session.py:1891: UserWarning: Pandas Dataframe has non-standard index of type <class 'pandas.core.indexes.numeric.Int64Index'> which will not be written. Consider changing the index to pd.RangeIndex(start=0,...,step=1) or call reset_index() to keep index as column(s)\n",
      "  success, nchunks, nrows, ci_output = write_pandas(\n"
     ]
    },
    {
     "name": "stdout",
     "output_type": "stream",
     "text": [
      "457297 values inserted into table SCHEDULE_RCD\n"
     ]
    },
    {
     "name": "stderr",
     "output_type": "stream",
     "text": [
      "C:\\Users\\whill\\anaconda3\\lib\\site-packages\\snowflake\\snowpark\\session.py:1891: UserWarning: Pandas Dataframe has non-standard index of type <class 'pandas.core.indexes.numeric.Int64Index'> which will not be written. Consider changing the index to pd.RangeIndex(start=0,...,step=1) or call reset_index() to keep index as column(s)\n",
      "  success, nchunks, nrows, ci_output = write_pandas(\n"
     ]
    },
    {
     "name": "stdout",
     "output_type": "stream",
     "text": [
      "457297 values inserted into table SCHEDULE_RCL\n"
     ]
    },
    {
     "name": "stderr",
     "output_type": "stream",
     "text": [
      "C:\\Users\\whill\\anaconda3\\lib\\site-packages\\snowflake\\snowpark\\session.py:1891: UserWarning: Pandas Dataframe has non-standard index of type <class 'pandas.core.indexes.numeric.Int64Index'> which will not be written. Consider changing the index to pd.RangeIndex(start=0,...,step=1) or call reset_index() to keep index as column(s)\n",
      "  success, nchunks, nrows, ci_output = write_pandas(\n"
     ]
    },
    {
     "name": "stdout",
     "output_type": "stream",
     "text": [
      "457297 values inserted into table SCHEDULE_RCO\n"
     ]
    },
    {
     "name": "stderr",
     "output_type": "stream",
     "text": [
      "C:\\Users\\whill\\anaconda3\\lib\\site-packages\\snowflake\\snowpark\\session.py:1891: UserWarning: Pandas Dataframe has non-standard index of type <class 'pandas.core.indexes.numeric.Int64Index'> which will not be written. Consider changing the index to pd.RangeIndex(start=0,...,step=1) or call reset_index() to keep index as column(s)\n",
      "  success, nchunks, nrows, ci_output = write_pandas(\n"
     ]
    },
    {
     "name": "stdout",
     "output_type": "stream",
     "text": [
      "457297 values inserted into table SCHEDULE_RCP\n"
     ]
    },
    {
     "name": "stderr",
     "output_type": "stream",
     "text": [
      "C:\\Users\\whill\\anaconda3\\lib\\site-packages\\snowflake\\snowpark\\session.py:1891: UserWarning: Pandas Dataframe has non-standard index of type <class 'pandas.core.indexes.numeric.Int64Index'> which will not be written. Consider changing the index to pd.RangeIndex(start=0,...,step=1) or call reset_index() to keep index as column(s)\n",
      "  success, nchunks, nrows, ci_output = write_pandas(\n"
     ]
    },
    {
     "name": "stdout",
     "output_type": "stream",
     "text": [
      "457297 values inserted into table SCHEDULE_RCV\n"
     ]
    },
    {
     "name": "stderr",
     "output_type": "stream",
     "text": [
      "C:\\Users\\whill\\anaconda3\\lib\\site-packages\\snowflake\\snowpark\\session.py:1891: UserWarning: Pandas Dataframe has non-standard index of type <class 'pandas.core.indexes.numeric.Int64Index'> which will not be written. Consider changing the index to pd.RangeIndex(start=0,...,step=1) or call reset_index() to keep index as column(s)\n",
      "  success, nchunks, nrows, ci_output = write_pandas(\n"
     ]
    },
    {
     "name": "stdout",
     "output_type": "stream",
     "text": [
      "457297 values inserted into table SCHEDULE_RCT\n"
     ]
    },
    {
     "name": "stderr",
     "output_type": "stream",
     "text": [
      "C:\\Users\\whill\\anaconda3\\lib\\site-packages\\snowflake\\snowpark\\session.py:1891: UserWarning: Pandas Dataframe has non-standard index of type <class 'pandas.core.indexes.numeric.Int64Index'> which will not be written. Consider changing the index to pd.RangeIndex(start=0,...,step=1) or call reset_index() to keep index as column(s)\n",
      "  success, nchunks, nrows, ci_output = write_pandas(\n"
     ]
    },
    {
     "name": "stdout",
     "output_type": "stream",
     "text": [
      "457297 values inserted into table SCHEDULE_RCCII\n"
     ]
    },
    {
     "name": "stderr",
     "output_type": "stream",
     "text": [
      "C:\\Users\\whill\\anaconda3\\lib\\site-packages\\snowflake\\snowpark\\session.py:1891: UserWarning: Pandas Dataframe has non-standard index of type <class 'pandas.core.indexes.numeric.Int64Index'> which will not be written. Consider changing the index to pd.RangeIndex(start=0,...,step=1) or call reset_index() to keep index as column(s)\n",
      "  success, nchunks, nrows, ci_output = write_pandas(\n"
     ]
    },
    {
     "name": "stdout",
     "output_type": "stream",
     "text": [
      "457297 values inserted into table SCHEDULE_RCI\n"
     ]
    },
    {
     "name": "stderr",
     "output_type": "stream",
     "text": [
      "C:\\Users\\whill\\anaconda3\\lib\\site-packages\\snowflake\\snowpark\\session.py:1891: UserWarning: Pandas Dataframe has non-standard index of type <class 'pandas.core.indexes.numeric.Int64Index'> which will not be written. Consider changing the index to pd.RangeIndex(start=0,...,step=1) or call reset_index() to keep index as column(s)\n",
      "  success, nchunks, nrows, ci_output = write_pandas(\n"
     ]
    },
    {
     "name": "stdout",
     "output_type": "stream",
     "text": [
      "457297 values inserted into table SCHEDULE_RCR\n"
     ]
    },
    {
     "name": "stderr",
     "output_type": "stream",
     "text": [
      "C:\\Users\\whill\\anaconda3\\lib\\site-packages\\snowflake\\snowpark\\session.py:1891: UserWarning: Pandas Dataframe has non-standard index of type <class 'pandas.core.indexes.numeric.Int64Index'> which will not be written. Consider changing the index to pd.RangeIndex(start=0,...,step=1) or call reset_index() to keep index as column(s)\n",
      "  success, nchunks, nrows, ci_output = write_pandas(\n"
     ]
    },
    {
     "name": "stdout",
     "output_type": "stream",
     "text": [
      "457297 values inserted into table SCHEDULE_RI\n"
     ]
    },
    {
     "name": "stderr",
     "output_type": "stream",
     "text": [
      "C:\\Users\\whill\\anaconda3\\lib\\site-packages\\snowflake\\snowpark\\session.py:1891: UserWarning: Pandas Dataframe has non-standard index of type <class 'pandas.core.indexes.numeric.Int64Index'> which will not be written. Consider changing the index to pd.RangeIndex(start=0,...,step=1) or call reset_index() to keep index as column(s)\n",
      "  success, nchunks, nrows, ci_output = write_pandas(\n"
     ]
    },
    {
     "name": "stdout",
     "output_type": "stream",
     "text": [
      "457297 values inserted into table SCHEDULE_RID\n"
     ]
    },
    {
     "name": "stderr",
     "output_type": "stream",
     "text": [
      "C:\\Users\\whill\\anaconda3\\lib\\site-packages\\snowflake\\snowpark\\session.py:1891: UserWarning: Pandas Dataframe has non-standard index of type <class 'pandas.core.indexes.numeric.Int64Index'> which will not be written. Consider changing the index to pd.RangeIndex(start=0,...,step=1) or call reset_index() to keep index as column(s)\n",
      "  success, nchunks, nrows, ci_output = write_pandas(\n"
     ]
    },
    {
     "name": "stdout",
     "output_type": "stream",
     "text": [
      "457297 values inserted into table SCHEDULE_RIE\n"
     ]
    },
    {
     "name": "stderr",
     "output_type": "stream",
     "text": [
      "C:\\Users\\whill\\anaconda3\\lib\\site-packages\\snowflake\\snowpark\\session.py:1891: UserWarning: Pandas Dataframe has non-standard index of type <class 'pandas.core.indexes.numeric.Int64Index'> which will not be written. Consider changing the index to pd.RangeIndex(start=0,...,step=1) or call reset_index() to keep index as column(s)\n",
      "  success, nchunks, nrows, ci_output = write_pandas(\n"
     ]
    },
    {
     "name": "stdout",
     "output_type": "stream",
     "text": [
      "457297 values inserted into table SCHEDULE_RIA\n"
     ]
    },
    {
     "name": "stderr",
     "output_type": "stream",
     "text": [
      "C:\\Users\\whill\\anaconda3\\lib\\site-packages\\snowflake\\snowpark\\session.py:1891: UserWarning: Pandas Dataframe has non-standard index of type <class 'pandas.core.indexes.numeric.Int64Index'> which will not be written. Consider changing the index to pd.RangeIndex(start=0,...,step=1) or call reset_index() to keep index as column(s)\n",
      "  success, nchunks, nrows, ci_output = write_pandas(\n"
     ]
    },
    {
     "name": "stdout",
     "output_type": "stream",
     "text": [
      "457297 values inserted into table SCHEDULE_UNDEFINED\n"
     ]
    },
    {
     "name": "stderr",
     "output_type": "stream",
     "text": [
      "C:\\Users\\whill\\anaconda3\\lib\\site-packages\\snowflake\\snowpark\\session.py:1891: UserWarning: Pandas Dataframe has non-standard index of type <class 'pandas.core.indexes.numeric.Int64Index'> which will not be written. Consider changing the index to pd.RangeIndex(start=0,...,step=1) or call reset_index() to keep index as column(s)\n",
      "  success, nchunks, nrows, ci_output = write_pandas(\n"
     ]
    },
    {
     "name": "stdout",
     "output_type": "stream",
     "text": [
      "457297 values inserted into table SCHEDULE_RCK\n"
     ]
    },
    {
     "name": "stderr",
     "output_type": "stream",
     "text": [
      "C:\\Users\\whill\\anaconda3\\lib\\site-packages\\snowflake\\snowpark\\session.py:1891: UserWarning: Pandas Dataframe has non-standard index of type <class 'pandas.core.indexes.numeric.Int64Index'> which will not be written. Consider changing the index to pd.RangeIndex(start=0,...,step=1) or call reset_index() to keep index as column(s)\n",
      "  success, nchunks, nrows, ci_output = write_pandas(\n"
     ]
    },
    {
     "name": "stdout",
     "output_type": "stream",
     "text": [
      "457297 values inserted into table SCHEDULE_ENT\n"
     ]
    },
    {
     "name": "stderr",
     "output_type": "stream",
     "text": [
      "C:\\Users\\whill\\anaconda3\\lib\\site-packages\\snowflake\\snowpark\\session.py:1891: UserWarning: Pandas Dataframe has non-standard index of type <class 'pandas.core.indexes.numeric.Int64Index'> which will not be written. Consider changing the index to pd.RangeIndex(start=0,...,step=1) or call reset_index() to keep index as column(s)\n",
      "  success, nchunks, nrows, ci_output = write_pandas(\n"
     ]
    },
    {
     "name": "stdout",
     "output_type": "stream",
     "text": [
      "457297 values inserted into table SCHEDULE_NARR\n"
     ]
    },
    {
     "name": "stderr",
     "output_type": "stream",
     "text": [
      "C:\\Users\\whill\\anaconda3\\lib\\site-packages\\snowflake\\snowpark\\session.py:1891: UserWarning: Pandas Dataframe has non-standard index of type <class 'pandas.core.indexes.numeric.Int64Index'> which will not be written. Consider changing the index to pd.RangeIndex(start=0,...,step=1) or call reset_index() to keep index as column(s)\n",
      "  success, nchunks, nrows, ci_output = write_pandas(\n"
     ]
    },
    {
     "name": "stdout",
     "output_type": "stream",
     "text": [
      "457297 values inserted into table SCHEDULE_RCB\n"
     ]
    },
    {
     "name": "stderr",
     "output_type": "stream",
     "text": [
      "C:\\Users\\whill\\anaconda3\\lib\\site-packages\\snowflake\\snowpark\\session.py:1891: UserWarning: Pandas Dataframe has non-standard index of type <class 'pandas.core.indexes.numeric.Int64Index'> which will not be written. Consider changing the index to pd.RangeIndex(start=0,...,step=1) or call reset_index() to keep index as column(s)\n",
      "  success, nchunks, nrows, ci_output = write_pandas(\n"
     ]
    },
    {
     "name": "stdout",
     "output_type": "stream",
     "text": [
      "457297 values inserted into table SCHEDULE_RCEII\n"
     ]
    },
    {
     "name": "stderr",
     "output_type": "stream",
     "text": [
      "C:\\Users\\whill\\anaconda3\\lib\\site-packages\\snowflake\\snowpark\\session.py:1891: UserWarning: Pandas Dataframe has non-standard index of type <class 'pandas.core.indexes.numeric.Int64Index'> which will not be written. Consider changing the index to pd.RangeIndex(start=0,...,step=1) or call reset_index() to keep index as column(s)\n",
      "  success, nchunks, nrows, ci_output = write_pandas(\n"
     ]
    },
    {
     "name": "stdout",
     "output_type": "stream",
     "text": [
      "457297 values inserted into table SCHEDULE_RCG\n"
     ]
    },
    {
     "name": "stderr",
     "output_type": "stream",
     "text": [
      "C:\\Users\\whill\\anaconda3\\lib\\site-packages\\snowflake\\snowpark\\session.py:1891: UserWarning: Pandas Dataframe has non-standard index of type <class 'pandas.core.indexes.numeric.Int64Index'> which will not be written. Consider changing the index to pd.RangeIndex(start=0,...,step=1) or call reset_index() to keep index as column(s)\n",
      "  success, nchunks, nrows, ci_output = write_pandas(\n"
     ]
    },
    {
     "name": "stdout",
     "output_type": "stream",
     "text": [
      "457297 values inserted into table SCHEDULE_RCH\n"
     ]
    },
    {
     "name": "stderr",
     "output_type": "stream",
     "text": [
      "C:\\Users\\whill\\anaconda3\\lib\\site-packages\\snowflake\\snowpark\\session.py:1891: UserWarning: Pandas Dataframe has non-standard index of type <class 'pandas.core.indexes.numeric.Int64Index'> which will not be written. Consider changing the index to pd.RangeIndex(start=0,...,step=1) or call reset_index() to keep index as column(s)\n",
      "  success, nchunks, nrows, ci_output = write_pandas(\n"
     ]
    },
    {
     "name": "stdout",
     "output_type": "stream",
     "text": [
      "457297 values inserted into table SCHEDULE_RCN\n"
     ]
    },
    {
     "name": "stderr",
     "output_type": "stream",
     "text": [
      "C:\\Users\\whill\\anaconda3\\lib\\site-packages\\snowflake\\snowpark\\session.py:1891: UserWarning: Pandas Dataframe has non-standard index of type <class 'pandas.core.indexes.numeric.Int64Index'> which will not be written. Consider changing the index to pd.RangeIndex(start=0,...,step=1) or call reset_index() to keep index as column(s)\n",
      "  success, nchunks, nrows, ci_output = write_pandas(\n"
     ]
    },
    {
     "name": "stdout",
     "output_type": "stream",
     "text": [
      "457297 values inserted into table SCHEDULE_RCQ\n"
     ]
    },
    {
     "name": "stderr",
     "output_type": "stream",
     "text": [
      "C:\\Users\\whill\\anaconda3\\lib\\site-packages\\snowflake\\snowpark\\session.py:1891: UserWarning: Pandas Dataframe has non-standard index of type <class 'pandas.core.indexes.numeric.Int64Index'> which will not be written. Consider changing the index to pd.RangeIndex(start=0,...,step=1) or call reset_index() to keep index as column(s)\n",
      "  success, nchunks, nrows, ci_output = write_pandas(\n"
     ]
    },
    {
     "name": "stdout",
     "output_type": "stream",
     "text": [
      "457297 values inserted into table SCHEDULE_RCRII\n"
     ]
    },
    {
     "name": "stderr",
     "output_type": "stream",
     "text": [
      "C:\\Users\\whill\\anaconda3\\lib\\site-packages\\snowflake\\snowpark\\session.py:1891: UserWarning: Pandas Dataframe has non-standard index of type <class 'pandas.core.indexes.numeric.Int64Index'> which will not be written. Consider changing the index to pd.RangeIndex(start=0,...,step=1) or call reset_index() to keep index as column(s)\n",
      "  success, nchunks, nrows, ci_output = write_pandas(\n"
     ]
    },
    {
     "name": "stdout",
     "output_type": "stream",
     "text": [
      "457297 values inserted into table SCHEDULE_RIBI\n"
     ]
    },
    {
     "name": "stderr",
     "output_type": "stream",
     "text": [
      "C:\\Users\\whill\\anaconda3\\lib\\site-packages\\snowflake\\snowpark\\session.py:1891: UserWarning: Pandas Dataframe has non-standard index of type <class 'pandas.core.indexes.numeric.Int64Index'> which will not be written. Consider changing the index to pd.RangeIndex(start=0,...,step=1) or call reset_index() to keep index as column(s)\n",
      "  success, nchunks, nrows, ci_output = write_pandas(\n"
     ]
    },
    {
     "name": "stdout",
     "output_type": "stream",
     "text": [
      "457297 values inserted into table SCHEDULE_RCRI\n"
     ]
    },
    {
     "name": "stderr",
     "output_type": "stream",
     "text": [
      "C:\\Users\\whill\\anaconda3\\lib\\site-packages\\snowflake\\snowpark\\session.py:1891: UserWarning: Pandas Dataframe has non-standard index of type <class 'pandas.core.indexes.numeric.Int64Index'> which will not be written. Consider changing the index to pd.RangeIndex(start=0,...,step=1) or call reset_index() to keep index as column(s)\n",
      "  success, nchunks, nrows, ci_output = write_pandas(\n"
     ]
    },
    {
     "name": "stdout",
     "output_type": "stream",
     "text": [
      "457297 values inserted into table SCHEDULE_RCS\n"
     ]
    },
    {
     "name": "stderr",
     "output_type": "stream",
     "text": [
      "C:\\Users\\whill\\anaconda3\\lib\\site-packages\\snowflake\\snowpark\\session.py:1891: UserWarning: Pandas Dataframe has non-standard index of type <class 'pandas.core.indexes.numeric.Int64Index'> which will not be written. Consider changing the index to pd.RangeIndex(start=0,...,step=1) or call reset_index() to keep index as column(s)\n",
      "  success, nchunks, nrows, ci_output = write_pandas(\n"
     ]
    },
    {
     "name": "stdout",
     "output_type": "stream",
     "text": [
      "457297 values inserted into table SCHEDULE_RICII\n"
     ]
    },
    {
     "name": "stderr",
     "output_type": "stream",
     "text": [
      "C:\\Users\\whill\\anaconda3\\lib\\site-packages\\snowflake\\snowpark\\session.py:1891: UserWarning: Pandas Dataframe has non-standard index of type <class 'pandas.core.indexes.numeric.Int64Index'> which will not be written. Consider changing the index to pd.RangeIndex(start=0,...,step=1) or call reset_index() to keep index as column(s)\n",
      "  success, nchunks, nrows, ci_output = write_pandas(\n"
     ]
    },
    {
     "name": "stdout",
     "output_type": "stream",
     "text": [
      "457297 values inserted into table SCHEDULE_RCA\n"
     ]
    },
    {
     "name": "stderr",
     "output_type": "stream",
     "text": [
      "C:\\Users\\whill\\anaconda3\\lib\\site-packages\\snowflake\\snowpark\\session.py:1891: UserWarning: Pandas Dataframe has non-standard index of type <class 'pandas.core.indexes.numeric.Int64Index'> which will not be written. Consider changing the index to pd.RangeIndex(start=0,...,step=1) or call reset_index() to keep index as column(s)\n",
      "  success, nchunks, nrows, ci_output = write_pandas(\n"
     ]
    },
    {
     "name": "stdout",
     "output_type": "stream",
     "text": [
      "457297 values inserted into table SCHEDULE_RICI\n",
      "C:\\Users\\whill\\call-report-database\\Bulk_Files\\2013\\06_30\\FFIEC CDR Call Schedule CI 06302013.txt\n",
      "C:\\Users\\whill\\call-report-database\\Bulk_Files\\2013\\06_30\\FFIEC CDR Call Schedule ENT 06302013.txt\n",
      "C:\\Users\\whill\\call-report-database\\Bulk_Files\\2013\\06_30\\FFIEC CDR Call Schedule NARR 06302013.txt\n",
      "C:\\Users\\whill\\call-report-database\\Bulk_Files\\2013\\06_30\\FFIEC CDR Call Schedule RC 06302013.txt\n",
      "C:\\Users\\whill\\call-report-database\\Bulk_Files\\2013\\06_30\\FFIEC CDR Call Schedule RCA 06302013.txt\n",
      "C:\\Users\\whill\\call-report-database\\Bulk_Files\\2013\\06_30\\FFIEC CDR Call Schedule RCB 06302013(1 of 2).txt\n",
      "C:\\Users\\whill\\call-report-database\\Bulk_Files\\2013\\06_30\\FFIEC CDR Call Schedule RCB 06302013(2 of 2).txt\n",
      "C:\\Users\\whill\\call-report-database\\Bulk_Files\\2013\\06_30\\FFIEC CDR Call Schedule RCCI 06302013.txt\n",
      "C:\\Users\\whill\\call-report-database\\Bulk_Files\\2013\\06_30\\FFIEC CDR Call Schedule RCCII 06302013.txt\n",
      "C:\\Users\\whill\\call-report-database\\Bulk_Files\\2013\\06_30\\FFIEC CDR Call Schedule RCD 06302013.txt\n",
      "C:\\Users\\whill\\call-report-database\\Bulk_Files\\2013\\06_30\\FFIEC CDR Call Schedule RCE 06302013.txt\n",
      "C:\\Users\\whill\\call-report-database\\Bulk_Files\\2013\\06_30\\FFIEC CDR Call Schedule RCEI 06302013.txt\n",
      "C:\\Users\\whill\\call-report-database\\Bulk_Files\\2013\\06_30\\FFIEC CDR Call Schedule RCEII 06302013.txt\n",
      "C:\\Users\\whill\\call-report-database\\Bulk_Files\\2013\\06_30\\FFIEC CDR Call Schedule RCF 06302013.txt\n",
      "C:\\Users\\whill\\call-report-database\\Bulk_Files\\2013\\06_30\\FFIEC CDR Call Schedule RCG 06302013.txt\n",
      "C:\\Users\\whill\\call-report-database\\Bulk_Files\\2013\\06_30\\FFIEC CDR Call Schedule RCH 06302013.txt\n",
      "C:\\Users\\whill\\call-report-database\\Bulk_Files\\2013\\06_30\\FFIEC CDR Call Schedule RCI 06302013.txt\n",
      "C:\\Users\\whill\\call-report-database\\Bulk_Files\\2013\\06_30\\FFIEC CDR Call Schedule RCK 06302013.txt\n",
      "C:\\Users\\whill\\call-report-database\\Bulk_Files\\2013\\06_30\\FFIEC CDR Call Schedule RCL 06302013(1 of 2).txt\n",
      "C:\\Users\\whill\\call-report-database\\Bulk_Files\\2013\\06_30\\FFIEC CDR Call Schedule RCL 06302013(2 of 2).txt\n",
      "C:\\Users\\whill\\call-report-database\\Bulk_Files\\2013\\06_30\\FFIEC CDR Call Schedule RCM 06302013.txt\n",
      "C:\\Users\\whill\\call-report-database\\Bulk_Files\\2013\\06_30\\FFIEC CDR Call Schedule RCN 06302013(1 of 2).txt\n",
      "C:\\Users\\whill\\call-report-database\\Bulk_Files\\2013\\06_30\\FFIEC CDR Call Schedule RCN 06302013(2 of 2).txt\n",
      "C:\\Users\\whill\\call-report-database\\Bulk_Files\\2013\\06_30\\FFIEC CDR Call Schedule RCO 06302013(1 of 2).txt\n",
      "C:\\Users\\whill\\call-report-database\\Bulk_Files\\2013\\06_30\\FFIEC CDR Call Schedule RCO 06302013(2 of 2).txt\n",
      "C:\\Users\\whill\\call-report-database\\Bulk_Files\\2013\\06_30\\FFIEC CDR Call Schedule RCP 06302013.txt\n",
      "C:\\Users\\whill\\call-report-database\\Bulk_Files\\2013\\06_30\\FFIEC CDR Call Schedule RCQ 06302013(1 of 2).txt\n",
      "C:\\Users\\whill\\call-report-database\\Bulk_Files\\2013\\06_30\\FFIEC CDR Call Schedule RCQ 06302013(2 of 2).txt\n",
      "C:\\Users\\whill\\call-report-database\\Bulk_Files\\2013\\06_30\\FFIEC CDR Call Schedule RCR 06302013(1 of 2).txt\n",
      "C:\\Users\\whill\\call-report-database\\Bulk_Files\\2013\\06_30\\FFIEC CDR Call Schedule RCR 06302013(2 of 2).txt\n",
      "C:\\Users\\whill\\call-report-database\\Bulk_Files\\2013\\06_30\\FFIEC CDR Call Schedule RCS 06302013.txt\n",
      "C:\\Users\\whill\\call-report-database\\Bulk_Files\\2013\\06_30\\FFIEC CDR Call Schedule RCT 06302013(1 of 2).txt\n",
      "C:\\Users\\whill\\call-report-database\\Bulk_Files\\2013\\06_30\\FFIEC CDR Call Schedule RCT 06302013(2 of 2).txt\n",
      "C:\\Users\\whill\\call-report-database\\Bulk_Files\\2013\\06_30\\FFIEC CDR Call Schedule RCV 06302013.txt\n",
      "C:\\Users\\whill\\call-report-database\\Bulk_Files\\2013\\06_30\\FFIEC CDR Call Schedule RI 06302013.txt\n",
      "C:\\Users\\whill\\call-report-database\\Bulk_Files\\2013\\06_30\\FFIEC CDR Call Schedule RIA 06302013.txt\n",
      "C:\\Users\\whill\\call-report-database\\Bulk_Files\\2013\\06_30\\FFIEC CDR Call Schedule RIBI 06302013.txt\n",
      "C:\\Users\\whill\\call-report-database\\Bulk_Files\\2013\\06_30\\FFIEC CDR Call Schedule RIBII 06302013.txt\n",
      "C:\\Users\\whill\\call-report-database\\Bulk_Files\\2013\\06_30\\FFIEC CDR Call Schedule RIC 06302013.txt\n",
      "C:\\Users\\whill\\call-report-database\\Bulk_Files\\2013\\06_30\\FFIEC CDR Call Schedule RID 06302013.txt\n",
      "C:\\Users\\whill\\call-report-database\\Bulk_Files\\2013\\06_30\\FFIEC CDR Call Schedule RIE 06302013.txt\n"
     ]
    },
    {
     "name": "stderr",
     "output_type": "stream",
     "text": [
      "C:\\Users\\whill\\anaconda3\\lib\\site-packages\\snowflake\\snowpark\\session.py:1891: UserWarning: Pandas Dataframe has non-standard index of type <class 'pandas.core.indexes.numeric.Int64Index'> which will not be written. Consider changing the index to pd.RangeIndex(start=0,...,step=1) or call reset_index() to keep index as column(s)\n",
      "  success, nchunks, nrows, ci_output = write_pandas(\n"
     ]
    },
    {
     "name": "stdout",
     "output_type": "stream",
     "text": [
      "464302 values inserted into table SCHEDULE_LEO\n"
     ]
    },
    {
     "name": "stderr",
     "output_type": "stream",
     "text": [
      "C:\\Users\\whill\\anaconda3\\lib\\site-packages\\snowflake\\snowpark\\session.py:1891: UserWarning: Pandas Dataframe has non-standard index of type <class 'pandas.core.indexes.numeric.Int64Index'> which will not be written. Consider changing the index to pd.RangeIndex(start=0,...,step=1) or call reset_index() to keep index as column(s)\n",
      "  success, nchunks, nrows, ci_output = write_pandas(\n"
     ]
    },
    {
     "name": "stdout",
     "output_type": "stream",
     "text": [
      "464302 values inserted into table SCHEDULE_RCI\n"
     ]
    },
    {
     "name": "stderr",
     "output_type": "stream",
     "text": [
      "C:\\Users\\whill\\anaconda3\\lib\\site-packages\\snowflake\\snowpark\\session.py:1891: UserWarning: Pandas Dataframe has non-standard index of type <class 'pandas.core.indexes.numeric.Int64Index'> which will not be written. Consider changing the index to pd.RangeIndex(start=0,...,step=1) or call reset_index() to keep index as column(s)\n",
      "  success, nchunks, nrows, ci_output = write_pandas(\n"
     ]
    },
    {
     "name": "stdout",
     "output_type": "stream",
     "text": [
      "464302 values inserted into table SCHEDULE_RCN\n"
     ]
    },
    {
     "name": "stderr",
     "output_type": "stream",
     "text": [
      "C:\\Users\\whill\\anaconda3\\lib\\site-packages\\snowflake\\snowpark\\session.py:1891: UserWarning: Pandas Dataframe has non-standard index of type <class 'pandas.core.indexes.numeric.Int64Index'> which will not be written. Consider changing the index to pd.RangeIndex(start=0,...,step=1) or call reset_index() to keep index as column(s)\n",
      "  success, nchunks, nrows, ci_output = write_pandas(\n"
     ]
    },
    {
     "name": "stdout",
     "output_type": "stream",
     "text": [
      "464302 values inserted into table SCHEDULE_RCQ\n"
     ]
    },
    {
     "name": "stderr",
     "output_type": "stream",
     "text": [
      "C:\\Users\\whill\\anaconda3\\lib\\site-packages\\snowflake\\snowpark\\session.py:1891: UserWarning: Pandas Dataframe has non-standard index of type <class 'pandas.core.indexes.numeric.Int64Index'> which will not be written. Consider changing the index to pd.RangeIndex(start=0,...,step=1) or call reset_index() to keep index as column(s)\n",
      "  success, nchunks, nrows, ci_output = write_pandas(\n"
     ]
    },
    {
     "name": "stdout",
     "output_type": "stream",
     "text": [
      "464302 values inserted into table SCHEDULE_UNDEFINED\n"
     ]
    },
    {
     "name": "stderr",
     "output_type": "stream",
     "text": [
      "C:\\Users\\whill\\anaconda3\\lib\\site-packages\\snowflake\\snowpark\\session.py:1891: UserWarning: Pandas Dataframe has non-standard index of type <class 'pandas.core.indexes.numeric.Int64Index'> which will not be written. Consider changing the index to pd.RangeIndex(start=0,...,step=1) or call reset_index() to keep index as column(s)\n",
      "  success, nchunks, nrows, ci_output = write_pandas(\n"
     ]
    },
    {
     "name": "stdout",
     "output_type": "stream",
     "text": [
      "464302 values inserted into table SCHEDULE_RCG\n"
     ]
    },
    {
     "name": "stderr",
     "output_type": "stream",
     "text": [
      "C:\\Users\\whill\\anaconda3\\lib\\site-packages\\snowflake\\snowpark\\session.py:1891: UserWarning: Pandas Dataframe has non-standard index of type <class 'pandas.core.indexes.numeric.Int64Index'> which will not be written. Consider changing the index to pd.RangeIndex(start=0,...,step=1) or call reset_index() to keep index as column(s)\n",
      "  success, nchunks, nrows, ci_output = write_pandas(\n"
     ]
    },
    {
     "name": "stdout",
     "output_type": "stream",
     "text": [
      "464302 values inserted into table SCHEDULE_RCO\n"
     ]
    },
    {
     "name": "stderr",
     "output_type": "stream",
     "text": [
      "C:\\Users\\whill\\anaconda3\\lib\\site-packages\\snowflake\\snowpark\\session.py:1891: UserWarning: Pandas Dataframe has non-standard index of type <class 'pandas.core.indexes.numeric.Int64Index'> which will not be written. Consider changing the index to pd.RangeIndex(start=0,...,step=1) or call reset_index() to keep index as column(s)\n",
      "  success, nchunks, nrows, ci_output = write_pandas(\n"
     ]
    },
    {
     "name": "stdout",
     "output_type": "stream",
     "text": [
      "464302 values inserted into table SCHEDULE_RCP\n"
     ]
    },
    {
     "name": "stderr",
     "output_type": "stream",
     "text": [
      "C:\\Users\\whill\\anaconda3\\lib\\site-packages\\snowflake\\snowpark\\session.py:1891: UserWarning: Pandas Dataframe has non-standard index of type <class 'pandas.core.indexes.numeric.Int64Index'> which will not be written. Consider changing the index to pd.RangeIndex(start=0,...,step=1) or call reset_index() to keep index as column(s)\n",
      "  success, nchunks, nrows, ci_output = write_pandas(\n"
     ]
    },
    {
     "name": "stdout",
     "output_type": "stream",
     "text": [
      "464302 values inserted into table SCHEDULE_RCT\n"
     ]
    },
    {
     "name": "stderr",
     "output_type": "stream",
     "text": [
      "C:\\Users\\whill\\anaconda3\\lib\\site-packages\\snowflake\\snowpark\\session.py:1891: UserWarning: Pandas Dataframe has non-standard index of type <class 'pandas.core.indexes.numeric.Int64Index'> which will not be written. Consider changing the index to pd.RangeIndex(start=0,...,step=1) or call reset_index() to keep index as column(s)\n",
      "  success, nchunks, nrows, ci_output = write_pandas(\n"
     ]
    },
    {
     "name": "stdout",
     "output_type": "stream",
     "text": [
      "464302 values inserted into table SCHEDULE_RIBII\n"
     ]
    },
    {
     "name": "stderr",
     "output_type": "stream",
     "text": [
      "C:\\Users\\whill\\anaconda3\\lib\\site-packages\\snowflake\\snowpark\\session.py:1891: UserWarning: Pandas Dataframe has non-standard index of type <class 'pandas.core.indexes.numeric.Int64Index'> which will not be written. Consider changing the index to pd.RangeIndex(start=0,...,step=1) or call reset_index() to keep index as column(s)\n",
      "  success, nchunks, nrows, ci_output = write_pandas(\n"
     ]
    },
    {
     "name": "stdout",
     "output_type": "stream",
     "text": [
      "464302 values inserted into table SCHEDULE_RICI\n"
     ]
    },
    {
     "name": "stderr",
     "output_type": "stream",
     "text": [
      "C:\\Users\\whill\\anaconda3\\lib\\site-packages\\snowflake\\snowpark\\session.py:1891: UserWarning: Pandas Dataframe has non-standard index of type <class 'pandas.core.indexes.numeric.Int64Index'> which will not be written. Consider changing the index to pd.RangeIndex(start=0,...,step=1) or call reset_index() to keep index as column(s)\n",
      "  success, nchunks, nrows, ci_output = write_pandas(\n"
     ]
    },
    {
     "name": "stdout",
     "output_type": "stream",
     "text": [
      "464302 values inserted into table SCHEDULE_RICII\n"
     ]
    },
    {
     "name": "stderr",
     "output_type": "stream",
     "text": [
      "C:\\Users\\whill\\anaconda3\\lib\\site-packages\\snowflake\\snowpark\\session.py:1891: UserWarning: Pandas Dataframe has non-standard index of type <class 'pandas.core.indexes.numeric.Int64Index'> which will not be written. Consider changing the index to pd.RangeIndex(start=0,...,step=1) or call reset_index() to keep index as column(s)\n",
      "  success, nchunks, nrows, ci_output = write_pandas(\n"
     ]
    },
    {
     "name": "stdout",
     "output_type": "stream",
     "text": [
      "464302 values inserted into table SCHEDULE_RCB\n"
     ]
    },
    {
     "name": "stderr",
     "output_type": "stream",
     "text": [
      "C:\\Users\\whill\\anaconda3\\lib\\site-packages\\snowflake\\snowpark\\session.py:1891: UserWarning: Pandas Dataframe has non-standard index of type <class 'pandas.core.indexes.numeric.Int64Index'> which will not be written. Consider changing the index to pd.RangeIndex(start=0,...,step=1) or call reset_index() to keep index as column(s)\n",
      "  success, nchunks, nrows, ci_output = write_pandas(\n"
     ]
    },
    {
     "name": "stdout",
     "output_type": "stream",
     "text": [
      "464302 values inserted into table SCHEDULE_RI\n"
     ]
    },
    {
     "name": "stderr",
     "output_type": "stream",
     "text": [
      "C:\\Users\\whill\\anaconda3\\lib\\site-packages\\snowflake\\snowpark\\session.py:1891: UserWarning: Pandas Dataframe has non-standard index of type <class 'pandas.core.indexes.numeric.Int64Index'> which will not be written. Consider changing the index to pd.RangeIndex(start=0,...,step=1) or call reset_index() to keep index as column(s)\n",
      "  success, nchunks, nrows, ci_output = write_pandas(\n"
     ]
    },
    {
     "name": "stdout",
     "output_type": "stream",
     "text": [
      "464302 values inserted into table SCHEDULE_RID\n"
     ]
    },
    {
     "name": "stderr",
     "output_type": "stream",
     "text": [
      "C:\\Users\\whill\\anaconda3\\lib\\site-packages\\snowflake\\snowpark\\session.py:1891: UserWarning: Pandas Dataframe has non-standard index of type <class 'pandas.core.indexes.numeric.Int64Index'> which will not be written. Consider changing the index to pd.RangeIndex(start=0,...,step=1) or call reset_index() to keep index as column(s)\n",
      "  success, nchunks, nrows, ci_output = write_pandas(\n"
     ]
    },
    {
     "name": "stdout",
     "output_type": "stream",
     "text": [
      "464302 values inserted into table SCHEDULE_RCV\n"
     ]
    },
    {
     "name": "stderr",
     "output_type": "stream",
     "text": [
      "C:\\Users\\whill\\anaconda3\\lib\\site-packages\\snowflake\\snowpark\\session.py:1891: UserWarning: Pandas Dataframe has non-standard index of type <class 'pandas.core.indexes.numeric.Int64Index'> which will not be written. Consider changing the index to pd.RangeIndex(start=0,...,step=1) or call reset_index() to keep index as column(s)\n",
      "  success, nchunks, nrows, ci_output = write_pandas(\n"
     ]
    },
    {
     "name": "stdout",
     "output_type": "stream",
     "text": [
      "464302 values inserted into table SCHEDULE_NARR\n"
     ]
    },
    {
     "name": "stderr",
     "output_type": "stream",
     "text": [
      "C:\\Users\\whill\\anaconda3\\lib\\site-packages\\snowflake\\snowpark\\session.py:1891: UserWarning: Pandas Dataframe has non-standard index of type <class 'pandas.core.indexes.numeric.Int64Index'> which will not be written. Consider changing the index to pd.RangeIndex(start=0,...,step=1) or call reset_index() to keep index as column(s)\n",
      "  success, nchunks, nrows, ci_output = write_pandas(\n"
     ]
    },
    {
     "name": "stdout",
     "output_type": "stream",
     "text": [
      "464302 values inserted into table SCHEDULE_RC\n"
     ]
    },
    {
     "name": "stderr",
     "output_type": "stream",
     "text": [
      "C:\\Users\\whill\\anaconda3\\lib\\site-packages\\snowflake\\snowpark\\session.py:1891: UserWarning: Pandas Dataframe has non-standard index of type <class 'pandas.core.indexes.numeric.Int64Index'> which will not be written. Consider changing the index to pd.RangeIndex(start=0,...,step=1) or call reset_index() to keep index as column(s)\n",
      "  success, nchunks, nrows, ci_output = write_pandas(\n"
     ]
    },
    {
     "name": "stdout",
     "output_type": "stream",
     "text": [
      "464302 values inserted into table SCHEDULE_RCEI\n"
     ]
    },
    {
     "name": "stderr",
     "output_type": "stream",
     "text": [
      "C:\\Users\\whill\\anaconda3\\lib\\site-packages\\snowflake\\snowpark\\session.py:1891: UserWarning: Pandas Dataframe has non-standard index of type <class 'pandas.core.indexes.numeric.Int64Index'> which will not be written. Consider changing the index to pd.RangeIndex(start=0,...,step=1) or call reset_index() to keep index as column(s)\n",
      "  success, nchunks, nrows, ci_output = write_pandas(\n"
     ]
    },
    {
     "name": "stdout",
     "output_type": "stream",
     "text": [
      "464302 values inserted into table SCHEDULE_RCH\n"
     ]
    },
    {
     "name": "stderr",
     "output_type": "stream",
     "text": [
      "C:\\Users\\whill\\anaconda3\\lib\\site-packages\\snowflake\\snowpark\\session.py:1891: UserWarning: Pandas Dataframe has non-standard index of type <class 'pandas.core.indexes.numeric.Int64Index'> which will not be written. Consider changing the index to pd.RangeIndex(start=0,...,step=1) or call reset_index() to keep index as column(s)\n",
      "  success, nchunks, nrows, ci_output = write_pandas(\n"
     ]
    },
    {
     "name": "stdout",
     "output_type": "stream",
     "text": [
      "464302 values inserted into table SCHEDULE_RCL\n"
     ]
    },
    {
     "name": "stderr",
     "output_type": "stream",
     "text": [
      "C:\\Users\\whill\\anaconda3\\lib\\site-packages\\snowflake\\snowpark\\session.py:1891: UserWarning: Pandas Dataframe has non-standard index of type <class 'pandas.core.indexes.numeric.Int64Index'> which will not be written. Consider changing the index to pd.RangeIndex(start=0,...,step=1) or call reset_index() to keep index as column(s)\n",
      "  success, nchunks, nrows, ci_output = write_pandas(\n"
     ]
    },
    {
     "name": "stdout",
     "output_type": "stream",
     "text": [
      "464302 values inserted into table SCHEDULE_RCR\n"
     ]
    },
    {
     "name": "stderr",
     "output_type": "stream",
     "text": [
      "C:\\Users\\whill\\anaconda3\\lib\\site-packages\\snowflake\\snowpark\\session.py:1891: UserWarning: Pandas Dataframe has non-standard index of type <class 'pandas.core.indexes.numeric.Int64Index'> which will not be written. Consider changing the index to pd.RangeIndex(start=0,...,step=1) or call reset_index() to keep index as column(s)\n",
      "  success, nchunks, nrows, ci_output = write_pandas(\n"
     ]
    },
    {
     "name": "stdout",
     "output_type": "stream",
     "text": [
      "464302 values inserted into table SCHEDULE_RCRI\n"
     ]
    },
    {
     "name": "stderr",
     "output_type": "stream",
     "text": [
      "C:\\Users\\whill\\anaconda3\\lib\\site-packages\\snowflake\\snowpark\\session.py:1891: UserWarning: Pandas Dataframe has non-standard index of type <class 'pandas.core.indexes.numeric.Int64Index'> which will not be written. Consider changing the index to pd.RangeIndex(start=0,...,step=1) or call reset_index() to keep index as column(s)\n",
      "  success, nchunks, nrows, ci_output = write_pandas(\n"
     ]
    },
    {
     "name": "stdout",
     "output_type": "stream",
     "text": [
      "464302 values inserted into table SCHEDULE_RCRII\n"
     ]
    },
    {
     "name": "stderr",
     "output_type": "stream",
     "text": [
      "C:\\Users\\whill\\anaconda3\\lib\\site-packages\\snowflake\\snowpark\\session.py:1891: UserWarning: Pandas Dataframe has non-standard index of type <class 'pandas.core.indexes.numeric.Int64Index'> which will not be written. Consider changing the index to pd.RangeIndex(start=0,...,step=1) or call reset_index() to keep index as column(s)\n",
      "  success, nchunks, nrows, ci_output = write_pandas(\n"
     ]
    },
    {
     "name": "stdout",
     "output_type": "stream",
     "text": [
      "464302 values inserted into table SCHEDULE_RIA\n"
     ]
    },
    {
     "name": "stderr",
     "output_type": "stream",
     "text": [
      "C:\\Users\\whill\\anaconda3\\lib\\site-packages\\snowflake\\snowpark\\session.py:1891: UserWarning: Pandas Dataframe has non-standard index of type <class 'pandas.core.indexes.numeric.Int64Index'> which will not be written. Consider changing the index to pd.RangeIndex(start=0,...,step=1) or call reset_index() to keep index as column(s)\n",
      "  success, nchunks, nrows, ci_output = write_pandas(\n"
     ]
    },
    {
     "name": "stdout",
     "output_type": "stream",
     "text": [
      "464302 values inserted into table SCHEDULE_RIBI\n"
     ]
    },
    {
     "name": "stderr",
     "output_type": "stream",
     "text": [
      "C:\\Users\\whill\\anaconda3\\lib\\site-packages\\snowflake\\snowpark\\session.py:1891: UserWarning: Pandas Dataframe has non-standard index of type <class 'pandas.core.indexes.numeric.Int64Index'> which will not be written. Consider changing the index to pd.RangeIndex(start=0,...,step=1) or call reset_index() to keep index as column(s)\n",
      "  success, nchunks, nrows, ci_output = write_pandas(\n"
     ]
    },
    {
     "name": "stdout",
     "output_type": "stream",
     "text": [
      "464302 values inserted into table SCHEDULE_SU\n"
     ]
    },
    {
     "name": "stderr",
     "output_type": "stream",
     "text": [
      "C:\\Users\\whill\\anaconda3\\lib\\site-packages\\snowflake\\snowpark\\session.py:1891: UserWarning: Pandas Dataframe has non-standard index of type <class 'pandas.core.indexes.numeric.Int64Index'> which will not be written. Consider changing the index to pd.RangeIndex(start=0,...,step=1) or call reset_index() to keep index as column(s)\n",
      "  success, nchunks, nrows, ci_output = write_pandas(\n"
     ]
    },
    {
     "name": "stdout",
     "output_type": "stream",
     "text": [
      "464302 values inserted into table SCHEDULE_RCE\n"
     ]
    },
    {
     "name": "stderr",
     "output_type": "stream",
     "text": [
      "C:\\Users\\whill\\anaconda3\\lib\\site-packages\\snowflake\\snowpark\\session.py:1891: UserWarning: Pandas Dataframe has non-standard index of type <class 'pandas.core.indexes.numeric.Int64Index'> which will not be written. Consider changing the index to pd.RangeIndex(start=0,...,step=1) or call reset_index() to keep index as column(s)\n",
      "  success, nchunks, nrows, ci_output = write_pandas(\n"
     ]
    },
    {
     "name": "stdout",
     "output_type": "stream",
     "text": [
      "464302 values inserted into table SCHEDULE_ENT\n"
     ]
    },
    {
     "name": "stderr",
     "output_type": "stream",
     "text": [
      "C:\\Users\\whill\\anaconda3\\lib\\site-packages\\snowflake\\snowpark\\session.py:1891: UserWarning: Pandas Dataframe has non-standard index of type <class 'pandas.core.indexes.numeric.Int64Index'> which will not be written. Consider changing the index to pd.RangeIndex(start=0,...,step=1) or call reset_index() to keep index as column(s)\n",
      "  success, nchunks, nrows, ci_output = write_pandas(\n"
     ]
    },
    {
     "name": "stdout",
     "output_type": "stream",
     "text": [
      "464302 values inserted into table SCHEDULE_RCCII\n"
     ]
    },
    {
     "name": "stderr",
     "output_type": "stream",
     "text": [
      "C:\\Users\\whill\\anaconda3\\lib\\site-packages\\snowflake\\snowpark\\session.py:1891: UserWarning: Pandas Dataframe has non-standard index of type <class 'pandas.core.indexes.numeric.Int64Index'> which will not be written. Consider changing the index to pd.RangeIndex(start=0,...,step=1) or call reset_index() to keep index as column(s)\n",
      "  success, nchunks, nrows, ci_output = write_pandas(\n"
     ]
    },
    {
     "name": "stdout",
     "output_type": "stream",
     "text": [
      "464302 values inserted into table SCHEDULE_RCD\n"
     ]
    },
    {
     "name": "stderr",
     "output_type": "stream",
     "text": [
      "C:\\Users\\whill\\anaconda3\\lib\\site-packages\\snowflake\\snowpark\\session.py:1891: UserWarning: Pandas Dataframe has non-standard index of type <class 'pandas.core.indexes.numeric.Int64Index'> which will not be written. Consider changing the index to pd.RangeIndex(start=0,...,step=1) or call reset_index() to keep index as column(s)\n",
      "  success, nchunks, nrows, ci_output = write_pandas(\n"
     ]
    },
    {
     "name": "stdout",
     "output_type": "stream",
     "text": [
      "464302 values inserted into table SCHEDULE_RCEII\n"
     ]
    },
    {
     "name": "stderr",
     "output_type": "stream",
     "text": [
      "C:\\Users\\whill\\anaconda3\\lib\\site-packages\\snowflake\\snowpark\\session.py:1891: UserWarning: Pandas Dataframe has non-standard index of type <class 'pandas.core.indexes.numeric.Int64Index'> which will not be written. Consider changing the index to pd.RangeIndex(start=0,...,step=1) or call reset_index() to keep index as column(s)\n",
      "  success, nchunks, nrows, ci_output = write_pandas(\n"
     ]
    },
    {
     "name": "stdout",
     "output_type": "stream",
     "text": [
      "464302 values inserted into table SCHEDULE_RCF\n"
     ]
    },
    {
     "name": "stderr",
     "output_type": "stream",
     "text": [
      "C:\\Users\\whill\\anaconda3\\lib\\site-packages\\snowflake\\snowpark\\session.py:1891: UserWarning: Pandas Dataframe has non-standard index of type <class 'pandas.core.indexes.numeric.Int64Index'> which will not be written. Consider changing the index to pd.RangeIndex(start=0,...,step=1) or call reset_index() to keep index as column(s)\n",
      "  success, nchunks, nrows, ci_output = write_pandas(\n"
     ]
    },
    {
     "name": "stdout",
     "output_type": "stream",
     "text": [
      "464302 values inserted into table SCHEDULE_RCK\n"
     ]
    },
    {
     "name": "stderr",
     "output_type": "stream",
     "text": [
      "C:\\Users\\whill\\anaconda3\\lib\\site-packages\\snowflake\\snowpark\\session.py:1891: UserWarning: Pandas Dataframe has non-standard index of type <class 'pandas.core.indexes.numeric.Int64Index'> which will not be written. Consider changing the index to pd.RangeIndex(start=0,...,step=1) or call reset_index() to keep index as column(s)\n",
      "  success, nchunks, nrows, ci_output = write_pandas(\n"
     ]
    },
    {
     "name": "stdout",
     "output_type": "stream",
     "text": [
      "464302 values inserted into table SCHEDULE_RCM\n"
     ]
    },
    {
     "name": "stderr",
     "output_type": "stream",
     "text": [
      "C:\\Users\\whill\\anaconda3\\lib\\site-packages\\snowflake\\snowpark\\session.py:1891: UserWarning: Pandas Dataframe has non-standard index of type <class 'pandas.core.indexes.numeric.Int64Index'> which will not be written. Consider changing the index to pd.RangeIndex(start=0,...,step=1) or call reset_index() to keep index as column(s)\n",
      "  success, nchunks, nrows, ci_output = write_pandas(\n"
     ]
    },
    {
     "name": "stdout",
     "output_type": "stream",
     "text": [
      "464302 values inserted into table SCHEDULE_RCS\n"
     ]
    },
    {
     "name": "stderr",
     "output_type": "stream",
     "text": [
      "C:\\Users\\whill\\anaconda3\\lib\\site-packages\\snowflake\\snowpark\\session.py:1891: UserWarning: Pandas Dataframe has non-standard index of type <class 'pandas.core.indexes.numeric.Int64Index'> which will not be written. Consider changing the index to pd.RangeIndex(start=0,...,step=1) or call reset_index() to keep index as column(s)\n",
      "  success, nchunks, nrows, ci_output = write_pandas(\n"
     ]
    },
    {
     "name": "stdout",
     "output_type": "stream",
     "text": [
      "464302 values inserted into table SCHEDULE_RIE\n"
     ]
    },
    {
     "name": "stderr",
     "output_type": "stream",
     "text": [
      "C:\\Users\\whill\\anaconda3\\lib\\site-packages\\snowflake\\snowpark\\session.py:1891: UserWarning: Pandas Dataframe has non-standard index of type <class 'pandas.core.indexes.numeric.Int64Index'> which will not be written. Consider changing the index to pd.RangeIndex(start=0,...,step=1) or call reset_index() to keep index as column(s)\n",
      "  success, nchunks, nrows, ci_output = write_pandas(\n"
     ]
    },
    {
     "name": "stdout",
     "output_type": "stream",
     "text": [
      "464302 values inserted into table SCHEDULE_RIC\n"
     ]
    },
    {
     "name": "stderr",
     "output_type": "stream",
     "text": [
      "C:\\Users\\whill\\anaconda3\\lib\\site-packages\\snowflake\\snowpark\\session.py:1891: UserWarning: Pandas Dataframe has non-standard index of type <class 'pandas.core.indexes.numeric.Int64Index'> which will not be written. Consider changing the index to pd.RangeIndex(start=0,...,step=1) or call reset_index() to keep index as column(s)\n",
      "  success, nchunks, nrows, ci_output = write_pandas(\n"
     ]
    },
    {
     "name": "stdout",
     "output_type": "stream",
     "text": [
      "464302 values inserted into table SCHEDULE_RCCI\n"
     ]
    },
    {
     "name": "stderr",
     "output_type": "stream",
     "text": [
      "C:\\Users\\whill\\anaconda3\\lib\\site-packages\\snowflake\\snowpark\\session.py:1891: UserWarning: Pandas Dataframe has non-standard index of type <class 'pandas.core.indexes.numeric.Int64Index'> which will not be written. Consider changing the index to pd.RangeIndex(start=0,...,step=1) or call reset_index() to keep index as column(s)\n",
      "  success, nchunks, nrows, ci_output = write_pandas(\n"
     ]
    },
    {
     "name": "stdout",
     "output_type": "stream",
     "text": [
      "464302 values inserted into table SCHEDULE_RCA\n",
      "C:\\Users\\whill\\call-report-database\\Bulk_Files\\2013\\09_30\\FFIEC CDR Call Schedule CI 09302013.txt\n",
      "C:\\Users\\whill\\call-report-database\\Bulk_Files\\2013\\09_30\\FFIEC CDR Call Schedule ENT 09302013.txt\n",
      "C:\\Users\\whill\\call-report-database\\Bulk_Files\\2013\\09_30\\FFIEC CDR Call Schedule NARR 09302013.txt\n",
      "C:\\Users\\whill\\call-report-database\\Bulk_Files\\2013\\09_30\\FFIEC CDR Call Schedule RC 09302013.txt\n",
      "C:\\Users\\whill\\call-report-database\\Bulk_Files\\2013\\09_30\\FFIEC CDR Call Schedule RCA 09302013.txt\n",
      "C:\\Users\\whill\\call-report-database\\Bulk_Files\\2013\\09_30\\FFIEC CDR Call Schedule RCB 09302013(1 of 2).txt\n",
      "C:\\Users\\whill\\call-report-database\\Bulk_Files\\2013\\09_30\\FFIEC CDR Call Schedule RCB 09302013(2 of 2).txt\n",
      "C:\\Users\\whill\\call-report-database\\Bulk_Files\\2013\\09_30\\FFIEC CDR Call Schedule RCCI 09302013.txt\n",
      "C:\\Users\\whill\\call-report-database\\Bulk_Files\\2013\\09_30\\FFIEC CDR Call Schedule RCCII 09302013.txt\n",
      "C:\\Users\\whill\\call-report-database\\Bulk_Files\\2013\\09_30\\FFIEC CDR Call Schedule RCD 09302013.txt\n",
      "C:\\Users\\whill\\call-report-database\\Bulk_Files\\2013\\09_30\\FFIEC CDR Call Schedule RCE 09302013.txt\n",
      "C:\\Users\\whill\\call-report-database\\Bulk_Files\\2013\\09_30\\FFIEC CDR Call Schedule RCEI 09302013.txt\n",
      "C:\\Users\\whill\\call-report-database\\Bulk_Files\\2013\\09_30\\FFIEC CDR Call Schedule RCEII 09302013.txt\n",
      "C:\\Users\\whill\\call-report-database\\Bulk_Files\\2013\\09_30\\FFIEC CDR Call Schedule RCF 09302013.txt\n",
      "C:\\Users\\whill\\call-report-database\\Bulk_Files\\2013\\09_30\\FFIEC CDR Call Schedule RCG 09302013.txt\n",
      "C:\\Users\\whill\\call-report-database\\Bulk_Files\\2013\\09_30\\FFIEC CDR Call Schedule RCH 09302013.txt\n",
      "C:\\Users\\whill\\call-report-database\\Bulk_Files\\2013\\09_30\\FFIEC CDR Call Schedule RCI 09302013.txt\n",
      "C:\\Users\\whill\\call-report-database\\Bulk_Files\\2013\\09_30\\FFIEC CDR Call Schedule RCK 09302013.txt\n",
      "C:\\Users\\whill\\call-report-database\\Bulk_Files\\2013\\09_30\\FFIEC CDR Call Schedule RCL 09302013(1 of 2).txt\n",
      "C:\\Users\\whill\\call-report-database\\Bulk_Files\\2013\\09_30\\FFIEC CDR Call Schedule RCL 09302013(2 of 2).txt\n",
      "C:\\Users\\whill\\call-report-database\\Bulk_Files\\2013\\09_30\\FFIEC CDR Call Schedule RCM 09302013.txt\n",
      "C:\\Users\\whill\\call-report-database\\Bulk_Files\\2013\\09_30\\FFIEC CDR Call Schedule RCN 09302013(1 of 2).txt\n",
      "C:\\Users\\whill\\call-report-database\\Bulk_Files\\2013\\09_30\\FFIEC CDR Call Schedule RCN 09302013(2 of 2).txt\n",
      "C:\\Users\\whill\\call-report-database\\Bulk_Files\\2013\\09_30\\FFIEC CDR Call Schedule RCO 09302013(1 of 2).txt\n",
      "C:\\Users\\whill\\call-report-database\\Bulk_Files\\2013\\09_30\\FFIEC CDR Call Schedule RCO 09302013(2 of 2).txt\n",
      "C:\\Users\\whill\\call-report-database\\Bulk_Files\\2013\\09_30\\FFIEC CDR Call Schedule RCP 09302013.txt\n",
      "C:\\Users\\whill\\call-report-database\\Bulk_Files\\2013\\09_30\\FFIEC CDR Call Schedule RCQ 09302013(1 of 2).txt\n",
      "C:\\Users\\whill\\call-report-database\\Bulk_Files\\2013\\09_30\\FFIEC CDR Call Schedule RCQ 09302013(2 of 2).txt\n",
      "C:\\Users\\whill\\call-report-database\\Bulk_Files\\2013\\09_30\\FFIEC CDR Call Schedule RCR 09302013(1 of 2).txt\n",
      "C:\\Users\\whill\\call-report-database\\Bulk_Files\\2013\\09_30\\FFIEC CDR Call Schedule RCR 09302013(2 of 2).txt\n",
      "C:\\Users\\whill\\call-report-database\\Bulk_Files\\2013\\09_30\\FFIEC CDR Call Schedule RCS 09302013.txt\n",
      "C:\\Users\\whill\\call-report-database\\Bulk_Files\\2013\\09_30\\FFIEC CDR Call Schedule RCT 09302013(1 of 2).txt\n",
      "C:\\Users\\whill\\call-report-database\\Bulk_Files\\2013\\09_30\\FFIEC CDR Call Schedule RCT 09302013(2 of 2).txt\n",
      "C:\\Users\\whill\\call-report-database\\Bulk_Files\\2013\\09_30\\FFIEC CDR Call Schedule RCV 09302013.txt\n",
      "C:\\Users\\whill\\call-report-database\\Bulk_Files\\2013\\09_30\\FFIEC CDR Call Schedule RI 09302013.txt\n",
      "C:\\Users\\whill\\call-report-database\\Bulk_Files\\2013\\09_30\\FFIEC CDR Call Schedule RIA 09302013.txt\n",
      "C:\\Users\\whill\\call-report-database\\Bulk_Files\\2013\\09_30\\FFIEC CDR Call Schedule RIBI 09302013.txt\n",
      "C:\\Users\\whill\\call-report-database\\Bulk_Files\\2013\\09_30\\FFIEC CDR Call Schedule RIBII 09302013.txt\n",
      "C:\\Users\\whill\\call-report-database\\Bulk_Files\\2013\\09_30\\FFIEC CDR Call Schedule RIC 09302013.txt\n",
      "C:\\Users\\whill\\call-report-database\\Bulk_Files\\2013\\09_30\\FFIEC CDR Call Schedule RID 09302013.txt\n",
      "C:\\Users\\whill\\call-report-database\\Bulk_Files\\2013\\09_30\\FFIEC CDR Call Schedule RIE 09302013.txt\n"
     ]
    },
    {
     "name": "stderr",
     "output_type": "stream",
     "text": [
      "C:\\Users\\whill\\anaconda3\\lib\\site-packages\\snowflake\\snowpark\\session.py:1891: UserWarning: Pandas Dataframe has non-standard index of type <class 'pandas.core.indexes.numeric.Int64Index'> which will not be written. Consider changing the index to pd.RangeIndex(start=0,...,step=1) or call reset_index() to keep index as column(s)\n",
      "  success, nchunks, nrows, ci_output = write_pandas(\n"
     ]
    },
    {
     "name": "stdout",
     "output_type": "stream",
     "text": [
      "471257 values inserted into table SCHEDULE_LEO\n"
     ]
    },
    {
     "name": "stderr",
     "output_type": "stream",
     "text": [
      "C:\\Users\\whill\\anaconda3\\lib\\site-packages\\snowflake\\snowpark\\session.py:1891: UserWarning: Pandas Dataframe has non-standard index of type <class 'pandas.core.indexes.numeric.Int64Index'> which will not be written. Consider changing the index to pd.RangeIndex(start=0,...,step=1) or call reset_index() to keep index as column(s)\n",
      "  success, nchunks, nrows, ci_output = write_pandas(\n"
     ]
    },
    {
     "name": "stdout",
     "output_type": "stream",
     "text": [
      "471257 values inserted into table SCHEDULE_NARR\n"
     ]
    },
    {
     "name": "stderr",
     "output_type": "stream",
     "text": [
      "C:\\Users\\whill\\anaconda3\\lib\\site-packages\\snowflake\\snowpark\\session.py:1891: UserWarning: Pandas Dataframe has non-standard index of type <class 'pandas.core.indexes.numeric.Int64Index'> which will not be written. Consider changing the index to pd.RangeIndex(start=0,...,step=1) or call reset_index() to keep index as column(s)\n",
      "  success, nchunks, nrows, ci_output = write_pandas(\n"
     ]
    },
    {
     "name": "stdout",
     "output_type": "stream",
     "text": [
      "471257 values inserted into table SCHEDULE_RC\n"
     ]
    },
    {
     "name": "stderr",
     "output_type": "stream",
     "text": [
      "C:\\Users\\whill\\anaconda3\\lib\\site-packages\\snowflake\\snowpark\\session.py:1891: UserWarning: Pandas Dataframe has non-standard index of type <class 'pandas.core.indexes.numeric.Int64Index'> which will not be written. Consider changing the index to pd.RangeIndex(start=0,...,step=1) or call reset_index() to keep index as column(s)\n",
      "  success, nchunks, nrows, ci_output = write_pandas(\n"
     ]
    },
    {
     "name": "stdout",
     "output_type": "stream",
     "text": [
      "471257 values inserted into table SCHEDULE_RCA\n"
     ]
    },
    {
     "name": "stderr",
     "output_type": "stream",
     "text": [
      "C:\\Users\\whill\\anaconda3\\lib\\site-packages\\snowflake\\snowpark\\session.py:1891: UserWarning: Pandas Dataframe has non-standard index of type <class 'pandas.core.indexes.numeric.Int64Index'> which will not be written. Consider changing the index to pd.RangeIndex(start=0,...,step=1) or call reset_index() to keep index as column(s)\n",
      "  success, nchunks, nrows, ci_output = write_pandas(\n"
     ]
    },
    {
     "name": "stdout",
     "output_type": "stream",
     "text": [
      "471257 values inserted into table SCHEDULE_RCCI\n"
     ]
    },
    {
     "name": "stderr",
     "output_type": "stream",
     "text": [
      "C:\\Users\\whill\\anaconda3\\lib\\site-packages\\snowflake\\snowpark\\session.py:1891: UserWarning: Pandas Dataframe has non-standard index of type <class 'pandas.core.indexes.numeric.Int64Index'> which will not be written. Consider changing the index to pd.RangeIndex(start=0,...,step=1) or call reset_index() to keep index as column(s)\n",
      "  success, nchunks, nrows, ci_output = write_pandas(\n"
     ]
    },
    {
     "name": "stdout",
     "output_type": "stream",
     "text": [
      "471257 values inserted into table SCHEDULE_RCEI\n"
     ]
    },
    {
     "name": "stderr",
     "output_type": "stream",
     "text": [
      "C:\\Users\\whill\\anaconda3\\lib\\site-packages\\snowflake\\snowpark\\session.py:1891: UserWarning: Pandas Dataframe has non-standard index of type <class 'pandas.core.indexes.numeric.Int64Index'> which will not be written. Consider changing the index to pd.RangeIndex(start=0,...,step=1) or call reset_index() to keep index as column(s)\n",
      "  success, nchunks, nrows, ci_output = write_pandas(\n"
     ]
    },
    {
     "name": "stdout",
     "output_type": "stream",
     "text": [
      "471257 values inserted into table SCHEDULE_RI\n"
     ]
    },
    {
     "name": "stderr",
     "output_type": "stream",
     "text": [
      "C:\\Users\\whill\\anaconda3\\lib\\site-packages\\snowflake\\snowpark\\session.py:1891: UserWarning: Pandas Dataframe has non-standard index of type <class 'pandas.core.indexes.numeric.Int64Index'> which will not be written. Consider changing the index to pd.RangeIndex(start=0,...,step=1) or call reset_index() to keep index as column(s)\n",
      "  success, nchunks, nrows, ci_output = write_pandas(\n"
     ]
    },
    {
     "name": "stdout",
     "output_type": "stream",
     "text": [
      "471257 values inserted into table SCHEDULE_RICII\n"
     ]
    },
    {
     "name": "stderr",
     "output_type": "stream",
     "text": [
      "C:\\Users\\whill\\anaconda3\\lib\\site-packages\\snowflake\\snowpark\\session.py:1891: UserWarning: Pandas Dataframe has non-standard index of type <class 'pandas.core.indexes.numeric.Int64Index'> which will not be written. Consider changing the index to pd.RangeIndex(start=0,...,step=1) or call reset_index() to keep index as column(s)\n",
      "  success, nchunks, nrows, ci_output = write_pandas(\n"
     ]
    },
    {
     "name": "stdout",
     "output_type": "stream",
     "text": [
      "471257 values inserted into table SCHEDULE_SU\n"
     ]
    },
    {
     "name": "stderr",
     "output_type": "stream",
     "text": [
      "C:\\Users\\whill\\anaconda3\\lib\\site-packages\\snowflake\\snowpark\\session.py:1891: UserWarning: Pandas Dataframe has non-standard index of type <class 'pandas.core.indexes.numeric.Int64Index'> which will not be written. Consider changing the index to pd.RangeIndex(start=0,...,step=1) or call reset_index() to keep index as column(s)\n",
      "  success, nchunks, nrows, ci_output = write_pandas(\n"
     ]
    },
    {
     "name": "stdout",
     "output_type": "stream",
     "text": [
      "471257 values inserted into table SCHEDULE_RCB\n"
     ]
    },
    {
     "name": "stderr",
     "output_type": "stream",
     "text": [
      "C:\\Users\\whill\\anaconda3\\lib\\site-packages\\snowflake\\snowpark\\session.py:1891: UserWarning: Pandas Dataframe has non-standard index of type <class 'pandas.core.indexes.numeric.Int64Index'> which will not be written. Consider changing the index to pd.RangeIndex(start=0,...,step=1) or call reset_index() to keep index as column(s)\n",
      "  success, nchunks, nrows, ci_output = write_pandas(\n"
     ]
    },
    {
     "name": "stdout",
     "output_type": "stream",
     "text": [
      "471257 values inserted into table SCHEDULE_RCRI\n"
     ]
    },
    {
     "name": "stderr",
     "output_type": "stream",
     "text": [
      "C:\\Users\\whill\\anaconda3\\lib\\site-packages\\snowflake\\snowpark\\session.py:1891: UserWarning: Pandas Dataframe has non-standard index of type <class 'pandas.core.indexes.numeric.Int64Index'> which will not be written. Consider changing the index to pd.RangeIndex(start=0,...,step=1) or call reset_index() to keep index as column(s)\n",
      "  success, nchunks, nrows, ci_output = write_pandas(\n"
     ]
    },
    {
     "name": "stdout",
     "output_type": "stream",
     "text": [
      "471257 values inserted into table SCHEDULE_RCF\n"
     ]
    },
    {
     "name": "stderr",
     "output_type": "stream",
     "text": [
      "C:\\Users\\whill\\anaconda3\\lib\\site-packages\\snowflake\\snowpark\\session.py:1891: UserWarning: Pandas Dataframe has non-standard index of type <class 'pandas.core.indexes.numeric.Int64Index'> which will not be written. Consider changing the index to pd.RangeIndex(start=0,...,step=1) or call reset_index() to keep index as column(s)\n",
      "  success, nchunks, nrows, ci_output = write_pandas(\n"
     ]
    },
    {
     "name": "stdout",
     "output_type": "stream",
     "text": [
      "471257 values inserted into table SCHEDULE_RCI\n"
     ]
    },
    {
     "name": "stderr",
     "output_type": "stream",
     "text": [
      "C:\\Users\\whill\\anaconda3\\lib\\site-packages\\snowflake\\snowpark\\session.py:1891: UserWarning: Pandas Dataframe has non-standard index of type <class 'pandas.core.indexes.numeric.Int64Index'> which will not be written. Consider changing the index to pd.RangeIndex(start=0,...,step=1) or call reset_index() to keep index as column(s)\n",
      "  success, nchunks, nrows, ci_output = write_pandas(\n"
     ]
    },
    {
     "name": "stdout",
     "output_type": "stream",
     "text": [
      "471257 values inserted into table SCHEDULE_RCS\n"
     ]
    },
    {
     "name": "stderr",
     "output_type": "stream",
     "text": [
      "C:\\Users\\whill\\anaconda3\\lib\\site-packages\\snowflake\\snowpark\\session.py:1891: UserWarning: Pandas Dataframe has non-standard index of type <class 'pandas.core.indexes.numeric.Int64Index'> which will not be written. Consider changing the index to pd.RangeIndex(start=0,...,step=1) or call reset_index() to keep index as column(s)\n",
      "  success, nchunks, nrows, ci_output = write_pandas(\n"
     ]
    },
    {
     "name": "stdout",
     "output_type": "stream",
     "text": [
      "471257 values inserted into table SCHEDULE_RICI\n"
     ]
    },
    {
     "name": "stderr",
     "output_type": "stream",
     "text": [
      "C:\\Users\\whill\\anaconda3\\lib\\site-packages\\snowflake\\snowpark\\session.py:1891: UserWarning: Pandas Dataframe has non-standard index of type <class 'pandas.core.indexes.numeric.Int64Index'> which will not be written. Consider changing the index to pd.RangeIndex(start=0,...,step=1) or call reset_index() to keep index as column(s)\n",
      "  success, nchunks, nrows, ci_output = write_pandas(\n"
     ]
    },
    {
     "name": "stdout",
     "output_type": "stream",
     "text": [
      "471257 values inserted into table SCHEDULE_UNDEFINED\n"
     ]
    },
    {
     "name": "stderr",
     "output_type": "stream",
     "text": [
      "C:\\Users\\whill\\anaconda3\\lib\\site-packages\\snowflake\\snowpark\\session.py:1891: UserWarning: Pandas Dataframe has non-standard index of type <class 'pandas.core.indexes.numeric.Int64Index'> which will not be written. Consider changing the index to pd.RangeIndex(start=0,...,step=1) or call reset_index() to keep index as column(s)\n",
      "  success, nchunks, nrows, ci_output = write_pandas(\n"
     ]
    },
    {
     "name": "stdout",
     "output_type": "stream",
     "text": [
      "471257 values inserted into table SCHEDULE_RCD\n"
     ]
    },
    {
     "name": "stderr",
     "output_type": "stream",
     "text": [
      "C:\\Users\\whill\\anaconda3\\lib\\site-packages\\snowflake\\snowpark\\session.py:1891: UserWarning: Pandas Dataframe has non-standard index of type <class 'pandas.core.indexes.numeric.Int64Index'> which will not be written. Consider changing the index to pd.RangeIndex(start=0,...,step=1) or call reset_index() to keep index as column(s)\n",
      "  success, nchunks, nrows, ci_output = write_pandas(\n"
     ]
    },
    {
     "name": "stdout",
     "output_type": "stream",
     "text": [
      "471257 values inserted into table SCHEDULE_RCH\n"
     ]
    },
    {
     "name": "stderr",
     "output_type": "stream",
     "text": [
      "C:\\Users\\whill\\anaconda3\\lib\\site-packages\\snowflake\\snowpark\\session.py:1891: UserWarning: Pandas Dataframe has non-standard index of type <class 'pandas.core.indexes.numeric.Int64Index'> which will not be written. Consider changing the index to pd.RangeIndex(start=0,...,step=1) or call reset_index() to keep index as column(s)\n",
      "  success, nchunks, nrows, ci_output = write_pandas(\n"
     ]
    },
    {
     "name": "stdout",
     "output_type": "stream",
     "text": [
      "471257 values inserted into table SCHEDULE_RIBI\n"
     ]
    },
    {
     "name": "stderr",
     "output_type": "stream",
     "text": [
      "C:\\Users\\whill\\anaconda3\\lib\\site-packages\\snowflake\\snowpark\\session.py:1891: UserWarning: Pandas Dataframe has non-standard index of type <class 'pandas.core.indexes.numeric.Int64Index'> which will not be written. Consider changing the index to pd.RangeIndex(start=0,...,step=1) or call reset_index() to keep index as column(s)\n",
      "  success, nchunks, nrows, ci_output = write_pandas(\n"
     ]
    },
    {
     "name": "stdout",
     "output_type": "stream",
     "text": [
      "471257 values inserted into table SCHEDULE_RCEII\n"
     ]
    },
    {
     "name": "stderr",
     "output_type": "stream",
     "text": [
      "C:\\Users\\whill\\anaconda3\\lib\\site-packages\\snowflake\\snowpark\\session.py:1891: UserWarning: Pandas Dataframe has non-standard index of type <class 'pandas.core.indexes.numeric.Int64Index'> which will not be written. Consider changing the index to pd.RangeIndex(start=0,...,step=1) or call reset_index() to keep index as column(s)\n",
      "  success, nchunks, nrows, ci_output = write_pandas(\n"
     ]
    },
    {
     "name": "stdout",
     "output_type": "stream",
     "text": [
      "471257 values inserted into table SCHEDULE_RCT\n"
     ]
    },
    {
     "name": "stderr",
     "output_type": "stream",
     "text": [
      "C:\\Users\\whill\\anaconda3\\lib\\site-packages\\snowflake\\snowpark\\session.py:1891: UserWarning: Pandas Dataframe has non-standard index of type <class 'pandas.core.indexes.numeric.Int64Index'> which will not be written. Consider changing the index to pd.RangeIndex(start=0,...,step=1) or call reset_index() to keep index as column(s)\n",
      "  success, nchunks, nrows, ci_output = write_pandas(\n"
     ]
    },
    {
     "name": "stdout",
     "output_type": "stream",
     "text": [
      "471257 values inserted into table SCHEDULE_RIE\n"
     ]
    },
    {
     "name": "stderr",
     "output_type": "stream",
     "text": [
      "C:\\Users\\whill\\anaconda3\\lib\\site-packages\\snowflake\\snowpark\\session.py:1891: UserWarning: Pandas Dataframe has non-standard index of type <class 'pandas.core.indexes.numeric.Int64Index'> which will not be written. Consider changing the index to pd.RangeIndex(start=0,...,step=1) or call reset_index() to keep index as column(s)\n",
      "  success, nchunks, nrows, ci_output = write_pandas(\n"
     ]
    },
    {
     "name": "stdout",
     "output_type": "stream",
     "text": [
      "471257 values inserted into table SCHEDULE_RCE\n"
     ]
    },
    {
     "name": "stderr",
     "output_type": "stream",
     "text": [
      "C:\\Users\\whill\\anaconda3\\lib\\site-packages\\snowflake\\snowpark\\session.py:1891: UserWarning: Pandas Dataframe has non-standard index of type <class 'pandas.core.indexes.numeric.Int64Index'> which will not be written. Consider changing the index to pd.RangeIndex(start=0,...,step=1) or call reset_index() to keep index as column(s)\n",
      "  success, nchunks, nrows, ci_output = write_pandas(\n"
     ]
    },
    {
     "name": "stdout",
     "output_type": "stream",
     "text": [
      "471257 values inserted into table SCHEDULE_ENT\n"
     ]
    },
    {
     "name": "stderr",
     "output_type": "stream",
     "text": [
      "C:\\Users\\whill\\anaconda3\\lib\\site-packages\\snowflake\\snowpark\\session.py:1891: UserWarning: Pandas Dataframe has non-standard index of type <class 'pandas.core.indexes.numeric.Int64Index'> which will not be written. Consider changing the index to pd.RangeIndex(start=0,...,step=1) or call reset_index() to keep index as column(s)\n",
      "  success, nchunks, nrows, ci_output = write_pandas(\n"
     ]
    },
    {
     "name": "stdout",
     "output_type": "stream",
     "text": [
      "471257 values inserted into table SCHEDULE_RCCII\n"
     ]
    },
    {
     "name": "stderr",
     "output_type": "stream",
     "text": [
      "C:\\Users\\whill\\anaconda3\\lib\\site-packages\\snowflake\\snowpark\\session.py:1891: UserWarning: Pandas Dataframe has non-standard index of type <class 'pandas.core.indexes.numeric.Int64Index'> which will not be written. Consider changing the index to pd.RangeIndex(start=0,...,step=1) or call reset_index() to keep index as column(s)\n",
      "  success, nchunks, nrows, ci_output = write_pandas(\n"
     ]
    },
    {
     "name": "stdout",
     "output_type": "stream",
     "text": [
      "471257 values inserted into table SCHEDULE_RCG\n"
     ]
    },
    {
     "name": "stderr",
     "output_type": "stream",
     "text": [
      "C:\\Users\\whill\\anaconda3\\lib\\site-packages\\snowflake\\snowpark\\session.py:1891: UserWarning: Pandas Dataframe has non-standard index of type <class 'pandas.core.indexes.numeric.Int64Index'> which will not be written. Consider changing the index to pd.RangeIndex(start=0,...,step=1) or call reset_index() to keep index as column(s)\n",
      "  success, nchunks, nrows, ci_output = write_pandas(\n"
     ]
    },
    {
     "name": "stdout",
     "output_type": "stream",
     "text": [
      "471257 values inserted into table SCHEDULE_RCL\n"
     ]
    },
    {
     "name": "stderr",
     "output_type": "stream",
     "text": [
      "C:\\Users\\whill\\anaconda3\\lib\\site-packages\\snowflake\\snowpark\\session.py:1891: UserWarning: Pandas Dataframe has non-standard index of type <class 'pandas.core.indexes.numeric.Int64Index'> which will not be written. Consider changing the index to pd.RangeIndex(start=0,...,step=1) or call reset_index() to keep index as column(s)\n",
      "  success, nchunks, nrows, ci_output = write_pandas(\n"
     ]
    },
    {
     "name": "stdout",
     "output_type": "stream",
     "text": [
      "471257 values inserted into table SCHEDULE_RCM\n"
     ]
    },
    {
     "name": "stderr",
     "output_type": "stream",
     "text": [
      "C:\\Users\\whill\\anaconda3\\lib\\site-packages\\snowflake\\snowpark\\session.py:1891: UserWarning: Pandas Dataframe has non-standard index of type <class 'pandas.core.indexes.numeric.Int64Index'> which will not be written. Consider changing the index to pd.RangeIndex(start=0,...,step=1) or call reset_index() to keep index as column(s)\n",
      "  success, nchunks, nrows, ci_output = write_pandas(\n"
     ]
    },
    {
     "name": "stdout",
     "output_type": "stream",
     "text": [
      "471257 values inserted into table SCHEDULE_RCN\n"
     ]
    },
    {
     "name": "stderr",
     "output_type": "stream",
     "text": [
      "C:\\Users\\whill\\anaconda3\\lib\\site-packages\\snowflake\\snowpark\\session.py:1891: UserWarning: Pandas Dataframe has non-standard index of type <class 'pandas.core.indexes.numeric.Int64Index'> which will not be written. Consider changing the index to pd.RangeIndex(start=0,...,step=1) or call reset_index() to keep index as column(s)\n",
      "  success, nchunks, nrows, ci_output = write_pandas(\n"
     ]
    },
    {
     "name": "stdout",
     "output_type": "stream",
     "text": [
      "471257 values inserted into table SCHEDULE_RCP\n"
     ]
    },
    {
     "name": "stderr",
     "output_type": "stream",
     "text": [
      "C:\\Users\\whill\\anaconda3\\lib\\site-packages\\snowflake\\snowpark\\session.py:1891: UserWarning: Pandas Dataframe has non-standard index of type <class 'pandas.core.indexes.numeric.Int64Index'> which will not be written. Consider changing the index to pd.RangeIndex(start=0,...,step=1) or call reset_index() to keep index as column(s)\n",
      "  success, nchunks, nrows, ci_output = write_pandas(\n"
     ]
    },
    {
     "name": "stdout",
     "output_type": "stream",
     "text": [
      "471257 values inserted into table SCHEDULE_RCR\n"
     ]
    },
    {
     "name": "stderr",
     "output_type": "stream",
     "text": [
      "C:\\Users\\whill\\anaconda3\\lib\\site-packages\\snowflake\\snowpark\\session.py:1891: UserWarning: Pandas Dataframe has non-standard index of type <class 'pandas.core.indexes.numeric.Int64Index'> which will not be written. Consider changing the index to pd.RangeIndex(start=0,...,step=1) or call reset_index() to keep index as column(s)\n",
      "  success, nchunks, nrows, ci_output = write_pandas(\n"
     ]
    },
    {
     "name": "stdout",
     "output_type": "stream",
     "text": [
      "471257 values inserted into table SCHEDULE_RIA\n"
     ]
    },
    {
     "name": "stderr",
     "output_type": "stream",
     "text": [
      "C:\\Users\\whill\\anaconda3\\lib\\site-packages\\snowflake\\snowpark\\session.py:1891: UserWarning: Pandas Dataframe has non-standard index of type <class 'pandas.core.indexes.numeric.Int64Index'> which will not be written. Consider changing the index to pd.RangeIndex(start=0,...,step=1) or call reset_index() to keep index as column(s)\n",
      "  success, nchunks, nrows, ci_output = write_pandas(\n"
     ]
    },
    {
     "name": "stdout",
     "output_type": "stream",
     "text": [
      "471257 values inserted into table SCHEDULE_RIC\n"
     ]
    },
    {
     "name": "stderr",
     "output_type": "stream",
     "text": [
      "C:\\Users\\whill\\anaconda3\\lib\\site-packages\\snowflake\\snowpark\\session.py:1891: UserWarning: Pandas Dataframe has non-standard index of type <class 'pandas.core.indexes.numeric.Int64Index'> which will not be written. Consider changing the index to pd.RangeIndex(start=0,...,step=1) or call reset_index() to keep index as column(s)\n",
      "  success, nchunks, nrows, ci_output = write_pandas(\n"
     ]
    },
    {
     "name": "stdout",
     "output_type": "stream",
     "text": [
      "471257 values inserted into table SCHEDULE_RID\n"
     ]
    },
    {
     "name": "stderr",
     "output_type": "stream",
     "text": [
      "C:\\Users\\whill\\anaconda3\\lib\\site-packages\\snowflake\\snowpark\\session.py:1891: UserWarning: Pandas Dataframe has non-standard index of type <class 'pandas.core.indexes.numeric.Int64Index'> which will not be written. Consider changing the index to pd.RangeIndex(start=0,...,step=1) or call reset_index() to keep index as column(s)\n",
      "  success, nchunks, nrows, ci_output = write_pandas(\n"
     ]
    },
    {
     "name": "stdout",
     "output_type": "stream",
     "text": [
      "471257 values inserted into table SCHEDULE_RCK\n"
     ]
    },
    {
     "name": "stderr",
     "output_type": "stream",
     "text": [
      "C:\\Users\\whill\\anaconda3\\lib\\site-packages\\snowflake\\snowpark\\session.py:1891: UserWarning: Pandas Dataframe has non-standard index of type <class 'pandas.core.indexes.numeric.Int64Index'> which will not be written. Consider changing the index to pd.RangeIndex(start=0,...,step=1) or call reset_index() to keep index as column(s)\n",
      "  success, nchunks, nrows, ci_output = write_pandas(\n"
     ]
    },
    {
     "name": "stdout",
     "output_type": "stream",
     "text": [
      "471257 values inserted into table SCHEDULE_RCO\n"
     ]
    },
    {
     "name": "stderr",
     "output_type": "stream",
     "text": [
      "C:\\Users\\whill\\anaconda3\\lib\\site-packages\\snowflake\\snowpark\\session.py:1891: UserWarning: Pandas Dataframe has non-standard index of type <class 'pandas.core.indexes.numeric.Int64Index'> which will not be written. Consider changing the index to pd.RangeIndex(start=0,...,step=1) or call reset_index() to keep index as column(s)\n",
      "  success, nchunks, nrows, ci_output = write_pandas(\n"
     ]
    },
    {
     "name": "stdout",
     "output_type": "stream",
     "text": [
      "471257 values inserted into table SCHEDULE_RCRII\n"
     ]
    },
    {
     "name": "stderr",
     "output_type": "stream",
     "text": [
      "C:\\Users\\whill\\anaconda3\\lib\\site-packages\\snowflake\\snowpark\\session.py:1891: UserWarning: Pandas Dataframe has non-standard index of type <class 'pandas.core.indexes.numeric.Int64Index'> which will not be written. Consider changing the index to pd.RangeIndex(start=0,...,step=1) or call reset_index() to keep index as column(s)\n",
      "  success, nchunks, nrows, ci_output = write_pandas(\n"
     ]
    },
    {
     "name": "stdout",
     "output_type": "stream",
     "text": [
      "471257 values inserted into table SCHEDULE_RCV\n"
     ]
    },
    {
     "name": "stderr",
     "output_type": "stream",
     "text": [
      "C:\\Users\\whill\\anaconda3\\lib\\site-packages\\snowflake\\snowpark\\session.py:1891: UserWarning: Pandas Dataframe has non-standard index of type <class 'pandas.core.indexes.numeric.Int64Index'> which will not be written. Consider changing the index to pd.RangeIndex(start=0,...,step=1) or call reset_index() to keep index as column(s)\n",
      "  success, nchunks, nrows, ci_output = write_pandas(\n"
     ]
    },
    {
     "name": "stdout",
     "output_type": "stream",
     "text": [
      "471257 values inserted into table SCHEDULE_RIBII\n"
     ]
    },
    {
     "name": "stderr",
     "output_type": "stream",
     "text": [
      "C:\\Users\\whill\\anaconda3\\lib\\site-packages\\snowflake\\snowpark\\session.py:1891: UserWarning: Pandas Dataframe has non-standard index of type <class 'pandas.core.indexes.numeric.Int64Index'> which will not be written. Consider changing the index to pd.RangeIndex(start=0,...,step=1) or call reset_index() to keep index as column(s)\n",
      "  success, nchunks, nrows, ci_output = write_pandas(\n"
     ]
    },
    {
     "name": "stdout",
     "output_type": "stream",
     "text": [
      "471257 values inserted into table SCHEDULE_RCQ\n",
      "C:\\Users\\whill\\call-report-database\\Bulk_Files\\2013\\12_31\\FFIEC CDR Call Schedule CI 12312013.txt\n",
      "C:\\Users\\whill\\call-report-database\\Bulk_Files\\2013\\12_31\\FFIEC CDR Call Schedule ENT 12312013.txt\n",
      "C:\\Users\\whill\\call-report-database\\Bulk_Files\\2013\\12_31\\FFIEC CDR Call Schedule NARR 12312013.txt\n",
      "C:\\Users\\whill\\call-report-database\\Bulk_Files\\2013\\12_31\\FFIEC CDR Call Schedule RC 12312013.txt\n",
      "C:\\Users\\whill\\call-report-database\\Bulk_Files\\2013\\12_31\\FFIEC CDR Call Schedule RCA 12312013.txt\n",
      "C:\\Users\\whill\\call-report-database\\Bulk_Files\\2013\\12_31\\FFIEC CDR Call Schedule RCB 12312013(1 of 2).txt\n",
      "C:\\Users\\whill\\call-report-database\\Bulk_Files\\2013\\12_31\\FFIEC CDR Call Schedule RCB 12312013(2 of 2).txt\n",
      "C:\\Users\\whill\\call-report-database\\Bulk_Files\\2013\\12_31\\FFIEC CDR Call Schedule RCCI 12312013.txt\n",
      "C:\\Users\\whill\\call-report-database\\Bulk_Files\\2013\\12_31\\FFIEC CDR Call Schedule RCCII 12312013.txt\n",
      "C:\\Users\\whill\\call-report-database\\Bulk_Files\\2013\\12_31\\FFIEC CDR Call Schedule RCD 12312013.txt\n",
      "C:\\Users\\whill\\call-report-database\\Bulk_Files\\2013\\12_31\\FFIEC CDR Call Schedule RCE 12312013.txt\n",
      "C:\\Users\\whill\\call-report-database\\Bulk_Files\\2013\\12_31\\FFIEC CDR Call Schedule RCEI 12312013.txt\n",
      "C:\\Users\\whill\\call-report-database\\Bulk_Files\\2013\\12_31\\FFIEC CDR Call Schedule RCEII 12312013.txt\n",
      "C:\\Users\\whill\\call-report-database\\Bulk_Files\\2013\\12_31\\FFIEC CDR Call Schedule RCF 12312013.txt\n",
      "C:\\Users\\whill\\call-report-database\\Bulk_Files\\2013\\12_31\\FFIEC CDR Call Schedule RCG 12312013.txt\n",
      "C:\\Users\\whill\\call-report-database\\Bulk_Files\\2013\\12_31\\FFIEC CDR Call Schedule RCH 12312013.txt\n",
      "C:\\Users\\whill\\call-report-database\\Bulk_Files\\2013\\12_31\\FFIEC CDR Call Schedule RCI 12312013.txt\n",
      "C:\\Users\\whill\\call-report-database\\Bulk_Files\\2013\\12_31\\FFIEC CDR Call Schedule RCK 12312013.txt\n",
      "C:\\Users\\whill\\call-report-database\\Bulk_Files\\2013\\12_31\\FFIEC CDR Call Schedule RCL 12312013(1 of 2).txt\n",
      "C:\\Users\\whill\\call-report-database\\Bulk_Files\\2013\\12_31\\FFIEC CDR Call Schedule RCL 12312013(2 of 2).txt\n",
      "C:\\Users\\whill\\call-report-database\\Bulk_Files\\2013\\12_31\\FFIEC CDR Call Schedule RCM 12312013.txt\n",
      "C:\\Users\\whill\\call-report-database\\Bulk_Files\\2013\\12_31\\FFIEC CDR Call Schedule RCN 12312013(1 of 2).txt\n",
      "C:\\Users\\whill\\call-report-database\\Bulk_Files\\2013\\12_31\\FFIEC CDR Call Schedule RCN 12312013(2 of 2).txt\n",
      "C:\\Users\\whill\\call-report-database\\Bulk_Files\\2013\\12_31\\FFIEC CDR Call Schedule RCO 12312013(1 of 2).txt\n",
      "C:\\Users\\whill\\call-report-database\\Bulk_Files\\2013\\12_31\\FFIEC CDR Call Schedule RCO 12312013(2 of 2).txt\n",
      "C:\\Users\\whill\\call-report-database\\Bulk_Files\\2013\\12_31\\FFIEC CDR Call Schedule RCP 12312013.txt\n",
      "C:\\Users\\whill\\call-report-database\\Bulk_Files\\2013\\12_31\\FFIEC CDR Call Schedule RCQ 12312013(1 of 2).txt\n",
      "C:\\Users\\whill\\call-report-database\\Bulk_Files\\2013\\12_31\\FFIEC CDR Call Schedule RCQ 12312013(2 of 2).txt\n",
      "C:\\Users\\whill\\call-report-database\\Bulk_Files\\2013\\12_31\\FFIEC CDR Call Schedule RCR 12312013(1 of 2).txt\n",
      "C:\\Users\\whill\\call-report-database\\Bulk_Files\\2013\\12_31\\FFIEC CDR Call Schedule RCR 12312013(2 of 2).txt\n",
      "C:\\Users\\whill\\call-report-database\\Bulk_Files\\2013\\12_31\\FFIEC CDR Call Schedule RCS 12312013.txt\n",
      "C:\\Users\\whill\\call-report-database\\Bulk_Files\\2013\\12_31\\FFIEC CDR Call Schedule RCT 12312013(1 of 2).txt\n",
      "C:\\Users\\whill\\call-report-database\\Bulk_Files\\2013\\12_31\\FFIEC CDR Call Schedule RCT 12312013(2 of 2).txt\n",
      "C:\\Users\\whill\\call-report-database\\Bulk_Files\\2013\\12_31\\FFIEC CDR Call Schedule RCV 12312013.txt\n",
      "C:\\Users\\whill\\call-report-database\\Bulk_Files\\2013\\12_31\\FFIEC CDR Call Schedule RI 12312013.txt\n",
      "C:\\Users\\whill\\call-report-database\\Bulk_Files\\2013\\12_31\\FFIEC CDR Call Schedule RIA 12312013.txt\n",
      "C:\\Users\\whill\\call-report-database\\Bulk_Files\\2013\\12_31\\FFIEC CDR Call Schedule RIBI 12312013.txt\n",
      "C:\\Users\\whill\\call-report-database\\Bulk_Files\\2013\\12_31\\FFIEC CDR Call Schedule RIBII 12312013.txt\n",
      "C:\\Users\\whill\\call-report-database\\Bulk_Files\\2013\\12_31\\FFIEC CDR Call Schedule RIC 12312013.txt\n",
      "C:\\Users\\whill\\call-report-database\\Bulk_Files\\2013\\12_31\\FFIEC CDR Call Schedule RID 12312013.txt\n",
      "C:\\Users\\whill\\call-report-database\\Bulk_Files\\2013\\12_31\\FFIEC CDR Call Schedule RIE 12312013.txt\n"
     ]
    },
    {
     "name": "stderr",
     "output_type": "stream",
     "text": [
      "C:\\Users\\whill\\anaconda3\\lib\\site-packages\\snowflake\\snowpark\\session.py:1891: UserWarning: Pandas Dataframe has non-standard index of type <class 'pandas.core.indexes.numeric.Int64Index'> which will not be written. Consider changing the index to pd.RangeIndex(start=0,...,step=1) or call reset_index() to keep index as column(s)\n",
      "  success, nchunks, nrows, ci_output = write_pandas(\n"
     ]
    },
    {
     "name": "stdout",
     "output_type": "stream",
     "text": [
      "478134 values inserted into table SCHEDULE_NARR\n"
     ]
    },
    {
     "name": "stderr",
     "output_type": "stream",
     "text": [
      "C:\\Users\\whill\\anaconda3\\lib\\site-packages\\snowflake\\snowpark\\session.py:1891: UserWarning: Pandas Dataframe has non-standard index of type <class 'pandas.core.indexes.numeric.Int64Index'> which will not be written. Consider changing the index to pd.RangeIndex(start=0,...,step=1) or call reset_index() to keep index as column(s)\n",
      "  success, nchunks, nrows, ci_output = write_pandas(\n"
     ]
    },
    {
     "name": "stdout",
     "output_type": "stream",
     "text": [
      "478134 values inserted into table SCHEDULE_RCB\n"
     ]
    },
    {
     "name": "stderr",
     "output_type": "stream",
     "text": [
      "C:\\Users\\whill\\anaconda3\\lib\\site-packages\\snowflake\\snowpark\\session.py:1891: UserWarning: Pandas Dataframe has non-standard index of type <class 'pandas.core.indexes.numeric.Int64Index'> which will not be written. Consider changing the index to pd.RangeIndex(start=0,...,step=1) or call reset_index() to keep index as column(s)\n",
      "  success, nchunks, nrows, ci_output = write_pandas(\n"
     ]
    },
    {
     "name": "stdout",
     "output_type": "stream",
     "text": [
      "478134 values inserted into table SCHEDULE_RCE\n"
     ]
    },
    {
     "name": "stderr",
     "output_type": "stream",
     "text": [
      "C:\\Users\\whill\\anaconda3\\lib\\site-packages\\snowflake\\snowpark\\session.py:1891: UserWarning: Pandas Dataframe has non-standard index of type <class 'pandas.core.indexes.numeric.Int64Index'> which will not be written. Consider changing the index to pd.RangeIndex(start=0,...,step=1) or call reset_index() to keep index as column(s)\n",
      "  success, nchunks, nrows, ci_output = write_pandas(\n"
     ]
    },
    {
     "name": "stdout",
     "output_type": "stream",
     "text": [
      "478134 values inserted into table SCHEDULE_RCI\n"
     ]
    },
    {
     "name": "stderr",
     "output_type": "stream",
     "text": [
      "C:\\Users\\whill\\anaconda3\\lib\\site-packages\\snowflake\\snowpark\\session.py:1891: UserWarning: Pandas Dataframe has non-standard index of type <class 'pandas.core.indexes.numeric.Int64Index'> which will not be written. Consider changing the index to pd.RangeIndex(start=0,...,step=1) or call reset_index() to keep index as column(s)\n",
      "  success, nchunks, nrows, ci_output = write_pandas(\n"
     ]
    },
    {
     "name": "stdout",
     "output_type": "stream",
     "text": [
      "478134 values inserted into table SCHEDULE_RCL\n"
     ]
    },
    {
     "name": "stderr",
     "output_type": "stream",
     "text": [
      "C:\\Users\\whill\\anaconda3\\lib\\site-packages\\snowflake\\snowpark\\session.py:1891: UserWarning: Pandas Dataframe has non-standard index of type <class 'pandas.core.indexes.numeric.Int64Index'> which will not be written. Consider changing the index to pd.RangeIndex(start=0,...,step=1) or call reset_index() to keep index as column(s)\n",
      "  success, nchunks, nrows, ci_output = write_pandas(\n"
     ]
    },
    {
     "name": "stdout",
     "output_type": "stream",
     "text": [
      "478134 values inserted into table SCHEDULE_RCO\n"
     ]
    },
    {
     "name": "stderr",
     "output_type": "stream",
     "text": [
      "C:\\Users\\whill\\anaconda3\\lib\\site-packages\\snowflake\\snowpark\\session.py:1891: UserWarning: Pandas Dataframe has non-standard index of type <class 'pandas.core.indexes.numeric.Int64Index'> which will not be written. Consider changing the index to pd.RangeIndex(start=0,...,step=1) or call reset_index() to keep index as column(s)\n",
      "  success, nchunks, nrows, ci_output = write_pandas(\n"
     ]
    },
    {
     "name": "stdout",
     "output_type": "stream",
     "text": [
      "478134 values inserted into table SCHEDULE_RCQ\n"
     ]
    },
    {
     "name": "stderr",
     "output_type": "stream",
     "text": [
      "C:\\Users\\whill\\anaconda3\\lib\\site-packages\\snowflake\\snowpark\\session.py:1891: UserWarning: Pandas Dataframe has non-standard index of type <class 'pandas.core.indexes.numeric.Int64Index'> which will not be written. Consider changing the index to pd.RangeIndex(start=0,...,step=1) or call reset_index() to keep index as column(s)\n",
      "  success, nchunks, nrows, ci_output = write_pandas(\n"
     ]
    },
    {
     "name": "stdout",
     "output_type": "stream",
     "text": [
      "478134 values inserted into table SCHEDULE_RICI\n"
     ]
    },
    {
     "name": "stderr",
     "output_type": "stream",
     "text": [
      "C:\\Users\\whill\\anaconda3\\lib\\site-packages\\snowflake\\snowpark\\session.py:1891: UserWarning: Pandas Dataframe has non-standard index of type <class 'pandas.core.indexes.numeric.Int64Index'> which will not be written. Consider changing the index to pd.RangeIndex(start=0,...,step=1) or call reset_index() to keep index as column(s)\n",
      "  success, nchunks, nrows, ci_output = write_pandas(\n"
     ]
    },
    {
     "name": "stdout",
     "output_type": "stream",
     "text": [
      "478134 values inserted into table SCHEDULE_SU\n"
     ]
    },
    {
     "name": "stderr",
     "output_type": "stream",
     "text": [
      "C:\\Users\\whill\\anaconda3\\lib\\site-packages\\snowflake\\snowpark\\session.py:1891: UserWarning: Pandas Dataframe has non-standard index of type <class 'pandas.core.indexes.numeric.Int64Index'> which will not be written. Consider changing the index to pd.RangeIndex(start=0,...,step=1) or call reset_index() to keep index as column(s)\n",
      "  success, nchunks, nrows, ci_output = write_pandas(\n"
     ]
    },
    {
     "name": "stdout",
     "output_type": "stream",
     "text": [
      "478134 values inserted into table SCHEDULE_RCEII\n"
     ]
    },
    {
     "name": "stderr",
     "output_type": "stream",
     "text": [
      "C:\\Users\\whill\\anaconda3\\lib\\site-packages\\snowflake\\snowpark\\session.py:1891: UserWarning: Pandas Dataframe has non-standard index of type <class 'pandas.core.indexes.numeric.Int64Index'> which will not be written. Consider changing the index to pd.RangeIndex(start=0,...,step=1) or call reset_index() to keep index as column(s)\n",
      "  success, nchunks, nrows, ci_output = write_pandas(\n"
     ]
    },
    {
     "name": "stdout",
     "output_type": "stream",
     "text": [
      "478134 values inserted into table SCHEDULE_RCN\n"
     ]
    },
    {
     "name": "stderr",
     "output_type": "stream",
     "text": [
      "C:\\Users\\whill\\anaconda3\\lib\\site-packages\\snowflake\\snowpark\\session.py:1891: UserWarning: Pandas Dataframe has non-standard index of type <class 'pandas.core.indexes.numeric.Int64Index'> which will not be written. Consider changing the index to pd.RangeIndex(start=0,...,step=1) or call reset_index() to keep index as column(s)\n",
      "  success, nchunks, nrows, ci_output = write_pandas(\n"
     ]
    },
    {
     "name": "stdout",
     "output_type": "stream",
     "text": [
      "478134 values inserted into table SCHEDULE_RIBI\n"
     ]
    },
    {
     "name": "stderr",
     "output_type": "stream",
     "text": [
      "C:\\Users\\whill\\anaconda3\\lib\\site-packages\\snowflake\\snowpark\\session.py:1891: UserWarning: Pandas Dataframe has non-standard index of type <class 'pandas.core.indexes.numeric.Int64Index'> which will not be written. Consider changing the index to pd.RangeIndex(start=0,...,step=1) or call reset_index() to keep index as column(s)\n",
      "  success, nchunks, nrows, ci_output = write_pandas(\n"
     ]
    },
    {
     "name": "stdout",
     "output_type": "stream",
     "text": [
      "478134 values inserted into table SCHEDULE_RCD\n"
     ]
    },
    {
     "name": "stderr",
     "output_type": "stream",
     "text": [
      "C:\\Users\\whill\\anaconda3\\lib\\site-packages\\snowflake\\snowpark\\session.py:1891: UserWarning: Pandas Dataframe has non-standard index of type <class 'pandas.core.indexes.numeric.Int64Index'> which will not be written. Consider changing the index to pd.RangeIndex(start=0,...,step=1) or call reset_index() to keep index as column(s)\n",
      "  success, nchunks, nrows, ci_output = write_pandas(\n"
     ]
    },
    {
     "name": "stdout",
     "output_type": "stream",
     "text": [
      "478134 values inserted into table SCHEDULE_RCA\n"
     ]
    },
    {
     "name": "stderr",
     "output_type": "stream",
     "text": [
      "C:\\Users\\whill\\anaconda3\\lib\\site-packages\\snowflake\\snowpark\\session.py:1891: UserWarning: Pandas Dataframe has non-standard index of type <class 'pandas.core.indexes.numeric.Int64Index'> which will not be written. Consider changing the index to pd.RangeIndex(start=0,...,step=1) or call reset_index() to keep index as column(s)\n",
      "  success, nchunks, nrows, ci_output = write_pandas(\n"
     ]
    },
    {
     "name": "stdout",
     "output_type": "stream",
     "text": [
      "478134 values inserted into table SCHEDULE_RCF\n"
     ]
    },
    {
     "name": "stderr",
     "output_type": "stream",
     "text": [
      "C:\\Users\\whill\\anaconda3\\lib\\site-packages\\snowflake\\snowpark\\session.py:1891: UserWarning: Pandas Dataframe has non-standard index of type <class 'pandas.core.indexes.numeric.Int64Index'> which will not be written. Consider changing the index to pd.RangeIndex(start=0,...,step=1) or call reset_index() to keep index as column(s)\n",
      "  success, nchunks, nrows, ci_output = write_pandas(\n"
     ]
    },
    {
     "name": "stdout",
     "output_type": "stream",
     "text": [
      "478134 values inserted into table SCHEDULE_RCH\n"
     ]
    },
    {
     "name": "stderr",
     "output_type": "stream",
     "text": [
      "C:\\Users\\whill\\anaconda3\\lib\\site-packages\\snowflake\\snowpark\\session.py:1891: UserWarning: Pandas Dataframe has non-standard index of type <class 'pandas.core.indexes.numeric.Int64Index'> which will not be written. Consider changing the index to pd.RangeIndex(start=0,...,step=1) or call reset_index() to keep index as column(s)\n",
      "  success, nchunks, nrows, ci_output = write_pandas(\n"
     ]
    },
    {
     "name": "stdout",
     "output_type": "stream",
     "text": [
      "478134 values inserted into table SCHEDULE_RCT\n"
     ]
    },
    {
     "name": "stderr",
     "output_type": "stream",
     "text": [
      "C:\\Users\\whill\\anaconda3\\lib\\site-packages\\snowflake\\snowpark\\session.py:1891: UserWarning: Pandas Dataframe has non-standard index of type <class 'pandas.core.indexes.numeric.Int64Index'> which will not be written. Consider changing the index to pd.RangeIndex(start=0,...,step=1) or call reset_index() to keep index as column(s)\n",
      "  success, nchunks, nrows, ci_output = write_pandas(\n"
     ]
    },
    {
     "name": "stdout",
     "output_type": "stream",
     "text": [
      "478134 values inserted into table SCHEDULE_RI\n"
     ]
    },
    {
     "name": "stderr",
     "output_type": "stream",
     "text": [
      "C:\\Users\\whill\\anaconda3\\lib\\site-packages\\snowflake\\snowpark\\session.py:1891: UserWarning: Pandas Dataframe has non-standard index of type <class 'pandas.core.indexes.numeric.Int64Index'> which will not be written. Consider changing the index to pd.RangeIndex(start=0,...,step=1) or call reset_index() to keep index as column(s)\n",
      "  success, nchunks, nrows, ci_output = write_pandas(\n"
     ]
    },
    {
     "name": "stdout",
     "output_type": "stream",
     "text": [
      "478134 values inserted into table SCHEDULE_RID\n"
     ]
    },
    {
     "name": "stderr",
     "output_type": "stream",
     "text": [
      "C:\\Users\\whill\\anaconda3\\lib\\site-packages\\snowflake\\snowpark\\session.py:1891: UserWarning: Pandas Dataframe has non-standard index of type <class 'pandas.core.indexes.numeric.Int64Index'> which will not be written. Consider changing the index to pd.RangeIndex(start=0,...,step=1) or call reset_index() to keep index as column(s)\n",
      "  success, nchunks, nrows, ci_output = write_pandas(\n"
     ]
    },
    {
     "name": "stdout",
     "output_type": "stream",
     "text": [
      "478134 values inserted into table SCHEDULE_RCCI\n"
     ]
    },
    {
     "name": "stderr",
     "output_type": "stream",
     "text": [
      "C:\\Users\\whill\\anaconda3\\lib\\site-packages\\snowflake\\snowpark\\session.py:1891: UserWarning: Pandas Dataframe has non-standard index of type <class 'pandas.core.indexes.numeric.Int64Index'> which will not be written. Consider changing the index to pd.RangeIndex(start=0,...,step=1) or call reset_index() to keep index as column(s)\n",
      "  success, nchunks, nrows, ci_output = write_pandas(\n"
     ]
    },
    {
     "name": "stdout",
     "output_type": "stream",
     "text": [
      "478134 values inserted into table SCHEDULE_RCR\n"
     ]
    },
    {
     "name": "stderr",
     "output_type": "stream",
     "text": [
      "C:\\Users\\whill\\anaconda3\\lib\\site-packages\\snowflake\\snowpark\\session.py:1891: UserWarning: Pandas Dataframe has non-standard index of type <class 'pandas.core.indexes.numeric.Int64Index'> which will not be written. Consider changing the index to pd.RangeIndex(start=0,...,step=1) or call reset_index() to keep index as column(s)\n",
      "  success, nchunks, nrows, ci_output = write_pandas(\n"
     ]
    },
    {
     "name": "stdout",
     "output_type": "stream",
     "text": [
      "478134 values inserted into table SCHEDULE_RCCII\n"
     ]
    },
    {
     "name": "stderr",
     "output_type": "stream",
     "text": [
      "C:\\Users\\whill\\anaconda3\\lib\\site-packages\\snowflake\\snowpark\\session.py:1891: UserWarning: Pandas Dataframe has non-standard index of type <class 'pandas.core.indexes.numeric.Int64Index'> which will not be written. Consider changing the index to pd.RangeIndex(start=0,...,step=1) or call reset_index() to keep index as column(s)\n",
      "  success, nchunks, nrows, ci_output = write_pandas(\n"
     ]
    },
    {
     "name": "stdout",
     "output_type": "stream",
     "text": [
      "478134 values inserted into table SCHEDULE_RCG\n"
     ]
    },
    {
     "name": "stderr",
     "output_type": "stream",
     "text": [
      "C:\\Users\\whill\\anaconda3\\lib\\site-packages\\snowflake\\snowpark\\session.py:1891: UserWarning: Pandas Dataframe has non-standard index of type <class 'pandas.core.indexes.numeric.Int64Index'> which will not be written. Consider changing the index to pd.RangeIndex(start=0,...,step=1) or call reset_index() to keep index as column(s)\n",
      "  success, nchunks, nrows, ci_output = write_pandas(\n"
     ]
    },
    {
     "name": "stdout",
     "output_type": "stream",
     "text": [
      "478134 values inserted into table SCHEDULE_RCK\n"
     ]
    },
    {
     "name": "stderr",
     "output_type": "stream",
     "text": [
      "C:\\Users\\whill\\anaconda3\\lib\\site-packages\\snowflake\\snowpark\\session.py:1891: UserWarning: Pandas Dataframe has non-standard index of type <class 'pandas.core.indexes.numeric.Int64Index'> which will not be written. Consider changing the index to pd.RangeIndex(start=0,...,step=1) or call reset_index() to keep index as column(s)\n",
      "  success, nchunks, nrows, ci_output = write_pandas(\n"
     ]
    },
    {
     "name": "stdout",
     "output_type": "stream",
     "text": [
      "478134 values inserted into table SCHEDULE_RCM\n"
     ]
    },
    {
     "name": "stderr",
     "output_type": "stream",
     "text": [
      "C:\\Users\\whill\\anaconda3\\lib\\site-packages\\snowflake\\snowpark\\session.py:1891: UserWarning: Pandas Dataframe has non-standard index of type <class 'pandas.core.indexes.numeric.Int64Index'> which will not be written. Consider changing the index to pd.RangeIndex(start=0,...,step=1) or call reset_index() to keep index as column(s)\n",
      "  success, nchunks, nrows, ci_output = write_pandas(\n"
     ]
    },
    {
     "name": "stdout",
     "output_type": "stream",
     "text": [
      "478134 values inserted into table SCHEDULE_RIA\n"
     ]
    },
    {
     "name": "stderr",
     "output_type": "stream",
     "text": [
      "C:\\Users\\whill\\anaconda3\\lib\\site-packages\\snowflake\\snowpark\\session.py:1891: UserWarning: Pandas Dataframe has non-standard index of type <class 'pandas.core.indexes.numeric.Int64Index'> which will not be written. Consider changing the index to pd.RangeIndex(start=0,...,step=1) or call reset_index() to keep index as column(s)\n",
      "  success, nchunks, nrows, ci_output = write_pandas(\n"
     ]
    },
    {
     "name": "stdout",
     "output_type": "stream",
     "text": [
      "478134 values inserted into table SCHEDULE_RCRI\n"
     ]
    },
    {
     "name": "stderr",
     "output_type": "stream",
     "text": [
      "C:\\Users\\whill\\anaconda3\\lib\\site-packages\\snowflake\\snowpark\\session.py:1891: UserWarning: Pandas Dataframe has non-standard index of type <class 'pandas.core.indexes.numeric.Int64Index'> which will not be written. Consider changing the index to pd.RangeIndex(start=0,...,step=1) or call reset_index() to keep index as column(s)\n",
      "  success, nchunks, nrows, ci_output = write_pandas(\n"
     ]
    },
    {
     "name": "stdout",
     "output_type": "stream",
     "text": [
      "478134 values inserted into table SCHEDULE_RIC\n"
     ]
    },
    {
     "name": "stderr",
     "output_type": "stream",
     "text": [
      "C:\\Users\\whill\\anaconda3\\lib\\site-packages\\snowflake\\snowpark\\session.py:1891: UserWarning: Pandas Dataframe has non-standard index of type <class 'pandas.core.indexes.numeric.Int64Index'> which will not be written. Consider changing the index to pd.RangeIndex(start=0,...,step=1) or call reset_index() to keep index as column(s)\n",
      "  success, nchunks, nrows, ci_output = write_pandas(\n"
     ]
    },
    {
     "name": "stdout",
     "output_type": "stream",
     "text": [
      "478134 values inserted into table SCHEDULE_RICII\n"
     ]
    },
    {
     "name": "stderr",
     "output_type": "stream",
     "text": [
      "C:\\Users\\whill\\anaconda3\\lib\\site-packages\\snowflake\\snowpark\\session.py:1891: UserWarning: Pandas Dataframe has non-standard index of type <class 'pandas.core.indexes.numeric.Int64Index'> which will not be written. Consider changing the index to pd.RangeIndex(start=0,...,step=1) or call reset_index() to keep index as column(s)\n",
      "  success, nchunks, nrows, ci_output = write_pandas(\n"
     ]
    },
    {
     "name": "stdout",
     "output_type": "stream",
     "text": [
      "478134 values inserted into table SCHEDULE_RIE\n"
     ]
    },
    {
     "name": "stderr",
     "output_type": "stream",
     "text": [
      "C:\\Users\\whill\\anaconda3\\lib\\site-packages\\snowflake\\snowpark\\session.py:1891: UserWarning: Pandas Dataframe has non-standard index of type <class 'pandas.core.indexes.numeric.Int64Index'> which will not be written. Consider changing the index to pd.RangeIndex(start=0,...,step=1) or call reset_index() to keep index as column(s)\n",
      "  success, nchunks, nrows, ci_output = write_pandas(\n"
     ]
    },
    {
     "name": "stdout",
     "output_type": "stream",
     "text": [
      "478134 values inserted into table SCHEDULE_ENT\n"
     ]
    },
    {
     "name": "stderr",
     "output_type": "stream",
     "text": [
      "C:\\Users\\whill\\anaconda3\\lib\\site-packages\\snowflake\\snowpark\\session.py:1891: UserWarning: Pandas Dataframe has non-standard index of type <class 'pandas.core.indexes.numeric.Int64Index'> which will not be written. Consider changing the index to pd.RangeIndex(start=0,...,step=1) or call reset_index() to keep index as column(s)\n",
      "  success, nchunks, nrows, ci_output = write_pandas(\n"
     ]
    },
    {
     "name": "stdout",
     "output_type": "stream",
     "text": [
      "478134 values inserted into table SCHEDULE_LEO\n"
     ]
    },
    {
     "name": "stderr",
     "output_type": "stream",
     "text": [
      "C:\\Users\\whill\\anaconda3\\lib\\site-packages\\snowflake\\snowpark\\session.py:1891: UserWarning: Pandas Dataframe has non-standard index of type <class 'pandas.core.indexes.numeric.Int64Index'> which will not be written. Consider changing the index to pd.RangeIndex(start=0,...,step=1) or call reset_index() to keep index as column(s)\n",
      "  success, nchunks, nrows, ci_output = write_pandas(\n"
     ]
    },
    {
     "name": "stdout",
     "output_type": "stream",
     "text": [
      "478134 values inserted into table SCHEDULE_RC\n"
     ]
    },
    {
     "name": "stderr",
     "output_type": "stream",
     "text": [
      "C:\\Users\\whill\\anaconda3\\lib\\site-packages\\snowflake\\snowpark\\session.py:1891: UserWarning: Pandas Dataframe has non-standard index of type <class 'pandas.core.indexes.numeric.Int64Index'> which will not be written. Consider changing the index to pd.RangeIndex(start=0,...,step=1) or call reset_index() to keep index as column(s)\n",
      "  success, nchunks, nrows, ci_output = write_pandas(\n"
     ]
    },
    {
     "name": "stdout",
     "output_type": "stream",
     "text": [
      "478134 values inserted into table SCHEDULE_RCEI\n"
     ]
    },
    {
     "name": "stderr",
     "output_type": "stream",
     "text": [
      "C:\\Users\\whill\\anaconda3\\lib\\site-packages\\snowflake\\snowpark\\session.py:1891: UserWarning: Pandas Dataframe has non-standard index of type <class 'pandas.core.indexes.numeric.Int64Index'> which will not be written. Consider changing the index to pd.RangeIndex(start=0,...,step=1) or call reset_index() to keep index as column(s)\n",
      "  success, nchunks, nrows, ci_output = write_pandas(\n"
     ]
    },
    {
     "name": "stdout",
     "output_type": "stream",
     "text": [
      "478134 values inserted into table SCHEDULE_RCP\n"
     ]
    },
    {
     "name": "stderr",
     "output_type": "stream",
     "text": [
      "C:\\Users\\whill\\anaconda3\\lib\\site-packages\\snowflake\\snowpark\\session.py:1891: UserWarning: Pandas Dataframe has non-standard index of type <class 'pandas.core.indexes.numeric.Int64Index'> which will not be written. Consider changing the index to pd.RangeIndex(start=0,...,step=1) or call reset_index() to keep index as column(s)\n",
      "  success, nchunks, nrows, ci_output = write_pandas(\n"
     ]
    },
    {
     "name": "stdout",
     "output_type": "stream",
     "text": [
      "478134 values inserted into table SCHEDULE_RCRII\n"
     ]
    },
    {
     "name": "stderr",
     "output_type": "stream",
     "text": [
      "C:\\Users\\whill\\anaconda3\\lib\\site-packages\\snowflake\\snowpark\\session.py:1891: UserWarning: Pandas Dataframe has non-standard index of type <class 'pandas.core.indexes.numeric.Int64Index'> which will not be written. Consider changing the index to pd.RangeIndex(start=0,...,step=1) or call reset_index() to keep index as column(s)\n",
      "  success, nchunks, nrows, ci_output = write_pandas(\n"
     ]
    },
    {
     "name": "stdout",
     "output_type": "stream",
     "text": [
      "478134 values inserted into table SCHEDULE_RCS\n"
     ]
    },
    {
     "name": "stderr",
     "output_type": "stream",
     "text": [
      "C:\\Users\\whill\\anaconda3\\lib\\site-packages\\snowflake\\snowpark\\session.py:1891: UserWarning: Pandas Dataframe has non-standard index of type <class 'pandas.core.indexes.numeric.Int64Index'> which will not be written. Consider changing the index to pd.RangeIndex(start=0,...,step=1) or call reset_index() to keep index as column(s)\n",
      "  success, nchunks, nrows, ci_output = write_pandas(\n"
     ]
    },
    {
     "name": "stdout",
     "output_type": "stream",
     "text": [
      "478134 values inserted into table SCHEDULE_RCV\n"
     ]
    },
    {
     "name": "stderr",
     "output_type": "stream",
     "text": [
      "C:\\Users\\whill\\anaconda3\\lib\\site-packages\\snowflake\\snowpark\\session.py:1891: UserWarning: Pandas Dataframe has non-standard index of type <class 'pandas.core.indexes.numeric.Int64Index'> which will not be written. Consider changing the index to pd.RangeIndex(start=0,...,step=1) or call reset_index() to keep index as column(s)\n",
      "  success, nchunks, nrows, ci_output = write_pandas(\n"
     ]
    },
    {
     "name": "stdout",
     "output_type": "stream",
     "text": [
      "478134 values inserted into table SCHEDULE_UNDEFINED\n"
     ]
    },
    {
     "name": "stderr",
     "output_type": "stream",
     "text": [
      "C:\\Users\\whill\\anaconda3\\lib\\site-packages\\snowflake\\snowpark\\session.py:1891: UserWarning: Pandas Dataframe has non-standard index of type <class 'pandas.core.indexes.numeric.Int64Index'> which will not be written. Consider changing the index to pd.RangeIndex(start=0,...,step=1) or call reset_index() to keep index as column(s)\n",
      "  success, nchunks, nrows, ci_output = write_pandas(\n"
     ]
    },
    {
     "name": "stdout",
     "output_type": "stream",
     "text": [
      "478134 values inserted into table SCHEDULE_RIBII\n",
      "C:\\Users\\whill\\call-report-database\\Bulk_Files\\2014\\03_31\\FFIEC CDR Call Schedule CI 03312014.txt\n",
      "C:\\Users\\whill\\call-report-database\\Bulk_Files\\2014\\03_31\\FFIEC CDR Call Schedule ENT 03312014.txt\n",
      "C:\\Users\\whill\\call-report-database\\Bulk_Files\\2014\\03_31\\FFIEC CDR Call Schedule NARR 03312014.txt\n",
      "C:\\Users\\whill\\call-report-database\\Bulk_Files\\2014\\03_31\\FFIEC CDR Call Schedule RC 03312014.txt\n",
      "C:\\Users\\whill\\call-report-database\\Bulk_Files\\2014\\03_31\\FFIEC CDR Call Schedule RCA 03312014.txt\n",
      "C:\\Users\\whill\\call-report-database\\Bulk_Files\\2014\\03_31\\FFIEC CDR Call Schedule RCB 03312014(1 of 2).txt\n",
      "C:\\Users\\whill\\call-report-database\\Bulk_Files\\2014\\03_31\\FFIEC CDR Call Schedule RCB 03312014(2 of 2).txt\n",
      "C:\\Users\\whill\\call-report-database\\Bulk_Files\\2014\\03_31\\FFIEC CDR Call Schedule RCCI 03312014.txt\n",
      "C:\\Users\\whill\\call-report-database\\Bulk_Files\\2014\\03_31\\FFIEC CDR Call Schedule RCCII 03312014.txt\n",
      "C:\\Users\\whill\\call-report-database\\Bulk_Files\\2014\\03_31\\FFIEC CDR Call Schedule RCD 03312014.txt\n",
      "C:\\Users\\whill\\call-report-database\\Bulk_Files\\2014\\03_31\\FFIEC CDR Call Schedule RCE 03312014.txt\n",
      "C:\\Users\\whill\\call-report-database\\Bulk_Files\\2014\\03_31\\FFIEC CDR Call Schedule RCEI 03312014.txt\n",
      "C:\\Users\\whill\\call-report-database\\Bulk_Files\\2014\\03_31\\FFIEC CDR Call Schedule RCEII 03312014.txt\n",
      "C:\\Users\\whill\\call-report-database\\Bulk_Files\\2014\\03_31\\FFIEC CDR Call Schedule RCF 03312014.txt\n",
      "C:\\Users\\whill\\call-report-database\\Bulk_Files\\2014\\03_31\\FFIEC CDR Call Schedule RCG 03312014.txt\n",
      "C:\\Users\\whill\\call-report-database\\Bulk_Files\\2014\\03_31\\FFIEC CDR Call Schedule RCH 03312014.txt\n",
      "C:\\Users\\whill\\call-report-database\\Bulk_Files\\2014\\03_31\\FFIEC CDR Call Schedule RCI 03312014.txt\n",
      "C:\\Users\\whill\\call-report-database\\Bulk_Files\\2014\\03_31\\FFIEC CDR Call Schedule RCK 03312014.txt\n",
      "C:\\Users\\whill\\call-report-database\\Bulk_Files\\2014\\03_31\\FFIEC CDR Call Schedule RCL 03312014(1 of 2).txt\n",
      "C:\\Users\\whill\\call-report-database\\Bulk_Files\\2014\\03_31\\FFIEC CDR Call Schedule RCL 03312014(2 of 2).txt\n",
      "C:\\Users\\whill\\call-report-database\\Bulk_Files\\2014\\03_31\\FFIEC CDR Call Schedule RCM 03312014.txt\n",
      "C:\\Users\\whill\\call-report-database\\Bulk_Files\\2014\\03_31\\FFIEC CDR Call Schedule RCN 03312014(1 of 2).txt\n",
      "C:\\Users\\whill\\call-report-database\\Bulk_Files\\2014\\03_31\\FFIEC CDR Call Schedule RCN 03312014(2 of 2).txt\n",
      "C:\\Users\\whill\\call-report-database\\Bulk_Files\\2014\\03_31\\FFIEC CDR Call Schedule RCO 03312014(1 of 2).txt\n",
      "C:\\Users\\whill\\call-report-database\\Bulk_Files\\2014\\03_31\\FFIEC CDR Call Schedule RCO 03312014(2 of 2).txt\n",
      "C:\\Users\\whill\\call-report-database\\Bulk_Files\\2014\\03_31\\FFIEC CDR Call Schedule RCP 03312014.txt\n",
      "C:\\Users\\whill\\call-report-database\\Bulk_Files\\2014\\03_31\\FFIEC CDR Call Schedule RCQ 03312014(1 of 2).txt\n",
      "C:\\Users\\whill\\call-report-database\\Bulk_Files\\2014\\03_31\\FFIEC CDR Call Schedule RCQ 03312014(2 of 2).txt\n",
      "C:\\Users\\whill\\call-report-database\\Bulk_Files\\2014\\03_31\\FFIEC CDR Call Schedule RCRIA 03312014.txt\n",
      "C:\\Users\\whill\\call-report-database\\Bulk_Files\\2014\\03_31\\FFIEC CDR Call Schedule RCRIB 03312014.txt\n",
      "C:\\Users\\whill\\call-report-database\\Bulk_Files\\2014\\03_31\\FFIEC CDR Call Schedule RCRII 03312014(1 of 2).txt\n",
      "C:\\Users\\whill\\call-report-database\\Bulk_Files\\2014\\03_31\\FFIEC CDR Call Schedule RCRII 03312014(2 of 2).txt\n",
      "C:\\Users\\whill\\call-report-database\\Bulk_Files\\2014\\03_31\\FFIEC CDR Call Schedule RCS 03312014.txt\n",
      "C:\\Users\\whill\\call-report-database\\Bulk_Files\\2014\\03_31\\FFIEC CDR Call Schedule RCT 03312014(1 of 2).txt\n",
      "C:\\Users\\whill\\call-report-database\\Bulk_Files\\2014\\03_31\\FFIEC CDR Call Schedule RCT 03312014(2 of 2).txt\n",
      "C:\\Users\\whill\\call-report-database\\Bulk_Files\\2014\\03_31\\FFIEC CDR Call Schedule RCV 03312014.txt\n",
      "C:\\Users\\whill\\call-report-database\\Bulk_Files\\2014\\03_31\\FFIEC CDR Call Schedule RI 03312014.txt\n",
      "C:\\Users\\whill\\call-report-database\\Bulk_Files\\2014\\03_31\\FFIEC CDR Call Schedule RIA 03312014.txt\n",
      "C:\\Users\\whill\\call-report-database\\Bulk_Files\\2014\\03_31\\FFIEC CDR Call Schedule RIBI 03312014.txt\n",
      "C:\\Users\\whill\\call-report-database\\Bulk_Files\\2014\\03_31\\FFIEC CDR Call Schedule RIBII 03312014.txt\n",
      "C:\\Users\\whill\\call-report-database\\Bulk_Files\\2014\\03_31\\FFIEC CDR Call Schedule RIC 03312014.txt\n",
      "C:\\Users\\whill\\call-report-database\\Bulk_Files\\2014\\03_31\\FFIEC CDR Call Schedule RID 03312014.txt\n",
      "C:\\Users\\whill\\call-report-database\\Bulk_Files\\2014\\03_31\\FFIEC CDR Call Schedule RIE 03312014.txt\n"
     ]
    },
    {
     "name": "stderr",
     "output_type": "stream",
     "text": [
      "C:\\Users\\whill\\anaconda3\\lib\\site-packages\\snowflake\\snowpark\\session.py:1891: UserWarning: Pandas Dataframe has non-standard index of type <class 'pandas.core.indexes.numeric.Int64Index'> which will not be written. Consider changing the index to pd.RangeIndex(start=0,...,step=1) or call reset_index() to keep index as column(s)\n",
      "  success, nchunks, nrows, ci_output = write_pandas(\n"
     ]
    },
    {
     "name": "stdout",
     "output_type": "stream",
     "text": [
      "484928 values inserted into table SCHEDULE_RCCII\n"
     ]
    },
    {
     "name": "stderr",
     "output_type": "stream",
     "text": [
      "C:\\Users\\whill\\anaconda3\\lib\\site-packages\\snowflake\\snowpark\\session.py:1891: UserWarning: Pandas Dataframe has non-standard index of type <class 'pandas.core.indexes.numeric.Int64Index'> which will not be written. Consider changing the index to pd.RangeIndex(start=0,...,step=1) or call reset_index() to keep index as column(s)\n",
      "  success, nchunks, nrows, ci_output = write_pandas(\n"
     ]
    },
    {
     "name": "stdout",
     "output_type": "stream",
     "text": [
      "484928 values inserted into table SCHEDULE_RCF\n"
     ]
    },
    {
     "name": "stderr",
     "output_type": "stream",
     "text": [
      "C:\\Users\\whill\\anaconda3\\lib\\site-packages\\snowflake\\snowpark\\session.py:1891: UserWarning: Pandas Dataframe has non-standard index of type <class 'pandas.core.indexes.numeric.Int64Index'> which will not be written. Consider changing the index to pd.RangeIndex(start=0,...,step=1) or call reset_index() to keep index as column(s)\n",
      "  success, nchunks, nrows, ci_output = write_pandas(\n"
     ]
    },
    {
     "name": "stdout",
     "output_type": "stream",
     "text": [
      "484928 values inserted into table SCHEDULE_RCH\n"
     ]
    },
    {
     "name": "stderr",
     "output_type": "stream",
     "text": [
      "C:\\Users\\whill\\anaconda3\\lib\\site-packages\\snowflake\\snowpark\\session.py:1891: UserWarning: Pandas Dataframe has non-standard index of type <class 'pandas.core.indexes.numeric.Int64Index'> which will not be written. Consider changing the index to pd.RangeIndex(start=0,...,step=1) or call reset_index() to keep index as column(s)\n",
      "  success, nchunks, nrows, ci_output = write_pandas(\n"
     ]
    },
    {
     "name": "stdout",
     "output_type": "stream",
     "text": [
      "484928 values inserted into table SCHEDULE_RCN\n"
     ]
    },
    {
     "name": "stderr",
     "output_type": "stream",
     "text": [
      "C:\\Users\\whill\\anaconda3\\lib\\site-packages\\snowflake\\snowpark\\session.py:1891: UserWarning: Pandas Dataframe has non-standard index of type <class 'pandas.core.indexes.numeric.Int64Index'> which will not be written. Consider changing the index to pd.RangeIndex(start=0,...,step=1) or call reset_index() to keep index as column(s)\n",
      "  success, nchunks, nrows, ci_output = write_pandas(\n"
     ]
    },
    {
     "name": "stdout",
     "output_type": "stream",
     "text": [
      "484928 values inserted into table SCHEDULE_RCRI\n"
     ]
    },
    {
     "name": "stderr",
     "output_type": "stream",
     "text": [
      "C:\\Users\\whill\\anaconda3\\lib\\site-packages\\snowflake\\snowpark\\session.py:1891: UserWarning: Pandas Dataframe has non-standard index of type <class 'pandas.core.indexes.numeric.Int64Index'> which will not be written. Consider changing the index to pd.RangeIndex(start=0,...,step=1) or call reset_index() to keep index as column(s)\n",
      "  success, nchunks, nrows, ci_output = write_pandas(\n"
     ]
    },
    {
     "name": "stdout",
     "output_type": "stream",
     "text": [
      "484928 values inserted into table SCHEDULE_UNDEFINED\n"
     ]
    },
    {
     "name": "stderr",
     "output_type": "stream",
     "text": [
      "C:\\Users\\whill\\anaconda3\\lib\\site-packages\\snowflake\\snowpark\\session.py:1891: UserWarning: Pandas Dataframe has non-standard index of type <class 'pandas.core.indexes.numeric.Int64Index'> which will not be written. Consider changing the index to pd.RangeIndex(start=0,...,step=1) or call reset_index() to keep index as column(s)\n",
      "  success, nchunks, nrows, ci_output = write_pandas(\n"
     ]
    },
    {
     "name": "stdout",
     "output_type": "stream",
     "text": [
      "484928 values inserted into table SCHEDULE_RIE\n"
     ]
    },
    {
     "name": "stderr",
     "output_type": "stream",
     "text": [
      "C:\\Users\\whill\\anaconda3\\lib\\site-packages\\snowflake\\snowpark\\session.py:1891: UserWarning: Pandas Dataframe has non-standard index of type <class 'pandas.core.indexes.numeric.Int64Index'> which will not be written. Consider changing the index to pd.RangeIndex(start=0,...,step=1) or call reset_index() to keep index as column(s)\n",
      "  success, nchunks, nrows, ci_output = write_pandas(\n"
     ]
    },
    {
     "name": "stdout",
     "output_type": "stream",
     "text": [
      "484928 values inserted into table SCHEDULE_RCQ\n"
     ]
    },
    {
     "name": "stderr",
     "output_type": "stream",
     "text": [
      "C:\\Users\\whill\\anaconda3\\lib\\site-packages\\snowflake\\snowpark\\session.py:1891: UserWarning: Pandas Dataframe has non-standard index of type <class 'pandas.core.indexes.numeric.Int64Index'> which will not be written. Consider changing the index to pd.RangeIndex(start=0,...,step=1) or call reset_index() to keep index as column(s)\n",
      "  success, nchunks, nrows, ci_output = write_pandas(\n"
     ]
    },
    {
     "name": "stdout",
     "output_type": "stream",
     "text": [
      "484928 values inserted into table SCHEDULE_RC\n"
     ]
    },
    {
     "name": "stderr",
     "output_type": "stream",
     "text": [
      "C:\\Users\\whill\\anaconda3\\lib\\site-packages\\snowflake\\snowpark\\session.py:1891: UserWarning: Pandas Dataframe has non-standard index of type <class 'pandas.core.indexes.numeric.Int64Index'> which will not be written. Consider changing the index to pd.RangeIndex(start=0,...,step=1) or call reset_index() to keep index as column(s)\n",
      "  success, nchunks, nrows, ci_output = write_pandas(\n"
     ]
    },
    {
     "name": "stdout",
     "output_type": "stream",
     "text": [
      "484928 values inserted into table SCHEDULE_RCCI\n"
     ]
    },
    {
     "name": "stderr",
     "output_type": "stream",
     "text": [
      "C:\\Users\\whill\\anaconda3\\lib\\site-packages\\snowflake\\snowpark\\session.py:1891: UserWarning: Pandas Dataframe has non-standard index of type <class 'pandas.core.indexes.numeric.Int64Index'> which will not be written. Consider changing the index to pd.RangeIndex(start=0,...,step=1) or call reset_index() to keep index as column(s)\n",
      "  success, nchunks, nrows, ci_output = write_pandas(\n"
     ]
    },
    {
     "name": "stdout",
     "output_type": "stream",
     "text": [
      "484928 values inserted into table SCHEDULE_RCEII\n"
     ]
    },
    {
     "name": "stderr",
     "output_type": "stream",
     "text": [
      "C:\\Users\\whill\\anaconda3\\lib\\site-packages\\snowflake\\snowpark\\session.py:1891: UserWarning: Pandas Dataframe has non-standard index of type <class 'pandas.core.indexes.numeric.Int64Index'> which will not be written. Consider changing the index to pd.RangeIndex(start=0,...,step=1) or call reset_index() to keep index as column(s)\n",
      "  success, nchunks, nrows, ci_output = write_pandas(\n"
     ]
    },
    {
     "name": "stdout",
     "output_type": "stream",
     "text": [
      "484928 values inserted into table SCHEDULE_RCG\n"
     ]
    },
    {
     "name": "stderr",
     "output_type": "stream",
     "text": [
      "C:\\Users\\whill\\anaconda3\\lib\\site-packages\\snowflake\\snowpark\\session.py:1891: UserWarning: Pandas Dataframe has non-standard index of type <class 'pandas.core.indexes.numeric.Int64Index'> which will not be written. Consider changing the index to pd.RangeIndex(start=0,...,step=1) or call reset_index() to keep index as column(s)\n",
      "  success, nchunks, nrows, ci_output = write_pandas(\n"
     ]
    },
    {
     "name": "stdout",
     "output_type": "stream",
     "text": [
      "484928 values inserted into table SCHEDULE_RCM\n"
     ]
    },
    {
     "name": "stderr",
     "output_type": "stream",
     "text": [
      "C:\\Users\\whill\\anaconda3\\lib\\site-packages\\snowflake\\snowpark\\session.py:1891: UserWarning: Pandas Dataframe has non-standard index of type <class 'pandas.core.indexes.numeric.Int64Index'> which will not be written. Consider changing the index to pd.RangeIndex(start=0,...,step=1) or call reset_index() to keep index as column(s)\n",
      "  success, nchunks, nrows, ci_output = write_pandas(\n"
     ]
    },
    {
     "name": "stdout",
     "output_type": "stream",
     "text": [
      "484928 values inserted into table SCHEDULE_RCRII\n"
     ]
    },
    {
     "name": "stderr",
     "output_type": "stream",
     "text": [
      "C:\\Users\\whill\\anaconda3\\lib\\site-packages\\snowflake\\snowpark\\session.py:1891: UserWarning: Pandas Dataframe has non-standard index of type <class 'pandas.core.indexes.numeric.Int64Index'> which will not be written. Consider changing the index to pd.RangeIndex(start=0,...,step=1) or call reset_index() to keep index as column(s)\n",
      "  success, nchunks, nrows, ci_output = write_pandas(\n"
     ]
    },
    {
     "name": "stdout",
     "output_type": "stream",
     "text": [
      "484928 values inserted into table SCHEDULE_RID\n"
     ]
    },
    {
     "name": "stderr",
     "output_type": "stream",
     "text": [
      "C:\\Users\\whill\\anaconda3\\lib\\site-packages\\snowflake\\snowpark\\session.py:1891: UserWarning: Pandas Dataframe has non-standard index of type <class 'pandas.core.indexes.numeric.Int64Index'> which will not be written. Consider changing the index to pd.RangeIndex(start=0,...,step=1) or call reset_index() to keep index as column(s)\n",
      "  success, nchunks, nrows, ci_output = write_pandas(\n"
     ]
    },
    {
     "name": "stdout",
     "output_type": "stream",
     "text": [
      "484928 values inserted into table SCHEDULE_RCO\n"
     ]
    },
    {
     "name": "stderr",
     "output_type": "stream",
     "text": [
      "C:\\Users\\whill\\anaconda3\\lib\\site-packages\\snowflake\\snowpark\\session.py:1891: UserWarning: Pandas Dataframe has non-standard index of type <class 'pandas.core.indexes.numeric.Int64Index'> which will not be written. Consider changing the index to pd.RangeIndex(start=0,...,step=1) or call reset_index() to keep index as column(s)\n",
      "  success, nchunks, nrows, ci_output = write_pandas(\n"
     ]
    },
    {
     "name": "stdout",
     "output_type": "stream",
     "text": [
      "484928 values inserted into table SCHEDULE_RCV\n"
     ]
    },
    {
     "name": "stderr",
     "output_type": "stream",
     "text": [
      "C:\\Users\\whill\\anaconda3\\lib\\site-packages\\snowflake\\snowpark\\session.py:1891: UserWarning: Pandas Dataframe has non-standard index of type <class 'pandas.core.indexes.numeric.Int64Index'> which will not be written. Consider changing the index to pd.RangeIndex(start=0,...,step=1) or call reset_index() to keep index as column(s)\n",
      "  success, nchunks, nrows, ci_output = write_pandas(\n"
     ]
    },
    {
     "name": "stdout",
     "output_type": "stream",
     "text": [
      "484928 values inserted into table SCHEDULE_RCP\n"
     ]
    },
    {
     "name": "stderr",
     "output_type": "stream",
     "text": [
      "C:\\Users\\whill\\anaconda3\\lib\\site-packages\\snowflake\\snowpark\\session.py:1891: UserWarning: Pandas Dataframe has non-standard index of type <class 'pandas.core.indexes.numeric.Int64Index'> which will not be written. Consider changing the index to pd.RangeIndex(start=0,...,step=1) or call reset_index() to keep index as column(s)\n",
      "  success, nchunks, nrows, ci_output = write_pandas(\n"
     ]
    },
    {
     "name": "stdout",
     "output_type": "stream",
     "text": [
      "484928 values inserted into table SCHEDULE_ENT\n"
     ]
    },
    {
     "name": "stderr",
     "output_type": "stream",
     "text": [
      "C:\\Users\\whill\\anaconda3\\lib\\site-packages\\snowflake\\snowpark\\session.py:1891: UserWarning: Pandas Dataframe has non-standard index of type <class 'pandas.core.indexes.numeric.Int64Index'> which will not be written. Consider changing the index to pd.RangeIndex(start=0,...,step=1) or call reset_index() to keep index as column(s)\n",
      "  success, nchunks, nrows, ci_output = write_pandas(\n"
     ]
    },
    {
     "name": "stdout",
     "output_type": "stream",
     "text": [
      "484928 values inserted into table SCHEDULE_LEO\n"
     ]
    },
    {
     "name": "stderr",
     "output_type": "stream",
     "text": [
      "C:\\Users\\whill\\anaconda3\\lib\\site-packages\\snowflake\\snowpark\\session.py:1891: UserWarning: Pandas Dataframe has non-standard index of type <class 'pandas.core.indexes.numeric.Int64Index'> which will not be written. Consider changing the index to pd.RangeIndex(start=0,...,step=1) or call reset_index() to keep index as column(s)\n",
      "  success, nchunks, nrows, ci_output = write_pandas(\n"
     ]
    },
    {
     "name": "stdout",
     "output_type": "stream",
     "text": [
      "484928 values inserted into table SCHEDULE_NARR\n"
     ]
    },
    {
     "name": "stderr",
     "output_type": "stream",
     "text": [
      "C:\\Users\\whill\\anaconda3\\lib\\site-packages\\snowflake\\snowpark\\session.py:1891: UserWarning: Pandas Dataframe has non-standard index of type <class 'pandas.core.indexes.numeric.Int64Index'> which will not be written. Consider changing the index to pd.RangeIndex(start=0,...,step=1) or call reset_index() to keep index as column(s)\n",
      "  success, nchunks, nrows, ci_output = write_pandas(\n"
     ]
    },
    {
     "name": "stdout",
     "output_type": "stream",
     "text": [
      "484928 values inserted into table SCHEDULE_RCB\n"
     ]
    },
    {
     "name": "stderr",
     "output_type": "stream",
     "text": [
      "C:\\Users\\whill\\anaconda3\\lib\\site-packages\\snowflake\\snowpark\\session.py:1891: UserWarning: Pandas Dataframe has non-standard index of type <class 'pandas.core.indexes.numeric.Int64Index'> which will not be written. Consider changing the index to pd.RangeIndex(start=0,...,step=1) or call reset_index() to keep index as column(s)\n",
      "  success, nchunks, nrows, ci_output = write_pandas(\n"
     ]
    },
    {
     "name": "stdout",
     "output_type": "stream",
     "text": [
      "484928 values inserted into table SCHEDULE_RCEI\n"
     ]
    },
    {
     "name": "stderr",
     "output_type": "stream",
     "text": [
      "C:\\Users\\whill\\anaconda3\\lib\\site-packages\\snowflake\\snowpark\\session.py:1891: UserWarning: Pandas Dataframe has non-standard index of type <class 'pandas.core.indexes.numeric.Int64Index'> which will not be written. Consider changing the index to pd.RangeIndex(start=0,...,step=1) or call reset_index() to keep index as column(s)\n",
      "  success, nchunks, nrows, ci_output = write_pandas(\n"
     ]
    },
    {
     "name": "stdout",
     "output_type": "stream",
     "text": [
      "484928 values inserted into table SCHEDULE_RCI\n"
     ]
    },
    {
     "name": "stderr",
     "output_type": "stream",
     "text": [
      "C:\\Users\\whill\\anaconda3\\lib\\site-packages\\snowflake\\snowpark\\session.py:1891: UserWarning: Pandas Dataframe has non-standard index of type <class 'pandas.core.indexes.numeric.Int64Index'> which will not be written. Consider changing the index to pd.RangeIndex(start=0,...,step=1) or call reset_index() to keep index as column(s)\n",
      "  success, nchunks, nrows, ci_output = write_pandas(\n"
     ]
    },
    {
     "name": "stdout",
     "output_type": "stream",
     "text": [
      "484928 values inserted into table SCHEDULE_RCL\n"
     ]
    },
    {
     "name": "stderr",
     "output_type": "stream",
     "text": [
      "C:\\Users\\whill\\anaconda3\\lib\\site-packages\\snowflake\\snowpark\\session.py:1891: UserWarning: Pandas Dataframe has non-standard index of type <class 'pandas.core.indexes.numeric.Int64Index'> which will not be written. Consider changing the index to pd.RangeIndex(start=0,...,step=1) or call reset_index() to keep index as column(s)\n",
      "  success, nchunks, nrows, ci_output = write_pandas(\n"
     ]
    },
    {
     "name": "stdout",
     "output_type": "stream",
     "text": [
      "484928 values inserted into table SCHEDULE_RCT\n"
     ]
    },
    {
     "name": "stderr",
     "output_type": "stream",
     "text": [
      "C:\\Users\\whill\\anaconda3\\lib\\site-packages\\snowflake\\snowpark\\session.py:1891: UserWarning: Pandas Dataframe has non-standard index of type <class 'pandas.core.indexes.numeric.Int64Index'> which will not be written. Consider changing the index to pd.RangeIndex(start=0,...,step=1) or call reset_index() to keep index as column(s)\n",
      "  success, nchunks, nrows, ci_output = write_pandas(\n"
     ]
    },
    {
     "name": "stdout",
     "output_type": "stream",
     "text": [
      "484928 values inserted into table SCHEDULE_RCA\n"
     ]
    },
    {
     "name": "stderr",
     "output_type": "stream",
     "text": [
      "C:\\Users\\whill\\anaconda3\\lib\\site-packages\\snowflake\\snowpark\\session.py:1891: UserWarning: Pandas Dataframe has non-standard index of type <class 'pandas.core.indexes.numeric.Int64Index'> which will not be written. Consider changing the index to pd.RangeIndex(start=0,...,step=1) or call reset_index() to keep index as column(s)\n",
      "  success, nchunks, nrows, ci_output = write_pandas(\n"
     ]
    },
    {
     "name": "stdout",
     "output_type": "stream",
     "text": [
      "484928 values inserted into table SCHEDULE_RI\n"
     ]
    },
    {
     "name": "stderr",
     "output_type": "stream",
     "text": [
      "C:\\Users\\whill\\anaconda3\\lib\\site-packages\\snowflake\\snowpark\\session.py:1891: UserWarning: Pandas Dataframe has non-standard index of type <class 'pandas.core.indexes.numeric.Int64Index'> which will not be written. Consider changing the index to pd.RangeIndex(start=0,...,step=1) or call reset_index() to keep index as column(s)\n",
      "  success, nchunks, nrows, ci_output = write_pandas(\n"
     ]
    },
    {
     "name": "stdout",
     "output_type": "stream",
     "text": [
      "484928 values inserted into table SCHEDULE_RIBII\n"
     ]
    },
    {
     "name": "stderr",
     "output_type": "stream",
     "text": [
      "C:\\Users\\whill\\anaconda3\\lib\\site-packages\\snowflake\\snowpark\\session.py:1891: UserWarning: Pandas Dataframe has non-standard index of type <class 'pandas.core.indexes.numeric.Int64Index'> which will not be written. Consider changing the index to pd.RangeIndex(start=0,...,step=1) or call reset_index() to keep index as column(s)\n",
      "  success, nchunks, nrows, ci_output = write_pandas(\n"
     ]
    },
    {
     "name": "stdout",
     "output_type": "stream",
     "text": [
      "484928 values inserted into table SCHEDULE_RCR\n"
     ]
    },
    {
     "name": "stderr",
     "output_type": "stream",
     "text": [
      "C:\\Users\\whill\\anaconda3\\lib\\site-packages\\snowflake\\snowpark\\session.py:1891: UserWarning: Pandas Dataframe has non-standard index of type <class 'pandas.core.indexes.numeric.Int64Index'> which will not be written. Consider changing the index to pd.RangeIndex(start=0,...,step=1) or call reset_index() to keep index as column(s)\n",
      "  success, nchunks, nrows, ci_output = write_pandas(\n"
     ]
    },
    {
     "name": "stdout",
     "output_type": "stream",
     "text": [
      "484928 values inserted into table SCHEDULE_RIA\n"
     ]
    },
    {
     "name": "stderr",
     "output_type": "stream",
     "text": [
      "C:\\Users\\whill\\anaconda3\\lib\\site-packages\\snowflake\\snowpark\\session.py:1891: UserWarning: Pandas Dataframe has non-standard index of type <class 'pandas.core.indexes.numeric.Int64Index'> which will not be written. Consider changing the index to pd.RangeIndex(start=0,...,step=1) or call reset_index() to keep index as column(s)\n",
      "  success, nchunks, nrows, ci_output = write_pandas(\n"
     ]
    },
    {
     "name": "stdout",
     "output_type": "stream",
     "text": [
      "484928 values inserted into table SCHEDULE_RCD\n"
     ]
    },
    {
     "name": "stderr",
     "output_type": "stream",
     "text": [
      "C:\\Users\\whill\\anaconda3\\lib\\site-packages\\snowflake\\snowpark\\session.py:1891: UserWarning: Pandas Dataframe has non-standard index of type <class 'pandas.core.indexes.numeric.Int64Index'> which will not be written. Consider changing the index to pd.RangeIndex(start=0,...,step=1) or call reset_index() to keep index as column(s)\n",
      "  success, nchunks, nrows, ci_output = write_pandas(\n"
     ]
    },
    {
     "name": "stdout",
     "output_type": "stream",
     "text": [
      "484928 values inserted into table SCHEDULE_RCE\n"
     ]
    },
    {
     "name": "stderr",
     "output_type": "stream",
     "text": [
      "C:\\Users\\whill\\anaconda3\\lib\\site-packages\\snowflake\\snowpark\\session.py:1891: UserWarning: Pandas Dataframe has non-standard index of type <class 'pandas.core.indexes.numeric.Int64Index'> which will not be written. Consider changing the index to pd.RangeIndex(start=0,...,step=1) or call reset_index() to keep index as column(s)\n",
      "  success, nchunks, nrows, ci_output = write_pandas(\n"
     ]
    },
    {
     "name": "stdout",
     "output_type": "stream",
     "text": [
      "484928 values inserted into table SCHEDULE_RCK\n"
     ]
    },
    {
     "name": "stderr",
     "output_type": "stream",
     "text": [
      "C:\\Users\\whill\\anaconda3\\lib\\site-packages\\snowflake\\snowpark\\session.py:1891: UserWarning: Pandas Dataframe has non-standard index of type <class 'pandas.core.indexes.numeric.Int64Index'> which will not be written. Consider changing the index to pd.RangeIndex(start=0,...,step=1) or call reset_index() to keep index as column(s)\n",
      "  success, nchunks, nrows, ci_output = write_pandas(\n"
     ]
    },
    {
     "name": "stdout",
     "output_type": "stream",
     "text": [
      "484928 values inserted into table SCHEDULE_RCS\n"
     ]
    },
    {
     "name": "stderr",
     "output_type": "stream",
     "text": [
      "C:\\Users\\whill\\anaconda3\\lib\\site-packages\\snowflake\\snowpark\\session.py:1891: UserWarning: Pandas Dataframe has non-standard index of type <class 'pandas.core.indexes.numeric.Int64Index'> which will not be written. Consider changing the index to pd.RangeIndex(start=0,...,step=1) or call reset_index() to keep index as column(s)\n",
      "  success, nchunks, nrows, ci_output = write_pandas(\n"
     ]
    },
    {
     "name": "stdout",
     "output_type": "stream",
     "text": [
      "484928 values inserted into table SCHEDULE_RIC\n"
     ]
    },
    {
     "name": "stderr",
     "output_type": "stream",
     "text": [
      "C:\\Users\\whill\\anaconda3\\lib\\site-packages\\snowflake\\snowpark\\session.py:1891: UserWarning: Pandas Dataframe has non-standard index of type <class 'pandas.core.indexes.numeric.Int64Index'> which will not be written. Consider changing the index to pd.RangeIndex(start=0,...,step=1) or call reset_index() to keep index as column(s)\n",
      "  success, nchunks, nrows, ci_output = write_pandas(\n"
     ]
    },
    {
     "name": "stdout",
     "output_type": "stream",
     "text": [
      "484928 values inserted into table SCHEDULE_RICI\n"
     ]
    },
    {
     "name": "stderr",
     "output_type": "stream",
     "text": [
      "C:\\Users\\whill\\anaconda3\\lib\\site-packages\\snowflake\\snowpark\\session.py:1891: UserWarning: Pandas Dataframe has non-standard index of type <class 'pandas.core.indexes.numeric.Int64Index'> which will not be written. Consider changing the index to pd.RangeIndex(start=0,...,step=1) or call reset_index() to keep index as column(s)\n",
      "  success, nchunks, nrows, ci_output = write_pandas(\n"
     ]
    },
    {
     "name": "stdout",
     "output_type": "stream",
     "text": [
      "484928 values inserted into table SCHEDULE_RICII\n"
     ]
    },
    {
     "name": "stderr",
     "output_type": "stream",
     "text": [
      "C:\\Users\\whill\\anaconda3\\lib\\site-packages\\snowflake\\snowpark\\session.py:1891: UserWarning: Pandas Dataframe has non-standard index of type <class 'pandas.core.indexes.numeric.Int64Index'> which will not be written. Consider changing the index to pd.RangeIndex(start=0,...,step=1) or call reset_index() to keep index as column(s)\n",
      "  success, nchunks, nrows, ci_output = write_pandas(\n"
     ]
    },
    {
     "name": "stdout",
     "output_type": "stream",
     "text": [
      "484928 values inserted into table SCHEDULE_SU\n"
     ]
    },
    {
     "name": "stderr",
     "output_type": "stream",
     "text": [
      "C:\\Users\\whill\\anaconda3\\lib\\site-packages\\snowflake\\snowpark\\session.py:1891: UserWarning: Pandas Dataframe has non-standard index of type <class 'pandas.core.indexes.numeric.Int64Index'> which will not be written. Consider changing the index to pd.RangeIndex(start=0,...,step=1) or call reset_index() to keep index as column(s)\n",
      "  success, nchunks, nrows, ci_output = write_pandas(\n"
     ]
    },
    {
     "name": "stdout",
     "output_type": "stream",
     "text": [
      "484928 values inserted into table SCHEDULE_RIBI\n",
      "C:\\Users\\whill\\call-report-database\\Bulk_Files\\2014\\06_30\\FFIEC CDR Call Schedule CI 06302014.txt\n",
      "C:\\Users\\whill\\call-report-database\\Bulk_Files\\2014\\06_30\\FFIEC CDR Call Schedule ENT 06302014.txt\n",
      "C:\\Users\\whill\\call-report-database\\Bulk_Files\\2014\\06_30\\FFIEC CDR Call Schedule NARR 06302014.txt\n",
      "C:\\Users\\whill\\call-report-database\\Bulk_Files\\2014\\06_30\\FFIEC CDR Call Schedule RC 06302014.txt\n",
      "C:\\Users\\whill\\call-report-database\\Bulk_Files\\2014\\06_30\\FFIEC CDR Call Schedule RCA 06302014.txt\n",
      "C:\\Users\\whill\\call-report-database\\Bulk_Files\\2014\\06_30\\FFIEC CDR Call Schedule RCB 06302014(1 of 2).txt\n",
      "C:\\Users\\whill\\call-report-database\\Bulk_Files\\2014\\06_30\\FFIEC CDR Call Schedule RCB 06302014(2 of 2).txt\n",
      "C:\\Users\\whill\\call-report-database\\Bulk_Files\\2014\\06_30\\FFIEC CDR Call Schedule RCCI 06302014.txt\n",
      "C:\\Users\\whill\\call-report-database\\Bulk_Files\\2014\\06_30\\FFIEC CDR Call Schedule RCCII 06302014.txt\n",
      "C:\\Users\\whill\\call-report-database\\Bulk_Files\\2014\\06_30\\FFIEC CDR Call Schedule RCD 06302014.txt\n",
      "C:\\Users\\whill\\call-report-database\\Bulk_Files\\2014\\06_30\\FFIEC CDR Call Schedule RCE 06302014.txt\n",
      "C:\\Users\\whill\\call-report-database\\Bulk_Files\\2014\\06_30\\FFIEC CDR Call Schedule RCEI 06302014.txt\n",
      "C:\\Users\\whill\\call-report-database\\Bulk_Files\\2014\\06_30\\FFIEC CDR Call Schedule RCEII 06302014.txt\n",
      "C:\\Users\\whill\\call-report-database\\Bulk_Files\\2014\\06_30\\FFIEC CDR Call Schedule RCF 06302014.txt\n",
      "C:\\Users\\whill\\call-report-database\\Bulk_Files\\2014\\06_30\\FFIEC CDR Call Schedule RCG 06302014.txt\n",
      "C:\\Users\\whill\\call-report-database\\Bulk_Files\\2014\\06_30\\FFIEC CDR Call Schedule RCH 06302014.txt\n",
      "C:\\Users\\whill\\call-report-database\\Bulk_Files\\2014\\06_30\\FFIEC CDR Call Schedule RCI 06302014.txt\n",
      "C:\\Users\\whill\\call-report-database\\Bulk_Files\\2014\\06_30\\FFIEC CDR Call Schedule RCK 06302014.txt\n",
      "C:\\Users\\whill\\call-report-database\\Bulk_Files\\2014\\06_30\\FFIEC CDR Call Schedule RCL 06302014(1 of 2).txt\n",
      "C:\\Users\\whill\\call-report-database\\Bulk_Files\\2014\\06_30\\FFIEC CDR Call Schedule RCL 06302014(2 of 2).txt\n",
      "C:\\Users\\whill\\call-report-database\\Bulk_Files\\2014\\06_30\\FFIEC CDR Call Schedule RCM 06302014.txt\n",
      "C:\\Users\\whill\\call-report-database\\Bulk_Files\\2014\\06_30\\FFIEC CDR Call Schedule RCN 06302014(1 of 2).txt\n",
      "C:\\Users\\whill\\call-report-database\\Bulk_Files\\2014\\06_30\\FFIEC CDR Call Schedule RCN 06302014(2 of 2).txt\n",
      "C:\\Users\\whill\\call-report-database\\Bulk_Files\\2014\\06_30\\FFIEC CDR Call Schedule RCO 06302014(1 of 2).txt\n",
      "C:\\Users\\whill\\call-report-database\\Bulk_Files\\2014\\06_30\\FFIEC CDR Call Schedule RCO 06302014(2 of 2).txt\n",
      "C:\\Users\\whill\\call-report-database\\Bulk_Files\\2014\\06_30\\FFIEC CDR Call Schedule RCP 06302014.txt\n",
      "C:\\Users\\whill\\call-report-database\\Bulk_Files\\2014\\06_30\\FFIEC CDR Call Schedule RCQ 06302014(1 of 2).txt\n",
      "C:\\Users\\whill\\call-report-database\\Bulk_Files\\2014\\06_30\\FFIEC CDR Call Schedule RCQ 06302014(2 of 2).txt\n",
      "C:\\Users\\whill\\call-report-database\\Bulk_Files\\2014\\06_30\\FFIEC CDR Call Schedule RCRIA 06302014.txt\n",
      "C:\\Users\\whill\\call-report-database\\Bulk_Files\\2014\\06_30\\FFIEC CDR Call Schedule RCRIB 06302014.txt\n",
      "C:\\Users\\whill\\call-report-database\\Bulk_Files\\2014\\06_30\\FFIEC CDR Call Schedule RCRII 06302014(1 of 2).txt\n",
      "C:\\Users\\whill\\call-report-database\\Bulk_Files\\2014\\06_30\\FFIEC CDR Call Schedule RCRII 06302014(2 of 2).txt\n",
      "C:\\Users\\whill\\call-report-database\\Bulk_Files\\2014\\06_30\\FFIEC CDR Call Schedule RCS 06302014.txt\n",
      "C:\\Users\\whill\\call-report-database\\Bulk_Files\\2014\\06_30\\FFIEC CDR Call Schedule RCT 06302014(1 of 2).txt\n",
      "C:\\Users\\whill\\call-report-database\\Bulk_Files\\2014\\06_30\\FFIEC CDR Call Schedule RCT 06302014(2 of 2).txt\n",
      "C:\\Users\\whill\\call-report-database\\Bulk_Files\\2014\\06_30\\FFIEC CDR Call Schedule RCV 06302014.txt\n",
      "C:\\Users\\whill\\call-report-database\\Bulk_Files\\2014\\06_30\\FFIEC CDR Call Schedule RI 06302014.txt\n",
      "C:\\Users\\whill\\call-report-database\\Bulk_Files\\2014\\06_30\\FFIEC CDR Call Schedule RIA 06302014.txt\n",
      "C:\\Users\\whill\\call-report-database\\Bulk_Files\\2014\\06_30\\FFIEC CDR Call Schedule RIBI 06302014.txt\n",
      "C:\\Users\\whill\\call-report-database\\Bulk_Files\\2014\\06_30\\FFIEC CDR Call Schedule RIBII 06302014.txt\n",
      "C:\\Users\\whill\\call-report-database\\Bulk_Files\\2014\\06_30\\FFIEC CDR Call Schedule RIC 06302014.txt\n",
      "C:\\Users\\whill\\call-report-database\\Bulk_Files\\2014\\06_30\\FFIEC CDR Call Schedule RID 06302014.txt\n",
      "C:\\Users\\whill\\call-report-database\\Bulk_Files\\2014\\06_30\\FFIEC CDR Call Schedule RIE 06302014.txt\n"
     ]
    },
    {
     "name": "stderr",
     "output_type": "stream",
     "text": [
      "C:\\Users\\whill\\anaconda3\\lib\\site-packages\\snowflake\\snowpark\\session.py:1891: UserWarning: Pandas Dataframe has non-standard index of type <class 'pandas.core.indexes.numeric.Int64Index'> which will not be written. Consider changing the index to pd.RangeIndex(start=0,...,step=1) or call reset_index() to keep index as column(s)\n",
      "  success, nchunks, nrows, ci_output = write_pandas(\n"
     ]
    },
    {
     "name": "stdout",
     "output_type": "stream",
     "text": [
      "491650 values inserted into table SCHEDULE_RCCII\n"
     ]
    },
    {
     "name": "stderr",
     "output_type": "stream",
     "text": [
      "C:\\Users\\whill\\anaconda3\\lib\\site-packages\\snowflake\\snowpark\\session.py:1891: UserWarning: Pandas Dataframe has non-standard index of type <class 'pandas.core.indexes.numeric.Int64Index'> which will not be written. Consider changing the index to pd.RangeIndex(start=0,...,step=1) or call reset_index() to keep index as column(s)\n",
      "  success, nchunks, nrows, ci_output = write_pandas(\n"
     ]
    },
    {
     "name": "stdout",
     "output_type": "stream",
     "text": [
      "491650 values inserted into table SCHEDULE_RCE\n"
     ]
    },
    {
     "name": "stderr",
     "output_type": "stream",
     "text": [
      "C:\\Users\\whill\\anaconda3\\lib\\site-packages\\snowflake\\snowpark\\session.py:1891: UserWarning: Pandas Dataframe has non-standard index of type <class 'pandas.core.indexes.numeric.Int64Index'> which will not be written. Consider changing the index to pd.RangeIndex(start=0,...,step=1) or call reset_index() to keep index as column(s)\n",
      "  success, nchunks, nrows, ci_output = write_pandas(\n"
     ]
    },
    {
     "name": "stdout",
     "output_type": "stream",
     "text": [
      "491650 values inserted into table SCHEDULE_RCEII\n"
     ]
    },
    {
     "name": "stderr",
     "output_type": "stream",
     "text": [
      "C:\\Users\\whill\\anaconda3\\lib\\site-packages\\snowflake\\snowpark\\session.py:1891: UserWarning: Pandas Dataframe has non-standard index of type <class 'pandas.core.indexes.numeric.Int64Index'> which will not be written. Consider changing the index to pd.RangeIndex(start=0,...,step=1) or call reset_index() to keep index as column(s)\n",
      "  success, nchunks, nrows, ci_output = write_pandas(\n"
     ]
    },
    {
     "name": "stdout",
     "output_type": "stream",
     "text": [
      "491650 values inserted into table SCHEDULE_RCT\n"
     ]
    },
    {
     "name": "stderr",
     "output_type": "stream",
     "text": [
      "C:\\Users\\whill\\anaconda3\\lib\\site-packages\\snowflake\\snowpark\\session.py:1891: UserWarning: Pandas Dataframe has non-standard index of type <class 'pandas.core.indexes.numeric.Int64Index'> which will not be written. Consider changing the index to pd.RangeIndex(start=0,...,step=1) or call reset_index() to keep index as column(s)\n",
      "  success, nchunks, nrows, ci_output = write_pandas(\n"
     ]
    },
    {
     "name": "stdout",
     "output_type": "stream",
     "text": [
      "491650 values inserted into table SCHEDULE_RIC\n"
     ]
    },
    {
     "name": "stderr",
     "output_type": "stream",
     "text": [
      "C:\\Users\\whill\\anaconda3\\lib\\site-packages\\snowflake\\snowpark\\session.py:1891: UserWarning: Pandas Dataframe has non-standard index of type <class 'pandas.core.indexes.numeric.Int64Index'> which will not be written. Consider changing the index to pd.RangeIndex(start=0,...,step=1) or call reset_index() to keep index as column(s)\n",
      "  success, nchunks, nrows, ci_output = write_pandas(\n"
     ]
    },
    {
     "name": "stdout",
     "output_type": "stream",
     "text": [
      "491650 values inserted into table SCHEDULE_UNDEFINED\n"
     ]
    },
    {
     "name": "stderr",
     "output_type": "stream",
     "text": [
      "C:\\Users\\whill\\anaconda3\\lib\\site-packages\\snowflake\\snowpark\\session.py:1891: UserWarning: Pandas Dataframe has non-standard index of type <class 'pandas.core.indexes.numeric.Int64Index'> which will not be written. Consider changing the index to pd.RangeIndex(start=0,...,step=1) or call reset_index() to keep index as column(s)\n",
      "  success, nchunks, nrows, ci_output = write_pandas(\n"
     ]
    },
    {
     "name": "stdout",
     "output_type": "stream",
     "text": [
      "491650 values inserted into table SCHEDULE_RCP\n"
     ]
    },
    {
     "name": "stderr",
     "output_type": "stream",
     "text": [
      "C:\\Users\\whill\\anaconda3\\lib\\site-packages\\snowflake\\snowpark\\session.py:1891: UserWarning: Pandas Dataframe has non-standard index of type <class 'pandas.core.indexes.numeric.Int64Index'> which will not be written. Consider changing the index to pd.RangeIndex(start=0,...,step=1) or call reset_index() to keep index as column(s)\n",
      "  success, nchunks, nrows, ci_output = write_pandas(\n"
     ]
    },
    {
     "name": "stdout",
     "output_type": "stream",
     "text": [
      "491650 values inserted into table SCHEDULE_SU\n"
     ]
    },
    {
     "name": "stderr",
     "output_type": "stream",
     "text": [
      "C:\\Users\\whill\\anaconda3\\lib\\site-packages\\snowflake\\snowpark\\session.py:1891: UserWarning: Pandas Dataframe has non-standard index of type <class 'pandas.core.indexes.numeric.Int64Index'> which will not be written. Consider changing the index to pd.RangeIndex(start=0,...,step=1) or call reset_index() to keep index as column(s)\n",
      "  success, nchunks, nrows, ci_output = write_pandas(\n"
     ]
    },
    {
     "name": "stdout",
     "output_type": "stream",
     "text": [
      "491650 values inserted into table SCHEDULE_RI\n"
     ]
    },
    {
     "name": "stderr",
     "output_type": "stream",
     "text": [
      "C:\\Users\\whill\\anaconda3\\lib\\site-packages\\snowflake\\snowpark\\session.py:1891: UserWarning: Pandas Dataframe has non-standard index of type <class 'pandas.core.indexes.numeric.Int64Index'> which will not be written. Consider changing the index to pd.RangeIndex(start=0,...,step=1) or call reset_index() to keep index as column(s)\n",
      "  success, nchunks, nrows, ci_output = write_pandas(\n"
     ]
    },
    {
     "name": "stdout",
     "output_type": "stream",
     "text": [
      "491650 values inserted into table SCHEDULE_ENT\n"
     ]
    },
    {
     "name": "stderr",
     "output_type": "stream",
     "text": [
      "C:\\Users\\whill\\anaconda3\\lib\\site-packages\\snowflake\\snowpark\\session.py:1891: UserWarning: Pandas Dataframe has non-standard index of type <class 'pandas.core.indexes.numeric.Int64Index'> which will not be written. Consider changing the index to pd.RangeIndex(start=0,...,step=1) or call reset_index() to keep index as column(s)\n",
      "  success, nchunks, nrows, ci_output = write_pandas(\n"
     ]
    },
    {
     "name": "stdout",
     "output_type": "stream",
     "text": [
      "491650 values inserted into table SCHEDULE_LEO\n"
     ]
    },
    {
     "name": "stderr",
     "output_type": "stream",
     "text": [
      "C:\\Users\\whill\\anaconda3\\lib\\site-packages\\snowflake\\snowpark\\session.py:1891: UserWarning: Pandas Dataframe has non-standard index of type <class 'pandas.core.indexes.numeric.Int64Index'> which will not be written. Consider changing the index to pd.RangeIndex(start=0,...,step=1) or call reset_index() to keep index as column(s)\n",
      "  success, nchunks, nrows, ci_output = write_pandas(\n"
     ]
    },
    {
     "name": "stdout",
     "output_type": "stream",
     "text": [
      "491650 values inserted into table SCHEDULE_NARR\n"
     ]
    },
    {
     "name": "stderr",
     "output_type": "stream",
     "text": [
      "C:\\Users\\whill\\anaconda3\\lib\\site-packages\\snowflake\\snowpark\\session.py:1891: UserWarning: Pandas Dataframe has non-standard index of type <class 'pandas.core.indexes.numeric.Int64Index'> which will not be written. Consider changing the index to pd.RangeIndex(start=0,...,step=1) or call reset_index() to keep index as column(s)\n",
      "  success, nchunks, nrows, ci_output = write_pandas(\n"
     ]
    },
    {
     "name": "stdout",
     "output_type": "stream",
     "text": [
      "491650 values inserted into table SCHEDULE_RCD\n"
     ]
    },
    {
     "name": "stderr",
     "output_type": "stream",
     "text": [
      "C:\\Users\\whill\\anaconda3\\lib\\site-packages\\snowflake\\snowpark\\session.py:1891: UserWarning: Pandas Dataframe has non-standard index of type <class 'pandas.core.indexes.numeric.Int64Index'> which will not be written. Consider changing the index to pd.RangeIndex(start=0,...,step=1) or call reset_index() to keep index as column(s)\n",
      "  success, nchunks, nrows, ci_output = write_pandas(\n"
     ]
    },
    {
     "name": "stdout",
     "output_type": "stream",
     "text": [
      "491650 values inserted into table SCHEDULE_RCF\n"
     ]
    },
    {
     "name": "stderr",
     "output_type": "stream",
     "text": [
      "C:\\Users\\whill\\anaconda3\\lib\\site-packages\\snowflake\\snowpark\\session.py:1891: UserWarning: Pandas Dataframe has non-standard index of type <class 'pandas.core.indexes.numeric.Int64Index'> which will not be written. Consider changing the index to pd.RangeIndex(start=0,...,step=1) or call reset_index() to keep index as column(s)\n",
      "  success, nchunks, nrows, ci_output = write_pandas(\n"
     ]
    },
    {
     "name": "stdout",
     "output_type": "stream",
     "text": [
      "491650 values inserted into table SCHEDULE_RCI\n"
     ]
    },
    {
     "name": "stderr",
     "output_type": "stream",
     "text": [
      "C:\\Users\\whill\\anaconda3\\lib\\site-packages\\snowflake\\snowpark\\session.py:1891: UserWarning: Pandas Dataframe has non-standard index of type <class 'pandas.core.indexes.numeric.Int64Index'> which will not be written. Consider changing the index to pd.RangeIndex(start=0,...,step=1) or call reset_index() to keep index as column(s)\n",
      "  success, nchunks, nrows, ci_output = write_pandas(\n"
     ]
    },
    {
     "name": "stdout",
     "output_type": "stream",
     "text": [
      "491650 values inserted into table SCHEDULE_RCN\n"
     ]
    },
    {
     "name": "stderr",
     "output_type": "stream",
     "text": [
      "C:\\Users\\whill\\anaconda3\\lib\\site-packages\\snowflake\\snowpark\\session.py:1891: UserWarning: Pandas Dataframe has non-standard index of type <class 'pandas.core.indexes.numeric.Int64Index'> which will not be written. Consider changing the index to pd.RangeIndex(start=0,...,step=1) or call reset_index() to keep index as column(s)\n",
      "  success, nchunks, nrows, ci_output = write_pandas(\n"
     ]
    },
    {
     "name": "stdout",
     "output_type": "stream",
     "text": [
      "491650 values inserted into table SCHEDULE_RCS\n"
     ]
    },
    {
     "name": "stderr",
     "output_type": "stream",
     "text": [
      "C:\\Users\\whill\\anaconda3\\lib\\site-packages\\snowflake\\snowpark\\session.py:1891: UserWarning: Pandas Dataframe has non-standard index of type <class 'pandas.core.indexes.numeric.Int64Index'> which will not be written. Consider changing the index to pd.RangeIndex(start=0,...,step=1) or call reset_index() to keep index as column(s)\n",
      "  success, nchunks, nrows, ci_output = write_pandas(\n"
     ]
    },
    {
     "name": "stdout",
     "output_type": "stream",
     "text": [
      "491650 values inserted into table SCHEDULE_RICI\n"
     ]
    },
    {
     "name": "stderr",
     "output_type": "stream",
     "text": [
      "C:\\Users\\whill\\anaconda3\\lib\\site-packages\\snowflake\\snowpark\\session.py:1891: UserWarning: Pandas Dataframe has non-standard index of type <class 'pandas.core.indexes.numeric.Int64Index'> which will not be written. Consider changing the index to pd.RangeIndex(start=0,...,step=1) or call reset_index() to keep index as column(s)\n",
      "  success, nchunks, nrows, ci_output = write_pandas(\n"
     ]
    },
    {
     "name": "stdout",
     "output_type": "stream",
     "text": [
      "491650 values inserted into table SCHEDULE_RICII\n"
     ]
    },
    {
     "name": "stderr",
     "output_type": "stream",
     "text": [
      "C:\\Users\\whill\\anaconda3\\lib\\site-packages\\snowflake\\snowpark\\session.py:1891: UserWarning: Pandas Dataframe has non-standard index of type <class 'pandas.core.indexes.numeric.Int64Index'> which will not be written. Consider changing the index to pd.RangeIndex(start=0,...,step=1) or call reset_index() to keep index as column(s)\n",
      "  success, nchunks, nrows, ci_output = write_pandas(\n"
     ]
    },
    {
     "name": "stdout",
     "output_type": "stream",
     "text": [
      "491650 values inserted into table SCHEDULE_RCEI\n"
     ]
    },
    {
     "name": "stderr",
     "output_type": "stream",
     "text": [
      "C:\\Users\\whill\\anaconda3\\lib\\site-packages\\snowflake\\snowpark\\session.py:1891: UserWarning: Pandas Dataframe has non-standard index of type <class 'pandas.core.indexes.numeric.Int64Index'> which will not be written. Consider changing the index to pd.RangeIndex(start=0,...,step=1) or call reset_index() to keep index as column(s)\n",
      "  success, nchunks, nrows, ci_output = write_pandas(\n"
     ]
    },
    {
     "name": "stdout",
     "output_type": "stream",
     "text": [
      "491650 values inserted into table SCHEDULE_RCG\n"
     ]
    },
    {
     "name": "stderr",
     "output_type": "stream",
     "text": [
      "C:\\Users\\whill\\anaconda3\\lib\\site-packages\\snowflake\\snowpark\\session.py:1891: UserWarning: Pandas Dataframe has non-standard index of type <class 'pandas.core.indexes.numeric.Int64Index'> which will not be written. Consider changing the index to pd.RangeIndex(start=0,...,step=1) or call reset_index() to keep index as column(s)\n",
      "  success, nchunks, nrows, ci_output = write_pandas(\n"
     ]
    },
    {
     "name": "stdout",
     "output_type": "stream",
     "text": [
      "491650 values inserted into table SCHEDULE_RC\n"
     ]
    },
    {
     "name": "stderr",
     "output_type": "stream",
     "text": [
      "C:\\Users\\whill\\anaconda3\\lib\\site-packages\\snowflake\\snowpark\\session.py:1891: UserWarning: Pandas Dataframe has non-standard index of type <class 'pandas.core.indexes.numeric.Int64Index'> which will not be written. Consider changing the index to pd.RangeIndex(start=0,...,step=1) or call reset_index() to keep index as column(s)\n",
      "  success, nchunks, nrows, ci_output = write_pandas(\n"
     ]
    },
    {
     "name": "stdout",
     "output_type": "stream",
     "text": [
      "491650 values inserted into table SCHEDULE_RCB\n"
     ]
    },
    {
     "name": "stderr",
     "output_type": "stream",
     "text": [
      "C:\\Users\\whill\\anaconda3\\lib\\site-packages\\snowflake\\snowpark\\session.py:1891: UserWarning: Pandas Dataframe has non-standard index of type <class 'pandas.core.indexes.numeric.Int64Index'> which will not be written. Consider changing the index to pd.RangeIndex(start=0,...,step=1) or call reset_index() to keep index as column(s)\n",
      "  success, nchunks, nrows, ci_output = write_pandas(\n"
     ]
    },
    {
     "name": "stdout",
     "output_type": "stream",
     "text": [
      "491650 values inserted into table SCHEDULE_RCK\n"
     ]
    },
    {
     "name": "stderr",
     "output_type": "stream",
     "text": [
      "C:\\Users\\whill\\anaconda3\\lib\\site-packages\\snowflake\\snowpark\\session.py:1891: UserWarning: Pandas Dataframe has non-standard index of type <class 'pandas.core.indexes.numeric.Int64Index'> which will not be written. Consider changing the index to pd.RangeIndex(start=0,...,step=1) or call reset_index() to keep index as column(s)\n",
      "  success, nchunks, nrows, ci_output = write_pandas(\n"
     ]
    },
    {
     "name": "stdout",
     "output_type": "stream",
     "text": [
      "491650 values inserted into table SCHEDULE_RCM\n"
     ]
    },
    {
     "name": "stderr",
     "output_type": "stream",
     "text": [
      "C:\\Users\\whill\\anaconda3\\lib\\site-packages\\snowflake\\snowpark\\session.py:1891: UserWarning: Pandas Dataframe has non-standard index of type <class 'pandas.core.indexes.numeric.Int64Index'> which will not be written. Consider changing the index to pd.RangeIndex(start=0,...,step=1) or call reset_index() to keep index as column(s)\n",
      "  success, nchunks, nrows, ci_output = write_pandas(\n"
     ]
    },
    {
     "name": "stdout",
     "output_type": "stream",
     "text": [
      "491650 values inserted into table SCHEDULE_RCR\n"
     ]
    },
    {
     "name": "stderr",
     "output_type": "stream",
     "text": [
      "C:\\Users\\whill\\anaconda3\\lib\\site-packages\\snowflake\\snowpark\\session.py:1891: UserWarning: Pandas Dataframe has non-standard index of type <class 'pandas.core.indexes.numeric.Int64Index'> which will not be written. Consider changing the index to pd.RangeIndex(start=0,...,step=1) or call reset_index() to keep index as column(s)\n",
      "  success, nchunks, nrows, ci_output = write_pandas(\n"
     ]
    },
    {
     "name": "stdout",
     "output_type": "stream",
     "text": [
      "491650 values inserted into table SCHEDULE_RIBII\n"
     ]
    },
    {
     "name": "stderr",
     "output_type": "stream",
     "text": [
      "C:\\Users\\whill\\anaconda3\\lib\\site-packages\\snowflake\\snowpark\\session.py:1891: UserWarning: Pandas Dataframe has non-standard index of type <class 'pandas.core.indexes.numeric.Int64Index'> which will not be written. Consider changing the index to pd.RangeIndex(start=0,...,step=1) or call reset_index() to keep index as column(s)\n",
      "  success, nchunks, nrows, ci_output = write_pandas(\n"
     ]
    },
    {
     "name": "stdout",
     "output_type": "stream",
     "text": [
      "491650 values inserted into table SCHEDULE_RIE\n"
     ]
    },
    {
     "name": "stderr",
     "output_type": "stream",
     "text": [
      "C:\\Users\\whill\\anaconda3\\lib\\site-packages\\snowflake\\snowpark\\session.py:1891: UserWarning: Pandas Dataframe has non-standard index of type <class 'pandas.core.indexes.numeric.Int64Index'> which will not be written. Consider changing the index to pd.RangeIndex(start=0,...,step=1) or call reset_index() to keep index as column(s)\n",
      "  success, nchunks, nrows, ci_output = write_pandas(\n"
     ]
    },
    {
     "name": "stdout",
     "output_type": "stream",
     "text": [
      "491650 values inserted into table SCHEDULE_RCRI\n"
     ]
    },
    {
     "name": "stderr",
     "output_type": "stream",
     "text": [
      "C:\\Users\\whill\\anaconda3\\lib\\site-packages\\snowflake\\snowpark\\session.py:1891: UserWarning: Pandas Dataframe has non-standard index of type <class 'pandas.core.indexes.numeric.Int64Index'> which will not be written. Consider changing the index to pd.RangeIndex(start=0,...,step=1) or call reset_index() to keep index as column(s)\n",
      "  success, nchunks, nrows, ci_output = write_pandas(\n"
     ]
    },
    {
     "name": "stdout",
     "output_type": "stream",
     "text": [
      "491650 values inserted into table SCHEDULE_RCV\n"
     ]
    },
    {
     "name": "stderr",
     "output_type": "stream",
     "text": [
      "C:\\Users\\whill\\anaconda3\\lib\\site-packages\\snowflake\\snowpark\\session.py:1891: UserWarning: Pandas Dataframe has non-standard index of type <class 'pandas.core.indexes.numeric.Int64Index'> which will not be written. Consider changing the index to pd.RangeIndex(start=0,...,step=1) or call reset_index() to keep index as column(s)\n",
      "  success, nchunks, nrows, ci_output = write_pandas(\n"
     ]
    },
    {
     "name": "stdout",
     "output_type": "stream",
     "text": [
      "491650 values inserted into table SCHEDULE_RIA\n"
     ]
    },
    {
     "name": "stderr",
     "output_type": "stream",
     "text": [
      "C:\\Users\\whill\\anaconda3\\lib\\site-packages\\snowflake\\snowpark\\session.py:1891: UserWarning: Pandas Dataframe has non-standard index of type <class 'pandas.core.indexes.numeric.Int64Index'> which will not be written. Consider changing the index to pd.RangeIndex(start=0,...,step=1) or call reset_index() to keep index as column(s)\n",
      "  success, nchunks, nrows, ci_output = write_pandas(\n"
     ]
    },
    {
     "name": "stdout",
     "output_type": "stream",
     "text": [
      "491650 values inserted into table SCHEDULE_RCA\n"
     ]
    },
    {
     "name": "stderr",
     "output_type": "stream",
     "text": [
      "C:\\Users\\whill\\anaconda3\\lib\\site-packages\\snowflake\\snowpark\\session.py:1891: UserWarning: Pandas Dataframe has non-standard index of type <class 'pandas.core.indexes.numeric.Int64Index'> which will not be written. Consider changing the index to pd.RangeIndex(start=0,...,step=1) or call reset_index() to keep index as column(s)\n",
      "  success, nchunks, nrows, ci_output = write_pandas(\n"
     ]
    },
    {
     "name": "stdout",
     "output_type": "stream",
     "text": [
      "491650 values inserted into table SCHEDULE_RCCI\n"
     ]
    },
    {
     "name": "stderr",
     "output_type": "stream",
     "text": [
      "C:\\Users\\whill\\anaconda3\\lib\\site-packages\\snowflake\\snowpark\\session.py:1891: UserWarning: Pandas Dataframe has non-standard index of type <class 'pandas.core.indexes.numeric.Int64Index'> which will not be written. Consider changing the index to pd.RangeIndex(start=0,...,step=1) or call reset_index() to keep index as column(s)\n",
      "  success, nchunks, nrows, ci_output = write_pandas(\n"
     ]
    },
    {
     "name": "stdout",
     "output_type": "stream",
     "text": [
      "491650 values inserted into table SCHEDULE_RCH\n"
     ]
    },
    {
     "name": "stderr",
     "output_type": "stream",
     "text": [
      "C:\\Users\\whill\\anaconda3\\lib\\site-packages\\snowflake\\snowpark\\session.py:1891: UserWarning: Pandas Dataframe has non-standard index of type <class 'pandas.core.indexes.numeric.Int64Index'> which will not be written. Consider changing the index to pd.RangeIndex(start=0,...,step=1) or call reset_index() to keep index as column(s)\n",
      "  success, nchunks, nrows, ci_output = write_pandas(\n"
     ]
    },
    {
     "name": "stdout",
     "output_type": "stream",
     "text": [
      "491650 values inserted into table SCHEDULE_RCO\n"
     ]
    },
    {
     "name": "stderr",
     "output_type": "stream",
     "text": [
      "C:\\Users\\whill\\anaconda3\\lib\\site-packages\\snowflake\\snowpark\\session.py:1891: UserWarning: Pandas Dataframe has non-standard index of type <class 'pandas.core.indexes.numeric.Int64Index'> which will not be written. Consider changing the index to pd.RangeIndex(start=0,...,step=1) or call reset_index() to keep index as column(s)\n",
      "  success, nchunks, nrows, ci_output = write_pandas(\n"
     ]
    },
    {
     "name": "stdout",
     "output_type": "stream",
     "text": [
      "491650 values inserted into table SCHEDULE_RCQ\n"
     ]
    },
    {
     "name": "stderr",
     "output_type": "stream",
     "text": [
      "C:\\Users\\whill\\anaconda3\\lib\\site-packages\\snowflake\\snowpark\\session.py:1891: UserWarning: Pandas Dataframe has non-standard index of type <class 'pandas.core.indexes.numeric.Int64Index'> which will not be written. Consider changing the index to pd.RangeIndex(start=0,...,step=1) or call reset_index() to keep index as column(s)\n",
      "  success, nchunks, nrows, ci_output = write_pandas(\n"
     ]
    },
    {
     "name": "stdout",
     "output_type": "stream",
     "text": [
      "491650 values inserted into table SCHEDULE_RCRII\n"
     ]
    },
    {
     "name": "stderr",
     "output_type": "stream",
     "text": [
      "C:\\Users\\whill\\anaconda3\\lib\\site-packages\\snowflake\\snowpark\\session.py:1891: UserWarning: Pandas Dataframe has non-standard index of type <class 'pandas.core.indexes.numeric.Int64Index'> which will not be written. Consider changing the index to pd.RangeIndex(start=0,...,step=1) or call reset_index() to keep index as column(s)\n",
      "  success, nchunks, nrows, ci_output = write_pandas(\n"
     ]
    },
    {
     "name": "stdout",
     "output_type": "stream",
     "text": [
      "491650 values inserted into table SCHEDULE_RIBI\n"
     ]
    },
    {
     "name": "stderr",
     "output_type": "stream",
     "text": [
      "C:\\Users\\whill\\anaconda3\\lib\\site-packages\\snowflake\\snowpark\\session.py:1891: UserWarning: Pandas Dataframe has non-standard index of type <class 'pandas.core.indexes.numeric.Int64Index'> which will not be written. Consider changing the index to pd.RangeIndex(start=0,...,step=1) or call reset_index() to keep index as column(s)\n",
      "  success, nchunks, nrows, ci_output = write_pandas(\n"
     ]
    },
    {
     "name": "stdout",
     "output_type": "stream",
     "text": [
      "491650 values inserted into table SCHEDULE_RID\n"
     ]
    },
    {
     "name": "stderr",
     "output_type": "stream",
     "text": [
      "C:\\Users\\whill\\anaconda3\\lib\\site-packages\\snowflake\\snowpark\\session.py:1891: UserWarning: Pandas Dataframe has non-standard index of type <class 'pandas.core.indexes.numeric.Int64Index'> which will not be written. Consider changing the index to pd.RangeIndex(start=0,...,step=1) or call reset_index() to keep index as column(s)\n",
      "  success, nchunks, nrows, ci_output = write_pandas(\n"
     ]
    },
    {
     "name": "stdout",
     "output_type": "stream",
     "text": [
      "491650 values inserted into table SCHEDULE_RCL\n",
      "C:\\Users\\whill\\call-report-database\\Bulk_Files\\2014\\09_30\\FFIEC CDR Call Schedule CI 09302014.txt\n",
      "C:\\Users\\whill\\call-report-database\\Bulk_Files\\2014\\09_30\\FFIEC CDR Call Schedule ENT 09302014.txt\n",
      "C:\\Users\\whill\\call-report-database\\Bulk_Files\\2014\\09_30\\FFIEC CDR Call Schedule NARR 09302014.txt\n",
      "C:\\Users\\whill\\call-report-database\\Bulk_Files\\2014\\09_30\\FFIEC CDR Call Schedule RC 09302014.txt\n",
      "C:\\Users\\whill\\call-report-database\\Bulk_Files\\2014\\09_30\\FFIEC CDR Call Schedule RCA 09302014.txt\n",
      "C:\\Users\\whill\\call-report-database\\Bulk_Files\\2014\\09_30\\FFIEC CDR Call Schedule RCB 09302014(1 of 2).txt\n",
      "C:\\Users\\whill\\call-report-database\\Bulk_Files\\2014\\09_30\\FFIEC CDR Call Schedule RCB 09302014(2 of 2).txt\n",
      "C:\\Users\\whill\\call-report-database\\Bulk_Files\\2014\\09_30\\FFIEC CDR Call Schedule RCCI 09302014.txt\n",
      "C:\\Users\\whill\\call-report-database\\Bulk_Files\\2014\\09_30\\FFIEC CDR Call Schedule RCCII 09302014.txt\n",
      "C:\\Users\\whill\\call-report-database\\Bulk_Files\\2014\\09_30\\FFIEC CDR Call Schedule RCD 09302014.txt\n",
      "C:\\Users\\whill\\call-report-database\\Bulk_Files\\2014\\09_30\\FFIEC CDR Call Schedule RCE 09302014.txt\n",
      "C:\\Users\\whill\\call-report-database\\Bulk_Files\\2014\\09_30\\FFIEC CDR Call Schedule RCEI 09302014.txt\n",
      "C:\\Users\\whill\\call-report-database\\Bulk_Files\\2014\\09_30\\FFIEC CDR Call Schedule RCEII 09302014.txt\n",
      "C:\\Users\\whill\\call-report-database\\Bulk_Files\\2014\\09_30\\FFIEC CDR Call Schedule RCF 09302014.txt\n",
      "C:\\Users\\whill\\call-report-database\\Bulk_Files\\2014\\09_30\\FFIEC CDR Call Schedule RCG 09302014.txt\n",
      "C:\\Users\\whill\\call-report-database\\Bulk_Files\\2014\\09_30\\FFIEC CDR Call Schedule RCH 09302014.txt\n",
      "C:\\Users\\whill\\call-report-database\\Bulk_Files\\2014\\09_30\\FFIEC CDR Call Schedule RCI 09302014.txt\n",
      "C:\\Users\\whill\\call-report-database\\Bulk_Files\\2014\\09_30\\FFIEC CDR Call Schedule RCK 09302014.txt\n",
      "C:\\Users\\whill\\call-report-database\\Bulk_Files\\2014\\09_30\\FFIEC CDR Call Schedule RCL 09302014(1 of 2).txt\n",
      "C:\\Users\\whill\\call-report-database\\Bulk_Files\\2014\\09_30\\FFIEC CDR Call Schedule RCL 09302014(2 of 2).txt\n",
      "C:\\Users\\whill\\call-report-database\\Bulk_Files\\2014\\09_30\\FFIEC CDR Call Schedule RCM 09302014.txt\n",
      "C:\\Users\\whill\\call-report-database\\Bulk_Files\\2014\\09_30\\FFIEC CDR Call Schedule RCN 09302014(1 of 2).txt\n",
      "C:\\Users\\whill\\call-report-database\\Bulk_Files\\2014\\09_30\\FFIEC CDR Call Schedule RCN 09302014(2 of 2).txt\n",
      "C:\\Users\\whill\\call-report-database\\Bulk_Files\\2014\\09_30\\FFIEC CDR Call Schedule RCO 09302014(1 of 2).txt\n",
      "C:\\Users\\whill\\call-report-database\\Bulk_Files\\2014\\09_30\\FFIEC CDR Call Schedule RCO 09302014(2 of 2).txt\n",
      "C:\\Users\\whill\\call-report-database\\Bulk_Files\\2014\\09_30\\FFIEC CDR Call Schedule RCP 09302014.txt\n",
      "C:\\Users\\whill\\call-report-database\\Bulk_Files\\2014\\09_30\\FFIEC CDR Call Schedule RCQ 09302014(1 of 2).txt\n",
      "C:\\Users\\whill\\call-report-database\\Bulk_Files\\2014\\09_30\\FFIEC CDR Call Schedule RCQ 09302014(2 of 2).txt\n",
      "C:\\Users\\whill\\call-report-database\\Bulk_Files\\2014\\09_30\\FFIEC CDR Call Schedule RCRIA 09302014.txt\n",
      "C:\\Users\\whill\\call-report-database\\Bulk_Files\\2014\\09_30\\FFIEC CDR Call Schedule RCRIB 09302014.txt\n",
      "C:\\Users\\whill\\call-report-database\\Bulk_Files\\2014\\09_30\\FFIEC CDR Call Schedule RCRII 09302014(1 of 2).txt\n",
      "C:\\Users\\whill\\call-report-database\\Bulk_Files\\2014\\09_30\\FFIEC CDR Call Schedule RCRII 09302014(2 of 2).txt\n",
      "C:\\Users\\whill\\call-report-database\\Bulk_Files\\2014\\09_30\\FFIEC CDR Call Schedule RCS 09302014.txt\n",
      "C:\\Users\\whill\\call-report-database\\Bulk_Files\\2014\\09_30\\FFIEC CDR Call Schedule RCT 09302014(1 of 2).txt\n",
      "C:\\Users\\whill\\call-report-database\\Bulk_Files\\2014\\09_30\\FFIEC CDR Call Schedule RCT 09302014(2 of 2).txt\n",
      "C:\\Users\\whill\\call-report-database\\Bulk_Files\\2014\\09_30\\FFIEC CDR Call Schedule RCV 09302014.txt\n",
      "C:\\Users\\whill\\call-report-database\\Bulk_Files\\2014\\09_30\\FFIEC CDR Call Schedule RI 09302014.txt\n",
      "C:\\Users\\whill\\call-report-database\\Bulk_Files\\2014\\09_30\\FFIEC CDR Call Schedule RIA 09302014.txt\n",
      "C:\\Users\\whill\\call-report-database\\Bulk_Files\\2014\\09_30\\FFIEC CDR Call Schedule RIBI 09302014.txt\n",
      "C:\\Users\\whill\\call-report-database\\Bulk_Files\\2014\\09_30\\FFIEC CDR Call Schedule RIBII 09302014.txt\n",
      "C:\\Users\\whill\\call-report-database\\Bulk_Files\\2014\\09_30\\FFIEC CDR Call Schedule RIC 09302014.txt\n",
      "C:\\Users\\whill\\call-report-database\\Bulk_Files\\2014\\09_30\\FFIEC CDR Call Schedule RID 09302014.txt\n",
      "C:\\Users\\whill\\call-report-database\\Bulk_Files\\2014\\09_30\\FFIEC CDR Call Schedule RIE 09302014.txt\n"
     ]
    },
    {
     "name": "stderr",
     "output_type": "stream",
     "text": [
      "C:\\Users\\whill\\anaconda3\\lib\\site-packages\\snowflake\\snowpark\\session.py:1891: UserWarning: Pandas Dataframe has non-standard index of type <class 'pandas.core.indexes.numeric.Int64Index'> which will not be written. Consider changing the index to pd.RangeIndex(start=0,...,step=1) or call reset_index() to keep index as column(s)\n",
      "  success, nchunks, nrows, ci_output = write_pandas(\n"
     ]
    },
    {
     "name": "stdout",
     "output_type": "stream",
     "text": [
      "498301 values inserted into table SCHEDULE_NARR\n"
     ]
    },
    {
     "name": "stderr",
     "output_type": "stream",
     "text": [
      "C:\\Users\\whill\\anaconda3\\lib\\site-packages\\snowflake\\snowpark\\session.py:1891: UserWarning: Pandas Dataframe has non-standard index of type <class 'pandas.core.indexes.numeric.Int64Index'> which will not be written. Consider changing the index to pd.RangeIndex(start=0,...,step=1) or call reset_index() to keep index as column(s)\n",
      "  success, nchunks, nrows, ci_output = write_pandas(\n"
     ]
    },
    {
     "name": "stdout",
     "output_type": "stream",
     "text": [
      "498301 values inserted into table SCHEDULE_RCB\n"
     ]
    },
    {
     "name": "stderr",
     "output_type": "stream",
     "text": [
      "C:\\Users\\whill\\anaconda3\\lib\\site-packages\\snowflake\\snowpark\\session.py:1891: UserWarning: Pandas Dataframe has non-standard index of type <class 'pandas.core.indexes.numeric.Int64Index'> which will not be written. Consider changing the index to pd.RangeIndex(start=0,...,step=1) or call reset_index() to keep index as column(s)\n",
      "  success, nchunks, nrows, ci_output = write_pandas(\n"
     ]
    },
    {
     "name": "stdout",
     "output_type": "stream",
     "text": [
      "498301 values inserted into table SCHEDULE_RCCII\n"
     ]
    },
    {
     "name": "stderr",
     "output_type": "stream",
     "text": [
      "C:\\Users\\whill\\anaconda3\\lib\\site-packages\\snowflake\\snowpark\\session.py:1891: UserWarning: Pandas Dataframe has non-standard index of type <class 'pandas.core.indexes.numeric.Int64Index'> which will not be written. Consider changing the index to pd.RangeIndex(start=0,...,step=1) or call reset_index() to keep index as column(s)\n",
      "  success, nchunks, nrows, ci_output = write_pandas(\n"
     ]
    },
    {
     "name": "stdout",
     "output_type": "stream",
     "text": [
      "498301 values inserted into table SCHEDULE_RCEI\n"
     ]
    },
    {
     "name": "stderr",
     "output_type": "stream",
     "text": [
      "C:\\Users\\whill\\anaconda3\\lib\\site-packages\\snowflake\\snowpark\\session.py:1891: UserWarning: Pandas Dataframe has non-standard index of type <class 'pandas.core.indexes.numeric.Int64Index'> which will not be written. Consider changing the index to pd.RangeIndex(start=0,...,step=1) or call reset_index() to keep index as column(s)\n",
      "  success, nchunks, nrows, ci_output = write_pandas(\n"
     ]
    },
    {
     "name": "stdout",
     "output_type": "stream",
     "text": [
      "498301 values inserted into table SCHEDULE_RCEII\n"
     ]
    },
    {
     "name": "stderr",
     "output_type": "stream",
     "text": [
      "C:\\Users\\whill\\anaconda3\\lib\\site-packages\\snowflake\\snowpark\\session.py:1891: UserWarning: Pandas Dataframe has non-standard index of type <class 'pandas.core.indexes.numeric.Int64Index'> which will not be written. Consider changing the index to pd.RangeIndex(start=0,...,step=1) or call reset_index() to keep index as column(s)\n",
      "  success, nchunks, nrows, ci_output = write_pandas(\n"
     ]
    },
    {
     "name": "stdout",
     "output_type": "stream",
     "text": [
      "498301 values inserted into table SCHEDULE_RCF\n"
     ]
    },
    {
     "name": "stderr",
     "output_type": "stream",
     "text": [
      "C:\\Users\\whill\\anaconda3\\lib\\site-packages\\snowflake\\snowpark\\session.py:1891: UserWarning: Pandas Dataframe has non-standard index of type <class 'pandas.core.indexes.numeric.Int64Index'> which will not be written. Consider changing the index to pd.RangeIndex(start=0,...,step=1) or call reset_index() to keep index as column(s)\n",
      "  success, nchunks, nrows, ci_output = write_pandas(\n"
     ]
    },
    {
     "name": "stdout",
     "output_type": "stream",
     "text": [
      "498301 values inserted into table SCHEDULE_RCO\n"
     ]
    },
    {
     "name": "stderr",
     "output_type": "stream",
     "text": [
      "C:\\Users\\whill\\anaconda3\\lib\\site-packages\\snowflake\\snowpark\\session.py:1891: UserWarning: Pandas Dataframe has non-standard index of type <class 'pandas.core.indexes.numeric.Int64Index'> which will not be written. Consider changing the index to pd.RangeIndex(start=0,...,step=1) or call reset_index() to keep index as column(s)\n",
      "  success, nchunks, nrows, ci_output = write_pandas(\n"
     ]
    },
    {
     "name": "stdout",
     "output_type": "stream",
     "text": [
      "498301 values inserted into table SCHEDULE_RIBI\n"
     ]
    },
    {
     "name": "stderr",
     "output_type": "stream",
     "text": [
      "C:\\Users\\whill\\anaconda3\\lib\\site-packages\\snowflake\\snowpark\\session.py:1891: UserWarning: Pandas Dataframe has non-standard index of type <class 'pandas.core.indexes.numeric.Int64Index'> which will not be written. Consider changing the index to pd.RangeIndex(start=0,...,step=1) or call reset_index() to keep index as column(s)\n",
      "  success, nchunks, nrows, ci_output = write_pandas(\n"
     ]
    },
    {
     "name": "stdout",
     "output_type": "stream",
     "text": [
      "498301 values inserted into table SCHEDULE_RCQ\n"
     ]
    },
    {
     "name": "stderr",
     "output_type": "stream",
     "text": [
      "C:\\Users\\whill\\anaconda3\\lib\\site-packages\\snowflake\\snowpark\\session.py:1891: UserWarning: Pandas Dataframe has non-standard index of type <class 'pandas.core.indexes.numeric.Int64Index'> which will not be written. Consider changing the index to pd.RangeIndex(start=0,...,step=1) or call reset_index() to keep index as column(s)\n",
      "  success, nchunks, nrows, ci_output = write_pandas(\n"
     ]
    },
    {
     "name": "stdout",
     "output_type": "stream",
     "text": [
      "498301 values inserted into table SCHEDULE_RCS\n"
     ]
    },
    {
     "name": "stderr",
     "output_type": "stream",
     "text": [
      "C:\\Users\\whill\\anaconda3\\lib\\site-packages\\snowflake\\snowpark\\session.py:1891: UserWarning: Pandas Dataframe has non-standard index of type <class 'pandas.core.indexes.numeric.Int64Index'> which will not be written. Consider changing the index to pd.RangeIndex(start=0,...,step=1) or call reset_index() to keep index as column(s)\n",
      "  success, nchunks, nrows, ci_output = write_pandas(\n"
     ]
    },
    {
     "name": "stdout",
     "output_type": "stream",
     "text": [
      "498301 values inserted into table SCHEDULE_LEO\n"
     ]
    },
    {
     "name": "stderr",
     "output_type": "stream",
     "text": [
      "C:\\Users\\whill\\anaconda3\\lib\\site-packages\\snowflake\\snowpark\\session.py:1891: UserWarning: Pandas Dataframe has non-standard index of type <class 'pandas.core.indexes.numeric.Int64Index'> which will not be written. Consider changing the index to pd.RangeIndex(start=0,...,step=1) or call reset_index() to keep index as column(s)\n",
      "  success, nchunks, nrows, ci_output = write_pandas(\n"
     ]
    },
    {
     "name": "stdout",
     "output_type": "stream",
     "text": [
      "498301 values inserted into table SCHEDULE_RC\n"
     ]
    },
    {
     "name": "stderr",
     "output_type": "stream",
     "text": [
      "C:\\Users\\whill\\anaconda3\\lib\\site-packages\\snowflake\\snowpark\\session.py:1891: UserWarning: Pandas Dataframe has non-standard index of type <class 'pandas.core.indexes.numeric.Int64Index'> which will not be written. Consider changing the index to pd.RangeIndex(start=0,...,step=1) or call reset_index() to keep index as column(s)\n",
      "  success, nchunks, nrows, ci_output = write_pandas(\n"
     ]
    },
    {
     "name": "stdout",
     "output_type": "stream",
     "text": [
      "498301 values inserted into table SCHEDULE_RCCI\n"
     ]
    },
    {
     "name": "stderr",
     "output_type": "stream",
     "text": [
      "C:\\Users\\whill\\anaconda3\\lib\\site-packages\\snowflake\\snowpark\\session.py:1891: UserWarning: Pandas Dataframe has non-standard index of type <class 'pandas.core.indexes.numeric.Int64Index'> which will not be written. Consider changing the index to pd.RangeIndex(start=0,...,step=1) or call reset_index() to keep index as column(s)\n",
      "  success, nchunks, nrows, ci_output = write_pandas(\n"
     ]
    },
    {
     "name": "stdout",
     "output_type": "stream",
     "text": [
      "498301 values inserted into table SCHEDULE_RCD\n"
     ]
    },
    {
     "name": "stderr",
     "output_type": "stream",
     "text": [
      "C:\\Users\\whill\\anaconda3\\lib\\site-packages\\snowflake\\snowpark\\session.py:1891: UserWarning: Pandas Dataframe has non-standard index of type <class 'pandas.core.indexes.numeric.Int64Index'> which will not be written. Consider changing the index to pd.RangeIndex(start=0,...,step=1) or call reset_index() to keep index as column(s)\n",
      "  success, nchunks, nrows, ci_output = write_pandas(\n"
     ]
    },
    {
     "name": "stdout",
     "output_type": "stream",
     "text": [
      "498301 values inserted into table SCHEDULE_RCG\n"
     ]
    },
    {
     "name": "stderr",
     "output_type": "stream",
     "text": [
      "C:\\Users\\whill\\anaconda3\\lib\\site-packages\\snowflake\\snowpark\\session.py:1891: UserWarning: Pandas Dataframe has non-standard index of type <class 'pandas.core.indexes.numeric.Int64Index'> which will not be written. Consider changing the index to pd.RangeIndex(start=0,...,step=1) or call reset_index() to keep index as column(s)\n",
      "  success, nchunks, nrows, ci_output = write_pandas(\n"
     ]
    },
    {
     "name": "stdout",
     "output_type": "stream",
     "text": [
      "498301 values inserted into table SCHEDULE_RCL\n"
     ]
    },
    {
     "name": "stderr",
     "output_type": "stream",
     "text": [
      "C:\\Users\\whill\\anaconda3\\lib\\site-packages\\snowflake\\snowpark\\session.py:1891: UserWarning: Pandas Dataframe has non-standard index of type <class 'pandas.core.indexes.numeric.Int64Index'> which will not be written. Consider changing the index to pd.RangeIndex(start=0,...,step=1) or call reset_index() to keep index as column(s)\n",
      "  success, nchunks, nrows, ci_output = write_pandas(\n"
     ]
    },
    {
     "name": "stdout",
     "output_type": "stream",
     "text": [
      "498301 values inserted into table SCHEDULE_RIBII\n"
     ]
    },
    {
     "name": "stderr",
     "output_type": "stream",
     "text": [
      "C:\\Users\\whill\\anaconda3\\lib\\site-packages\\snowflake\\snowpark\\session.py:1891: UserWarning: Pandas Dataframe has non-standard index of type <class 'pandas.core.indexes.numeric.Int64Index'> which will not be written. Consider changing the index to pd.RangeIndex(start=0,...,step=1) or call reset_index() to keep index as column(s)\n",
      "  success, nchunks, nrows, ci_output = write_pandas(\n"
     ]
    },
    {
     "name": "stdout",
     "output_type": "stream",
     "text": [
      "498301 values inserted into table SCHEDULE_RCRII\n"
     ]
    },
    {
     "name": "stderr",
     "output_type": "stream",
     "text": [
      "C:\\Users\\whill\\anaconda3\\lib\\site-packages\\snowflake\\snowpark\\session.py:1891: UserWarning: Pandas Dataframe has non-standard index of type <class 'pandas.core.indexes.numeric.Int64Index'> which will not be written. Consider changing the index to pd.RangeIndex(start=0,...,step=1) or call reset_index() to keep index as column(s)\n",
      "  success, nchunks, nrows, ci_output = write_pandas(\n"
     ]
    },
    {
     "name": "stdout",
     "output_type": "stream",
     "text": [
      "498301 values inserted into table SCHEDULE_SU\n"
     ]
    },
    {
     "name": "stderr",
     "output_type": "stream",
     "text": [
      "C:\\Users\\whill\\anaconda3\\lib\\site-packages\\snowflake\\snowpark\\session.py:1891: UserWarning: Pandas Dataframe has non-standard index of type <class 'pandas.core.indexes.numeric.Int64Index'> which will not be written. Consider changing the index to pd.RangeIndex(start=0,...,step=1) or call reset_index() to keep index as column(s)\n",
      "  success, nchunks, nrows, ci_output = write_pandas(\n"
     ]
    },
    {
     "name": "stdout",
     "output_type": "stream",
     "text": [
      "498301 values inserted into table SCHEDULE_RICII\n"
     ]
    },
    {
     "name": "stderr",
     "output_type": "stream",
     "text": [
      "C:\\Users\\whill\\anaconda3\\lib\\site-packages\\snowflake\\snowpark\\session.py:1891: UserWarning: Pandas Dataframe has non-standard index of type <class 'pandas.core.indexes.numeric.Int64Index'> which will not be written. Consider changing the index to pd.RangeIndex(start=0,...,step=1) or call reset_index() to keep index as column(s)\n",
      "  success, nchunks, nrows, ci_output = write_pandas(\n"
     ]
    },
    {
     "name": "stdout",
     "output_type": "stream",
     "text": [
      "498301 values inserted into table SCHEDULE_UNDEFINED\n"
     ]
    },
    {
     "name": "stderr",
     "output_type": "stream",
     "text": [
      "C:\\Users\\whill\\anaconda3\\lib\\site-packages\\snowflake\\snowpark\\session.py:1891: UserWarning: Pandas Dataframe has non-standard index of type <class 'pandas.core.indexes.numeric.Int64Index'> which will not be written. Consider changing the index to pd.RangeIndex(start=0,...,step=1) or call reset_index() to keep index as column(s)\n",
      "  success, nchunks, nrows, ci_output = write_pandas(\n"
     ]
    },
    {
     "name": "stdout",
     "output_type": "stream",
     "text": [
      "498301 values inserted into table SCHEDULE_ENT\n"
     ]
    },
    {
     "name": "stderr",
     "output_type": "stream",
     "text": [
      "C:\\Users\\whill\\anaconda3\\lib\\site-packages\\snowflake\\snowpark\\session.py:1891: UserWarning: Pandas Dataframe has non-standard index of type <class 'pandas.core.indexes.numeric.Int64Index'> which will not be written. Consider changing the index to pd.RangeIndex(start=0,...,step=1) or call reset_index() to keep index as column(s)\n",
      "  success, nchunks, nrows, ci_output = write_pandas(\n"
     ]
    },
    {
     "name": "stdout",
     "output_type": "stream",
     "text": [
      "498301 values inserted into table SCHEDULE_RCE\n"
     ]
    },
    {
     "name": "stderr",
     "output_type": "stream",
     "text": [
      "C:\\Users\\whill\\anaconda3\\lib\\site-packages\\snowflake\\snowpark\\session.py:1891: UserWarning: Pandas Dataframe has non-standard index of type <class 'pandas.core.indexes.numeric.Int64Index'> which will not be written. Consider changing the index to pd.RangeIndex(start=0,...,step=1) or call reset_index() to keep index as column(s)\n",
      "  success, nchunks, nrows, ci_output = write_pandas(\n"
     ]
    },
    {
     "name": "stdout",
     "output_type": "stream",
     "text": [
      "498301 values inserted into table SCHEDULE_RCI\n"
     ]
    },
    {
     "name": "stderr",
     "output_type": "stream",
     "text": [
      "C:\\Users\\whill\\anaconda3\\lib\\site-packages\\snowflake\\snowpark\\session.py:1891: UserWarning: Pandas Dataframe has non-standard index of type <class 'pandas.core.indexes.numeric.Int64Index'> which will not be written. Consider changing the index to pd.RangeIndex(start=0,...,step=1) or call reset_index() to keep index as column(s)\n",
      "  success, nchunks, nrows, ci_output = write_pandas(\n"
     ]
    },
    {
     "name": "stdout",
     "output_type": "stream",
     "text": [
      "498301 values inserted into table SCHEDULE_RCP\n"
     ]
    },
    {
     "name": "stderr",
     "output_type": "stream",
     "text": [
      "C:\\Users\\whill\\anaconda3\\lib\\site-packages\\snowflake\\snowpark\\session.py:1891: UserWarning: Pandas Dataframe has non-standard index of type <class 'pandas.core.indexes.numeric.Int64Index'> which will not be written. Consider changing the index to pd.RangeIndex(start=0,...,step=1) or call reset_index() to keep index as column(s)\n",
      "  success, nchunks, nrows, ci_output = write_pandas(\n"
     ]
    },
    {
     "name": "stdout",
     "output_type": "stream",
     "text": [
      "498301 values inserted into table SCHEDULE_RCT\n"
     ]
    },
    {
     "name": "stderr",
     "output_type": "stream",
     "text": [
      "C:\\Users\\whill\\anaconda3\\lib\\site-packages\\snowflake\\snowpark\\session.py:1891: UserWarning: Pandas Dataframe has non-standard index of type <class 'pandas.core.indexes.numeric.Int64Index'> which will not be written. Consider changing the index to pd.RangeIndex(start=0,...,step=1) or call reset_index() to keep index as column(s)\n",
      "  success, nchunks, nrows, ci_output = write_pandas(\n"
     ]
    },
    {
     "name": "stdout",
     "output_type": "stream",
     "text": [
      "498301 values inserted into table SCHEDULE_RI\n"
     ]
    },
    {
     "name": "stderr",
     "output_type": "stream",
     "text": [
      "C:\\Users\\whill\\anaconda3\\lib\\site-packages\\snowflake\\snowpark\\session.py:1891: UserWarning: Pandas Dataframe has non-standard index of type <class 'pandas.core.indexes.numeric.Int64Index'> which will not be written. Consider changing the index to pd.RangeIndex(start=0,...,step=1) or call reset_index() to keep index as column(s)\n",
      "  success, nchunks, nrows, ci_output = write_pandas(\n"
     ]
    },
    {
     "name": "stdout",
     "output_type": "stream",
     "text": [
      "498301 values inserted into table SCHEDULE_RCA\n"
     ]
    },
    {
     "name": "stderr",
     "output_type": "stream",
     "text": [
      "C:\\Users\\whill\\anaconda3\\lib\\site-packages\\snowflake\\snowpark\\session.py:1891: UserWarning: Pandas Dataframe has non-standard index of type <class 'pandas.core.indexes.numeric.Int64Index'> which will not be written. Consider changing the index to pd.RangeIndex(start=0,...,step=1) or call reset_index() to keep index as column(s)\n",
      "  success, nchunks, nrows, ci_output = write_pandas(\n"
     ]
    },
    {
     "name": "stdout",
     "output_type": "stream",
     "text": [
      "498301 values inserted into table SCHEDULE_RCH\n"
     ]
    },
    {
     "name": "stderr",
     "output_type": "stream",
     "text": [
      "C:\\Users\\whill\\anaconda3\\lib\\site-packages\\snowflake\\snowpark\\session.py:1891: UserWarning: Pandas Dataframe has non-standard index of type <class 'pandas.core.indexes.numeric.Int64Index'> which will not be written. Consider changing the index to pd.RangeIndex(start=0,...,step=1) or call reset_index() to keep index as column(s)\n",
      "  success, nchunks, nrows, ci_output = write_pandas(\n"
     ]
    },
    {
     "name": "stdout",
     "output_type": "stream",
     "text": [
      "498301 values inserted into table SCHEDULE_RCM\n"
     ]
    },
    {
     "name": "stderr",
     "output_type": "stream",
     "text": [
      "C:\\Users\\whill\\anaconda3\\lib\\site-packages\\snowflake\\snowpark\\session.py:1891: UserWarning: Pandas Dataframe has non-standard index of type <class 'pandas.core.indexes.numeric.Int64Index'> which will not be written. Consider changing the index to pd.RangeIndex(start=0,...,step=1) or call reset_index() to keep index as column(s)\n",
      "  success, nchunks, nrows, ci_output = write_pandas(\n"
     ]
    },
    {
     "name": "stdout",
     "output_type": "stream",
     "text": [
      "498301 values inserted into table SCHEDULE_RICI\n"
     ]
    },
    {
     "name": "stderr",
     "output_type": "stream",
     "text": [
      "C:\\Users\\whill\\anaconda3\\lib\\site-packages\\snowflake\\snowpark\\session.py:1891: UserWarning: Pandas Dataframe has non-standard index of type <class 'pandas.core.indexes.numeric.Int64Index'> which will not be written. Consider changing the index to pd.RangeIndex(start=0,...,step=1) or call reset_index() to keep index as column(s)\n",
      "  success, nchunks, nrows, ci_output = write_pandas(\n"
     ]
    },
    {
     "name": "stdout",
     "output_type": "stream",
     "text": [
      "498301 values inserted into table SCHEDULE_RCN\n"
     ]
    },
    {
     "name": "stderr",
     "output_type": "stream",
     "text": [
      "C:\\Users\\whill\\anaconda3\\lib\\site-packages\\snowflake\\snowpark\\session.py:1891: UserWarning: Pandas Dataframe has non-standard index of type <class 'pandas.core.indexes.numeric.Int64Index'> which will not be written. Consider changing the index to pd.RangeIndex(start=0,...,step=1) or call reset_index() to keep index as column(s)\n",
      "  success, nchunks, nrows, ci_output = write_pandas(\n"
     ]
    },
    {
     "name": "stdout",
     "output_type": "stream",
     "text": [
      "498301 values inserted into table SCHEDULE_RCK\n"
     ]
    },
    {
     "name": "stderr",
     "output_type": "stream",
     "text": [
      "C:\\Users\\whill\\anaconda3\\lib\\site-packages\\snowflake\\snowpark\\session.py:1891: UserWarning: Pandas Dataframe has non-standard index of type <class 'pandas.core.indexes.numeric.Int64Index'> which will not be written. Consider changing the index to pd.RangeIndex(start=0,...,step=1) or call reset_index() to keep index as column(s)\n",
      "  success, nchunks, nrows, ci_output = write_pandas(\n"
     ]
    },
    {
     "name": "stdout",
     "output_type": "stream",
     "text": [
      "498301 values inserted into table SCHEDULE_RCR\n"
     ]
    },
    {
     "name": "stderr",
     "output_type": "stream",
     "text": [
      "C:\\Users\\whill\\anaconda3\\lib\\site-packages\\snowflake\\snowpark\\session.py:1891: UserWarning: Pandas Dataframe has non-standard index of type <class 'pandas.core.indexes.numeric.Int64Index'> which will not be written. Consider changing the index to pd.RangeIndex(start=0,...,step=1) or call reset_index() to keep index as column(s)\n",
      "  success, nchunks, nrows, ci_output = write_pandas(\n"
     ]
    },
    {
     "name": "stdout",
     "output_type": "stream",
     "text": [
      "498301 values inserted into table SCHEDULE_RCRI\n"
     ]
    },
    {
     "name": "stderr",
     "output_type": "stream",
     "text": [
      "C:\\Users\\whill\\anaconda3\\lib\\site-packages\\snowflake\\snowpark\\session.py:1891: UserWarning: Pandas Dataframe has non-standard index of type <class 'pandas.core.indexes.numeric.Int64Index'> which will not be written. Consider changing the index to pd.RangeIndex(start=0,...,step=1) or call reset_index() to keep index as column(s)\n",
      "  success, nchunks, nrows, ci_output = write_pandas(\n"
     ]
    },
    {
     "name": "stdout",
     "output_type": "stream",
     "text": [
      "498301 values inserted into table SCHEDULE_RCV\n"
     ]
    },
    {
     "name": "stderr",
     "output_type": "stream",
     "text": [
      "C:\\Users\\whill\\anaconda3\\lib\\site-packages\\snowflake\\snowpark\\session.py:1891: UserWarning: Pandas Dataframe has non-standard index of type <class 'pandas.core.indexes.numeric.Int64Index'> which will not be written. Consider changing the index to pd.RangeIndex(start=0,...,step=1) or call reset_index() to keep index as column(s)\n",
      "  success, nchunks, nrows, ci_output = write_pandas(\n"
     ]
    },
    {
     "name": "stdout",
     "output_type": "stream",
     "text": [
      "498301 values inserted into table SCHEDULE_RIA\n"
     ]
    },
    {
     "name": "stderr",
     "output_type": "stream",
     "text": [
      "C:\\Users\\whill\\anaconda3\\lib\\site-packages\\snowflake\\snowpark\\session.py:1891: UserWarning: Pandas Dataframe has non-standard index of type <class 'pandas.core.indexes.numeric.Int64Index'> which will not be written. Consider changing the index to pd.RangeIndex(start=0,...,step=1) or call reset_index() to keep index as column(s)\n",
      "  success, nchunks, nrows, ci_output = write_pandas(\n"
     ]
    },
    {
     "name": "stdout",
     "output_type": "stream",
     "text": [
      "498301 values inserted into table SCHEDULE_RIE\n"
     ]
    },
    {
     "name": "stderr",
     "output_type": "stream",
     "text": [
      "C:\\Users\\whill\\anaconda3\\lib\\site-packages\\snowflake\\snowpark\\session.py:1891: UserWarning: Pandas Dataframe has non-standard index of type <class 'pandas.core.indexes.numeric.Int64Index'> which will not be written. Consider changing the index to pd.RangeIndex(start=0,...,step=1) or call reset_index() to keep index as column(s)\n",
      "  success, nchunks, nrows, ci_output = write_pandas(\n"
     ]
    },
    {
     "name": "stdout",
     "output_type": "stream",
     "text": [
      "498301 values inserted into table SCHEDULE_RID\n"
     ]
    },
    {
     "name": "stderr",
     "output_type": "stream",
     "text": [
      "C:\\Users\\whill\\anaconda3\\lib\\site-packages\\snowflake\\snowpark\\session.py:1891: UserWarning: Pandas Dataframe has non-standard index of type <class 'pandas.core.indexes.numeric.Int64Index'> which will not be written. Consider changing the index to pd.RangeIndex(start=0,...,step=1) or call reset_index() to keep index as column(s)\n",
      "  success, nchunks, nrows, ci_output = write_pandas(\n"
     ]
    },
    {
     "name": "stdout",
     "output_type": "stream",
     "text": [
      "498301 values inserted into table SCHEDULE_RIC\n",
      "C:\\Users\\whill\\call-report-database\\Bulk_Files\\2014\\12_31\\FFIEC CDR Call Schedule CI 12312014.txt\n",
      "C:\\Users\\whill\\call-report-database\\Bulk_Files\\2014\\12_31\\FFIEC CDR Call Schedule ENT 12312014.txt\n",
      "C:\\Users\\whill\\call-report-database\\Bulk_Files\\2014\\12_31\\FFIEC CDR Call Schedule NARR 12312014.txt\n",
      "C:\\Users\\whill\\call-report-database\\Bulk_Files\\2014\\12_31\\FFIEC CDR Call Schedule RC 12312014.txt\n",
      "C:\\Users\\whill\\call-report-database\\Bulk_Files\\2014\\12_31\\FFIEC CDR Call Schedule RCA 12312014.txt\n",
      "C:\\Users\\whill\\call-report-database\\Bulk_Files\\2014\\12_31\\FFIEC CDR Call Schedule RCB 12312014(1 of 2).txt\n",
      "C:\\Users\\whill\\call-report-database\\Bulk_Files\\2014\\12_31\\FFIEC CDR Call Schedule RCB 12312014(2 of 2).txt\n",
      "C:\\Users\\whill\\call-report-database\\Bulk_Files\\2014\\12_31\\FFIEC CDR Call Schedule RCCI 12312014.txt\n",
      "C:\\Users\\whill\\call-report-database\\Bulk_Files\\2014\\12_31\\FFIEC CDR Call Schedule RCCII 12312014.txt\n",
      "C:\\Users\\whill\\call-report-database\\Bulk_Files\\2014\\12_31\\FFIEC CDR Call Schedule RCD 12312014.txt\n",
      "C:\\Users\\whill\\call-report-database\\Bulk_Files\\2014\\12_31\\FFIEC CDR Call Schedule RCE 12312014.txt\n",
      "C:\\Users\\whill\\call-report-database\\Bulk_Files\\2014\\12_31\\FFIEC CDR Call Schedule RCEI 12312014.txt\n",
      "C:\\Users\\whill\\call-report-database\\Bulk_Files\\2014\\12_31\\FFIEC CDR Call Schedule RCEII 12312014.txt\n",
      "C:\\Users\\whill\\call-report-database\\Bulk_Files\\2014\\12_31\\FFIEC CDR Call Schedule RCF 12312014.txt\n",
      "C:\\Users\\whill\\call-report-database\\Bulk_Files\\2014\\12_31\\FFIEC CDR Call Schedule RCG 12312014.txt\n",
      "C:\\Users\\whill\\call-report-database\\Bulk_Files\\2014\\12_31\\FFIEC CDR Call Schedule RCH 12312014.txt\n",
      "C:\\Users\\whill\\call-report-database\\Bulk_Files\\2014\\12_31\\FFIEC CDR Call Schedule RCI 12312014.txt\n",
      "C:\\Users\\whill\\call-report-database\\Bulk_Files\\2014\\12_31\\FFIEC CDR Call Schedule RCK 12312014.txt\n",
      "C:\\Users\\whill\\call-report-database\\Bulk_Files\\2014\\12_31\\FFIEC CDR Call Schedule RCL 12312014(1 of 2).txt\n",
      "C:\\Users\\whill\\call-report-database\\Bulk_Files\\2014\\12_31\\FFIEC CDR Call Schedule RCL 12312014(2 of 2).txt\n",
      "C:\\Users\\whill\\call-report-database\\Bulk_Files\\2014\\12_31\\FFIEC CDR Call Schedule RCM 12312014.txt\n",
      "C:\\Users\\whill\\call-report-database\\Bulk_Files\\2014\\12_31\\FFIEC CDR Call Schedule RCN 12312014(1 of 2).txt\n",
      "C:\\Users\\whill\\call-report-database\\Bulk_Files\\2014\\12_31\\FFIEC CDR Call Schedule RCN 12312014(2 of 2).txt\n",
      "C:\\Users\\whill\\call-report-database\\Bulk_Files\\2014\\12_31\\FFIEC CDR Call Schedule RCO 12312014(1 of 2).txt\n",
      "C:\\Users\\whill\\call-report-database\\Bulk_Files\\2014\\12_31\\FFIEC CDR Call Schedule RCO 12312014(2 of 2).txt\n",
      "C:\\Users\\whill\\call-report-database\\Bulk_Files\\2014\\12_31\\FFIEC CDR Call Schedule RCP 12312014.txt\n",
      "C:\\Users\\whill\\call-report-database\\Bulk_Files\\2014\\12_31\\FFIEC CDR Call Schedule RCQ 12312014(1 of 2).txt\n",
      "C:\\Users\\whill\\call-report-database\\Bulk_Files\\2014\\12_31\\FFIEC CDR Call Schedule RCQ 12312014(2 of 2).txt\n",
      "C:\\Users\\whill\\call-report-database\\Bulk_Files\\2014\\12_31\\FFIEC CDR Call Schedule RCRIA 12312014.txt\n",
      "C:\\Users\\whill\\call-report-database\\Bulk_Files\\2014\\12_31\\FFIEC CDR Call Schedule RCRIB 12312014.txt\n",
      "C:\\Users\\whill\\call-report-database\\Bulk_Files\\2014\\12_31\\FFIEC CDR Call Schedule RCRII 12312014(1 of 2).txt\n",
      "C:\\Users\\whill\\call-report-database\\Bulk_Files\\2014\\12_31\\FFIEC CDR Call Schedule RCRII 12312014(2 of 2).txt\n",
      "C:\\Users\\whill\\call-report-database\\Bulk_Files\\2014\\12_31\\FFIEC CDR Call Schedule RCS 12312014.txt\n",
      "C:\\Users\\whill\\call-report-database\\Bulk_Files\\2014\\12_31\\FFIEC CDR Call Schedule RCT 12312014(1 of 2).txt\n",
      "C:\\Users\\whill\\call-report-database\\Bulk_Files\\2014\\12_31\\FFIEC CDR Call Schedule RCT 12312014(2 of 2).txt\n",
      "C:\\Users\\whill\\call-report-database\\Bulk_Files\\2014\\12_31\\FFIEC CDR Call Schedule RCV 12312014.txt\n",
      "C:\\Users\\whill\\call-report-database\\Bulk_Files\\2014\\12_31\\FFIEC CDR Call Schedule RI 12312014.txt\n",
      "C:\\Users\\whill\\call-report-database\\Bulk_Files\\2014\\12_31\\FFIEC CDR Call Schedule RIA 12312014.txt\n",
      "C:\\Users\\whill\\call-report-database\\Bulk_Files\\2014\\12_31\\FFIEC CDR Call Schedule RIBI 12312014.txt\n",
      "C:\\Users\\whill\\call-report-database\\Bulk_Files\\2014\\12_31\\FFIEC CDR Call Schedule RIBII 12312014.txt\n",
      "C:\\Users\\whill\\call-report-database\\Bulk_Files\\2014\\12_31\\FFIEC CDR Call Schedule RIC 12312014.txt\n",
      "C:\\Users\\whill\\call-report-database\\Bulk_Files\\2014\\12_31\\FFIEC CDR Call Schedule RID 12312014.txt\n",
      "C:\\Users\\whill\\call-report-database\\Bulk_Files\\2014\\12_31\\FFIEC CDR Call Schedule RIE 12312014.txt\n"
     ]
    },
    {
     "name": "stderr",
     "output_type": "stream",
     "text": [
      "C:\\Users\\whill\\anaconda3\\lib\\site-packages\\snowflake\\snowpark\\session.py:1891: UserWarning: Pandas Dataframe has non-standard index of type <class 'pandas.core.indexes.numeric.Int64Index'> which will not be written. Consider changing the index to pd.RangeIndex(start=0,...,step=1) or call reset_index() to keep index as column(s)\n",
      "  success, nchunks, nrows, ci_output = write_pandas(\n"
     ]
    },
    {
     "name": "stdout",
     "output_type": "stream",
     "text": [
      "504871 values inserted into table SCHEDULE_RCCII\n"
     ]
    },
    {
     "name": "stderr",
     "output_type": "stream",
     "text": [
      "C:\\Users\\whill\\anaconda3\\lib\\site-packages\\snowflake\\snowpark\\session.py:1891: UserWarning: Pandas Dataframe has non-standard index of type <class 'pandas.core.indexes.numeric.Int64Index'> which will not be written. Consider changing the index to pd.RangeIndex(start=0,...,step=1) or call reset_index() to keep index as column(s)\n",
      "  success, nchunks, nrows, ci_output = write_pandas(\n"
     ]
    },
    {
     "name": "stdout",
     "output_type": "stream",
     "text": [
      "504871 values inserted into table SCHEDULE_RCO\n"
     ]
    },
    {
     "name": "stderr",
     "output_type": "stream",
     "text": [
      "C:\\Users\\whill\\anaconda3\\lib\\site-packages\\snowflake\\snowpark\\session.py:1891: UserWarning: Pandas Dataframe has non-standard index of type <class 'pandas.core.indexes.numeric.Int64Index'> which will not be written. Consider changing the index to pd.RangeIndex(start=0,...,step=1) or call reset_index() to keep index as column(s)\n",
      "  success, nchunks, nrows, ci_output = write_pandas(\n"
     ]
    },
    {
     "name": "stdout",
     "output_type": "stream",
     "text": [
      "504871 values inserted into table SCHEDULE_RICI\n"
     ]
    },
    {
     "name": "stderr",
     "output_type": "stream",
     "text": [
      "C:\\Users\\whill\\anaconda3\\lib\\site-packages\\snowflake\\snowpark\\session.py:1891: UserWarning: Pandas Dataframe has non-standard index of type <class 'pandas.core.indexes.numeric.Int64Index'> which will not be written. Consider changing the index to pd.RangeIndex(start=0,...,step=1) or call reset_index() to keep index as column(s)\n",
      "  success, nchunks, nrows, ci_output = write_pandas(\n"
     ]
    },
    {
     "name": "stdout",
     "output_type": "stream",
     "text": [
      "504871 values inserted into table SCHEDULE_RCRI\n"
     ]
    },
    {
     "name": "stderr",
     "output_type": "stream",
     "text": [
      "C:\\Users\\whill\\anaconda3\\lib\\site-packages\\snowflake\\snowpark\\session.py:1891: UserWarning: Pandas Dataframe has non-standard index of type <class 'pandas.core.indexes.numeric.Int64Index'> which will not be written. Consider changing the index to pd.RangeIndex(start=0,...,step=1) or call reset_index() to keep index as column(s)\n",
      "  success, nchunks, nrows, ci_output = write_pandas(\n"
     ]
    },
    {
     "name": "stdout",
     "output_type": "stream",
     "text": [
      "504871 values inserted into table SCHEDULE_RCN\n"
     ]
    },
    {
     "name": "stderr",
     "output_type": "stream",
     "text": [
      "C:\\Users\\whill\\anaconda3\\lib\\site-packages\\snowflake\\snowpark\\session.py:1891: UserWarning: Pandas Dataframe has non-standard index of type <class 'pandas.core.indexes.numeric.Int64Index'> which will not be written. Consider changing the index to pd.RangeIndex(start=0,...,step=1) or call reset_index() to keep index as column(s)\n",
      "  success, nchunks, nrows, ci_output = write_pandas(\n"
     ]
    },
    {
     "name": "stdout",
     "output_type": "stream",
     "text": [
      "504871 values inserted into table SCHEDULE_NARR\n"
     ]
    },
    {
     "name": "stderr",
     "output_type": "stream",
     "text": [
      "C:\\Users\\whill\\anaconda3\\lib\\site-packages\\snowflake\\snowpark\\session.py:1891: UserWarning: Pandas Dataframe has non-standard index of type <class 'pandas.core.indexes.numeric.Int64Index'> which will not be written. Consider changing the index to pd.RangeIndex(start=0,...,step=1) or call reset_index() to keep index as column(s)\n",
      "  success, nchunks, nrows, ci_output = write_pandas(\n"
     ]
    },
    {
     "name": "stdout",
     "output_type": "stream",
     "text": [
      "504871 values inserted into table SCHEDULE_RCEII\n"
     ]
    },
    {
     "name": "stderr",
     "output_type": "stream",
     "text": [
      "C:\\Users\\whill\\anaconda3\\lib\\site-packages\\snowflake\\snowpark\\session.py:1891: UserWarning: Pandas Dataframe has non-standard index of type <class 'pandas.core.indexes.numeric.Int64Index'> which will not be written. Consider changing the index to pd.RangeIndex(start=0,...,step=1) or call reset_index() to keep index as column(s)\n",
      "  success, nchunks, nrows, ci_output = write_pandas(\n"
     ]
    },
    {
     "name": "stdout",
     "output_type": "stream",
     "text": [
      "504871 values inserted into table SCHEDULE_RCI\n"
     ]
    },
    {
     "name": "stderr",
     "output_type": "stream",
     "text": [
      "C:\\Users\\whill\\anaconda3\\lib\\site-packages\\snowflake\\snowpark\\session.py:1891: UserWarning: Pandas Dataframe has non-standard index of type <class 'pandas.core.indexes.numeric.Int64Index'> which will not be written. Consider changing the index to pd.RangeIndex(start=0,...,step=1) or call reset_index() to keep index as column(s)\n",
      "  success, nchunks, nrows, ci_output = write_pandas(\n"
     ]
    },
    {
     "name": "stdout",
     "output_type": "stream",
     "text": [
      "504871 values inserted into table SCHEDULE_RCL\n"
     ]
    },
    {
     "name": "stderr",
     "output_type": "stream",
     "text": [
      "C:\\Users\\whill\\anaconda3\\lib\\site-packages\\snowflake\\snowpark\\session.py:1891: UserWarning: Pandas Dataframe has non-standard index of type <class 'pandas.core.indexes.numeric.Int64Index'> which will not be written. Consider changing the index to pd.RangeIndex(start=0,...,step=1) or call reset_index() to keep index as column(s)\n",
      "  success, nchunks, nrows, ci_output = write_pandas(\n"
     ]
    },
    {
     "name": "stdout",
     "output_type": "stream",
     "text": [
      "504871 values inserted into table SCHEDULE_RCRII\n"
     ]
    },
    {
     "name": "stderr",
     "output_type": "stream",
     "text": [
      "C:\\Users\\whill\\anaconda3\\lib\\site-packages\\snowflake\\snowpark\\session.py:1891: UserWarning: Pandas Dataframe has non-standard index of type <class 'pandas.core.indexes.numeric.Int64Index'> which will not be written. Consider changing the index to pd.RangeIndex(start=0,...,step=1) or call reset_index() to keep index as column(s)\n",
      "  success, nchunks, nrows, ci_output = write_pandas(\n"
     ]
    },
    {
     "name": "stdout",
     "output_type": "stream",
     "text": [
      "504871 values inserted into table SCHEDULE_RIE\n"
     ]
    },
    {
     "name": "stderr",
     "output_type": "stream",
     "text": [
      "C:\\Users\\whill\\anaconda3\\lib\\site-packages\\snowflake\\snowpark\\session.py:1891: UserWarning: Pandas Dataframe has non-standard index of type <class 'pandas.core.indexes.numeric.Int64Index'> which will not be written. Consider changing the index to pd.RangeIndex(start=0,...,step=1) or call reset_index() to keep index as column(s)\n",
      "  success, nchunks, nrows, ci_output = write_pandas(\n"
     ]
    },
    {
     "name": "stdout",
     "output_type": "stream",
     "text": [
      "504871 values inserted into table SCHEDULE_RIBI\n"
     ]
    },
    {
     "name": "stderr",
     "output_type": "stream",
     "text": [
      "C:\\Users\\whill\\anaconda3\\lib\\site-packages\\snowflake\\snowpark\\session.py:1891: UserWarning: Pandas Dataframe has non-standard index of type <class 'pandas.core.indexes.numeric.Int64Index'> which will not be written. Consider changing the index to pd.RangeIndex(start=0,...,step=1) or call reset_index() to keep index as column(s)\n",
      "  success, nchunks, nrows, ci_output = write_pandas(\n"
     ]
    },
    {
     "name": "stdout",
     "output_type": "stream",
     "text": [
      "504871 values inserted into table SCHEDULE_RICII\n"
     ]
    },
    {
     "name": "stderr",
     "output_type": "stream",
     "text": [
      "C:\\Users\\whill\\anaconda3\\lib\\site-packages\\snowflake\\snowpark\\session.py:1891: UserWarning: Pandas Dataframe has non-standard index of type <class 'pandas.core.indexes.numeric.Int64Index'> which will not be written. Consider changing the index to pd.RangeIndex(start=0,...,step=1) or call reset_index() to keep index as column(s)\n",
      "  success, nchunks, nrows, ci_output = write_pandas(\n"
     ]
    },
    {
     "name": "stdout",
     "output_type": "stream",
     "text": [
      "504871 values inserted into table SCHEDULE_LEO\n"
     ]
    },
    {
     "name": "stderr",
     "output_type": "stream",
     "text": [
      "C:\\Users\\whill\\anaconda3\\lib\\site-packages\\snowflake\\snowpark\\session.py:1891: UserWarning: Pandas Dataframe has non-standard index of type <class 'pandas.core.indexes.numeric.Int64Index'> which will not be written. Consider changing the index to pd.RangeIndex(start=0,...,step=1) or call reset_index() to keep index as column(s)\n",
      "  success, nchunks, nrows, ci_output = write_pandas(\n"
     ]
    },
    {
     "name": "stdout",
     "output_type": "stream",
     "text": [
      "504871 values inserted into table SCHEDULE_RCB\n"
     ]
    },
    {
     "name": "stderr",
     "output_type": "stream",
     "text": [
      "C:\\Users\\whill\\anaconda3\\lib\\site-packages\\snowflake\\snowpark\\session.py:1891: UserWarning: Pandas Dataframe has non-standard index of type <class 'pandas.core.indexes.numeric.Int64Index'> which will not be written. Consider changing the index to pd.RangeIndex(start=0,...,step=1) or call reset_index() to keep index as column(s)\n",
      "  success, nchunks, nrows, ci_output = write_pandas(\n"
     ]
    },
    {
     "name": "stdout",
     "output_type": "stream",
     "text": [
      "504871 values inserted into table SCHEDULE_RCD\n"
     ]
    },
    {
     "name": "stderr",
     "output_type": "stream",
     "text": [
      "C:\\Users\\whill\\anaconda3\\lib\\site-packages\\snowflake\\snowpark\\session.py:1891: UserWarning: Pandas Dataframe has non-standard index of type <class 'pandas.core.indexes.numeric.Int64Index'> which will not be written. Consider changing the index to pd.RangeIndex(start=0,...,step=1) or call reset_index() to keep index as column(s)\n",
      "  success, nchunks, nrows, ci_output = write_pandas(\n"
     ]
    },
    {
     "name": "stdout",
     "output_type": "stream",
     "text": [
      "504871 values inserted into table SCHEDULE_RCEI\n"
     ]
    },
    {
     "name": "stderr",
     "output_type": "stream",
     "text": [
      "C:\\Users\\whill\\anaconda3\\lib\\site-packages\\snowflake\\snowpark\\session.py:1891: UserWarning: Pandas Dataframe has non-standard index of type <class 'pandas.core.indexes.numeric.Int64Index'> which will not be written. Consider changing the index to pd.RangeIndex(start=0,...,step=1) or call reset_index() to keep index as column(s)\n",
      "  success, nchunks, nrows, ci_output = write_pandas(\n"
     ]
    },
    {
     "name": "stdout",
     "output_type": "stream",
     "text": [
      "504871 values inserted into table SCHEDULE_RCG\n"
     ]
    },
    {
     "name": "stderr",
     "output_type": "stream",
     "text": [
      "C:\\Users\\whill\\anaconda3\\lib\\site-packages\\snowflake\\snowpark\\session.py:1891: UserWarning: Pandas Dataframe has non-standard index of type <class 'pandas.core.indexes.numeric.Int64Index'> which will not be written. Consider changing the index to pd.RangeIndex(start=0,...,step=1) or call reset_index() to keep index as column(s)\n",
      "  success, nchunks, nrows, ci_output = write_pandas(\n"
     ]
    },
    {
     "name": "stdout",
     "output_type": "stream",
     "text": [
      "504871 values inserted into table SCHEDULE_RCK\n"
     ]
    },
    {
     "name": "stderr",
     "output_type": "stream",
     "text": [
      "C:\\Users\\whill\\anaconda3\\lib\\site-packages\\snowflake\\snowpark\\session.py:1891: UserWarning: Pandas Dataframe has non-standard index of type <class 'pandas.core.indexes.numeric.Int64Index'> which will not be written. Consider changing the index to pd.RangeIndex(start=0,...,step=1) or call reset_index() to keep index as column(s)\n",
      "  success, nchunks, nrows, ci_output = write_pandas(\n"
     ]
    },
    {
     "name": "stdout",
     "output_type": "stream",
     "text": [
      "504871 values inserted into table SCHEDULE_RCP\n"
     ]
    },
    {
     "name": "stderr",
     "output_type": "stream",
     "text": [
      "C:\\Users\\whill\\anaconda3\\lib\\site-packages\\snowflake\\snowpark\\session.py:1891: UserWarning: Pandas Dataframe has non-standard index of type <class 'pandas.core.indexes.numeric.Int64Index'> which will not be written. Consider changing the index to pd.RangeIndex(start=0,...,step=1) or call reset_index() to keep index as column(s)\n",
      "  success, nchunks, nrows, ci_output = write_pandas(\n"
     ]
    },
    {
     "name": "stdout",
     "output_type": "stream",
     "text": [
      "504871 values inserted into table SCHEDULE_RCT\n"
     ]
    },
    {
     "name": "stderr",
     "output_type": "stream",
     "text": [
      "C:\\Users\\whill\\anaconda3\\lib\\site-packages\\snowflake\\snowpark\\session.py:1891: UserWarning: Pandas Dataframe has non-standard index of type <class 'pandas.core.indexes.numeric.Int64Index'> which will not be written. Consider changing the index to pd.RangeIndex(start=0,...,step=1) or call reset_index() to keep index as column(s)\n",
      "  success, nchunks, nrows, ci_output = write_pandas(\n"
     ]
    },
    {
     "name": "stdout",
     "output_type": "stream",
     "text": [
      "504871 values inserted into table SCHEDULE_RI\n"
     ]
    },
    {
     "name": "stderr",
     "output_type": "stream",
     "text": [
      "C:\\Users\\whill\\anaconda3\\lib\\site-packages\\snowflake\\snowpark\\session.py:1891: UserWarning: Pandas Dataframe has non-standard index of type <class 'pandas.core.indexes.numeric.Int64Index'> which will not be written. Consider changing the index to pd.RangeIndex(start=0,...,step=1) or call reset_index() to keep index as column(s)\n",
      "  success, nchunks, nrows, ci_output = write_pandas(\n"
     ]
    },
    {
     "name": "stdout",
     "output_type": "stream",
     "text": [
      "504871 values inserted into table SCHEDULE_RIBII\n"
     ]
    },
    {
     "name": "stderr",
     "output_type": "stream",
     "text": [
      "C:\\Users\\whill\\anaconda3\\lib\\site-packages\\snowflake\\snowpark\\session.py:1891: UserWarning: Pandas Dataframe has non-standard index of type <class 'pandas.core.indexes.numeric.Int64Index'> which will not be written. Consider changing the index to pd.RangeIndex(start=0,...,step=1) or call reset_index() to keep index as column(s)\n",
      "  success, nchunks, nrows, ci_output = write_pandas(\n"
     ]
    },
    {
     "name": "stdout",
     "output_type": "stream",
     "text": [
      "504871 values inserted into table SCHEDULE_UNDEFINED\n"
     ]
    },
    {
     "name": "stderr",
     "output_type": "stream",
     "text": [
      "C:\\Users\\whill\\anaconda3\\lib\\site-packages\\snowflake\\snowpark\\session.py:1891: UserWarning: Pandas Dataframe has non-standard index of type <class 'pandas.core.indexes.numeric.Int64Index'> which will not be written. Consider changing the index to pd.RangeIndex(start=0,...,step=1) or call reset_index() to keep index as column(s)\n",
      "  success, nchunks, nrows, ci_output = write_pandas(\n"
     ]
    },
    {
     "name": "stdout",
     "output_type": "stream",
     "text": [
      "504871 values inserted into table SCHEDULE_RCE\n"
     ]
    },
    {
     "name": "stderr",
     "output_type": "stream",
     "text": [
      "C:\\Users\\whill\\anaconda3\\lib\\site-packages\\snowflake\\snowpark\\session.py:1891: UserWarning: Pandas Dataframe has non-standard index of type <class 'pandas.core.indexes.numeric.Int64Index'> which will not be written. Consider changing the index to pd.RangeIndex(start=0,...,step=1) or call reset_index() to keep index as column(s)\n",
      "  success, nchunks, nrows, ci_output = write_pandas(\n"
     ]
    },
    {
     "name": "stdout",
     "output_type": "stream",
     "text": [
      "504871 values inserted into table SCHEDULE_RCM\n"
     ]
    },
    {
     "name": "stderr",
     "output_type": "stream",
     "text": [
      "C:\\Users\\whill\\anaconda3\\lib\\site-packages\\snowflake\\snowpark\\session.py:1891: UserWarning: Pandas Dataframe has non-standard index of type <class 'pandas.core.indexes.numeric.Int64Index'> which will not be written. Consider changing the index to pd.RangeIndex(start=0,...,step=1) or call reset_index() to keep index as column(s)\n",
      "  success, nchunks, nrows, ci_output = write_pandas(\n"
     ]
    },
    {
     "name": "stdout",
     "output_type": "stream",
     "text": [
      "504871 values inserted into table SCHEDULE_RID\n"
     ]
    },
    {
     "name": "stderr",
     "output_type": "stream",
     "text": [
      "C:\\Users\\whill\\anaconda3\\lib\\site-packages\\snowflake\\snowpark\\session.py:1891: UserWarning: Pandas Dataframe has non-standard index of type <class 'pandas.core.indexes.numeric.Int64Index'> which will not be written. Consider changing the index to pd.RangeIndex(start=0,...,step=1) or call reset_index() to keep index as column(s)\n",
      "  success, nchunks, nrows, ci_output = write_pandas(\n"
     ]
    },
    {
     "name": "stdout",
     "output_type": "stream",
     "text": [
      "504871 values inserted into table SCHEDULE_ENT\n"
     ]
    },
    {
     "name": "stderr",
     "output_type": "stream",
     "text": [
      "C:\\Users\\whill\\anaconda3\\lib\\site-packages\\snowflake\\snowpark\\session.py:1891: UserWarning: Pandas Dataframe has non-standard index of type <class 'pandas.core.indexes.numeric.Int64Index'> which will not be written. Consider changing the index to pd.RangeIndex(start=0,...,step=1) or call reset_index() to keep index as column(s)\n",
      "  success, nchunks, nrows, ci_output = write_pandas(\n"
     ]
    },
    {
     "name": "stdout",
     "output_type": "stream",
     "text": [
      "504871 values inserted into table SCHEDULE_RC\n"
     ]
    },
    {
     "name": "stderr",
     "output_type": "stream",
     "text": [
      "C:\\Users\\whill\\anaconda3\\lib\\site-packages\\snowflake\\snowpark\\session.py:1891: UserWarning: Pandas Dataframe has non-standard index of type <class 'pandas.core.indexes.numeric.Int64Index'> which will not be written. Consider changing the index to pd.RangeIndex(start=0,...,step=1) or call reset_index() to keep index as column(s)\n",
      "  success, nchunks, nrows, ci_output = write_pandas(\n"
     ]
    },
    {
     "name": "stdout",
     "output_type": "stream",
     "text": [
      "504871 values inserted into table SCHEDULE_RCA\n"
     ]
    },
    {
     "name": "stderr",
     "output_type": "stream",
     "text": [
      "C:\\Users\\whill\\anaconda3\\lib\\site-packages\\snowflake\\snowpark\\session.py:1891: UserWarning: Pandas Dataframe has non-standard index of type <class 'pandas.core.indexes.numeric.Int64Index'> which will not be written. Consider changing the index to pd.RangeIndex(start=0,...,step=1) or call reset_index() to keep index as column(s)\n",
      "  success, nchunks, nrows, ci_output = write_pandas(\n"
     ]
    },
    {
     "name": "stdout",
     "output_type": "stream",
     "text": [
      "504871 values inserted into table SCHEDULE_RCCI\n"
     ]
    },
    {
     "name": "stderr",
     "output_type": "stream",
     "text": [
      "C:\\Users\\whill\\anaconda3\\lib\\site-packages\\snowflake\\snowpark\\session.py:1891: UserWarning: Pandas Dataframe has non-standard index of type <class 'pandas.core.indexes.numeric.Int64Index'> which will not be written. Consider changing the index to pd.RangeIndex(start=0,...,step=1) or call reset_index() to keep index as column(s)\n",
      "  success, nchunks, nrows, ci_output = write_pandas(\n"
     ]
    },
    {
     "name": "stdout",
     "output_type": "stream",
     "text": [
      "504871 values inserted into table SCHEDULE_RCH\n"
     ]
    },
    {
     "name": "stderr",
     "output_type": "stream",
     "text": [
      "C:\\Users\\whill\\anaconda3\\lib\\site-packages\\snowflake\\snowpark\\session.py:1891: UserWarning: Pandas Dataframe has non-standard index of type <class 'pandas.core.indexes.numeric.Int64Index'> which will not be written. Consider changing the index to pd.RangeIndex(start=0,...,step=1) or call reset_index() to keep index as column(s)\n",
      "  success, nchunks, nrows, ci_output = write_pandas(\n"
     ]
    },
    {
     "name": "stdout",
     "output_type": "stream",
     "text": [
      "504871 values inserted into table SCHEDULE_RCR\n"
     ]
    },
    {
     "name": "stderr",
     "output_type": "stream",
     "text": [
      "C:\\Users\\whill\\anaconda3\\lib\\site-packages\\snowflake\\snowpark\\session.py:1891: UserWarning: Pandas Dataframe has non-standard index of type <class 'pandas.core.indexes.numeric.Int64Index'> which will not be written. Consider changing the index to pd.RangeIndex(start=0,...,step=1) or call reset_index() to keep index as column(s)\n",
      "  success, nchunks, nrows, ci_output = write_pandas(\n"
     ]
    },
    {
     "name": "stdout",
     "output_type": "stream",
     "text": [
      "504871 values inserted into table SCHEDULE_RCS\n"
     ]
    },
    {
     "name": "stderr",
     "output_type": "stream",
     "text": [
      "C:\\Users\\whill\\anaconda3\\lib\\site-packages\\snowflake\\snowpark\\session.py:1891: UserWarning: Pandas Dataframe has non-standard index of type <class 'pandas.core.indexes.numeric.Int64Index'> which will not be written. Consider changing the index to pd.RangeIndex(start=0,...,step=1) or call reset_index() to keep index as column(s)\n",
      "  success, nchunks, nrows, ci_output = write_pandas(\n"
     ]
    },
    {
     "name": "stdout",
     "output_type": "stream",
     "text": [
      "504871 values inserted into table SCHEDULE_RCV\n"
     ]
    },
    {
     "name": "stderr",
     "output_type": "stream",
     "text": [
      "C:\\Users\\whill\\anaconda3\\lib\\site-packages\\snowflake\\snowpark\\session.py:1891: UserWarning: Pandas Dataframe has non-standard index of type <class 'pandas.core.indexes.numeric.Int64Index'> which will not be written. Consider changing the index to pd.RangeIndex(start=0,...,step=1) or call reset_index() to keep index as column(s)\n",
      "  success, nchunks, nrows, ci_output = write_pandas(\n"
     ]
    },
    {
     "name": "stdout",
     "output_type": "stream",
     "text": [
      "504871 values inserted into table SCHEDULE_RIA\n"
     ]
    },
    {
     "name": "stderr",
     "output_type": "stream",
     "text": [
      "C:\\Users\\whill\\anaconda3\\lib\\site-packages\\snowflake\\snowpark\\session.py:1891: UserWarning: Pandas Dataframe has non-standard index of type <class 'pandas.core.indexes.numeric.Int64Index'> which will not be written. Consider changing the index to pd.RangeIndex(start=0,...,step=1) or call reset_index() to keep index as column(s)\n",
      "  success, nchunks, nrows, ci_output = write_pandas(\n"
     ]
    },
    {
     "name": "stdout",
     "output_type": "stream",
     "text": [
      "504871 values inserted into table SCHEDULE_RIC\n"
     ]
    },
    {
     "name": "stderr",
     "output_type": "stream",
     "text": [
      "C:\\Users\\whill\\anaconda3\\lib\\site-packages\\snowflake\\snowpark\\session.py:1891: UserWarning: Pandas Dataframe has non-standard index of type <class 'pandas.core.indexes.numeric.Int64Index'> which will not be written. Consider changing the index to pd.RangeIndex(start=0,...,step=1) or call reset_index() to keep index as column(s)\n",
      "  success, nchunks, nrows, ci_output = write_pandas(\n"
     ]
    },
    {
     "name": "stdout",
     "output_type": "stream",
     "text": [
      "504871 values inserted into table SCHEDULE_RCF\n"
     ]
    },
    {
     "name": "stderr",
     "output_type": "stream",
     "text": [
      "C:\\Users\\whill\\anaconda3\\lib\\site-packages\\snowflake\\snowpark\\session.py:1891: UserWarning: Pandas Dataframe has non-standard index of type <class 'pandas.core.indexes.numeric.Int64Index'> which will not be written. Consider changing the index to pd.RangeIndex(start=0,...,step=1) or call reset_index() to keep index as column(s)\n",
      "  success, nchunks, nrows, ci_output = write_pandas(\n"
     ]
    },
    {
     "name": "stdout",
     "output_type": "stream",
     "text": [
      "504871 values inserted into table SCHEDULE_SU\n"
     ]
    },
    {
     "name": "stderr",
     "output_type": "stream",
     "text": [
      "C:\\Users\\whill\\anaconda3\\lib\\site-packages\\snowflake\\snowpark\\session.py:1891: UserWarning: Pandas Dataframe has non-standard index of type <class 'pandas.core.indexes.numeric.Int64Index'> which will not be written. Consider changing the index to pd.RangeIndex(start=0,...,step=1) or call reset_index() to keep index as column(s)\n",
      "  success, nchunks, nrows, ci_output = write_pandas(\n"
     ]
    },
    {
     "name": "stdout",
     "output_type": "stream",
     "text": [
      "504871 values inserted into table SCHEDULE_RCQ\n",
      "C:\\Users\\whill\\call-report-database\\Bulk_Files\\2015\\03_31\\FFIEC CDR Call Schedule CI 03312015.txt\n",
      "C:\\Users\\whill\\call-report-database\\Bulk_Files\\2015\\03_31\\FFIEC CDR Call Schedule ENT 03312015.txt\n",
      "C:\\Users\\whill\\call-report-database\\Bulk_Files\\2015\\03_31\\FFIEC CDR Call Schedule NARR 03312015.txt\n",
      "C:\\Users\\whill\\call-report-database\\Bulk_Files\\2015\\03_31\\FFIEC CDR Call Schedule RC 03312015.txt\n",
      "C:\\Users\\whill\\call-report-database\\Bulk_Files\\2015\\03_31\\FFIEC CDR Call Schedule RCA 03312015.txt\n",
      "C:\\Users\\whill\\call-report-database\\Bulk_Files\\2015\\03_31\\FFIEC CDR Call Schedule RCB 03312015(1 of 2).txt\n",
      "C:\\Users\\whill\\call-report-database\\Bulk_Files\\2015\\03_31\\FFIEC CDR Call Schedule RCB 03312015(2 of 2).txt\n",
      "C:\\Users\\whill\\call-report-database\\Bulk_Files\\2015\\03_31\\FFIEC CDR Call Schedule RCCI 03312015.txt\n",
      "C:\\Users\\whill\\call-report-database\\Bulk_Files\\2015\\03_31\\FFIEC CDR Call Schedule RCCII 03312015.txt\n",
      "C:\\Users\\whill\\call-report-database\\Bulk_Files\\2015\\03_31\\FFIEC CDR Call Schedule RCD 03312015.txt\n",
      "C:\\Users\\whill\\call-report-database\\Bulk_Files\\2015\\03_31\\FFIEC CDR Call Schedule RCE 03312015.txt\n",
      "C:\\Users\\whill\\call-report-database\\Bulk_Files\\2015\\03_31\\FFIEC CDR Call Schedule RCEI 03312015.txt\n",
      "C:\\Users\\whill\\call-report-database\\Bulk_Files\\2015\\03_31\\FFIEC CDR Call Schedule RCEII 03312015.txt\n",
      "C:\\Users\\whill\\call-report-database\\Bulk_Files\\2015\\03_31\\FFIEC CDR Call Schedule RCF 03312015.txt\n",
      "C:\\Users\\whill\\call-report-database\\Bulk_Files\\2015\\03_31\\FFIEC CDR Call Schedule RCG 03312015.txt\n",
      "C:\\Users\\whill\\call-report-database\\Bulk_Files\\2015\\03_31\\FFIEC CDR Call Schedule RCH 03312015.txt\n",
      "C:\\Users\\whill\\call-report-database\\Bulk_Files\\2015\\03_31\\FFIEC CDR Call Schedule RCI 03312015.txt\n",
      "C:\\Users\\whill\\call-report-database\\Bulk_Files\\2015\\03_31\\FFIEC CDR Call Schedule RCK 03312015.txt\n",
      "C:\\Users\\whill\\call-report-database\\Bulk_Files\\2015\\03_31\\FFIEC CDR Call Schedule RCL 03312015(1 of 2).txt\n",
      "C:\\Users\\whill\\call-report-database\\Bulk_Files\\2015\\03_31\\FFIEC CDR Call Schedule RCL 03312015(2 of 2).txt\n",
      "C:\\Users\\whill\\call-report-database\\Bulk_Files\\2015\\03_31\\FFIEC CDR Call Schedule RCM 03312015.txt\n",
      "C:\\Users\\whill\\call-report-database\\Bulk_Files\\2015\\03_31\\FFIEC CDR Call Schedule RCN 03312015(1 of 2).txt\n",
      "C:\\Users\\whill\\call-report-database\\Bulk_Files\\2015\\03_31\\FFIEC CDR Call Schedule RCN 03312015(2 of 2).txt\n",
      "C:\\Users\\whill\\call-report-database\\Bulk_Files\\2015\\03_31\\FFIEC CDR Call Schedule RCO 03312015(1 of 2).txt\n",
      "C:\\Users\\whill\\call-report-database\\Bulk_Files\\2015\\03_31\\FFIEC CDR Call Schedule RCO 03312015(2 of 2).txt\n",
      "C:\\Users\\whill\\call-report-database\\Bulk_Files\\2015\\03_31\\FFIEC CDR Call Schedule RCP 03312015.txt\n",
      "C:\\Users\\whill\\call-report-database\\Bulk_Files\\2015\\03_31\\FFIEC CDR Call Schedule RCQ 03312015(1 of 2).txt\n",
      "C:\\Users\\whill\\call-report-database\\Bulk_Files\\2015\\03_31\\FFIEC CDR Call Schedule RCQ 03312015(2 of 2).txt\n",
      "C:\\Users\\whill\\call-report-database\\Bulk_Files\\2015\\03_31\\FFIEC CDR Call Schedule RCRI 03312015.txt\n",
      "C:\\Users\\whill\\call-report-database\\Bulk_Files\\2015\\03_31\\FFIEC CDR Call Schedule RCRII 03312015(1 of 3).txt\n",
      "C:\\Users\\whill\\call-report-database\\Bulk_Files\\2015\\03_31\\FFIEC CDR Call Schedule RCRII 03312015(2 of 3).txt\n",
      "C:\\Users\\whill\\call-report-database\\Bulk_Files\\2015\\03_31\\FFIEC CDR Call Schedule RCRII 03312015(3 of 3).txt\n",
      "C:\\Users\\whill\\call-report-database\\Bulk_Files\\2015\\03_31\\FFIEC CDR Call Schedule RCS 03312015.txt\n",
      "C:\\Users\\whill\\call-report-database\\Bulk_Files\\2015\\03_31\\FFIEC CDR Call Schedule RCT 03312015(1 of 2).txt\n",
      "C:\\Users\\whill\\call-report-database\\Bulk_Files\\2015\\03_31\\FFIEC CDR Call Schedule RCT 03312015(2 of 2).txt\n",
      "C:\\Users\\whill\\call-report-database\\Bulk_Files\\2015\\03_31\\FFIEC CDR Call Schedule RCV 03312015.txt\n",
      "C:\\Users\\whill\\call-report-database\\Bulk_Files\\2015\\03_31\\FFIEC CDR Call Schedule RI 03312015.txt\n",
      "C:\\Users\\whill\\call-report-database\\Bulk_Files\\2015\\03_31\\FFIEC CDR Call Schedule RIA 03312015.txt\n",
      "C:\\Users\\whill\\call-report-database\\Bulk_Files\\2015\\03_31\\FFIEC CDR Call Schedule RIBI 03312015.txt\n",
      "C:\\Users\\whill\\call-report-database\\Bulk_Files\\2015\\03_31\\FFIEC CDR Call Schedule RIBII 03312015.txt\n",
      "C:\\Users\\whill\\call-report-database\\Bulk_Files\\2015\\03_31\\FFIEC CDR Call Schedule RIC 03312015.txt\n",
      "C:\\Users\\whill\\call-report-database\\Bulk_Files\\2015\\03_31\\FFIEC CDR Call Schedule RID 03312015.txt\n",
      "C:\\Users\\whill\\call-report-database\\Bulk_Files\\2015\\03_31\\FFIEC CDR Call Schedule RIE 03312015.txt\n"
     ]
    },
    {
     "name": "stderr",
     "output_type": "stream",
     "text": [
      "C:\\Users\\whill\\anaconda3\\lib\\site-packages\\snowflake\\snowpark\\session.py:1891: UserWarning: Pandas Dataframe has non-standard index of type <class 'pandas.core.indexes.numeric.Int64Index'> which will not be written. Consider changing the index to pd.RangeIndex(start=0,...,step=1) or call reset_index() to keep index as column(s)\n",
      "  success, nchunks, nrows, ci_output = write_pandas(\n"
     ]
    },
    {
     "name": "stdout",
     "output_type": "stream",
     "text": [
      "511351 values inserted into table SCHEDULE_ENT\n"
     ]
    },
    {
     "name": "stderr",
     "output_type": "stream",
     "text": [
      "C:\\Users\\whill\\anaconda3\\lib\\site-packages\\snowflake\\snowpark\\session.py:1891: UserWarning: Pandas Dataframe has non-standard index of type <class 'pandas.core.indexes.numeric.Int64Index'> which will not be written. Consider changing the index to pd.RangeIndex(start=0,...,step=1) or call reset_index() to keep index as column(s)\n",
      "  success, nchunks, nrows, ci_output = write_pandas(\n"
     ]
    },
    {
     "name": "stdout",
     "output_type": "stream",
     "text": [
      "511351 values inserted into table SCHEDULE_NARR\n"
     ]
    },
    {
     "name": "stderr",
     "output_type": "stream",
     "text": [
      "C:\\Users\\whill\\anaconda3\\lib\\site-packages\\snowflake\\snowpark\\session.py:1891: UserWarning: Pandas Dataframe has non-standard index of type <class 'pandas.core.indexes.numeric.Int64Index'> which will not be written. Consider changing the index to pd.RangeIndex(start=0,...,step=1) or call reset_index() to keep index as column(s)\n",
      "  success, nchunks, nrows, ci_output = write_pandas(\n"
     ]
    },
    {
     "name": "stdout",
     "output_type": "stream",
     "text": [
      "511351 values inserted into table SCHEDULE_RC\n"
     ]
    },
    {
     "name": "stderr",
     "output_type": "stream",
     "text": [
      "C:\\Users\\whill\\anaconda3\\lib\\site-packages\\snowflake\\snowpark\\session.py:1891: UserWarning: Pandas Dataframe has non-standard index of type <class 'pandas.core.indexes.numeric.Int64Index'> which will not be written. Consider changing the index to pd.RangeIndex(start=0,...,step=1) or call reset_index() to keep index as column(s)\n",
      "  success, nchunks, nrows, ci_output = write_pandas(\n"
     ]
    },
    {
     "name": "stdout",
     "output_type": "stream",
     "text": [
      "511351 values inserted into table SCHEDULE_RCB\n"
     ]
    },
    {
     "name": "stderr",
     "output_type": "stream",
     "text": [
      "C:\\Users\\whill\\anaconda3\\lib\\site-packages\\snowflake\\snowpark\\session.py:1891: UserWarning: Pandas Dataframe has non-standard index of type <class 'pandas.core.indexes.numeric.Int64Index'> which will not be written. Consider changing the index to pd.RangeIndex(start=0,...,step=1) or call reset_index() to keep index as column(s)\n",
      "  success, nchunks, nrows, ci_output = write_pandas(\n"
     ]
    },
    {
     "name": "stdout",
     "output_type": "stream",
     "text": [
      "511351 values inserted into table SCHEDULE_RCEI\n"
     ]
    },
    {
     "name": "stderr",
     "output_type": "stream",
     "text": [
      "C:\\Users\\whill\\anaconda3\\lib\\site-packages\\snowflake\\snowpark\\session.py:1891: UserWarning: Pandas Dataframe has non-standard index of type <class 'pandas.core.indexes.numeric.Int64Index'> which will not be written. Consider changing the index to pd.RangeIndex(start=0,...,step=1) or call reset_index() to keep index as column(s)\n",
      "  success, nchunks, nrows, ci_output = write_pandas(\n"
     ]
    },
    {
     "name": "stdout",
     "output_type": "stream",
     "text": [
      "511351 values inserted into table SCHEDULE_RCI\n"
     ]
    },
    {
     "name": "stderr",
     "output_type": "stream",
     "text": [
      "C:\\Users\\whill\\anaconda3\\lib\\site-packages\\snowflake\\snowpark\\session.py:1891: UserWarning: Pandas Dataframe has non-standard index of type <class 'pandas.core.indexes.numeric.Int64Index'> which will not be written. Consider changing the index to pd.RangeIndex(start=0,...,step=1) or call reset_index() to keep index as column(s)\n",
      "  success, nchunks, nrows, ci_output = write_pandas(\n"
     ]
    },
    {
     "name": "stdout",
     "output_type": "stream",
     "text": [
      "511351 values inserted into table SCHEDULE_RCL\n"
     ]
    },
    {
     "name": "stderr",
     "output_type": "stream",
     "text": [
      "C:\\Users\\whill\\anaconda3\\lib\\site-packages\\snowflake\\snowpark\\session.py:1891: UserWarning: Pandas Dataframe has non-standard index of type <class 'pandas.core.indexes.numeric.Int64Index'> which will not be written. Consider changing the index to pd.RangeIndex(start=0,...,step=1) or call reset_index() to keep index as column(s)\n",
      "  success, nchunks, nrows, ci_output = write_pandas(\n"
     ]
    },
    {
     "name": "stdout",
     "output_type": "stream",
     "text": [
      "511351 values inserted into table SCHEDULE_RCQ\n"
     ]
    },
    {
     "name": "stderr",
     "output_type": "stream",
     "text": [
      "C:\\Users\\whill\\anaconda3\\lib\\site-packages\\snowflake\\snowpark\\session.py:1891: UserWarning: Pandas Dataframe has non-standard index of type <class 'pandas.core.indexes.numeric.Int64Index'> which will not be written. Consider changing the index to pd.RangeIndex(start=0,...,step=1) or call reset_index() to keep index as column(s)\n",
      "  success, nchunks, nrows, ci_output = write_pandas(\n"
     ]
    },
    {
     "name": "stdout",
     "output_type": "stream",
     "text": [
      "511351 values inserted into table SCHEDULE_RCR\n"
     ]
    },
    {
     "name": "stderr",
     "output_type": "stream",
     "text": [
      "C:\\Users\\whill\\anaconda3\\lib\\site-packages\\snowflake\\snowpark\\session.py:1891: UserWarning: Pandas Dataframe has non-standard index of type <class 'pandas.core.indexes.numeric.Int64Index'> which will not be written. Consider changing the index to pd.RangeIndex(start=0,...,step=1) or call reset_index() to keep index as column(s)\n",
      "  success, nchunks, nrows, ci_output = write_pandas(\n"
     ]
    },
    {
     "name": "stdout",
     "output_type": "stream",
     "text": [
      "511351 values inserted into table SCHEDULE_SU\n"
     ]
    },
    {
     "name": "stderr",
     "output_type": "stream",
     "text": [
      "C:\\Users\\whill\\anaconda3\\lib\\site-packages\\snowflake\\snowpark\\session.py:1891: UserWarning: Pandas Dataframe has non-standard index of type <class 'pandas.core.indexes.numeric.Int64Index'> which will not be written. Consider changing the index to pd.RangeIndex(start=0,...,step=1) or call reset_index() to keep index as column(s)\n",
      "  success, nchunks, nrows, ci_output = write_pandas(\n"
     ]
    },
    {
     "name": "stdout",
     "output_type": "stream",
     "text": [
      "511351 values inserted into table SCHEDULE_RCO\n"
     ]
    },
    {
     "name": "stderr",
     "output_type": "stream",
     "text": [
      "C:\\Users\\whill\\anaconda3\\lib\\site-packages\\snowflake\\snowpark\\session.py:1891: UserWarning: Pandas Dataframe has non-standard index of type <class 'pandas.core.indexes.numeric.Int64Index'> which will not be written. Consider changing the index to pd.RangeIndex(start=0,...,step=1) or call reset_index() to keep index as column(s)\n",
      "  success, nchunks, nrows, ci_output = write_pandas(\n"
     ]
    },
    {
     "name": "stdout",
     "output_type": "stream",
     "text": [
      "511351 values inserted into table SCHEDULE_RCH\n"
     ]
    },
    {
     "name": "stderr",
     "output_type": "stream",
     "text": [
      "C:\\Users\\whill\\anaconda3\\lib\\site-packages\\snowflake\\snowpark\\session.py:1891: UserWarning: Pandas Dataframe has non-standard index of type <class 'pandas.core.indexes.numeric.Int64Index'> which will not be written. Consider changing the index to pd.RangeIndex(start=0,...,step=1) or call reset_index() to keep index as column(s)\n",
      "  success, nchunks, nrows, ci_output = write_pandas(\n"
     ]
    },
    {
     "name": "stdout",
     "output_type": "stream",
     "text": [
      "511351 values inserted into table SCHEDULE_RCE\n"
     ]
    },
    {
     "name": "stderr",
     "output_type": "stream",
     "text": [
      "C:\\Users\\whill\\anaconda3\\lib\\site-packages\\snowflake\\snowpark\\session.py:1891: UserWarning: Pandas Dataframe has non-standard index of type <class 'pandas.core.indexes.numeric.Int64Index'> which will not be written. Consider changing the index to pd.RangeIndex(start=0,...,step=1) or call reset_index() to keep index as column(s)\n",
      "  success, nchunks, nrows, ci_output = write_pandas(\n"
     ]
    },
    {
     "name": "stdout",
     "output_type": "stream",
     "text": [
      "511351 values inserted into table SCHEDULE_RIBII\n"
     ]
    },
    {
     "name": "stderr",
     "output_type": "stream",
     "text": [
      "C:\\Users\\whill\\anaconda3\\lib\\site-packages\\snowflake\\snowpark\\session.py:1891: UserWarning: Pandas Dataframe has non-standard index of type <class 'pandas.core.indexes.numeric.Int64Index'> which will not be written. Consider changing the index to pd.RangeIndex(start=0,...,step=1) or call reset_index() to keep index as column(s)\n",
      "  success, nchunks, nrows, ci_output = write_pandas(\n"
     ]
    },
    {
     "name": "stdout",
     "output_type": "stream",
     "text": [
      "511351 values inserted into table SCHEDULE_LEO\n"
     ]
    },
    {
     "name": "stderr",
     "output_type": "stream",
     "text": [
      "C:\\Users\\whill\\anaconda3\\lib\\site-packages\\snowflake\\snowpark\\session.py:1891: UserWarning: Pandas Dataframe has non-standard index of type <class 'pandas.core.indexes.numeric.Int64Index'> which will not be written. Consider changing the index to pd.RangeIndex(start=0,...,step=1) or call reset_index() to keep index as column(s)\n",
      "  success, nchunks, nrows, ci_output = write_pandas(\n"
     ]
    },
    {
     "name": "stdout",
     "output_type": "stream",
     "text": [
      "511351 values inserted into table SCHEDULE_RCD\n"
     ]
    },
    {
     "name": "stderr",
     "output_type": "stream",
     "text": [
      "C:\\Users\\whill\\anaconda3\\lib\\site-packages\\snowflake\\snowpark\\session.py:1891: UserWarning: Pandas Dataframe has non-standard index of type <class 'pandas.core.indexes.numeric.Int64Index'> which will not be written. Consider changing the index to pd.RangeIndex(start=0,...,step=1) or call reset_index() to keep index as column(s)\n",
      "  success, nchunks, nrows, ci_output = write_pandas(\n"
     ]
    },
    {
     "name": "stdout",
     "output_type": "stream",
     "text": [
      "511351 values inserted into table SCHEDULE_RCEII\n"
     ]
    },
    {
     "name": "stderr",
     "output_type": "stream",
     "text": [
      "C:\\Users\\whill\\anaconda3\\lib\\site-packages\\snowflake\\snowpark\\session.py:1891: UserWarning: Pandas Dataframe has non-standard index of type <class 'pandas.core.indexes.numeric.Int64Index'> which will not be written. Consider changing the index to pd.RangeIndex(start=0,...,step=1) or call reset_index() to keep index as column(s)\n",
      "  success, nchunks, nrows, ci_output = write_pandas(\n"
     ]
    },
    {
     "name": "stdout",
     "output_type": "stream",
     "text": [
      "511351 values inserted into table SCHEDULE_RCP\n"
     ]
    },
    {
     "name": "stderr",
     "output_type": "stream",
     "text": [
      "C:\\Users\\whill\\anaconda3\\lib\\site-packages\\snowflake\\snowpark\\session.py:1891: UserWarning: Pandas Dataframe has non-standard index of type <class 'pandas.core.indexes.numeric.Int64Index'> which will not be written. Consider changing the index to pd.RangeIndex(start=0,...,step=1) or call reset_index() to keep index as column(s)\n",
      "  success, nchunks, nrows, ci_output = write_pandas(\n"
     ]
    },
    {
     "name": "stdout",
     "output_type": "stream",
     "text": [
      "511351 values inserted into table SCHEDULE_RCRII\n"
     ]
    },
    {
     "name": "stderr",
     "output_type": "stream",
     "text": [
      "C:\\Users\\whill\\anaconda3\\lib\\site-packages\\snowflake\\snowpark\\session.py:1891: UserWarning: Pandas Dataframe has non-standard index of type <class 'pandas.core.indexes.numeric.Int64Index'> which will not be written. Consider changing the index to pd.RangeIndex(start=0,...,step=1) or call reset_index() to keep index as column(s)\n",
      "  success, nchunks, nrows, ci_output = write_pandas(\n"
     ]
    },
    {
     "name": "stdout",
     "output_type": "stream",
     "text": [
      "511351 values inserted into table SCHEDULE_RIC\n"
     ]
    },
    {
     "name": "stderr",
     "output_type": "stream",
     "text": [
      "C:\\Users\\whill\\anaconda3\\lib\\site-packages\\snowflake\\snowpark\\session.py:1891: UserWarning: Pandas Dataframe has non-standard index of type <class 'pandas.core.indexes.numeric.Int64Index'> which will not be written. Consider changing the index to pd.RangeIndex(start=0,...,step=1) or call reset_index() to keep index as column(s)\n",
      "  success, nchunks, nrows, ci_output = write_pandas(\n"
     ]
    },
    {
     "name": "stdout",
     "output_type": "stream",
     "text": [
      "511351 values inserted into table SCHEDULE_RICII\n"
     ]
    },
    {
     "name": "stderr",
     "output_type": "stream",
     "text": [
      "C:\\Users\\whill\\anaconda3\\lib\\site-packages\\snowflake\\snowpark\\session.py:1891: UserWarning: Pandas Dataframe has non-standard index of type <class 'pandas.core.indexes.numeric.Int64Index'> which will not be written. Consider changing the index to pd.RangeIndex(start=0,...,step=1) or call reset_index() to keep index as column(s)\n",
      "  success, nchunks, nrows, ci_output = write_pandas(\n"
     ]
    },
    {
     "name": "stdout",
     "output_type": "stream",
     "text": [
      "511351 values inserted into table SCHEDULE_RIE\n"
     ]
    },
    {
     "name": "stderr",
     "output_type": "stream",
     "text": [
      "C:\\Users\\whill\\anaconda3\\lib\\site-packages\\snowflake\\snowpark\\session.py:1891: UserWarning: Pandas Dataframe has non-standard index of type <class 'pandas.core.indexes.numeric.Int64Index'> which will not be written. Consider changing the index to pd.RangeIndex(start=0,...,step=1) or call reset_index() to keep index as column(s)\n",
      "  success, nchunks, nrows, ci_output = write_pandas(\n"
     ]
    },
    {
     "name": "stdout",
     "output_type": "stream",
     "text": [
      "511351 values inserted into table SCHEDULE_RCV\n"
     ]
    },
    {
     "name": "stderr",
     "output_type": "stream",
     "text": [
      "C:\\Users\\whill\\anaconda3\\lib\\site-packages\\snowflake\\snowpark\\session.py:1891: UserWarning: Pandas Dataframe has non-standard index of type <class 'pandas.core.indexes.numeric.Int64Index'> which will not be written. Consider changing the index to pd.RangeIndex(start=0,...,step=1) or call reset_index() to keep index as column(s)\n",
      "  success, nchunks, nrows, ci_output = write_pandas(\n"
     ]
    },
    {
     "name": "stdout",
     "output_type": "stream",
     "text": [
      "511351 values inserted into table SCHEDULE_RCA\n"
     ]
    },
    {
     "name": "stderr",
     "output_type": "stream",
     "text": [
      "C:\\Users\\whill\\anaconda3\\lib\\site-packages\\snowflake\\snowpark\\session.py:1891: UserWarning: Pandas Dataframe has non-standard index of type <class 'pandas.core.indexes.numeric.Int64Index'> which will not be written. Consider changing the index to pd.RangeIndex(start=0,...,step=1) or call reset_index() to keep index as column(s)\n",
      "  success, nchunks, nrows, ci_output = write_pandas(\n"
     ]
    },
    {
     "name": "stdout",
     "output_type": "stream",
     "text": [
      "Error in table SCHEDULE_RCRI: 100071 (22000): Failed to cast variant value \"8.67%\" to REAL\n"
     ]
    },
    {
     "name": "stderr",
     "output_type": "stream",
     "text": [
      "C:\\Users\\whill\\anaconda3\\lib\\site-packages\\snowflake\\snowpark\\session.py:1891: UserWarning: Pandas Dataframe has non-standard index of type <class 'pandas.core.indexes.numeric.Int64Index'> which will not be written. Consider changing the index to pd.RangeIndex(start=0,...,step=1) or call reset_index() to keep index as column(s)\n",
      "  success, nchunks, nrows, ci_output = write_pandas(\n"
     ]
    },
    {
     "name": "stdout",
     "output_type": "stream",
     "text": [
      "511351 values inserted into table SCHEDULE_RCS\n"
     ]
    },
    {
     "name": "stderr",
     "output_type": "stream",
     "text": [
      "C:\\Users\\whill\\anaconda3\\lib\\site-packages\\snowflake\\snowpark\\session.py:1891: UserWarning: Pandas Dataframe has non-standard index of type <class 'pandas.core.indexes.numeric.Int64Index'> which will not be written. Consider changing the index to pd.RangeIndex(start=0,...,step=1) or call reset_index() to keep index as column(s)\n",
      "  success, nchunks, nrows, ci_output = write_pandas(\n"
     ]
    },
    {
     "name": "stdout",
     "output_type": "stream",
     "text": [
      "511351 values inserted into table SCHEDULE_RI\n"
     ]
    },
    {
     "name": "stderr",
     "output_type": "stream",
     "text": [
      "C:\\Users\\whill\\anaconda3\\lib\\site-packages\\snowflake\\snowpark\\session.py:1891: UserWarning: Pandas Dataframe has non-standard index of type <class 'pandas.core.indexes.numeric.Int64Index'> which will not be written. Consider changing the index to pd.RangeIndex(start=0,...,step=1) or call reset_index() to keep index as column(s)\n",
      "  success, nchunks, nrows, ci_output = write_pandas(\n"
     ]
    },
    {
     "name": "stdout",
     "output_type": "stream",
     "text": [
      "511351 values inserted into table SCHEDULE_RICI\n"
     ]
    },
    {
     "name": "stderr",
     "output_type": "stream",
     "text": [
      "C:\\Users\\whill\\anaconda3\\lib\\site-packages\\snowflake\\snowpark\\session.py:1891: UserWarning: Pandas Dataframe has non-standard index of type <class 'pandas.core.indexes.numeric.Int64Index'> which will not be written. Consider changing the index to pd.RangeIndex(start=0,...,step=1) or call reset_index() to keep index as column(s)\n",
      "  success, nchunks, nrows, ci_output = write_pandas(\n"
     ]
    },
    {
     "name": "stdout",
     "output_type": "stream",
     "text": [
      "511351 values inserted into table SCHEDULE_RID\n"
     ]
    },
    {
     "name": "stderr",
     "output_type": "stream",
     "text": [
      "C:\\Users\\whill\\anaconda3\\lib\\site-packages\\snowflake\\snowpark\\session.py:1891: UserWarning: Pandas Dataframe has non-standard index of type <class 'pandas.core.indexes.numeric.Int64Index'> which will not be written. Consider changing the index to pd.RangeIndex(start=0,...,step=1) or call reset_index() to keep index as column(s)\n",
      "  success, nchunks, nrows, ci_output = write_pandas(\n"
     ]
    },
    {
     "name": "stdout",
     "output_type": "stream",
     "text": [
      "511351 values inserted into table SCHEDULE_RCF\n"
     ]
    },
    {
     "name": "stderr",
     "output_type": "stream",
     "text": [
      "C:\\Users\\whill\\anaconda3\\lib\\site-packages\\snowflake\\snowpark\\session.py:1891: UserWarning: Pandas Dataframe has non-standard index of type <class 'pandas.core.indexes.numeric.Int64Index'> which will not be written. Consider changing the index to pd.RangeIndex(start=0,...,step=1) or call reset_index() to keep index as column(s)\n",
      "  success, nchunks, nrows, ci_output = write_pandas(\n"
     ]
    },
    {
     "name": "stdout",
     "output_type": "stream",
     "text": [
      "511351 values inserted into table SCHEDULE_UNDEFINED\n"
     ]
    },
    {
     "name": "stderr",
     "output_type": "stream",
     "text": [
      "C:\\Users\\whill\\anaconda3\\lib\\site-packages\\snowflake\\snowpark\\session.py:1891: UserWarning: Pandas Dataframe has non-standard index of type <class 'pandas.core.indexes.numeric.Int64Index'> which will not be written. Consider changing the index to pd.RangeIndex(start=0,...,step=1) or call reset_index() to keep index as column(s)\n",
      "  success, nchunks, nrows, ci_output = write_pandas(\n"
     ]
    },
    {
     "name": "stdout",
     "output_type": "stream",
     "text": [
      "511351 values inserted into table SCHEDULE_RCCI\n"
     ]
    },
    {
     "name": "stderr",
     "output_type": "stream",
     "text": [
      "C:\\Users\\whill\\anaconda3\\lib\\site-packages\\snowflake\\snowpark\\session.py:1891: UserWarning: Pandas Dataframe has non-standard index of type <class 'pandas.core.indexes.numeric.Int64Index'> which will not be written. Consider changing the index to pd.RangeIndex(start=0,...,step=1) or call reset_index() to keep index as column(s)\n",
      "  success, nchunks, nrows, ci_output = write_pandas(\n"
     ]
    },
    {
     "name": "stdout",
     "output_type": "stream",
     "text": [
      "511351 values inserted into table SCHEDULE_RCG\n"
     ]
    },
    {
     "name": "stderr",
     "output_type": "stream",
     "text": [
      "C:\\Users\\whill\\anaconda3\\lib\\site-packages\\snowflake\\snowpark\\session.py:1891: UserWarning: Pandas Dataframe has non-standard index of type <class 'pandas.core.indexes.numeric.Int64Index'> which will not be written. Consider changing the index to pd.RangeIndex(start=0,...,step=1) or call reset_index() to keep index as column(s)\n",
      "  success, nchunks, nrows, ci_output = write_pandas(\n"
     ]
    },
    {
     "name": "stdout",
     "output_type": "stream",
     "text": [
      "511351 values inserted into table SCHEDULE_RCK\n"
     ]
    },
    {
     "name": "stderr",
     "output_type": "stream",
     "text": [
      "C:\\Users\\whill\\anaconda3\\lib\\site-packages\\snowflake\\snowpark\\session.py:1891: UserWarning: Pandas Dataframe has non-standard index of type <class 'pandas.core.indexes.numeric.Int64Index'> which will not be written. Consider changing the index to pd.RangeIndex(start=0,...,step=1) or call reset_index() to keep index as column(s)\n",
      "  success, nchunks, nrows, ci_output = write_pandas(\n"
     ]
    },
    {
     "name": "stdout",
     "output_type": "stream",
     "text": [
      "511351 values inserted into table SCHEDULE_RCM\n"
     ]
    },
    {
     "name": "stderr",
     "output_type": "stream",
     "text": [
      "C:\\Users\\whill\\anaconda3\\lib\\site-packages\\snowflake\\snowpark\\session.py:1891: UserWarning: Pandas Dataframe has non-standard index of type <class 'pandas.core.indexes.numeric.Int64Index'> which will not be written. Consider changing the index to pd.RangeIndex(start=0,...,step=1) or call reset_index() to keep index as column(s)\n",
      "  success, nchunks, nrows, ci_output = write_pandas(\n"
     ]
    },
    {
     "name": "stdout",
     "output_type": "stream",
     "text": [
      "511351 values inserted into table SCHEDULE_RCN\n"
     ]
    },
    {
     "name": "stderr",
     "output_type": "stream",
     "text": [
      "C:\\Users\\whill\\anaconda3\\lib\\site-packages\\snowflake\\snowpark\\session.py:1891: UserWarning: Pandas Dataframe has non-standard index of type <class 'pandas.core.indexes.numeric.Int64Index'> which will not be written. Consider changing the index to pd.RangeIndex(start=0,...,step=1) or call reset_index() to keep index as column(s)\n",
      "  success, nchunks, nrows, ci_output = write_pandas(\n"
     ]
    },
    {
     "name": "stdout",
     "output_type": "stream",
     "text": [
      "511351 values inserted into table SCHEDULE_RCT\n"
     ]
    },
    {
     "name": "stderr",
     "output_type": "stream",
     "text": [
      "C:\\Users\\whill\\anaconda3\\lib\\site-packages\\snowflake\\snowpark\\session.py:1891: UserWarning: Pandas Dataframe has non-standard index of type <class 'pandas.core.indexes.numeric.Int64Index'> which will not be written. Consider changing the index to pd.RangeIndex(start=0,...,step=1) or call reset_index() to keep index as column(s)\n",
      "  success, nchunks, nrows, ci_output = write_pandas(\n"
     ]
    },
    {
     "name": "stdout",
     "output_type": "stream",
     "text": [
      "511351 values inserted into table SCHEDULE_RIBI\n"
     ]
    },
    {
     "name": "stderr",
     "output_type": "stream",
     "text": [
      "C:\\Users\\whill\\anaconda3\\lib\\site-packages\\snowflake\\snowpark\\session.py:1891: UserWarning: Pandas Dataframe has non-standard index of type <class 'pandas.core.indexes.numeric.Int64Index'> which will not be written. Consider changing the index to pd.RangeIndex(start=0,...,step=1) or call reset_index() to keep index as column(s)\n",
      "  success, nchunks, nrows, ci_output = write_pandas(\n"
     ]
    },
    {
     "name": "stdout",
     "output_type": "stream",
     "text": [
      "511351 values inserted into table SCHEDULE_RCCII\n"
     ]
    },
    {
     "name": "stderr",
     "output_type": "stream",
     "text": [
      "C:\\Users\\whill\\anaconda3\\lib\\site-packages\\snowflake\\snowpark\\session.py:1891: UserWarning: Pandas Dataframe has non-standard index of type <class 'pandas.core.indexes.numeric.Int64Index'> which will not be written. Consider changing the index to pd.RangeIndex(start=0,...,step=1) or call reset_index() to keep index as column(s)\n",
      "  success, nchunks, nrows, ci_output = write_pandas(\n"
     ]
    },
    {
     "name": "stdout",
     "output_type": "stream",
     "text": [
      "511351 values inserted into table SCHEDULE_RIA\n",
      "C:\\Users\\whill\\call-report-database\\Bulk_Files\\2015\\06_30\\FFIEC CDR Call Schedule CI 06302015.txt\n",
      "C:\\Users\\whill\\call-report-database\\Bulk_Files\\2015\\06_30\\FFIEC CDR Call Schedule ENT 06302015.txt\n",
      "C:\\Users\\whill\\call-report-database\\Bulk_Files\\2015\\06_30\\FFIEC CDR Call Schedule NARR 06302015.txt\n",
      "C:\\Users\\whill\\call-report-database\\Bulk_Files\\2015\\06_30\\FFIEC CDR Call Schedule RC 06302015.txt\n",
      "C:\\Users\\whill\\call-report-database\\Bulk_Files\\2015\\06_30\\FFIEC CDR Call Schedule RCA 06302015.txt\n",
      "C:\\Users\\whill\\call-report-database\\Bulk_Files\\2015\\06_30\\FFIEC CDR Call Schedule RCB 06302015(1 of 2).txt\n",
      "C:\\Users\\whill\\call-report-database\\Bulk_Files\\2015\\06_30\\FFIEC CDR Call Schedule RCB 06302015(2 of 2).txt\n",
      "C:\\Users\\whill\\call-report-database\\Bulk_Files\\2015\\06_30\\FFIEC CDR Call Schedule RCCI 06302015.txt\n",
      "C:\\Users\\whill\\call-report-database\\Bulk_Files\\2015\\06_30\\FFIEC CDR Call Schedule RCCII 06302015.txt\n",
      "C:\\Users\\whill\\call-report-database\\Bulk_Files\\2015\\06_30\\FFIEC CDR Call Schedule RCD 06302015.txt\n",
      "C:\\Users\\whill\\call-report-database\\Bulk_Files\\2015\\06_30\\FFIEC CDR Call Schedule RCE 06302015.txt\n",
      "C:\\Users\\whill\\call-report-database\\Bulk_Files\\2015\\06_30\\FFIEC CDR Call Schedule RCEI 06302015.txt\n",
      "C:\\Users\\whill\\call-report-database\\Bulk_Files\\2015\\06_30\\FFIEC CDR Call Schedule RCEII 06302015.txt\n",
      "C:\\Users\\whill\\call-report-database\\Bulk_Files\\2015\\06_30\\FFIEC CDR Call Schedule RCF 06302015.txt\n",
      "C:\\Users\\whill\\call-report-database\\Bulk_Files\\2015\\06_30\\FFIEC CDR Call Schedule RCG 06302015.txt\n",
      "C:\\Users\\whill\\call-report-database\\Bulk_Files\\2015\\06_30\\FFIEC CDR Call Schedule RCH 06302015.txt\n",
      "C:\\Users\\whill\\call-report-database\\Bulk_Files\\2015\\06_30\\FFIEC CDR Call Schedule RCI 06302015.txt\n",
      "C:\\Users\\whill\\call-report-database\\Bulk_Files\\2015\\06_30\\FFIEC CDR Call Schedule RCK 06302015.txt\n",
      "C:\\Users\\whill\\call-report-database\\Bulk_Files\\2015\\06_30\\FFIEC CDR Call Schedule RCL 06302015(1 of 2).txt\n",
      "C:\\Users\\whill\\call-report-database\\Bulk_Files\\2015\\06_30\\FFIEC CDR Call Schedule RCL 06302015(2 of 2).txt\n",
      "C:\\Users\\whill\\call-report-database\\Bulk_Files\\2015\\06_30\\FFIEC CDR Call Schedule RCM 06302015.txt\n",
      "C:\\Users\\whill\\call-report-database\\Bulk_Files\\2015\\06_30\\FFIEC CDR Call Schedule RCN 06302015(1 of 2).txt\n",
      "C:\\Users\\whill\\call-report-database\\Bulk_Files\\2015\\06_30\\FFIEC CDR Call Schedule RCN 06302015(2 of 2).txt\n",
      "C:\\Users\\whill\\call-report-database\\Bulk_Files\\2015\\06_30\\FFIEC CDR Call Schedule RCO 06302015(1 of 2).txt\n",
      "C:\\Users\\whill\\call-report-database\\Bulk_Files\\2015\\06_30\\FFIEC CDR Call Schedule RCO 06302015(2 of 2).txt\n",
      "C:\\Users\\whill\\call-report-database\\Bulk_Files\\2015\\06_30\\FFIEC CDR Call Schedule RCP 06302015.txt\n",
      "C:\\Users\\whill\\call-report-database\\Bulk_Files\\2015\\06_30\\FFIEC CDR Call Schedule RCQ 06302015(1 of 2).txt\n",
      "C:\\Users\\whill\\call-report-database\\Bulk_Files\\2015\\06_30\\FFIEC CDR Call Schedule RCQ 06302015(2 of 2).txt\n",
      "C:\\Users\\whill\\call-report-database\\Bulk_Files\\2015\\06_30\\FFIEC CDR Call Schedule RCRI 06302015.txt\n",
      "C:\\Users\\whill\\call-report-database\\Bulk_Files\\2015\\06_30\\FFIEC CDR Call Schedule RCRII 06302015(1 of 3).txt\n",
      "C:\\Users\\whill\\call-report-database\\Bulk_Files\\2015\\06_30\\FFIEC CDR Call Schedule RCRII 06302015(2 of 3).txt\n",
      "C:\\Users\\whill\\call-report-database\\Bulk_Files\\2015\\06_30\\FFIEC CDR Call Schedule RCRII 06302015(3 of 3).txt\n",
      "C:\\Users\\whill\\call-report-database\\Bulk_Files\\2015\\06_30\\FFIEC CDR Call Schedule RCS 06302015.txt\n",
      "C:\\Users\\whill\\call-report-database\\Bulk_Files\\2015\\06_30\\FFIEC CDR Call Schedule RCT 06302015(1 of 2).txt\n",
      "C:\\Users\\whill\\call-report-database\\Bulk_Files\\2015\\06_30\\FFIEC CDR Call Schedule RCT 06302015(2 of 2).txt\n",
      "C:\\Users\\whill\\call-report-database\\Bulk_Files\\2015\\06_30\\FFIEC CDR Call Schedule RCV 06302015.txt\n",
      "C:\\Users\\whill\\call-report-database\\Bulk_Files\\2015\\06_30\\FFIEC CDR Call Schedule RI 06302015.txt\n",
      "C:\\Users\\whill\\call-report-database\\Bulk_Files\\2015\\06_30\\FFIEC CDR Call Schedule RIA 06302015.txt\n",
      "C:\\Users\\whill\\call-report-database\\Bulk_Files\\2015\\06_30\\FFIEC CDR Call Schedule RIBI 06302015.txt\n",
      "C:\\Users\\whill\\call-report-database\\Bulk_Files\\2015\\06_30\\FFIEC CDR Call Schedule RIBII 06302015.txt\n",
      "C:\\Users\\whill\\call-report-database\\Bulk_Files\\2015\\06_30\\FFIEC CDR Call Schedule RIC 06302015.txt\n",
      "C:\\Users\\whill\\call-report-database\\Bulk_Files\\2015\\06_30\\FFIEC CDR Call Schedule RID 06302015.txt\n",
      "C:\\Users\\whill\\call-report-database\\Bulk_Files\\2015\\06_30\\FFIEC CDR Call Schedule RIE 06302015.txt\n"
     ]
    },
    {
     "name": "stderr",
     "output_type": "stream",
     "text": [
      "C:\\Users\\whill\\anaconda3\\lib\\site-packages\\snowflake\\snowpark\\session.py:1891: UserWarning: Pandas Dataframe has non-standard index of type <class 'pandas.core.indexes.numeric.Int64Index'> which will not be written. Consider changing the index to pd.RangeIndex(start=0,...,step=1) or call reset_index() to keep index as column(s)\n",
      "  success, nchunks, nrows, ci_output = write_pandas(\n"
     ]
    },
    {
     "name": "stdout",
     "output_type": "stream",
     "text": [
      "517759 values inserted into table SCHEDULE_LEO\n"
     ]
    },
    {
     "name": "stderr",
     "output_type": "stream",
     "text": [
      "C:\\Users\\whill\\anaconda3\\lib\\site-packages\\snowflake\\snowpark\\session.py:1891: UserWarning: Pandas Dataframe has non-standard index of type <class 'pandas.core.indexes.numeric.Int64Index'> which will not be written. Consider changing the index to pd.RangeIndex(start=0,...,step=1) or call reset_index() to keep index as column(s)\n",
      "  success, nchunks, nrows, ci_output = write_pandas(\n"
     ]
    },
    {
     "name": "stdout",
     "output_type": "stream",
     "text": [
      "517759 values inserted into table SCHEDULE_RCCI\n"
     ]
    },
    {
     "name": "stderr",
     "output_type": "stream",
     "text": [
      "C:\\Users\\whill\\anaconda3\\lib\\site-packages\\snowflake\\snowpark\\session.py:1891: UserWarning: Pandas Dataframe has non-standard index of type <class 'pandas.core.indexes.numeric.Int64Index'> which will not be written. Consider changing the index to pd.RangeIndex(start=0,...,step=1) or call reset_index() to keep index as column(s)\n",
      "  success, nchunks, nrows, ci_output = write_pandas(\n"
     ]
    },
    {
     "name": "stdout",
     "output_type": "stream",
     "text": [
      "517759 values inserted into table SCHEDULE_RCG\n"
     ]
    },
    {
     "name": "stderr",
     "output_type": "stream",
     "text": [
      "C:\\Users\\whill\\anaconda3\\lib\\site-packages\\snowflake\\snowpark\\session.py:1891: UserWarning: Pandas Dataframe has non-standard index of type <class 'pandas.core.indexes.numeric.Int64Index'> which will not be written. Consider changing the index to pd.RangeIndex(start=0,...,step=1) or call reset_index() to keep index as column(s)\n",
      "  success, nchunks, nrows, ci_output = write_pandas(\n"
     ]
    },
    {
     "name": "stdout",
     "output_type": "stream",
     "text": [
      "517759 values inserted into table SCHEDULE_RIA\n"
     ]
    },
    {
     "name": "stderr",
     "output_type": "stream",
     "text": [
      "C:\\Users\\whill\\anaconda3\\lib\\site-packages\\snowflake\\snowpark\\session.py:1891: UserWarning: Pandas Dataframe has non-standard index of type <class 'pandas.core.indexes.numeric.Int64Index'> which will not be written. Consider changing the index to pd.RangeIndex(start=0,...,step=1) or call reset_index() to keep index as column(s)\n",
      "  success, nchunks, nrows, ci_output = write_pandas(\n"
     ]
    },
    {
     "name": "stdout",
     "output_type": "stream",
     "text": [
      "517759 values inserted into table SCHEDULE_RICII\n"
     ]
    },
    {
     "name": "stderr",
     "output_type": "stream",
     "text": [
      "C:\\Users\\whill\\anaconda3\\lib\\site-packages\\snowflake\\snowpark\\session.py:1891: UserWarning: Pandas Dataframe has non-standard index of type <class 'pandas.core.indexes.numeric.Int64Index'> which will not be written. Consider changing the index to pd.RangeIndex(start=0,...,step=1) or call reset_index() to keep index as column(s)\n",
      "  success, nchunks, nrows, ci_output = write_pandas(\n"
     ]
    },
    {
     "name": "stdout",
     "output_type": "stream",
     "text": [
      "517759 values inserted into table SCHEDULE_RCD\n"
     ]
    },
    {
     "name": "stderr",
     "output_type": "stream",
     "text": [
      "C:\\Users\\whill\\anaconda3\\lib\\site-packages\\snowflake\\snowpark\\session.py:1891: UserWarning: Pandas Dataframe has non-standard index of type <class 'pandas.core.indexes.numeric.Int64Index'> which will not be written. Consider changing the index to pd.RangeIndex(start=0,...,step=1) or call reset_index() to keep index as column(s)\n",
      "  success, nchunks, nrows, ci_output = write_pandas(\n"
     ]
    },
    {
     "name": "stdout",
     "output_type": "stream",
     "text": [
      "517759 values inserted into table SCHEDULE_RCE\n"
     ]
    },
    {
     "name": "stderr",
     "output_type": "stream",
     "text": [
      "C:\\Users\\whill\\anaconda3\\lib\\site-packages\\snowflake\\snowpark\\session.py:1891: UserWarning: Pandas Dataframe has non-standard index of type <class 'pandas.core.indexes.numeric.Int64Index'> which will not be written. Consider changing the index to pd.RangeIndex(start=0,...,step=1) or call reset_index() to keep index as column(s)\n",
      "  success, nchunks, nrows, ci_output = write_pandas(\n"
     ]
    },
    {
     "name": "stdout",
     "output_type": "stream",
     "text": [
      "517759 values inserted into table SCHEDULE_RCI\n"
     ]
    },
    {
     "name": "stderr",
     "output_type": "stream",
     "text": [
      "C:\\Users\\whill\\anaconda3\\lib\\site-packages\\snowflake\\snowpark\\session.py:1891: UserWarning: Pandas Dataframe has non-standard index of type <class 'pandas.core.indexes.numeric.Int64Index'> which will not be written. Consider changing the index to pd.RangeIndex(start=0,...,step=1) or call reset_index() to keep index as column(s)\n",
      "  success, nchunks, nrows, ci_output = write_pandas(\n"
     ]
    },
    {
     "name": "stdout",
     "output_type": "stream",
     "text": [
      "517759 values inserted into table SCHEDULE_RID\n"
     ]
    },
    {
     "name": "stderr",
     "output_type": "stream",
     "text": [
      "C:\\Users\\whill\\anaconda3\\lib\\site-packages\\snowflake\\snowpark\\session.py:1891: UserWarning: Pandas Dataframe has non-standard index of type <class 'pandas.core.indexes.numeric.Int64Index'> which will not be written. Consider changing the index to pd.RangeIndex(start=0,...,step=1) or call reset_index() to keep index as column(s)\n",
      "  success, nchunks, nrows, ci_output = write_pandas(\n"
     ]
    },
    {
     "name": "stdout",
     "output_type": "stream",
     "text": [
      "517759 values inserted into table SCHEDULE_ENT\n"
     ]
    },
    {
     "name": "stderr",
     "output_type": "stream",
     "text": [
      "C:\\Users\\whill\\anaconda3\\lib\\site-packages\\snowflake\\snowpark\\session.py:1891: UserWarning: Pandas Dataframe has non-standard index of type <class 'pandas.core.indexes.numeric.Int64Index'> which will not be written. Consider changing the index to pd.RangeIndex(start=0,...,step=1) or call reset_index() to keep index as column(s)\n",
      "  success, nchunks, nrows, ci_output = write_pandas(\n"
     ]
    },
    {
     "name": "stdout",
     "output_type": "stream",
     "text": [
      "517759 values inserted into table SCHEDULE_NARR\n"
     ]
    },
    {
     "name": "stderr",
     "output_type": "stream",
     "text": [
      "C:\\Users\\whill\\anaconda3\\lib\\site-packages\\snowflake\\snowpark\\session.py:1891: UserWarning: Pandas Dataframe has non-standard index of type <class 'pandas.core.indexes.numeric.Int64Index'> which will not be written. Consider changing the index to pd.RangeIndex(start=0,...,step=1) or call reset_index() to keep index as column(s)\n",
      "  success, nchunks, nrows, ci_output = write_pandas(\n"
     ]
    },
    {
     "name": "stdout",
     "output_type": "stream",
     "text": [
      "517759 values inserted into table SCHEDULE_RCL\n"
     ]
    },
    {
     "name": "stderr",
     "output_type": "stream",
     "text": [
      "C:\\Users\\whill\\anaconda3\\lib\\site-packages\\snowflake\\snowpark\\session.py:1891: UserWarning: Pandas Dataframe has non-standard index of type <class 'pandas.core.indexes.numeric.Int64Index'> which will not be written. Consider changing the index to pd.RangeIndex(start=0,...,step=1) or call reset_index() to keep index as column(s)\n",
      "  success, nchunks, nrows, ci_output = write_pandas(\n"
     ]
    },
    {
     "name": "stdout",
     "output_type": "stream",
     "text": [
      "517759 values inserted into table SCHEDULE_RCP\n"
     ]
    },
    {
     "name": "stderr",
     "output_type": "stream",
     "text": [
      "C:\\Users\\whill\\anaconda3\\lib\\site-packages\\snowflake\\snowpark\\session.py:1891: UserWarning: Pandas Dataframe has non-standard index of type <class 'pandas.core.indexes.numeric.Int64Index'> which will not be written. Consider changing the index to pd.RangeIndex(start=0,...,step=1) or call reset_index() to keep index as column(s)\n",
      "  success, nchunks, nrows, ci_output = write_pandas(\n"
     ]
    },
    {
     "name": "stdout",
     "output_type": "stream",
     "text": [
      "517759 values inserted into table SCHEDULE_RCR\n"
     ]
    },
    {
     "name": "stderr",
     "output_type": "stream",
     "text": [
      "C:\\Users\\whill\\anaconda3\\lib\\site-packages\\snowflake\\snowpark\\session.py:1891: UserWarning: Pandas Dataframe has non-standard index of type <class 'pandas.core.indexes.numeric.Int64Index'> which will not be written. Consider changing the index to pd.RangeIndex(start=0,...,step=1) or call reset_index() to keep index as column(s)\n",
      "  success, nchunks, nrows, ci_output = write_pandas(\n"
     ]
    },
    {
     "name": "stdout",
     "output_type": "stream",
     "text": [
      "517759 values inserted into table SCHEDULE_RIBI\n"
     ]
    },
    {
     "name": "stderr",
     "output_type": "stream",
     "text": [
      "C:\\Users\\whill\\anaconda3\\lib\\site-packages\\snowflake\\snowpark\\session.py:1891: UserWarning: Pandas Dataframe has non-standard index of type <class 'pandas.core.indexes.numeric.Int64Index'> which will not be written. Consider changing the index to pd.RangeIndex(start=0,...,step=1) or call reset_index() to keep index as column(s)\n",
      "  success, nchunks, nrows, ci_output = write_pandas(\n"
     ]
    },
    {
     "name": "stdout",
     "output_type": "stream",
     "text": [
      "517759 values inserted into table SCHEDULE_RIC\n"
     ]
    },
    {
     "name": "stderr",
     "output_type": "stream",
     "text": [
      "C:\\Users\\whill\\anaconda3\\lib\\site-packages\\snowflake\\snowpark\\session.py:1891: UserWarning: Pandas Dataframe has non-standard index of type <class 'pandas.core.indexes.numeric.Int64Index'> which will not be written. Consider changing the index to pd.RangeIndex(start=0,...,step=1) or call reset_index() to keep index as column(s)\n",
      "  success, nchunks, nrows, ci_output = write_pandas(\n"
     ]
    },
    {
     "name": "stdout",
     "output_type": "stream",
     "text": [
      "517759 values inserted into table SCHEDULE_RIE\n"
     ]
    },
    {
     "name": "stderr",
     "output_type": "stream",
     "text": [
      "C:\\Users\\whill\\anaconda3\\lib\\site-packages\\snowflake\\snowpark\\session.py:1891: UserWarning: Pandas Dataframe has non-standard index of type <class 'pandas.core.indexes.numeric.Int64Index'> which will not be written. Consider changing the index to pd.RangeIndex(start=0,...,step=1) or call reset_index() to keep index as column(s)\n",
      "  success, nchunks, nrows, ci_output = write_pandas(\n"
     ]
    },
    {
     "name": "stdout",
     "output_type": "stream",
     "text": [
      "517759 values inserted into table SCHEDULE_SU\n"
     ]
    },
    {
     "name": "stderr",
     "output_type": "stream",
     "text": [
      "C:\\Users\\whill\\anaconda3\\lib\\site-packages\\snowflake\\snowpark\\session.py:1891: UserWarning: Pandas Dataframe has non-standard index of type <class 'pandas.core.indexes.numeric.Int64Index'> which will not be written. Consider changing the index to pd.RangeIndex(start=0,...,step=1) or call reset_index() to keep index as column(s)\n",
      "  success, nchunks, nrows, ci_output = write_pandas(\n"
     ]
    },
    {
     "name": "stdout",
     "output_type": "stream",
     "text": [
      "517759 values inserted into table SCHEDULE_RCEII\n"
     ]
    },
    {
     "name": "stderr",
     "output_type": "stream",
     "text": [
      "C:\\Users\\whill\\anaconda3\\lib\\site-packages\\snowflake\\snowpark\\session.py:1891: UserWarning: Pandas Dataframe has non-standard index of type <class 'pandas.core.indexes.numeric.Int64Index'> which will not be written. Consider changing the index to pd.RangeIndex(start=0,...,step=1) or call reset_index() to keep index as column(s)\n",
      "  success, nchunks, nrows, ci_output = write_pandas(\n"
     ]
    },
    {
     "name": "stdout",
     "output_type": "stream",
     "text": [
      "517759 values inserted into table SCHEDULE_RCH\n"
     ]
    },
    {
     "name": "stderr",
     "output_type": "stream",
     "text": [
      "C:\\Users\\whill\\anaconda3\\lib\\site-packages\\snowflake\\snowpark\\session.py:1891: UserWarning: Pandas Dataframe has non-standard index of type <class 'pandas.core.indexes.numeric.Int64Index'> which will not be written. Consider changing the index to pd.RangeIndex(start=0,...,step=1) or call reset_index() to keep index as column(s)\n",
      "  success, nchunks, nrows, ci_output = write_pandas(\n"
     ]
    },
    {
     "name": "stdout",
     "output_type": "stream",
     "text": [
      "517759 values inserted into table SCHEDULE_RCO\n"
     ]
    },
    {
     "name": "stderr",
     "output_type": "stream",
     "text": [
      "C:\\Users\\whill\\anaconda3\\lib\\site-packages\\snowflake\\snowpark\\session.py:1891: UserWarning: Pandas Dataframe has non-standard index of type <class 'pandas.core.indexes.numeric.Int64Index'> which will not be written. Consider changing the index to pd.RangeIndex(start=0,...,step=1) or call reset_index() to keep index as column(s)\n",
      "  success, nchunks, nrows, ci_output = write_pandas(\n"
     ]
    },
    {
     "name": "stdout",
     "output_type": "stream",
     "text": [
      "517759 values inserted into table SCHEDULE_RC\n"
     ]
    },
    {
     "name": "stderr",
     "output_type": "stream",
     "text": [
      "C:\\Users\\whill\\anaconda3\\lib\\site-packages\\snowflake\\snowpark\\session.py:1891: UserWarning: Pandas Dataframe has non-standard index of type <class 'pandas.core.indexes.numeric.Int64Index'> which will not be written. Consider changing the index to pd.RangeIndex(start=0,...,step=1) or call reset_index() to keep index as column(s)\n",
      "  success, nchunks, nrows, ci_output = write_pandas(\n"
     ]
    },
    {
     "name": "stdout",
     "output_type": "stream",
     "text": [
      "517759 values inserted into table SCHEDULE_RCEI\n"
     ]
    },
    {
     "name": "stderr",
     "output_type": "stream",
     "text": [
      "C:\\Users\\whill\\anaconda3\\lib\\site-packages\\snowflake\\snowpark\\session.py:1891: UserWarning: Pandas Dataframe has non-standard index of type <class 'pandas.core.indexes.numeric.Int64Index'> which will not be written. Consider changing the index to pd.RangeIndex(start=0,...,step=1) or call reset_index() to keep index as column(s)\n",
      "  success, nchunks, nrows, ci_output = write_pandas(\n"
     ]
    },
    {
     "name": "stdout",
     "output_type": "stream",
     "text": [
      "517759 values inserted into table SCHEDULE_RCF\n"
     ]
    },
    {
     "name": "stderr",
     "output_type": "stream",
     "text": [
      "C:\\Users\\whill\\anaconda3\\lib\\site-packages\\snowflake\\snowpark\\session.py:1891: UserWarning: Pandas Dataframe has non-standard index of type <class 'pandas.core.indexes.numeric.Int64Index'> which will not be written. Consider changing the index to pd.RangeIndex(start=0,...,step=1) or call reset_index() to keep index as column(s)\n",
      "  success, nchunks, nrows, ci_output = write_pandas(\n"
     ]
    },
    {
     "name": "stdout",
     "output_type": "stream",
     "text": [
      "Error in table SCHEDULE_RCRI: 100071 (22000): Failed to cast variant value \"8.54%\" to REAL\n"
     ]
    },
    {
     "name": "stderr",
     "output_type": "stream",
     "text": [
      "C:\\Users\\whill\\anaconda3\\lib\\site-packages\\snowflake\\snowpark\\session.py:1891: UserWarning: Pandas Dataframe has non-standard index of type <class 'pandas.core.indexes.numeric.Int64Index'> which will not be written. Consider changing the index to pd.RangeIndex(start=0,...,step=1) or call reset_index() to keep index as column(s)\n",
      "  success, nchunks, nrows, ci_output = write_pandas(\n"
     ]
    },
    {
     "name": "stdout",
     "output_type": "stream",
     "text": [
      "517759 values inserted into table SCHEDULE_RCRII\n"
     ]
    },
    {
     "name": "stderr",
     "output_type": "stream",
     "text": [
      "C:\\Users\\whill\\anaconda3\\lib\\site-packages\\snowflake\\snowpark\\session.py:1891: UserWarning: Pandas Dataframe has non-standard index of type <class 'pandas.core.indexes.numeric.Int64Index'> which will not be written. Consider changing the index to pd.RangeIndex(start=0,...,step=1) or call reset_index() to keep index as column(s)\n",
      "  success, nchunks, nrows, ci_output = write_pandas(\n"
     ]
    },
    {
     "name": "stdout",
     "output_type": "stream",
     "text": [
      "517759 values inserted into table SCHEDULE_RI\n"
     ]
    },
    {
     "name": "stderr",
     "output_type": "stream",
     "text": [
      "C:\\Users\\whill\\anaconda3\\lib\\site-packages\\snowflake\\snowpark\\session.py:1891: UserWarning: Pandas Dataframe has non-standard index of type <class 'pandas.core.indexes.numeric.Int64Index'> which will not be written. Consider changing the index to pd.RangeIndex(start=0,...,step=1) or call reset_index() to keep index as column(s)\n",
      "  success, nchunks, nrows, ci_output = write_pandas(\n"
     ]
    },
    {
     "name": "stdout",
     "output_type": "stream",
     "text": [
      "517759 values inserted into table SCHEDULE_UNDEFINED\n"
     ]
    },
    {
     "name": "stderr",
     "output_type": "stream",
     "text": [
      "C:\\Users\\whill\\anaconda3\\lib\\site-packages\\snowflake\\snowpark\\session.py:1891: UserWarning: Pandas Dataframe has non-standard index of type <class 'pandas.core.indexes.numeric.Int64Index'> which will not be written. Consider changing the index to pd.RangeIndex(start=0,...,step=1) or call reset_index() to keep index as column(s)\n",
      "  success, nchunks, nrows, ci_output = write_pandas(\n"
     ]
    },
    {
     "name": "stdout",
     "output_type": "stream",
     "text": [
      "517759 values inserted into table SCHEDULE_RCS\n"
     ]
    },
    {
     "name": "stderr",
     "output_type": "stream",
     "text": [
      "C:\\Users\\whill\\anaconda3\\lib\\site-packages\\snowflake\\snowpark\\session.py:1891: UserWarning: Pandas Dataframe has non-standard index of type <class 'pandas.core.indexes.numeric.Int64Index'> which will not be written. Consider changing the index to pd.RangeIndex(start=0,...,step=1) or call reset_index() to keep index as column(s)\n",
      "  success, nchunks, nrows, ci_output = write_pandas(\n"
     ]
    },
    {
     "name": "stdout",
     "output_type": "stream",
     "text": [
      "517759 values inserted into table SCHEDULE_RICI\n"
     ]
    },
    {
     "name": "stderr",
     "output_type": "stream",
     "text": [
      "C:\\Users\\whill\\anaconda3\\lib\\site-packages\\snowflake\\snowpark\\session.py:1891: UserWarning: Pandas Dataframe has non-standard index of type <class 'pandas.core.indexes.numeric.Int64Index'> which will not be written. Consider changing the index to pd.RangeIndex(start=0,...,step=1) or call reset_index() to keep index as column(s)\n",
      "  success, nchunks, nrows, ci_output = write_pandas(\n"
     ]
    },
    {
     "name": "stdout",
     "output_type": "stream",
     "text": [
      "517759 values inserted into table SCHEDULE_RCA\n"
     ]
    },
    {
     "name": "stderr",
     "output_type": "stream",
     "text": [
      "C:\\Users\\whill\\anaconda3\\lib\\site-packages\\snowflake\\snowpark\\session.py:1891: UserWarning: Pandas Dataframe has non-standard index of type <class 'pandas.core.indexes.numeric.Int64Index'> which will not be written. Consider changing the index to pd.RangeIndex(start=0,...,step=1) or call reset_index() to keep index as column(s)\n",
      "  success, nchunks, nrows, ci_output = write_pandas(\n"
     ]
    },
    {
     "name": "stdout",
     "output_type": "stream",
     "text": [
      "517759 values inserted into table SCHEDULE_RCCII\n"
     ]
    },
    {
     "name": "stderr",
     "output_type": "stream",
     "text": [
      "C:\\Users\\whill\\anaconda3\\lib\\site-packages\\snowflake\\snowpark\\session.py:1891: UserWarning: Pandas Dataframe has non-standard index of type <class 'pandas.core.indexes.numeric.Int64Index'> which will not be written. Consider changing the index to pd.RangeIndex(start=0,...,step=1) or call reset_index() to keep index as column(s)\n",
      "  success, nchunks, nrows, ci_output = write_pandas(\n"
     ]
    },
    {
     "name": "stdout",
     "output_type": "stream",
     "text": [
      "517759 values inserted into table SCHEDULE_RCK\n"
     ]
    },
    {
     "name": "stderr",
     "output_type": "stream",
     "text": [
      "C:\\Users\\whill\\anaconda3\\lib\\site-packages\\snowflake\\snowpark\\session.py:1891: UserWarning: Pandas Dataframe has non-standard index of type <class 'pandas.core.indexes.numeric.Int64Index'> which will not be written. Consider changing the index to pd.RangeIndex(start=0,...,step=1) or call reset_index() to keep index as column(s)\n",
      "  success, nchunks, nrows, ci_output = write_pandas(\n"
     ]
    },
    {
     "name": "stdout",
     "output_type": "stream",
     "text": [
      "517759 values inserted into table SCHEDULE_RCM\n"
     ]
    },
    {
     "name": "stderr",
     "output_type": "stream",
     "text": [
      "C:\\Users\\whill\\anaconda3\\lib\\site-packages\\snowflake\\snowpark\\session.py:1891: UserWarning: Pandas Dataframe has non-standard index of type <class 'pandas.core.indexes.numeric.Int64Index'> which will not be written. Consider changing the index to pd.RangeIndex(start=0,...,step=1) or call reset_index() to keep index as column(s)\n",
      "  success, nchunks, nrows, ci_output = write_pandas(\n"
     ]
    },
    {
     "name": "stdout",
     "output_type": "stream",
     "text": [
      "517759 values inserted into table SCHEDULE_RCQ\n"
     ]
    },
    {
     "name": "stderr",
     "output_type": "stream",
     "text": [
      "C:\\Users\\whill\\anaconda3\\lib\\site-packages\\snowflake\\snowpark\\session.py:1891: UserWarning: Pandas Dataframe has non-standard index of type <class 'pandas.core.indexes.numeric.Int64Index'> which will not be written. Consider changing the index to pd.RangeIndex(start=0,...,step=1) or call reset_index() to keep index as column(s)\n",
      "  success, nchunks, nrows, ci_output = write_pandas(\n"
     ]
    },
    {
     "name": "stdout",
     "output_type": "stream",
     "text": [
      "517759 values inserted into table SCHEDULE_RCV\n"
     ]
    },
    {
     "name": "stderr",
     "output_type": "stream",
     "text": [
      "C:\\Users\\whill\\anaconda3\\lib\\site-packages\\snowflake\\snowpark\\session.py:1891: UserWarning: Pandas Dataframe has non-standard index of type <class 'pandas.core.indexes.numeric.Int64Index'> which will not be written. Consider changing the index to pd.RangeIndex(start=0,...,step=1) or call reset_index() to keep index as column(s)\n",
      "  success, nchunks, nrows, ci_output = write_pandas(\n"
     ]
    },
    {
     "name": "stdout",
     "output_type": "stream",
     "text": [
      "517759 values inserted into table SCHEDULE_RCB\n"
     ]
    },
    {
     "name": "stderr",
     "output_type": "stream",
     "text": [
      "C:\\Users\\whill\\anaconda3\\lib\\site-packages\\snowflake\\snowpark\\session.py:1891: UserWarning: Pandas Dataframe has non-standard index of type <class 'pandas.core.indexes.numeric.Int64Index'> which will not be written. Consider changing the index to pd.RangeIndex(start=0,...,step=1) or call reset_index() to keep index as column(s)\n",
      "  success, nchunks, nrows, ci_output = write_pandas(\n"
     ]
    },
    {
     "name": "stdout",
     "output_type": "stream",
     "text": [
      "517759 values inserted into table SCHEDULE_RIBII\n"
     ]
    },
    {
     "name": "stderr",
     "output_type": "stream",
     "text": [
      "C:\\Users\\whill\\anaconda3\\lib\\site-packages\\snowflake\\snowpark\\session.py:1891: UserWarning: Pandas Dataframe has non-standard index of type <class 'pandas.core.indexes.numeric.Int64Index'> which will not be written. Consider changing the index to pd.RangeIndex(start=0,...,step=1) or call reset_index() to keep index as column(s)\n",
      "  success, nchunks, nrows, ci_output = write_pandas(\n"
     ]
    },
    {
     "name": "stdout",
     "output_type": "stream",
     "text": [
      "517759 values inserted into table SCHEDULE_RCN\n"
     ]
    },
    {
     "name": "stderr",
     "output_type": "stream",
     "text": [
      "C:\\Users\\whill\\anaconda3\\lib\\site-packages\\snowflake\\snowpark\\session.py:1891: UserWarning: Pandas Dataframe has non-standard index of type <class 'pandas.core.indexes.numeric.Int64Index'> which will not be written. Consider changing the index to pd.RangeIndex(start=0,...,step=1) or call reset_index() to keep index as column(s)\n",
      "  success, nchunks, nrows, ci_output = write_pandas(\n"
     ]
    },
    {
     "name": "stdout",
     "output_type": "stream",
     "text": [
      "517759 values inserted into table SCHEDULE_RCT\n",
      "C:\\Users\\whill\\call-report-database\\Bulk_Files\\2015\\09_30\\FFIEC CDR Call Schedule CI 09302015.txt\n",
      "C:\\Users\\whill\\call-report-database\\Bulk_Files\\2015\\09_30\\FFIEC CDR Call Schedule ENT 09302015.txt\n",
      "C:\\Users\\whill\\call-report-database\\Bulk_Files\\2015\\09_30\\FFIEC CDR Call Schedule NARR 09302015.txt\n",
      "C:\\Users\\whill\\call-report-database\\Bulk_Files\\2015\\09_30\\FFIEC CDR Call Schedule RC 09302015.txt\n",
      "C:\\Users\\whill\\call-report-database\\Bulk_Files\\2015\\09_30\\FFIEC CDR Call Schedule RCA 09302015.txt\n",
      "C:\\Users\\whill\\call-report-database\\Bulk_Files\\2015\\09_30\\FFIEC CDR Call Schedule RCB 09302015(1 of 2).txt\n",
      "C:\\Users\\whill\\call-report-database\\Bulk_Files\\2015\\09_30\\FFIEC CDR Call Schedule RCB 09302015(2 of 2).txt\n",
      "C:\\Users\\whill\\call-report-database\\Bulk_Files\\2015\\09_30\\FFIEC CDR Call Schedule RCCI 09302015.txt\n",
      "C:\\Users\\whill\\call-report-database\\Bulk_Files\\2015\\09_30\\FFIEC CDR Call Schedule RCCII 09302015.txt\n",
      "C:\\Users\\whill\\call-report-database\\Bulk_Files\\2015\\09_30\\FFIEC CDR Call Schedule RCD 09302015.txt\n",
      "C:\\Users\\whill\\call-report-database\\Bulk_Files\\2015\\09_30\\FFIEC CDR Call Schedule RCE 09302015.txt\n",
      "C:\\Users\\whill\\call-report-database\\Bulk_Files\\2015\\09_30\\FFIEC CDR Call Schedule RCEI 09302015.txt\n",
      "C:\\Users\\whill\\call-report-database\\Bulk_Files\\2015\\09_30\\FFIEC CDR Call Schedule RCEII 09302015.txt\n",
      "C:\\Users\\whill\\call-report-database\\Bulk_Files\\2015\\09_30\\FFIEC CDR Call Schedule RCF 09302015.txt\n",
      "C:\\Users\\whill\\call-report-database\\Bulk_Files\\2015\\09_30\\FFIEC CDR Call Schedule RCG 09302015.txt\n",
      "C:\\Users\\whill\\call-report-database\\Bulk_Files\\2015\\09_30\\FFIEC CDR Call Schedule RCH 09302015.txt\n",
      "C:\\Users\\whill\\call-report-database\\Bulk_Files\\2015\\09_30\\FFIEC CDR Call Schedule RCI 09302015.txt\n",
      "C:\\Users\\whill\\call-report-database\\Bulk_Files\\2015\\09_30\\FFIEC CDR Call Schedule RCK 09302015.txt\n",
      "C:\\Users\\whill\\call-report-database\\Bulk_Files\\2015\\09_30\\FFIEC CDR Call Schedule RCL 09302015(1 of 2).txt\n",
      "C:\\Users\\whill\\call-report-database\\Bulk_Files\\2015\\09_30\\FFIEC CDR Call Schedule RCL 09302015(2 of 2).txt\n",
      "C:\\Users\\whill\\call-report-database\\Bulk_Files\\2015\\09_30\\FFIEC CDR Call Schedule RCM 09302015.txt\n",
      "C:\\Users\\whill\\call-report-database\\Bulk_Files\\2015\\09_30\\FFIEC CDR Call Schedule RCN 09302015(1 of 2).txt\n",
      "C:\\Users\\whill\\call-report-database\\Bulk_Files\\2015\\09_30\\FFIEC CDR Call Schedule RCN 09302015(2 of 2).txt\n",
      "C:\\Users\\whill\\call-report-database\\Bulk_Files\\2015\\09_30\\FFIEC CDR Call Schedule RCO 09302015(1 of 2).txt\n",
      "C:\\Users\\whill\\call-report-database\\Bulk_Files\\2015\\09_30\\FFIEC CDR Call Schedule RCO 09302015(2 of 2).txt\n",
      "C:\\Users\\whill\\call-report-database\\Bulk_Files\\2015\\09_30\\FFIEC CDR Call Schedule RCP 09302015.txt\n",
      "C:\\Users\\whill\\call-report-database\\Bulk_Files\\2015\\09_30\\FFIEC CDR Call Schedule RCQ 09302015(1 of 2).txt\n",
      "C:\\Users\\whill\\call-report-database\\Bulk_Files\\2015\\09_30\\FFIEC CDR Call Schedule RCQ 09302015(2 of 2).txt\n",
      "C:\\Users\\whill\\call-report-database\\Bulk_Files\\2015\\09_30\\FFIEC CDR Call Schedule RCRI 09302015.txt\n",
      "C:\\Users\\whill\\call-report-database\\Bulk_Files\\2015\\09_30\\FFIEC CDR Call Schedule RCRII 09302015(1 of 3).txt\n",
      "C:\\Users\\whill\\call-report-database\\Bulk_Files\\2015\\09_30\\FFIEC CDR Call Schedule RCRII 09302015(2 of 3).txt\n",
      "C:\\Users\\whill\\call-report-database\\Bulk_Files\\2015\\09_30\\FFIEC CDR Call Schedule RCRII 09302015(3 of 3).txt\n",
      "C:\\Users\\whill\\call-report-database\\Bulk_Files\\2015\\09_30\\FFIEC CDR Call Schedule RCS 09302015.txt\n",
      "C:\\Users\\whill\\call-report-database\\Bulk_Files\\2015\\09_30\\FFIEC CDR Call Schedule RCT 09302015(1 of 2).txt\n",
      "C:\\Users\\whill\\call-report-database\\Bulk_Files\\2015\\09_30\\FFIEC CDR Call Schedule RCT 09302015(2 of 2).txt\n",
      "C:\\Users\\whill\\call-report-database\\Bulk_Files\\2015\\09_30\\FFIEC CDR Call Schedule RCV 09302015.txt\n",
      "C:\\Users\\whill\\call-report-database\\Bulk_Files\\2015\\09_30\\FFIEC CDR Call Schedule RI 09302015.txt\n",
      "C:\\Users\\whill\\call-report-database\\Bulk_Files\\2015\\09_30\\FFIEC CDR Call Schedule RIA 09302015.txt\n",
      "C:\\Users\\whill\\call-report-database\\Bulk_Files\\2015\\09_30\\FFIEC CDR Call Schedule RIBI 09302015.txt\n",
      "C:\\Users\\whill\\call-report-database\\Bulk_Files\\2015\\09_30\\FFIEC CDR Call Schedule RIBII 09302015.txt\n",
      "C:\\Users\\whill\\call-report-database\\Bulk_Files\\2015\\09_30\\FFIEC CDR Call Schedule RIC 09302015.txt\n",
      "C:\\Users\\whill\\call-report-database\\Bulk_Files\\2015\\09_30\\FFIEC CDR Call Schedule RID 09302015.txt\n",
      "C:\\Users\\whill\\call-report-database\\Bulk_Files\\2015\\09_30\\FFIEC CDR Call Schedule RIE 09302015.txt\n"
     ]
    },
    {
     "name": "stderr",
     "output_type": "stream",
     "text": [
      "C:\\Users\\whill\\anaconda3\\lib\\site-packages\\snowflake\\snowpark\\session.py:1891: UserWarning: Pandas Dataframe has non-standard index of type <class 'pandas.core.indexes.numeric.Int64Index'> which will not be written. Consider changing the index to pd.RangeIndex(start=0,...,step=1) or call reset_index() to keep index as column(s)\n",
      "  success, nchunks, nrows, ci_output = write_pandas(\n"
     ]
    },
    {
     "name": "stdout",
     "output_type": "stream",
     "text": [
      "524087 values inserted into table SCHEDULE_ENT\n"
     ]
    },
    {
     "name": "stderr",
     "output_type": "stream",
     "text": [
      "C:\\Users\\whill\\anaconda3\\lib\\site-packages\\snowflake\\snowpark\\session.py:1891: UserWarning: Pandas Dataframe has non-standard index of type <class 'pandas.core.indexes.numeric.Int64Index'> which will not be written. Consider changing the index to pd.RangeIndex(start=0,...,step=1) or call reset_index() to keep index as column(s)\n",
      "  success, nchunks, nrows, ci_output = write_pandas(\n"
     ]
    },
    {
     "name": "stdout",
     "output_type": "stream",
     "text": [
      "524087 values inserted into table SCHEDULE_RCCI\n"
     ]
    },
    {
     "name": "stderr",
     "output_type": "stream",
     "text": [
      "C:\\Users\\whill\\anaconda3\\lib\\site-packages\\snowflake\\snowpark\\session.py:1891: UserWarning: Pandas Dataframe has non-standard index of type <class 'pandas.core.indexes.numeric.Int64Index'> which will not be written. Consider changing the index to pd.RangeIndex(start=0,...,step=1) or call reset_index() to keep index as column(s)\n",
      "  success, nchunks, nrows, ci_output = write_pandas(\n"
     ]
    },
    {
     "name": "stdout",
     "output_type": "stream",
     "text": [
      "524087 values inserted into table SCHEDULE_RCD\n"
     ]
    },
    {
     "name": "stderr",
     "output_type": "stream",
     "text": [
      "C:\\Users\\whill\\anaconda3\\lib\\site-packages\\snowflake\\snowpark\\session.py:1891: UserWarning: Pandas Dataframe has non-standard index of type <class 'pandas.core.indexes.numeric.Int64Index'> which will not be written. Consider changing the index to pd.RangeIndex(start=0,...,step=1) or call reset_index() to keep index as column(s)\n",
      "  success, nchunks, nrows, ci_output = write_pandas(\n"
     ]
    },
    {
     "name": "stdout",
     "output_type": "stream",
     "text": [
      "524087 values inserted into table SCHEDULE_RCE\n"
     ]
    },
    {
     "name": "stderr",
     "output_type": "stream",
     "text": [
      "C:\\Users\\whill\\anaconda3\\lib\\site-packages\\snowflake\\snowpark\\session.py:1891: UserWarning: Pandas Dataframe has non-standard index of type <class 'pandas.core.indexes.numeric.Int64Index'> which will not be written. Consider changing the index to pd.RangeIndex(start=0,...,step=1) or call reset_index() to keep index as column(s)\n",
      "  success, nchunks, nrows, ci_output = write_pandas(\n"
     ]
    },
    {
     "name": "stdout",
     "output_type": "stream",
     "text": [
      "524087 values inserted into table SCHEDULE_RCP\n"
     ]
    },
    {
     "name": "stderr",
     "output_type": "stream",
     "text": [
      "C:\\Users\\whill\\anaconda3\\lib\\site-packages\\snowflake\\snowpark\\session.py:1891: UserWarning: Pandas Dataframe has non-standard index of type <class 'pandas.core.indexes.numeric.Int64Index'> which will not be written. Consider changing the index to pd.RangeIndex(start=0,...,step=1) or call reset_index() to keep index as column(s)\n",
      "  success, nchunks, nrows, ci_output = write_pandas(\n"
     ]
    },
    {
     "name": "stdout",
     "output_type": "stream",
     "text": [
      "524087 values inserted into table SCHEDULE_RCR\n"
     ]
    },
    {
     "name": "stderr",
     "output_type": "stream",
     "text": [
      "C:\\Users\\whill\\anaconda3\\lib\\site-packages\\snowflake\\snowpark\\session.py:1891: UserWarning: Pandas Dataframe has non-standard index of type <class 'pandas.core.indexes.numeric.Int64Index'> which will not be written. Consider changing the index to pd.RangeIndex(start=0,...,step=1) or call reset_index() to keep index as column(s)\n",
      "  success, nchunks, nrows, ci_output = write_pandas(\n"
     ]
    },
    {
     "name": "stdout",
     "output_type": "stream",
     "text": [
      "524087 values inserted into table SCHEDULE_RCRII\n"
     ]
    },
    {
     "name": "stderr",
     "output_type": "stream",
     "text": [
      "C:\\Users\\whill\\anaconda3\\lib\\site-packages\\snowflake\\snowpark\\session.py:1891: UserWarning: Pandas Dataframe has non-standard index of type <class 'pandas.core.indexes.numeric.Int64Index'> which will not be written. Consider changing the index to pd.RangeIndex(start=0,...,step=1) or call reset_index() to keep index as column(s)\n",
      "  success, nchunks, nrows, ci_output = write_pandas(\n"
     ]
    },
    {
     "name": "stdout",
     "output_type": "stream",
     "text": [
      "524087 values inserted into table SCHEDULE_RI\n"
     ]
    },
    {
     "name": "stderr",
     "output_type": "stream",
     "text": [
      "C:\\Users\\whill\\anaconda3\\lib\\site-packages\\snowflake\\snowpark\\session.py:1891: UserWarning: Pandas Dataframe has non-standard index of type <class 'pandas.core.indexes.numeric.Int64Index'> which will not be written. Consider changing the index to pd.RangeIndex(start=0,...,step=1) or call reset_index() to keep index as column(s)\n",
      "  success, nchunks, nrows, ci_output = write_pandas(\n"
     ]
    },
    {
     "name": "stdout",
     "output_type": "stream",
     "text": [
      "524087 values inserted into table SCHEDULE_RCO\n"
     ]
    },
    {
     "name": "stderr",
     "output_type": "stream",
     "text": [
      "C:\\Users\\whill\\anaconda3\\lib\\site-packages\\snowflake\\snowpark\\session.py:1891: UserWarning: Pandas Dataframe has non-standard index of type <class 'pandas.core.indexes.numeric.Int64Index'> which will not be written. Consider changing the index to pd.RangeIndex(start=0,...,step=1) or call reset_index() to keep index as column(s)\n",
      "  success, nchunks, nrows, ci_output = write_pandas(\n"
     ]
    },
    {
     "name": "stdout",
     "output_type": "stream",
     "text": [
      "524087 values inserted into table SCHEDULE_RICII\n"
     ]
    },
    {
     "name": "stderr",
     "output_type": "stream",
     "text": [
      "C:\\Users\\whill\\anaconda3\\lib\\site-packages\\snowflake\\snowpark\\session.py:1891: UserWarning: Pandas Dataframe has non-standard index of type <class 'pandas.core.indexes.numeric.Int64Index'> which will not be written. Consider changing the index to pd.RangeIndex(start=0,...,step=1) or call reset_index() to keep index as column(s)\n",
      "  success, nchunks, nrows, ci_output = write_pandas(\n"
     ]
    },
    {
     "name": "stdout",
     "output_type": "stream",
     "text": [
      "524087 values inserted into table SCHEDULE_RIC\n"
     ]
    },
    {
     "name": "stderr",
     "output_type": "stream",
     "text": [
      "C:\\Users\\whill\\anaconda3\\lib\\site-packages\\snowflake\\snowpark\\session.py:1891: UserWarning: Pandas Dataframe has non-standard index of type <class 'pandas.core.indexes.numeric.Int64Index'> which will not be written. Consider changing the index to pd.RangeIndex(start=0,...,step=1) or call reset_index() to keep index as column(s)\n",
      "  success, nchunks, nrows, ci_output = write_pandas(\n"
     ]
    },
    {
     "name": "stdout",
     "output_type": "stream",
     "text": [
      "524087 values inserted into table SCHEDULE_RIA\n"
     ]
    },
    {
     "name": "stderr",
     "output_type": "stream",
     "text": [
      "C:\\Users\\whill\\anaconda3\\lib\\site-packages\\snowflake\\snowpark\\session.py:1891: UserWarning: Pandas Dataframe has non-standard index of type <class 'pandas.core.indexes.numeric.Int64Index'> which will not be written. Consider changing the index to pd.RangeIndex(start=0,...,step=1) or call reset_index() to keep index as column(s)\n",
      "  success, nchunks, nrows, ci_output = write_pandas(\n"
     ]
    },
    {
     "name": "stdout",
     "output_type": "stream",
     "text": [
      "524087 values inserted into table SCHEDULE_LEO\n"
     ]
    },
    {
     "name": "stderr",
     "output_type": "stream",
     "text": [
      "C:\\Users\\whill\\anaconda3\\lib\\site-packages\\snowflake\\snowpark\\session.py:1891: UserWarning: Pandas Dataframe has non-standard index of type <class 'pandas.core.indexes.numeric.Int64Index'> which will not be written. Consider changing the index to pd.RangeIndex(start=0,...,step=1) or call reset_index() to keep index as column(s)\n",
      "  success, nchunks, nrows, ci_output = write_pandas(\n"
     ]
    },
    {
     "name": "stdout",
     "output_type": "stream",
     "text": [
      "524087 values inserted into table SCHEDULE_NARR\n"
     ]
    },
    {
     "name": "stderr",
     "output_type": "stream",
     "text": [
      "C:\\Users\\whill\\anaconda3\\lib\\site-packages\\snowflake\\snowpark\\session.py:1891: UserWarning: Pandas Dataframe has non-standard index of type <class 'pandas.core.indexes.numeric.Int64Index'> which will not be written. Consider changing the index to pd.RangeIndex(start=0,...,step=1) or call reset_index() to keep index as column(s)\n",
      "  success, nchunks, nrows, ci_output = write_pandas(\n"
     ]
    },
    {
     "name": "stdout",
     "output_type": "stream",
     "text": [
      "524087 values inserted into table SCHEDULE_RCA\n"
     ]
    },
    {
     "name": "stderr",
     "output_type": "stream",
     "text": [
      "C:\\Users\\whill\\anaconda3\\lib\\site-packages\\snowflake\\snowpark\\session.py:1891: UserWarning: Pandas Dataframe has non-standard index of type <class 'pandas.core.indexes.numeric.Int64Index'> which will not be written. Consider changing the index to pd.RangeIndex(start=0,...,step=1) or call reset_index() to keep index as column(s)\n",
      "  success, nchunks, nrows, ci_output = write_pandas(\n"
     ]
    },
    {
     "name": "stdout",
     "output_type": "stream",
     "text": [
      "524087 values inserted into table SCHEDULE_RCF\n"
     ]
    },
    {
     "name": "stderr",
     "output_type": "stream",
     "text": [
      "C:\\Users\\whill\\anaconda3\\lib\\site-packages\\snowflake\\snowpark\\session.py:1891: UserWarning: Pandas Dataframe has non-standard index of type <class 'pandas.core.indexes.numeric.Int64Index'> which will not be written. Consider changing the index to pd.RangeIndex(start=0,...,step=1) or call reset_index() to keep index as column(s)\n",
      "  success, nchunks, nrows, ci_output = write_pandas(\n"
     ]
    },
    {
     "name": "stdout",
     "output_type": "stream",
     "text": [
      "524087 values inserted into table SCHEDULE_RCH\n"
     ]
    },
    {
     "name": "stderr",
     "output_type": "stream",
     "text": [
      "C:\\Users\\whill\\anaconda3\\lib\\site-packages\\snowflake\\snowpark\\session.py:1891: UserWarning: Pandas Dataframe has non-standard index of type <class 'pandas.core.indexes.numeric.Int64Index'> which will not be written. Consider changing the index to pd.RangeIndex(start=0,...,step=1) or call reset_index() to keep index as column(s)\n",
      "  success, nchunks, nrows, ci_output = write_pandas(\n"
     ]
    },
    {
     "name": "stdout",
     "output_type": "stream",
     "text": [
      "524087 values inserted into table SCHEDULE_RCK\n"
     ]
    },
    {
     "name": "stderr",
     "output_type": "stream",
     "text": [
      "C:\\Users\\whill\\anaconda3\\lib\\site-packages\\snowflake\\snowpark\\session.py:1891: UserWarning: Pandas Dataframe has non-standard index of type <class 'pandas.core.indexes.numeric.Int64Index'> which will not be written. Consider changing the index to pd.RangeIndex(start=0,...,step=1) or call reset_index() to keep index as column(s)\n",
      "  success, nchunks, nrows, ci_output = write_pandas(\n"
     ]
    },
    {
     "name": "stdout",
     "output_type": "stream",
     "text": [
      "524087 values inserted into table SCHEDULE_RCQ\n"
     ]
    },
    {
     "name": "stderr",
     "output_type": "stream",
     "text": [
      "C:\\Users\\whill\\anaconda3\\lib\\site-packages\\snowflake\\snowpark\\session.py:1891: UserWarning: Pandas Dataframe has non-standard index of type <class 'pandas.core.indexes.numeric.Int64Index'> which will not be written. Consider changing the index to pd.RangeIndex(start=0,...,step=1) or call reset_index() to keep index as column(s)\n",
      "  success, nchunks, nrows, ci_output = write_pandas(\n"
     ]
    },
    {
     "name": "stdout",
     "output_type": "stream",
     "text": [
      "524087 values inserted into table SCHEDULE_RCT\n"
     ]
    },
    {
     "name": "stderr",
     "output_type": "stream",
     "text": [
      "C:\\Users\\whill\\anaconda3\\lib\\site-packages\\snowflake\\snowpark\\session.py:1891: UserWarning: Pandas Dataframe has non-standard index of type <class 'pandas.core.indexes.numeric.Int64Index'> which will not be written. Consider changing the index to pd.RangeIndex(start=0,...,step=1) or call reset_index() to keep index as column(s)\n",
      "  success, nchunks, nrows, ci_output = write_pandas(\n"
     ]
    },
    {
     "name": "stdout",
     "output_type": "stream",
     "text": [
      "524087 values inserted into table SCHEDULE_SU\n"
     ]
    },
    {
     "name": "stderr",
     "output_type": "stream",
     "text": [
      "C:\\Users\\whill\\anaconda3\\lib\\site-packages\\snowflake\\snowpark\\session.py:1891: UserWarning: Pandas Dataframe has non-standard index of type <class 'pandas.core.indexes.numeric.Int64Index'> which will not be written. Consider changing the index to pd.RangeIndex(start=0,...,step=1) or call reset_index() to keep index as column(s)\n",
      "  success, nchunks, nrows, ci_output = write_pandas(\n"
     ]
    },
    {
     "name": "stdout",
     "output_type": "stream",
     "text": [
      "524087 values inserted into table SCHEDULE_RCG\n"
     ]
    },
    {
     "name": "stderr",
     "output_type": "stream",
     "text": [
      "C:\\Users\\whill\\anaconda3\\lib\\site-packages\\snowflake\\snowpark\\session.py:1891: UserWarning: Pandas Dataframe has non-standard index of type <class 'pandas.core.indexes.numeric.Int64Index'> which will not be written. Consider changing the index to pd.RangeIndex(start=0,...,step=1) or call reset_index() to keep index as column(s)\n",
      "  success, nchunks, nrows, ci_output = write_pandas(\n"
     ]
    },
    {
     "name": "stdout",
     "output_type": "stream",
     "text": [
      "524087 values inserted into table SCHEDULE_RCS\n"
     ]
    },
    {
     "name": "stderr",
     "output_type": "stream",
     "text": [
      "C:\\Users\\whill\\anaconda3\\lib\\site-packages\\snowflake\\snowpark\\session.py:1891: UserWarning: Pandas Dataframe has non-standard index of type <class 'pandas.core.indexes.numeric.Int64Index'> which will not be written. Consider changing the index to pd.RangeIndex(start=0,...,step=1) or call reset_index() to keep index as column(s)\n",
      "  success, nchunks, nrows, ci_output = write_pandas(\n"
     ]
    },
    {
     "name": "stdout",
     "output_type": "stream",
     "text": [
      "524087 values inserted into table SCHEDULE_RC\n"
     ]
    },
    {
     "name": "stderr",
     "output_type": "stream",
     "text": [
      "C:\\Users\\whill\\anaconda3\\lib\\site-packages\\snowflake\\snowpark\\session.py:1891: UserWarning: Pandas Dataframe has non-standard index of type <class 'pandas.core.indexes.numeric.Int64Index'> which will not be written. Consider changing the index to pd.RangeIndex(start=0,...,step=1) or call reset_index() to keep index as column(s)\n",
      "  success, nchunks, nrows, ci_output = write_pandas(\n"
     ]
    },
    {
     "name": "stdout",
     "output_type": "stream",
     "text": [
      "524087 values inserted into table SCHEDULE_RCEI\n"
     ]
    },
    {
     "name": "stderr",
     "output_type": "stream",
     "text": [
      "C:\\Users\\whill\\anaconda3\\lib\\site-packages\\snowflake\\snowpark\\session.py:1891: UserWarning: Pandas Dataframe has non-standard index of type <class 'pandas.core.indexes.numeric.Int64Index'> which will not be written. Consider changing the index to pd.RangeIndex(start=0,...,step=1) or call reset_index() to keep index as column(s)\n",
      "  success, nchunks, nrows, ci_output = write_pandas(\n"
     ]
    },
    {
     "name": "stdout",
     "output_type": "stream",
     "text": [
      "524087 values inserted into table SCHEDULE_RCI\n"
     ]
    },
    {
     "name": "stderr",
     "output_type": "stream",
     "text": [
      "C:\\Users\\whill\\anaconda3\\lib\\site-packages\\snowflake\\snowpark\\session.py:1891: UserWarning: Pandas Dataframe has non-standard index of type <class 'pandas.core.indexes.numeric.Int64Index'> which will not be written. Consider changing the index to pd.RangeIndex(start=0,...,step=1) or call reset_index() to keep index as column(s)\n",
      "  success, nchunks, nrows, ci_output = write_pandas(\n"
     ]
    },
    {
     "name": "stdout",
     "output_type": "stream",
     "text": [
      "524087 values inserted into table SCHEDULE_RCL\n"
     ]
    },
    {
     "name": "stderr",
     "output_type": "stream",
     "text": [
      "C:\\Users\\whill\\anaconda3\\lib\\site-packages\\snowflake\\snowpark\\session.py:1891: UserWarning: Pandas Dataframe has non-standard index of type <class 'pandas.core.indexes.numeric.Int64Index'> which will not be written. Consider changing the index to pd.RangeIndex(start=0,...,step=1) or call reset_index() to keep index as column(s)\n",
      "  success, nchunks, nrows, ci_output = write_pandas(\n"
     ]
    },
    {
     "name": "stdout",
     "output_type": "stream",
     "text": [
      "524087 values inserted into table SCHEDULE_RCM\n"
     ]
    },
    {
     "name": "stderr",
     "output_type": "stream",
     "text": [
      "C:\\Users\\whill\\anaconda3\\lib\\site-packages\\snowflake\\snowpark\\session.py:1891: UserWarning: Pandas Dataframe has non-standard index of type <class 'pandas.core.indexes.numeric.Int64Index'> which will not be written. Consider changing the index to pd.RangeIndex(start=0,...,step=1) or call reset_index() to keep index as column(s)\n",
      "  success, nchunks, nrows, ci_output = write_pandas(\n"
     ]
    },
    {
     "name": "stdout",
     "output_type": "stream",
     "text": [
      "524087 values inserted into table SCHEDULE_RCN\n"
     ]
    },
    {
     "name": "stderr",
     "output_type": "stream",
     "text": [
      "C:\\Users\\whill\\anaconda3\\lib\\site-packages\\snowflake\\snowpark\\session.py:1891: UserWarning: Pandas Dataframe has non-standard index of type <class 'pandas.core.indexes.numeric.Int64Index'> which will not be written. Consider changing the index to pd.RangeIndex(start=0,...,step=1) or call reset_index() to keep index as column(s)\n",
      "  success, nchunks, nrows, ci_output = write_pandas(\n"
     ]
    },
    {
     "name": "stdout",
     "output_type": "stream",
     "text": [
      "Error in table SCHEDULE_RCRI: 100071 (22000): Failed to cast variant value \"8.33%\" to REAL\n"
     ]
    },
    {
     "name": "stderr",
     "output_type": "stream",
     "text": [
      "C:\\Users\\whill\\anaconda3\\lib\\site-packages\\snowflake\\snowpark\\session.py:1891: UserWarning: Pandas Dataframe has non-standard index of type <class 'pandas.core.indexes.numeric.Int64Index'> which will not be written. Consider changing the index to pd.RangeIndex(start=0,...,step=1) or call reset_index() to keep index as column(s)\n",
      "  success, nchunks, nrows, ci_output = write_pandas(\n"
     ]
    },
    {
     "name": "stdout",
     "output_type": "stream",
     "text": [
      "524087 values inserted into table SCHEDULE_RICI\n"
     ]
    },
    {
     "name": "stderr",
     "output_type": "stream",
     "text": [
      "C:\\Users\\whill\\anaconda3\\lib\\site-packages\\snowflake\\snowpark\\session.py:1891: UserWarning: Pandas Dataframe has non-standard index of type <class 'pandas.core.indexes.numeric.Int64Index'> which will not be written. Consider changing the index to pd.RangeIndex(start=0,...,step=1) or call reset_index() to keep index as column(s)\n",
      "  success, nchunks, nrows, ci_output = write_pandas(\n"
     ]
    },
    {
     "name": "stdout",
     "output_type": "stream",
     "text": [
      "524087 values inserted into table SCHEDULE_UNDEFINED\n"
     ]
    },
    {
     "name": "stderr",
     "output_type": "stream",
     "text": [
      "C:\\Users\\whill\\anaconda3\\lib\\site-packages\\snowflake\\snowpark\\session.py:1891: UserWarning: Pandas Dataframe has non-standard index of type <class 'pandas.core.indexes.numeric.Int64Index'> which will not be written. Consider changing the index to pd.RangeIndex(start=0,...,step=1) or call reset_index() to keep index as column(s)\n",
      "  success, nchunks, nrows, ci_output = write_pandas(\n"
     ]
    },
    {
     "name": "stdout",
     "output_type": "stream",
     "text": [
      "524087 values inserted into table SCHEDULE_RCEII\n"
     ]
    },
    {
     "name": "stderr",
     "output_type": "stream",
     "text": [
      "C:\\Users\\whill\\anaconda3\\lib\\site-packages\\snowflake\\snowpark\\session.py:1891: UserWarning: Pandas Dataframe has non-standard index of type <class 'pandas.core.indexes.numeric.Int64Index'> which will not be written. Consider changing the index to pd.RangeIndex(start=0,...,step=1) or call reset_index() to keep index as column(s)\n",
      "  success, nchunks, nrows, ci_output = write_pandas(\n"
     ]
    },
    {
     "name": "stdout",
     "output_type": "stream",
     "text": [
      "524087 values inserted into table SCHEDULE_RCV\n"
     ]
    },
    {
     "name": "stderr",
     "output_type": "stream",
     "text": [
      "C:\\Users\\whill\\anaconda3\\lib\\site-packages\\snowflake\\snowpark\\session.py:1891: UserWarning: Pandas Dataframe has non-standard index of type <class 'pandas.core.indexes.numeric.Int64Index'> which will not be written. Consider changing the index to pd.RangeIndex(start=0,...,step=1) or call reset_index() to keep index as column(s)\n",
      "  success, nchunks, nrows, ci_output = write_pandas(\n"
     ]
    },
    {
     "name": "stdout",
     "output_type": "stream",
     "text": [
      "524087 values inserted into table SCHEDULE_RID\n"
     ]
    },
    {
     "name": "stderr",
     "output_type": "stream",
     "text": [
      "C:\\Users\\whill\\anaconda3\\lib\\site-packages\\snowflake\\snowpark\\session.py:1891: UserWarning: Pandas Dataframe has non-standard index of type <class 'pandas.core.indexes.numeric.Int64Index'> which will not be written. Consider changing the index to pd.RangeIndex(start=0,...,step=1) or call reset_index() to keep index as column(s)\n",
      "  success, nchunks, nrows, ci_output = write_pandas(\n"
     ]
    },
    {
     "name": "stdout",
     "output_type": "stream",
     "text": [
      "524087 values inserted into table SCHEDULE_RIE\n"
     ]
    },
    {
     "name": "stderr",
     "output_type": "stream",
     "text": [
      "C:\\Users\\whill\\anaconda3\\lib\\site-packages\\snowflake\\snowpark\\session.py:1891: UserWarning: Pandas Dataframe has non-standard index of type <class 'pandas.core.indexes.numeric.Int64Index'> which will not be written. Consider changing the index to pd.RangeIndex(start=0,...,step=1) or call reset_index() to keep index as column(s)\n",
      "  success, nchunks, nrows, ci_output = write_pandas(\n"
     ]
    },
    {
     "name": "stdout",
     "output_type": "stream",
     "text": [
      "524087 values inserted into table SCHEDULE_RIBII\n"
     ]
    },
    {
     "name": "stderr",
     "output_type": "stream",
     "text": [
      "C:\\Users\\whill\\anaconda3\\lib\\site-packages\\snowflake\\snowpark\\session.py:1891: UserWarning: Pandas Dataframe has non-standard index of type <class 'pandas.core.indexes.numeric.Int64Index'> which will not be written. Consider changing the index to pd.RangeIndex(start=0,...,step=1) or call reset_index() to keep index as column(s)\n",
      "  success, nchunks, nrows, ci_output = write_pandas(\n"
     ]
    },
    {
     "name": "stdout",
     "output_type": "stream",
     "text": [
      "524087 values inserted into table SCHEDULE_RCB\n"
     ]
    },
    {
     "name": "stderr",
     "output_type": "stream",
     "text": [
      "C:\\Users\\whill\\anaconda3\\lib\\site-packages\\snowflake\\snowpark\\session.py:1891: UserWarning: Pandas Dataframe has non-standard index of type <class 'pandas.core.indexes.numeric.Int64Index'> which will not be written. Consider changing the index to pd.RangeIndex(start=0,...,step=1) or call reset_index() to keep index as column(s)\n",
      "  success, nchunks, nrows, ci_output = write_pandas(\n"
     ]
    },
    {
     "name": "stdout",
     "output_type": "stream",
     "text": [
      "524087 values inserted into table SCHEDULE_RCCII\n"
     ]
    },
    {
     "name": "stderr",
     "output_type": "stream",
     "text": [
      "C:\\Users\\whill\\anaconda3\\lib\\site-packages\\snowflake\\snowpark\\session.py:1891: UserWarning: Pandas Dataframe has non-standard index of type <class 'pandas.core.indexes.numeric.Int64Index'> which will not be written. Consider changing the index to pd.RangeIndex(start=0,...,step=1) or call reset_index() to keep index as column(s)\n",
      "  success, nchunks, nrows, ci_output = write_pandas(\n"
     ]
    },
    {
     "name": "stdout",
     "output_type": "stream",
     "text": [
      "524087 values inserted into table SCHEDULE_RIBI\n",
      "C:\\Users\\whill\\call-report-database\\Bulk_Files\\2015\\12_31\\FFIEC CDR Call Schedule CI 12312015.txt\n",
      "C:\\Users\\whill\\call-report-database\\Bulk_Files\\2015\\12_31\\FFIEC CDR Call Schedule ENT 12312015.txt\n",
      "C:\\Users\\whill\\call-report-database\\Bulk_Files\\2015\\12_31\\FFIEC CDR Call Schedule NARR 12312015.txt\n",
      "C:\\Users\\whill\\call-report-database\\Bulk_Files\\2015\\12_31\\FFIEC CDR Call Schedule RC 12312015.txt\n",
      "C:\\Users\\whill\\call-report-database\\Bulk_Files\\2015\\12_31\\FFIEC CDR Call Schedule RCA 12312015.txt\n",
      "C:\\Users\\whill\\call-report-database\\Bulk_Files\\2015\\12_31\\FFIEC CDR Call Schedule RCB 12312015(1 of 2).txt\n",
      "C:\\Users\\whill\\call-report-database\\Bulk_Files\\2015\\12_31\\FFIEC CDR Call Schedule RCB 12312015(2 of 2).txt\n",
      "C:\\Users\\whill\\call-report-database\\Bulk_Files\\2015\\12_31\\FFIEC CDR Call Schedule RCCI 12312015.txt\n",
      "C:\\Users\\whill\\call-report-database\\Bulk_Files\\2015\\12_31\\FFIEC CDR Call Schedule RCCII 12312015.txt\n",
      "C:\\Users\\whill\\call-report-database\\Bulk_Files\\2015\\12_31\\FFIEC CDR Call Schedule RCD 12312015.txt\n",
      "C:\\Users\\whill\\call-report-database\\Bulk_Files\\2015\\12_31\\FFIEC CDR Call Schedule RCE 12312015.txt\n",
      "C:\\Users\\whill\\call-report-database\\Bulk_Files\\2015\\12_31\\FFIEC CDR Call Schedule RCEI 12312015.txt\n",
      "C:\\Users\\whill\\call-report-database\\Bulk_Files\\2015\\12_31\\FFIEC CDR Call Schedule RCEII 12312015.txt\n",
      "C:\\Users\\whill\\call-report-database\\Bulk_Files\\2015\\12_31\\FFIEC CDR Call Schedule RCF 12312015.txt\n",
      "C:\\Users\\whill\\call-report-database\\Bulk_Files\\2015\\12_31\\FFIEC CDR Call Schedule RCG 12312015.txt\n",
      "C:\\Users\\whill\\call-report-database\\Bulk_Files\\2015\\12_31\\FFIEC CDR Call Schedule RCH 12312015.txt\n",
      "C:\\Users\\whill\\call-report-database\\Bulk_Files\\2015\\12_31\\FFIEC CDR Call Schedule RCI 12312015.txt\n",
      "C:\\Users\\whill\\call-report-database\\Bulk_Files\\2015\\12_31\\FFIEC CDR Call Schedule RCK 12312015.txt\n",
      "C:\\Users\\whill\\call-report-database\\Bulk_Files\\2015\\12_31\\FFIEC CDR Call Schedule RCL 12312015(1 of 2).txt\n",
      "C:\\Users\\whill\\call-report-database\\Bulk_Files\\2015\\12_31\\FFIEC CDR Call Schedule RCL 12312015(2 of 2).txt\n",
      "C:\\Users\\whill\\call-report-database\\Bulk_Files\\2015\\12_31\\FFIEC CDR Call Schedule RCM 12312015.txt\n",
      "C:\\Users\\whill\\call-report-database\\Bulk_Files\\2015\\12_31\\FFIEC CDR Call Schedule RCN 12312015(1 of 2).txt\n",
      "C:\\Users\\whill\\call-report-database\\Bulk_Files\\2015\\12_31\\FFIEC CDR Call Schedule RCN 12312015(2 of 2).txt\n",
      "C:\\Users\\whill\\call-report-database\\Bulk_Files\\2015\\12_31\\FFIEC CDR Call Schedule RCO 12312015(1 of 2).txt\n",
      "C:\\Users\\whill\\call-report-database\\Bulk_Files\\2015\\12_31\\FFIEC CDR Call Schedule RCO 12312015(2 of 2).txt\n",
      "C:\\Users\\whill\\call-report-database\\Bulk_Files\\2015\\12_31\\FFIEC CDR Call Schedule RCP 12312015.txt\n",
      "C:\\Users\\whill\\call-report-database\\Bulk_Files\\2015\\12_31\\FFIEC CDR Call Schedule RCQ 12312015(1 of 2).txt\n",
      "C:\\Users\\whill\\call-report-database\\Bulk_Files\\2015\\12_31\\FFIEC CDR Call Schedule RCQ 12312015(2 of 2).txt\n",
      "C:\\Users\\whill\\call-report-database\\Bulk_Files\\2015\\12_31\\FFIEC CDR Call Schedule RCRI 12312015.txt\n",
      "C:\\Users\\whill\\call-report-database\\Bulk_Files\\2015\\12_31\\FFIEC CDR Call Schedule RCRII 12312015(1 of 3).txt\n",
      "C:\\Users\\whill\\call-report-database\\Bulk_Files\\2015\\12_31\\FFIEC CDR Call Schedule RCRII 12312015(2 of 3).txt\n",
      "C:\\Users\\whill\\call-report-database\\Bulk_Files\\2015\\12_31\\FFIEC CDR Call Schedule RCRII 12312015(3 of 3).txt\n",
      "C:\\Users\\whill\\call-report-database\\Bulk_Files\\2015\\12_31\\FFIEC CDR Call Schedule RCS 12312015.txt\n",
      "C:\\Users\\whill\\call-report-database\\Bulk_Files\\2015\\12_31\\FFIEC CDR Call Schedule RCT 12312015(1 of 2).txt\n",
      "C:\\Users\\whill\\call-report-database\\Bulk_Files\\2015\\12_31\\FFIEC CDR Call Schedule RCT 12312015(2 of 2).txt\n",
      "C:\\Users\\whill\\call-report-database\\Bulk_Files\\2015\\12_31\\FFIEC CDR Call Schedule RCV 12312015.txt\n",
      "C:\\Users\\whill\\call-report-database\\Bulk_Files\\2015\\12_31\\FFIEC CDR Call Schedule RI 12312015.txt\n",
      "C:\\Users\\whill\\call-report-database\\Bulk_Files\\2015\\12_31\\FFIEC CDR Call Schedule RIA 12312015.txt\n",
      "C:\\Users\\whill\\call-report-database\\Bulk_Files\\2015\\12_31\\FFIEC CDR Call Schedule RIBI 12312015.txt\n",
      "C:\\Users\\whill\\call-report-database\\Bulk_Files\\2015\\12_31\\FFIEC CDR Call Schedule RIBII 12312015.txt\n",
      "C:\\Users\\whill\\call-report-database\\Bulk_Files\\2015\\12_31\\FFIEC CDR Call Schedule RIC 12312015.txt\n",
      "C:\\Users\\whill\\call-report-database\\Bulk_Files\\2015\\12_31\\FFIEC CDR Call Schedule RID 12312015.txt\n",
      "C:\\Users\\whill\\call-report-database\\Bulk_Files\\2015\\12_31\\FFIEC CDR Call Schedule RIE 12312015.txt\n"
     ]
    },
    {
     "name": "stderr",
     "output_type": "stream",
     "text": [
      "C:\\Users\\whill\\anaconda3\\lib\\site-packages\\snowflake\\snowpark\\session.py:1891: UserWarning: Pandas Dataframe has non-standard index of type <class 'pandas.core.indexes.numeric.Int64Index'> which will not be written. Consider changing the index to pd.RangeIndex(start=0,...,step=1) or call reset_index() to keep index as column(s)\n",
      "  success, nchunks, nrows, ci_output = write_pandas(\n"
     ]
    },
    {
     "name": "stdout",
     "output_type": "stream",
     "text": [
      "530325 values inserted into table SCHEDULE_RC\n"
     ]
    },
    {
     "name": "stderr",
     "output_type": "stream",
     "text": [
      "C:\\Users\\whill\\anaconda3\\lib\\site-packages\\snowflake\\snowpark\\session.py:1891: UserWarning: Pandas Dataframe has non-standard index of type <class 'pandas.core.indexes.numeric.Int64Index'> which will not be written. Consider changing the index to pd.RangeIndex(start=0,...,step=1) or call reset_index() to keep index as column(s)\n",
      "  success, nchunks, nrows, ci_output = write_pandas(\n"
     ]
    },
    {
     "name": "stdout",
     "output_type": "stream",
     "text": [
      "530325 values inserted into table SCHEDULE_RCE\n"
     ]
    },
    {
     "name": "stderr",
     "output_type": "stream",
     "text": [
      "C:\\Users\\whill\\anaconda3\\lib\\site-packages\\snowflake\\snowpark\\session.py:1891: UserWarning: Pandas Dataframe has non-standard index of type <class 'pandas.core.indexes.numeric.Int64Index'> which will not be written. Consider changing the index to pd.RangeIndex(start=0,...,step=1) or call reset_index() to keep index as column(s)\n",
      "  success, nchunks, nrows, ci_output = write_pandas(\n"
     ]
    },
    {
     "name": "stdout",
     "output_type": "stream",
     "text": [
      "530325 values inserted into table SCHEDULE_RCF\n"
     ]
    },
    {
     "name": "stderr",
     "output_type": "stream",
     "text": [
      "C:\\Users\\whill\\anaconda3\\lib\\site-packages\\snowflake\\snowpark\\session.py:1891: UserWarning: Pandas Dataframe has non-standard index of type <class 'pandas.core.indexes.numeric.Int64Index'> which will not be written. Consider changing the index to pd.RangeIndex(start=0,...,step=1) or call reset_index() to keep index as column(s)\n",
      "  success, nchunks, nrows, ci_output = write_pandas(\n"
     ]
    },
    {
     "name": "stdout",
     "output_type": "stream",
     "text": [
      "530325 values inserted into table SCHEDULE_RCG\n"
     ]
    },
    {
     "name": "stderr",
     "output_type": "stream",
     "text": [
      "C:\\Users\\whill\\anaconda3\\lib\\site-packages\\snowflake\\snowpark\\session.py:1891: UserWarning: Pandas Dataframe has non-standard index of type <class 'pandas.core.indexes.numeric.Int64Index'> which will not be written. Consider changing the index to pd.RangeIndex(start=0,...,step=1) or call reset_index() to keep index as column(s)\n",
      "  success, nchunks, nrows, ci_output = write_pandas(\n"
     ]
    },
    {
     "name": "stdout",
     "output_type": "stream",
     "text": [
      "530325 values inserted into table SCHEDULE_RCN\n"
     ]
    },
    {
     "name": "stderr",
     "output_type": "stream",
     "text": [
      "C:\\Users\\whill\\anaconda3\\lib\\site-packages\\snowflake\\snowpark\\session.py:1891: UserWarning: Pandas Dataframe has non-standard index of type <class 'pandas.core.indexes.numeric.Int64Index'> which will not be written. Consider changing the index to pd.RangeIndex(start=0,...,step=1) or call reset_index() to keep index as column(s)\n",
      "  success, nchunks, nrows, ci_output = write_pandas(\n"
     ]
    },
    {
     "name": "stdout",
     "output_type": "stream",
     "text": [
      "530325 values inserted into table SCHEDULE_RCP\n"
     ]
    },
    {
     "name": "stderr",
     "output_type": "stream",
     "text": [
      "C:\\Users\\whill\\anaconda3\\lib\\site-packages\\snowflake\\snowpark\\session.py:1891: UserWarning: Pandas Dataframe has non-standard index of type <class 'pandas.core.indexes.numeric.Int64Index'> which will not be written. Consider changing the index to pd.RangeIndex(start=0,...,step=1) or call reset_index() to keep index as column(s)\n",
      "  success, nchunks, nrows, ci_output = write_pandas(\n"
     ]
    },
    {
     "name": "stdout",
     "output_type": "stream",
     "text": [
      "530325 values inserted into table SCHEDULE_RCS\n"
     ]
    },
    {
     "name": "stderr",
     "output_type": "stream",
     "text": [
      "C:\\Users\\whill\\anaconda3\\lib\\site-packages\\snowflake\\snowpark\\session.py:1891: UserWarning: Pandas Dataframe has non-standard index of type <class 'pandas.core.indexes.numeric.Int64Index'> which will not be written. Consider changing the index to pd.RangeIndex(start=0,...,step=1) or call reset_index() to keep index as column(s)\n",
      "  success, nchunks, nrows, ci_output = write_pandas(\n"
     ]
    },
    {
     "name": "stdout",
     "output_type": "stream",
     "text": [
      "530325 values inserted into table SCHEDULE_RIBI\n"
     ]
    },
    {
     "name": "stderr",
     "output_type": "stream",
     "text": [
      "C:\\Users\\whill\\anaconda3\\lib\\site-packages\\snowflake\\snowpark\\session.py:1891: UserWarning: Pandas Dataframe has non-standard index of type <class 'pandas.core.indexes.numeric.Int64Index'> which will not be written. Consider changing the index to pd.RangeIndex(start=0,...,step=1) or call reset_index() to keep index as column(s)\n",
      "  success, nchunks, nrows, ci_output = write_pandas(\n"
     ]
    },
    {
     "name": "stdout",
     "output_type": "stream",
     "text": [
      "530325 values inserted into table SCHEDULE_RCCII\n"
     ]
    },
    {
     "name": "stderr",
     "output_type": "stream",
     "text": [
      "C:\\Users\\whill\\anaconda3\\lib\\site-packages\\snowflake\\snowpark\\session.py:1891: UserWarning: Pandas Dataframe has non-standard index of type <class 'pandas.core.indexes.numeric.Int64Index'> which will not be written. Consider changing the index to pd.RangeIndex(start=0,...,step=1) or call reset_index() to keep index as column(s)\n",
      "  success, nchunks, nrows, ci_output = write_pandas(\n"
     ]
    },
    {
     "name": "stdout",
     "output_type": "stream",
     "text": [
      "530325 values inserted into table SCHEDULE_RCM\n"
     ]
    },
    {
     "name": "stderr",
     "output_type": "stream",
     "text": [
      "C:\\Users\\whill\\anaconda3\\lib\\site-packages\\snowflake\\snowpark\\session.py:1891: UserWarning: Pandas Dataframe has non-standard index of type <class 'pandas.core.indexes.numeric.Int64Index'> which will not be written. Consider changing the index to pd.RangeIndex(start=0,...,step=1) or call reset_index() to keep index as column(s)\n",
      "  success, nchunks, nrows, ci_output = write_pandas(\n"
     ]
    },
    {
     "name": "stdout",
     "output_type": "stream",
     "text": [
      "530325 values inserted into table SCHEDULE_RCRII\n"
     ]
    },
    {
     "name": "stderr",
     "output_type": "stream",
     "text": [
      "C:\\Users\\whill\\anaconda3\\lib\\site-packages\\snowflake\\snowpark\\session.py:1891: UserWarning: Pandas Dataframe has non-standard index of type <class 'pandas.core.indexes.numeric.Int64Index'> which will not be written. Consider changing the index to pd.RangeIndex(start=0,...,step=1) or call reset_index() to keep index as column(s)\n",
      "  success, nchunks, nrows, ci_output = write_pandas(\n"
     ]
    },
    {
     "name": "stdout",
     "output_type": "stream",
     "text": [
      "530325 values inserted into table SCHEDULE_RI\n"
     ]
    },
    {
     "name": "stderr",
     "output_type": "stream",
     "text": [
      "C:\\Users\\whill\\anaconda3\\lib\\site-packages\\snowflake\\snowpark\\session.py:1891: UserWarning: Pandas Dataframe has non-standard index of type <class 'pandas.core.indexes.numeric.Int64Index'> which will not be written. Consider changing the index to pd.RangeIndex(start=0,...,step=1) or call reset_index() to keep index as column(s)\n",
      "  success, nchunks, nrows, ci_output = write_pandas(\n"
     ]
    },
    {
     "name": "stdout",
     "output_type": "stream",
     "text": [
      "530325 values inserted into table SCHEDULE_ENT\n"
     ]
    },
    {
     "name": "stderr",
     "output_type": "stream",
     "text": [
      "C:\\Users\\whill\\anaconda3\\lib\\site-packages\\snowflake\\snowpark\\session.py:1891: UserWarning: Pandas Dataframe has non-standard index of type <class 'pandas.core.indexes.numeric.Int64Index'> which will not be written. Consider changing the index to pd.RangeIndex(start=0,...,step=1) or call reset_index() to keep index as column(s)\n",
      "  success, nchunks, nrows, ci_output = write_pandas(\n"
     ]
    },
    {
     "name": "stdout",
     "output_type": "stream",
     "text": [
      "530325 values inserted into table SCHEDULE_NARR\n"
     ]
    },
    {
     "name": "stderr",
     "output_type": "stream",
     "text": [
      "C:\\Users\\whill\\anaconda3\\lib\\site-packages\\snowflake\\snowpark\\session.py:1891: UserWarning: Pandas Dataframe has non-standard index of type <class 'pandas.core.indexes.numeric.Int64Index'> which will not be written. Consider changing the index to pd.RangeIndex(start=0,...,step=1) or call reset_index() to keep index as column(s)\n",
      "  success, nchunks, nrows, ci_output = write_pandas(\n"
     ]
    },
    {
     "name": "stdout",
     "output_type": "stream",
     "text": [
      "530325 values inserted into table SCHEDULE_RCB\n"
     ]
    },
    {
     "name": "stderr",
     "output_type": "stream",
     "text": [
      "C:\\Users\\whill\\anaconda3\\lib\\site-packages\\snowflake\\snowpark\\session.py:1891: UserWarning: Pandas Dataframe has non-standard index of type <class 'pandas.core.indexes.numeric.Int64Index'> which will not be written. Consider changing the index to pd.RangeIndex(start=0,...,step=1) or call reset_index() to keep index as column(s)\n",
      "  success, nchunks, nrows, ci_output = write_pandas(\n"
     ]
    },
    {
     "name": "stdout",
     "output_type": "stream",
     "text": [
      "530325 values inserted into table SCHEDULE_RCEI\n"
     ]
    },
    {
     "name": "stderr",
     "output_type": "stream",
     "text": [
      "C:\\Users\\whill\\anaconda3\\lib\\site-packages\\snowflake\\snowpark\\session.py:1891: UserWarning: Pandas Dataframe has non-standard index of type <class 'pandas.core.indexes.numeric.Int64Index'> which will not be written. Consider changing the index to pd.RangeIndex(start=0,...,step=1) or call reset_index() to keep index as column(s)\n",
      "  success, nchunks, nrows, ci_output = write_pandas(\n"
     ]
    },
    {
     "name": "stdout",
     "output_type": "stream",
     "text": [
      "530325 values inserted into table SCHEDULE_RCL\n"
     ]
    },
    {
     "name": "stderr",
     "output_type": "stream",
     "text": [
      "C:\\Users\\whill\\anaconda3\\lib\\site-packages\\snowflake\\snowpark\\session.py:1891: UserWarning: Pandas Dataframe has non-standard index of type <class 'pandas.core.indexes.numeric.Int64Index'> which will not be written. Consider changing the index to pd.RangeIndex(start=0,...,step=1) or call reset_index() to keep index as column(s)\n",
      "  success, nchunks, nrows, ci_output = write_pandas(\n"
     ]
    },
    {
     "name": "stdout",
     "output_type": "stream",
     "text": [
      "530325 values inserted into table SCHEDULE_RCO\n"
     ]
    },
    {
     "name": "stderr",
     "output_type": "stream",
     "text": [
      "C:\\Users\\whill\\anaconda3\\lib\\site-packages\\snowflake\\snowpark\\session.py:1891: UserWarning: Pandas Dataframe has non-standard index of type <class 'pandas.core.indexes.numeric.Int64Index'> which will not be written. Consider changing the index to pd.RangeIndex(start=0,...,step=1) or call reset_index() to keep index as column(s)\n",
      "  success, nchunks, nrows, ci_output = write_pandas(\n"
     ]
    },
    {
     "name": "stdout",
     "output_type": "stream",
     "text": [
      "530325 values inserted into table SCHEDULE_RICI\n"
     ]
    },
    {
     "name": "stderr",
     "output_type": "stream",
     "text": [
      "C:\\Users\\whill\\anaconda3\\lib\\site-packages\\snowflake\\snowpark\\session.py:1891: UserWarning: Pandas Dataframe has non-standard index of type <class 'pandas.core.indexes.numeric.Int64Index'> which will not be written. Consider changing the index to pd.RangeIndex(start=0,...,step=1) or call reset_index() to keep index as column(s)\n",
      "  success, nchunks, nrows, ci_output = write_pandas(\n"
     ]
    },
    {
     "name": "stdout",
     "output_type": "stream",
     "text": [
      "530325 values inserted into table SCHEDULE_RIE\n"
     ]
    },
    {
     "name": "stderr",
     "output_type": "stream",
     "text": [
      "C:\\Users\\whill\\anaconda3\\lib\\site-packages\\snowflake\\snowpark\\session.py:1891: UserWarning: Pandas Dataframe has non-standard index of type <class 'pandas.core.indexes.numeric.Int64Index'> which will not be written. Consider changing the index to pd.RangeIndex(start=0,...,step=1) or call reset_index() to keep index as column(s)\n",
      "  success, nchunks, nrows, ci_output = write_pandas(\n"
     ]
    },
    {
     "name": "stdout",
     "output_type": "stream",
     "text": [
      "530325 values inserted into table SCHEDULE_RCH\n"
     ]
    },
    {
     "name": "stderr",
     "output_type": "stream",
     "text": [
      "C:\\Users\\whill\\anaconda3\\lib\\site-packages\\snowflake\\snowpark\\session.py:1891: UserWarning: Pandas Dataframe has non-standard index of type <class 'pandas.core.indexes.numeric.Int64Index'> which will not be written. Consider changing the index to pd.RangeIndex(start=0,...,step=1) or call reset_index() to keep index as column(s)\n",
      "  success, nchunks, nrows, ci_output = write_pandas(\n"
     ]
    },
    {
     "name": "stdout",
     "output_type": "stream",
     "text": [
      "530325 values inserted into table SCHEDULE_RICII\n"
     ]
    },
    {
     "name": "stderr",
     "output_type": "stream",
     "text": [
      "C:\\Users\\whill\\anaconda3\\lib\\site-packages\\snowflake\\snowpark\\session.py:1891: UserWarning: Pandas Dataframe has non-standard index of type <class 'pandas.core.indexes.numeric.Int64Index'> which will not be written. Consider changing the index to pd.RangeIndex(start=0,...,step=1) or call reset_index() to keep index as column(s)\n",
      "  success, nchunks, nrows, ci_output = write_pandas(\n"
     ]
    },
    {
     "name": "stdout",
     "output_type": "stream",
     "text": [
      "530325 values inserted into table SCHEDULE_LEO\n"
     ]
    },
    {
     "name": "stderr",
     "output_type": "stream",
     "text": [
      "C:\\Users\\whill\\anaconda3\\lib\\site-packages\\snowflake\\snowpark\\session.py:1891: UserWarning: Pandas Dataframe has non-standard index of type <class 'pandas.core.indexes.numeric.Int64Index'> which will not be written. Consider changing the index to pd.RangeIndex(start=0,...,step=1) or call reset_index() to keep index as column(s)\n",
      "  success, nchunks, nrows, ci_output = write_pandas(\n"
     ]
    },
    {
     "name": "stdout",
     "output_type": "stream",
     "text": [
      "530325 values inserted into table SCHEDULE_RCA\n"
     ]
    },
    {
     "name": "stderr",
     "output_type": "stream",
     "text": [
      "C:\\Users\\whill\\anaconda3\\lib\\site-packages\\snowflake\\snowpark\\session.py:1891: UserWarning: Pandas Dataframe has non-standard index of type <class 'pandas.core.indexes.numeric.Int64Index'> which will not be written. Consider changing the index to pd.RangeIndex(start=0,...,step=1) or call reset_index() to keep index as column(s)\n",
      "  success, nchunks, nrows, ci_output = write_pandas(\n"
     ]
    },
    {
     "name": "stdout",
     "output_type": "stream",
     "text": [
      "530325 values inserted into table SCHEDULE_RID\n"
     ]
    },
    {
     "name": "stderr",
     "output_type": "stream",
     "text": [
      "C:\\Users\\whill\\anaconda3\\lib\\site-packages\\snowflake\\snowpark\\session.py:1891: UserWarning: Pandas Dataframe has non-standard index of type <class 'pandas.core.indexes.numeric.Int64Index'> which will not be written. Consider changing the index to pd.RangeIndex(start=0,...,step=1) or call reset_index() to keep index as column(s)\n",
      "  success, nchunks, nrows, ci_output = write_pandas(\n"
     ]
    },
    {
     "name": "stdout",
     "output_type": "stream",
     "text": [
      "530325 values inserted into table SCHEDULE_UNDEFINED\n"
     ]
    },
    {
     "name": "stderr",
     "output_type": "stream",
     "text": [
      "C:\\Users\\whill\\anaconda3\\lib\\site-packages\\snowflake\\snowpark\\session.py:1891: UserWarning: Pandas Dataframe has non-standard index of type <class 'pandas.core.indexes.numeric.Int64Index'> which will not be written. Consider changing the index to pd.RangeIndex(start=0,...,step=1) or call reset_index() to keep index as column(s)\n",
      "  success, nchunks, nrows, ci_output = write_pandas(\n"
     ]
    },
    {
     "name": "stdout",
     "output_type": "stream",
     "text": [
      "530325 values inserted into table SCHEDULE_RCCI\n"
     ]
    },
    {
     "name": "stderr",
     "output_type": "stream",
     "text": [
      "C:\\Users\\whill\\anaconda3\\lib\\site-packages\\snowflake\\snowpark\\session.py:1891: UserWarning: Pandas Dataframe has non-standard index of type <class 'pandas.core.indexes.numeric.Int64Index'> which will not be written. Consider changing the index to pd.RangeIndex(start=0,...,step=1) or call reset_index() to keep index as column(s)\n",
      "  success, nchunks, nrows, ci_output = write_pandas(\n"
     ]
    },
    {
     "name": "stdout",
     "output_type": "stream",
     "text": [
      "530325 values inserted into table SCHEDULE_RCR\n"
     ]
    },
    {
     "name": "stderr",
     "output_type": "stream",
     "text": [
      "C:\\Users\\whill\\anaconda3\\lib\\site-packages\\snowflake\\snowpark\\session.py:1891: UserWarning: Pandas Dataframe has non-standard index of type <class 'pandas.core.indexes.numeric.Int64Index'> which will not be written. Consider changing the index to pd.RangeIndex(start=0,...,step=1) or call reset_index() to keep index as column(s)\n",
      "  success, nchunks, nrows, ci_output = write_pandas(\n"
     ]
    },
    {
     "name": "stdout",
     "output_type": "stream",
     "text": [
      "Error in table SCHEDULE_RCRI: 100071 (22000): Failed to cast variant value \"8.21%\" to REAL\n"
     ]
    },
    {
     "name": "stderr",
     "output_type": "stream",
     "text": [
      "C:\\Users\\whill\\anaconda3\\lib\\site-packages\\snowflake\\snowpark\\session.py:1891: UserWarning: Pandas Dataframe has non-standard index of type <class 'pandas.core.indexes.numeric.Int64Index'> which will not be written. Consider changing the index to pd.RangeIndex(start=0,...,step=1) or call reset_index() to keep index as column(s)\n",
      "  success, nchunks, nrows, ci_output = write_pandas(\n"
     ]
    },
    {
     "name": "stdout",
     "output_type": "stream",
     "text": [
      "530325 values inserted into table SCHEDULE_RCT\n"
     ]
    },
    {
     "name": "stderr",
     "output_type": "stream",
     "text": [
      "C:\\Users\\whill\\anaconda3\\lib\\site-packages\\snowflake\\snowpark\\session.py:1891: UserWarning: Pandas Dataframe has non-standard index of type <class 'pandas.core.indexes.numeric.Int64Index'> which will not be written. Consider changing the index to pd.RangeIndex(start=0,...,step=1) or call reset_index() to keep index as column(s)\n",
      "  success, nchunks, nrows, ci_output = write_pandas(\n"
     ]
    },
    {
     "name": "stdout",
     "output_type": "stream",
     "text": [
      "530325 values inserted into table SCHEDULE_RCV\n"
     ]
    },
    {
     "name": "stderr",
     "output_type": "stream",
     "text": [
      "C:\\Users\\whill\\anaconda3\\lib\\site-packages\\snowflake\\snowpark\\session.py:1891: UserWarning: Pandas Dataframe has non-standard index of type <class 'pandas.core.indexes.numeric.Int64Index'> which will not be written. Consider changing the index to pd.RangeIndex(start=0,...,step=1) or call reset_index() to keep index as column(s)\n",
      "  success, nchunks, nrows, ci_output = write_pandas(\n"
     ]
    },
    {
     "name": "stdout",
     "output_type": "stream",
     "text": [
      "530325 values inserted into table SCHEDULE_RIBII\n"
     ]
    },
    {
     "name": "stderr",
     "output_type": "stream",
     "text": [
      "C:\\Users\\whill\\anaconda3\\lib\\site-packages\\snowflake\\snowpark\\session.py:1891: UserWarning: Pandas Dataframe has non-standard index of type <class 'pandas.core.indexes.numeric.Int64Index'> which will not be written. Consider changing the index to pd.RangeIndex(start=0,...,step=1) or call reset_index() to keep index as column(s)\n",
      "  success, nchunks, nrows, ci_output = write_pandas(\n"
     ]
    },
    {
     "name": "stdout",
     "output_type": "stream",
     "text": [
      "530325 values inserted into table SCHEDULE_SU\n"
     ]
    },
    {
     "name": "stderr",
     "output_type": "stream",
     "text": [
      "C:\\Users\\whill\\anaconda3\\lib\\site-packages\\snowflake\\snowpark\\session.py:1891: UserWarning: Pandas Dataframe has non-standard index of type <class 'pandas.core.indexes.numeric.Int64Index'> which will not be written. Consider changing the index to pd.RangeIndex(start=0,...,step=1) or call reset_index() to keep index as column(s)\n",
      "  success, nchunks, nrows, ci_output = write_pandas(\n"
     ]
    },
    {
     "name": "stdout",
     "output_type": "stream",
     "text": [
      "530325 values inserted into table SCHEDULE_RCD\n"
     ]
    },
    {
     "name": "stderr",
     "output_type": "stream",
     "text": [
      "C:\\Users\\whill\\anaconda3\\lib\\site-packages\\snowflake\\snowpark\\session.py:1891: UserWarning: Pandas Dataframe has non-standard index of type <class 'pandas.core.indexes.numeric.Int64Index'> which will not be written. Consider changing the index to pd.RangeIndex(start=0,...,step=1) or call reset_index() to keep index as column(s)\n",
      "  success, nchunks, nrows, ci_output = write_pandas(\n"
     ]
    },
    {
     "name": "stdout",
     "output_type": "stream",
     "text": [
      "530325 values inserted into table SCHEDULE_RCEII\n"
     ]
    },
    {
     "name": "stderr",
     "output_type": "stream",
     "text": [
      "C:\\Users\\whill\\anaconda3\\lib\\site-packages\\snowflake\\snowpark\\session.py:1891: UserWarning: Pandas Dataframe has non-standard index of type <class 'pandas.core.indexes.numeric.Int64Index'> which will not be written. Consider changing the index to pd.RangeIndex(start=0,...,step=1) or call reset_index() to keep index as column(s)\n",
      "  success, nchunks, nrows, ci_output = write_pandas(\n"
     ]
    },
    {
     "name": "stdout",
     "output_type": "stream",
     "text": [
      "530325 values inserted into table SCHEDULE_RCI\n"
     ]
    },
    {
     "name": "stderr",
     "output_type": "stream",
     "text": [
      "C:\\Users\\whill\\anaconda3\\lib\\site-packages\\snowflake\\snowpark\\session.py:1891: UserWarning: Pandas Dataframe has non-standard index of type <class 'pandas.core.indexes.numeric.Int64Index'> which will not be written. Consider changing the index to pd.RangeIndex(start=0,...,step=1) or call reset_index() to keep index as column(s)\n",
      "  success, nchunks, nrows, ci_output = write_pandas(\n"
     ]
    },
    {
     "name": "stdout",
     "output_type": "stream",
     "text": [
      "530325 values inserted into table SCHEDULE_RCQ\n"
     ]
    },
    {
     "name": "stderr",
     "output_type": "stream",
     "text": [
      "C:\\Users\\whill\\anaconda3\\lib\\site-packages\\snowflake\\snowpark\\session.py:1891: UserWarning: Pandas Dataframe has non-standard index of type <class 'pandas.core.indexes.numeric.Int64Index'> which will not be written. Consider changing the index to pd.RangeIndex(start=0,...,step=1) or call reset_index() to keep index as column(s)\n",
      "  success, nchunks, nrows, ci_output = write_pandas(\n"
     ]
    },
    {
     "name": "stdout",
     "output_type": "stream",
     "text": [
      "530325 values inserted into table SCHEDULE_RIC\n"
     ]
    },
    {
     "name": "stderr",
     "output_type": "stream",
     "text": [
      "C:\\Users\\whill\\anaconda3\\lib\\site-packages\\snowflake\\snowpark\\session.py:1891: UserWarning: Pandas Dataframe has non-standard index of type <class 'pandas.core.indexes.numeric.Int64Index'> which will not be written. Consider changing the index to pd.RangeIndex(start=0,...,step=1) or call reset_index() to keep index as column(s)\n",
      "  success, nchunks, nrows, ci_output = write_pandas(\n"
     ]
    },
    {
     "name": "stdout",
     "output_type": "stream",
     "text": [
      "530325 values inserted into table SCHEDULE_RCK\n"
     ]
    },
    {
     "name": "stderr",
     "output_type": "stream",
     "text": [
      "C:\\Users\\whill\\anaconda3\\lib\\site-packages\\snowflake\\snowpark\\session.py:1891: UserWarning: Pandas Dataframe has non-standard index of type <class 'pandas.core.indexes.numeric.Int64Index'> which will not be written. Consider changing the index to pd.RangeIndex(start=0,...,step=1) or call reset_index() to keep index as column(s)\n",
      "  success, nchunks, nrows, ci_output = write_pandas(\n"
     ]
    },
    {
     "name": "stdout",
     "output_type": "stream",
     "text": [
      "530325 values inserted into table SCHEDULE_RIA\n",
      "C:\\Users\\whill\\call-report-database\\Bulk_Files\\2016\\03_31\\FFIEC CDR Call Schedule CI 03312016.txt\n",
      "C:\\Users\\whill\\call-report-database\\Bulk_Files\\2016\\03_31\\FFIEC CDR Call Schedule ENT 03312016.txt\n",
      "C:\\Users\\whill\\call-report-database\\Bulk_Files\\2016\\03_31\\FFIEC CDR Call Schedule NARR 03312016.txt\n",
      "C:\\Users\\whill\\call-report-database\\Bulk_Files\\2016\\03_31\\FFIEC CDR Call Schedule RC 03312016.txt\n",
      "C:\\Users\\whill\\call-report-database\\Bulk_Files\\2016\\03_31\\FFIEC CDR Call Schedule RCA 03312016.txt\n",
      "C:\\Users\\whill\\call-report-database\\Bulk_Files\\2016\\03_31\\FFIEC CDR Call Schedule RCB 03312016(1 of 2).txt\n",
      "C:\\Users\\whill\\call-report-database\\Bulk_Files\\2016\\03_31\\FFIEC CDR Call Schedule RCB 03312016(2 of 2).txt\n",
      "C:\\Users\\whill\\call-report-database\\Bulk_Files\\2016\\03_31\\FFIEC CDR Call Schedule RCCI 03312016.txt\n",
      "C:\\Users\\whill\\call-report-database\\Bulk_Files\\2016\\03_31\\FFIEC CDR Call Schedule RCCII 03312016.txt\n",
      "C:\\Users\\whill\\call-report-database\\Bulk_Files\\2016\\03_31\\FFIEC CDR Call Schedule RCD 03312016.txt\n",
      "C:\\Users\\whill\\call-report-database\\Bulk_Files\\2016\\03_31\\FFIEC CDR Call Schedule RCE 03312016.txt\n",
      "C:\\Users\\whill\\call-report-database\\Bulk_Files\\2016\\03_31\\FFIEC CDR Call Schedule RCEI 03312016.txt\n",
      "C:\\Users\\whill\\call-report-database\\Bulk_Files\\2016\\03_31\\FFIEC CDR Call Schedule RCEII 03312016.txt\n",
      "C:\\Users\\whill\\call-report-database\\Bulk_Files\\2016\\03_31\\FFIEC CDR Call Schedule RCF 03312016.txt\n",
      "C:\\Users\\whill\\call-report-database\\Bulk_Files\\2016\\03_31\\FFIEC CDR Call Schedule RCG 03312016.txt\n",
      "C:\\Users\\whill\\call-report-database\\Bulk_Files\\2016\\03_31\\FFIEC CDR Call Schedule RCH 03312016.txt\n",
      "C:\\Users\\whill\\call-report-database\\Bulk_Files\\2016\\03_31\\FFIEC CDR Call Schedule RCI 03312016.txt\n",
      "C:\\Users\\whill\\call-report-database\\Bulk_Files\\2016\\03_31\\FFIEC CDR Call Schedule RCK 03312016.txt\n",
      "C:\\Users\\whill\\call-report-database\\Bulk_Files\\2016\\03_31\\FFIEC CDR Call Schedule RCL 03312016(1 of 2).txt\n",
      "C:\\Users\\whill\\call-report-database\\Bulk_Files\\2016\\03_31\\FFIEC CDR Call Schedule RCL 03312016(2 of 2).txt\n",
      "C:\\Users\\whill\\call-report-database\\Bulk_Files\\2016\\03_31\\FFIEC CDR Call Schedule RCM 03312016.txt\n",
      "C:\\Users\\whill\\call-report-database\\Bulk_Files\\2016\\03_31\\FFIEC CDR Call Schedule RCN 03312016(1 of 2).txt\n",
      "C:\\Users\\whill\\call-report-database\\Bulk_Files\\2016\\03_31\\FFIEC CDR Call Schedule RCN 03312016(2 of 2).txt\n",
      "C:\\Users\\whill\\call-report-database\\Bulk_Files\\2016\\03_31\\FFIEC CDR Call Schedule RCO 03312016(1 of 2).txt\n",
      "C:\\Users\\whill\\call-report-database\\Bulk_Files\\2016\\03_31\\FFIEC CDR Call Schedule RCO 03312016(2 of 2).txt\n",
      "C:\\Users\\whill\\call-report-database\\Bulk_Files\\2016\\03_31\\FFIEC CDR Call Schedule RCP 03312016.txt\n",
      "C:\\Users\\whill\\call-report-database\\Bulk_Files\\2016\\03_31\\FFIEC CDR Call Schedule RCQ 03312016(1 of 2).txt\n",
      "C:\\Users\\whill\\call-report-database\\Bulk_Files\\2016\\03_31\\FFIEC CDR Call Schedule RCQ 03312016(2 of 2).txt\n",
      "C:\\Users\\whill\\call-report-database\\Bulk_Files\\2016\\03_31\\FFIEC CDR Call Schedule RCRI 03312016.txt\n",
      "C:\\Users\\whill\\call-report-database\\Bulk_Files\\2016\\03_31\\FFIEC CDR Call Schedule RCRII 03312016(1 of 3).txt\n",
      "C:\\Users\\whill\\call-report-database\\Bulk_Files\\2016\\03_31\\FFIEC CDR Call Schedule RCRII 03312016(2 of 3).txt\n",
      "C:\\Users\\whill\\call-report-database\\Bulk_Files\\2016\\03_31\\FFIEC CDR Call Schedule RCRII 03312016(3 of 3).txt\n",
      "C:\\Users\\whill\\call-report-database\\Bulk_Files\\2016\\03_31\\FFIEC CDR Call Schedule RCS 03312016.txt\n",
      "C:\\Users\\whill\\call-report-database\\Bulk_Files\\2016\\03_31\\FFIEC CDR Call Schedule RCT 03312016(1 of 2).txt\n",
      "C:\\Users\\whill\\call-report-database\\Bulk_Files\\2016\\03_31\\FFIEC CDR Call Schedule RCT 03312016(2 of 2).txt\n",
      "C:\\Users\\whill\\call-report-database\\Bulk_Files\\2016\\03_31\\FFIEC CDR Call Schedule RCV 03312016.txt\n",
      "C:\\Users\\whill\\call-report-database\\Bulk_Files\\2016\\03_31\\FFIEC CDR Call Schedule RI 03312016.txt\n",
      "C:\\Users\\whill\\call-report-database\\Bulk_Files\\2016\\03_31\\FFIEC CDR Call Schedule RIA 03312016.txt\n",
      "C:\\Users\\whill\\call-report-database\\Bulk_Files\\2016\\03_31\\FFIEC CDR Call Schedule RIBI 03312016.txt\n",
      "C:\\Users\\whill\\call-report-database\\Bulk_Files\\2016\\03_31\\FFIEC CDR Call Schedule RIBII 03312016.txt\n",
      "C:\\Users\\whill\\call-report-database\\Bulk_Files\\2016\\03_31\\FFIEC CDR Call Schedule RIC 03312016.txt\n",
      "C:\\Users\\whill\\call-report-database\\Bulk_Files\\2016\\03_31\\FFIEC CDR Call Schedule RID 03312016.txt\n",
      "C:\\Users\\whill\\call-report-database\\Bulk_Files\\2016\\03_31\\FFIEC CDR Call Schedule RIE 03312016.txt\n"
     ]
    },
    {
     "name": "stderr",
     "output_type": "stream",
     "text": [
      "C:\\Users\\whill\\anaconda3\\lib\\site-packages\\snowflake\\snowpark\\session.py:1891: UserWarning: Pandas Dataframe has non-standard index of type <class 'pandas.core.indexes.numeric.Int64Index'> which will not be written. Consider changing the index to pd.RangeIndex(start=0,...,step=1) or call reset_index() to keep index as column(s)\n",
      "  success, nchunks, nrows, ci_output = write_pandas(\n"
     ]
    },
    {
     "name": "stdout",
     "output_type": "stream",
     "text": [
      "536501 values inserted into table SCHEDULE_ENT\n"
     ]
    },
    {
     "name": "stderr",
     "output_type": "stream",
     "text": [
      "C:\\Users\\whill\\anaconda3\\lib\\site-packages\\snowflake\\snowpark\\session.py:1891: UserWarning: Pandas Dataframe has non-standard index of type <class 'pandas.core.indexes.numeric.Int64Index'> which will not be written. Consider changing the index to pd.RangeIndex(start=0,...,step=1) or call reset_index() to keep index as column(s)\n",
      "  success, nchunks, nrows, ci_output = write_pandas(\n"
     ]
    },
    {
     "name": "stdout",
     "output_type": "stream",
     "text": [
      "536501 values inserted into table SCHEDULE_LEO\n"
     ]
    },
    {
     "name": "stderr",
     "output_type": "stream",
     "text": [
      "C:\\Users\\whill\\anaconda3\\lib\\site-packages\\snowflake\\snowpark\\session.py:1891: UserWarning: Pandas Dataframe has non-standard index of type <class 'pandas.core.indexes.numeric.Int64Index'> which will not be written. Consider changing the index to pd.RangeIndex(start=0,...,step=1) or call reset_index() to keep index as column(s)\n",
      "  success, nchunks, nrows, ci_output = write_pandas(\n"
     ]
    },
    {
     "name": "stdout",
     "output_type": "stream",
     "text": [
      "536501 values inserted into table SCHEDULE_RCEI\n"
     ]
    },
    {
     "name": "stderr",
     "output_type": "stream",
     "text": [
      "C:\\Users\\whill\\anaconda3\\lib\\site-packages\\snowflake\\snowpark\\session.py:1891: UserWarning: Pandas Dataframe has non-standard index of type <class 'pandas.core.indexes.numeric.Int64Index'> which will not be written. Consider changing the index to pd.RangeIndex(start=0,...,step=1) or call reset_index() to keep index as column(s)\n",
      "  success, nchunks, nrows, ci_output = write_pandas(\n"
     ]
    },
    {
     "name": "stdout",
     "output_type": "stream",
     "text": [
      "536501 values inserted into table SCHEDULE_RCH\n"
     ]
    },
    {
     "name": "stderr",
     "output_type": "stream",
     "text": [
      "C:\\Users\\whill\\anaconda3\\lib\\site-packages\\snowflake\\snowpark\\session.py:1891: UserWarning: Pandas Dataframe has non-standard index of type <class 'pandas.core.indexes.numeric.Int64Index'> which will not be written. Consider changing the index to pd.RangeIndex(start=0,...,step=1) or call reset_index() to keep index as column(s)\n",
      "  success, nchunks, nrows, ci_output = write_pandas(\n"
     ]
    },
    {
     "name": "stdout",
     "output_type": "stream",
     "text": [
      "536501 values inserted into table SCHEDULE_RCL\n"
     ]
    },
    {
     "name": "stderr",
     "output_type": "stream",
     "text": [
      "C:\\Users\\whill\\anaconda3\\lib\\site-packages\\snowflake\\snowpark\\session.py:1891: UserWarning: Pandas Dataframe has non-standard index of type <class 'pandas.core.indexes.numeric.Int64Index'> which will not be written. Consider changing the index to pd.RangeIndex(start=0,...,step=1) or call reset_index() to keep index as column(s)\n",
      "  success, nchunks, nrows, ci_output = write_pandas(\n"
     ]
    },
    {
     "name": "stdout",
     "output_type": "stream",
     "text": [
      "536501 values inserted into table SCHEDULE_RIA\n"
     ]
    },
    {
     "name": "stderr",
     "output_type": "stream",
     "text": [
      "C:\\Users\\whill\\anaconda3\\lib\\site-packages\\snowflake\\snowpark\\session.py:1891: UserWarning: Pandas Dataframe has non-standard index of type <class 'pandas.core.indexes.numeric.Int64Index'> which will not be written. Consider changing the index to pd.RangeIndex(start=0,...,step=1) or call reset_index() to keep index as column(s)\n",
      "  success, nchunks, nrows, ci_output = write_pandas(\n"
     ]
    },
    {
     "name": "stdout",
     "output_type": "stream",
     "text": [
      "536501 values inserted into table SCHEDULE_RIBI\n"
     ]
    },
    {
     "name": "stderr",
     "output_type": "stream",
     "text": [
      "C:\\Users\\whill\\anaconda3\\lib\\site-packages\\snowflake\\snowpark\\session.py:1891: UserWarning: Pandas Dataframe has non-standard index of type <class 'pandas.core.indexes.numeric.Int64Index'> which will not be written. Consider changing the index to pd.RangeIndex(start=0,...,step=1) or call reset_index() to keep index as column(s)\n",
      "  success, nchunks, nrows, ci_output = write_pandas(\n"
     ]
    },
    {
     "name": "stdout",
     "output_type": "stream",
     "text": [
      "536501 values inserted into table SCHEDULE_RI\n"
     ]
    },
    {
     "name": "stderr",
     "output_type": "stream",
     "text": [
      "C:\\Users\\whill\\anaconda3\\lib\\site-packages\\snowflake\\snowpark\\session.py:1891: UserWarning: Pandas Dataframe has non-standard index of type <class 'pandas.core.indexes.numeric.Int64Index'> which will not be written. Consider changing the index to pd.RangeIndex(start=0,...,step=1) or call reset_index() to keep index as column(s)\n",
      "  success, nchunks, nrows, ci_output = write_pandas(\n"
     ]
    },
    {
     "name": "stdout",
     "output_type": "stream",
     "text": [
      "536501 values inserted into table SCHEDULE_RCK\n"
     ]
    },
    {
     "name": "stderr",
     "output_type": "stream",
     "text": [
      "C:\\Users\\whill\\anaconda3\\lib\\site-packages\\snowflake\\snowpark\\session.py:1891: UserWarning: Pandas Dataframe has non-standard index of type <class 'pandas.core.indexes.numeric.Int64Index'> which will not be written. Consider changing the index to pd.RangeIndex(start=0,...,step=1) or call reset_index() to keep index as column(s)\n",
      "  success, nchunks, nrows, ci_output = write_pandas(\n"
     ]
    },
    {
     "name": "stdout",
     "output_type": "stream",
     "text": [
      "536501 values inserted into table SCHEDULE_RCO\n"
     ]
    },
    {
     "name": "stderr",
     "output_type": "stream",
     "text": [
      "C:\\Users\\whill\\anaconda3\\lib\\site-packages\\snowflake\\snowpark\\session.py:1891: UserWarning: Pandas Dataframe has non-standard index of type <class 'pandas.core.indexes.numeric.Int64Index'> which will not be written. Consider changing the index to pd.RangeIndex(start=0,...,step=1) or call reset_index() to keep index as column(s)\n",
      "  success, nchunks, nrows, ci_output = write_pandas(\n"
     ]
    },
    {
     "name": "stdout",
     "output_type": "stream",
     "text": [
      "536501 values inserted into table SCHEDULE_RC\n"
     ]
    },
    {
     "name": "stderr",
     "output_type": "stream",
     "text": [
      "C:\\Users\\whill\\anaconda3\\lib\\site-packages\\snowflake\\snowpark\\session.py:1891: UserWarning: Pandas Dataframe has non-standard index of type <class 'pandas.core.indexes.numeric.Int64Index'> which will not be written. Consider changing the index to pd.RangeIndex(start=0,...,step=1) or call reset_index() to keep index as column(s)\n",
      "  success, nchunks, nrows, ci_output = write_pandas(\n"
     ]
    },
    {
     "name": "stdout",
     "output_type": "stream",
     "text": [
      "536501 values inserted into table SCHEDULE_RCCII\n"
     ]
    },
    {
     "name": "stderr",
     "output_type": "stream",
     "text": [
      "C:\\Users\\whill\\anaconda3\\lib\\site-packages\\snowflake\\snowpark\\session.py:1891: UserWarning: Pandas Dataframe has non-standard index of type <class 'pandas.core.indexes.numeric.Int64Index'> which will not be written. Consider changing the index to pd.RangeIndex(start=0,...,step=1) or call reset_index() to keep index as column(s)\n",
      "  success, nchunks, nrows, ci_output = write_pandas(\n"
     ]
    },
    {
     "name": "stdout",
     "output_type": "stream",
     "text": [
      "536501 values inserted into table SCHEDULE_RCE\n"
     ]
    },
    {
     "name": "stderr",
     "output_type": "stream",
     "text": [
      "C:\\Users\\whill\\anaconda3\\lib\\site-packages\\snowflake\\snowpark\\session.py:1891: UserWarning: Pandas Dataframe has non-standard index of type <class 'pandas.core.indexes.numeric.Int64Index'> which will not be written. Consider changing the index to pd.RangeIndex(start=0,...,step=1) or call reset_index() to keep index as column(s)\n",
      "  success, nchunks, nrows, ci_output = write_pandas(\n"
     ]
    },
    {
     "name": "stdout",
     "output_type": "stream",
     "text": [
      "536501 values inserted into table SCHEDULE_RID\n"
     ]
    },
    {
     "name": "stderr",
     "output_type": "stream",
     "text": [
      "C:\\Users\\whill\\anaconda3\\lib\\site-packages\\snowflake\\snowpark\\session.py:1891: UserWarning: Pandas Dataframe has non-standard index of type <class 'pandas.core.indexes.numeric.Int64Index'> which will not be written. Consider changing the index to pd.RangeIndex(start=0,...,step=1) or call reset_index() to keep index as column(s)\n",
      "  success, nchunks, nrows, ci_output = write_pandas(\n"
     ]
    },
    {
     "name": "stdout",
     "output_type": "stream",
     "text": [
      "536501 values inserted into table SCHEDULE_RIE\n"
     ]
    },
    {
     "name": "stderr",
     "output_type": "stream",
     "text": [
      "C:\\Users\\whill\\anaconda3\\lib\\site-packages\\snowflake\\snowpark\\session.py:1891: UserWarning: Pandas Dataframe has non-standard index of type <class 'pandas.core.indexes.numeric.Int64Index'> which will not be written. Consider changing the index to pd.RangeIndex(start=0,...,step=1) or call reset_index() to keep index as column(s)\n",
      "  success, nchunks, nrows, ci_output = write_pandas(\n"
     ]
    },
    {
     "name": "stdout",
     "output_type": "stream",
     "text": [
      "536501 values inserted into table SCHEDULE_UNDEFINED\n"
     ]
    },
    {
     "name": "stderr",
     "output_type": "stream",
     "text": [
      "C:\\Users\\whill\\anaconda3\\lib\\site-packages\\snowflake\\snowpark\\session.py:1891: UserWarning: Pandas Dataframe has non-standard index of type <class 'pandas.core.indexes.numeric.Int64Index'> which will not be written. Consider changing the index to pd.RangeIndex(start=0,...,step=1) or call reset_index() to keep index as column(s)\n",
      "  success, nchunks, nrows, ci_output = write_pandas(\n"
     ]
    },
    {
     "name": "stdout",
     "output_type": "stream",
     "text": [
      "536501 values inserted into table SCHEDULE_SU\n"
     ]
    },
    {
     "name": "stderr",
     "output_type": "stream",
     "text": [
      "C:\\Users\\whill\\anaconda3\\lib\\site-packages\\snowflake\\snowpark\\session.py:1891: UserWarning: Pandas Dataframe has non-standard index of type <class 'pandas.core.indexes.numeric.Int64Index'> which will not be written. Consider changing the index to pd.RangeIndex(start=0,...,step=1) or call reset_index() to keep index as column(s)\n",
      "  success, nchunks, nrows, ci_output = write_pandas(\n"
     ]
    },
    {
     "name": "stdout",
     "output_type": "stream",
     "text": [
      "536501 values inserted into table SCHEDULE_RCB\n"
     ]
    },
    {
     "name": "stderr",
     "output_type": "stream",
     "text": [
      "C:\\Users\\whill\\anaconda3\\lib\\site-packages\\snowflake\\snowpark\\session.py:1891: UserWarning: Pandas Dataframe has non-standard index of type <class 'pandas.core.indexes.numeric.Int64Index'> which will not be written. Consider changing the index to pd.RangeIndex(start=0,...,step=1) or call reset_index() to keep index as column(s)\n",
      "  success, nchunks, nrows, ci_output = write_pandas(\n"
     ]
    },
    {
     "name": "stdout",
     "output_type": "stream",
     "text": [
      "536501 values inserted into table SCHEDULE_RCCI\n"
     ]
    },
    {
     "name": "stderr",
     "output_type": "stream",
     "text": [
      "C:\\Users\\whill\\anaconda3\\lib\\site-packages\\snowflake\\snowpark\\session.py:1891: UserWarning: Pandas Dataframe has non-standard index of type <class 'pandas.core.indexes.numeric.Int64Index'> which will not be written. Consider changing the index to pd.RangeIndex(start=0,...,step=1) or call reset_index() to keep index as column(s)\n",
      "  success, nchunks, nrows, ci_output = write_pandas(\n"
     ]
    },
    {
     "name": "stdout",
     "output_type": "stream",
     "text": [
      "536501 values inserted into table SCHEDULE_RCEII\n"
     ]
    },
    {
     "name": "stderr",
     "output_type": "stream",
     "text": [
      "C:\\Users\\whill\\anaconda3\\lib\\site-packages\\snowflake\\snowpark\\session.py:1891: UserWarning: Pandas Dataframe has non-standard index of type <class 'pandas.core.indexes.numeric.Int64Index'> which will not be written. Consider changing the index to pd.RangeIndex(start=0,...,step=1) or call reset_index() to keep index as column(s)\n",
      "  success, nchunks, nrows, ci_output = write_pandas(\n"
     ]
    },
    {
     "name": "stdout",
     "output_type": "stream",
     "text": [
      "536501 values inserted into table SCHEDULE_RCG\n"
     ]
    },
    {
     "name": "stderr",
     "output_type": "stream",
     "text": [
      "C:\\Users\\whill\\anaconda3\\lib\\site-packages\\snowflake\\snowpark\\session.py:1891: UserWarning: Pandas Dataframe has non-standard index of type <class 'pandas.core.indexes.numeric.Int64Index'> which will not be written. Consider changing the index to pd.RangeIndex(start=0,...,step=1) or call reset_index() to keep index as column(s)\n",
      "  success, nchunks, nrows, ci_output = write_pandas(\n"
     ]
    },
    {
     "name": "stdout",
     "output_type": "stream",
     "text": [
      "536501 values inserted into table SCHEDULE_RCRII\n"
     ]
    },
    {
     "name": "stderr",
     "output_type": "stream",
     "text": [
      "C:\\Users\\whill\\anaconda3\\lib\\site-packages\\snowflake\\snowpark\\session.py:1891: UserWarning: Pandas Dataframe has non-standard index of type <class 'pandas.core.indexes.numeric.Int64Index'> which will not be written. Consider changing the index to pd.RangeIndex(start=0,...,step=1) or call reset_index() to keep index as column(s)\n",
      "  success, nchunks, nrows, ci_output = write_pandas(\n"
     ]
    },
    {
     "name": "stdout",
     "output_type": "stream",
     "text": [
      "536501 values inserted into table SCHEDULE_RIBII\n"
     ]
    },
    {
     "name": "stderr",
     "output_type": "stream",
     "text": [
      "C:\\Users\\whill\\anaconda3\\lib\\site-packages\\snowflake\\snowpark\\session.py:1891: UserWarning: Pandas Dataframe has non-standard index of type <class 'pandas.core.indexes.numeric.Int64Index'> which will not be written. Consider changing the index to pd.RangeIndex(start=0,...,step=1) or call reset_index() to keep index as column(s)\n",
      "  success, nchunks, nrows, ci_output = write_pandas(\n"
     ]
    },
    {
     "name": "stdout",
     "output_type": "stream",
     "text": [
      "536501 values inserted into table SCHEDULE_RIC\n"
     ]
    },
    {
     "name": "stderr",
     "output_type": "stream",
     "text": [
      "C:\\Users\\whill\\anaconda3\\lib\\site-packages\\snowflake\\snowpark\\session.py:1891: UserWarning: Pandas Dataframe has non-standard index of type <class 'pandas.core.indexes.numeric.Int64Index'> which will not be written. Consider changing the index to pd.RangeIndex(start=0,...,step=1) or call reset_index() to keep index as column(s)\n",
      "  success, nchunks, nrows, ci_output = write_pandas(\n"
     ]
    },
    {
     "name": "stdout",
     "output_type": "stream",
     "text": [
      "536501 values inserted into table SCHEDULE_RCD\n"
     ]
    },
    {
     "name": "stderr",
     "output_type": "stream",
     "text": [
      "C:\\Users\\whill\\anaconda3\\lib\\site-packages\\snowflake\\snowpark\\session.py:1891: UserWarning: Pandas Dataframe has non-standard index of type <class 'pandas.core.indexes.numeric.Int64Index'> which will not be written. Consider changing the index to pd.RangeIndex(start=0,...,step=1) or call reset_index() to keep index as column(s)\n",
      "  success, nchunks, nrows, ci_output = write_pandas(\n"
     ]
    },
    {
     "name": "stdout",
     "output_type": "stream",
     "text": [
      "536501 values inserted into table SCHEDULE_RCM\n"
     ]
    },
    {
     "name": "stderr",
     "output_type": "stream",
     "text": [
      "C:\\Users\\whill\\anaconda3\\lib\\site-packages\\snowflake\\snowpark\\session.py:1891: UserWarning: Pandas Dataframe has non-standard index of type <class 'pandas.core.indexes.numeric.Int64Index'> which will not be written. Consider changing the index to pd.RangeIndex(start=0,...,step=1) or call reset_index() to keep index as column(s)\n",
      "  success, nchunks, nrows, ci_output = write_pandas(\n"
     ]
    },
    {
     "name": "stdout",
     "output_type": "stream",
     "text": [
      "Error in table SCHEDULE_RCRI: 100071 (22000): Failed to cast variant value \"8.0234%\" to REAL\n"
     ]
    },
    {
     "name": "stderr",
     "output_type": "stream",
     "text": [
      "C:\\Users\\whill\\anaconda3\\lib\\site-packages\\snowflake\\snowpark\\session.py:1891: UserWarning: Pandas Dataframe has non-standard index of type <class 'pandas.core.indexes.numeric.Int64Index'> which will not be written. Consider changing the index to pd.RangeIndex(start=0,...,step=1) or call reset_index() to keep index as column(s)\n",
      "  success, nchunks, nrows, ci_output = write_pandas(\n"
     ]
    },
    {
     "name": "stdout",
     "output_type": "stream",
     "text": [
      "536501 values inserted into table SCHEDULE_RCT\n"
     ]
    },
    {
     "name": "stderr",
     "output_type": "stream",
     "text": [
      "C:\\Users\\whill\\anaconda3\\lib\\site-packages\\snowflake\\snowpark\\session.py:1891: UserWarning: Pandas Dataframe has non-standard index of type <class 'pandas.core.indexes.numeric.Int64Index'> which will not be written. Consider changing the index to pd.RangeIndex(start=0,...,step=1) or call reset_index() to keep index as column(s)\n",
      "  success, nchunks, nrows, ci_output = write_pandas(\n"
     ]
    },
    {
     "name": "stdout",
     "output_type": "stream",
     "text": [
      "536501 values inserted into table SCHEDULE_RCV\n"
     ]
    },
    {
     "name": "stderr",
     "output_type": "stream",
     "text": [
      "C:\\Users\\whill\\anaconda3\\lib\\site-packages\\snowflake\\snowpark\\session.py:1891: UserWarning: Pandas Dataframe has non-standard index of type <class 'pandas.core.indexes.numeric.Int64Index'> which will not be written. Consider changing the index to pd.RangeIndex(start=0,...,step=1) or call reset_index() to keep index as column(s)\n",
      "  success, nchunks, nrows, ci_output = write_pandas(\n"
     ]
    },
    {
     "name": "stdout",
     "output_type": "stream",
     "text": [
      "536501 values inserted into table SCHEDULE_RCA\n"
     ]
    },
    {
     "name": "stderr",
     "output_type": "stream",
     "text": [
      "C:\\Users\\whill\\anaconda3\\lib\\site-packages\\snowflake\\snowpark\\session.py:1891: UserWarning: Pandas Dataframe has non-standard index of type <class 'pandas.core.indexes.numeric.Int64Index'> which will not be written. Consider changing the index to pd.RangeIndex(start=0,...,step=1) or call reset_index() to keep index as column(s)\n",
      "  success, nchunks, nrows, ci_output = write_pandas(\n"
     ]
    },
    {
     "name": "stdout",
     "output_type": "stream",
     "text": [
      "536501 values inserted into table SCHEDULE_RCF\n"
     ]
    },
    {
     "name": "stderr",
     "output_type": "stream",
     "text": [
      "C:\\Users\\whill\\anaconda3\\lib\\site-packages\\snowflake\\snowpark\\session.py:1891: UserWarning: Pandas Dataframe has non-standard index of type <class 'pandas.core.indexes.numeric.Int64Index'> which will not be written. Consider changing the index to pd.RangeIndex(start=0,...,step=1) or call reset_index() to keep index as column(s)\n",
      "  success, nchunks, nrows, ci_output = write_pandas(\n"
     ]
    },
    {
     "name": "stdout",
     "output_type": "stream",
     "text": [
      "536501 values inserted into table SCHEDULE_RCN\n"
     ]
    },
    {
     "name": "stderr",
     "output_type": "stream",
     "text": [
      "C:\\Users\\whill\\anaconda3\\lib\\site-packages\\snowflake\\snowpark\\session.py:1891: UserWarning: Pandas Dataframe has non-standard index of type <class 'pandas.core.indexes.numeric.Int64Index'> which will not be written. Consider changing the index to pd.RangeIndex(start=0,...,step=1) or call reset_index() to keep index as column(s)\n",
      "  success, nchunks, nrows, ci_output = write_pandas(\n"
     ]
    },
    {
     "name": "stdout",
     "output_type": "stream",
     "text": [
      "536501 values inserted into table SCHEDULE_RCP\n"
     ]
    },
    {
     "name": "stderr",
     "output_type": "stream",
     "text": [
      "C:\\Users\\whill\\anaconda3\\lib\\site-packages\\snowflake\\snowpark\\session.py:1891: UserWarning: Pandas Dataframe has non-standard index of type <class 'pandas.core.indexes.numeric.Int64Index'> which will not be written. Consider changing the index to pd.RangeIndex(start=0,...,step=1) or call reset_index() to keep index as column(s)\n",
      "  success, nchunks, nrows, ci_output = write_pandas(\n"
     ]
    },
    {
     "name": "stdout",
     "output_type": "stream",
     "text": [
      "536501 values inserted into table SCHEDULE_RCQ\n"
     ]
    },
    {
     "name": "stderr",
     "output_type": "stream",
     "text": [
      "C:\\Users\\whill\\anaconda3\\lib\\site-packages\\snowflake\\snowpark\\session.py:1891: UserWarning: Pandas Dataframe has non-standard index of type <class 'pandas.core.indexes.numeric.Int64Index'> which will not be written. Consider changing the index to pd.RangeIndex(start=0,...,step=1) or call reset_index() to keep index as column(s)\n",
      "  success, nchunks, nrows, ci_output = write_pandas(\n"
     ]
    },
    {
     "name": "stdout",
     "output_type": "stream",
     "text": [
      "536501 values inserted into table SCHEDULE_RCR\n"
     ]
    },
    {
     "name": "stderr",
     "output_type": "stream",
     "text": [
      "C:\\Users\\whill\\anaconda3\\lib\\site-packages\\snowflake\\snowpark\\session.py:1891: UserWarning: Pandas Dataframe has non-standard index of type <class 'pandas.core.indexes.numeric.Int64Index'> which will not be written. Consider changing the index to pd.RangeIndex(start=0,...,step=1) or call reset_index() to keep index as column(s)\n",
      "  success, nchunks, nrows, ci_output = write_pandas(\n"
     ]
    },
    {
     "name": "stdout",
     "output_type": "stream",
     "text": [
      "536501 values inserted into table SCHEDULE_RICII\n"
     ]
    },
    {
     "name": "stderr",
     "output_type": "stream",
     "text": [
      "C:\\Users\\whill\\anaconda3\\lib\\site-packages\\snowflake\\snowpark\\session.py:1891: UserWarning: Pandas Dataframe has non-standard index of type <class 'pandas.core.indexes.numeric.Int64Index'> which will not be written. Consider changing the index to pd.RangeIndex(start=0,...,step=1) or call reset_index() to keep index as column(s)\n",
      "  success, nchunks, nrows, ci_output = write_pandas(\n"
     ]
    },
    {
     "name": "stdout",
     "output_type": "stream",
     "text": [
      "536501 values inserted into table SCHEDULE_NARR\n"
     ]
    },
    {
     "name": "stderr",
     "output_type": "stream",
     "text": [
      "C:\\Users\\whill\\anaconda3\\lib\\site-packages\\snowflake\\snowpark\\session.py:1891: UserWarning: Pandas Dataframe has non-standard index of type <class 'pandas.core.indexes.numeric.Int64Index'> which will not be written. Consider changing the index to pd.RangeIndex(start=0,...,step=1) or call reset_index() to keep index as column(s)\n",
      "  success, nchunks, nrows, ci_output = write_pandas(\n"
     ]
    },
    {
     "name": "stdout",
     "output_type": "stream",
     "text": [
      "536501 values inserted into table SCHEDULE_RCI\n"
     ]
    },
    {
     "name": "stderr",
     "output_type": "stream",
     "text": [
      "C:\\Users\\whill\\anaconda3\\lib\\site-packages\\snowflake\\snowpark\\session.py:1891: UserWarning: Pandas Dataframe has non-standard index of type <class 'pandas.core.indexes.numeric.Int64Index'> which will not be written. Consider changing the index to pd.RangeIndex(start=0,...,step=1) or call reset_index() to keep index as column(s)\n",
      "  success, nchunks, nrows, ci_output = write_pandas(\n"
     ]
    },
    {
     "name": "stdout",
     "output_type": "stream",
     "text": [
      "536501 values inserted into table SCHEDULE_RICI\n"
     ]
    },
    {
     "name": "stderr",
     "output_type": "stream",
     "text": [
      "C:\\Users\\whill\\anaconda3\\lib\\site-packages\\snowflake\\snowpark\\session.py:1891: UserWarning: Pandas Dataframe has non-standard index of type <class 'pandas.core.indexes.numeric.Int64Index'> which will not be written. Consider changing the index to pd.RangeIndex(start=0,...,step=1) or call reset_index() to keep index as column(s)\n",
      "  success, nchunks, nrows, ci_output = write_pandas(\n"
     ]
    },
    {
     "name": "stdout",
     "output_type": "stream",
     "text": [
      "536501 values inserted into table SCHEDULE_RCS\n",
      "C:\\Users\\whill\\call-report-database\\Bulk_Files\\2016\\06_30\\FFIEC CDR Call Schedule CI 06302016.txt\n",
      "C:\\Users\\whill\\call-report-database\\Bulk_Files\\2016\\06_30\\FFIEC CDR Call Schedule ENT 06302016.txt\n",
      "C:\\Users\\whill\\call-report-database\\Bulk_Files\\2016\\06_30\\FFIEC CDR Call Schedule NARR 06302016.txt\n",
      "C:\\Users\\whill\\call-report-database\\Bulk_Files\\2016\\06_30\\FFIEC CDR Call Schedule RC 06302016.txt\n",
      "C:\\Users\\whill\\call-report-database\\Bulk_Files\\2016\\06_30\\FFIEC CDR Call Schedule RCA 06302016.txt\n",
      "C:\\Users\\whill\\call-report-database\\Bulk_Files\\2016\\06_30\\FFIEC CDR Call Schedule RCB 06302016(1 of 2).txt\n",
      "C:\\Users\\whill\\call-report-database\\Bulk_Files\\2016\\06_30\\FFIEC CDR Call Schedule RCB 06302016(2 of 2).txt\n",
      "C:\\Users\\whill\\call-report-database\\Bulk_Files\\2016\\06_30\\FFIEC CDR Call Schedule RCCI 06302016.txt\n",
      "C:\\Users\\whill\\call-report-database\\Bulk_Files\\2016\\06_30\\FFIEC CDR Call Schedule RCCII 06302016.txt\n",
      "C:\\Users\\whill\\call-report-database\\Bulk_Files\\2016\\06_30\\FFIEC CDR Call Schedule RCD 06302016.txt\n",
      "C:\\Users\\whill\\call-report-database\\Bulk_Files\\2016\\06_30\\FFIEC CDR Call Schedule RCE 06302016.txt\n",
      "C:\\Users\\whill\\call-report-database\\Bulk_Files\\2016\\06_30\\FFIEC CDR Call Schedule RCEI 06302016.txt\n",
      "C:\\Users\\whill\\call-report-database\\Bulk_Files\\2016\\06_30\\FFIEC CDR Call Schedule RCEII 06302016.txt\n",
      "C:\\Users\\whill\\call-report-database\\Bulk_Files\\2016\\06_30\\FFIEC CDR Call Schedule RCF 06302016.txt\n",
      "C:\\Users\\whill\\call-report-database\\Bulk_Files\\2016\\06_30\\FFIEC CDR Call Schedule RCG 06302016.txt\n",
      "C:\\Users\\whill\\call-report-database\\Bulk_Files\\2016\\06_30\\FFIEC CDR Call Schedule RCH 06302016.txt\n",
      "C:\\Users\\whill\\call-report-database\\Bulk_Files\\2016\\06_30\\FFIEC CDR Call Schedule RCI 06302016.txt\n",
      "C:\\Users\\whill\\call-report-database\\Bulk_Files\\2016\\06_30\\FFIEC CDR Call Schedule RCK 06302016.txt\n",
      "C:\\Users\\whill\\call-report-database\\Bulk_Files\\2016\\06_30\\FFIEC CDR Call Schedule RCL 06302016(1 of 2).txt\n",
      "C:\\Users\\whill\\call-report-database\\Bulk_Files\\2016\\06_30\\FFIEC CDR Call Schedule RCL 06302016(2 of 2).txt\n",
      "C:\\Users\\whill\\call-report-database\\Bulk_Files\\2016\\06_30\\FFIEC CDR Call Schedule RCM 06302016.txt\n",
      "C:\\Users\\whill\\call-report-database\\Bulk_Files\\2016\\06_30\\FFIEC CDR Call Schedule RCN 06302016(1 of 2).txt\n",
      "C:\\Users\\whill\\call-report-database\\Bulk_Files\\2016\\06_30\\FFIEC CDR Call Schedule RCN 06302016(2 of 2).txt\n",
      "C:\\Users\\whill\\call-report-database\\Bulk_Files\\2016\\06_30\\FFIEC CDR Call Schedule RCO 06302016(1 of 2).txt\n",
      "C:\\Users\\whill\\call-report-database\\Bulk_Files\\2016\\06_30\\FFIEC CDR Call Schedule RCO 06302016(2 of 2).txt\n",
      "C:\\Users\\whill\\call-report-database\\Bulk_Files\\2016\\06_30\\FFIEC CDR Call Schedule RCP 06302016.txt\n",
      "C:\\Users\\whill\\call-report-database\\Bulk_Files\\2016\\06_30\\FFIEC CDR Call Schedule RCQ 06302016(1 of 2).txt\n",
      "C:\\Users\\whill\\call-report-database\\Bulk_Files\\2016\\06_30\\FFIEC CDR Call Schedule RCQ 06302016(2 of 2).txt\n",
      "C:\\Users\\whill\\call-report-database\\Bulk_Files\\2016\\06_30\\FFIEC CDR Call Schedule RCRI 06302016.txt\n",
      "C:\\Users\\whill\\call-report-database\\Bulk_Files\\2016\\06_30\\FFIEC CDR Call Schedule RCRII 06302016(1 of 3).txt\n",
      "C:\\Users\\whill\\call-report-database\\Bulk_Files\\2016\\06_30\\FFIEC CDR Call Schedule RCRII 06302016(2 of 3).txt\n",
      "C:\\Users\\whill\\call-report-database\\Bulk_Files\\2016\\06_30\\FFIEC CDR Call Schedule RCRII 06302016(3 of 3).txt\n",
      "C:\\Users\\whill\\call-report-database\\Bulk_Files\\2016\\06_30\\FFIEC CDR Call Schedule RCS 06302016.txt\n",
      "C:\\Users\\whill\\call-report-database\\Bulk_Files\\2016\\06_30\\FFIEC CDR Call Schedule RCT 06302016(1 of 2).txt\n",
      "C:\\Users\\whill\\call-report-database\\Bulk_Files\\2016\\06_30\\FFIEC CDR Call Schedule RCT 06302016(2 of 2).txt\n",
      "C:\\Users\\whill\\call-report-database\\Bulk_Files\\2016\\06_30\\FFIEC CDR Call Schedule RCV 06302016.txt\n",
      "C:\\Users\\whill\\call-report-database\\Bulk_Files\\2016\\06_30\\FFIEC CDR Call Schedule RI 06302016.txt\n",
      "C:\\Users\\whill\\call-report-database\\Bulk_Files\\2016\\06_30\\FFIEC CDR Call Schedule RIA 06302016.txt\n",
      "C:\\Users\\whill\\call-report-database\\Bulk_Files\\2016\\06_30\\FFIEC CDR Call Schedule RIBI 06302016.txt\n",
      "C:\\Users\\whill\\call-report-database\\Bulk_Files\\2016\\06_30\\FFIEC CDR Call Schedule RIBII 06302016.txt\n",
      "C:\\Users\\whill\\call-report-database\\Bulk_Files\\2016\\06_30\\FFIEC CDR Call Schedule RIC 06302016.txt\n",
      "C:\\Users\\whill\\call-report-database\\Bulk_Files\\2016\\06_30\\FFIEC CDR Call Schedule RID 06302016.txt\n",
      "C:\\Users\\whill\\call-report-database\\Bulk_Files\\2016\\06_30\\FFIEC CDR Call Schedule RIE 06302016.txt\n"
     ]
    },
    {
     "name": "stderr",
     "output_type": "stream",
     "text": [
      "C:\\Users\\whill\\anaconda3\\lib\\site-packages\\snowflake\\snowpark\\session.py:1891: UserWarning: Pandas Dataframe has non-standard index of type <class 'pandas.core.indexes.numeric.Int64Index'> which will not be written. Consider changing the index to pd.RangeIndex(start=0,...,step=1) or call reset_index() to keep index as column(s)\n",
      "  success, nchunks, nrows, ci_output = write_pandas(\n"
     ]
    },
    {
     "name": "stdout",
     "output_type": "stream",
     "text": [
      "542613 values inserted into table SCHEDULE_NARR\n"
     ]
    },
    {
     "name": "stderr",
     "output_type": "stream",
     "text": [
      "C:\\Users\\whill\\anaconda3\\lib\\site-packages\\snowflake\\snowpark\\session.py:1891: UserWarning: Pandas Dataframe has non-standard index of type <class 'pandas.core.indexes.numeric.Int64Index'> which will not be written. Consider changing the index to pd.RangeIndex(start=0,...,step=1) or call reset_index() to keep index as column(s)\n",
      "  success, nchunks, nrows, ci_output = write_pandas(\n"
     ]
    },
    {
     "name": "stdout",
     "output_type": "stream",
     "text": [
      "542613 values inserted into table SCHEDULE_RCCII\n"
     ]
    },
    {
     "name": "stderr",
     "output_type": "stream",
     "text": [
      "C:\\Users\\whill\\anaconda3\\lib\\site-packages\\snowflake\\snowpark\\session.py:1891: UserWarning: Pandas Dataframe has non-standard index of type <class 'pandas.core.indexes.numeric.Int64Index'> which will not be written. Consider changing the index to pd.RangeIndex(start=0,...,step=1) or call reset_index() to keep index as column(s)\n",
      "  success, nchunks, nrows, ci_output = write_pandas(\n"
     ]
    },
    {
     "name": "stdout",
     "output_type": "stream",
     "text": [
      "542613 values inserted into table SCHEDULE_RCEI\n"
     ]
    },
    {
     "name": "stderr",
     "output_type": "stream",
     "text": [
      "C:\\Users\\whill\\anaconda3\\lib\\site-packages\\snowflake\\snowpark\\session.py:1891: UserWarning: Pandas Dataframe has non-standard index of type <class 'pandas.core.indexes.numeric.Int64Index'> which will not be written. Consider changing the index to pd.RangeIndex(start=0,...,step=1) or call reset_index() to keep index as column(s)\n",
      "  success, nchunks, nrows, ci_output = write_pandas(\n"
     ]
    },
    {
     "name": "stdout",
     "output_type": "stream",
     "text": [
      "542613 values inserted into table SCHEDULE_RCH\n"
     ]
    },
    {
     "name": "stderr",
     "output_type": "stream",
     "text": [
      "C:\\Users\\whill\\anaconda3\\lib\\site-packages\\snowflake\\snowpark\\session.py:1891: UserWarning: Pandas Dataframe has non-standard index of type <class 'pandas.core.indexes.numeric.Int64Index'> which will not be written. Consider changing the index to pd.RangeIndex(start=0,...,step=1) or call reset_index() to keep index as column(s)\n",
      "  success, nchunks, nrows, ci_output = write_pandas(\n"
     ]
    },
    {
     "name": "stdout",
     "output_type": "stream",
     "text": [
      "542613 values inserted into table SCHEDULE_RCK\n"
     ]
    },
    {
     "name": "stderr",
     "output_type": "stream",
     "text": [
      "C:\\Users\\whill\\anaconda3\\lib\\site-packages\\snowflake\\snowpark\\session.py:1891: UserWarning: Pandas Dataframe has non-standard index of type <class 'pandas.core.indexes.numeric.Int64Index'> which will not be written. Consider changing the index to pd.RangeIndex(start=0,...,step=1) or call reset_index() to keep index as column(s)\n",
      "  success, nchunks, nrows, ci_output = write_pandas(\n"
     ]
    },
    {
     "name": "stdout",
     "output_type": "stream",
     "text": [
      "542613 values inserted into table SCHEDULE_RCM\n"
     ]
    },
    {
     "name": "stderr",
     "output_type": "stream",
     "text": [
      "C:\\Users\\whill\\anaconda3\\lib\\site-packages\\snowflake\\snowpark\\session.py:1891: UserWarning: Pandas Dataframe has non-standard index of type <class 'pandas.core.indexes.numeric.Int64Index'> which will not be written. Consider changing the index to pd.RangeIndex(start=0,...,step=1) or call reset_index() to keep index as column(s)\n",
      "  success, nchunks, nrows, ci_output = write_pandas(\n"
     ]
    },
    {
     "name": "stdout",
     "output_type": "stream",
     "text": [
      "542613 values inserted into table SCHEDULE_RCRII\n"
     ]
    },
    {
     "name": "stderr",
     "output_type": "stream",
     "text": [
      "C:\\Users\\whill\\anaconda3\\lib\\site-packages\\snowflake\\snowpark\\session.py:1891: UserWarning: Pandas Dataframe has non-standard index of type <class 'pandas.core.indexes.numeric.Int64Index'> which will not be written. Consider changing the index to pd.RangeIndex(start=0,...,step=1) or call reset_index() to keep index as column(s)\n",
      "  success, nchunks, nrows, ci_output = write_pandas(\n"
     ]
    },
    {
     "name": "stdout",
     "output_type": "stream",
     "text": [
      "542613 values inserted into table SCHEDULE_RCG\n"
     ]
    },
    {
     "name": "stderr",
     "output_type": "stream",
     "text": [
      "C:\\Users\\whill\\anaconda3\\lib\\site-packages\\snowflake\\snowpark\\session.py:1891: UserWarning: Pandas Dataframe has non-standard index of type <class 'pandas.core.indexes.numeric.Int64Index'> which will not be written. Consider changing the index to pd.RangeIndex(start=0,...,step=1) or call reset_index() to keep index as column(s)\n",
      "  success, nchunks, nrows, ci_output = write_pandas(\n"
     ]
    },
    {
     "name": "stdout",
     "output_type": "stream",
     "text": [
      "542613 values inserted into table SCHEDULE_UNDEFINED\n"
     ]
    },
    {
     "name": "stderr",
     "output_type": "stream",
     "text": [
      "C:\\Users\\whill\\anaconda3\\lib\\site-packages\\snowflake\\snowpark\\session.py:1891: UserWarning: Pandas Dataframe has non-standard index of type <class 'pandas.core.indexes.numeric.Int64Index'> which will not be written. Consider changing the index to pd.RangeIndex(start=0,...,step=1) or call reset_index() to keep index as column(s)\n",
      "  success, nchunks, nrows, ci_output = write_pandas(\n"
     ]
    },
    {
     "name": "stdout",
     "output_type": "stream",
     "text": [
      "542613 values inserted into table SCHEDULE_RICI\n"
     ]
    },
    {
     "name": "stderr",
     "output_type": "stream",
     "text": [
      "C:\\Users\\whill\\anaconda3\\lib\\site-packages\\snowflake\\snowpark\\session.py:1891: UserWarning: Pandas Dataframe has non-standard index of type <class 'pandas.core.indexes.numeric.Int64Index'> which will not be written. Consider changing the index to pd.RangeIndex(start=0,...,step=1) or call reset_index() to keep index as column(s)\n",
      "  success, nchunks, nrows, ci_output = write_pandas(\n"
     ]
    },
    {
     "name": "stdout",
     "output_type": "stream",
     "text": [
      "542613 values inserted into table SCHEDULE_RCF\n"
     ]
    },
    {
     "name": "stderr",
     "output_type": "stream",
     "text": [
      "C:\\Users\\whill\\anaconda3\\lib\\site-packages\\snowflake\\snowpark\\session.py:1891: UserWarning: Pandas Dataframe has non-standard index of type <class 'pandas.core.indexes.numeric.Int64Index'> which will not be written. Consider changing the index to pd.RangeIndex(start=0,...,step=1) or call reset_index() to keep index as column(s)\n",
      "  success, nchunks, nrows, ci_output = write_pandas(\n"
     ]
    },
    {
     "name": "stdout",
     "output_type": "stream",
     "text": [
      "542613 values inserted into table SCHEDULE_RCI\n"
     ]
    },
    {
     "name": "stderr",
     "output_type": "stream",
     "text": [
      "C:\\Users\\whill\\anaconda3\\lib\\site-packages\\snowflake\\snowpark\\session.py:1891: UserWarning: Pandas Dataframe has non-standard index of type <class 'pandas.core.indexes.numeric.Int64Index'> which will not be written. Consider changing the index to pd.RangeIndex(start=0,...,step=1) or call reset_index() to keep index as column(s)\n",
      "  success, nchunks, nrows, ci_output = write_pandas(\n"
     ]
    },
    {
     "name": "stdout",
     "output_type": "stream",
     "text": [
      "542613 values inserted into table SCHEDULE_RI\n"
     ]
    },
    {
     "name": "stderr",
     "output_type": "stream",
     "text": [
      "C:\\Users\\whill\\anaconda3\\lib\\site-packages\\snowflake\\snowpark\\session.py:1891: UserWarning: Pandas Dataframe has non-standard index of type <class 'pandas.core.indexes.numeric.Int64Index'> which will not be written. Consider changing the index to pd.RangeIndex(start=0,...,step=1) or call reset_index() to keep index as column(s)\n",
      "  success, nchunks, nrows, ci_output = write_pandas(\n"
     ]
    },
    {
     "name": "stdout",
     "output_type": "stream",
     "text": [
      "542613 values inserted into table SCHEDULE_RCN\n"
     ]
    },
    {
     "name": "stderr",
     "output_type": "stream",
     "text": [
      "C:\\Users\\whill\\anaconda3\\lib\\site-packages\\snowflake\\snowpark\\session.py:1891: UserWarning: Pandas Dataframe has non-standard index of type <class 'pandas.core.indexes.numeric.Int64Index'> which will not be written. Consider changing the index to pd.RangeIndex(start=0,...,step=1) or call reset_index() to keep index as column(s)\n",
      "  success, nchunks, nrows, ci_output = write_pandas(\n"
     ]
    },
    {
     "name": "stdout",
     "output_type": "stream",
     "text": [
      "542613 values inserted into table SCHEDULE_RIA\n"
     ]
    },
    {
     "name": "stderr",
     "output_type": "stream",
     "text": [
      "C:\\Users\\whill\\anaconda3\\lib\\site-packages\\snowflake\\snowpark\\session.py:1891: UserWarning: Pandas Dataframe has non-standard index of type <class 'pandas.core.indexes.numeric.Int64Index'> which will not be written. Consider changing the index to pd.RangeIndex(start=0,...,step=1) or call reset_index() to keep index as column(s)\n",
      "  success, nchunks, nrows, ci_output = write_pandas(\n"
     ]
    },
    {
     "name": "stdout",
     "output_type": "stream",
     "text": [
      "542613 values inserted into table SCHEDULE_RC\n"
     ]
    },
    {
     "name": "stderr",
     "output_type": "stream",
     "text": [
      "C:\\Users\\whill\\anaconda3\\lib\\site-packages\\snowflake\\snowpark\\session.py:1891: UserWarning: Pandas Dataframe has non-standard index of type <class 'pandas.core.indexes.numeric.Int64Index'> which will not be written. Consider changing the index to pd.RangeIndex(start=0,...,step=1) or call reset_index() to keep index as column(s)\n",
      "  success, nchunks, nrows, ci_output = write_pandas(\n"
     ]
    },
    {
     "name": "stdout",
     "output_type": "stream",
     "text": [
      "542613 values inserted into table SCHEDULE_RCB\n"
     ]
    },
    {
     "name": "stderr",
     "output_type": "stream",
     "text": [
      "C:\\Users\\whill\\anaconda3\\lib\\site-packages\\snowflake\\snowpark\\session.py:1891: UserWarning: Pandas Dataframe has non-standard index of type <class 'pandas.core.indexes.numeric.Int64Index'> which will not be written. Consider changing the index to pd.RangeIndex(start=0,...,step=1) or call reset_index() to keep index as column(s)\n",
      "  success, nchunks, nrows, ci_output = write_pandas(\n"
     ]
    },
    {
     "name": "stdout",
     "output_type": "stream",
     "text": [
      "542613 values inserted into table SCHEDULE_RCCI\n"
     ]
    },
    {
     "name": "stderr",
     "output_type": "stream",
     "text": [
      "C:\\Users\\whill\\anaconda3\\lib\\site-packages\\snowflake\\snowpark\\session.py:1891: UserWarning: Pandas Dataframe has non-standard index of type <class 'pandas.core.indexes.numeric.Int64Index'> which will not be written. Consider changing the index to pd.RangeIndex(start=0,...,step=1) or call reset_index() to keep index as column(s)\n",
      "  success, nchunks, nrows, ci_output = write_pandas(\n"
     ]
    },
    {
     "name": "stdout",
     "output_type": "stream",
     "text": [
      "542613 values inserted into table SCHEDULE_RCE\n"
     ]
    },
    {
     "name": "stderr",
     "output_type": "stream",
     "text": [
      "C:\\Users\\whill\\anaconda3\\lib\\site-packages\\snowflake\\snowpark\\session.py:1891: UserWarning: Pandas Dataframe has non-standard index of type <class 'pandas.core.indexes.numeric.Int64Index'> which will not be written. Consider changing the index to pd.RangeIndex(start=0,...,step=1) or call reset_index() to keep index as column(s)\n",
      "  success, nchunks, nrows, ci_output = write_pandas(\n"
     ]
    },
    {
     "name": "stdout",
     "output_type": "stream",
     "text": [
      "542613 values inserted into table SCHEDULE_RCL\n"
     ]
    },
    {
     "name": "stderr",
     "output_type": "stream",
     "text": [
      "C:\\Users\\whill\\anaconda3\\lib\\site-packages\\snowflake\\snowpark\\session.py:1891: UserWarning: Pandas Dataframe has non-standard index of type <class 'pandas.core.indexes.numeric.Int64Index'> which will not be written. Consider changing the index to pd.RangeIndex(start=0,...,step=1) or call reset_index() to keep index as column(s)\n",
      "  success, nchunks, nrows, ci_output = write_pandas(\n"
     ]
    },
    {
     "name": "stdout",
     "output_type": "stream",
     "text": [
      "542613 values inserted into table SCHEDULE_RCO\n"
     ]
    },
    {
     "name": "stderr",
     "output_type": "stream",
     "text": [
      "C:\\Users\\whill\\anaconda3\\lib\\site-packages\\snowflake\\snowpark\\session.py:1891: UserWarning: Pandas Dataframe has non-standard index of type <class 'pandas.core.indexes.numeric.Int64Index'> which will not be written. Consider changing the index to pd.RangeIndex(start=0,...,step=1) or call reset_index() to keep index as column(s)\n",
      "  success, nchunks, nrows, ci_output = write_pandas(\n"
     ]
    },
    {
     "name": "stdout",
     "output_type": "stream",
     "text": [
      "542613 values inserted into table SCHEDULE_RCQ\n"
     ]
    },
    {
     "name": "stderr",
     "output_type": "stream",
     "text": [
      "C:\\Users\\whill\\anaconda3\\lib\\site-packages\\snowflake\\snowpark\\session.py:1891: UserWarning: Pandas Dataframe has non-standard index of type <class 'pandas.core.indexes.numeric.Int64Index'> which will not be written. Consider changing the index to pd.RangeIndex(start=0,...,step=1) or call reset_index() to keep index as column(s)\n",
      "  success, nchunks, nrows, ci_output = write_pandas(\n"
     ]
    },
    {
     "name": "stdout",
     "output_type": "stream",
     "text": [
      "542613 values inserted into table SCHEDULE_RCR\n"
     ]
    },
    {
     "name": "stderr",
     "output_type": "stream",
     "text": [
      "C:\\Users\\whill\\anaconda3\\lib\\site-packages\\snowflake\\snowpark\\session.py:1891: UserWarning: Pandas Dataframe has non-standard index of type <class 'pandas.core.indexes.numeric.Int64Index'> which will not be written. Consider changing the index to pd.RangeIndex(start=0,...,step=1) or call reset_index() to keep index as column(s)\n",
      "  success, nchunks, nrows, ci_output = write_pandas(\n"
     ]
    },
    {
     "name": "stdout",
     "output_type": "stream",
     "text": [
      "542613 values inserted into table SCHEDULE_RCS\n"
     ]
    },
    {
     "name": "stderr",
     "output_type": "stream",
     "text": [
      "C:\\Users\\whill\\anaconda3\\lib\\site-packages\\snowflake\\snowpark\\session.py:1891: UserWarning: Pandas Dataframe has non-standard index of type <class 'pandas.core.indexes.numeric.Int64Index'> which will not be written. Consider changing the index to pd.RangeIndex(start=0,...,step=1) or call reset_index() to keep index as column(s)\n",
      "  success, nchunks, nrows, ci_output = write_pandas(\n"
     ]
    },
    {
     "name": "stdout",
     "output_type": "stream",
     "text": [
      "542613 values inserted into table SCHEDULE_RIBI\n"
     ]
    },
    {
     "name": "stderr",
     "output_type": "stream",
     "text": [
      "C:\\Users\\whill\\anaconda3\\lib\\site-packages\\snowflake\\snowpark\\session.py:1891: UserWarning: Pandas Dataframe has non-standard index of type <class 'pandas.core.indexes.numeric.Int64Index'> which will not be written. Consider changing the index to pd.RangeIndex(start=0,...,step=1) or call reset_index() to keep index as column(s)\n",
      "  success, nchunks, nrows, ci_output = write_pandas(\n"
     ]
    },
    {
     "name": "stdout",
     "output_type": "stream",
     "text": [
      "542613 values inserted into table SCHEDULE_RICII\n"
     ]
    },
    {
     "name": "stderr",
     "output_type": "stream",
     "text": [
      "C:\\Users\\whill\\anaconda3\\lib\\site-packages\\snowflake\\snowpark\\session.py:1891: UserWarning: Pandas Dataframe has non-standard index of type <class 'pandas.core.indexes.numeric.Int64Index'> which will not be written. Consider changing the index to pd.RangeIndex(start=0,...,step=1) or call reset_index() to keep index as column(s)\n",
      "  success, nchunks, nrows, ci_output = write_pandas(\n"
     ]
    },
    {
     "name": "stdout",
     "output_type": "stream",
     "text": [
      "Error in table SCHEDULE_RCRI: 100071 (22000): Failed to cast variant value \"8.6144%\" to REAL\n"
     ]
    },
    {
     "name": "stderr",
     "output_type": "stream",
     "text": [
      "C:\\Users\\whill\\anaconda3\\lib\\site-packages\\snowflake\\snowpark\\session.py:1891: UserWarning: Pandas Dataframe has non-standard index of type <class 'pandas.core.indexes.numeric.Int64Index'> which will not be written. Consider changing the index to pd.RangeIndex(start=0,...,step=1) or call reset_index() to keep index as column(s)\n",
      "  success, nchunks, nrows, ci_output = write_pandas(\n"
     ]
    },
    {
     "name": "stdout",
     "output_type": "stream",
     "text": [
      "542613 values inserted into table SCHEDULE_RCT\n"
     ]
    },
    {
     "name": "stderr",
     "output_type": "stream",
     "text": [
      "C:\\Users\\whill\\anaconda3\\lib\\site-packages\\snowflake\\snowpark\\session.py:1891: UserWarning: Pandas Dataframe has non-standard index of type <class 'pandas.core.indexes.numeric.Int64Index'> which will not be written. Consider changing the index to pd.RangeIndex(start=0,...,step=1) or call reset_index() to keep index as column(s)\n",
      "  success, nchunks, nrows, ci_output = write_pandas(\n"
     ]
    },
    {
     "name": "stdout",
     "output_type": "stream",
     "text": [
      "542613 values inserted into table SCHEDULE_RCV\n"
     ]
    },
    {
     "name": "stderr",
     "output_type": "stream",
     "text": [
      "C:\\Users\\whill\\anaconda3\\lib\\site-packages\\snowflake\\snowpark\\session.py:1891: UserWarning: Pandas Dataframe has non-standard index of type <class 'pandas.core.indexes.numeric.Int64Index'> which will not be written. Consider changing the index to pd.RangeIndex(start=0,...,step=1) or call reset_index() to keep index as column(s)\n",
      "  success, nchunks, nrows, ci_output = write_pandas(\n"
     ]
    },
    {
     "name": "stdout",
     "output_type": "stream",
     "text": [
      "542613 values inserted into table SCHEDULE_ENT\n"
     ]
    },
    {
     "name": "stderr",
     "output_type": "stream",
     "text": [
      "C:\\Users\\whill\\anaconda3\\lib\\site-packages\\snowflake\\snowpark\\session.py:1891: UserWarning: Pandas Dataframe has non-standard index of type <class 'pandas.core.indexes.numeric.Int64Index'> which will not be written. Consider changing the index to pd.RangeIndex(start=0,...,step=1) or call reset_index() to keep index as column(s)\n",
      "  success, nchunks, nrows, ci_output = write_pandas(\n"
     ]
    },
    {
     "name": "stdout",
     "output_type": "stream",
     "text": [
      "542613 values inserted into table SCHEDULE_LEO\n"
     ]
    },
    {
     "name": "stderr",
     "output_type": "stream",
     "text": [
      "C:\\Users\\whill\\anaconda3\\lib\\site-packages\\snowflake\\snowpark\\session.py:1891: UserWarning: Pandas Dataframe has non-standard index of type <class 'pandas.core.indexes.numeric.Int64Index'> which will not be written. Consider changing the index to pd.RangeIndex(start=0,...,step=1) or call reset_index() to keep index as column(s)\n",
      "  success, nchunks, nrows, ci_output = write_pandas(\n"
     ]
    },
    {
     "name": "stdout",
     "output_type": "stream",
     "text": [
      "542613 values inserted into table SCHEDULE_RCEII\n"
     ]
    },
    {
     "name": "stderr",
     "output_type": "stream",
     "text": [
      "C:\\Users\\whill\\anaconda3\\lib\\site-packages\\snowflake\\snowpark\\session.py:1891: UserWarning: Pandas Dataframe has non-standard index of type <class 'pandas.core.indexes.numeric.Int64Index'> which will not be written. Consider changing the index to pd.RangeIndex(start=0,...,step=1) or call reset_index() to keep index as column(s)\n",
      "  success, nchunks, nrows, ci_output = write_pandas(\n"
     ]
    },
    {
     "name": "stdout",
     "output_type": "stream",
     "text": [
      "542613 values inserted into table SCHEDULE_RIBII\n"
     ]
    },
    {
     "name": "stderr",
     "output_type": "stream",
     "text": [
      "C:\\Users\\whill\\anaconda3\\lib\\site-packages\\snowflake\\snowpark\\session.py:1891: UserWarning: Pandas Dataframe has non-standard index of type <class 'pandas.core.indexes.numeric.Int64Index'> which will not be written. Consider changing the index to pd.RangeIndex(start=0,...,step=1) or call reset_index() to keep index as column(s)\n",
      "  success, nchunks, nrows, ci_output = write_pandas(\n"
     ]
    },
    {
     "name": "stdout",
     "output_type": "stream",
     "text": [
      "542613 values inserted into table SCHEDULE_RID\n"
     ]
    },
    {
     "name": "stderr",
     "output_type": "stream",
     "text": [
      "C:\\Users\\whill\\anaconda3\\lib\\site-packages\\snowflake\\snowpark\\session.py:1891: UserWarning: Pandas Dataframe has non-standard index of type <class 'pandas.core.indexes.numeric.Int64Index'> which will not be written. Consider changing the index to pd.RangeIndex(start=0,...,step=1) or call reset_index() to keep index as column(s)\n",
      "  success, nchunks, nrows, ci_output = write_pandas(\n"
     ]
    },
    {
     "name": "stdout",
     "output_type": "stream",
     "text": [
      "542613 values inserted into table SCHEDULE_RIE\n"
     ]
    },
    {
     "name": "stderr",
     "output_type": "stream",
     "text": [
      "C:\\Users\\whill\\anaconda3\\lib\\site-packages\\snowflake\\snowpark\\session.py:1891: UserWarning: Pandas Dataframe has non-standard index of type <class 'pandas.core.indexes.numeric.Int64Index'> which will not be written. Consider changing the index to pd.RangeIndex(start=0,...,step=1) or call reset_index() to keep index as column(s)\n",
      "  success, nchunks, nrows, ci_output = write_pandas(\n"
     ]
    },
    {
     "name": "stdout",
     "output_type": "stream",
     "text": [
      "542613 values inserted into table SCHEDULE_SU\n"
     ]
    },
    {
     "name": "stderr",
     "output_type": "stream",
     "text": [
      "C:\\Users\\whill\\anaconda3\\lib\\site-packages\\snowflake\\snowpark\\session.py:1891: UserWarning: Pandas Dataframe has non-standard index of type <class 'pandas.core.indexes.numeric.Int64Index'> which will not be written. Consider changing the index to pd.RangeIndex(start=0,...,step=1) or call reset_index() to keep index as column(s)\n",
      "  success, nchunks, nrows, ci_output = write_pandas(\n"
     ]
    },
    {
     "name": "stdout",
     "output_type": "stream",
     "text": [
      "542613 values inserted into table SCHEDULE_RCD\n"
     ]
    },
    {
     "name": "stderr",
     "output_type": "stream",
     "text": [
      "C:\\Users\\whill\\anaconda3\\lib\\site-packages\\snowflake\\snowpark\\session.py:1891: UserWarning: Pandas Dataframe has non-standard index of type <class 'pandas.core.indexes.numeric.Int64Index'> which will not be written. Consider changing the index to pd.RangeIndex(start=0,...,step=1) or call reset_index() to keep index as column(s)\n",
      "  success, nchunks, nrows, ci_output = write_pandas(\n"
     ]
    },
    {
     "name": "stdout",
     "output_type": "stream",
     "text": [
      "542613 values inserted into table SCHEDULE_RIC\n"
     ]
    },
    {
     "name": "stderr",
     "output_type": "stream",
     "text": [
      "C:\\Users\\whill\\anaconda3\\lib\\site-packages\\snowflake\\snowpark\\session.py:1891: UserWarning: Pandas Dataframe has non-standard index of type <class 'pandas.core.indexes.numeric.Int64Index'> which will not be written. Consider changing the index to pd.RangeIndex(start=0,...,step=1) or call reset_index() to keep index as column(s)\n",
      "  success, nchunks, nrows, ci_output = write_pandas(\n"
     ]
    },
    {
     "name": "stdout",
     "output_type": "stream",
     "text": [
      "542613 values inserted into table SCHEDULE_RCA\n"
     ]
    },
    {
     "name": "stderr",
     "output_type": "stream",
     "text": [
      "C:\\Users\\whill\\anaconda3\\lib\\site-packages\\snowflake\\snowpark\\session.py:1891: UserWarning: Pandas Dataframe has non-standard index of type <class 'pandas.core.indexes.numeric.Int64Index'> which will not be written. Consider changing the index to pd.RangeIndex(start=0,...,step=1) or call reset_index() to keep index as column(s)\n",
      "  success, nchunks, nrows, ci_output = write_pandas(\n"
     ]
    },
    {
     "name": "stdout",
     "output_type": "stream",
     "text": [
      "542613 values inserted into table SCHEDULE_RCP\n",
      "C:\\Users\\whill\\call-report-database\\Bulk_Files\\2016\\09_30\\FFIEC CDR Call Schedule CI 09302016.txt\n",
      "C:\\Users\\whill\\call-report-database\\Bulk_Files\\2016\\09_30\\FFIEC CDR Call Schedule ENT 09302016.txt\n",
      "C:\\Users\\whill\\call-report-database\\Bulk_Files\\2016\\09_30\\FFIEC CDR Call Schedule NARR 09302016.txt\n",
      "C:\\Users\\whill\\call-report-database\\Bulk_Files\\2016\\09_30\\FFIEC CDR Call Schedule RC 09302016.txt\n",
      "C:\\Users\\whill\\call-report-database\\Bulk_Files\\2016\\09_30\\FFIEC CDR Call Schedule RCA 09302016.txt\n",
      "C:\\Users\\whill\\call-report-database\\Bulk_Files\\2016\\09_30\\FFIEC CDR Call Schedule RCB 09302016(1 of 2).txt\n",
      "C:\\Users\\whill\\call-report-database\\Bulk_Files\\2016\\09_30\\FFIEC CDR Call Schedule RCB 09302016(2 of 2).txt\n",
      "C:\\Users\\whill\\call-report-database\\Bulk_Files\\2016\\09_30\\FFIEC CDR Call Schedule RCCI 09302016.txt\n",
      "C:\\Users\\whill\\call-report-database\\Bulk_Files\\2016\\09_30\\FFIEC CDR Call Schedule RCCII 09302016.txt\n",
      "C:\\Users\\whill\\call-report-database\\Bulk_Files\\2016\\09_30\\FFIEC CDR Call Schedule RCD 09302016.txt\n",
      "C:\\Users\\whill\\call-report-database\\Bulk_Files\\2016\\09_30\\FFIEC CDR Call Schedule RCE 09302016.txt\n",
      "C:\\Users\\whill\\call-report-database\\Bulk_Files\\2016\\09_30\\FFIEC CDR Call Schedule RCEI 09302016.txt\n",
      "C:\\Users\\whill\\call-report-database\\Bulk_Files\\2016\\09_30\\FFIEC CDR Call Schedule RCEII 09302016.txt\n",
      "C:\\Users\\whill\\call-report-database\\Bulk_Files\\2016\\09_30\\FFIEC CDR Call Schedule RCF 09302016.txt\n",
      "C:\\Users\\whill\\call-report-database\\Bulk_Files\\2016\\09_30\\FFIEC CDR Call Schedule RCG 09302016.txt\n",
      "C:\\Users\\whill\\call-report-database\\Bulk_Files\\2016\\09_30\\FFIEC CDR Call Schedule RCH 09302016.txt\n",
      "C:\\Users\\whill\\call-report-database\\Bulk_Files\\2016\\09_30\\FFIEC CDR Call Schedule RCI 09302016.txt\n",
      "C:\\Users\\whill\\call-report-database\\Bulk_Files\\2016\\09_30\\FFIEC CDR Call Schedule RCK 09302016.txt\n",
      "C:\\Users\\whill\\call-report-database\\Bulk_Files\\2016\\09_30\\FFIEC CDR Call Schedule RCL 09302016(1 of 2).txt\n",
      "C:\\Users\\whill\\call-report-database\\Bulk_Files\\2016\\09_30\\FFIEC CDR Call Schedule RCL 09302016(2 of 2).txt\n",
      "C:\\Users\\whill\\call-report-database\\Bulk_Files\\2016\\09_30\\FFIEC CDR Call Schedule RCM 09302016.txt\n",
      "C:\\Users\\whill\\call-report-database\\Bulk_Files\\2016\\09_30\\FFIEC CDR Call Schedule RCN 09302016(1 of 2).txt\n",
      "C:\\Users\\whill\\call-report-database\\Bulk_Files\\2016\\09_30\\FFIEC CDR Call Schedule RCN 09302016(2 of 2).txt\n",
      "C:\\Users\\whill\\call-report-database\\Bulk_Files\\2016\\09_30\\FFIEC CDR Call Schedule RCO 09302016(1 of 2).txt\n",
      "C:\\Users\\whill\\call-report-database\\Bulk_Files\\2016\\09_30\\FFIEC CDR Call Schedule RCO 09302016(2 of 2).txt\n",
      "C:\\Users\\whill\\call-report-database\\Bulk_Files\\2016\\09_30\\FFIEC CDR Call Schedule RCP 09302016.txt\n",
      "C:\\Users\\whill\\call-report-database\\Bulk_Files\\2016\\09_30\\FFIEC CDR Call Schedule RCQ 09302016(1 of 2).txt\n",
      "C:\\Users\\whill\\call-report-database\\Bulk_Files\\2016\\09_30\\FFIEC CDR Call Schedule RCQ 09302016(2 of 2).txt\n",
      "C:\\Users\\whill\\call-report-database\\Bulk_Files\\2016\\09_30\\FFIEC CDR Call Schedule RCRI 09302016.txt\n",
      "C:\\Users\\whill\\call-report-database\\Bulk_Files\\2016\\09_30\\FFIEC CDR Call Schedule RCRII 09302016(1 of 3).txt\n",
      "C:\\Users\\whill\\call-report-database\\Bulk_Files\\2016\\09_30\\FFIEC CDR Call Schedule RCRII 09302016(2 of 3).txt\n",
      "C:\\Users\\whill\\call-report-database\\Bulk_Files\\2016\\09_30\\FFIEC CDR Call Schedule RCRII 09302016(3 of 3).txt\n",
      "C:\\Users\\whill\\call-report-database\\Bulk_Files\\2016\\09_30\\FFIEC CDR Call Schedule RCS 09302016.txt\n",
      "C:\\Users\\whill\\call-report-database\\Bulk_Files\\2016\\09_30\\FFIEC CDR Call Schedule RCT 09302016(1 of 2).txt\n",
      "C:\\Users\\whill\\call-report-database\\Bulk_Files\\2016\\09_30\\FFIEC CDR Call Schedule RCT 09302016(2 of 2).txt\n",
      "C:\\Users\\whill\\call-report-database\\Bulk_Files\\2016\\09_30\\FFIEC CDR Call Schedule RCV 09302016.txt\n",
      "C:\\Users\\whill\\call-report-database\\Bulk_Files\\2016\\09_30\\FFIEC CDR Call Schedule RI 09302016.txt\n",
      "C:\\Users\\whill\\call-report-database\\Bulk_Files\\2016\\09_30\\FFIEC CDR Call Schedule RIA 09302016.txt\n",
      "C:\\Users\\whill\\call-report-database\\Bulk_Files\\2016\\09_30\\FFIEC CDR Call Schedule RIBI 09302016.txt\n",
      "C:\\Users\\whill\\call-report-database\\Bulk_Files\\2016\\09_30\\FFIEC CDR Call Schedule RIBII 09302016.txt\n",
      "C:\\Users\\whill\\call-report-database\\Bulk_Files\\2016\\09_30\\FFIEC CDR Call Schedule RIC 09302016.txt\n",
      "C:\\Users\\whill\\call-report-database\\Bulk_Files\\2016\\09_30\\FFIEC CDR Call Schedule RID 09302016.txt\n",
      "C:\\Users\\whill\\call-report-database\\Bulk_Files\\2016\\09_30\\FFIEC CDR Call Schedule RIE 09302016.txt\n"
     ]
    },
    {
     "name": "stderr",
     "output_type": "stream",
     "text": [
      "C:\\Users\\whill\\anaconda3\\lib\\site-packages\\snowflake\\snowpark\\session.py:1891: UserWarning: Pandas Dataframe has non-standard index of type <class 'pandas.core.indexes.numeric.Int64Index'> which will not be written. Consider changing the index to pd.RangeIndex(start=0,...,step=1) or call reset_index() to keep index as column(s)\n",
      "  success, nchunks, nrows, ci_output = write_pandas(\n"
     ]
    },
    {
     "name": "stdout",
     "output_type": "stream",
     "text": [
      "548647 values inserted into table SCHEDULE_ENT\n"
     ]
    },
    {
     "name": "stderr",
     "output_type": "stream",
     "text": [
      "C:\\Users\\whill\\anaconda3\\lib\\site-packages\\snowflake\\snowpark\\session.py:1891: UserWarning: Pandas Dataframe has non-standard index of type <class 'pandas.core.indexes.numeric.Int64Index'> which will not be written. Consider changing the index to pd.RangeIndex(start=0,...,step=1) or call reset_index() to keep index as column(s)\n",
      "  success, nchunks, nrows, ci_output = write_pandas(\n"
     ]
    },
    {
     "name": "stdout",
     "output_type": "stream",
     "text": [
      "548647 values inserted into table SCHEDULE_RCA\n"
     ]
    },
    {
     "name": "stderr",
     "output_type": "stream",
     "text": [
      "C:\\Users\\whill\\anaconda3\\lib\\site-packages\\snowflake\\snowpark\\session.py:1891: UserWarning: Pandas Dataframe has non-standard index of type <class 'pandas.core.indexes.numeric.Int64Index'> which will not be written. Consider changing the index to pd.RangeIndex(start=0,...,step=1) or call reset_index() to keep index as column(s)\n",
      "  success, nchunks, nrows, ci_output = write_pandas(\n"
     ]
    },
    {
     "name": "stdout",
     "output_type": "stream",
     "text": [
      "548647 values inserted into table SCHEDULE_RCCI\n"
     ]
    },
    {
     "name": "stderr",
     "output_type": "stream",
     "text": [
      "C:\\Users\\whill\\anaconda3\\lib\\site-packages\\snowflake\\snowpark\\session.py:1891: UserWarning: Pandas Dataframe has non-standard index of type <class 'pandas.core.indexes.numeric.Int64Index'> which will not be written. Consider changing the index to pd.RangeIndex(start=0,...,step=1) or call reset_index() to keep index as column(s)\n",
      "  success, nchunks, nrows, ci_output = write_pandas(\n"
     ]
    },
    {
     "name": "stdout",
     "output_type": "stream",
     "text": [
      "548647 values inserted into table SCHEDULE_RCCII\n"
     ]
    },
    {
     "name": "stderr",
     "output_type": "stream",
     "text": [
      "C:\\Users\\whill\\anaconda3\\lib\\site-packages\\snowflake\\snowpark\\session.py:1891: UserWarning: Pandas Dataframe has non-standard index of type <class 'pandas.core.indexes.numeric.Int64Index'> which will not be written. Consider changing the index to pd.RangeIndex(start=0,...,step=1) or call reset_index() to keep index as column(s)\n",
      "  success, nchunks, nrows, ci_output = write_pandas(\n"
     ]
    },
    {
     "name": "stdout",
     "output_type": "stream",
     "text": [
      "548647 values inserted into table SCHEDULE_RCK\n"
     ]
    },
    {
     "name": "stderr",
     "output_type": "stream",
     "text": [
      "C:\\Users\\whill\\anaconda3\\lib\\site-packages\\snowflake\\snowpark\\session.py:1891: UserWarning: Pandas Dataframe has non-standard index of type <class 'pandas.core.indexes.numeric.Int64Index'> which will not be written. Consider changing the index to pd.RangeIndex(start=0,...,step=1) or call reset_index() to keep index as column(s)\n",
      "  success, nchunks, nrows, ci_output = write_pandas(\n"
     ]
    },
    {
     "name": "stdout",
     "output_type": "stream",
     "text": [
      "548647 values inserted into table SCHEDULE_RCRII\n"
     ]
    },
    {
     "name": "stderr",
     "output_type": "stream",
     "text": [
      "C:\\Users\\whill\\anaconda3\\lib\\site-packages\\snowflake\\snowpark\\session.py:1891: UserWarning: Pandas Dataframe has non-standard index of type <class 'pandas.core.indexes.numeric.Int64Index'> which will not be written. Consider changing the index to pd.RangeIndex(start=0,...,step=1) or call reset_index() to keep index as column(s)\n",
      "  success, nchunks, nrows, ci_output = write_pandas(\n"
     ]
    },
    {
     "name": "stdout",
     "output_type": "stream",
     "text": [
      "548647 values inserted into table SCHEDULE_RCS\n"
     ]
    },
    {
     "name": "stderr",
     "output_type": "stream",
     "text": [
      "C:\\Users\\whill\\anaconda3\\lib\\site-packages\\snowflake\\snowpark\\session.py:1891: UserWarning: Pandas Dataframe has non-standard index of type <class 'pandas.core.indexes.numeric.Int64Index'> which will not be written. Consider changing the index to pd.RangeIndex(start=0,...,step=1) or call reset_index() to keep index as column(s)\n",
      "  success, nchunks, nrows, ci_output = write_pandas(\n"
     ]
    },
    {
     "name": "stdout",
     "output_type": "stream",
     "text": [
      "548647 values inserted into table SCHEDULE_RCT\n"
     ]
    },
    {
     "name": "stderr",
     "output_type": "stream",
     "text": [
      "C:\\Users\\whill\\anaconda3\\lib\\site-packages\\snowflake\\snowpark\\session.py:1891: UserWarning: Pandas Dataframe has non-standard index of type <class 'pandas.core.indexes.numeric.Int64Index'> which will not be written. Consider changing the index to pd.RangeIndex(start=0,...,step=1) or call reset_index() to keep index as column(s)\n",
      "  success, nchunks, nrows, ci_output = write_pandas(\n"
     ]
    },
    {
     "name": "stdout",
     "output_type": "stream",
     "text": [
      "548647 values inserted into table SCHEDULE_RCM\n"
     ]
    },
    {
     "name": "stderr",
     "output_type": "stream",
     "text": [
      "C:\\Users\\whill\\anaconda3\\lib\\site-packages\\snowflake\\snowpark\\session.py:1891: UserWarning: Pandas Dataframe has non-standard index of type <class 'pandas.core.indexes.numeric.Int64Index'> which will not be written. Consider changing the index to pd.RangeIndex(start=0,...,step=1) or call reset_index() to keep index as column(s)\n",
      "  success, nchunks, nrows, ci_output = write_pandas(\n"
     ]
    },
    {
     "name": "stdout",
     "output_type": "stream",
     "text": [
      "548647 values inserted into table SCHEDULE_RIC\n"
     ]
    },
    {
     "name": "stderr",
     "output_type": "stream",
     "text": [
      "C:\\Users\\whill\\anaconda3\\lib\\site-packages\\snowflake\\snowpark\\session.py:1891: UserWarning: Pandas Dataframe has non-standard index of type <class 'pandas.core.indexes.numeric.Int64Index'> which will not be written. Consider changing the index to pd.RangeIndex(start=0,...,step=1) or call reset_index() to keep index as column(s)\n",
      "  success, nchunks, nrows, ci_output = write_pandas(\n"
     ]
    },
    {
     "name": "stdout",
     "output_type": "stream",
     "text": [
      "548647 values inserted into table SCHEDULE_RIA\n"
     ]
    },
    {
     "name": "stderr",
     "output_type": "stream",
     "text": [
      "C:\\Users\\whill\\anaconda3\\lib\\site-packages\\snowflake\\snowpark\\session.py:1891: UserWarning: Pandas Dataframe has non-standard index of type <class 'pandas.core.indexes.numeric.Int64Index'> which will not be written. Consider changing the index to pd.RangeIndex(start=0,...,step=1) or call reset_index() to keep index as column(s)\n",
      "  success, nchunks, nrows, ci_output = write_pandas(\n"
     ]
    },
    {
     "name": "stdout",
     "output_type": "stream",
     "text": [
      "548647 values inserted into table SCHEDULE_LEO\n"
     ]
    },
    {
     "name": "stderr",
     "output_type": "stream",
     "text": [
      "C:\\Users\\whill\\anaconda3\\lib\\site-packages\\snowflake\\snowpark\\session.py:1891: UserWarning: Pandas Dataframe has non-standard index of type <class 'pandas.core.indexes.numeric.Int64Index'> which will not be written. Consider changing the index to pd.RangeIndex(start=0,...,step=1) or call reset_index() to keep index as column(s)\n",
      "  success, nchunks, nrows, ci_output = write_pandas(\n"
     ]
    },
    {
     "name": "stdout",
     "output_type": "stream",
     "text": [
      "548647 values inserted into table SCHEDULE_RCB\n"
     ]
    },
    {
     "name": "stderr",
     "output_type": "stream",
     "text": [
      "C:\\Users\\whill\\anaconda3\\lib\\site-packages\\snowflake\\snowpark\\session.py:1891: UserWarning: Pandas Dataframe has non-standard index of type <class 'pandas.core.indexes.numeric.Int64Index'> which will not be written. Consider changing the index to pd.RangeIndex(start=0,...,step=1) or call reset_index() to keep index as column(s)\n",
      "  success, nchunks, nrows, ci_output = write_pandas(\n"
     ]
    },
    {
     "name": "stdout",
     "output_type": "stream",
     "text": [
      "548647 values inserted into table SCHEDULE_RCE\n"
     ]
    },
    {
     "name": "stderr",
     "output_type": "stream",
     "text": [
      "C:\\Users\\whill\\anaconda3\\lib\\site-packages\\snowflake\\snowpark\\session.py:1891: UserWarning: Pandas Dataframe has non-standard index of type <class 'pandas.core.indexes.numeric.Int64Index'> which will not be written. Consider changing the index to pd.RangeIndex(start=0,...,step=1) or call reset_index() to keep index as column(s)\n",
      "  success, nchunks, nrows, ci_output = write_pandas(\n"
     ]
    },
    {
     "name": "stdout",
     "output_type": "stream",
     "text": [
      "548647 values inserted into table SCHEDULE_RCEII\n"
     ]
    },
    {
     "name": "stderr",
     "output_type": "stream",
     "text": [
      "C:\\Users\\whill\\anaconda3\\lib\\site-packages\\snowflake\\snowpark\\session.py:1891: UserWarning: Pandas Dataframe has non-standard index of type <class 'pandas.core.indexes.numeric.Int64Index'> which will not be written. Consider changing the index to pd.RangeIndex(start=0,...,step=1) or call reset_index() to keep index as column(s)\n",
      "  success, nchunks, nrows, ci_output = write_pandas(\n"
     ]
    },
    {
     "name": "stdout",
     "output_type": "stream",
     "text": [
      "548647 values inserted into table SCHEDULE_RCG\n"
     ]
    },
    {
     "name": "stderr",
     "output_type": "stream",
     "text": [
      "C:\\Users\\whill\\anaconda3\\lib\\site-packages\\snowflake\\snowpark\\session.py:1891: UserWarning: Pandas Dataframe has non-standard index of type <class 'pandas.core.indexes.numeric.Int64Index'> which will not be written. Consider changing the index to pd.RangeIndex(start=0,...,step=1) or call reset_index() to keep index as column(s)\n",
      "  success, nchunks, nrows, ci_output = write_pandas(\n"
     ]
    },
    {
     "name": "stdout",
     "output_type": "stream",
     "text": [
      "548647 values inserted into table SCHEDULE_RCH\n"
     ]
    },
    {
     "name": "stderr",
     "output_type": "stream",
     "text": [
      "C:\\Users\\whill\\anaconda3\\lib\\site-packages\\snowflake\\snowpark\\session.py:1891: UserWarning: Pandas Dataframe has non-standard index of type <class 'pandas.core.indexes.numeric.Int64Index'> which will not be written. Consider changing the index to pd.RangeIndex(start=0,...,step=1) or call reset_index() to keep index as column(s)\n",
      "  success, nchunks, nrows, ci_output = write_pandas(\n"
     ]
    },
    {
     "name": "stdout",
     "output_type": "stream",
     "text": [
      "548647 values inserted into table SCHEDULE_RCN\n"
     ]
    },
    {
     "name": "stderr",
     "output_type": "stream",
     "text": [
      "C:\\Users\\whill\\anaconda3\\lib\\site-packages\\snowflake\\snowpark\\session.py:1891: UserWarning: Pandas Dataframe has non-standard index of type <class 'pandas.core.indexes.numeric.Int64Index'> which will not be written. Consider changing the index to pd.RangeIndex(start=0,...,step=1) or call reset_index() to keep index as column(s)\n",
      "  success, nchunks, nrows, ci_output = write_pandas(\n"
     ]
    },
    {
     "name": "stdout",
     "output_type": "stream",
     "text": [
      "548647 values inserted into table SCHEDULE_RCO\n"
     ]
    },
    {
     "name": "stderr",
     "output_type": "stream",
     "text": [
      "C:\\Users\\whill\\anaconda3\\lib\\site-packages\\snowflake\\snowpark\\session.py:1891: UserWarning: Pandas Dataframe has non-standard index of type <class 'pandas.core.indexes.numeric.Int64Index'> which will not be written. Consider changing the index to pd.RangeIndex(start=0,...,step=1) or call reset_index() to keep index as column(s)\n",
      "  success, nchunks, nrows, ci_output = write_pandas(\n"
     ]
    },
    {
     "name": "stdout",
     "output_type": "stream",
     "text": [
      "548647 values inserted into table SCHEDULE_RID\n"
     ]
    },
    {
     "name": "stderr",
     "output_type": "stream",
     "text": [
      "C:\\Users\\whill\\anaconda3\\lib\\site-packages\\snowflake\\snowpark\\session.py:1891: UserWarning: Pandas Dataframe has non-standard index of type <class 'pandas.core.indexes.numeric.Int64Index'> which will not be written. Consider changing the index to pd.RangeIndex(start=0,...,step=1) or call reset_index() to keep index as column(s)\n",
      "  success, nchunks, nrows, ci_output = write_pandas(\n"
     ]
    },
    {
     "name": "stdout",
     "output_type": "stream",
     "text": [
      "548647 values inserted into table SCHEDULE_SU\n"
     ]
    },
    {
     "name": "stderr",
     "output_type": "stream",
     "text": [
      "C:\\Users\\whill\\anaconda3\\lib\\site-packages\\snowflake\\snowpark\\session.py:1891: UserWarning: Pandas Dataframe has non-standard index of type <class 'pandas.core.indexes.numeric.Int64Index'> which will not be written. Consider changing the index to pd.RangeIndex(start=0,...,step=1) or call reset_index() to keep index as column(s)\n",
      "  success, nchunks, nrows, ci_output = write_pandas(\n"
     ]
    },
    {
     "name": "stdout",
     "output_type": "stream",
     "text": [
      "548647 values inserted into table SCHEDULE_RCV\n"
     ]
    },
    {
     "name": "stderr",
     "output_type": "stream",
     "text": [
      "C:\\Users\\whill\\anaconda3\\lib\\site-packages\\snowflake\\snowpark\\session.py:1891: UserWarning: Pandas Dataframe has non-standard index of type <class 'pandas.core.indexes.numeric.Int64Index'> which will not be written. Consider changing the index to pd.RangeIndex(start=0,...,step=1) or call reset_index() to keep index as column(s)\n",
      "  success, nchunks, nrows, ci_output = write_pandas(\n"
     ]
    },
    {
     "name": "stdout",
     "output_type": "stream",
     "text": [
      "548647 values inserted into table SCHEDULE_RIE\n"
     ]
    },
    {
     "name": "stderr",
     "output_type": "stream",
     "text": [
      "C:\\Users\\whill\\anaconda3\\lib\\site-packages\\snowflake\\snowpark\\session.py:1891: UserWarning: Pandas Dataframe has non-standard index of type <class 'pandas.core.indexes.numeric.Int64Index'> which will not be written. Consider changing the index to pd.RangeIndex(start=0,...,step=1) or call reset_index() to keep index as column(s)\n",
      "  success, nchunks, nrows, ci_output = write_pandas(\n"
     ]
    },
    {
     "name": "stdout",
     "output_type": "stream",
     "text": [
      "548647 values inserted into table SCHEDULE_NARR\n"
     ]
    },
    {
     "name": "stderr",
     "output_type": "stream",
     "text": [
      "C:\\Users\\whill\\anaconda3\\lib\\site-packages\\snowflake\\snowpark\\session.py:1891: UserWarning: Pandas Dataframe has non-standard index of type <class 'pandas.core.indexes.numeric.Int64Index'> which will not be written. Consider changing the index to pd.RangeIndex(start=0,...,step=1) or call reset_index() to keep index as column(s)\n",
      "  success, nchunks, nrows, ci_output = write_pandas(\n"
     ]
    },
    {
     "name": "stdout",
     "output_type": "stream",
     "text": [
      "548647 values inserted into table SCHEDULE_RC\n"
     ]
    },
    {
     "name": "stderr",
     "output_type": "stream",
     "text": [
      "C:\\Users\\whill\\anaconda3\\lib\\site-packages\\snowflake\\snowpark\\session.py:1891: UserWarning: Pandas Dataframe has non-standard index of type <class 'pandas.core.indexes.numeric.Int64Index'> which will not be written. Consider changing the index to pd.RangeIndex(start=0,...,step=1) or call reset_index() to keep index as column(s)\n",
      "  success, nchunks, nrows, ci_output = write_pandas(\n"
     ]
    },
    {
     "name": "stdout",
     "output_type": "stream",
     "text": [
      "548647 values inserted into table SCHEDULE_RCD\n"
     ]
    },
    {
     "name": "stderr",
     "output_type": "stream",
     "text": [
      "C:\\Users\\whill\\anaconda3\\lib\\site-packages\\snowflake\\snowpark\\session.py:1891: UserWarning: Pandas Dataframe has non-standard index of type <class 'pandas.core.indexes.numeric.Int64Index'> which will not be written. Consider changing the index to pd.RangeIndex(start=0,...,step=1) or call reset_index() to keep index as column(s)\n",
      "  success, nchunks, nrows, ci_output = write_pandas(\n"
     ]
    },
    {
     "name": "stdout",
     "output_type": "stream",
     "text": [
      "548647 values inserted into table SCHEDULE_RCEI\n"
     ]
    },
    {
     "name": "stderr",
     "output_type": "stream",
     "text": [
      "C:\\Users\\whill\\anaconda3\\lib\\site-packages\\snowflake\\snowpark\\session.py:1891: UserWarning: Pandas Dataframe has non-standard index of type <class 'pandas.core.indexes.numeric.Int64Index'> which will not be written. Consider changing the index to pd.RangeIndex(start=0,...,step=1) or call reset_index() to keep index as column(s)\n",
      "  success, nchunks, nrows, ci_output = write_pandas(\n"
     ]
    },
    {
     "name": "stdout",
     "output_type": "stream",
     "text": [
      "548647 values inserted into table SCHEDULE_RCI\n"
     ]
    },
    {
     "name": "stderr",
     "output_type": "stream",
     "text": [
      "C:\\Users\\whill\\anaconda3\\lib\\site-packages\\snowflake\\snowpark\\session.py:1891: UserWarning: Pandas Dataframe has non-standard index of type <class 'pandas.core.indexes.numeric.Int64Index'> which will not be written. Consider changing the index to pd.RangeIndex(start=0,...,step=1) or call reset_index() to keep index as column(s)\n",
      "  success, nchunks, nrows, ci_output = write_pandas(\n"
     ]
    },
    {
     "name": "stdout",
     "output_type": "stream",
     "text": [
      "548647 values inserted into table SCHEDULE_RCP\n"
     ]
    },
    {
     "name": "stderr",
     "output_type": "stream",
     "text": [
      "C:\\Users\\whill\\anaconda3\\lib\\site-packages\\snowflake\\snowpark\\session.py:1891: UserWarning: Pandas Dataframe has non-standard index of type <class 'pandas.core.indexes.numeric.Int64Index'> which will not be written. Consider changing the index to pd.RangeIndex(start=0,...,step=1) or call reset_index() to keep index as column(s)\n",
      "  success, nchunks, nrows, ci_output = write_pandas(\n"
     ]
    },
    {
     "name": "stdout",
     "output_type": "stream",
     "text": [
      "548647 values inserted into table SCHEDULE_RIBI\n"
     ]
    },
    {
     "name": "stderr",
     "output_type": "stream",
     "text": [
      "C:\\Users\\whill\\anaconda3\\lib\\site-packages\\snowflake\\snowpark\\session.py:1891: UserWarning: Pandas Dataframe has non-standard index of type <class 'pandas.core.indexes.numeric.Int64Index'> which will not be written. Consider changing the index to pd.RangeIndex(start=0,...,step=1) or call reset_index() to keep index as column(s)\n",
      "  success, nchunks, nrows, ci_output = write_pandas(\n"
     ]
    },
    {
     "name": "stdout",
     "output_type": "stream",
     "text": [
      "548647 values inserted into table SCHEDULE_RIBII\n"
     ]
    },
    {
     "name": "stderr",
     "output_type": "stream",
     "text": [
      "C:\\Users\\whill\\anaconda3\\lib\\site-packages\\snowflake\\snowpark\\session.py:1891: UserWarning: Pandas Dataframe has non-standard index of type <class 'pandas.core.indexes.numeric.Int64Index'> which will not be written. Consider changing the index to pd.RangeIndex(start=0,...,step=1) or call reset_index() to keep index as column(s)\n",
      "  success, nchunks, nrows, ci_output = write_pandas(\n"
     ]
    },
    {
     "name": "stdout",
     "output_type": "stream",
     "text": [
      "548647 values inserted into table SCHEDULE_RICI\n"
     ]
    },
    {
     "name": "stderr",
     "output_type": "stream",
     "text": [
      "C:\\Users\\whill\\anaconda3\\lib\\site-packages\\snowflake\\snowpark\\session.py:1891: UserWarning: Pandas Dataframe has non-standard index of type <class 'pandas.core.indexes.numeric.Int64Index'> which will not be written. Consider changing the index to pd.RangeIndex(start=0,...,step=1) or call reset_index() to keep index as column(s)\n",
      "  success, nchunks, nrows, ci_output = write_pandas(\n"
     ]
    },
    {
     "name": "stdout",
     "output_type": "stream",
     "text": [
      "Error in table SCHEDULE_RCRI: 100071 (22000): Failed to cast variant value \"10.2600%\" to REAL\n"
     ]
    },
    {
     "name": "stderr",
     "output_type": "stream",
     "text": [
      "C:\\Users\\whill\\anaconda3\\lib\\site-packages\\snowflake\\snowpark\\session.py:1891: UserWarning: Pandas Dataframe has non-standard index of type <class 'pandas.core.indexes.numeric.Int64Index'> which will not be written. Consider changing the index to pd.RangeIndex(start=0,...,step=1) or call reset_index() to keep index as column(s)\n",
      "  success, nchunks, nrows, ci_output = write_pandas(\n"
     ]
    },
    {
     "name": "stdout",
     "output_type": "stream",
     "text": [
      "548647 values inserted into table SCHEDULE_RCR\n"
     ]
    },
    {
     "name": "stderr",
     "output_type": "stream",
     "text": [
      "C:\\Users\\whill\\anaconda3\\lib\\site-packages\\snowflake\\snowpark\\session.py:1891: UserWarning: Pandas Dataframe has non-standard index of type <class 'pandas.core.indexes.numeric.Int64Index'> which will not be written. Consider changing the index to pd.RangeIndex(start=0,...,step=1) or call reset_index() to keep index as column(s)\n",
      "  success, nchunks, nrows, ci_output = write_pandas(\n"
     ]
    },
    {
     "name": "stdout",
     "output_type": "stream",
     "text": [
      "548647 values inserted into table SCHEDULE_RCF\n"
     ]
    },
    {
     "name": "stderr",
     "output_type": "stream",
     "text": [
      "C:\\Users\\whill\\anaconda3\\lib\\site-packages\\snowflake\\snowpark\\session.py:1891: UserWarning: Pandas Dataframe has non-standard index of type <class 'pandas.core.indexes.numeric.Int64Index'> which will not be written. Consider changing the index to pd.RangeIndex(start=0,...,step=1) or call reset_index() to keep index as column(s)\n",
      "  success, nchunks, nrows, ci_output = write_pandas(\n"
     ]
    },
    {
     "name": "stdout",
     "output_type": "stream",
     "text": [
      "548647 values inserted into table SCHEDULE_RCQ\n"
     ]
    },
    {
     "name": "stderr",
     "output_type": "stream",
     "text": [
      "C:\\Users\\whill\\anaconda3\\lib\\site-packages\\snowflake\\snowpark\\session.py:1891: UserWarning: Pandas Dataframe has non-standard index of type <class 'pandas.core.indexes.numeric.Int64Index'> which will not be written. Consider changing the index to pd.RangeIndex(start=0,...,step=1) or call reset_index() to keep index as column(s)\n",
      "  success, nchunks, nrows, ci_output = write_pandas(\n"
     ]
    },
    {
     "name": "stdout",
     "output_type": "stream",
     "text": [
      "548647 values inserted into table SCHEDULE_RI\n"
     ]
    },
    {
     "name": "stderr",
     "output_type": "stream",
     "text": [
      "C:\\Users\\whill\\anaconda3\\lib\\site-packages\\snowflake\\snowpark\\session.py:1891: UserWarning: Pandas Dataframe has non-standard index of type <class 'pandas.core.indexes.numeric.Int64Index'> which will not be written. Consider changing the index to pd.RangeIndex(start=0,...,step=1) or call reset_index() to keep index as column(s)\n",
      "  success, nchunks, nrows, ci_output = write_pandas(\n"
     ]
    },
    {
     "name": "stdout",
     "output_type": "stream",
     "text": [
      "548647 values inserted into table SCHEDULE_UNDEFINED\n"
     ]
    },
    {
     "name": "stderr",
     "output_type": "stream",
     "text": [
      "C:\\Users\\whill\\anaconda3\\lib\\site-packages\\snowflake\\snowpark\\session.py:1891: UserWarning: Pandas Dataframe has non-standard index of type <class 'pandas.core.indexes.numeric.Int64Index'> which will not be written. Consider changing the index to pd.RangeIndex(start=0,...,step=1) or call reset_index() to keep index as column(s)\n",
      "  success, nchunks, nrows, ci_output = write_pandas(\n"
     ]
    },
    {
     "name": "stdout",
     "output_type": "stream",
     "text": [
      "548647 values inserted into table SCHEDULE_RICII\n"
     ]
    },
    {
     "name": "stderr",
     "output_type": "stream",
     "text": [
      "C:\\Users\\whill\\anaconda3\\lib\\site-packages\\snowflake\\snowpark\\session.py:1891: UserWarning: Pandas Dataframe has non-standard index of type <class 'pandas.core.indexes.numeric.Int64Index'> which will not be written. Consider changing the index to pd.RangeIndex(start=0,...,step=1) or call reset_index() to keep index as column(s)\n",
      "  success, nchunks, nrows, ci_output = write_pandas(\n"
     ]
    },
    {
     "name": "stdout",
     "output_type": "stream",
     "text": [
      "548647 values inserted into table SCHEDULE_RCL\n",
      "C:\\Users\\whill\\call-report-database\\Bulk_Files\\2016\\12_31\\FFIEC CDR Call Schedule CI 12312016.txt\n",
      "C:\\Users\\whill\\call-report-database\\Bulk_Files\\2016\\12_31\\FFIEC CDR Call Schedule ENT 12312016.txt\n",
      "C:\\Users\\whill\\call-report-database\\Bulk_Files\\2016\\12_31\\FFIEC CDR Call Schedule NARR 12312016.txt\n",
      "C:\\Users\\whill\\call-report-database\\Bulk_Files\\2016\\12_31\\FFIEC CDR Call Schedule RC 12312016.txt\n",
      "C:\\Users\\whill\\call-report-database\\Bulk_Files\\2016\\12_31\\FFIEC CDR Call Schedule RCA 12312016.txt\n",
      "C:\\Users\\whill\\call-report-database\\Bulk_Files\\2016\\12_31\\FFIEC CDR Call Schedule RCB 12312016(1 of 2).txt\n",
      "C:\\Users\\whill\\call-report-database\\Bulk_Files\\2016\\12_31\\FFIEC CDR Call Schedule RCB 12312016(2 of 2).txt\n",
      "C:\\Users\\whill\\call-report-database\\Bulk_Files\\2016\\12_31\\FFIEC CDR Call Schedule RCCI 12312016.txt\n",
      "C:\\Users\\whill\\call-report-database\\Bulk_Files\\2016\\12_31\\FFIEC CDR Call Schedule RCCII 12312016.txt\n",
      "C:\\Users\\whill\\call-report-database\\Bulk_Files\\2016\\12_31\\FFIEC CDR Call Schedule RCD 12312016.txt\n",
      "C:\\Users\\whill\\call-report-database\\Bulk_Files\\2016\\12_31\\FFIEC CDR Call Schedule RCE 12312016.txt\n",
      "C:\\Users\\whill\\call-report-database\\Bulk_Files\\2016\\12_31\\FFIEC CDR Call Schedule RCEI 12312016.txt\n",
      "C:\\Users\\whill\\call-report-database\\Bulk_Files\\2016\\12_31\\FFIEC CDR Call Schedule RCEII 12312016.txt\n",
      "C:\\Users\\whill\\call-report-database\\Bulk_Files\\2016\\12_31\\FFIEC CDR Call Schedule RCF 12312016.txt\n",
      "C:\\Users\\whill\\call-report-database\\Bulk_Files\\2016\\12_31\\FFIEC CDR Call Schedule RCG 12312016.txt\n",
      "C:\\Users\\whill\\call-report-database\\Bulk_Files\\2016\\12_31\\FFIEC CDR Call Schedule RCH 12312016.txt\n",
      "C:\\Users\\whill\\call-report-database\\Bulk_Files\\2016\\12_31\\FFIEC CDR Call Schedule RCI 12312016.txt\n",
      "C:\\Users\\whill\\call-report-database\\Bulk_Files\\2016\\12_31\\FFIEC CDR Call Schedule RCK 12312016.txt\n",
      "C:\\Users\\whill\\call-report-database\\Bulk_Files\\2016\\12_31\\FFIEC CDR Call Schedule RCL 12312016(1 of 2).txt\n",
      "C:\\Users\\whill\\call-report-database\\Bulk_Files\\2016\\12_31\\FFIEC CDR Call Schedule RCL 12312016(2 of 2).txt\n",
      "C:\\Users\\whill\\call-report-database\\Bulk_Files\\2016\\12_31\\FFIEC CDR Call Schedule RCM 12312016.txt\n",
      "C:\\Users\\whill\\call-report-database\\Bulk_Files\\2016\\12_31\\FFIEC CDR Call Schedule RCN 12312016(1 of 2).txt\n",
      "C:\\Users\\whill\\call-report-database\\Bulk_Files\\2016\\12_31\\FFIEC CDR Call Schedule RCN 12312016(2 of 2).txt\n",
      "C:\\Users\\whill\\call-report-database\\Bulk_Files\\2016\\12_31\\FFIEC CDR Call Schedule RCO 12312016(1 of 2).txt\n",
      "C:\\Users\\whill\\call-report-database\\Bulk_Files\\2016\\12_31\\FFIEC CDR Call Schedule RCO 12312016(2 of 2).txt\n",
      "C:\\Users\\whill\\call-report-database\\Bulk_Files\\2016\\12_31\\FFIEC CDR Call Schedule RCP 12312016.txt\n",
      "C:\\Users\\whill\\call-report-database\\Bulk_Files\\2016\\12_31\\FFIEC CDR Call Schedule RCQ 12312016(1 of 2).txt\n",
      "C:\\Users\\whill\\call-report-database\\Bulk_Files\\2016\\12_31\\FFIEC CDR Call Schedule RCQ 12312016(2 of 2).txt\n",
      "C:\\Users\\whill\\call-report-database\\Bulk_Files\\2016\\12_31\\FFIEC CDR Call Schedule RCRI 12312016.txt\n",
      "C:\\Users\\whill\\call-report-database\\Bulk_Files\\2016\\12_31\\FFIEC CDR Call Schedule RCRII 12312016(1 of 3).txt\n",
      "C:\\Users\\whill\\call-report-database\\Bulk_Files\\2016\\12_31\\FFIEC CDR Call Schedule RCRII 12312016(2 of 3).txt\n",
      "C:\\Users\\whill\\call-report-database\\Bulk_Files\\2016\\12_31\\FFIEC CDR Call Schedule RCRII 12312016(3 of 3).txt\n",
      "C:\\Users\\whill\\call-report-database\\Bulk_Files\\2016\\12_31\\FFIEC CDR Call Schedule RCS 12312016.txt\n",
      "C:\\Users\\whill\\call-report-database\\Bulk_Files\\2016\\12_31\\FFIEC CDR Call Schedule RCT 12312016(1 of 2).txt\n",
      "C:\\Users\\whill\\call-report-database\\Bulk_Files\\2016\\12_31\\FFIEC CDR Call Schedule RCT 12312016(2 of 2).txt\n",
      "C:\\Users\\whill\\call-report-database\\Bulk_Files\\2016\\12_31\\FFIEC CDR Call Schedule RCV 12312016.txt\n",
      "C:\\Users\\whill\\call-report-database\\Bulk_Files\\2016\\12_31\\FFIEC CDR Call Schedule RI 12312016.txt\n",
      "C:\\Users\\whill\\call-report-database\\Bulk_Files\\2016\\12_31\\FFIEC CDR Call Schedule RIA 12312016.txt\n",
      "C:\\Users\\whill\\call-report-database\\Bulk_Files\\2016\\12_31\\FFIEC CDR Call Schedule RIBI 12312016.txt\n",
      "C:\\Users\\whill\\call-report-database\\Bulk_Files\\2016\\12_31\\FFIEC CDR Call Schedule RIBII 12312016.txt\n",
      "C:\\Users\\whill\\call-report-database\\Bulk_Files\\2016\\12_31\\FFIEC CDR Call Schedule RIC 12312016.txt\n",
      "C:\\Users\\whill\\call-report-database\\Bulk_Files\\2016\\12_31\\FFIEC CDR Call Schedule RID 12312016.txt\n",
      "C:\\Users\\whill\\call-report-database\\Bulk_Files\\2016\\12_31\\FFIEC CDR Call Schedule RIE 12312016.txt\n"
     ]
    },
    {
     "name": "stderr",
     "output_type": "stream",
     "text": [
      "C:\\Users\\whill\\anaconda3\\lib\\site-packages\\snowflake\\snowpark\\session.py:1891: UserWarning: Pandas Dataframe has non-standard index of type <class 'pandas.core.indexes.numeric.Int64Index'> which will not be written. Consider changing the index to pd.RangeIndex(start=0,...,step=1) or call reset_index() to keep index as column(s)\n",
      "  success, nchunks, nrows, ci_output = write_pandas(\n"
     ]
    },
    {
     "name": "stdout",
     "output_type": "stream",
     "text": [
      "554613 values inserted into table SCHEDULE_NARR\n"
     ]
    },
    {
     "name": "stderr",
     "output_type": "stream",
     "text": [
      "C:\\Users\\whill\\anaconda3\\lib\\site-packages\\snowflake\\snowpark\\session.py:1891: UserWarning: Pandas Dataframe has non-standard index of type <class 'pandas.core.indexes.numeric.Int64Index'> which will not be written. Consider changing the index to pd.RangeIndex(start=0,...,step=1) or call reset_index() to keep index as column(s)\n",
      "  success, nchunks, nrows, ci_output = write_pandas(\n"
     ]
    },
    {
     "name": "stdout",
     "output_type": "stream",
     "text": [
      "554613 values inserted into table SCHEDULE_RCF\n"
     ]
    },
    {
     "name": "stderr",
     "output_type": "stream",
     "text": [
      "C:\\Users\\whill\\anaconda3\\lib\\site-packages\\snowflake\\snowpark\\session.py:1891: UserWarning: Pandas Dataframe has non-standard index of type <class 'pandas.core.indexes.numeric.Int64Index'> which will not be written. Consider changing the index to pd.RangeIndex(start=0,...,step=1) or call reset_index() to keep index as column(s)\n",
      "  success, nchunks, nrows, ci_output = write_pandas(\n"
     ]
    },
    {
     "name": "stdout",
     "output_type": "stream",
     "text": [
      "554613 values inserted into table SCHEDULE_RCL\n"
     ]
    },
    {
     "name": "stderr",
     "output_type": "stream",
     "text": [
      "C:\\Users\\whill\\anaconda3\\lib\\site-packages\\snowflake\\snowpark\\session.py:1891: UserWarning: Pandas Dataframe has non-standard index of type <class 'pandas.core.indexes.numeric.Int64Index'> which will not be written. Consider changing the index to pd.RangeIndex(start=0,...,step=1) or call reset_index() to keep index as column(s)\n",
      "  success, nchunks, nrows, ci_output = write_pandas(\n"
     ]
    },
    {
     "name": "stdout",
     "output_type": "stream",
     "text": [
      "554613 values inserted into table SCHEDULE_RCN\n"
     ]
    },
    {
     "name": "stderr",
     "output_type": "stream",
     "text": [
      "C:\\Users\\whill\\anaconda3\\lib\\site-packages\\snowflake\\snowpark\\session.py:1891: UserWarning: Pandas Dataframe has non-standard index of type <class 'pandas.core.indexes.numeric.Int64Index'> which will not be written. Consider changing the index to pd.RangeIndex(start=0,...,step=1) or call reset_index() to keep index as column(s)\n",
      "  success, nchunks, nrows, ci_output = write_pandas(\n"
     ]
    },
    {
     "name": "stdout",
     "output_type": "stream",
     "text": [
      "554613 values inserted into table SCHEDULE_RIBII\n"
     ]
    },
    {
     "name": "stderr",
     "output_type": "stream",
     "text": [
      "C:\\Users\\whill\\anaconda3\\lib\\site-packages\\snowflake\\snowpark\\session.py:1891: UserWarning: Pandas Dataframe has non-standard index of type <class 'pandas.core.indexes.numeric.Int64Index'> which will not be written. Consider changing the index to pd.RangeIndex(start=0,...,step=1) or call reset_index() to keep index as column(s)\n",
      "  success, nchunks, nrows, ci_output = write_pandas(\n"
     ]
    },
    {
     "name": "stdout",
     "output_type": "stream",
     "text": [
      "554613 values inserted into table SCHEDULE_RIE\n"
     ]
    },
    {
     "name": "stderr",
     "output_type": "stream",
     "text": [
      "C:\\Users\\whill\\anaconda3\\lib\\site-packages\\snowflake\\snowpark\\session.py:1891: UserWarning: Pandas Dataframe has non-standard index of type <class 'pandas.core.indexes.numeric.Int64Index'> which will not be written. Consider changing the index to pd.RangeIndex(start=0,...,step=1) or call reset_index() to keep index as column(s)\n",
      "  success, nchunks, nrows, ci_output = write_pandas(\n"
     ]
    },
    {
     "name": "stdout",
     "output_type": "stream",
     "text": [
      "554613 values inserted into table SCHEDULE_RCT\n"
     ]
    },
    {
     "name": "stderr",
     "output_type": "stream",
     "text": [
      "C:\\Users\\whill\\anaconda3\\lib\\site-packages\\snowflake\\snowpark\\session.py:1891: UserWarning: Pandas Dataframe has non-standard index of type <class 'pandas.core.indexes.numeric.Int64Index'> which will not be written. Consider changing the index to pd.RangeIndex(start=0,...,step=1) or call reset_index() to keep index as column(s)\n",
      "  success, nchunks, nrows, ci_output = write_pandas(\n"
     ]
    },
    {
     "name": "stdout",
     "output_type": "stream",
     "text": [
      "554613 values inserted into table SCHEDULE_RCS\n"
     ]
    },
    {
     "name": "stderr",
     "output_type": "stream",
     "text": [
      "C:\\Users\\whill\\anaconda3\\lib\\site-packages\\snowflake\\snowpark\\session.py:1891: UserWarning: Pandas Dataframe has non-standard index of type <class 'pandas.core.indexes.numeric.Int64Index'> which will not be written. Consider changing the index to pd.RangeIndex(start=0,...,step=1) or call reset_index() to keep index as column(s)\n",
      "  success, nchunks, nrows, ci_output = write_pandas(\n"
     ]
    },
    {
     "name": "stdout",
     "output_type": "stream",
     "text": [
      "554613 values inserted into table SCHEDULE_ENT\n"
     ]
    },
    {
     "name": "stderr",
     "output_type": "stream",
     "text": [
      "C:\\Users\\whill\\anaconda3\\lib\\site-packages\\snowflake\\snowpark\\session.py:1891: UserWarning: Pandas Dataframe has non-standard index of type <class 'pandas.core.indexes.numeric.Int64Index'> which will not be written. Consider changing the index to pd.RangeIndex(start=0,...,step=1) or call reset_index() to keep index as column(s)\n",
      "  success, nchunks, nrows, ci_output = write_pandas(\n"
     ]
    },
    {
     "name": "stdout",
     "output_type": "stream",
     "text": [
      "554613 values inserted into table SCHEDULE_RC\n"
     ]
    },
    {
     "name": "stderr",
     "output_type": "stream",
     "text": [
      "C:\\Users\\whill\\anaconda3\\lib\\site-packages\\snowflake\\snowpark\\session.py:1891: UserWarning: Pandas Dataframe has non-standard index of type <class 'pandas.core.indexes.numeric.Int64Index'> which will not be written. Consider changing the index to pd.RangeIndex(start=0,...,step=1) or call reset_index() to keep index as column(s)\n",
      "  success, nchunks, nrows, ci_output = write_pandas(\n"
     ]
    },
    {
     "name": "stdout",
     "output_type": "stream",
     "text": [
      "554613 values inserted into table SCHEDULE_RCB\n"
     ]
    },
    {
     "name": "stderr",
     "output_type": "stream",
     "text": [
      "C:\\Users\\whill\\anaconda3\\lib\\site-packages\\snowflake\\snowpark\\session.py:1891: UserWarning: Pandas Dataframe has non-standard index of type <class 'pandas.core.indexes.numeric.Int64Index'> which will not be written. Consider changing the index to pd.RangeIndex(start=0,...,step=1) or call reset_index() to keep index as column(s)\n",
      "  success, nchunks, nrows, ci_output = write_pandas(\n"
     ]
    },
    {
     "name": "stdout",
     "output_type": "stream",
     "text": [
      "554613 values inserted into table SCHEDULE_RCD\n"
     ]
    },
    {
     "name": "stderr",
     "output_type": "stream",
     "text": [
      "C:\\Users\\whill\\anaconda3\\lib\\site-packages\\snowflake\\snowpark\\session.py:1891: UserWarning: Pandas Dataframe has non-standard index of type <class 'pandas.core.indexes.numeric.Int64Index'> which will not be written. Consider changing the index to pd.RangeIndex(start=0,...,step=1) or call reset_index() to keep index as column(s)\n",
      "  success, nchunks, nrows, ci_output = write_pandas(\n"
     ]
    },
    {
     "name": "stdout",
     "output_type": "stream",
     "text": [
      "554613 values inserted into table SCHEDULE_RCEII\n"
     ]
    },
    {
     "name": "stderr",
     "output_type": "stream",
     "text": [
      "C:\\Users\\whill\\anaconda3\\lib\\site-packages\\snowflake\\snowpark\\session.py:1891: UserWarning: Pandas Dataframe has non-standard index of type <class 'pandas.core.indexes.numeric.Int64Index'> which will not be written. Consider changing the index to pd.RangeIndex(start=0,...,step=1) or call reset_index() to keep index as column(s)\n",
      "  success, nchunks, nrows, ci_output = write_pandas(\n"
     ]
    },
    {
     "name": "stdout",
     "output_type": "stream",
     "text": [
      "554613 values inserted into table SCHEDULE_RCRII\n"
     ]
    },
    {
     "name": "stderr",
     "output_type": "stream",
     "text": [
      "C:\\Users\\whill\\anaconda3\\lib\\site-packages\\snowflake\\snowpark\\session.py:1891: UserWarning: Pandas Dataframe has non-standard index of type <class 'pandas.core.indexes.numeric.Int64Index'> which will not be written. Consider changing the index to pd.RangeIndex(start=0,...,step=1) or call reset_index() to keep index as column(s)\n",
      "  success, nchunks, nrows, ci_output = write_pandas(\n"
     ]
    },
    {
     "name": "stdout",
     "output_type": "stream",
     "text": [
      "554613 values inserted into table SCHEDULE_RIA\n"
     ]
    },
    {
     "name": "stderr",
     "output_type": "stream",
     "text": [
      "C:\\Users\\whill\\anaconda3\\lib\\site-packages\\snowflake\\snowpark\\session.py:1891: UserWarning: Pandas Dataframe has non-standard index of type <class 'pandas.core.indexes.numeric.Int64Index'> which will not be written. Consider changing the index to pd.RangeIndex(start=0,...,step=1) or call reset_index() to keep index as column(s)\n",
      "  success, nchunks, nrows, ci_output = write_pandas(\n"
     ]
    },
    {
     "name": "stdout",
     "output_type": "stream",
     "text": [
      "554613 values inserted into table SCHEDULE_RICI\n"
     ]
    },
    {
     "name": "stderr",
     "output_type": "stream",
     "text": [
      "C:\\Users\\whill\\anaconda3\\lib\\site-packages\\snowflake\\snowpark\\session.py:1891: UserWarning: Pandas Dataframe has non-standard index of type <class 'pandas.core.indexes.numeric.Int64Index'> which will not be written. Consider changing the index to pd.RangeIndex(start=0,...,step=1) or call reset_index() to keep index as column(s)\n",
      "  success, nchunks, nrows, ci_output = write_pandas(\n"
     ]
    },
    {
     "name": "stdout",
     "output_type": "stream",
     "text": [
      "554613 values inserted into table SCHEDULE_RICII\n"
     ]
    },
    {
     "name": "stderr",
     "output_type": "stream",
     "text": [
      "C:\\Users\\whill\\anaconda3\\lib\\site-packages\\snowflake\\snowpark\\session.py:1891: UserWarning: Pandas Dataframe has non-standard index of type <class 'pandas.core.indexes.numeric.Int64Index'> which will not be written. Consider changing the index to pd.RangeIndex(start=0,...,step=1) or call reset_index() to keep index as column(s)\n",
      "  success, nchunks, nrows, ci_output = write_pandas(\n"
     ]
    },
    {
     "name": "stdout",
     "output_type": "stream",
     "text": [
      "554613 values inserted into table SCHEDULE_SU\n"
     ]
    },
    {
     "name": "stderr",
     "output_type": "stream",
     "text": [
      "C:\\Users\\whill\\anaconda3\\lib\\site-packages\\snowflake\\snowpark\\session.py:1891: UserWarning: Pandas Dataframe has non-standard index of type <class 'pandas.core.indexes.numeric.Int64Index'> which will not be written. Consider changing the index to pd.RangeIndex(start=0,...,step=1) or call reset_index() to keep index as column(s)\n",
      "  success, nchunks, nrows, ci_output = write_pandas(\n"
     ]
    },
    {
     "name": "stdout",
     "output_type": "stream",
     "text": [
      "554613 values inserted into table SCHEDULE_RCK\n"
     ]
    },
    {
     "name": "stderr",
     "output_type": "stream",
     "text": [
      "C:\\Users\\whill\\anaconda3\\lib\\site-packages\\snowflake\\snowpark\\session.py:1891: UserWarning: Pandas Dataframe has non-standard index of type <class 'pandas.core.indexes.numeric.Int64Index'> which will not be written. Consider changing the index to pd.RangeIndex(start=0,...,step=1) or call reset_index() to keep index as column(s)\n",
      "  success, nchunks, nrows, ci_output = write_pandas(\n"
     ]
    },
    {
     "name": "stdout",
     "output_type": "stream",
     "text": [
      "554613 values inserted into table SCHEDULE_RCM\n"
     ]
    },
    {
     "name": "stderr",
     "output_type": "stream",
     "text": [
      "C:\\Users\\whill\\anaconda3\\lib\\site-packages\\snowflake\\snowpark\\session.py:1891: UserWarning: Pandas Dataframe has non-standard index of type <class 'pandas.core.indexes.numeric.Int64Index'> which will not be written. Consider changing the index to pd.RangeIndex(start=0,...,step=1) or call reset_index() to keep index as column(s)\n",
      "  success, nchunks, nrows, ci_output = write_pandas(\n"
     ]
    },
    {
     "name": "stdout",
     "output_type": "stream",
     "text": [
      "554613 values inserted into table SCHEDULE_UNDEFINED\n"
     ]
    },
    {
     "name": "stderr",
     "output_type": "stream",
     "text": [
      "C:\\Users\\whill\\anaconda3\\lib\\site-packages\\snowflake\\snowpark\\session.py:1891: UserWarning: Pandas Dataframe has non-standard index of type <class 'pandas.core.indexes.numeric.Int64Index'> which will not be written. Consider changing the index to pd.RangeIndex(start=0,...,step=1) or call reset_index() to keep index as column(s)\n",
      "  success, nchunks, nrows, ci_output = write_pandas(\n"
     ]
    },
    {
     "name": "stdout",
     "output_type": "stream",
     "text": [
      "554613 values inserted into table SCHEDULE_RID\n"
     ]
    },
    {
     "name": "stderr",
     "output_type": "stream",
     "text": [
      "C:\\Users\\whill\\anaconda3\\lib\\site-packages\\snowflake\\snowpark\\session.py:1891: UserWarning: Pandas Dataframe has non-standard index of type <class 'pandas.core.indexes.numeric.Int64Index'> which will not be written. Consider changing the index to pd.RangeIndex(start=0,...,step=1) or call reset_index() to keep index as column(s)\n",
      "  success, nchunks, nrows, ci_output = write_pandas(\n"
     ]
    },
    {
     "name": "stdout",
     "output_type": "stream",
     "text": [
      "554613 values inserted into table SCHEDULE_RCA\n"
     ]
    },
    {
     "name": "stderr",
     "output_type": "stream",
     "text": [
      "C:\\Users\\whill\\anaconda3\\lib\\site-packages\\snowflake\\snowpark\\session.py:1891: UserWarning: Pandas Dataframe has non-standard index of type <class 'pandas.core.indexes.numeric.Int64Index'> which will not be written. Consider changing the index to pd.RangeIndex(start=0,...,step=1) or call reset_index() to keep index as column(s)\n",
      "  success, nchunks, nrows, ci_output = write_pandas(\n"
     ]
    },
    {
     "name": "stdout",
     "output_type": "stream",
     "text": [
      "554613 values inserted into table SCHEDULE_RCE\n"
     ]
    },
    {
     "name": "stderr",
     "output_type": "stream",
     "text": [
      "C:\\Users\\whill\\anaconda3\\lib\\site-packages\\snowflake\\snowpark\\session.py:1891: UserWarning: Pandas Dataframe has non-standard index of type <class 'pandas.core.indexes.numeric.Int64Index'> which will not be written. Consider changing the index to pd.RangeIndex(start=0,...,step=1) or call reset_index() to keep index as column(s)\n",
      "  success, nchunks, nrows, ci_output = write_pandas(\n"
     ]
    },
    {
     "name": "stdout",
     "output_type": "stream",
     "text": [
      "554613 values inserted into table SCHEDULE_RCH\n"
     ]
    },
    {
     "name": "stderr",
     "output_type": "stream",
     "text": [
      "C:\\Users\\whill\\anaconda3\\lib\\site-packages\\snowflake\\snowpark\\session.py:1891: UserWarning: Pandas Dataframe has non-standard index of type <class 'pandas.core.indexes.numeric.Int64Index'> which will not be written. Consider changing the index to pd.RangeIndex(start=0,...,step=1) or call reset_index() to keep index as column(s)\n",
      "  success, nchunks, nrows, ci_output = write_pandas(\n"
     ]
    },
    {
     "name": "stdout",
     "output_type": "stream",
     "text": [
      "554613 values inserted into table SCHEDULE_RCO\n"
     ]
    },
    {
     "name": "stderr",
     "output_type": "stream",
     "text": [
      "C:\\Users\\whill\\anaconda3\\lib\\site-packages\\snowflake\\snowpark\\session.py:1891: UserWarning: Pandas Dataframe has non-standard index of type <class 'pandas.core.indexes.numeric.Int64Index'> which will not be written. Consider changing the index to pd.RangeIndex(start=0,...,step=1) or call reset_index() to keep index as column(s)\n",
      "  success, nchunks, nrows, ci_output = write_pandas(\n"
     ]
    },
    {
     "name": "stdout",
     "output_type": "stream",
     "text": [
      "554613 values inserted into table SCHEDULE_RCP\n"
     ]
    },
    {
     "name": "stderr",
     "output_type": "stream",
     "text": [
      "C:\\Users\\whill\\anaconda3\\lib\\site-packages\\snowflake\\snowpark\\session.py:1891: UserWarning: Pandas Dataframe has non-standard index of type <class 'pandas.core.indexes.numeric.Int64Index'> which will not be written. Consider changing the index to pd.RangeIndex(start=0,...,step=1) or call reset_index() to keep index as column(s)\n",
      "  success, nchunks, nrows, ci_output = write_pandas(\n"
     ]
    },
    {
     "name": "stdout",
     "output_type": "stream",
     "text": [
      "554613 values inserted into table SCHEDULE_RCQ\n"
     ]
    },
    {
     "name": "stderr",
     "output_type": "stream",
     "text": [
      "C:\\Users\\whill\\anaconda3\\lib\\site-packages\\snowflake\\snowpark\\session.py:1891: UserWarning: Pandas Dataframe has non-standard index of type <class 'pandas.core.indexes.numeric.Int64Index'> which will not be written. Consider changing the index to pd.RangeIndex(start=0,...,step=1) or call reset_index() to keep index as column(s)\n",
      "  success, nchunks, nrows, ci_output = write_pandas(\n"
     ]
    },
    {
     "name": "stdout",
     "output_type": "stream",
     "text": [
      "Error in table SCHEDULE_RCRI: 100071 (22000): Failed to cast variant value \"9.2869%\" to REAL\n"
     ]
    },
    {
     "name": "stderr",
     "output_type": "stream",
     "text": [
      "C:\\Users\\whill\\anaconda3\\lib\\site-packages\\snowflake\\snowpark\\session.py:1891: UserWarning: Pandas Dataframe has non-standard index of type <class 'pandas.core.indexes.numeric.Int64Index'> which will not be written. Consider changing the index to pd.RangeIndex(start=0,...,step=1) or call reset_index() to keep index as column(s)\n",
      "  success, nchunks, nrows, ci_output = write_pandas(\n"
     ]
    },
    {
     "name": "stdout",
     "output_type": "stream",
     "text": [
      "554613 values inserted into table SCHEDULE_LEO\n"
     ]
    },
    {
     "name": "stderr",
     "output_type": "stream",
     "text": [
      "C:\\Users\\whill\\anaconda3\\lib\\site-packages\\snowflake\\snowpark\\session.py:1891: UserWarning: Pandas Dataframe has non-standard index of type <class 'pandas.core.indexes.numeric.Int64Index'> which will not be written. Consider changing the index to pd.RangeIndex(start=0,...,step=1) or call reset_index() to keep index as column(s)\n",
      "  success, nchunks, nrows, ci_output = write_pandas(\n"
     ]
    },
    {
     "name": "stdout",
     "output_type": "stream",
     "text": [
      "554613 values inserted into table SCHEDULE_RCCI\n"
     ]
    },
    {
     "name": "stderr",
     "output_type": "stream",
     "text": [
      "C:\\Users\\whill\\anaconda3\\lib\\site-packages\\snowflake\\snowpark\\session.py:1891: UserWarning: Pandas Dataframe has non-standard index of type <class 'pandas.core.indexes.numeric.Int64Index'> which will not be written. Consider changing the index to pd.RangeIndex(start=0,...,step=1) or call reset_index() to keep index as column(s)\n",
      "  success, nchunks, nrows, ci_output = write_pandas(\n"
     ]
    },
    {
     "name": "stdout",
     "output_type": "stream",
     "text": [
      "554613 values inserted into table SCHEDULE_RCCII\n"
     ]
    },
    {
     "name": "stderr",
     "output_type": "stream",
     "text": [
      "C:\\Users\\whill\\anaconda3\\lib\\site-packages\\snowflake\\snowpark\\session.py:1891: UserWarning: Pandas Dataframe has non-standard index of type <class 'pandas.core.indexes.numeric.Int64Index'> which will not be written. Consider changing the index to pd.RangeIndex(start=0,...,step=1) or call reset_index() to keep index as column(s)\n",
      "  success, nchunks, nrows, ci_output = write_pandas(\n"
     ]
    },
    {
     "name": "stdout",
     "output_type": "stream",
     "text": [
      "554613 values inserted into table SCHEDULE_RCEI\n"
     ]
    },
    {
     "name": "stderr",
     "output_type": "stream",
     "text": [
      "C:\\Users\\whill\\anaconda3\\lib\\site-packages\\snowflake\\snowpark\\session.py:1891: UserWarning: Pandas Dataframe has non-standard index of type <class 'pandas.core.indexes.numeric.Int64Index'> which will not be written. Consider changing the index to pd.RangeIndex(start=0,...,step=1) or call reset_index() to keep index as column(s)\n",
      "  success, nchunks, nrows, ci_output = write_pandas(\n"
     ]
    },
    {
     "name": "stdout",
     "output_type": "stream",
     "text": [
      "554613 values inserted into table SCHEDULE_RCG\n"
     ]
    },
    {
     "name": "stderr",
     "output_type": "stream",
     "text": [
      "C:\\Users\\whill\\anaconda3\\lib\\site-packages\\snowflake\\snowpark\\session.py:1891: UserWarning: Pandas Dataframe has non-standard index of type <class 'pandas.core.indexes.numeric.Int64Index'> which will not be written. Consider changing the index to pd.RangeIndex(start=0,...,step=1) or call reset_index() to keep index as column(s)\n",
      "  success, nchunks, nrows, ci_output = write_pandas(\n"
     ]
    },
    {
     "name": "stdout",
     "output_type": "stream",
     "text": [
      "554613 values inserted into table SCHEDULE_RCV\n"
     ]
    },
    {
     "name": "stderr",
     "output_type": "stream",
     "text": [
      "C:\\Users\\whill\\anaconda3\\lib\\site-packages\\snowflake\\snowpark\\session.py:1891: UserWarning: Pandas Dataframe has non-standard index of type <class 'pandas.core.indexes.numeric.Int64Index'> which will not be written. Consider changing the index to pd.RangeIndex(start=0,...,step=1) or call reset_index() to keep index as column(s)\n",
      "  success, nchunks, nrows, ci_output = write_pandas(\n"
     ]
    },
    {
     "name": "stdout",
     "output_type": "stream",
     "text": [
      "554613 values inserted into table SCHEDULE_RI\n"
     ]
    },
    {
     "name": "stderr",
     "output_type": "stream",
     "text": [
      "C:\\Users\\whill\\anaconda3\\lib\\site-packages\\snowflake\\snowpark\\session.py:1891: UserWarning: Pandas Dataframe has non-standard index of type <class 'pandas.core.indexes.numeric.Int64Index'> which will not be written. Consider changing the index to pd.RangeIndex(start=0,...,step=1) or call reset_index() to keep index as column(s)\n",
      "  success, nchunks, nrows, ci_output = write_pandas(\n"
     ]
    },
    {
     "name": "stdout",
     "output_type": "stream",
     "text": [
      "554613 values inserted into table SCHEDULE_RIBI\n"
     ]
    },
    {
     "name": "stderr",
     "output_type": "stream",
     "text": [
      "C:\\Users\\whill\\anaconda3\\lib\\site-packages\\snowflake\\snowpark\\session.py:1891: UserWarning: Pandas Dataframe has non-standard index of type <class 'pandas.core.indexes.numeric.Int64Index'> which will not be written. Consider changing the index to pd.RangeIndex(start=0,...,step=1) or call reset_index() to keep index as column(s)\n",
      "  success, nchunks, nrows, ci_output = write_pandas(\n"
     ]
    },
    {
     "name": "stdout",
     "output_type": "stream",
     "text": [
      "554613 values inserted into table SCHEDULE_RCR\n"
     ]
    },
    {
     "name": "stderr",
     "output_type": "stream",
     "text": [
      "C:\\Users\\whill\\anaconda3\\lib\\site-packages\\snowflake\\snowpark\\session.py:1891: UserWarning: Pandas Dataframe has non-standard index of type <class 'pandas.core.indexes.numeric.Int64Index'> which will not be written. Consider changing the index to pd.RangeIndex(start=0,...,step=1) or call reset_index() to keep index as column(s)\n",
      "  success, nchunks, nrows, ci_output = write_pandas(\n"
     ]
    },
    {
     "name": "stdout",
     "output_type": "stream",
     "text": [
      "554613 values inserted into table SCHEDULE_RIC\n"
     ]
    },
    {
     "name": "stderr",
     "output_type": "stream",
     "text": [
      "C:\\Users\\whill\\anaconda3\\lib\\site-packages\\snowflake\\snowpark\\session.py:1891: UserWarning: Pandas Dataframe has non-standard index of type <class 'pandas.core.indexes.numeric.Int64Index'> which will not be written. Consider changing the index to pd.RangeIndex(start=0,...,step=1) or call reset_index() to keep index as column(s)\n",
      "  success, nchunks, nrows, ci_output = write_pandas(\n"
     ]
    },
    {
     "name": "stdout",
     "output_type": "stream",
     "text": [
      "554613 values inserted into table SCHEDULE_RCI\n",
      "C:\\Users\\whill\\call-report-database\\Bulk_Files\\2017\\03_31\\FFIEC CDR Call Schedule CI 03312017.txt\n",
      "C:\\Users\\whill\\call-report-database\\Bulk_Files\\2017\\03_31\\FFIEC CDR Call Schedule ENT 03312017.txt\n",
      "C:\\Users\\whill\\call-report-database\\Bulk_Files\\2017\\03_31\\FFIEC CDR Call Schedule NARR 03312017.txt\n",
      "C:\\Users\\whill\\call-report-database\\Bulk_Files\\2017\\03_31\\FFIEC CDR Call Schedule RC 03312017.txt\n",
      "C:\\Users\\whill\\call-report-database\\Bulk_Files\\2017\\03_31\\FFIEC CDR Call Schedule RCA 03312017.txt\n",
      "C:\\Users\\whill\\call-report-database\\Bulk_Files\\2017\\03_31\\FFIEC CDR Call Schedule RCB 03312017(1 of 2).txt\n",
      "C:\\Users\\whill\\call-report-database\\Bulk_Files\\2017\\03_31\\FFIEC CDR Call Schedule RCB 03312017(2 of 2).txt\n",
      "C:\\Users\\whill\\call-report-database\\Bulk_Files\\2017\\03_31\\FFIEC CDR Call Schedule RCCI 03312017.txt\n",
      "C:\\Users\\whill\\call-report-database\\Bulk_Files\\2017\\03_31\\FFIEC CDR Call Schedule RCCII 03312017.txt\n",
      "C:\\Users\\whill\\call-report-database\\Bulk_Files\\2017\\03_31\\FFIEC CDR Call Schedule RCD 03312017.txt\n",
      "C:\\Users\\whill\\call-report-database\\Bulk_Files\\2017\\03_31\\FFIEC CDR Call Schedule RCE 03312017.txt\n",
      "C:\\Users\\whill\\call-report-database\\Bulk_Files\\2017\\03_31\\FFIEC CDR Call Schedule RCEI 03312017.txt\n",
      "C:\\Users\\whill\\call-report-database\\Bulk_Files\\2017\\03_31\\FFIEC CDR Call Schedule RCEII 03312017.txt\n",
      "C:\\Users\\whill\\call-report-database\\Bulk_Files\\2017\\03_31\\FFIEC CDR Call Schedule RCF 03312017.txt\n",
      "C:\\Users\\whill\\call-report-database\\Bulk_Files\\2017\\03_31\\FFIEC CDR Call Schedule RCG 03312017.txt\n",
      "C:\\Users\\whill\\call-report-database\\Bulk_Files\\2017\\03_31\\FFIEC CDR Call Schedule RCH 03312017.txt\n",
      "C:\\Users\\whill\\call-report-database\\Bulk_Files\\2017\\03_31\\FFIEC CDR Call Schedule RCI 03312017.txt\n",
      "C:\\Users\\whill\\call-report-database\\Bulk_Files\\2017\\03_31\\FFIEC CDR Call Schedule RCK 03312017.txt\n",
      "C:\\Users\\whill\\call-report-database\\Bulk_Files\\2017\\03_31\\FFIEC CDR Call Schedule RCL 03312017(1 of 2).txt\n",
      "C:\\Users\\whill\\call-report-database\\Bulk_Files\\2017\\03_31\\FFIEC CDR Call Schedule RCL 03312017(2 of 2).txt\n",
      "C:\\Users\\whill\\call-report-database\\Bulk_Files\\2017\\03_31\\FFIEC CDR Call Schedule RCM 03312017.txt\n",
      "C:\\Users\\whill\\call-report-database\\Bulk_Files\\2017\\03_31\\FFIEC CDR Call Schedule RCN 03312017(1 of 2).txt\n",
      "C:\\Users\\whill\\call-report-database\\Bulk_Files\\2017\\03_31\\FFIEC CDR Call Schedule RCN 03312017(2 of 2).txt\n",
      "C:\\Users\\whill\\call-report-database\\Bulk_Files\\2017\\03_31\\FFIEC CDR Call Schedule RCO 03312017(1 of 2).txt\n",
      "C:\\Users\\whill\\call-report-database\\Bulk_Files\\2017\\03_31\\FFIEC CDR Call Schedule RCO 03312017(2 of 2).txt\n",
      "C:\\Users\\whill\\call-report-database\\Bulk_Files\\2017\\03_31\\FFIEC CDR Call Schedule RCP 03312017.txt\n",
      "C:\\Users\\whill\\call-report-database\\Bulk_Files\\2017\\03_31\\FFIEC CDR Call Schedule RCQ 03312017(1 of 2).txt\n",
      "C:\\Users\\whill\\call-report-database\\Bulk_Files\\2017\\03_31\\FFIEC CDR Call Schedule RCQ 03312017(2 of 2).txt\n",
      "C:\\Users\\whill\\call-report-database\\Bulk_Files\\2017\\03_31\\FFIEC CDR Call Schedule RCRI 03312017.txt\n",
      "C:\\Users\\whill\\call-report-database\\Bulk_Files\\2017\\03_31\\FFIEC CDR Call Schedule RCRII 03312017(1 of 4).txt\n",
      "C:\\Users\\whill\\call-report-database\\Bulk_Files\\2017\\03_31\\FFIEC CDR Call Schedule RCRII 03312017(2 of 4).txt\n",
      "C:\\Users\\whill\\call-report-database\\Bulk_Files\\2017\\03_31\\FFIEC CDR Call Schedule RCRII 03312017(3 of 4).txt\n",
      "C:\\Users\\whill\\call-report-database\\Bulk_Files\\2017\\03_31\\FFIEC CDR Call Schedule RCRII 03312017(4 of 4).txt\n",
      "C:\\Users\\whill\\call-report-database\\Bulk_Files\\2017\\03_31\\FFIEC CDR Call Schedule RCS 03312017.txt\n",
      "C:\\Users\\whill\\call-report-database\\Bulk_Files\\2017\\03_31\\FFIEC CDR Call Schedule RCT 03312017(1 of 2).txt\n",
      "C:\\Users\\whill\\call-report-database\\Bulk_Files\\2017\\03_31\\FFIEC CDR Call Schedule RCT 03312017(2 of 2).txt\n",
      "C:\\Users\\whill\\call-report-database\\Bulk_Files\\2017\\03_31\\FFIEC CDR Call Schedule RCV 03312017.txt\n",
      "C:\\Users\\whill\\call-report-database\\Bulk_Files\\2017\\03_31\\FFIEC CDR Call Schedule RI 03312017.txt\n",
      "C:\\Users\\whill\\call-report-database\\Bulk_Files\\2017\\03_31\\FFIEC CDR Call Schedule RIA 03312017.txt\n",
      "C:\\Users\\whill\\call-report-database\\Bulk_Files\\2017\\03_31\\FFIEC CDR Call Schedule RIBI 03312017.txt\n",
      "C:\\Users\\whill\\call-report-database\\Bulk_Files\\2017\\03_31\\FFIEC CDR Call Schedule RIBII 03312017.txt\n",
      "C:\\Users\\whill\\call-report-database\\Bulk_Files\\2017\\03_31\\FFIEC CDR Call Schedule RIC 03312017.txt\n",
      "C:\\Users\\whill\\call-report-database\\Bulk_Files\\2017\\03_31\\FFIEC CDR Call Schedule RID 03312017.txt\n",
      "C:\\Users\\whill\\call-report-database\\Bulk_Files\\2017\\03_31\\FFIEC CDR Call Schedule RIE 03312017.txt\n",
      "C:\\Users\\whill\\call-report-database\\Bulk_Files\\2017\\03_31\\FFIEC CDR Call Schedule SU 03312017.txt\n"
     ]
    },
    {
     "name": "stderr",
     "output_type": "stream",
     "text": [
      "C:\\Users\\whill\\anaconda3\\lib\\site-packages\\snowflake\\snowpark\\session.py:1891: UserWarning: Pandas Dataframe has non-standard index of type <class 'pandas.core.indexes.numeric.Int64Index'> which will not be written. Consider changing the index to pd.RangeIndex(start=0,...,step=1) or call reset_index() to keep index as column(s)\n",
      "  success, nchunks, nrows, ci_output = write_pandas(\n"
     ]
    },
    {
     "name": "stdout",
     "output_type": "stream",
     "text": [
      "560521 values inserted into table SCHEDULE_LEO\n"
     ]
    },
    {
     "name": "stderr",
     "output_type": "stream",
     "text": [
      "C:\\Users\\whill\\anaconda3\\lib\\site-packages\\snowflake\\snowpark\\session.py:1891: UserWarning: Pandas Dataframe has non-standard index of type <class 'pandas.core.indexes.numeric.Int64Index'> which will not be written. Consider changing the index to pd.RangeIndex(start=0,...,step=1) or call reset_index() to keep index as column(s)\n",
      "  success, nchunks, nrows, ci_output = write_pandas(\n"
     ]
    },
    {
     "name": "stdout",
     "output_type": "stream",
     "text": [
      "560521 values inserted into table SCHEDULE_RCA\n"
     ]
    },
    {
     "name": "stderr",
     "output_type": "stream",
     "text": [
      "C:\\Users\\whill\\anaconda3\\lib\\site-packages\\snowflake\\snowpark\\session.py:1891: UserWarning: Pandas Dataframe has non-standard index of type <class 'pandas.core.indexes.numeric.Int64Index'> which will not be written. Consider changing the index to pd.RangeIndex(start=0,...,step=1) or call reset_index() to keep index as column(s)\n",
      "  success, nchunks, nrows, ci_output = write_pandas(\n"
     ]
    },
    {
     "name": "stdout",
     "output_type": "stream",
     "text": [
      "560521 values inserted into table SCHEDULE_RCE\n"
     ]
    },
    {
     "name": "stderr",
     "output_type": "stream",
     "text": [
      "C:\\Users\\whill\\anaconda3\\lib\\site-packages\\snowflake\\snowpark\\session.py:1891: UserWarning: Pandas Dataframe has non-standard index of type <class 'pandas.core.indexes.numeric.Int64Index'> which will not be written. Consider changing the index to pd.RangeIndex(start=0,...,step=1) or call reset_index() to keep index as column(s)\n",
      "  success, nchunks, nrows, ci_output = write_pandas(\n"
     ]
    },
    {
     "name": "stdout",
     "output_type": "stream",
     "text": [
      "560521 values inserted into table SCHEDULE_RCEII\n"
     ]
    },
    {
     "name": "stderr",
     "output_type": "stream",
     "text": [
      "C:\\Users\\whill\\anaconda3\\lib\\site-packages\\snowflake\\snowpark\\session.py:1891: UserWarning: Pandas Dataframe has non-standard index of type <class 'pandas.core.indexes.numeric.Int64Index'> which will not be written. Consider changing the index to pd.RangeIndex(start=0,...,step=1) or call reset_index() to keep index as column(s)\n",
      "  success, nchunks, nrows, ci_output = write_pandas(\n"
     ]
    },
    {
     "name": "stdout",
     "output_type": "stream",
     "text": [
      "560521 values inserted into table SCHEDULE_RCG\n"
     ]
    },
    {
     "name": "stderr",
     "output_type": "stream",
     "text": [
      "C:\\Users\\whill\\anaconda3\\lib\\site-packages\\snowflake\\snowpark\\session.py:1891: UserWarning: Pandas Dataframe has non-standard index of type <class 'pandas.core.indexes.numeric.Int64Index'> which will not be written. Consider changing the index to pd.RangeIndex(start=0,...,step=1) or call reset_index() to keep index as column(s)\n",
      "  success, nchunks, nrows, ci_output = write_pandas(\n"
     ]
    },
    {
     "name": "stdout",
     "output_type": "stream",
     "text": [
      "560521 values inserted into table SCHEDULE_RCL\n"
     ]
    },
    {
     "name": "stderr",
     "output_type": "stream",
     "text": [
      "C:\\Users\\whill\\anaconda3\\lib\\site-packages\\snowflake\\snowpark\\session.py:1891: UserWarning: Pandas Dataframe has non-standard index of type <class 'pandas.core.indexes.numeric.Int64Index'> which will not be written. Consider changing the index to pd.RangeIndex(start=0,...,step=1) or call reset_index() to keep index as column(s)\n",
      "  success, nchunks, nrows, ci_output = write_pandas(\n"
     ]
    },
    {
     "name": "stdout",
     "output_type": "stream",
     "text": [
      "560521 values inserted into table SCHEDULE_RCRII\n"
     ]
    },
    {
     "name": "stderr",
     "output_type": "stream",
     "text": [
      "C:\\Users\\whill\\anaconda3\\lib\\site-packages\\snowflake\\snowpark\\session.py:1891: UserWarning: Pandas Dataframe has non-standard index of type <class 'pandas.core.indexes.numeric.Int64Index'> which will not be written. Consider changing the index to pd.RangeIndex(start=0,...,step=1) or call reset_index() to keep index as column(s)\n",
      "  success, nchunks, nrows, ci_output = write_pandas(\n"
     ]
    },
    {
     "name": "stdout",
     "output_type": "stream",
     "text": [
      "560521 values inserted into table SCHEDULE_RCT\n"
     ]
    },
    {
     "name": "stderr",
     "output_type": "stream",
     "text": [
      "C:\\Users\\whill\\anaconda3\\lib\\site-packages\\snowflake\\snowpark\\session.py:1891: UserWarning: Pandas Dataframe has non-standard index of type <class 'pandas.core.indexes.numeric.Int64Index'> which will not be written. Consider changing the index to pd.RangeIndex(start=0,...,step=1) or call reset_index() to keep index as column(s)\n",
      "  success, nchunks, nrows, ci_output = write_pandas(\n"
     ]
    },
    {
     "name": "stdout",
     "output_type": "stream",
     "text": [
      "560521 values inserted into table SCHEDULE_RCV\n"
     ]
    },
    {
     "name": "stderr",
     "output_type": "stream",
     "text": [
      "C:\\Users\\whill\\anaconda3\\lib\\site-packages\\snowflake\\snowpark\\session.py:1891: UserWarning: Pandas Dataframe has non-standard index of type <class 'pandas.core.indexes.numeric.Int64Index'> which will not be written. Consider changing the index to pd.RangeIndex(start=0,...,step=1) or call reset_index() to keep index as column(s)\n",
      "  success, nchunks, nrows, ci_output = write_pandas(\n"
     ]
    },
    {
     "name": "stdout",
     "output_type": "stream",
     "text": [
      "560521 values inserted into table SCHEDULE_RIBI\n"
     ]
    },
    {
     "name": "stderr",
     "output_type": "stream",
     "text": [
      "C:\\Users\\whill\\anaconda3\\lib\\site-packages\\snowflake\\snowpark\\session.py:1891: UserWarning: Pandas Dataframe has non-standard index of type <class 'pandas.core.indexes.numeric.Int64Index'> which will not be written. Consider changing the index to pd.RangeIndex(start=0,...,step=1) or call reset_index() to keep index as column(s)\n",
      "  success, nchunks, nrows, ci_output = write_pandas(\n"
     ]
    },
    {
     "name": "stdout",
     "output_type": "stream",
     "text": [
      "560521 values inserted into table SCHEDULE_RIBII\n"
     ]
    },
    {
     "name": "stderr",
     "output_type": "stream",
     "text": [
      "C:\\Users\\whill\\anaconda3\\lib\\site-packages\\snowflake\\snowpark\\session.py:1891: UserWarning: Pandas Dataframe has non-standard index of type <class 'pandas.core.indexes.numeric.Int64Index'> which will not be written. Consider changing the index to pd.RangeIndex(start=0,...,step=1) or call reset_index() to keep index as column(s)\n",
      "  success, nchunks, nrows, ci_output = write_pandas(\n"
     ]
    },
    {
     "name": "stdout",
     "output_type": "stream",
     "text": [
      "560521 values inserted into table SCHEDULE_SU\n"
     ]
    },
    {
     "name": "stderr",
     "output_type": "stream",
     "text": [
      "C:\\Users\\whill\\anaconda3\\lib\\site-packages\\snowflake\\snowpark\\session.py:1891: UserWarning: Pandas Dataframe has non-standard index of type <class 'pandas.core.indexes.numeric.Int64Index'> which will not be written. Consider changing the index to pd.RangeIndex(start=0,...,step=1) or call reset_index() to keep index as column(s)\n",
      "  success, nchunks, nrows, ci_output = write_pandas(\n"
     ]
    },
    {
     "name": "stdout",
     "output_type": "stream",
     "text": [
      "560521 values inserted into table SCHEDULE_RCM\n"
     ]
    },
    {
     "name": "stderr",
     "output_type": "stream",
     "text": [
      "C:\\Users\\whill\\anaconda3\\lib\\site-packages\\snowflake\\snowpark\\session.py:1891: UserWarning: Pandas Dataframe has non-standard index of type <class 'pandas.core.indexes.numeric.Int64Index'> which will not be written. Consider changing the index to pd.RangeIndex(start=0,...,step=1) or call reset_index() to keep index as column(s)\n",
      "  success, nchunks, nrows, ci_output = write_pandas(\n"
     ]
    },
    {
     "name": "stdout",
     "output_type": "stream",
     "text": [
      "560521 values inserted into table SCHEDULE_RI\n"
     ]
    },
    {
     "name": "stderr",
     "output_type": "stream",
     "text": [
      "C:\\Users\\whill\\anaconda3\\lib\\site-packages\\snowflake\\snowpark\\session.py:1891: UserWarning: Pandas Dataframe has non-standard index of type <class 'pandas.core.indexes.numeric.Int64Index'> which will not be written. Consider changing the index to pd.RangeIndex(start=0,...,step=1) or call reset_index() to keep index as column(s)\n",
      "  success, nchunks, nrows, ci_output = write_pandas(\n"
     ]
    },
    {
     "name": "stdout",
     "output_type": "stream",
     "text": [
      "560521 values inserted into table SCHEDULE_RICI\n"
     ]
    },
    {
     "name": "stderr",
     "output_type": "stream",
     "text": [
      "C:\\Users\\whill\\anaconda3\\lib\\site-packages\\snowflake\\snowpark\\session.py:1891: UserWarning: Pandas Dataframe has non-standard index of type <class 'pandas.core.indexes.numeric.Int64Index'> which will not be written. Consider changing the index to pd.RangeIndex(start=0,...,step=1) or call reset_index() to keep index as column(s)\n",
      "  success, nchunks, nrows, ci_output = write_pandas(\n"
     ]
    },
    {
     "name": "stdout",
     "output_type": "stream",
     "text": [
      "560521 values inserted into table SCHEDULE_ENT\n"
     ]
    },
    {
     "name": "stderr",
     "output_type": "stream",
     "text": [
      "C:\\Users\\whill\\anaconda3\\lib\\site-packages\\snowflake\\snowpark\\session.py:1891: UserWarning: Pandas Dataframe has non-standard index of type <class 'pandas.core.indexes.numeric.Int64Index'> which will not be written. Consider changing the index to pd.RangeIndex(start=0,...,step=1) or call reset_index() to keep index as column(s)\n",
      "  success, nchunks, nrows, ci_output = write_pandas(\n"
     ]
    },
    {
     "name": "stdout",
     "output_type": "stream",
     "text": [
      "560521 values inserted into table SCHEDULE_RC\n"
     ]
    },
    {
     "name": "stderr",
     "output_type": "stream",
     "text": [
      "C:\\Users\\whill\\anaconda3\\lib\\site-packages\\snowflake\\snowpark\\session.py:1891: UserWarning: Pandas Dataframe has non-standard index of type <class 'pandas.core.indexes.numeric.Int64Index'> which will not be written. Consider changing the index to pd.RangeIndex(start=0,...,step=1) or call reset_index() to keep index as column(s)\n",
      "  success, nchunks, nrows, ci_output = write_pandas(\n"
     ]
    },
    {
     "name": "stdout",
     "output_type": "stream",
     "text": [
      "560521 values inserted into table SCHEDULE_RCP\n"
     ]
    },
    {
     "name": "stderr",
     "output_type": "stream",
     "text": [
      "C:\\Users\\whill\\anaconda3\\lib\\site-packages\\snowflake\\snowpark\\session.py:1891: UserWarning: Pandas Dataframe has non-standard index of type <class 'pandas.core.indexes.numeric.Int64Index'> which will not be written. Consider changing the index to pd.RangeIndex(start=0,...,step=1) or call reset_index() to keep index as column(s)\n",
      "  success, nchunks, nrows, ci_output = write_pandas(\n"
     ]
    },
    {
     "name": "stdout",
     "output_type": "stream",
     "text": [
      "560521 values inserted into table SCHEDULE_RCS\n"
     ]
    },
    {
     "name": "stderr",
     "output_type": "stream",
     "text": [
      "C:\\Users\\whill\\anaconda3\\lib\\site-packages\\snowflake\\snowpark\\session.py:1891: UserWarning: Pandas Dataframe has non-standard index of type <class 'pandas.core.indexes.numeric.Int64Index'> which will not be written. Consider changing the index to pd.RangeIndex(start=0,...,step=1) or call reset_index() to keep index as column(s)\n",
      "  success, nchunks, nrows, ci_output = write_pandas(\n"
     ]
    },
    {
     "name": "stdout",
     "output_type": "stream",
     "text": [
      "560521 values inserted into table SCHEDULE_RIA\n"
     ]
    },
    {
     "name": "stderr",
     "output_type": "stream",
     "text": [
      "C:\\Users\\whill\\anaconda3\\lib\\site-packages\\snowflake\\snowpark\\session.py:1891: UserWarning: Pandas Dataframe has non-standard index of type <class 'pandas.core.indexes.numeric.Int64Index'> which will not be written. Consider changing the index to pd.RangeIndex(start=0,...,step=1) or call reset_index() to keep index as column(s)\n",
      "  success, nchunks, nrows, ci_output = write_pandas(\n"
     ]
    },
    {
     "name": "stdout",
     "output_type": "stream",
     "text": [
      "560521 values inserted into table SCHEDULE_RCI\n"
     ]
    },
    {
     "name": "stderr",
     "output_type": "stream",
     "text": [
      "C:\\Users\\whill\\anaconda3\\lib\\site-packages\\snowflake\\snowpark\\session.py:1891: UserWarning: Pandas Dataframe has non-standard index of type <class 'pandas.core.indexes.numeric.Int64Index'> which will not be written. Consider changing the index to pd.RangeIndex(start=0,...,step=1) or call reset_index() to keep index as column(s)\n",
      "  success, nchunks, nrows, ci_output = write_pandas(\n"
     ]
    },
    {
     "name": "stdout",
     "output_type": "stream",
     "text": [
      "560521 values inserted into table SCHEDULE_UNDEFINED\n"
     ]
    },
    {
     "name": "stderr",
     "output_type": "stream",
     "text": [
      "C:\\Users\\whill\\anaconda3\\lib\\site-packages\\snowflake\\snowpark\\session.py:1891: UserWarning: Pandas Dataframe has non-standard index of type <class 'pandas.core.indexes.numeric.Int64Index'> which will not be written. Consider changing the index to pd.RangeIndex(start=0,...,step=1) or call reset_index() to keep index as column(s)\n",
      "  success, nchunks, nrows, ci_output = write_pandas(\n"
     ]
    },
    {
     "name": "stdout",
     "output_type": "stream",
     "text": [
      "560521 values inserted into table SCHEDULE_NARR\n"
     ]
    },
    {
     "name": "stderr",
     "output_type": "stream",
     "text": [
      "C:\\Users\\whill\\anaconda3\\lib\\site-packages\\snowflake\\snowpark\\session.py:1891: UserWarning: Pandas Dataframe has non-standard index of type <class 'pandas.core.indexes.numeric.Int64Index'> which will not be written. Consider changing the index to pd.RangeIndex(start=0,...,step=1) or call reset_index() to keep index as column(s)\n",
      "  success, nchunks, nrows, ci_output = write_pandas(\n"
     ]
    },
    {
     "name": "stdout",
     "output_type": "stream",
     "text": [
      "560521 values inserted into table SCHEDULE_RCCII\n"
     ]
    },
    {
     "name": "stderr",
     "output_type": "stream",
     "text": [
      "C:\\Users\\whill\\anaconda3\\lib\\site-packages\\snowflake\\snowpark\\session.py:1891: UserWarning: Pandas Dataframe has non-standard index of type <class 'pandas.core.indexes.numeric.Int64Index'> which will not be written. Consider changing the index to pd.RangeIndex(start=0,...,step=1) or call reset_index() to keep index as column(s)\n",
      "  success, nchunks, nrows, ci_output = write_pandas(\n"
     ]
    },
    {
     "name": "stdout",
     "output_type": "stream",
     "text": [
      "560521 values inserted into table SCHEDULE_RCH\n"
     ]
    },
    {
     "name": "stderr",
     "output_type": "stream",
     "text": [
      "C:\\Users\\whill\\anaconda3\\lib\\site-packages\\snowflake\\snowpark\\session.py:1891: UserWarning: Pandas Dataframe has non-standard index of type <class 'pandas.core.indexes.numeric.Int64Index'> which will not be written. Consider changing the index to pd.RangeIndex(start=0,...,step=1) or call reset_index() to keep index as column(s)\n",
      "  success, nchunks, nrows, ci_output = write_pandas(\n"
     ]
    },
    {
     "name": "stdout",
     "output_type": "stream",
     "text": [
      "560521 values inserted into table SCHEDULE_RCR\n"
     ]
    },
    {
     "name": "stderr",
     "output_type": "stream",
     "text": [
      "C:\\Users\\whill\\anaconda3\\lib\\site-packages\\snowflake\\snowpark\\session.py:1891: UserWarning: Pandas Dataframe has non-standard index of type <class 'pandas.core.indexes.numeric.Int64Index'> which will not be written. Consider changing the index to pd.RangeIndex(start=0,...,step=1) or call reset_index() to keep index as column(s)\n",
      "  success, nchunks, nrows, ci_output = write_pandas(\n"
     ]
    },
    {
     "name": "stdout",
     "output_type": "stream",
     "text": [
      "Error in table SCHEDULE_RCRI: 100071 (22000): Failed to cast variant value \"9.1821%\" to REAL\n"
     ]
    },
    {
     "name": "stderr",
     "output_type": "stream",
     "text": [
      "C:\\Users\\whill\\anaconda3\\lib\\site-packages\\snowflake\\snowpark\\session.py:1891: UserWarning: Pandas Dataframe has non-standard index of type <class 'pandas.core.indexes.numeric.Int64Index'> which will not be written. Consider changing the index to pd.RangeIndex(start=0,...,step=1) or call reset_index() to keep index as column(s)\n",
      "  success, nchunks, nrows, ci_output = write_pandas(\n"
     ]
    },
    {
     "name": "stdout",
     "output_type": "stream",
     "text": [
      "560521 values inserted into table SCHEDULE_RID\n"
     ]
    },
    {
     "name": "stderr",
     "output_type": "stream",
     "text": [
      "C:\\Users\\whill\\anaconda3\\lib\\site-packages\\snowflake\\snowpark\\session.py:1891: UserWarning: Pandas Dataframe has non-standard index of type <class 'pandas.core.indexes.numeric.Int64Index'> which will not be written. Consider changing the index to pd.RangeIndex(start=0,...,step=1) or call reset_index() to keep index as column(s)\n",
      "  success, nchunks, nrows, ci_output = write_pandas(\n"
     ]
    },
    {
     "name": "stdout",
     "output_type": "stream",
     "text": [
      "560521 values inserted into table SCHEDULE_RIE\n"
     ]
    },
    {
     "name": "stderr",
     "output_type": "stream",
     "text": [
      "C:\\Users\\whill\\anaconda3\\lib\\site-packages\\snowflake\\snowpark\\session.py:1891: UserWarning: Pandas Dataframe has non-standard index of type <class 'pandas.core.indexes.numeric.Int64Index'> which will not be written. Consider changing the index to pd.RangeIndex(start=0,...,step=1) or call reset_index() to keep index as column(s)\n",
      "  success, nchunks, nrows, ci_output = write_pandas(\n"
     ]
    },
    {
     "name": "stdout",
     "output_type": "stream",
     "text": [
      "560521 values inserted into table SCHEDULE_RCK\n"
     ]
    },
    {
     "name": "stderr",
     "output_type": "stream",
     "text": [
      "C:\\Users\\whill\\anaconda3\\lib\\site-packages\\snowflake\\snowpark\\session.py:1891: UserWarning: Pandas Dataframe has non-standard index of type <class 'pandas.core.indexes.numeric.Int64Index'> which will not be written. Consider changing the index to pd.RangeIndex(start=0,...,step=1) or call reset_index() to keep index as column(s)\n",
      "  success, nchunks, nrows, ci_output = write_pandas(\n"
     ]
    },
    {
     "name": "stdout",
     "output_type": "stream",
     "text": [
      "560521 values inserted into table SCHEDULE_RCB\n"
     ]
    },
    {
     "name": "stderr",
     "output_type": "stream",
     "text": [
      "C:\\Users\\whill\\anaconda3\\lib\\site-packages\\snowflake\\snowpark\\session.py:1891: UserWarning: Pandas Dataframe has non-standard index of type <class 'pandas.core.indexes.numeric.Int64Index'> which will not be written. Consider changing the index to pd.RangeIndex(start=0,...,step=1) or call reset_index() to keep index as column(s)\n",
      "  success, nchunks, nrows, ci_output = write_pandas(\n"
     ]
    },
    {
     "name": "stdout",
     "output_type": "stream",
     "text": [
      "560521 values inserted into table SCHEDULE_RCCI\n"
     ]
    },
    {
     "name": "stderr",
     "output_type": "stream",
     "text": [
      "C:\\Users\\whill\\anaconda3\\lib\\site-packages\\snowflake\\snowpark\\session.py:1891: UserWarning: Pandas Dataframe has non-standard index of type <class 'pandas.core.indexes.numeric.Int64Index'> which will not be written. Consider changing the index to pd.RangeIndex(start=0,...,step=1) or call reset_index() to keep index as column(s)\n",
      "  success, nchunks, nrows, ci_output = write_pandas(\n"
     ]
    },
    {
     "name": "stdout",
     "output_type": "stream",
     "text": [
      "560521 values inserted into table SCHEDULE_RCD\n"
     ]
    },
    {
     "name": "stderr",
     "output_type": "stream",
     "text": [
      "C:\\Users\\whill\\anaconda3\\lib\\site-packages\\snowflake\\snowpark\\session.py:1891: UserWarning: Pandas Dataframe has non-standard index of type <class 'pandas.core.indexes.numeric.Int64Index'> which will not be written. Consider changing the index to pd.RangeIndex(start=0,...,step=1) or call reset_index() to keep index as column(s)\n",
      "  success, nchunks, nrows, ci_output = write_pandas(\n"
     ]
    },
    {
     "name": "stdout",
     "output_type": "stream",
     "text": [
      "560521 values inserted into table SCHEDULE_RCEI\n"
     ]
    },
    {
     "name": "stderr",
     "output_type": "stream",
     "text": [
      "C:\\Users\\whill\\anaconda3\\lib\\site-packages\\snowflake\\snowpark\\session.py:1891: UserWarning: Pandas Dataframe has non-standard index of type <class 'pandas.core.indexes.numeric.Int64Index'> which will not be written. Consider changing the index to pd.RangeIndex(start=0,...,step=1) or call reset_index() to keep index as column(s)\n",
      "  success, nchunks, nrows, ci_output = write_pandas(\n"
     ]
    },
    {
     "name": "stdout",
     "output_type": "stream",
     "text": [
      "560521 values inserted into table SCHEDULE_RCF\n"
     ]
    },
    {
     "name": "stderr",
     "output_type": "stream",
     "text": [
      "C:\\Users\\whill\\anaconda3\\lib\\site-packages\\snowflake\\snowpark\\session.py:1891: UserWarning: Pandas Dataframe has non-standard index of type <class 'pandas.core.indexes.numeric.Int64Index'> which will not be written. Consider changing the index to pd.RangeIndex(start=0,...,step=1) or call reset_index() to keep index as column(s)\n",
      "  success, nchunks, nrows, ci_output = write_pandas(\n"
     ]
    },
    {
     "name": "stdout",
     "output_type": "stream",
     "text": [
      "560521 values inserted into table SCHEDULE_RCN\n"
     ]
    },
    {
     "name": "stderr",
     "output_type": "stream",
     "text": [
      "C:\\Users\\whill\\anaconda3\\lib\\site-packages\\snowflake\\snowpark\\session.py:1891: UserWarning: Pandas Dataframe has non-standard index of type <class 'pandas.core.indexes.numeric.Int64Index'> which will not be written. Consider changing the index to pd.RangeIndex(start=0,...,step=1) or call reset_index() to keep index as column(s)\n",
      "  success, nchunks, nrows, ci_output = write_pandas(\n"
     ]
    },
    {
     "name": "stdout",
     "output_type": "stream",
     "text": [
      "560521 values inserted into table SCHEDULE_RCO\n"
     ]
    },
    {
     "name": "stderr",
     "output_type": "stream",
     "text": [
      "C:\\Users\\whill\\anaconda3\\lib\\site-packages\\snowflake\\snowpark\\session.py:1891: UserWarning: Pandas Dataframe has non-standard index of type <class 'pandas.core.indexes.numeric.Int64Index'> which will not be written. Consider changing the index to pd.RangeIndex(start=0,...,step=1) or call reset_index() to keep index as column(s)\n",
      "  success, nchunks, nrows, ci_output = write_pandas(\n"
     ]
    },
    {
     "name": "stdout",
     "output_type": "stream",
     "text": [
      "560521 values inserted into table SCHEDULE_RCQ\n"
     ]
    },
    {
     "name": "stderr",
     "output_type": "stream",
     "text": [
      "C:\\Users\\whill\\anaconda3\\lib\\site-packages\\snowflake\\snowpark\\session.py:1891: UserWarning: Pandas Dataframe has non-standard index of type <class 'pandas.core.indexes.numeric.Int64Index'> which will not be written. Consider changing the index to pd.RangeIndex(start=0,...,step=1) or call reset_index() to keep index as column(s)\n",
      "  success, nchunks, nrows, ci_output = write_pandas(\n"
     ]
    },
    {
     "name": "stdout",
     "output_type": "stream",
     "text": [
      "560521 values inserted into table SCHEDULE_RIC\n"
     ]
    },
    {
     "name": "stderr",
     "output_type": "stream",
     "text": [
      "C:\\Users\\whill\\anaconda3\\lib\\site-packages\\snowflake\\snowpark\\session.py:1891: UserWarning: Pandas Dataframe has non-standard index of type <class 'pandas.core.indexes.numeric.Int64Index'> which will not be written. Consider changing the index to pd.RangeIndex(start=0,...,step=1) or call reset_index() to keep index as column(s)\n",
      "  success, nchunks, nrows, ci_output = write_pandas(\n"
     ]
    },
    {
     "name": "stdout",
     "output_type": "stream",
     "text": [
      "560521 values inserted into table SCHEDULE_RICII\n",
      "C:\\Users\\whill\\call-report-database\\Bulk_Files\\2017\\06_30\\FFIEC CDR Call Schedule CI 06302017.txt\n",
      "C:\\Users\\whill\\call-report-database\\Bulk_Files\\2017\\06_30\\FFIEC CDR Call Schedule ENT 06302017.txt\n",
      "C:\\Users\\whill\\call-report-database\\Bulk_Files\\2017\\06_30\\FFIEC CDR Call Schedule NARR 06302017.txt\n",
      "C:\\Users\\whill\\call-report-database\\Bulk_Files\\2017\\06_30\\FFIEC CDR Call Schedule RC 06302017.txt\n",
      "C:\\Users\\whill\\call-report-database\\Bulk_Files\\2017\\06_30\\FFIEC CDR Call Schedule RCA 06302017.txt\n",
      "C:\\Users\\whill\\call-report-database\\Bulk_Files\\2017\\06_30\\FFIEC CDR Call Schedule RCB 06302017(1 of 2).txt\n",
      "C:\\Users\\whill\\call-report-database\\Bulk_Files\\2017\\06_30\\FFIEC CDR Call Schedule RCB 06302017(2 of 2).txt\n",
      "C:\\Users\\whill\\call-report-database\\Bulk_Files\\2017\\06_30\\FFIEC CDR Call Schedule RCCI 06302017.txt\n",
      "C:\\Users\\whill\\call-report-database\\Bulk_Files\\2017\\06_30\\FFIEC CDR Call Schedule RCCII 06302017.txt\n",
      "C:\\Users\\whill\\call-report-database\\Bulk_Files\\2017\\06_30\\FFIEC CDR Call Schedule RCD 06302017.txt\n",
      "C:\\Users\\whill\\call-report-database\\Bulk_Files\\2017\\06_30\\FFIEC CDR Call Schedule RCE 06302017.txt\n",
      "C:\\Users\\whill\\call-report-database\\Bulk_Files\\2017\\06_30\\FFIEC CDR Call Schedule RCEI 06302017.txt\n",
      "C:\\Users\\whill\\call-report-database\\Bulk_Files\\2017\\06_30\\FFIEC CDR Call Schedule RCEII 06302017.txt\n",
      "C:\\Users\\whill\\call-report-database\\Bulk_Files\\2017\\06_30\\FFIEC CDR Call Schedule RCF 06302017.txt\n",
      "C:\\Users\\whill\\call-report-database\\Bulk_Files\\2017\\06_30\\FFIEC CDR Call Schedule RCG 06302017.txt\n",
      "C:\\Users\\whill\\call-report-database\\Bulk_Files\\2017\\06_30\\FFIEC CDR Call Schedule RCH 06302017.txt\n",
      "C:\\Users\\whill\\call-report-database\\Bulk_Files\\2017\\06_30\\FFIEC CDR Call Schedule RCI 06302017.txt\n",
      "C:\\Users\\whill\\call-report-database\\Bulk_Files\\2017\\06_30\\FFIEC CDR Call Schedule RCK 06302017.txt\n",
      "C:\\Users\\whill\\call-report-database\\Bulk_Files\\2017\\06_30\\FFIEC CDR Call Schedule RCL 06302017(1 of 2).txt\n",
      "C:\\Users\\whill\\call-report-database\\Bulk_Files\\2017\\06_30\\FFIEC CDR Call Schedule RCL 06302017(2 of 2).txt\n",
      "C:\\Users\\whill\\call-report-database\\Bulk_Files\\2017\\06_30\\FFIEC CDR Call Schedule RCM 06302017.txt\n",
      "C:\\Users\\whill\\call-report-database\\Bulk_Files\\2017\\06_30\\FFIEC CDR Call Schedule RCN 06302017(1 of 2).txt\n",
      "C:\\Users\\whill\\call-report-database\\Bulk_Files\\2017\\06_30\\FFIEC CDR Call Schedule RCN 06302017(2 of 2).txt\n",
      "C:\\Users\\whill\\call-report-database\\Bulk_Files\\2017\\06_30\\FFIEC CDR Call Schedule RCO 06302017(1 of 2).txt\n",
      "C:\\Users\\whill\\call-report-database\\Bulk_Files\\2017\\06_30\\FFIEC CDR Call Schedule RCO 06302017(2 of 2).txt\n",
      "C:\\Users\\whill\\call-report-database\\Bulk_Files\\2017\\06_30\\FFIEC CDR Call Schedule RCP 06302017.txt\n",
      "C:\\Users\\whill\\call-report-database\\Bulk_Files\\2017\\06_30\\FFIEC CDR Call Schedule RCQ 06302017(1 of 2).txt\n",
      "C:\\Users\\whill\\call-report-database\\Bulk_Files\\2017\\06_30\\FFIEC CDR Call Schedule RCQ 06302017(2 of 2).txt\n",
      "C:\\Users\\whill\\call-report-database\\Bulk_Files\\2017\\06_30\\FFIEC CDR Call Schedule RCRI 06302017.txt\n",
      "C:\\Users\\whill\\call-report-database\\Bulk_Files\\2017\\06_30\\FFIEC CDR Call Schedule RCRII 06302017(1 of 4).txt\n",
      "C:\\Users\\whill\\call-report-database\\Bulk_Files\\2017\\06_30\\FFIEC CDR Call Schedule RCRII 06302017(2 of 4).txt\n",
      "C:\\Users\\whill\\call-report-database\\Bulk_Files\\2017\\06_30\\FFIEC CDR Call Schedule RCRII 06302017(3 of 4).txt\n",
      "C:\\Users\\whill\\call-report-database\\Bulk_Files\\2017\\06_30\\FFIEC CDR Call Schedule RCRII 06302017(4 of 4).txt\n",
      "C:\\Users\\whill\\call-report-database\\Bulk_Files\\2017\\06_30\\FFIEC CDR Call Schedule RCS 06302017.txt\n",
      "C:\\Users\\whill\\call-report-database\\Bulk_Files\\2017\\06_30\\FFIEC CDR Call Schedule RCT 06302017(1 of 2).txt\n",
      "C:\\Users\\whill\\call-report-database\\Bulk_Files\\2017\\06_30\\FFIEC CDR Call Schedule RCT 06302017(2 of 2).txt\n",
      "C:\\Users\\whill\\call-report-database\\Bulk_Files\\2017\\06_30\\FFIEC CDR Call Schedule RCV 06302017.txt\n",
      "C:\\Users\\whill\\call-report-database\\Bulk_Files\\2017\\06_30\\FFIEC CDR Call Schedule RI 06302017.txt\n",
      "C:\\Users\\whill\\call-report-database\\Bulk_Files\\2017\\06_30\\FFIEC CDR Call Schedule RIA 06302017.txt\n",
      "C:\\Users\\whill\\call-report-database\\Bulk_Files\\2017\\06_30\\FFIEC CDR Call Schedule RIBI 06302017.txt\n",
      "C:\\Users\\whill\\call-report-database\\Bulk_Files\\2017\\06_30\\FFIEC CDR Call Schedule RIBII 06302017.txt\n",
      "C:\\Users\\whill\\call-report-database\\Bulk_Files\\2017\\06_30\\FFIEC CDR Call Schedule RIC 06302017.txt\n",
      "C:\\Users\\whill\\call-report-database\\Bulk_Files\\2017\\06_30\\FFIEC CDR Call Schedule RID 06302017.txt\n",
      "C:\\Users\\whill\\call-report-database\\Bulk_Files\\2017\\06_30\\FFIEC CDR Call Schedule RIE 06302017.txt\n",
      "C:\\Users\\whill\\call-report-database\\Bulk_Files\\2017\\06_30\\FFIEC CDR Call Schedule SU 06302017.txt\n"
     ]
    },
    {
     "name": "stderr",
     "output_type": "stream",
     "text": [
      "C:\\Users\\whill\\anaconda3\\lib\\site-packages\\snowflake\\snowpark\\session.py:1891: UserWarning: Pandas Dataframe has non-standard index of type <class 'pandas.core.indexes.numeric.Int64Index'> which will not be written. Consider changing the index to pd.RangeIndex(start=0,...,step=1) or call reset_index() to keep index as column(s)\n",
      "  success, nchunks, nrows, ci_output = write_pandas(\n"
     ]
    },
    {
     "name": "stdout",
     "output_type": "stream",
     "text": [
      "566360 values inserted into table SCHEDULE_ENT\n"
     ]
    },
    {
     "name": "stderr",
     "output_type": "stream",
     "text": [
      "C:\\Users\\whill\\anaconda3\\lib\\site-packages\\snowflake\\snowpark\\session.py:1891: UserWarning: Pandas Dataframe has non-standard index of type <class 'pandas.core.indexes.numeric.Int64Index'> which will not be written. Consider changing the index to pd.RangeIndex(start=0,...,step=1) or call reset_index() to keep index as column(s)\n",
      "  success, nchunks, nrows, ci_output = write_pandas(\n"
     ]
    },
    {
     "name": "stdout",
     "output_type": "stream",
     "text": [
      "566360 values inserted into table SCHEDULE_LEO\n"
     ]
    },
    {
     "name": "stderr",
     "output_type": "stream",
     "text": [
      "C:\\Users\\whill\\anaconda3\\lib\\site-packages\\snowflake\\snowpark\\session.py:1891: UserWarning: Pandas Dataframe has non-standard index of type <class 'pandas.core.indexes.numeric.Int64Index'> which will not be written. Consider changing the index to pd.RangeIndex(start=0,...,step=1) or call reset_index() to keep index as column(s)\n",
      "  success, nchunks, nrows, ci_output = write_pandas(\n"
     ]
    },
    {
     "name": "stdout",
     "output_type": "stream",
     "text": [
      "566360 values inserted into table SCHEDULE_NARR\n"
     ]
    },
    {
     "name": "stderr",
     "output_type": "stream",
     "text": [
      "C:\\Users\\whill\\anaconda3\\lib\\site-packages\\snowflake\\snowpark\\session.py:1891: UserWarning: Pandas Dataframe has non-standard index of type <class 'pandas.core.indexes.numeric.Int64Index'> which will not be written. Consider changing the index to pd.RangeIndex(start=0,...,step=1) or call reset_index() to keep index as column(s)\n",
      "  success, nchunks, nrows, ci_output = write_pandas(\n"
     ]
    },
    {
     "name": "stdout",
     "output_type": "stream",
     "text": [
      "566360 values inserted into table SCHEDULE_RCL\n"
     ]
    },
    {
     "name": "stderr",
     "output_type": "stream",
     "text": [
      "C:\\Users\\whill\\anaconda3\\lib\\site-packages\\snowflake\\snowpark\\session.py:1891: UserWarning: Pandas Dataframe has non-standard index of type <class 'pandas.core.indexes.numeric.Int64Index'> which will not be written. Consider changing the index to pd.RangeIndex(start=0,...,step=1) or call reset_index() to keep index as column(s)\n",
      "  success, nchunks, nrows, ci_output = write_pandas(\n"
     ]
    },
    {
     "name": "stdout",
     "output_type": "stream",
     "text": [
      "566360 values inserted into table SCHEDULE_RCQ\n"
     ]
    },
    {
     "name": "stderr",
     "output_type": "stream",
     "text": [
      "C:\\Users\\whill\\anaconda3\\lib\\site-packages\\snowflake\\snowpark\\session.py:1891: UserWarning: Pandas Dataframe has non-standard index of type <class 'pandas.core.indexes.numeric.Int64Index'> which will not be written. Consider changing the index to pd.RangeIndex(start=0,...,step=1) or call reset_index() to keep index as column(s)\n",
      "  success, nchunks, nrows, ci_output = write_pandas(\n"
     ]
    },
    {
     "name": "stdout",
     "output_type": "stream",
     "text": [
      "566360 values inserted into table SCHEDULE_SU\n"
     ]
    },
    {
     "name": "stderr",
     "output_type": "stream",
     "text": [
      "C:\\Users\\whill\\anaconda3\\lib\\site-packages\\snowflake\\snowpark\\session.py:1891: UserWarning: Pandas Dataframe has non-standard index of type <class 'pandas.core.indexes.numeric.Int64Index'> which will not be written. Consider changing the index to pd.RangeIndex(start=0,...,step=1) or call reset_index() to keep index as column(s)\n",
      "  success, nchunks, nrows, ci_output = write_pandas(\n"
     ]
    },
    {
     "name": "stdout",
     "output_type": "stream",
     "text": [
      "566360 values inserted into table SCHEDULE_RCN\n"
     ]
    },
    {
     "name": "stderr",
     "output_type": "stream",
     "text": [
      "C:\\Users\\whill\\anaconda3\\lib\\site-packages\\snowflake\\snowpark\\session.py:1891: UserWarning: Pandas Dataframe has non-standard index of type <class 'pandas.core.indexes.numeric.Int64Index'> which will not be written. Consider changing the index to pd.RangeIndex(start=0,...,step=1) or call reset_index() to keep index as column(s)\n",
      "  success, nchunks, nrows, ci_output = write_pandas(\n"
     ]
    },
    {
     "name": "stdout",
     "output_type": "stream",
     "text": [
      "566360 values inserted into table SCHEDULE_RCS\n"
     ]
    },
    {
     "name": "stderr",
     "output_type": "stream",
     "text": [
      "C:\\Users\\whill\\anaconda3\\lib\\site-packages\\snowflake\\snowpark\\session.py:1891: UserWarning: Pandas Dataframe has non-standard index of type <class 'pandas.core.indexes.numeric.Int64Index'> which will not be written. Consider changing the index to pd.RangeIndex(start=0,...,step=1) or call reset_index() to keep index as column(s)\n",
      "  success, nchunks, nrows, ci_output = write_pandas(\n"
     ]
    },
    {
     "name": "stdout",
     "output_type": "stream",
     "text": [
      "566360 values inserted into table SCHEDULE_RICII\n"
     ]
    },
    {
     "name": "stderr",
     "output_type": "stream",
     "text": [
      "C:\\Users\\whill\\anaconda3\\lib\\site-packages\\snowflake\\snowpark\\session.py:1891: UserWarning: Pandas Dataframe has non-standard index of type <class 'pandas.core.indexes.numeric.Int64Index'> which will not be written. Consider changing the index to pd.RangeIndex(start=0,...,step=1) or call reset_index() to keep index as column(s)\n",
      "  success, nchunks, nrows, ci_output = write_pandas(\n"
     ]
    },
    {
     "name": "stdout",
     "output_type": "stream",
     "text": [
      "566360 values inserted into table SCHEDULE_RID\n"
     ]
    },
    {
     "name": "stderr",
     "output_type": "stream",
     "text": [
      "C:\\Users\\whill\\anaconda3\\lib\\site-packages\\snowflake\\snowpark\\session.py:1891: UserWarning: Pandas Dataframe has non-standard index of type <class 'pandas.core.indexes.numeric.Int64Index'> which will not be written. Consider changing the index to pd.RangeIndex(start=0,...,step=1) or call reset_index() to keep index as column(s)\n",
      "  success, nchunks, nrows, ci_output = write_pandas(\n"
     ]
    },
    {
     "name": "stdout",
     "output_type": "stream",
     "text": [
      "566360 values inserted into table SCHEDULE_RCCI\n"
     ]
    },
    {
     "name": "stderr",
     "output_type": "stream",
     "text": [
      "C:\\Users\\whill\\anaconda3\\lib\\site-packages\\snowflake\\snowpark\\session.py:1891: UserWarning: Pandas Dataframe has non-standard index of type <class 'pandas.core.indexes.numeric.Int64Index'> which will not be written. Consider changing the index to pd.RangeIndex(start=0,...,step=1) or call reset_index() to keep index as column(s)\n",
      "  success, nchunks, nrows, ci_output = write_pandas(\n"
     ]
    },
    {
     "name": "stdout",
     "output_type": "stream",
     "text": [
      "566360 values inserted into table SCHEDULE_RCI\n"
     ]
    },
    {
     "name": "stderr",
     "output_type": "stream",
     "text": [
      "C:\\Users\\whill\\anaconda3\\lib\\site-packages\\snowflake\\snowpark\\session.py:1891: UserWarning: Pandas Dataframe has non-standard index of type <class 'pandas.core.indexes.numeric.Int64Index'> which will not be written. Consider changing the index to pd.RangeIndex(start=0,...,step=1) or call reset_index() to keep index as column(s)\n",
      "  success, nchunks, nrows, ci_output = write_pandas(\n"
     ]
    },
    {
     "name": "stdout",
     "output_type": "stream",
     "text": [
      "566360 values inserted into table SCHEDULE_RI\n"
     ]
    },
    {
     "name": "stderr",
     "output_type": "stream",
     "text": [
      "C:\\Users\\whill\\anaconda3\\lib\\site-packages\\snowflake\\snowpark\\session.py:1891: UserWarning: Pandas Dataframe has non-standard index of type <class 'pandas.core.indexes.numeric.Int64Index'> which will not be written. Consider changing the index to pd.RangeIndex(start=0,...,step=1) or call reset_index() to keep index as column(s)\n",
      "  success, nchunks, nrows, ci_output = write_pandas(\n"
     ]
    },
    {
     "name": "stdout",
     "output_type": "stream",
     "text": [
      "566360 values inserted into table SCHEDULE_RCA\n"
     ]
    },
    {
     "name": "stderr",
     "output_type": "stream",
     "text": [
      "C:\\Users\\whill\\anaconda3\\lib\\site-packages\\snowflake\\snowpark\\session.py:1891: UserWarning: Pandas Dataframe has non-standard index of type <class 'pandas.core.indexes.numeric.Int64Index'> which will not be written. Consider changing the index to pd.RangeIndex(start=0,...,step=1) or call reset_index() to keep index as column(s)\n",
      "  success, nchunks, nrows, ci_output = write_pandas(\n"
     ]
    },
    {
     "name": "stdout",
     "output_type": "stream",
     "text": [
      "566360 values inserted into table SCHEDULE_RCB\n"
     ]
    },
    {
     "name": "stderr",
     "output_type": "stream",
     "text": [
      "C:\\Users\\whill\\anaconda3\\lib\\site-packages\\snowflake\\snowpark\\session.py:1891: UserWarning: Pandas Dataframe has non-standard index of type <class 'pandas.core.indexes.numeric.Int64Index'> which will not be written. Consider changing the index to pd.RangeIndex(start=0,...,step=1) or call reset_index() to keep index as column(s)\n",
      "  success, nchunks, nrows, ci_output = write_pandas(\n"
     ]
    },
    {
     "name": "stdout",
     "output_type": "stream",
     "text": [
      "566360 values inserted into table SCHEDULE_RCF\n"
     ]
    },
    {
     "name": "stderr",
     "output_type": "stream",
     "text": [
      "C:\\Users\\whill\\anaconda3\\lib\\site-packages\\snowflake\\snowpark\\session.py:1891: UserWarning: Pandas Dataframe has non-standard index of type <class 'pandas.core.indexes.numeric.Int64Index'> which will not be written. Consider changing the index to pd.RangeIndex(start=0,...,step=1) or call reset_index() to keep index as column(s)\n",
      "  success, nchunks, nrows, ci_output = write_pandas(\n"
     ]
    },
    {
     "name": "stdout",
     "output_type": "stream",
     "text": [
      "566360 values inserted into table SCHEDULE_RCH\n"
     ]
    },
    {
     "name": "stderr",
     "output_type": "stream",
     "text": [
      "C:\\Users\\whill\\anaconda3\\lib\\site-packages\\snowflake\\snowpark\\session.py:1891: UserWarning: Pandas Dataframe has non-standard index of type <class 'pandas.core.indexes.numeric.Int64Index'> which will not be written. Consider changing the index to pd.RangeIndex(start=0,...,step=1) or call reset_index() to keep index as column(s)\n",
      "  success, nchunks, nrows, ci_output = write_pandas(\n"
     ]
    },
    {
     "name": "stdout",
     "output_type": "stream",
     "text": [
      "566360 values inserted into table SCHEDULE_RCR\n"
     ]
    },
    {
     "name": "stderr",
     "output_type": "stream",
     "text": [
      "C:\\Users\\whill\\anaconda3\\lib\\site-packages\\snowflake\\snowpark\\session.py:1891: UserWarning: Pandas Dataframe has non-standard index of type <class 'pandas.core.indexes.numeric.Int64Index'> which will not be written. Consider changing the index to pd.RangeIndex(start=0,...,step=1) or call reset_index() to keep index as column(s)\n",
      "  success, nchunks, nrows, ci_output = write_pandas(\n"
     ]
    },
    {
     "name": "stdout",
     "output_type": "stream",
     "text": [
      "566360 values inserted into table SCHEDULE_RCRII\n"
     ]
    },
    {
     "name": "stderr",
     "output_type": "stream",
     "text": [
      "C:\\Users\\whill\\anaconda3\\lib\\site-packages\\snowflake\\snowpark\\session.py:1891: UserWarning: Pandas Dataframe has non-standard index of type <class 'pandas.core.indexes.numeric.Int64Index'> which will not be written. Consider changing the index to pd.RangeIndex(start=0,...,step=1) or call reset_index() to keep index as column(s)\n",
      "  success, nchunks, nrows, ci_output = write_pandas(\n"
     ]
    },
    {
     "name": "stdout",
     "output_type": "stream",
     "text": [
      "566360 values inserted into table SCHEDULE_RCT\n"
     ]
    },
    {
     "name": "stderr",
     "output_type": "stream",
     "text": [
      "C:\\Users\\whill\\anaconda3\\lib\\site-packages\\snowflake\\snowpark\\session.py:1891: UserWarning: Pandas Dataframe has non-standard index of type <class 'pandas.core.indexes.numeric.Int64Index'> which will not be written. Consider changing the index to pd.RangeIndex(start=0,...,step=1) or call reset_index() to keep index as column(s)\n",
      "  success, nchunks, nrows, ci_output = write_pandas(\n"
     ]
    },
    {
     "name": "stdout",
     "output_type": "stream",
     "text": [
      "566360 values inserted into table SCHEDULE_RICI\n"
     ]
    },
    {
     "name": "stderr",
     "output_type": "stream",
     "text": [
      "C:\\Users\\whill\\anaconda3\\lib\\site-packages\\snowflake\\snowpark\\session.py:1891: UserWarning: Pandas Dataframe has non-standard index of type <class 'pandas.core.indexes.numeric.Int64Index'> which will not be written. Consider changing the index to pd.RangeIndex(start=0,...,step=1) or call reset_index() to keep index as column(s)\n",
      "  success, nchunks, nrows, ci_output = write_pandas(\n"
     ]
    },
    {
     "name": "stdout",
     "output_type": "stream",
     "text": [
      "566360 values inserted into table SCHEDULE_UNDEFINED\n"
     ]
    },
    {
     "name": "stderr",
     "output_type": "stream",
     "text": [
      "C:\\Users\\whill\\anaconda3\\lib\\site-packages\\snowflake\\snowpark\\session.py:1891: UserWarning: Pandas Dataframe has non-standard index of type <class 'pandas.core.indexes.numeric.Int64Index'> which will not be written. Consider changing the index to pd.RangeIndex(start=0,...,step=1) or call reset_index() to keep index as column(s)\n",
      "  success, nchunks, nrows, ci_output = write_pandas(\n"
     ]
    },
    {
     "name": "stdout",
     "output_type": "stream",
     "text": [
      "566360 values inserted into table SCHEDULE_RCE\n"
     ]
    },
    {
     "name": "stderr",
     "output_type": "stream",
     "text": [
      "C:\\Users\\whill\\anaconda3\\lib\\site-packages\\snowflake\\snowpark\\session.py:1891: UserWarning: Pandas Dataframe has non-standard index of type <class 'pandas.core.indexes.numeric.Int64Index'> which will not be written. Consider changing the index to pd.RangeIndex(start=0,...,step=1) or call reset_index() to keep index as column(s)\n",
      "  success, nchunks, nrows, ci_output = write_pandas(\n"
     ]
    },
    {
     "name": "stdout",
     "output_type": "stream",
     "text": [
      "566360 values inserted into table SCHEDULE_RCEI\n"
     ]
    },
    {
     "name": "stderr",
     "output_type": "stream",
     "text": [
      "C:\\Users\\whill\\anaconda3\\lib\\site-packages\\snowflake\\snowpark\\session.py:1891: UserWarning: Pandas Dataframe has non-standard index of type <class 'pandas.core.indexes.numeric.Int64Index'> which will not be written. Consider changing the index to pd.RangeIndex(start=0,...,step=1) or call reset_index() to keep index as column(s)\n",
      "  success, nchunks, nrows, ci_output = write_pandas(\n"
     ]
    },
    {
     "name": "stdout",
     "output_type": "stream",
     "text": [
      "566360 values inserted into table SCHEDULE_RCG\n"
     ]
    },
    {
     "name": "stderr",
     "output_type": "stream",
     "text": [
      "C:\\Users\\whill\\anaconda3\\lib\\site-packages\\snowflake\\snowpark\\session.py:1891: UserWarning: Pandas Dataframe has non-standard index of type <class 'pandas.core.indexes.numeric.Int64Index'> which will not be written. Consider changing the index to pd.RangeIndex(start=0,...,step=1) or call reset_index() to keep index as column(s)\n",
      "  success, nchunks, nrows, ci_output = write_pandas(\n"
     ]
    },
    {
     "name": "stdout",
     "output_type": "stream",
     "text": [
      "566360 values inserted into table SCHEDULE_RCM\n"
     ]
    },
    {
     "name": "stderr",
     "output_type": "stream",
     "text": [
      "C:\\Users\\whill\\anaconda3\\lib\\site-packages\\snowflake\\snowpark\\session.py:1891: UserWarning: Pandas Dataframe has non-standard index of type <class 'pandas.core.indexes.numeric.Int64Index'> which will not be written. Consider changing the index to pd.RangeIndex(start=0,...,step=1) or call reset_index() to keep index as column(s)\n",
      "  success, nchunks, nrows, ci_output = write_pandas(\n"
     ]
    },
    {
     "name": "stdout",
     "output_type": "stream",
     "text": [
      "566360 values inserted into table SCHEDULE_RCP\n"
     ]
    },
    {
     "name": "stderr",
     "output_type": "stream",
     "text": [
      "C:\\Users\\whill\\anaconda3\\lib\\site-packages\\snowflake\\snowpark\\session.py:1891: UserWarning: Pandas Dataframe has non-standard index of type <class 'pandas.core.indexes.numeric.Int64Index'> which will not be written. Consider changing the index to pd.RangeIndex(start=0,...,step=1) or call reset_index() to keep index as column(s)\n",
      "  success, nchunks, nrows, ci_output = write_pandas(\n"
     ]
    },
    {
     "name": "stdout",
     "output_type": "stream",
     "text": [
      "566360 values inserted into table SCHEDULE_RIBII\n"
     ]
    },
    {
     "name": "stderr",
     "output_type": "stream",
     "text": [
      "C:\\Users\\whill\\anaconda3\\lib\\site-packages\\snowflake\\snowpark\\session.py:1891: UserWarning: Pandas Dataframe has non-standard index of type <class 'pandas.core.indexes.numeric.Int64Index'> which will not be written. Consider changing the index to pd.RangeIndex(start=0,...,step=1) or call reset_index() to keep index as column(s)\n",
      "  success, nchunks, nrows, ci_output = write_pandas(\n"
     ]
    },
    {
     "name": "stdout",
     "output_type": "stream",
     "text": [
      "Error in table SCHEDULE_RCRI: 100071 (22000): Failed to cast variant value \"9.4291%\" to REAL\n"
     ]
    },
    {
     "name": "stderr",
     "output_type": "stream",
     "text": [
      "C:\\Users\\whill\\anaconda3\\lib\\site-packages\\snowflake\\snowpark\\session.py:1891: UserWarning: Pandas Dataframe has non-standard index of type <class 'pandas.core.indexes.numeric.Int64Index'> which will not be written. Consider changing the index to pd.RangeIndex(start=0,...,step=1) or call reset_index() to keep index as column(s)\n",
      "  success, nchunks, nrows, ci_output = write_pandas(\n"
     ]
    },
    {
     "name": "stdout",
     "output_type": "stream",
     "text": [
      "566360 values inserted into table SCHEDULE_RIBI\n"
     ]
    },
    {
     "name": "stderr",
     "output_type": "stream",
     "text": [
      "C:\\Users\\whill\\anaconda3\\lib\\site-packages\\snowflake\\snowpark\\session.py:1891: UserWarning: Pandas Dataframe has non-standard index of type <class 'pandas.core.indexes.numeric.Int64Index'> which will not be written. Consider changing the index to pd.RangeIndex(start=0,...,step=1) or call reset_index() to keep index as column(s)\n",
      "  success, nchunks, nrows, ci_output = write_pandas(\n"
     ]
    },
    {
     "name": "stdout",
     "output_type": "stream",
     "text": [
      "566360 values inserted into table SCHEDULE_RC\n"
     ]
    },
    {
     "name": "stderr",
     "output_type": "stream",
     "text": [
      "C:\\Users\\whill\\anaconda3\\lib\\site-packages\\snowflake\\snowpark\\session.py:1891: UserWarning: Pandas Dataframe has non-standard index of type <class 'pandas.core.indexes.numeric.Int64Index'> which will not be written. Consider changing the index to pd.RangeIndex(start=0,...,step=1) or call reset_index() to keep index as column(s)\n",
      "  success, nchunks, nrows, ci_output = write_pandas(\n"
     ]
    },
    {
     "name": "stdout",
     "output_type": "stream",
     "text": [
      "566360 values inserted into table SCHEDULE_RCCII\n"
     ]
    },
    {
     "name": "stderr",
     "output_type": "stream",
     "text": [
      "C:\\Users\\whill\\anaconda3\\lib\\site-packages\\snowflake\\snowpark\\session.py:1891: UserWarning: Pandas Dataframe has non-standard index of type <class 'pandas.core.indexes.numeric.Int64Index'> which will not be written. Consider changing the index to pd.RangeIndex(start=0,...,step=1) or call reset_index() to keep index as column(s)\n",
      "  success, nchunks, nrows, ci_output = write_pandas(\n"
     ]
    },
    {
     "name": "stdout",
     "output_type": "stream",
     "text": [
      "566360 values inserted into table SCHEDULE_RCD\n"
     ]
    },
    {
     "name": "stderr",
     "output_type": "stream",
     "text": [
      "C:\\Users\\whill\\anaconda3\\lib\\site-packages\\snowflake\\snowpark\\session.py:1891: UserWarning: Pandas Dataframe has non-standard index of type <class 'pandas.core.indexes.numeric.Int64Index'> which will not be written. Consider changing the index to pd.RangeIndex(start=0,...,step=1) or call reset_index() to keep index as column(s)\n",
      "  success, nchunks, nrows, ci_output = write_pandas(\n"
     ]
    },
    {
     "name": "stdout",
     "output_type": "stream",
     "text": [
      "566360 values inserted into table SCHEDULE_RCEII\n"
     ]
    },
    {
     "name": "stderr",
     "output_type": "stream",
     "text": [
      "C:\\Users\\whill\\anaconda3\\lib\\site-packages\\snowflake\\snowpark\\session.py:1891: UserWarning: Pandas Dataframe has non-standard index of type <class 'pandas.core.indexes.numeric.Int64Index'> which will not be written. Consider changing the index to pd.RangeIndex(start=0,...,step=1) or call reset_index() to keep index as column(s)\n",
      "  success, nchunks, nrows, ci_output = write_pandas(\n"
     ]
    },
    {
     "name": "stdout",
     "output_type": "stream",
     "text": [
      "566360 values inserted into table SCHEDULE_RCK\n"
     ]
    },
    {
     "name": "stderr",
     "output_type": "stream",
     "text": [
      "C:\\Users\\whill\\anaconda3\\lib\\site-packages\\snowflake\\snowpark\\session.py:1891: UserWarning: Pandas Dataframe has non-standard index of type <class 'pandas.core.indexes.numeric.Int64Index'> which will not be written. Consider changing the index to pd.RangeIndex(start=0,...,step=1) or call reset_index() to keep index as column(s)\n",
      "  success, nchunks, nrows, ci_output = write_pandas(\n"
     ]
    },
    {
     "name": "stdout",
     "output_type": "stream",
     "text": [
      "566360 values inserted into table SCHEDULE_RCO\n"
     ]
    },
    {
     "name": "stderr",
     "output_type": "stream",
     "text": [
      "C:\\Users\\whill\\anaconda3\\lib\\site-packages\\snowflake\\snowpark\\session.py:1891: UserWarning: Pandas Dataframe has non-standard index of type <class 'pandas.core.indexes.numeric.Int64Index'> which will not be written. Consider changing the index to pd.RangeIndex(start=0,...,step=1) or call reset_index() to keep index as column(s)\n",
      "  success, nchunks, nrows, ci_output = write_pandas(\n"
     ]
    },
    {
     "name": "stdout",
     "output_type": "stream",
     "text": [
      "566360 values inserted into table SCHEDULE_RCV\n"
     ]
    },
    {
     "name": "stderr",
     "output_type": "stream",
     "text": [
      "C:\\Users\\whill\\anaconda3\\lib\\site-packages\\snowflake\\snowpark\\session.py:1891: UserWarning: Pandas Dataframe has non-standard index of type <class 'pandas.core.indexes.numeric.Int64Index'> which will not be written. Consider changing the index to pd.RangeIndex(start=0,...,step=1) or call reset_index() to keep index as column(s)\n",
      "  success, nchunks, nrows, ci_output = write_pandas(\n"
     ]
    },
    {
     "name": "stdout",
     "output_type": "stream",
     "text": [
      "566360 values inserted into table SCHEDULE_RIA\n"
     ]
    },
    {
     "name": "stderr",
     "output_type": "stream",
     "text": [
      "C:\\Users\\whill\\anaconda3\\lib\\site-packages\\snowflake\\snowpark\\session.py:1891: UserWarning: Pandas Dataframe has non-standard index of type <class 'pandas.core.indexes.numeric.Int64Index'> which will not be written. Consider changing the index to pd.RangeIndex(start=0,...,step=1) or call reset_index() to keep index as column(s)\n",
      "  success, nchunks, nrows, ci_output = write_pandas(\n"
     ]
    },
    {
     "name": "stdout",
     "output_type": "stream",
     "text": [
      "566360 values inserted into table SCHEDULE_RIE\n"
     ]
    },
    {
     "name": "stderr",
     "output_type": "stream",
     "text": [
      "C:\\Users\\whill\\anaconda3\\lib\\site-packages\\snowflake\\snowpark\\session.py:1891: UserWarning: Pandas Dataframe has non-standard index of type <class 'pandas.core.indexes.numeric.Int64Index'> which will not be written. Consider changing the index to pd.RangeIndex(start=0,...,step=1) or call reset_index() to keep index as column(s)\n",
      "  success, nchunks, nrows, ci_output = write_pandas(\n"
     ]
    },
    {
     "name": "stdout",
     "output_type": "stream",
     "text": [
      "566360 values inserted into table SCHEDULE_RIC\n",
      "C:\\Users\\whill\\call-report-database\\Bulk_Files\\2017\\09_30\\FFIEC CDR Call Schedule CI 09302017.txt\n",
      "C:\\Users\\whill\\call-report-database\\Bulk_Files\\2017\\09_30\\FFIEC CDR Call Schedule ENT 09302017.txt\n",
      "C:\\Users\\whill\\call-report-database\\Bulk_Files\\2017\\09_30\\FFIEC CDR Call Schedule NARR 09302017.txt\n",
      "C:\\Users\\whill\\call-report-database\\Bulk_Files\\2017\\09_30\\FFIEC CDR Call Schedule RC 09302017.txt\n",
      "C:\\Users\\whill\\call-report-database\\Bulk_Files\\2017\\09_30\\FFIEC CDR Call Schedule RCA 09302017.txt\n",
      "C:\\Users\\whill\\call-report-database\\Bulk_Files\\2017\\09_30\\FFIEC CDR Call Schedule RCB 09302017(1 of 2).txt\n",
      "C:\\Users\\whill\\call-report-database\\Bulk_Files\\2017\\09_30\\FFIEC CDR Call Schedule RCB 09302017(2 of 2).txt\n",
      "C:\\Users\\whill\\call-report-database\\Bulk_Files\\2017\\09_30\\FFIEC CDR Call Schedule RCCI 09302017.txt\n",
      "C:\\Users\\whill\\call-report-database\\Bulk_Files\\2017\\09_30\\FFIEC CDR Call Schedule RCCII 09302017.txt\n",
      "C:\\Users\\whill\\call-report-database\\Bulk_Files\\2017\\09_30\\FFIEC CDR Call Schedule RCD 09302017.txt\n",
      "C:\\Users\\whill\\call-report-database\\Bulk_Files\\2017\\09_30\\FFIEC CDR Call Schedule RCE 09302017.txt\n",
      "C:\\Users\\whill\\call-report-database\\Bulk_Files\\2017\\09_30\\FFIEC CDR Call Schedule RCEI 09302017.txt\n",
      "C:\\Users\\whill\\call-report-database\\Bulk_Files\\2017\\09_30\\FFIEC CDR Call Schedule RCEII 09302017.txt\n",
      "C:\\Users\\whill\\call-report-database\\Bulk_Files\\2017\\09_30\\FFIEC CDR Call Schedule RCF 09302017.txt\n",
      "C:\\Users\\whill\\call-report-database\\Bulk_Files\\2017\\09_30\\FFIEC CDR Call Schedule RCG 09302017.txt\n",
      "C:\\Users\\whill\\call-report-database\\Bulk_Files\\2017\\09_30\\FFIEC CDR Call Schedule RCH 09302017.txt\n",
      "C:\\Users\\whill\\call-report-database\\Bulk_Files\\2017\\09_30\\FFIEC CDR Call Schedule RCI 09302017.txt\n",
      "C:\\Users\\whill\\call-report-database\\Bulk_Files\\2017\\09_30\\FFIEC CDR Call Schedule RCK 09302017.txt\n",
      "C:\\Users\\whill\\call-report-database\\Bulk_Files\\2017\\09_30\\FFIEC CDR Call Schedule RCL 09302017(1 of 2).txt\n",
      "C:\\Users\\whill\\call-report-database\\Bulk_Files\\2017\\09_30\\FFIEC CDR Call Schedule RCL 09302017(2 of 2).txt\n",
      "C:\\Users\\whill\\call-report-database\\Bulk_Files\\2017\\09_30\\FFIEC CDR Call Schedule RCM 09302017.txt\n",
      "C:\\Users\\whill\\call-report-database\\Bulk_Files\\2017\\09_30\\FFIEC CDR Call Schedule RCN 09302017(1 of 2).txt\n",
      "C:\\Users\\whill\\call-report-database\\Bulk_Files\\2017\\09_30\\FFIEC CDR Call Schedule RCN 09302017(2 of 2).txt\n",
      "C:\\Users\\whill\\call-report-database\\Bulk_Files\\2017\\09_30\\FFIEC CDR Call Schedule RCO 09302017(1 of 2).txt\n",
      "C:\\Users\\whill\\call-report-database\\Bulk_Files\\2017\\09_30\\FFIEC CDR Call Schedule RCO 09302017(2 of 2).txt\n",
      "C:\\Users\\whill\\call-report-database\\Bulk_Files\\2017\\09_30\\FFIEC CDR Call Schedule RCP 09302017.txt\n",
      "C:\\Users\\whill\\call-report-database\\Bulk_Files\\2017\\09_30\\FFIEC CDR Call Schedule RCQ 09302017(1 of 2).txt\n",
      "C:\\Users\\whill\\call-report-database\\Bulk_Files\\2017\\09_30\\FFIEC CDR Call Schedule RCQ 09302017(2 of 2).txt\n",
      "C:\\Users\\whill\\call-report-database\\Bulk_Files\\2017\\09_30\\FFIEC CDR Call Schedule RCRI 09302017.txt\n",
      "C:\\Users\\whill\\call-report-database\\Bulk_Files\\2017\\09_30\\FFIEC CDR Call Schedule RCRII 09302017(1 of 4).txt\n",
      "C:\\Users\\whill\\call-report-database\\Bulk_Files\\2017\\09_30\\FFIEC CDR Call Schedule RCRII 09302017(2 of 4).txt\n",
      "C:\\Users\\whill\\call-report-database\\Bulk_Files\\2017\\09_30\\FFIEC CDR Call Schedule RCRII 09302017(3 of 4).txt\n",
      "C:\\Users\\whill\\call-report-database\\Bulk_Files\\2017\\09_30\\FFIEC CDR Call Schedule RCRII 09302017(4 of 4).txt\n",
      "C:\\Users\\whill\\call-report-database\\Bulk_Files\\2017\\09_30\\FFIEC CDR Call Schedule RCS 09302017.txt\n",
      "C:\\Users\\whill\\call-report-database\\Bulk_Files\\2017\\09_30\\FFIEC CDR Call Schedule RCT 09302017(1 of 2).txt\n",
      "C:\\Users\\whill\\call-report-database\\Bulk_Files\\2017\\09_30\\FFIEC CDR Call Schedule RCT 09302017(2 of 2).txt\n",
      "C:\\Users\\whill\\call-report-database\\Bulk_Files\\2017\\09_30\\FFIEC CDR Call Schedule RCV 09302017.txt\n",
      "C:\\Users\\whill\\call-report-database\\Bulk_Files\\2017\\09_30\\FFIEC CDR Call Schedule RI 09302017.txt\n",
      "C:\\Users\\whill\\call-report-database\\Bulk_Files\\2017\\09_30\\FFIEC CDR Call Schedule RIA 09302017.txt\n",
      "C:\\Users\\whill\\call-report-database\\Bulk_Files\\2017\\09_30\\FFIEC CDR Call Schedule RIBI 09302017.txt\n",
      "C:\\Users\\whill\\call-report-database\\Bulk_Files\\2017\\09_30\\FFIEC CDR Call Schedule RIBII 09302017.txt\n",
      "C:\\Users\\whill\\call-report-database\\Bulk_Files\\2017\\09_30\\FFIEC CDR Call Schedule RIC 09302017.txt\n",
      "C:\\Users\\whill\\call-report-database\\Bulk_Files\\2017\\09_30\\FFIEC CDR Call Schedule RID 09302017.txt\n",
      "C:\\Users\\whill\\call-report-database\\Bulk_Files\\2017\\09_30\\FFIEC CDR Call Schedule RIE 09302017.txt\n",
      "C:\\Users\\whill\\call-report-database\\Bulk_Files\\2017\\09_30\\FFIEC CDR Call Schedule SU 09302017.txt\n"
     ]
    },
    {
     "name": "stderr",
     "output_type": "stream",
     "text": [
      "C:\\Users\\whill\\anaconda3\\lib\\site-packages\\snowflake\\snowpark\\session.py:1891: UserWarning: Pandas Dataframe has non-standard index of type <class 'pandas.core.indexes.numeric.Int64Index'> which will not be written. Consider changing the index to pd.RangeIndex(start=0,...,step=1) or call reset_index() to keep index as column(s)\n",
      "  success, nchunks, nrows, ci_output = write_pandas(\n"
     ]
    },
    {
     "name": "stdout",
     "output_type": "stream",
     "text": [
      "572149 values inserted into table SCHEDULE_RCCII\n"
     ]
    },
    {
     "name": "stderr",
     "output_type": "stream",
     "text": [
      "C:\\Users\\whill\\anaconda3\\lib\\site-packages\\snowflake\\snowpark\\session.py:1891: UserWarning: Pandas Dataframe has non-standard index of type <class 'pandas.core.indexes.numeric.Int64Index'> which will not be written. Consider changing the index to pd.RangeIndex(start=0,...,step=1) or call reset_index() to keep index as column(s)\n",
      "  success, nchunks, nrows, ci_output = write_pandas(\n"
     ]
    },
    {
     "name": "stdout",
     "output_type": "stream",
     "text": [
      "572149 values inserted into table SCHEDULE_RCF\n"
     ]
    },
    {
     "name": "stderr",
     "output_type": "stream",
     "text": [
      "C:\\Users\\whill\\anaconda3\\lib\\site-packages\\snowflake\\snowpark\\session.py:1891: UserWarning: Pandas Dataframe has non-standard index of type <class 'pandas.core.indexes.numeric.Int64Index'> which will not be written. Consider changing the index to pd.RangeIndex(start=0,...,step=1) or call reset_index() to keep index as column(s)\n",
      "  success, nchunks, nrows, ci_output = write_pandas(\n"
     ]
    },
    {
     "name": "stdout",
     "output_type": "stream",
     "text": [
      "572149 values inserted into table SCHEDULE_RCK\n"
     ]
    },
    {
     "name": "stderr",
     "output_type": "stream",
     "text": [
      "C:\\Users\\whill\\anaconda3\\lib\\site-packages\\snowflake\\snowpark\\session.py:1891: UserWarning: Pandas Dataframe has non-standard index of type <class 'pandas.core.indexes.numeric.Int64Index'> which will not be written. Consider changing the index to pd.RangeIndex(start=0,...,step=1) or call reset_index() to keep index as column(s)\n",
      "  success, nchunks, nrows, ci_output = write_pandas(\n"
     ]
    },
    {
     "name": "stdout",
     "output_type": "stream",
     "text": [
      "572149 values inserted into table SCHEDULE_RCM\n"
     ]
    },
    {
     "name": "stderr",
     "output_type": "stream",
     "text": [
      "C:\\Users\\whill\\anaconda3\\lib\\site-packages\\snowflake\\snowpark\\session.py:1891: UserWarning: Pandas Dataframe has non-standard index of type <class 'pandas.core.indexes.numeric.Int64Index'> which will not be written. Consider changing the index to pd.RangeIndex(start=0,...,step=1) or call reset_index() to keep index as column(s)\n",
      "  success, nchunks, nrows, ci_output = write_pandas(\n"
     ]
    },
    {
     "name": "stdout",
     "output_type": "stream",
     "text": [
      "572149 values inserted into table SCHEDULE_RCN\n"
     ]
    },
    {
     "name": "stderr",
     "output_type": "stream",
     "text": [
      "C:\\Users\\whill\\anaconda3\\lib\\site-packages\\snowflake\\snowpark\\session.py:1891: UserWarning: Pandas Dataframe has non-standard index of type <class 'pandas.core.indexes.numeric.Int64Index'> which will not be written. Consider changing the index to pd.RangeIndex(start=0,...,step=1) or call reset_index() to keep index as column(s)\n",
      "  success, nchunks, nrows, ci_output = write_pandas(\n"
     ]
    },
    {
     "name": "stdout",
     "output_type": "stream",
     "text": [
      "572149 values inserted into table SCHEDULE_RCR\n"
     ]
    },
    {
     "name": "stderr",
     "output_type": "stream",
     "text": [
      "C:\\Users\\whill\\anaconda3\\lib\\site-packages\\snowflake\\snowpark\\session.py:1891: UserWarning: Pandas Dataframe has non-standard index of type <class 'pandas.core.indexes.numeric.Int64Index'> which will not be written. Consider changing the index to pd.RangeIndex(start=0,...,step=1) or call reset_index() to keep index as column(s)\n",
      "  success, nchunks, nrows, ci_output = write_pandas(\n"
     ]
    },
    {
     "name": "stdout",
     "output_type": "stream",
     "text": [
      "572149 values inserted into table SCHEDULE_RCV\n"
     ]
    },
    {
     "name": "stderr",
     "output_type": "stream",
     "text": [
      "C:\\Users\\whill\\anaconda3\\lib\\site-packages\\snowflake\\snowpark\\session.py:1891: UserWarning: Pandas Dataframe has non-standard index of type <class 'pandas.core.indexes.numeric.Int64Index'> which will not be written. Consider changing the index to pd.RangeIndex(start=0,...,step=1) or call reset_index() to keep index as column(s)\n",
      "  success, nchunks, nrows, ci_output = write_pandas(\n"
     ]
    },
    {
     "name": "stdout",
     "output_type": "stream",
     "text": [
      "572149 values inserted into table SCHEDULE_RID\n"
     ]
    },
    {
     "name": "stderr",
     "output_type": "stream",
     "text": [
      "C:\\Users\\whill\\anaconda3\\lib\\site-packages\\snowflake\\snowpark\\session.py:1891: UserWarning: Pandas Dataframe has non-standard index of type <class 'pandas.core.indexes.numeric.Int64Index'> which will not be written. Consider changing the index to pd.RangeIndex(start=0,...,step=1) or call reset_index() to keep index as column(s)\n",
      "  success, nchunks, nrows, ci_output = write_pandas(\n"
     ]
    },
    {
     "name": "stdout",
     "output_type": "stream",
     "text": [
      "572149 values inserted into table SCHEDULE_RC\n"
     ]
    },
    {
     "name": "stderr",
     "output_type": "stream",
     "text": [
      "C:\\Users\\whill\\anaconda3\\lib\\site-packages\\snowflake\\snowpark\\session.py:1891: UserWarning: Pandas Dataframe has non-standard index of type <class 'pandas.core.indexes.numeric.Int64Index'> which will not be written. Consider changing the index to pd.RangeIndex(start=0,...,step=1) or call reset_index() to keep index as column(s)\n",
      "  success, nchunks, nrows, ci_output = write_pandas(\n"
     ]
    },
    {
     "name": "stdout",
     "output_type": "stream",
     "text": [
      "572149 values inserted into table SCHEDULE_RCH\n"
     ]
    },
    {
     "name": "stderr",
     "output_type": "stream",
     "text": [
      "C:\\Users\\whill\\anaconda3\\lib\\site-packages\\snowflake\\snowpark\\session.py:1891: UserWarning: Pandas Dataframe has non-standard index of type <class 'pandas.core.indexes.numeric.Int64Index'> which will not be written. Consider changing the index to pd.RangeIndex(start=0,...,step=1) or call reset_index() to keep index as column(s)\n",
      "  success, nchunks, nrows, ci_output = write_pandas(\n"
     ]
    },
    {
     "name": "stdout",
     "output_type": "stream",
     "text": [
      "572149 values inserted into table SCHEDULE_RIA\n"
     ]
    },
    {
     "name": "stderr",
     "output_type": "stream",
     "text": [
      "C:\\Users\\whill\\anaconda3\\lib\\site-packages\\snowflake\\snowpark\\session.py:1891: UserWarning: Pandas Dataframe has non-standard index of type <class 'pandas.core.indexes.numeric.Int64Index'> which will not be written. Consider changing the index to pd.RangeIndex(start=0,...,step=1) or call reset_index() to keep index as column(s)\n",
      "  success, nchunks, nrows, ci_output = write_pandas(\n"
     ]
    },
    {
     "name": "stdout",
     "output_type": "stream",
     "text": [
      "572149 values inserted into table SCHEDULE_RIBI\n"
     ]
    },
    {
     "name": "stderr",
     "output_type": "stream",
     "text": [
      "C:\\Users\\whill\\anaconda3\\lib\\site-packages\\snowflake\\snowpark\\session.py:1891: UserWarning: Pandas Dataframe has non-standard index of type <class 'pandas.core.indexes.numeric.Int64Index'> which will not be written. Consider changing the index to pd.RangeIndex(start=0,...,step=1) or call reset_index() to keep index as column(s)\n",
      "  success, nchunks, nrows, ci_output = write_pandas(\n"
     ]
    },
    {
     "name": "stdout",
     "output_type": "stream",
     "text": [
      "572149 values inserted into table SCHEDULE_RCG\n"
     ]
    },
    {
     "name": "stderr",
     "output_type": "stream",
     "text": [
      "C:\\Users\\whill\\anaconda3\\lib\\site-packages\\snowflake\\snowpark\\session.py:1891: UserWarning: Pandas Dataframe has non-standard index of type <class 'pandas.core.indexes.numeric.Int64Index'> which will not be written. Consider changing the index to pd.RangeIndex(start=0,...,step=1) or call reset_index() to keep index as column(s)\n",
      "  success, nchunks, nrows, ci_output = write_pandas(\n"
     ]
    },
    {
     "name": "stdout",
     "output_type": "stream",
     "text": [
      "572149 values inserted into table SCHEDULE_RCO\n"
     ]
    },
    {
     "name": "stderr",
     "output_type": "stream",
     "text": [
      "C:\\Users\\whill\\anaconda3\\lib\\site-packages\\snowflake\\snowpark\\session.py:1891: UserWarning: Pandas Dataframe has non-standard index of type <class 'pandas.core.indexes.numeric.Int64Index'> which will not be written. Consider changing the index to pd.RangeIndex(start=0,...,step=1) or call reset_index() to keep index as column(s)\n",
      "  success, nchunks, nrows, ci_output = write_pandas(\n"
     ]
    },
    {
     "name": "stdout",
     "output_type": "stream",
     "text": [
      "572149 values inserted into table SCHEDULE_RIE\n"
     ]
    },
    {
     "name": "stderr",
     "output_type": "stream",
     "text": [
      "C:\\Users\\whill\\anaconda3\\lib\\site-packages\\snowflake\\snowpark\\session.py:1891: UserWarning: Pandas Dataframe has non-standard index of type <class 'pandas.core.indexes.numeric.Int64Index'> which will not be written. Consider changing the index to pd.RangeIndex(start=0,...,step=1) or call reset_index() to keep index as column(s)\n",
      "  success, nchunks, nrows, ci_output = write_pandas(\n"
     ]
    },
    {
     "name": "stdout",
     "output_type": "stream",
     "text": [
      "572149 values inserted into table SCHEDULE_RCQ\n"
     ]
    },
    {
     "name": "stderr",
     "output_type": "stream",
     "text": [
      "C:\\Users\\whill\\anaconda3\\lib\\site-packages\\snowflake\\snowpark\\session.py:1891: UserWarning: Pandas Dataframe has non-standard index of type <class 'pandas.core.indexes.numeric.Int64Index'> which will not be written. Consider changing the index to pd.RangeIndex(start=0,...,step=1) or call reset_index() to keep index as column(s)\n",
      "  success, nchunks, nrows, ci_output = write_pandas(\n"
     ]
    },
    {
     "name": "stdout",
     "output_type": "stream",
     "text": [
      "572149 values inserted into table SCHEDULE_RICI\n"
     ]
    },
    {
     "name": "stderr",
     "output_type": "stream",
     "text": [
      "C:\\Users\\whill\\anaconda3\\lib\\site-packages\\snowflake\\snowpark\\session.py:1891: UserWarning: Pandas Dataframe has non-standard index of type <class 'pandas.core.indexes.numeric.Int64Index'> which will not be written. Consider changing the index to pd.RangeIndex(start=0,...,step=1) or call reset_index() to keep index as column(s)\n",
      "  success, nchunks, nrows, ci_output = write_pandas(\n"
     ]
    },
    {
     "name": "stdout",
     "output_type": "stream",
     "text": [
      "572149 values inserted into table SCHEDULE_RCT\n"
     ]
    },
    {
     "name": "stderr",
     "output_type": "stream",
     "text": [
      "C:\\Users\\whill\\anaconda3\\lib\\site-packages\\snowflake\\snowpark\\session.py:1891: UserWarning: Pandas Dataframe has non-standard index of type <class 'pandas.core.indexes.numeric.Int64Index'> which will not be written. Consider changing the index to pd.RangeIndex(start=0,...,step=1) or call reset_index() to keep index as column(s)\n",
      "  success, nchunks, nrows, ci_output = write_pandas(\n"
     ]
    },
    {
     "name": "stdout",
     "output_type": "stream",
     "text": [
      "572149 values inserted into table SCHEDULE_RIC\n"
     ]
    },
    {
     "name": "stderr",
     "output_type": "stream",
     "text": [
      "C:\\Users\\whill\\anaconda3\\lib\\site-packages\\snowflake\\snowpark\\session.py:1891: UserWarning: Pandas Dataframe has non-standard index of type <class 'pandas.core.indexes.numeric.Int64Index'> which will not be written. Consider changing the index to pd.RangeIndex(start=0,...,step=1) or call reset_index() to keep index as column(s)\n",
      "  success, nchunks, nrows, ci_output = write_pandas(\n"
     ]
    },
    {
     "name": "stdout",
     "output_type": "stream",
     "text": [
      "572149 values inserted into table SCHEDULE_NARR\n"
     ]
    },
    {
     "name": "stderr",
     "output_type": "stream",
     "text": [
      "C:\\Users\\whill\\anaconda3\\lib\\site-packages\\snowflake\\snowpark\\session.py:1891: UserWarning: Pandas Dataframe has non-standard index of type <class 'pandas.core.indexes.numeric.Int64Index'> which will not be written. Consider changing the index to pd.RangeIndex(start=0,...,step=1) or call reset_index() to keep index as column(s)\n",
      "  success, nchunks, nrows, ci_output = write_pandas(\n"
     ]
    },
    {
     "name": "stdout",
     "output_type": "stream",
     "text": [
      "572149 values inserted into table SCHEDULE_RCB\n"
     ]
    },
    {
     "name": "stderr",
     "output_type": "stream",
     "text": [
      "C:\\Users\\whill\\anaconda3\\lib\\site-packages\\snowflake\\snowpark\\session.py:1891: UserWarning: Pandas Dataframe has non-standard index of type <class 'pandas.core.indexes.numeric.Int64Index'> which will not be written. Consider changing the index to pd.RangeIndex(start=0,...,step=1) or call reset_index() to keep index as column(s)\n",
      "  success, nchunks, nrows, ci_output = write_pandas(\n"
     ]
    },
    {
     "name": "stdout",
     "output_type": "stream",
     "text": [
      "572149 values inserted into table SCHEDULE_RCD\n"
     ]
    },
    {
     "name": "stderr",
     "output_type": "stream",
     "text": [
      "C:\\Users\\whill\\anaconda3\\lib\\site-packages\\snowflake\\snowpark\\session.py:1891: UserWarning: Pandas Dataframe has non-standard index of type <class 'pandas.core.indexes.numeric.Int64Index'> which will not be written. Consider changing the index to pd.RangeIndex(start=0,...,step=1) or call reset_index() to keep index as column(s)\n",
      "  success, nchunks, nrows, ci_output = write_pandas(\n"
     ]
    },
    {
     "name": "stdout",
     "output_type": "stream",
     "text": [
      "572149 values inserted into table SCHEDULE_RCE\n"
     ]
    },
    {
     "name": "stderr",
     "output_type": "stream",
     "text": [
      "C:\\Users\\whill\\anaconda3\\lib\\site-packages\\snowflake\\snowpark\\session.py:1891: UserWarning: Pandas Dataframe has non-standard index of type <class 'pandas.core.indexes.numeric.Int64Index'> which will not be written. Consider changing the index to pd.RangeIndex(start=0,...,step=1) or call reset_index() to keep index as column(s)\n",
      "  success, nchunks, nrows, ci_output = write_pandas(\n"
     ]
    },
    {
     "name": "stdout",
     "output_type": "stream",
     "text": [
      "572149 values inserted into table SCHEDULE_RCL\n"
     ]
    },
    {
     "name": "stderr",
     "output_type": "stream",
     "text": [
      "C:\\Users\\whill\\anaconda3\\lib\\site-packages\\snowflake\\snowpark\\session.py:1891: UserWarning: Pandas Dataframe has non-standard index of type <class 'pandas.core.indexes.numeric.Int64Index'> which will not be written. Consider changing the index to pd.RangeIndex(start=0,...,step=1) or call reset_index() to keep index as column(s)\n",
      "  success, nchunks, nrows, ci_output = write_pandas(\n"
     ]
    },
    {
     "name": "stdout",
     "output_type": "stream",
     "text": [
      "Error in table SCHEDULE_RCRI: 100071 (22000): Failed to cast variant value \"9.4387%\" to REAL\n"
     ]
    },
    {
     "name": "stderr",
     "output_type": "stream",
     "text": [
      "C:\\Users\\whill\\anaconda3\\lib\\site-packages\\snowflake\\snowpark\\session.py:1891: UserWarning: Pandas Dataframe has non-standard index of type <class 'pandas.core.indexes.numeric.Int64Index'> which will not be written. Consider changing the index to pd.RangeIndex(start=0,...,step=1) or call reset_index() to keep index as column(s)\n",
      "  success, nchunks, nrows, ci_output = write_pandas(\n"
     ]
    },
    {
     "name": "stdout",
     "output_type": "stream",
     "text": [
      "572149 values inserted into table SCHEDULE_RCRII\n"
     ]
    },
    {
     "name": "stderr",
     "output_type": "stream",
     "text": [
      "C:\\Users\\whill\\anaconda3\\lib\\site-packages\\snowflake\\snowpark\\session.py:1891: UserWarning: Pandas Dataframe has non-standard index of type <class 'pandas.core.indexes.numeric.Int64Index'> which will not be written. Consider changing the index to pd.RangeIndex(start=0,...,step=1) or call reset_index() to keep index as column(s)\n",
      "  success, nchunks, nrows, ci_output = write_pandas(\n"
     ]
    },
    {
     "name": "stdout",
     "output_type": "stream",
     "text": [
      "572149 values inserted into table SCHEDULE_RCS\n"
     ]
    },
    {
     "name": "stderr",
     "output_type": "stream",
     "text": [
      "C:\\Users\\whill\\anaconda3\\lib\\site-packages\\snowflake\\snowpark\\session.py:1891: UserWarning: Pandas Dataframe has non-standard index of type <class 'pandas.core.indexes.numeric.Int64Index'> which will not be written. Consider changing the index to pd.RangeIndex(start=0,...,step=1) or call reset_index() to keep index as column(s)\n",
      "  success, nchunks, nrows, ci_output = write_pandas(\n"
     ]
    },
    {
     "name": "stdout",
     "output_type": "stream",
     "text": [
      "572149 values inserted into table SCHEDULE_RIBII\n"
     ]
    },
    {
     "name": "stderr",
     "output_type": "stream",
     "text": [
      "C:\\Users\\whill\\anaconda3\\lib\\site-packages\\snowflake\\snowpark\\session.py:1891: UserWarning: Pandas Dataframe has non-standard index of type <class 'pandas.core.indexes.numeric.Int64Index'> which will not be written. Consider changing the index to pd.RangeIndex(start=0,...,step=1) or call reset_index() to keep index as column(s)\n",
      "  success, nchunks, nrows, ci_output = write_pandas(\n"
     ]
    },
    {
     "name": "stdout",
     "output_type": "stream",
     "text": [
      "572149 values inserted into table SCHEDULE_RCEII\n"
     ]
    },
    {
     "name": "stderr",
     "output_type": "stream",
     "text": [
      "C:\\Users\\whill\\anaconda3\\lib\\site-packages\\snowflake\\snowpark\\session.py:1891: UserWarning: Pandas Dataframe has non-standard index of type <class 'pandas.core.indexes.numeric.Int64Index'> which will not be written. Consider changing the index to pd.RangeIndex(start=0,...,step=1) or call reset_index() to keep index as column(s)\n",
      "  success, nchunks, nrows, ci_output = write_pandas(\n"
     ]
    },
    {
     "name": "stdout",
     "output_type": "stream",
     "text": [
      "572149 values inserted into table SCHEDULE_ENT\n"
     ]
    },
    {
     "name": "stderr",
     "output_type": "stream",
     "text": [
      "C:\\Users\\whill\\anaconda3\\lib\\site-packages\\snowflake\\snowpark\\session.py:1891: UserWarning: Pandas Dataframe has non-standard index of type <class 'pandas.core.indexes.numeric.Int64Index'> which will not be written. Consider changing the index to pd.RangeIndex(start=0,...,step=1) or call reset_index() to keep index as column(s)\n",
      "  success, nchunks, nrows, ci_output = write_pandas(\n"
     ]
    },
    {
     "name": "stdout",
     "output_type": "stream",
     "text": [
      "572149 values inserted into table SCHEDULE_LEO\n"
     ]
    },
    {
     "name": "stderr",
     "output_type": "stream",
     "text": [
      "C:\\Users\\whill\\anaconda3\\lib\\site-packages\\snowflake\\snowpark\\session.py:1891: UserWarning: Pandas Dataframe has non-standard index of type <class 'pandas.core.indexes.numeric.Int64Index'> which will not be written. Consider changing the index to pd.RangeIndex(start=0,...,step=1) or call reset_index() to keep index as column(s)\n",
      "  success, nchunks, nrows, ci_output = write_pandas(\n"
     ]
    },
    {
     "name": "stdout",
     "output_type": "stream",
     "text": [
      "572149 values inserted into table SCHEDULE_RCA\n"
     ]
    },
    {
     "name": "stderr",
     "output_type": "stream",
     "text": [
      "C:\\Users\\whill\\anaconda3\\lib\\site-packages\\snowflake\\snowpark\\session.py:1891: UserWarning: Pandas Dataframe has non-standard index of type <class 'pandas.core.indexes.numeric.Int64Index'> which will not be written. Consider changing the index to pd.RangeIndex(start=0,...,step=1) or call reset_index() to keep index as column(s)\n",
      "  success, nchunks, nrows, ci_output = write_pandas(\n"
     ]
    },
    {
     "name": "stdout",
     "output_type": "stream",
     "text": [
      "572149 values inserted into table SCHEDULE_RCCI\n"
     ]
    },
    {
     "name": "stderr",
     "output_type": "stream",
     "text": [
      "C:\\Users\\whill\\anaconda3\\lib\\site-packages\\snowflake\\snowpark\\session.py:1891: UserWarning: Pandas Dataframe has non-standard index of type <class 'pandas.core.indexes.numeric.Int64Index'> which will not be written. Consider changing the index to pd.RangeIndex(start=0,...,step=1) or call reset_index() to keep index as column(s)\n",
      "  success, nchunks, nrows, ci_output = write_pandas(\n"
     ]
    },
    {
     "name": "stdout",
     "output_type": "stream",
     "text": [
      "572149 values inserted into table SCHEDULE_RCP\n"
     ]
    },
    {
     "name": "stderr",
     "output_type": "stream",
     "text": [
      "C:\\Users\\whill\\anaconda3\\lib\\site-packages\\snowflake\\snowpark\\session.py:1891: UserWarning: Pandas Dataframe has non-standard index of type <class 'pandas.core.indexes.numeric.Int64Index'> which will not be written. Consider changing the index to pd.RangeIndex(start=0,...,step=1) or call reset_index() to keep index as column(s)\n",
      "  success, nchunks, nrows, ci_output = write_pandas(\n"
     ]
    },
    {
     "name": "stdout",
     "output_type": "stream",
     "text": [
      "572149 values inserted into table SCHEDULE_RICII\n"
     ]
    },
    {
     "name": "stderr",
     "output_type": "stream",
     "text": [
      "C:\\Users\\whill\\anaconda3\\lib\\site-packages\\snowflake\\snowpark\\session.py:1891: UserWarning: Pandas Dataframe has non-standard index of type <class 'pandas.core.indexes.numeric.Int64Index'> which will not be written. Consider changing the index to pd.RangeIndex(start=0,...,step=1) or call reset_index() to keep index as column(s)\n",
      "  success, nchunks, nrows, ci_output = write_pandas(\n"
     ]
    },
    {
     "name": "stdout",
     "output_type": "stream",
     "text": [
      "572149 values inserted into table SCHEDULE_UNDEFINED\n"
     ]
    },
    {
     "name": "stderr",
     "output_type": "stream",
     "text": [
      "C:\\Users\\whill\\anaconda3\\lib\\site-packages\\snowflake\\snowpark\\session.py:1891: UserWarning: Pandas Dataframe has non-standard index of type <class 'pandas.core.indexes.numeric.Int64Index'> which will not be written. Consider changing the index to pd.RangeIndex(start=0,...,step=1) or call reset_index() to keep index as column(s)\n",
      "  success, nchunks, nrows, ci_output = write_pandas(\n"
     ]
    },
    {
     "name": "stdout",
     "output_type": "stream",
     "text": [
      "572149 values inserted into table SCHEDULE_RCEI\n"
     ]
    },
    {
     "name": "stderr",
     "output_type": "stream",
     "text": [
      "C:\\Users\\whill\\anaconda3\\lib\\site-packages\\snowflake\\snowpark\\session.py:1891: UserWarning: Pandas Dataframe has non-standard index of type <class 'pandas.core.indexes.numeric.Int64Index'> which will not be written. Consider changing the index to pd.RangeIndex(start=0,...,step=1) or call reset_index() to keep index as column(s)\n",
      "  success, nchunks, nrows, ci_output = write_pandas(\n"
     ]
    },
    {
     "name": "stdout",
     "output_type": "stream",
     "text": [
      "572149 values inserted into table SCHEDULE_RI\n"
     ]
    },
    {
     "name": "stderr",
     "output_type": "stream",
     "text": [
      "C:\\Users\\whill\\anaconda3\\lib\\site-packages\\snowflake\\snowpark\\session.py:1891: UserWarning: Pandas Dataframe has non-standard index of type <class 'pandas.core.indexes.numeric.Int64Index'> which will not be written. Consider changing the index to pd.RangeIndex(start=0,...,step=1) or call reset_index() to keep index as column(s)\n",
      "  success, nchunks, nrows, ci_output = write_pandas(\n"
     ]
    },
    {
     "name": "stdout",
     "output_type": "stream",
     "text": [
      "572149 values inserted into table SCHEDULE_SU\n"
     ]
    },
    {
     "name": "stderr",
     "output_type": "stream",
     "text": [
      "C:\\Users\\whill\\anaconda3\\lib\\site-packages\\snowflake\\snowpark\\session.py:1891: UserWarning: Pandas Dataframe has non-standard index of type <class 'pandas.core.indexes.numeric.Int64Index'> which will not be written. Consider changing the index to pd.RangeIndex(start=0,...,step=1) or call reset_index() to keep index as column(s)\n",
      "  success, nchunks, nrows, ci_output = write_pandas(\n"
     ]
    },
    {
     "name": "stdout",
     "output_type": "stream",
     "text": [
      "572149 values inserted into table SCHEDULE_RCI\n",
      "C:\\Users\\whill\\call-report-database\\Bulk_Files\\2017\\12_31\\FFIEC CDR Call Schedule CI 12312017.txt\n",
      "C:\\Users\\whill\\call-report-database\\Bulk_Files\\2017\\12_31\\FFIEC CDR Call Schedule ENT 12312017.txt\n",
      "C:\\Users\\whill\\call-report-database\\Bulk_Files\\2017\\12_31\\FFIEC CDR Call Schedule NARR 12312017.txt\n",
      "C:\\Users\\whill\\call-report-database\\Bulk_Files\\2017\\12_31\\FFIEC CDR Call Schedule RC 12312017.txt\n",
      "C:\\Users\\whill\\call-report-database\\Bulk_Files\\2017\\12_31\\FFIEC CDR Call Schedule RCA 12312017.txt\n",
      "C:\\Users\\whill\\call-report-database\\Bulk_Files\\2017\\12_31\\FFIEC CDR Call Schedule RCB 12312017(1 of 2).txt\n",
      "C:\\Users\\whill\\call-report-database\\Bulk_Files\\2017\\12_31\\FFIEC CDR Call Schedule RCB 12312017(2 of 2).txt\n",
      "C:\\Users\\whill\\call-report-database\\Bulk_Files\\2017\\12_31\\FFIEC CDR Call Schedule RCCI 12312017.txt\n",
      "C:\\Users\\whill\\call-report-database\\Bulk_Files\\2017\\12_31\\FFIEC CDR Call Schedule RCCII 12312017.txt\n",
      "C:\\Users\\whill\\call-report-database\\Bulk_Files\\2017\\12_31\\FFIEC CDR Call Schedule RCD 12312017.txt\n",
      "C:\\Users\\whill\\call-report-database\\Bulk_Files\\2017\\12_31\\FFIEC CDR Call Schedule RCE 12312017.txt\n",
      "C:\\Users\\whill\\call-report-database\\Bulk_Files\\2017\\12_31\\FFIEC CDR Call Schedule RCEI 12312017.txt\n",
      "C:\\Users\\whill\\call-report-database\\Bulk_Files\\2017\\12_31\\FFIEC CDR Call Schedule RCEII 12312017.txt\n",
      "C:\\Users\\whill\\call-report-database\\Bulk_Files\\2017\\12_31\\FFIEC CDR Call Schedule RCF 12312017.txt\n",
      "C:\\Users\\whill\\call-report-database\\Bulk_Files\\2017\\12_31\\FFIEC CDR Call Schedule RCG 12312017.txt\n",
      "C:\\Users\\whill\\call-report-database\\Bulk_Files\\2017\\12_31\\FFIEC CDR Call Schedule RCH 12312017.txt\n",
      "C:\\Users\\whill\\call-report-database\\Bulk_Files\\2017\\12_31\\FFIEC CDR Call Schedule RCI 12312017.txt\n",
      "C:\\Users\\whill\\call-report-database\\Bulk_Files\\2017\\12_31\\FFIEC CDR Call Schedule RCK 12312017.txt\n",
      "C:\\Users\\whill\\call-report-database\\Bulk_Files\\2017\\12_31\\FFIEC CDR Call Schedule RCL 12312017(1 of 2).txt\n",
      "C:\\Users\\whill\\call-report-database\\Bulk_Files\\2017\\12_31\\FFIEC CDR Call Schedule RCL 12312017(2 of 2).txt\n",
      "C:\\Users\\whill\\call-report-database\\Bulk_Files\\2017\\12_31\\FFIEC CDR Call Schedule RCM 12312017.txt\n",
      "C:\\Users\\whill\\call-report-database\\Bulk_Files\\2017\\12_31\\FFIEC CDR Call Schedule RCN 12312017(1 of 2).txt\n",
      "C:\\Users\\whill\\call-report-database\\Bulk_Files\\2017\\12_31\\FFIEC CDR Call Schedule RCN 12312017(2 of 2).txt\n",
      "C:\\Users\\whill\\call-report-database\\Bulk_Files\\2017\\12_31\\FFIEC CDR Call Schedule RCO 12312017(1 of 2).txt\n",
      "C:\\Users\\whill\\call-report-database\\Bulk_Files\\2017\\12_31\\FFIEC CDR Call Schedule RCO 12312017(2 of 2).txt\n",
      "C:\\Users\\whill\\call-report-database\\Bulk_Files\\2017\\12_31\\FFIEC CDR Call Schedule RCP 12312017.txt\n",
      "C:\\Users\\whill\\call-report-database\\Bulk_Files\\2017\\12_31\\FFIEC CDR Call Schedule RCQ 12312017(1 of 2).txt\n",
      "C:\\Users\\whill\\call-report-database\\Bulk_Files\\2017\\12_31\\FFIEC CDR Call Schedule RCQ 12312017(2 of 2).txt\n",
      "C:\\Users\\whill\\call-report-database\\Bulk_Files\\2017\\12_31\\FFIEC CDR Call Schedule RCRI 12312017.txt\n",
      "C:\\Users\\whill\\call-report-database\\Bulk_Files\\2017\\12_31\\FFIEC CDR Call Schedule RCRII 12312017(1 of 4).txt\n",
      "C:\\Users\\whill\\call-report-database\\Bulk_Files\\2017\\12_31\\FFIEC CDR Call Schedule RCRII 12312017(2 of 4).txt\n",
      "C:\\Users\\whill\\call-report-database\\Bulk_Files\\2017\\12_31\\FFIEC CDR Call Schedule RCRII 12312017(3 of 4).txt\n",
      "C:\\Users\\whill\\call-report-database\\Bulk_Files\\2017\\12_31\\FFIEC CDR Call Schedule RCRII 12312017(4 of 4).txt\n",
      "C:\\Users\\whill\\call-report-database\\Bulk_Files\\2017\\12_31\\FFIEC CDR Call Schedule RCS 12312017.txt\n",
      "C:\\Users\\whill\\call-report-database\\Bulk_Files\\2017\\12_31\\FFIEC CDR Call Schedule RCT 12312017(1 of 2).txt\n",
      "C:\\Users\\whill\\call-report-database\\Bulk_Files\\2017\\12_31\\FFIEC CDR Call Schedule RCT 12312017(2 of 2).txt\n",
      "C:\\Users\\whill\\call-report-database\\Bulk_Files\\2017\\12_31\\FFIEC CDR Call Schedule RCV 12312017.txt\n",
      "C:\\Users\\whill\\call-report-database\\Bulk_Files\\2017\\12_31\\FFIEC CDR Call Schedule RI 12312017.txt\n",
      "C:\\Users\\whill\\call-report-database\\Bulk_Files\\2017\\12_31\\FFIEC CDR Call Schedule RIA 12312017.txt\n",
      "C:\\Users\\whill\\call-report-database\\Bulk_Files\\2017\\12_31\\FFIEC CDR Call Schedule RIBI 12312017.txt\n",
      "C:\\Users\\whill\\call-report-database\\Bulk_Files\\2017\\12_31\\FFIEC CDR Call Schedule RIBII 12312017.txt\n",
      "C:\\Users\\whill\\call-report-database\\Bulk_Files\\2017\\12_31\\FFIEC CDR Call Schedule RIC 12312017.txt\n",
      "C:\\Users\\whill\\call-report-database\\Bulk_Files\\2017\\12_31\\FFIEC CDR Call Schedule RID 12312017.txt\n",
      "C:\\Users\\whill\\call-report-database\\Bulk_Files\\2017\\12_31\\FFIEC CDR Call Schedule RIE 12312017.txt\n",
      "C:\\Users\\whill\\call-report-database\\Bulk_Files\\2017\\12_31\\FFIEC CDR Call Schedule SU 12312017.txt\n"
     ]
    },
    {
     "name": "stderr",
     "output_type": "stream",
     "text": [
      "C:\\Users\\whill\\anaconda3\\lib\\site-packages\\snowflake\\snowpark\\session.py:1891: UserWarning: Pandas Dataframe has non-standard index of type <class 'pandas.core.indexes.numeric.Int64Index'> which will not be written. Consider changing the index to pd.RangeIndex(start=0,...,step=1) or call reset_index() to keep index as column(s)\n",
      "  success, nchunks, nrows, ci_output = write_pandas(\n"
     ]
    },
    {
     "name": "stdout",
     "output_type": "stream",
     "text": [
      "577870 values inserted into table SCHEDULE_ENT\n"
     ]
    },
    {
     "name": "stderr",
     "output_type": "stream",
     "text": [
      "C:\\Users\\whill\\anaconda3\\lib\\site-packages\\snowflake\\snowpark\\session.py:1891: UserWarning: Pandas Dataframe has non-standard index of type <class 'pandas.core.indexes.numeric.Int64Index'> which will not be written. Consider changing the index to pd.RangeIndex(start=0,...,step=1) or call reset_index() to keep index as column(s)\n",
      "  success, nchunks, nrows, ci_output = write_pandas(\n"
     ]
    },
    {
     "name": "stdout",
     "output_type": "stream",
     "text": [
      "577870 values inserted into table SCHEDULE_RCA\n"
     ]
    },
    {
     "name": "stderr",
     "output_type": "stream",
     "text": [
      "C:\\Users\\whill\\anaconda3\\lib\\site-packages\\snowflake\\snowpark\\session.py:1891: UserWarning: Pandas Dataframe has non-standard index of type <class 'pandas.core.indexes.numeric.Int64Index'> which will not be written. Consider changing the index to pd.RangeIndex(start=0,...,step=1) or call reset_index() to keep index as column(s)\n",
      "  success, nchunks, nrows, ci_output = write_pandas(\n"
     ]
    },
    {
     "name": "stdout",
     "output_type": "stream",
     "text": [
      "577870 values inserted into table SCHEDULE_RCF\n"
     ]
    },
    {
     "name": "stderr",
     "output_type": "stream",
     "text": [
      "C:\\Users\\whill\\anaconda3\\lib\\site-packages\\snowflake\\snowpark\\session.py:1891: UserWarning: Pandas Dataframe has non-standard index of type <class 'pandas.core.indexes.numeric.Int64Index'> which will not be written. Consider changing the index to pd.RangeIndex(start=0,...,step=1) or call reset_index() to keep index as column(s)\n",
      "  success, nchunks, nrows, ci_output = write_pandas(\n"
     ]
    },
    {
     "name": "stdout",
     "output_type": "stream",
     "text": [
      "577870 values inserted into table SCHEDULE_RCK\n"
     ]
    },
    {
     "name": "stderr",
     "output_type": "stream",
     "text": [
      "C:\\Users\\whill\\anaconda3\\lib\\site-packages\\snowflake\\snowpark\\session.py:1891: UserWarning: Pandas Dataframe has non-standard index of type <class 'pandas.core.indexes.numeric.Int64Index'> which will not be written. Consider changing the index to pd.RangeIndex(start=0,...,step=1) or call reset_index() to keep index as column(s)\n",
      "  success, nchunks, nrows, ci_output = write_pandas(\n"
     ]
    },
    {
     "name": "stdout",
     "output_type": "stream",
     "text": [
      "577870 values inserted into table SCHEDULE_RCQ\n"
     ]
    },
    {
     "name": "stderr",
     "output_type": "stream",
     "text": [
      "C:\\Users\\whill\\anaconda3\\lib\\site-packages\\snowflake\\snowpark\\session.py:1891: UserWarning: Pandas Dataframe has non-standard index of type <class 'pandas.core.indexes.numeric.Int64Index'> which will not be written. Consider changing the index to pd.RangeIndex(start=0,...,step=1) or call reset_index() to keep index as column(s)\n",
      "  success, nchunks, nrows, ci_output = write_pandas(\n"
     ]
    },
    {
     "name": "stdout",
     "output_type": "stream",
     "text": [
      "577870 values inserted into table SCHEDULE_RCV\n"
     ]
    },
    {
     "name": "stderr",
     "output_type": "stream",
     "text": [
      "C:\\Users\\whill\\anaconda3\\lib\\site-packages\\snowflake\\snowpark\\session.py:1891: UserWarning: Pandas Dataframe has non-standard index of type <class 'pandas.core.indexes.numeric.Int64Index'> which will not be written. Consider changing the index to pd.RangeIndex(start=0,...,step=1) or call reset_index() to keep index as column(s)\n",
      "  success, nchunks, nrows, ci_output = write_pandas(\n"
     ]
    },
    {
     "name": "stdout",
     "output_type": "stream",
     "text": [
      "577870 values inserted into table SCHEDULE_RIC\n"
     ]
    },
    {
     "name": "stderr",
     "output_type": "stream",
     "text": [
      "C:\\Users\\whill\\anaconda3\\lib\\site-packages\\snowflake\\snowpark\\session.py:1891: UserWarning: Pandas Dataframe has non-standard index of type <class 'pandas.core.indexes.numeric.Int64Index'> which will not be written. Consider changing the index to pd.RangeIndex(start=0,...,step=1) or call reset_index() to keep index as column(s)\n",
      "  success, nchunks, nrows, ci_output = write_pandas(\n"
     ]
    },
    {
     "name": "stdout",
     "output_type": "stream",
     "text": [
      "577870 values inserted into table SCHEDULE_RIBI\n"
     ]
    },
    {
     "name": "stderr",
     "output_type": "stream",
     "text": [
      "C:\\Users\\whill\\anaconda3\\lib\\site-packages\\snowflake\\snowpark\\session.py:1891: UserWarning: Pandas Dataframe has non-standard index of type <class 'pandas.core.indexes.numeric.Int64Index'> which will not be written. Consider changing the index to pd.RangeIndex(start=0,...,step=1) or call reset_index() to keep index as column(s)\n",
      "  success, nchunks, nrows, ci_output = write_pandas(\n"
     ]
    },
    {
     "name": "stdout",
     "output_type": "stream",
     "text": [
      "577870 values inserted into table SCHEDULE_RCD\n"
     ]
    },
    {
     "name": "stderr",
     "output_type": "stream",
     "text": [
      "C:\\Users\\whill\\anaconda3\\lib\\site-packages\\snowflake\\snowpark\\session.py:1891: UserWarning: Pandas Dataframe has non-standard index of type <class 'pandas.core.indexes.numeric.Int64Index'> which will not be written. Consider changing the index to pd.RangeIndex(start=0,...,step=1) or call reset_index() to keep index as column(s)\n",
      "  success, nchunks, nrows, ci_output = write_pandas(\n"
     ]
    },
    {
     "name": "stdout",
     "output_type": "stream",
     "text": [
      "577870 values inserted into table SCHEDULE_RCEII\n"
     ]
    },
    {
     "name": "stderr",
     "output_type": "stream",
     "text": [
      "C:\\Users\\whill\\anaconda3\\lib\\site-packages\\snowflake\\snowpark\\session.py:1891: UserWarning: Pandas Dataframe has non-standard index of type <class 'pandas.core.indexes.numeric.Int64Index'> which will not be written. Consider changing the index to pd.RangeIndex(start=0,...,step=1) or call reset_index() to keep index as column(s)\n",
      "  success, nchunks, nrows, ci_output = write_pandas(\n"
     ]
    },
    {
     "name": "stdout",
     "output_type": "stream",
     "text": [
      "577870 values inserted into table SCHEDULE_RCG\n"
     ]
    },
    {
     "name": "stderr",
     "output_type": "stream",
     "text": [
      "C:\\Users\\whill\\anaconda3\\lib\\site-packages\\snowflake\\snowpark\\session.py:1891: UserWarning: Pandas Dataframe has non-standard index of type <class 'pandas.core.indexes.numeric.Int64Index'> which will not be written. Consider changing the index to pd.RangeIndex(start=0,...,step=1) or call reset_index() to keep index as column(s)\n",
      "  success, nchunks, nrows, ci_output = write_pandas(\n"
     ]
    },
    {
     "name": "stdout",
     "output_type": "stream",
     "text": [
      "577870 values inserted into table SCHEDULE_RCL\n"
     ]
    },
    {
     "name": "stderr",
     "output_type": "stream",
     "text": [
      "C:\\Users\\whill\\anaconda3\\lib\\site-packages\\snowflake\\snowpark\\session.py:1891: UserWarning: Pandas Dataframe has non-standard index of type <class 'pandas.core.indexes.numeric.Int64Index'> which will not be written. Consider changing the index to pd.RangeIndex(start=0,...,step=1) or call reset_index() to keep index as column(s)\n",
      "  success, nchunks, nrows, ci_output = write_pandas(\n"
     ]
    },
    {
     "name": "stdout",
     "output_type": "stream",
     "text": [
      "577870 values inserted into table SCHEDULE_RCT\n"
     ]
    },
    {
     "name": "stderr",
     "output_type": "stream",
     "text": [
      "C:\\Users\\whill\\anaconda3\\lib\\site-packages\\snowflake\\snowpark\\session.py:1891: UserWarning: Pandas Dataframe has non-standard index of type <class 'pandas.core.indexes.numeric.Int64Index'> which will not be written. Consider changing the index to pd.RangeIndex(start=0,...,step=1) or call reset_index() to keep index as column(s)\n",
      "  success, nchunks, nrows, ci_output = write_pandas(\n"
     ]
    },
    {
     "name": "stdout",
     "output_type": "stream",
     "text": [
      "577870 values inserted into table SCHEDULE_RIE\n"
     ]
    },
    {
     "name": "stderr",
     "output_type": "stream",
     "text": [
      "C:\\Users\\whill\\anaconda3\\lib\\site-packages\\snowflake\\snowpark\\session.py:1891: UserWarning: Pandas Dataframe has non-standard index of type <class 'pandas.core.indexes.numeric.Int64Index'> which will not be written. Consider changing the index to pd.RangeIndex(start=0,...,step=1) or call reset_index() to keep index as column(s)\n",
      "  success, nchunks, nrows, ci_output = write_pandas(\n"
     ]
    },
    {
     "name": "stdout",
     "output_type": "stream",
     "text": [
      "577870 values inserted into table SCHEDULE_RCR\n"
     ]
    },
    {
     "name": "stderr",
     "output_type": "stream",
     "text": [
      "C:\\Users\\whill\\anaconda3\\lib\\site-packages\\snowflake\\snowpark\\session.py:1891: UserWarning: Pandas Dataframe has non-standard index of type <class 'pandas.core.indexes.numeric.Int64Index'> which will not be written. Consider changing the index to pd.RangeIndex(start=0,...,step=1) or call reset_index() to keep index as column(s)\n",
      "  success, nchunks, nrows, ci_output = write_pandas(\n"
     ]
    },
    {
     "name": "stdout",
     "output_type": "stream",
     "text": [
      "577870 values inserted into table SCHEDULE_RCO\n"
     ]
    },
    {
     "name": "stderr",
     "output_type": "stream",
     "text": [
      "C:\\Users\\whill\\anaconda3\\lib\\site-packages\\snowflake\\snowpark\\session.py:1891: UserWarning: Pandas Dataframe has non-standard index of type <class 'pandas.core.indexes.numeric.Int64Index'> which will not be written. Consider changing the index to pd.RangeIndex(start=0,...,step=1) or call reset_index() to keep index as column(s)\n",
      "  success, nchunks, nrows, ci_output = write_pandas(\n"
     ]
    },
    {
     "name": "stdout",
     "output_type": "stream",
     "text": [
      "577870 values inserted into table SCHEDULE_LEO\n"
     ]
    },
    {
     "name": "stderr",
     "output_type": "stream",
     "text": [
      "C:\\Users\\whill\\anaconda3\\lib\\site-packages\\snowflake\\snowpark\\session.py:1891: UserWarning: Pandas Dataframe has non-standard index of type <class 'pandas.core.indexes.numeric.Int64Index'> which will not be written. Consider changing the index to pd.RangeIndex(start=0,...,step=1) or call reset_index() to keep index as column(s)\n",
      "  success, nchunks, nrows, ci_output = write_pandas(\n"
     ]
    },
    {
     "name": "stdout",
     "output_type": "stream",
     "text": [
      "577870 values inserted into table SCHEDULE_RC\n"
     ]
    },
    {
     "name": "stderr",
     "output_type": "stream",
     "text": [
      "C:\\Users\\whill\\anaconda3\\lib\\site-packages\\snowflake\\snowpark\\session.py:1891: UserWarning: Pandas Dataframe has non-standard index of type <class 'pandas.core.indexes.numeric.Int64Index'> which will not be written. Consider changing the index to pd.RangeIndex(start=0,...,step=1) or call reset_index() to keep index as column(s)\n",
      "  success, nchunks, nrows, ci_output = write_pandas(\n"
     ]
    },
    {
     "name": "stdout",
     "output_type": "stream",
     "text": [
      "577870 values inserted into table SCHEDULE_RCB\n"
     ]
    },
    {
     "name": "stderr",
     "output_type": "stream",
     "text": [
      "C:\\Users\\whill\\anaconda3\\lib\\site-packages\\snowflake\\snowpark\\session.py:1891: UserWarning: Pandas Dataframe has non-standard index of type <class 'pandas.core.indexes.numeric.Int64Index'> which will not be written. Consider changing the index to pd.RangeIndex(start=0,...,step=1) or call reset_index() to keep index as column(s)\n",
      "  success, nchunks, nrows, ci_output = write_pandas(\n"
     ]
    },
    {
     "name": "stdout",
     "output_type": "stream",
     "text": [
      "577870 values inserted into table SCHEDULE_RCCI\n"
     ]
    },
    {
     "name": "stderr",
     "output_type": "stream",
     "text": [
      "C:\\Users\\whill\\anaconda3\\lib\\site-packages\\snowflake\\snowpark\\session.py:1891: UserWarning: Pandas Dataframe has non-standard index of type <class 'pandas.core.indexes.numeric.Int64Index'> which will not be written. Consider changing the index to pd.RangeIndex(start=0,...,step=1) or call reset_index() to keep index as column(s)\n",
      "  success, nchunks, nrows, ci_output = write_pandas(\n"
     ]
    },
    {
     "name": "stdout",
     "output_type": "stream",
     "text": [
      "577870 values inserted into table SCHEDULE_RCCII\n"
     ]
    },
    {
     "name": "stderr",
     "output_type": "stream",
     "text": [
      "C:\\Users\\whill\\anaconda3\\lib\\site-packages\\snowflake\\snowpark\\session.py:1891: UserWarning: Pandas Dataframe has non-standard index of type <class 'pandas.core.indexes.numeric.Int64Index'> which will not be written. Consider changing the index to pd.RangeIndex(start=0,...,step=1) or call reset_index() to keep index as column(s)\n",
      "  success, nchunks, nrows, ci_output = write_pandas(\n"
     ]
    },
    {
     "name": "stdout",
     "output_type": "stream",
     "text": [
      "577870 values inserted into table SCHEDULE_RCI\n"
     ]
    },
    {
     "name": "stderr",
     "output_type": "stream",
     "text": [
      "C:\\Users\\whill\\anaconda3\\lib\\site-packages\\snowflake\\snowpark\\session.py:1891: UserWarning: Pandas Dataframe has non-standard index of type <class 'pandas.core.indexes.numeric.Int64Index'> which will not be written. Consider changing the index to pd.RangeIndex(start=0,...,step=1) or call reset_index() to keep index as column(s)\n",
      "  success, nchunks, nrows, ci_output = write_pandas(\n"
     ]
    },
    {
     "name": "stdout",
     "output_type": "stream",
     "text": [
      "577870 values inserted into table SCHEDULE_RCM\n"
     ]
    },
    {
     "name": "stderr",
     "output_type": "stream",
     "text": [
      "C:\\Users\\whill\\anaconda3\\lib\\site-packages\\snowflake\\snowpark\\session.py:1891: UserWarning: Pandas Dataframe has non-standard index of type <class 'pandas.core.indexes.numeric.Int64Index'> which will not be written. Consider changing the index to pd.RangeIndex(start=0,...,step=1) or call reset_index() to keep index as column(s)\n",
      "  success, nchunks, nrows, ci_output = write_pandas(\n"
     ]
    },
    {
     "name": "stdout",
     "output_type": "stream",
     "text": [
      "577870 values inserted into table SCHEDULE_RICII\n"
     ]
    },
    {
     "name": "stderr",
     "output_type": "stream",
     "text": [
      "C:\\Users\\whill\\anaconda3\\lib\\site-packages\\snowflake\\snowpark\\session.py:1891: UserWarning: Pandas Dataframe has non-standard index of type <class 'pandas.core.indexes.numeric.Int64Index'> which will not be written. Consider changing the index to pd.RangeIndex(start=0,...,step=1) or call reset_index() to keep index as column(s)\n",
      "  success, nchunks, nrows, ci_output = write_pandas(\n"
     ]
    },
    {
     "name": "stdout",
     "output_type": "stream",
     "text": [
      "577870 values inserted into table SCHEDULE_SU\n"
     ]
    },
    {
     "name": "stderr",
     "output_type": "stream",
     "text": [
      "C:\\Users\\whill\\anaconda3\\lib\\site-packages\\snowflake\\snowpark\\session.py:1891: UserWarning: Pandas Dataframe has non-standard index of type <class 'pandas.core.indexes.numeric.Int64Index'> which will not be written. Consider changing the index to pd.RangeIndex(start=0,...,step=1) or call reset_index() to keep index as column(s)\n",
      "  success, nchunks, nrows, ci_output = write_pandas(\n"
     ]
    },
    {
     "name": "stdout",
     "output_type": "stream",
     "text": [
      "577870 values inserted into table SCHEDULE_RCN\n"
     ]
    },
    {
     "name": "stderr",
     "output_type": "stream",
     "text": [
      "C:\\Users\\whill\\anaconda3\\lib\\site-packages\\snowflake\\snowpark\\session.py:1891: UserWarning: Pandas Dataframe has non-standard index of type <class 'pandas.core.indexes.numeric.Int64Index'> which will not be written. Consider changing the index to pd.RangeIndex(start=0,...,step=1) or call reset_index() to keep index as column(s)\n",
      "  success, nchunks, nrows, ci_output = write_pandas(\n"
     ]
    },
    {
     "name": "stdout",
     "output_type": "stream",
     "text": [
      "577870 values inserted into table SCHEDULE_RCP\n"
     ]
    },
    {
     "name": "stderr",
     "output_type": "stream",
     "text": [
      "C:\\Users\\whill\\anaconda3\\lib\\site-packages\\snowflake\\snowpark\\session.py:1891: UserWarning: Pandas Dataframe has non-standard index of type <class 'pandas.core.indexes.numeric.Int64Index'> which will not be written. Consider changing the index to pd.RangeIndex(start=0,...,step=1) or call reset_index() to keep index as column(s)\n",
      "  success, nchunks, nrows, ci_output = write_pandas(\n"
     ]
    },
    {
     "name": "stdout",
     "output_type": "stream",
     "text": [
      "577870 values inserted into table SCHEDULE_RIA\n"
     ]
    },
    {
     "name": "stderr",
     "output_type": "stream",
     "text": [
      "C:\\Users\\whill\\anaconda3\\lib\\site-packages\\snowflake\\snowpark\\session.py:1891: UserWarning: Pandas Dataframe has non-standard index of type <class 'pandas.core.indexes.numeric.Int64Index'> which will not be written. Consider changing the index to pd.RangeIndex(start=0,...,step=1) or call reset_index() to keep index as column(s)\n",
      "  success, nchunks, nrows, ci_output = write_pandas(\n"
     ]
    },
    {
     "name": "stdout",
     "output_type": "stream",
     "text": [
      "Error in table SCHEDULE_RCRI: 100071 (22000): Failed to cast variant value \"9.7033%\" to REAL\n"
     ]
    },
    {
     "name": "stderr",
     "output_type": "stream",
     "text": [
      "C:\\Users\\whill\\anaconda3\\lib\\site-packages\\snowflake\\snowpark\\session.py:1891: UserWarning: Pandas Dataframe has non-standard index of type <class 'pandas.core.indexes.numeric.Int64Index'> which will not be written. Consider changing the index to pd.RangeIndex(start=0,...,step=1) or call reset_index() to keep index as column(s)\n",
      "  success, nchunks, nrows, ci_output = write_pandas(\n"
     ]
    },
    {
     "name": "stdout",
     "output_type": "stream",
     "text": [
      "577870 values inserted into table SCHEDULE_RICI\n"
     ]
    },
    {
     "name": "stderr",
     "output_type": "stream",
     "text": [
      "C:\\Users\\whill\\anaconda3\\lib\\site-packages\\snowflake\\snowpark\\session.py:1891: UserWarning: Pandas Dataframe has non-standard index of type <class 'pandas.core.indexes.numeric.Int64Index'> which will not be written. Consider changing the index to pd.RangeIndex(start=0,...,step=1) or call reset_index() to keep index as column(s)\n",
      "  success, nchunks, nrows, ci_output = write_pandas(\n"
     ]
    },
    {
     "name": "stdout",
     "output_type": "stream",
     "text": [
      "577870 values inserted into table SCHEDULE_RID\n"
     ]
    },
    {
     "name": "stderr",
     "output_type": "stream",
     "text": [
      "C:\\Users\\whill\\anaconda3\\lib\\site-packages\\snowflake\\snowpark\\session.py:1891: UserWarning: Pandas Dataframe has non-standard index of type <class 'pandas.core.indexes.numeric.Int64Index'> which will not be written. Consider changing the index to pd.RangeIndex(start=0,...,step=1) or call reset_index() to keep index as column(s)\n",
      "  success, nchunks, nrows, ci_output = write_pandas(\n"
     ]
    },
    {
     "name": "stdout",
     "output_type": "stream",
     "text": [
      "577870 values inserted into table SCHEDULE_UNDEFINED\n"
     ]
    },
    {
     "name": "stderr",
     "output_type": "stream",
     "text": [
      "C:\\Users\\whill\\anaconda3\\lib\\site-packages\\snowflake\\snowpark\\session.py:1891: UserWarning: Pandas Dataframe has non-standard index of type <class 'pandas.core.indexes.numeric.Int64Index'> which will not be written. Consider changing the index to pd.RangeIndex(start=0,...,step=1) or call reset_index() to keep index as column(s)\n",
      "  success, nchunks, nrows, ci_output = write_pandas(\n"
     ]
    },
    {
     "name": "stdout",
     "output_type": "stream",
     "text": [
      "577870 values inserted into table SCHEDULE_NARR\n"
     ]
    },
    {
     "name": "stderr",
     "output_type": "stream",
     "text": [
      "C:\\Users\\whill\\anaconda3\\lib\\site-packages\\snowflake\\snowpark\\session.py:1891: UserWarning: Pandas Dataframe has non-standard index of type <class 'pandas.core.indexes.numeric.Int64Index'> which will not be written. Consider changing the index to pd.RangeIndex(start=0,...,step=1) or call reset_index() to keep index as column(s)\n",
      "  success, nchunks, nrows, ci_output = write_pandas(\n"
     ]
    },
    {
     "name": "stdout",
     "output_type": "stream",
     "text": [
      "577870 values inserted into table SCHEDULE_RCE\n"
     ]
    },
    {
     "name": "stderr",
     "output_type": "stream",
     "text": [
      "C:\\Users\\whill\\anaconda3\\lib\\site-packages\\snowflake\\snowpark\\session.py:1891: UserWarning: Pandas Dataframe has non-standard index of type <class 'pandas.core.indexes.numeric.Int64Index'> which will not be written. Consider changing the index to pd.RangeIndex(start=0,...,step=1) or call reset_index() to keep index as column(s)\n",
      "  success, nchunks, nrows, ci_output = write_pandas(\n"
     ]
    },
    {
     "name": "stdout",
     "output_type": "stream",
     "text": [
      "577870 values inserted into table SCHEDULE_RCEI\n"
     ]
    },
    {
     "name": "stderr",
     "output_type": "stream",
     "text": [
      "C:\\Users\\whill\\anaconda3\\lib\\site-packages\\snowflake\\snowpark\\session.py:1891: UserWarning: Pandas Dataframe has non-standard index of type <class 'pandas.core.indexes.numeric.Int64Index'> which will not be written. Consider changing the index to pd.RangeIndex(start=0,...,step=1) or call reset_index() to keep index as column(s)\n",
      "  success, nchunks, nrows, ci_output = write_pandas(\n"
     ]
    },
    {
     "name": "stdout",
     "output_type": "stream",
     "text": [
      "577870 values inserted into table SCHEDULE_RCH\n"
     ]
    },
    {
     "name": "stderr",
     "output_type": "stream",
     "text": [
      "C:\\Users\\whill\\anaconda3\\lib\\site-packages\\snowflake\\snowpark\\session.py:1891: UserWarning: Pandas Dataframe has non-standard index of type <class 'pandas.core.indexes.numeric.Int64Index'> which will not be written. Consider changing the index to pd.RangeIndex(start=0,...,step=1) or call reset_index() to keep index as column(s)\n",
      "  success, nchunks, nrows, ci_output = write_pandas(\n"
     ]
    },
    {
     "name": "stdout",
     "output_type": "stream",
     "text": [
      "577870 values inserted into table SCHEDULE_RCS\n"
     ]
    },
    {
     "name": "stderr",
     "output_type": "stream",
     "text": [
      "C:\\Users\\whill\\anaconda3\\lib\\site-packages\\snowflake\\snowpark\\session.py:1891: UserWarning: Pandas Dataframe has non-standard index of type <class 'pandas.core.indexes.numeric.Int64Index'> which will not be written. Consider changing the index to pd.RangeIndex(start=0,...,step=1) or call reset_index() to keep index as column(s)\n",
      "  success, nchunks, nrows, ci_output = write_pandas(\n"
     ]
    },
    {
     "name": "stdout",
     "output_type": "stream",
     "text": [
      "577870 values inserted into table SCHEDULE_RI\n"
     ]
    },
    {
     "name": "stderr",
     "output_type": "stream",
     "text": [
      "C:\\Users\\whill\\anaconda3\\lib\\site-packages\\snowflake\\snowpark\\session.py:1891: UserWarning: Pandas Dataframe has non-standard index of type <class 'pandas.core.indexes.numeric.Int64Index'> which will not be written. Consider changing the index to pd.RangeIndex(start=0,...,step=1) or call reset_index() to keep index as column(s)\n",
      "  success, nchunks, nrows, ci_output = write_pandas(\n"
     ]
    },
    {
     "name": "stdout",
     "output_type": "stream",
     "text": [
      "577870 values inserted into table SCHEDULE_RIBII\n"
     ]
    },
    {
     "name": "stderr",
     "output_type": "stream",
     "text": [
      "C:\\Users\\whill\\anaconda3\\lib\\site-packages\\snowflake\\snowpark\\session.py:1891: UserWarning: Pandas Dataframe has non-standard index of type <class 'pandas.core.indexes.numeric.Int64Index'> which will not be written. Consider changing the index to pd.RangeIndex(start=0,...,step=1) or call reset_index() to keep index as column(s)\n",
      "  success, nchunks, nrows, ci_output = write_pandas(\n"
     ]
    },
    {
     "name": "stdout",
     "output_type": "stream",
     "text": [
      "577870 values inserted into table SCHEDULE_RCRII\n",
      "C:\\Users\\whill\\call-report-database\\Bulk_Files\\2018\\03_31\\FFIEC CDR Call Schedule CI 03312018.txt\n",
      "C:\\Users\\whill\\call-report-database\\Bulk_Files\\2018\\03_31\\FFIEC CDR Call Schedule ENT 03312018.txt\n",
      "C:\\Users\\whill\\call-report-database\\Bulk_Files\\2018\\03_31\\FFIEC CDR Call Schedule NARR 03312018.txt\n",
      "C:\\Users\\whill\\call-report-database\\Bulk_Files\\2018\\03_31\\FFIEC CDR Call Schedule RC 03312018.txt\n",
      "C:\\Users\\whill\\call-report-database\\Bulk_Files\\2018\\03_31\\FFIEC CDR Call Schedule RCA 03312018.txt\n",
      "C:\\Users\\whill\\call-report-database\\Bulk_Files\\2018\\03_31\\FFIEC CDR Call Schedule RCB 03312018(1 of 2).txt\n",
      "C:\\Users\\whill\\call-report-database\\Bulk_Files\\2018\\03_31\\FFIEC CDR Call Schedule RCB 03312018(2 of 2).txt\n",
      "C:\\Users\\whill\\call-report-database\\Bulk_Files\\2018\\03_31\\FFIEC CDR Call Schedule RCCI 03312018.txt\n",
      "C:\\Users\\whill\\call-report-database\\Bulk_Files\\2018\\03_31\\FFIEC CDR Call Schedule RCCII 03312018.txt\n",
      "C:\\Users\\whill\\call-report-database\\Bulk_Files\\2018\\03_31\\FFIEC CDR Call Schedule RCD 03312018.txt\n",
      "C:\\Users\\whill\\call-report-database\\Bulk_Files\\2018\\03_31\\FFIEC CDR Call Schedule RCE 03312018.txt\n",
      "C:\\Users\\whill\\call-report-database\\Bulk_Files\\2018\\03_31\\FFIEC CDR Call Schedule RCEI 03312018.txt\n",
      "C:\\Users\\whill\\call-report-database\\Bulk_Files\\2018\\03_31\\FFIEC CDR Call Schedule RCEII 03312018.txt\n",
      "C:\\Users\\whill\\call-report-database\\Bulk_Files\\2018\\03_31\\FFIEC CDR Call Schedule RCF 03312018.txt\n",
      "C:\\Users\\whill\\call-report-database\\Bulk_Files\\2018\\03_31\\FFIEC CDR Call Schedule RCG 03312018.txt\n",
      "C:\\Users\\whill\\call-report-database\\Bulk_Files\\2018\\03_31\\FFIEC CDR Call Schedule RCH 03312018.txt\n",
      "C:\\Users\\whill\\call-report-database\\Bulk_Files\\2018\\03_31\\FFIEC CDR Call Schedule RCI 03312018.txt\n",
      "C:\\Users\\whill\\call-report-database\\Bulk_Files\\2018\\03_31\\FFIEC CDR Call Schedule RCK 03312018.txt\n",
      "C:\\Users\\whill\\call-report-database\\Bulk_Files\\2018\\03_31\\FFIEC CDR Call Schedule RCL 03312018(1 of 2).txt\n",
      "C:\\Users\\whill\\call-report-database\\Bulk_Files\\2018\\03_31\\FFIEC CDR Call Schedule RCL 03312018(2 of 2).txt\n",
      "C:\\Users\\whill\\call-report-database\\Bulk_Files\\2018\\03_31\\FFIEC CDR Call Schedule RCM 03312018.txt\n",
      "C:\\Users\\whill\\call-report-database\\Bulk_Files\\2018\\03_31\\FFIEC CDR Call Schedule RCN 03312018(1 of 2).txt\n",
      "C:\\Users\\whill\\call-report-database\\Bulk_Files\\2018\\03_31\\FFIEC CDR Call Schedule RCN 03312018(2 of 2).txt\n",
      "C:\\Users\\whill\\call-report-database\\Bulk_Files\\2018\\03_31\\FFIEC CDR Call Schedule RCO 03312018(1 of 2).txt\n",
      "C:\\Users\\whill\\call-report-database\\Bulk_Files\\2018\\03_31\\FFIEC CDR Call Schedule RCO 03312018(2 of 2).txt\n",
      "C:\\Users\\whill\\call-report-database\\Bulk_Files\\2018\\03_31\\FFIEC CDR Call Schedule RCP 03312018.txt\n",
      "C:\\Users\\whill\\call-report-database\\Bulk_Files\\2018\\03_31\\FFIEC CDR Call Schedule RCQ 03312018(1 of 2).txt\n",
      "C:\\Users\\whill\\call-report-database\\Bulk_Files\\2018\\03_31\\FFIEC CDR Call Schedule RCQ 03312018(2 of 2).txt\n",
      "C:\\Users\\whill\\call-report-database\\Bulk_Files\\2018\\03_31\\FFIEC CDR Call Schedule RCRI 03312018.txt\n",
      "C:\\Users\\whill\\call-report-database\\Bulk_Files\\2018\\03_31\\FFIEC CDR Call Schedule RCRII 03312018(1 of 4).txt\n",
      "C:\\Users\\whill\\call-report-database\\Bulk_Files\\2018\\03_31\\FFIEC CDR Call Schedule RCRII 03312018(2 of 4).txt\n",
      "C:\\Users\\whill\\call-report-database\\Bulk_Files\\2018\\03_31\\FFIEC CDR Call Schedule RCRII 03312018(3 of 4).txt\n",
      "C:\\Users\\whill\\call-report-database\\Bulk_Files\\2018\\03_31\\FFIEC CDR Call Schedule RCRII 03312018(4 of 4).txt\n",
      "C:\\Users\\whill\\call-report-database\\Bulk_Files\\2018\\03_31\\FFIEC CDR Call Schedule RCS 03312018.txt\n",
      "C:\\Users\\whill\\call-report-database\\Bulk_Files\\2018\\03_31\\FFIEC CDR Call Schedule RCT 03312018(1 of 2).txt\n",
      "C:\\Users\\whill\\call-report-database\\Bulk_Files\\2018\\03_31\\FFIEC CDR Call Schedule RCT 03312018(2 of 2).txt\n",
      "C:\\Users\\whill\\call-report-database\\Bulk_Files\\2018\\03_31\\FFIEC CDR Call Schedule RCV 03312018.txt\n",
      "C:\\Users\\whill\\call-report-database\\Bulk_Files\\2018\\03_31\\FFIEC CDR Call Schedule RI 03312018.txt\n",
      "C:\\Users\\whill\\call-report-database\\Bulk_Files\\2018\\03_31\\FFIEC CDR Call Schedule RIA 03312018.txt\n",
      "C:\\Users\\whill\\call-report-database\\Bulk_Files\\2018\\03_31\\FFIEC CDR Call Schedule RIBI 03312018.txt\n",
      "C:\\Users\\whill\\call-report-database\\Bulk_Files\\2018\\03_31\\FFIEC CDR Call Schedule RIBII 03312018.txt\n",
      "C:\\Users\\whill\\call-report-database\\Bulk_Files\\2018\\03_31\\FFIEC CDR Call Schedule RIC 03312018.txt\n",
      "C:\\Users\\whill\\call-report-database\\Bulk_Files\\2018\\03_31\\FFIEC CDR Call Schedule RID 03312018.txt\n",
      "C:\\Users\\whill\\call-report-database\\Bulk_Files\\2018\\03_31\\FFIEC CDR Call Schedule RIE 03312018.txt\n",
      "C:\\Users\\whill\\call-report-database\\Bulk_Files\\2018\\03_31\\FFIEC CDR Call Schedule SU 03312018.txt\n"
     ]
    },
    {
     "name": "stderr",
     "output_type": "stream",
     "text": [
      "C:\\Users\\whill\\anaconda3\\lib\\site-packages\\snowflake\\snowpark\\session.py:1891: UserWarning: Pandas Dataframe has non-standard index of type <class 'pandas.core.indexes.numeric.Int64Index'> which will not be written. Consider changing the index to pd.RangeIndex(start=0,...,step=1) or call reset_index() to keep index as column(s)\n",
      "  success, nchunks, nrows, ci_output = write_pandas(\n"
     ]
    },
    {
     "name": "stdout",
     "output_type": "stream",
     "text": [
      "583527 values inserted into table SCHEDULE_RCA\n"
     ]
    },
    {
     "name": "stderr",
     "output_type": "stream",
     "text": [
      "C:\\Users\\whill\\anaconda3\\lib\\site-packages\\snowflake\\snowpark\\session.py:1891: UserWarning: Pandas Dataframe has non-standard index of type <class 'pandas.core.indexes.numeric.Int64Index'> which will not be written. Consider changing the index to pd.RangeIndex(start=0,...,step=1) or call reset_index() to keep index as column(s)\n",
      "  success, nchunks, nrows, ci_output = write_pandas(\n"
     ]
    },
    {
     "name": "stdout",
     "output_type": "stream",
     "text": [
      "583527 values inserted into table SCHEDULE_RCB\n"
     ]
    },
    {
     "name": "stderr",
     "output_type": "stream",
     "text": [
      "C:\\Users\\whill\\anaconda3\\lib\\site-packages\\snowflake\\snowpark\\session.py:1891: UserWarning: Pandas Dataframe has non-standard index of type <class 'pandas.core.indexes.numeric.Int64Index'> which will not be written. Consider changing the index to pd.RangeIndex(start=0,...,step=1) or call reset_index() to keep index as column(s)\n",
      "  success, nchunks, nrows, ci_output = write_pandas(\n"
     ]
    },
    {
     "name": "stdout",
     "output_type": "stream",
     "text": [
      "583527 values inserted into table SCHEDULE_RCH\n"
     ]
    },
    {
     "name": "stderr",
     "output_type": "stream",
     "text": [
      "C:\\Users\\whill\\anaconda3\\lib\\site-packages\\snowflake\\snowpark\\session.py:1891: UserWarning: Pandas Dataframe has non-standard index of type <class 'pandas.core.indexes.numeric.Int64Index'> which will not be written. Consider changing the index to pd.RangeIndex(start=0,...,step=1) or call reset_index() to keep index as column(s)\n",
      "  success, nchunks, nrows, ci_output = write_pandas(\n"
     ]
    },
    {
     "name": "stdout",
     "output_type": "stream",
     "text": [
      "583527 values inserted into table SCHEDULE_RCQ\n"
     ]
    },
    {
     "name": "stderr",
     "output_type": "stream",
     "text": [
      "C:\\Users\\whill\\anaconda3\\lib\\site-packages\\snowflake\\snowpark\\session.py:1891: UserWarning: Pandas Dataframe has non-standard index of type <class 'pandas.core.indexes.numeric.Int64Index'> which will not be written. Consider changing the index to pd.RangeIndex(start=0,...,step=1) or call reset_index() to keep index as column(s)\n",
      "  success, nchunks, nrows, ci_output = write_pandas(\n"
     ]
    },
    {
     "name": "stdout",
     "output_type": "stream",
     "text": [
      "583527 values inserted into table SCHEDULE_RCRII\n"
     ]
    },
    {
     "name": "stderr",
     "output_type": "stream",
     "text": [
      "C:\\Users\\whill\\anaconda3\\lib\\site-packages\\snowflake\\snowpark\\session.py:1891: UserWarning: Pandas Dataframe has non-standard index of type <class 'pandas.core.indexes.numeric.Int64Index'> which will not be written. Consider changing the index to pd.RangeIndex(start=0,...,step=1) or call reset_index() to keep index as column(s)\n",
      "  success, nchunks, nrows, ci_output = write_pandas(\n"
     ]
    },
    {
     "name": "stdout",
     "output_type": "stream",
     "text": [
      "583527 values inserted into table SCHEDULE_RI\n"
     ]
    },
    {
     "name": "stderr",
     "output_type": "stream",
     "text": [
      "C:\\Users\\whill\\anaconda3\\lib\\site-packages\\snowflake\\snowpark\\session.py:1891: UserWarning: Pandas Dataframe has non-standard index of type <class 'pandas.core.indexes.numeric.Int64Index'> which will not be written. Consider changing the index to pd.RangeIndex(start=0,...,step=1) or call reset_index() to keep index as column(s)\n",
      "  success, nchunks, nrows, ci_output = write_pandas(\n"
     ]
    },
    {
     "name": "stdout",
     "output_type": "stream",
     "text": [
      "583527 values inserted into table SCHEDULE_SU\n"
     ]
    },
    {
     "name": "stderr",
     "output_type": "stream",
     "text": [
      "C:\\Users\\whill\\anaconda3\\lib\\site-packages\\snowflake\\snowpark\\session.py:1891: UserWarning: Pandas Dataframe has non-standard index of type <class 'pandas.core.indexes.numeric.Int64Index'> which will not be written. Consider changing the index to pd.RangeIndex(start=0,...,step=1) or call reset_index() to keep index as column(s)\n",
      "  success, nchunks, nrows, ci_output = write_pandas(\n"
     ]
    },
    {
     "name": "stdout",
     "output_type": "stream",
     "text": [
      "583527 values inserted into table SCHEDULE_RIBI\n"
     ]
    },
    {
     "name": "stderr",
     "output_type": "stream",
     "text": [
      "C:\\Users\\whill\\anaconda3\\lib\\site-packages\\snowflake\\snowpark\\session.py:1891: UserWarning: Pandas Dataframe has non-standard index of type <class 'pandas.core.indexes.numeric.Int64Index'> which will not be written. Consider changing the index to pd.RangeIndex(start=0,...,step=1) or call reset_index() to keep index as column(s)\n",
      "  success, nchunks, nrows, ci_output = write_pandas(\n"
     ]
    },
    {
     "name": "stdout",
     "output_type": "stream",
     "text": [
      "583527 values inserted into table SCHEDULE_ENT\n"
     ]
    },
    {
     "name": "stderr",
     "output_type": "stream",
     "text": [
      "C:\\Users\\whill\\anaconda3\\lib\\site-packages\\snowflake\\snowpark\\session.py:1891: UserWarning: Pandas Dataframe has non-standard index of type <class 'pandas.core.indexes.numeric.Int64Index'> which will not be written. Consider changing the index to pd.RangeIndex(start=0,...,step=1) or call reset_index() to keep index as column(s)\n",
      "  success, nchunks, nrows, ci_output = write_pandas(\n"
     ]
    },
    {
     "name": "stdout",
     "output_type": "stream",
     "text": [
      "583527 values inserted into table SCHEDULE_RCE\n"
     ]
    },
    {
     "name": "stderr",
     "output_type": "stream",
     "text": [
      "C:\\Users\\whill\\anaconda3\\lib\\site-packages\\snowflake\\snowpark\\session.py:1891: UserWarning: Pandas Dataframe has non-standard index of type <class 'pandas.core.indexes.numeric.Int64Index'> which will not be written. Consider changing the index to pd.RangeIndex(start=0,...,step=1) or call reset_index() to keep index as column(s)\n",
      "  success, nchunks, nrows, ci_output = write_pandas(\n"
     ]
    },
    {
     "name": "stdout",
     "output_type": "stream",
     "text": [
      "583527 values inserted into table SCHEDULE_RCEI\n"
     ]
    },
    {
     "name": "stderr",
     "output_type": "stream",
     "text": [
      "C:\\Users\\whill\\anaconda3\\lib\\site-packages\\snowflake\\snowpark\\session.py:1891: UserWarning: Pandas Dataframe has non-standard index of type <class 'pandas.core.indexes.numeric.Int64Index'> which will not be written. Consider changing the index to pd.RangeIndex(start=0,...,step=1) or call reset_index() to keep index as column(s)\n",
      "  success, nchunks, nrows, ci_output = write_pandas(\n"
     ]
    },
    {
     "name": "stdout",
     "output_type": "stream",
     "text": [
      "583527 values inserted into table SCHEDULE_RCM\n"
     ]
    },
    {
     "name": "stderr",
     "output_type": "stream",
     "text": [
      "C:\\Users\\whill\\anaconda3\\lib\\site-packages\\snowflake\\snowpark\\session.py:1891: UserWarning: Pandas Dataframe has non-standard index of type <class 'pandas.core.indexes.numeric.Int64Index'> which will not be written. Consider changing the index to pd.RangeIndex(start=0,...,step=1) or call reset_index() to keep index as column(s)\n",
      "  success, nchunks, nrows, ci_output = write_pandas(\n"
     ]
    },
    {
     "name": "stdout",
     "output_type": "stream",
     "text": [
      "583527 values inserted into table SCHEDULE_RCN\n"
     ]
    },
    {
     "name": "stderr",
     "output_type": "stream",
     "text": [
      "C:\\Users\\whill\\anaconda3\\lib\\site-packages\\snowflake\\snowpark\\session.py:1891: UserWarning: Pandas Dataframe has non-standard index of type <class 'pandas.core.indexes.numeric.Int64Index'> which will not be written. Consider changing the index to pd.RangeIndex(start=0,...,step=1) or call reset_index() to keep index as column(s)\n",
      "  success, nchunks, nrows, ci_output = write_pandas(\n"
     ]
    },
    {
     "name": "stdout",
     "output_type": "stream",
     "text": [
      "583527 values inserted into table SCHEDULE_RCT\n"
     ]
    },
    {
     "name": "stderr",
     "output_type": "stream",
     "text": [
      "C:\\Users\\whill\\anaconda3\\lib\\site-packages\\snowflake\\snowpark\\session.py:1891: UserWarning: Pandas Dataframe has non-standard index of type <class 'pandas.core.indexes.numeric.Int64Index'> which will not be written. Consider changing the index to pd.RangeIndex(start=0,...,step=1) or call reset_index() to keep index as column(s)\n",
      "  success, nchunks, nrows, ci_output = write_pandas(\n"
     ]
    },
    {
     "name": "stdout",
     "output_type": "stream",
     "text": [
      "583527 values inserted into table SCHEDULE_RID\n"
     ]
    },
    {
     "name": "stderr",
     "output_type": "stream",
     "text": [
      "C:\\Users\\whill\\anaconda3\\lib\\site-packages\\snowflake\\snowpark\\session.py:1891: UserWarning: Pandas Dataframe has non-standard index of type <class 'pandas.core.indexes.numeric.Int64Index'> which will not be written. Consider changing the index to pd.RangeIndex(start=0,...,step=1) or call reset_index() to keep index as column(s)\n",
      "  success, nchunks, nrows, ci_output = write_pandas(\n"
     ]
    },
    {
     "name": "stdout",
     "output_type": "stream",
     "text": [
      "583527 values inserted into table SCHEDULE_RCCII\n"
     ]
    },
    {
     "name": "stderr",
     "output_type": "stream",
     "text": [
      "C:\\Users\\whill\\anaconda3\\lib\\site-packages\\snowflake\\snowpark\\session.py:1891: UserWarning: Pandas Dataframe has non-standard index of type <class 'pandas.core.indexes.numeric.Int64Index'> which will not be written. Consider changing the index to pd.RangeIndex(start=0,...,step=1) or call reset_index() to keep index as column(s)\n",
      "  success, nchunks, nrows, ci_output = write_pandas(\n"
     ]
    },
    {
     "name": "stdout",
     "output_type": "stream",
     "text": [
      "583527 values inserted into table SCHEDULE_RCO\n"
     ]
    },
    {
     "name": "stderr",
     "output_type": "stream",
     "text": [
      "C:\\Users\\whill\\anaconda3\\lib\\site-packages\\snowflake\\snowpark\\session.py:1891: UserWarning: Pandas Dataframe has non-standard index of type <class 'pandas.core.indexes.numeric.Int64Index'> which will not be written. Consider changing the index to pd.RangeIndex(start=0,...,step=1) or call reset_index() to keep index as column(s)\n",
      "  success, nchunks, nrows, ci_output = write_pandas(\n"
     ]
    },
    {
     "name": "stdout",
     "output_type": "stream",
     "text": [
      "583527 values inserted into table SCHEDULE_RCP\n"
     ]
    },
    {
     "name": "stderr",
     "output_type": "stream",
     "text": [
      "C:\\Users\\whill\\anaconda3\\lib\\site-packages\\snowflake\\snowpark\\session.py:1891: UserWarning: Pandas Dataframe has non-standard index of type <class 'pandas.core.indexes.numeric.Int64Index'> which will not be written. Consider changing the index to pd.RangeIndex(start=0,...,step=1) or call reset_index() to keep index as column(s)\n",
      "  success, nchunks, nrows, ci_output = write_pandas(\n"
     ]
    },
    {
     "name": "stdout",
     "output_type": "stream",
     "text": [
      "583527 values inserted into table SCHEDULE_RIA\n"
     ]
    },
    {
     "name": "stderr",
     "output_type": "stream",
     "text": [
      "C:\\Users\\whill\\anaconda3\\lib\\site-packages\\snowflake\\snowpark\\session.py:1891: UserWarning: Pandas Dataframe has non-standard index of type <class 'pandas.core.indexes.numeric.Int64Index'> which will not be written. Consider changing the index to pd.RangeIndex(start=0,...,step=1) or call reset_index() to keep index as column(s)\n",
      "  success, nchunks, nrows, ci_output = write_pandas(\n"
     ]
    },
    {
     "name": "stdout",
     "output_type": "stream",
     "text": [
      "583527 values inserted into table SCHEDULE_RCL\n"
     ]
    },
    {
     "name": "stderr",
     "output_type": "stream",
     "text": [
      "C:\\Users\\whill\\anaconda3\\lib\\site-packages\\snowflake\\snowpark\\session.py:1891: UserWarning: Pandas Dataframe has non-standard index of type <class 'pandas.core.indexes.numeric.Int64Index'> which will not be written. Consider changing the index to pd.RangeIndex(start=0,...,step=1) or call reset_index() to keep index as column(s)\n",
      "  success, nchunks, nrows, ci_output = write_pandas(\n"
     ]
    },
    {
     "name": "stdout",
     "output_type": "stream",
     "text": [
      "583527 values inserted into table SCHEDULE_RCV\n"
     ]
    },
    {
     "name": "stderr",
     "output_type": "stream",
     "text": [
      "C:\\Users\\whill\\anaconda3\\lib\\site-packages\\snowflake\\snowpark\\session.py:1891: UserWarning: Pandas Dataframe has non-standard index of type <class 'pandas.core.indexes.numeric.Int64Index'> which will not be written. Consider changing the index to pd.RangeIndex(start=0,...,step=1) or call reset_index() to keep index as column(s)\n",
      "  success, nchunks, nrows, ci_output = write_pandas(\n"
     ]
    },
    {
     "name": "stdout",
     "output_type": "stream",
     "text": [
      "583527 values inserted into table SCHEDULE_NARR\n"
     ]
    },
    {
     "name": "stderr",
     "output_type": "stream",
     "text": [
      "C:\\Users\\whill\\anaconda3\\lib\\site-packages\\snowflake\\snowpark\\session.py:1891: UserWarning: Pandas Dataframe has non-standard index of type <class 'pandas.core.indexes.numeric.Int64Index'> which will not be written. Consider changing the index to pd.RangeIndex(start=0,...,step=1) or call reset_index() to keep index as column(s)\n",
      "  success, nchunks, nrows, ci_output = write_pandas(\n"
     ]
    },
    {
     "name": "stdout",
     "output_type": "stream",
     "text": [
      "583527 values inserted into table SCHEDULE_RCCI\n"
     ]
    },
    {
     "name": "stderr",
     "output_type": "stream",
     "text": [
      "C:\\Users\\whill\\anaconda3\\lib\\site-packages\\snowflake\\snowpark\\session.py:1891: UserWarning: Pandas Dataframe has non-standard index of type <class 'pandas.core.indexes.numeric.Int64Index'> which will not be written. Consider changing the index to pd.RangeIndex(start=0,...,step=1) or call reset_index() to keep index as column(s)\n",
      "  success, nchunks, nrows, ci_output = write_pandas(\n"
     ]
    },
    {
     "name": "stdout",
     "output_type": "stream",
     "text": [
      "583527 values inserted into table SCHEDULE_RCG\n"
     ]
    },
    {
     "name": "stderr",
     "output_type": "stream",
     "text": [
      "C:\\Users\\whill\\anaconda3\\lib\\site-packages\\snowflake\\snowpark\\session.py:1891: UserWarning: Pandas Dataframe has non-standard index of type <class 'pandas.core.indexes.numeric.Int64Index'> which will not be written. Consider changing the index to pd.RangeIndex(start=0,...,step=1) or call reset_index() to keep index as column(s)\n",
      "  success, nchunks, nrows, ci_output = write_pandas(\n"
     ]
    },
    {
     "name": "stdout",
     "output_type": "stream",
     "text": [
      "583527 values inserted into table SCHEDULE_RCI\n"
     ]
    },
    {
     "name": "stderr",
     "output_type": "stream",
     "text": [
      "C:\\Users\\whill\\anaconda3\\lib\\site-packages\\snowflake\\snowpark\\session.py:1891: UserWarning: Pandas Dataframe has non-standard index of type <class 'pandas.core.indexes.numeric.Int64Index'> which will not be written. Consider changing the index to pd.RangeIndex(start=0,...,step=1) or call reset_index() to keep index as column(s)\n",
      "  success, nchunks, nrows, ci_output = write_pandas(\n"
     ]
    },
    {
     "name": "stdout",
     "output_type": "stream",
     "text": [
      "583527 values inserted into table SCHEDULE_RCK\n"
     ]
    },
    {
     "name": "stderr",
     "output_type": "stream",
     "text": [
      "C:\\Users\\whill\\anaconda3\\lib\\site-packages\\snowflake\\snowpark\\session.py:1891: UserWarning: Pandas Dataframe has non-standard index of type <class 'pandas.core.indexes.numeric.Int64Index'> which will not be written. Consider changing the index to pd.RangeIndex(start=0,...,step=1) or call reset_index() to keep index as column(s)\n",
      "  success, nchunks, nrows, ci_output = write_pandas(\n"
     ]
    },
    {
     "name": "stdout",
     "output_type": "stream",
     "text": [
      "Error in table SCHEDULE_RCRI: 100071 (22000): Failed to cast variant value \"7.5123%\" to REAL\n"
     ]
    },
    {
     "name": "stderr",
     "output_type": "stream",
     "text": [
      "C:\\Users\\whill\\anaconda3\\lib\\site-packages\\snowflake\\snowpark\\session.py:1891: UserWarning: Pandas Dataframe has non-standard index of type <class 'pandas.core.indexes.numeric.Int64Index'> which will not be written. Consider changing the index to pd.RangeIndex(start=0,...,step=1) or call reset_index() to keep index as column(s)\n",
      "  success, nchunks, nrows, ci_output = write_pandas(\n"
     ]
    },
    {
     "name": "stdout",
     "output_type": "stream",
     "text": [
      "583527 values inserted into table SCHEDULE_RCS\n"
     ]
    },
    {
     "name": "stderr",
     "output_type": "stream",
     "text": [
      "C:\\Users\\whill\\anaconda3\\lib\\site-packages\\snowflake\\snowpark\\session.py:1891: UserWarning: Pandas Dataframe has non-standard index of type <class 'pandas.core.indexes.numeric.Int64Index'> which will not be written. Consider changing the index to pd.RangeIndex(start=0,...,step=1) or call reset_index() to keep index as column(s)\n",
      "  success, nchunks, nrows, ci_output = write_pandas(\n"
     ]
    },
    {
     "name": "stdout",
     "output_type": "stream",
     "text": [
      "583527 values inserted into table SCHEDULE_RIBII\n"
     ]
    },
    {
     "name": "stderr",
     "output_type": "stream",
     "text": [
      "C:\\Users\\whill\\anaconda3\\lib\\site-packages\\snowflake\\snowpark\\session.py:1891: UserWarning: Pandas Dataframe has non-standard index of type <class 'pandas.core.indexes.numeric.Int64Index'> which will not be written. Consider changing the index to pd.RangeIndex(start=0,...,step=1) or call reset_index() to keep index as column(s)\n",
      "  success, nchunks, nrows, ci_output = write_pandas(\n"
     ]
    },
    {
     "name": "stdout",
     "output_type": "stream",
     "text": [
      "583527 values inserted into table SCHEDULE_RICI\n"
     ]
    },
    {
     "name": "stderr",
     "output_type": "stream",
     "text": [
      "C:\\Users\\whill\\anaconda3\\lib\\site-packages\\snowflake\\snowpark\\session.py:1891: UserWarning: Pandas Dataframe has non-standard index of type <class 'pandas.core.indexes.numeric.Int64Index'> which will not be written. Consider changing the index to pd.RangeIndex(start=0,...,step=1) or call reset_index() to keep index as column(s)\n",
      "  success, nchunks, nrows, ci_output = write_pandas(\n"
     ]
    },
    {
     "name": "stdout",
     "output_type": "stream",
     "text": [
      "583527 values inserted into table SCHEDULE_LEO\n"
     ]
    },
    {
     "name": "stderr",
     "output_type": "stream",
     "text": [
      "C:\\Users\\whill\\anaconda3\\lib\\site-packages\\snowflake\\snowpark\\session.py:1891: UserWarning: Pandas Dataframe has non-standard index of type <class 'pandas.core.indexes.numeric.Int64Index'> which will not be written. Consider changing the index to pd.RangeIndex(start=0,...,step=1) or call reset_index() to keep index as column(s)\n",
      "  success, nchunks, nrows, ci_output = write_pandas(\n"
     ]
    },
    {
     "name": "stdout",
     "output_type": "stream",
     "text": [
      "583527 values inserted into table SCHEDULE_RC\n"
     ]
    },
    {
     "name": "stderr",
     "output_type": "stream",
     "text": [
      "C:\\Users\\whill\\anaconda3\\lib\\site-packages\\snowflake\\snowpark\\session.py:1891: UserWarning: Pandas Dataframe has non-standard index of type <class 'pandas.core.indexes.numeric.Int64Index'> which will not be written. Consider changing the index to pd.RangeIndex(start=0,...,step=1) or call reset_index() to keep index as column(s)\n",
      "  success, nchunks, nrows, ci_output = write_pandas(\n"
     ]
    },
    {
     "name": "stdout",
     "output_type": "stream",
     "text": [
      "583527 values inserted into table SCHEDULE_RCEII\n"
     ]
    },
    {
     "name": "stderr",
     "output_type": "stream",
     "text": [
      "C:\\Users\\whill\\anaconda3\\lib\\site-packages\\snowflake\\snowpark\\session.py:1891: UserWarning: Pandas Dataframe has non-standard index of type <class 'pandas.core.indexes.numeric.Int64Index'> which will not be written. Consider changing the index to pd.RangeIndex(start=0,...,step=1) or call reset_index() to keep index as column(s)\n",
      "  success, nchunks, nrows, ci_output = write_pandas(\n"
     ]
    },
    {
     "name": "stdout",
     "output_type": "stream",
     "text": [
      "583527 values inserted into table SCHEDULE_RCF\n"
     ]
    },
    {
     "name": "stderr",
     "output_type": "stream",
     "text": [
      "C:\\Users\\whill\\anaconda3\\lib\\site-packages\\snowflake\\snowpark\\session.py:1891: UserWarning: Pandas Dataframe has non-standard index of type <class 'pandas.core.indexes.numeric.Int64Index'> which will not be written. Consider changing the index to pd.RangeIndex(start=0,...,step=1) or call reset_index() to keep index as column(s)\n",
      "  success, nchunks, nrows, ci_output = write_pandas(\n"
     ]
    },
    {
     "name": "stdout",
     "output_type": "stream",
     "text": [
      "583527 values inserted into table SCHEDULE_RCR\n"
     ]
    },
    {
     "name": "stderr",
     "output_type": "stream",
     "text": [
      "C:\\Users\\whill\\anaconda3\\lib\\site-packages\\snowflake\\snowpark\\session.py:1891: UserWarning: Pandas Dataframe has non-standard index of type <class 'pandas.core.indexes.numeric.Int64Index'> which will not be written. Consider changing the index to pd.RangeIndex(start=0,...,step=1) or call reset_index() to keep index as column(s)\n",
      "  success, nchunks, nrows, ci_output = write_pandas(\n"
     ]
    },
    {
     "name": "stdout",
     "output_type": "stream",
     "text": [
      "583527 values inserted into table SCHEDULE_RIC\n"
     ]
    },
    {
     "name": "stderr",
     "output_type": "stream",
     "text": [
      "C:\\Users\\whill\\anaconda3\\lib\\site-packages\\snowflake\\snowpark\\session.py:1891: UserWarning: Pandas Dataframe has non-standard index of type <class 'pandas.core.indexes.numeric.Int64Index'> which will not be written. Consider changing the index to pd.RangeIndex(start=0,...,step=1) or call reset_index() to keep index as column(s)\n",
      "  success, nchunks, nrows, ci_output = write_pandas(\n"
     ]
    },
    {
     "name": "stdout",
     "output_type": "stream",
     "text": [
      "583527 values inserted into table SCHEDULE_RICII\n"
     ]
    },
    {
     "name": "stderr",
     "output_type": "stream",
     "text": [
      "C:\\Users\\whill\\anaconda3\\lib\\site-packages\\snowflake\\snowpark\\session.py:1891: UserWarning: Pandas Dataframe has non-standard index of type <class 'pandas.core.indexes.numeric.Int64Index'> which will not be written. Consider changing the index to pd.RangeIndex(start=0,...,step=1) or call reset_index() to keep index as column(s)\n",
      "  success, nchunks, nrows, ci_output = write_pandas(\n"
     ]
    },
    {
     "name": "stdout",
     "output_type": "stream",
     "text": [
      "583527 values inserted into table SCHEDULE_RIE\n"
     ]
    },
    {
     "name": "stderr",
     "output_type": "stream",
     "text": [
      "C:\\Users\\whill\\anaconda3\\lib\\site-packages\\snowflake\\snowpark\\session.py:1891: UserWarning: Pandas Dataframe has non-standard index of type <class 'pandas.core.indexes.numeric.Int64Index'> which will not be written. Consider changing the index to pd.RangeIndex(start=0,...,step=1) or call reset_index() to keep index as column(s)\n",
      "  success, nchunks, nrows, ci_output = write_pandas(\n"
     ]
    },
    {
     "name": "stdout",
     "output_type": "stream",
     "text": [
      "583527 values inserted into table SCHEDULE_UNDEFINED\n"
     ]
    },
    {
     "name": "stderr",
     "output_type": "stream",
     "text": [
      "C:\\Users\\whill\\anaconda3\\lib\\site-packages\\snowflake\\snowpark\\session.py:1891: UserWarning: Pandas Dataframe has non-standard index of type <class 'pandas.core.indexes.numeric.Int64Index'> which will not be written. Consider changing the index to pd.RangeIndex(start=0,...,step=1) or call reset_index() to keep index as column(s)\n",
      "  success, nchunks, nrows, ci_output = write_pandas(\n"
     ]
    },
    {
     "name": "stdout",
     "output_type": "stream",
     "text": [
      "583527 values inserted into table SCHEDULE_RCD\n",
      "C:\\Users\\whill\\call-report-database\\Bulk_Files\\2018\\06_30\\FFIEC CDR Call Schedule CI 06302018.txt\n",
      "C:\\Users\\whill\\call-report-database\\Bulk_Files\\2018\\06_30\\FFIEC CDR Call Schedule ENT 06302018.txt\n",
      "C:\\Users\\whill\\call-report-database\\Bulk_Files\\2018\\06_30\\FFIEC CDR Call Schedule NARR 06302018.txt\n",
      "C:\\Users\\whill\\call-report-database\\Bulk_Files\\2018\\06_30\\FFIEC CDR Call Schedule RC 06302018.txt\n",
      "C:\\Users\\whill\\call-report-database\\Bulk_Files\\2018\\06_30\\FFIEC CDR Call Schedule RCA 06302018.txt\n",
      "C:\\Users\\whill\\call-report-database\\Bulk_Files\\2018\\06_30\\FFIEC CDR Call Schedule RCB 06302018(1 of 2).txt\n",
      "C:\\Users\\whill\\call-report-database\\Bulk_Files\\2018\\06_30\\FFIEC CDR Call Schedule RCB 06302018(2 of 2).txt\n",
      "C:\\Users\\whill\\call-report-database\\Bulk_Files\\2018\\06_30\\FFIEC CDR Call Schedule RCCI 06302018.txt\n",
      "C:\\Users\\whill\\call-report-database\\Bulk_Files\\2018\\06_30\\FFIEC CDR Call Schedule RCCII 06302018.txt\n",
      "C:\\Users\\whill\\call-report-database\\Bulk_Files\\2018\\06_30\\FFIEC CDR Call Schedule RCD 06302018.txt\n",
      "C:\\Users\\whill\\call-report-database\\Bulk_Files\\2018\\06_30\\FFIEC CDR Call Schedule RCE 06302018.txt\n",
      "C:\\Users\\whill\\call-report-database\\Bulk_Files\\2018\\06_30\\FFIEC CDR Call Schedule RCEI 06302018.txt\n",
      "C:\\Users\\whill\\call-report-database\\Bulk_Files\\2018\\06_30\\FFIEC CDR Call Schedule RCEII 06302018.txt\n",
      "C:\\Users\\whill\\call-report-database\\Bulk_Files\\2018\\06_30\\FFIEC CDR Call Schedule RCF 06302018.txt\n",
      "C:\\Users\\whill\\call-report-database\\Bulk_Files\\2018\\06_30\\FFIEC CDR Call Schedule RCG 06302018.txt\n",
      "C:\\Users\\whill\\call-report-database\\Bulk_Files\\2018\\06_30\\FFIEC CDR Call Schedule RCH 06302018.txt\n",
      "C:\\Users\\whill\\call-report-database\\Bulk_Files\\2018\\06_30\\FFIEC CDR Call Schedule RCI 06302018.txt\n",
      "C:\\Users\\whill\\call-report-database\\Bulk_Files\\2018\\06_30\\FFIEC CDR Call Schedule RCK 06302018.txt\n",
      "C:\\Users\\whill\\call-report-database\\Bulk_Files\\2018\\06_30\\FFIEC CDR Call Schedule RCL 06302018(1 of 2).txt\n",
      "C:\\Users\\whill\\call-report-database\\Bulk_Files\\2018\\06_30\\FFIEC CDR Call Schedule RCL 06302018(2 of 2).txt\n",
      "C:\\Users\\whill\\call-report-database\\Bulk_Files\\2018\\06_30\\FFIEC CDR Call Schedule RCM 06302018.txt\n",
      "C:\\Users\\whill\\call-report-database\\Bulk_Files\\2018\\06_30\\FFIEC CDR Call Schedule RCN 06302018(1 of 2).txt\n",
      "C:\\Users\\whill\\call-report-database\\Bulk_Files\\2018\\06_30\\FFIEC CDR Call Schedule RCN 06302018(2 of 2).txt\n",
      "C:\\Users\\whill\\call-report-database\\Bulk_Files\\2018\\06_30\\FFIEC CDR Call Schedule RCO 06302018(1 of 2).txt\n",
      "C:\\Users\\whill\\call-report-database\\Bulk_Files\\2018\\06_30\\FFIEC CDR Call Schedule RCO 06302018(2 of 2).txt\n",
      "C:\\Users\\whill\\call-report-database\\Bulk_Files\\2018\\06_30\\FFIEC CDR Call Schedule RCP 06302018.txt\n",
      "C:\\Users\\whill\\call-report-database\\Bulk_Files\\2018\\06_30\\FFIEC CDR Call Schedule RCQ 06302018(1 of 2).txt\n",
      "C:\\Users\\whill\\call-report-database\\Bulk_Files\\2018\\06_30\\FFIEC CDR Call Schedule RCQ 06302018(2 of 2).txt\n",
      "C:\\Users\\whill\\call-report-database\\Bulk_Files\\2018\\06_30\\FFIEC CDR Call Schedule RCRI 06302018.txt\n",
      "C:\\Users\\whill\\call-report-database\\Bulk_Files\\2018\\06_30\\FFIEC CDR Call Schedule RCRII 06302018(1 of 4).txt\n",
      "C:\\Users\\whill\\call-report-database\\Bulk_Files\\2018\\06_30\\FFIEC CDR Call Schedule RCRII 06302018(2 of 4).txt\n",
      "C:\\Users\\whill\\call-report-database\\Bulk_Files\\2018\\06_30\\FFIEC CDR Call Schedule RCRII 06302018(3 of 4).txt\n",
      "C:\\Users\\whill\\call-report-database\\Bulk_Files\\2018\\06_30\\FFIEC CDR Call Schedule RCRII 06302018(4 of 4).txt\n",
      "C:\\Users\\whill\\call-report-database\\Bulk_Files\\2018\\06_30\\FFIEC CDR Call Schedule RCS 06302018.txt\n",
      "C:\\Users\\whill\\call-report-database\\Bulk_Files\\2018\\06_30\\FFIEC CDR Call Schedule RCT 06302018(1 of 2).txt\n",
      "C:\\Users\\whill\\call-report-database\\Bulk_Files\\2018\\06_30\\FFIEC CDR Call Schedule RCT 06302018(2 of 2).txt\n",
      "C:\\Users\\whill\\call-report-database\\Bulk_Files\\2018\\06_30\\FFIEC CDR Call Schedule RCV 06302018.txt\n",
      "C:\\Users\\whill\\call-report-database\\Bulk_Files\\2018\\06_30\\FFIEC CDR Call Schedule RI 06302018.txt\n",
      "C:\\Users\\whill\\call-report-database\\Bulk_Files\\2018\\06_30\\FFIEC CDR Call Schedule RIA 06302018.txt\n",
      "C:\\Users\\whill\\call-report-database\\Bulk_Files\\2018\\06_30\\FFIEC CDR Call Schedule RIBI 06302018.txt\n",
      "C:\\Users\\whill\\call-report-database\\Bulk_Files\\2018\\06_30\\FFIEC CDR Call Schedule RIBII 06302018.txt\n",
      "C:\\Users\\whill\\call-report-database\\Bulk_Files\\2018\\06_30\\FFIEC CDR Call Schedule RIC 06302018.txt\n",
      "C:\\Users\\whill\\call-report-database\\Bulk_Files\\2018\\06_30\\FFIEC CDR Call Schedule RID 06302018.txt\n",
      "C:\\Users\\whill\\call-report-database\\Bulk_Files\\2018\\06_30\\FFIEC CDR Call Schedule RIE 06302018.txt\n",
      "C:\\Users\\whill\\call-report-database\\Bulk_Files\\2018\\06_30\\FFIEC CDR Call Schedule SU 06302018.txt\n"
     ]
    },
    {
     "name": "stderr",
     "output_type": "stream",
     "text": [
      "C:\\Users\\whill\\anaconda3\\lib\\site-packages\\snowflake\\snowpark\\session.py:1891: UserWarning: Pandas Dataframe has non-standard index of type <class 'pandas.core.indexes.numeric.Int64Index'> which will not be written. Consider changing the index to pd.RangeIndex(start=0,...,step=1) or call reset_index() to keep index as column(s)\n",
      "  success, nchunks, nrows, ci_output = write_pandas(\n"
     ]
    },
    {
     "name": "stdout",
     "output_type": "stream",
     "text": [
      "589120 values inserted into table SCHEDULE_RCE\n"
     ]
    },
    {
     "name": "stderr",
     "output_type": "stream",
     "text": [
      "C:\\Users\\whill\\anaconda3\\lib\\site-packages\\snowflake\\snowpark\\session.py:1891: UserWarning: Pandas Dataframe has non-standard index of type <class 'pandas.core.indexes.numeric.Int64Index'> which will not be written. Consider changing the index to pd.RangeIndex(start=0,...,step=1) or call reset_index() to keep index as column(s)\n",
      "  success, nchunks, nrows, ci_output = write_pandas(\n"
     ]
    },
    {
     "name": "stdout",
     "output_type": "stream",
     "text": [
      "589120 values inserted into table SCHEDULE_RCO\n"
     ]
    },
    {
     "name": "stderr",
     "output_type": "stream",
     "text": [
      "C:\\Users\\whill\\anaconda3\\lib\\site-packages\\snowflake\\snowpark\\session.py:1891: UserWarning: Pandas Dataframe has non-standard index of type <class 'pandas.core.indexes.numeric.Int64Index'> which will not be written. Consider changing the index to pd.RangeIndex(start=0,...,step=1) or call reset_index() to keep index as column(s)\n",
      "  success, nchunks, nrows, ci_output = write_pandas(\n"
     ]
    },
    {
     "name": "stdout",
     "output_type": "stream",
     "text": [
      "589120 values inserted into table SCHEDULE_RCR\n"
     ]
    },
    {
     "name": "stderr",
     "output_type": "stream",
     "text": [
      "C:\\Users\\whill\\anaconda3\\lib\\site-packages\\snowflake\\snowpark\\session.py:1891: UserWarning: Pandas Dataframe has non-standard index of type <class 'pandas.core.indexes.numeric.Int64Index'> which will not be written. Consider changing the index to pd.RangeIndex(start=0,...,step=1) or call reset_index() to keep index as column(s)\n",
      "  success, nchunks, nrows, ci_output = write_pandas(\n"
     ]
    },
    {
     "name": "stdout",
     "output_type": "stream",
     "text": [
      "589120 values inserted into table SCHEDULE_UNDEFINED\n"
     ]
    },
    {
     "name": "stderr",
     "output_type": "stream",
     "text": [
      "C:\\Users\\whill\\anaconda3\\lib\\site-packages\\snowflake\\snowpark\\session.py:1891: UserWarning: Pandas Dataframe has non-standard index of type <class 'pandas.core.indexes.numeric.Int64Index'> which will not be written. Consider changing the index to pd.RangeIndex(start=0,...,step=1) or call reset_index() to keep index as column(s)\n",
      "  success, nchunks, nrows, ci_output = write_pandas(\n"
     ]
    },
    {
     "name": "stdout",
     "output_type": "stream",
     "text": [
      "589120 values inserted into table SCHEDULE_RCV\n"
     ]
    },
    {
     "name": "stderr",
     "output_type": "stream",
     "text": [
      "C:\\Users\\whill\\anaconda3\\lib\\site-packages\\snowflake\\snowpark\\session.py:1891: UserWarning: Pandas Dataframe has non-standard index of type <class 'pandas.core.indexes.numeric.Int64Index'> which will not be written. Consider changing the index to pd.RangeIndex(start=0,...,step=1) or call reset_index() to keep index as column(s)\n",
      "  success, nchunks, nrows, ci_output = write_pandas(\n"
     ]
    },
    {
     "name": "stdout",
     "output_type": "stream",
     "text": [
      "589120 values inserted into table SCHEDULE_RID\n"
     ]
    },
    {
     "name": "stderr",
     "output_type": "stream",
     "text": [
      "C:\\Users\\whill\\anaconda3\\lib\\site-packages\\snowflake\\snowpark\\session.py:1891: UserWarning: Pandas Dataframe has non-standard index of type <class 'pandas.core.indexes.numeric.Int64Index'> which will not be written. Consider changing the index to pd.RangeIndex(start=0,...,step=1) or call reset_index() to keep index as column(s)\n",
      "  success, nchunks, nrows, ci_output = write_pandas(\n"
     ]
    },
    {
     "name": "stdout",
     "output_type": "stream",
     "text": [
      "589120 values inserted into table SCHEDULE_ENT\n"
     ]
    },
    {
     "name": "stderr",
     "output_type": "stream",
     "text": [
      "C:\\Users\\whill\\anaconda3\\lib\\site-packages\\snowflake\\snowpark\\session.py:1891: UserWarning: Pandas Dataframe has non-standard index of type <class 'pandas.core.indexes.numeric.Int64Index'> which will not be written. Consider changing the index to pd.RangeIndex(start=0,...,step=1) or call reset_index() to keep index as column(s)\n",
      "  success, nchunks, nrows, ci_output = write_pandas(\n"
     ]
    },
    {
     "name": "stdout",
     "output_type": "stream",
     "text": [
      "589120 values inserted into table SCHEDULE_RCA\n"
     ]
    },
    {
     "name": "stderr",
     "output_type": "stream",
     "text": [
      "C:\\Users\\whill\\anaconda3\\lib\\site-packages\\snowflake\\snowpark\\session.py:1891: UserWarning: Pandas Dataframe has non-standard index of type <class 'pandas.core.indexes.numeric.Int64Index'> which will not be written. Consider changing the index to pd.RangeIndex(start=0,...,step=1) or call reset_index() to keep index as column(s)\n",
      "  success, nchunks, nrows, ci_output = write_pandas(\n"
     ]
    },
    {
     "name": "stdout",
     "output_type": "stream",
     "text": [
      "589120 values inserted into table SCHEDULE_RCB\n"
     ]
    },
    {
     "name": "stderr",
     "output_type": "stream",
     "text": [
      "C:\\Users\\whill\\anaconda3\\lib\\site-packages\\snowflake\\snowpark\\session.py:1891: UserWarning: Pandas Dataframe has non-standard index of type <class 'pandas.core.indexes.numeric.Int64Index'> which will not be written. Consider changing the index to pd.RangeIndex(start=0,...,step=1) or call reset_index() to keep index as column(s)\n",
      "  success, nchunks, nrows, ci_output = write_pandas(\n"
     ]
    },
    {
     "name": "stdout",
     "output_type": "stream",
     "text": [
      "589120 values inserted into table SCHEDULE_RCD\n"
     ]
    },
    {
     "name": "stderr",
     "output_type": "stream",
     "text": [
      "C:\\Users\\whill\\anaconda3\\lib\\site-packages\\snowflake\\snowpark\\session.py:1891: UserWarning: Pandas Dataframe has non-standard index of type <class 'pandas.core.indexes.numeric.Int64Index'> which will not be written. Consider changing the index to pd.RangeIndex(start=0,...,step=1) or call reset_index() to keep index as column(s)\n",
      "  success, nchunks, nrows, ci_output = write_pandas(\n"
     ]
    },
    {
     "name": "stdout",
     "output_type": "stream",
     "text": [
      "589120 values inserted into table SCHEDULE_RCEII\n"
     ]
    },
    {
     "name": "stderr",
     "output_type": "stream",
     "text": [
      "C:\\Users\\whill\\anaconda3\\lib\\site-packages\\snowflake\\snowpark\\session.py:1891: UserWarning: Pandas Dataframe has non-standard index of type <class 'pandas.core.indexes.numeric.Int64Index'> which will not be written. Consider changing the index to pd.RangeIndex(start=0,...,step=1) or call reset_index() to keep index as column(s)\n",
      "  success, nchunks, nrows, ci_output = write_pandas(\n"
     ]
    },
    {
     "name": "stdout",
     "output_type": "stream",
     "text": [
      "589120 values inserted into table SCHEDULE_RCF\n"
     ]
    },
    {
     "name": "stderr",
     "output_type": "stream",
     "text": [
      "C:\\Users\\whill\\anaconda3\\lib\\site-packages\\snowflake\\snowpark\\session.py:1891: UserWarning: Pandas Dataframe has non-standard index of type <class 'pandas.core.indexes.numeric.Int64Index'> which will not be written. Consider changing the index to pd.RangeIndex(start=0,...,step=1) or call reset_index() to keep index as column(s)\n",
      "  success, nchunks, nrows, ci_output = write_pandas(\n"
     ]
    },
    {
     "name": "stdout",
     "output_type": "stream",
     "text": [
      "589120 values inserted into table SCHEDULE_RCL\n"
     ]
    },
    {
     "name": "stderr",
     "output_type": "stream",
     "text": [
      "C:\\Users\\whill\\anaconda3\\lib\\site-packages\\snowflake\\snowpark\\session.py:1891: UserWarning: Pandas Dataframe has non-standard index of type <class 'pandas.core.indexes.numeric.Int64Index'> which will not be written. Consider changing the index to pd.RangeIndex(start=0,...,step=1) or call reset_index() to keep index as column(s)\n",
      "  success, nchunks, nrows, ci_output = write_pandas(\n"
     ]
    },
    {
     "name": "stdout",
     "output_type": "stream",
     "text": [
      "589120 values inserted into table SCHEDULE_RIA\n"
     ]
    },
    {
     "name": "stderr",
     "output_type": "stream",
     "text": [
      "C:\\Users\\whill\\anaconda3\\lib\\site-packages\\snowflake\\snowpark\\session.py:1891: UserWarning: Pandas Dataframe has non-standard index of type <class 'pandas.core.indexes.numeric.Int64Index'> which will not be written. Consider changing the index to pd.RangeIndex(start=0,...,step=1) or call reset_index() to keep index as column(s)\n",
      "  success, nchunks, nrows, ci_output = write_pandas(\n"
     ]
    },
    {
     "name": "stdout",
     "output_type": "stream",
     "text": [
      "589120 values inserted into table SCHEDULE_RIBI\n"
     ]
    },
    {
     "name": "stderr",
     "output_type": "stream",
     "text": [
      "C:\\Users\\whill\\anaconda3\\lib\\site-packages\\snowflake\\snowpark\\session.py:1891: UserWarning: Pandas Dataframe has non-standard index of type <class 'pandas.core.indexes.numeric.Int64Index'> which will not be written. Consider changing the index to pd.RangeIndex(start=0,...,step=1) or call reset_index() to keep index as column(s)\n",
      "  success, nchunks, nrows, ci_output = write_pandas(\n"
     ]
    },
    {
     "name": "stdout",
     "output_type": "stream",
     "text": [
      "589120 values inserted into table SCHEDULE_RCS\n"
     ]
    },
    {
     "name": "stderr",
     "output_type": "stream",
     "text": [
      "C:\\Users\\whill\\anaconda3\\lib\\site-packages\\snowflake\\snowpark\\session.py:1891: UserWarning: Pandas Dataframe has non-standard index of type <class 'pandas.core.indexes.numeric.Int64Index'> which will not be written. Consider changing the index to pd.RangeIndex(start=0,...,step=1) or call reset_index() to keep index as column(s)\n",
      "  success, nchunks, nrows, ci_output = write_pandas(\n"
     ]
    },
    {
     "name": "stdout",
     "output_type": "stream",
     "text": [
      "589120 values inserted into table SCHEDULE_RCG\n"
     ]
    },
    {
     "name": "stderr",
     "output_type": "stream",
     "text": [
      "C:\\Users\\whill\\anaconda3\\lib\\site-packages\\snowflake\\snowpark\\session.py:1891: UserWarning: Pandas Dataframe has non-standard index of type <class 'pandas.core.indexes.numeric.Int64Index'> which will not be written. Consider changing the index to pd.RangeIndex(start=0,...,step=1) or call reset_index() to keep index as column(s)\n",
      "  success, nchunks, nrows, ci_output = write_pandas(\n"
     ]
    },
    {
     "name": "stdout",
     "output_type": "stream",
     "text": [
      "589120 values inserted into table SCHEDULE_LEO\n"
     ]
    },
    {
     "name": "stderr",
     "output_type": "stream",
     "text": [
      "C:\\Users\\whill\\anaconda3\\lib\\site-packages\\snowflake\\snowpark\\session.py:1891: UserWarning: Pandas Dataframe has non-standard index of type <class 'pandas.core.indexes.numeric.Int64Index'> which will not be written. Consider changing the index to pd.RangeIndex(start=0,...,step=1) or call reset_index() to keep index as column(s)\n",
      "  success, nchunks, nrows, ci_output = write_pandas(\n"
     ]
    },
    {
     "name": "stdout",
     "output_type": "stream",
     "text": [
      "589120 values inserted into table SCHEDULE_NARR\n"
     ]
    },
    {
     "name": "stderr",
     "output_type": "stream",
     "text": [
      "C:\\Users\\whill\\anaconda3\\lib\\site-packages\\snowflake\\snowpark\\session.py:1891: UserWarning: Pandas Dataframe has non-standard index of type <class 'pandas.core.indexes.numeric.Int64Index'> which will not be written. Consider changing the index to pd.RangeIndex(start=0,...,step=1) or call reset_index() to keep index as column(s)\n",
      "  success, nchunks, nrows, ci_output = write_pandas(\n"
     ]
    },
    {
     "name": "stdout",
     "output_type": "stream",
     "text": [
      "589120 values inserted into table SCHEDULE_RCCI\n"
     ]
    },
    {
     "name": "stderr",
     "output_type": "stream",
     "text": [
      "C:\\Users\\whill\\anaconda3\\lib\\site-packages\\snowflake\\snowpark\\session.py:1891: UserWarning: Pandas Dataframe has non-standard index of type <class 'pandas.core.indexes.numeric.Int64Index'> which will not be written. Consider changing the index to pd.RangeIndex(start=0,...,step=1) or call reset_index() to keep index as column(s)\n",
      "  success, nchunks, nrows, ci_output = write_pandas(\n"
     ]
    },
    {
     "name": "stdout",
     "output_type": "stream",
     "text": [
      "589120 values inserted into table SCHEDULE_RCK\n"
     ]
    },
    {
     "name": "stderr",
     "output_type": "stream",
     "text": [
      "C:\\Users\\whill\\anaconda3\\lib\\site-packages\\snowflake\\snowpark\\session.py:1891: UserWarning: Pandas Dataframe has non-standard index of type <class 'pandas.core.indexes.numeric.Int64Index'> which will not be written. Consider changing the index to pd.RangeIndex(start=0,...,step=1) or call reset_index() to keep index as column(s)\n",
      "  success, nchunks, nrows, ci_output = write_pandas(\n"
     ]
    },
    {
     "name": "stdout",
     "output_type": "stream",
     "text": [
      "589120 values inserted into table SCHEDULE_RCP\n"
     ]
    },
    {
     "name": "stderr",
     "output_type": "stream",
     "text": [
      "C:\\Users\\whill\\anaconda3\\lib\\site-packages\\snowflake\\snowpark\\session.py:1891: UserWarning: Pandas Dataframe has non-standard index of type <class 'pandas.core.indexes.numeric.Int64Index'> which will not be written. Consider changing the index to pd.RangeIndex(start=0,...,step=1) or call reset_index() to keep index as column(s)\n",
      "  success, nchunks, nrows, ci_output = write_pandas(\n"
     ]
    },
    {
     "name": "stdout",
     "output_type": "stream",
     "text": [
      "Error in table SCHEDULE_RCRI: 100071 (22000): Failed to cast variant value \"10.6590%\" to REAL\n"
     ]
    },
    {
     "name": "stderr",
     "output_type": "stream",
     "text": [
      "C:\\Users\\whill\\anaconda3\\lib\\site-packages\\snowflake\\snowpark\\session.py:1891: UserWarning: Pandas Dataframe has non-standard index of type <class 'pandas.core.indexes.numeric.Int64Index'> which will not be written. Consider changing the index to pd.RangeIndex(start=0,...,step=1) or call reset_index() to keep index as column(s)\n",
      "  success, nchunks, nrows, ci_output = write_pandas(\n"
     ]
    },
    {
     "name": "stdout",
     "output_type": "stream",
     "text": [
      "589120 values inserted into table SCHEDULE_RCT\n"
     ]
    },
    {
     "name": "stderr",
     "output_type": "stream",
     "text": [
      "C:\\Users\\whill\\anaconda3\\lib\\site-packages\\snowflake\\snowpark\\session.py:1891: UserWarning: Pandas Dataframe has non-standard index of type <class 'pandas.core.indexes.numeric.Int64Index'> which will not be written. Consider changing the index to pd.RangeIndex(start=0,...,step=1) or call reset_index() to keep index as column(s)\n",
      "  success, nchunks, nrows, ci_output = write_pandas(\n"
     ]
    },
    {
     "name": "stdout",
     "output_type": "stream",
     "text": [
      "589120 values inserted into table SCHEDULE_RI\n"
     ]
    },
    {
     "name": "stderr",
     "output_type": "stream",
     "text": [
      "C:\\Users\\whill\\anaconda3\\lib\\site-packages\\snowflake\\snowpark\\session.py:1891: UserWarning: Pandas Dataframe has non-standard index of type <class 'pandas.core.indexes.numeric.Int64Index'> which will not be written. Consider changing the index to pd.RangeIndex(start=0,...,step=1) or call reset_index() to keep index as column(s)\n",
      "  success, nchunks, nrows, ci_output = write_pandas(\n"
     ]
    },
    {
     "name": "stdout",
     "output_type": "stream",
     "text": [
      "589120 values inserted into table SCHEDULE_SU\n"
     ]
    },
    {
     "name": "stderr",
     "output_type": "stream",
     "text": [
      "C:\\Users\\whill\\anaconda3\\lib\\site-packages\\snowflake\\snowpark\\session.py:1891: UserWarning: Pandas Dataframe has non-standard index of type <class 'pandas.core.indexes.numeric.Int64Index'> which will not be written. Consider changing the index to pd.RangeIndex(start=0,...,step=1) or call reset_index() to keep index as column(s)\n",
      "  success, nchunks, nrows, ci_output = write_pandas(\n"
     ]
    },
    {
     "name": "stdout",
     "output_type": "stream",
     "text": [
      "589120 values inserted into table SCHEDULE_RCM\n"
     ]
    },
    {
     "name": "stderr",
     "output_type": "stream",
     "text": [
      "C:\\Users\\whill\\anaconda3\\lib\\site-packages\\snowflake\\snowpark\\session.py:1891: UserWarning: Pandas Dataframe has non-standard index of type <class 'pandas.core.indexes.numeric.Int64Index'> which will not be written. Consider changing the index to pd.RangeIndex(start=0,...,step=1) or call reset_index() to keep index as column(s)\n",
      "  success, nchunks, nrows, ci_output = write_pandas(\n"
     ]
    },
    {
     "name": "stdout",
     "output_type": "stream",
     "text": [
      "589120 values inserted into table SCHEDULE_RCN\n"
     ]
    },
    {
     "name": "stderr",
     "output_type": "stream",
     "text": [
      "C:\\Users\\whill\\anaconda3\\lib\\site-packages\\snowflake\\snowpark\\session.py:1891: UserWarning: Pandas Dataframe has non-standard index of type <class 'pandas.core.indexes.numeric.Int64Index'> which will not be written. Consider changing the index to pd.RangeIndex(start=0,...,step=1) or call reset_index() to keep index as column(s)\n",
      "  success, nchunks, nrows, ci_output = write_pandas(\n"
     ]
    },
    {
     "name": "stdout",
     "output_type": "stream",
     "text": [
      "589120 values inserted into table SCHEDULE_RCRII\n"
     ]
    },
    {
     "name": "stderr",
     "output_type": "stream",
     "text": [
      "C:\\Users\\whill\\anaconda3\\lib\\site-packages\\snowflake\\snowpark\\session.py:1891: UserWarning: Pandas Dataframe has non-standard index of type <class 'pandas.core.indexes.numeric.Int64Index'> which will not be written. Consider changing the index to pd.RangeIndex(start=0,...,step=1) or call reset_index() to keep index as column(s)\n",
      "  success, nchunks, nrows, ci_output = write_pandas(\n"
     ]
    },
    {
     "name": "stdout",
     "output_type": "stream",
     "text": [
      "589120 values inserted into table SCHEDULE_RIBII\n"
     ]
    },
    {
     "name": "stderr",
     "output_type": "stream",
     "text": [
      "C:\\Users\\whill\\anaconda3\\lib\\site-packages\\snowflake\\snowpark\\session.py:1891: UserWarning: Pandas Dataframe has non-standard index of type <class 'pandas.core.indexes.numeric.Int64Index'> which will not be written. Consider changing the index to pd.RangeIndex(start=0,...,step=1) or call reset_index() to keep index as column(s)\n",
      "  success, nchunks, nrows, ci_output = write_pandas(\n"
     ]
    },
    {
     "name": "stdout",
     "output_type": "stream",
     "text": [
      "589120 values inserted into table SCHEDULE_RICI\n"
     ]
    },
    {
     "name": "stderr",
     "output_type": "stream",
     "text": [
      "C:\\Users\\whill\\anaconda3\\lib\\site-packages\\snowflake\\snowpark\\session.py:1891: UserWarning: Pandas Dataframe has non-standard index of type <class 'pandas.core.indexes.numeric.Int64Index'> which will not be written. Consider changing the index to pd.RangeIndex(start=0,...,step=1) or call reset_index() to keep index as column(s)\n",
      "  success, nchunks, nrows, ci_output = write_pandas(\n"
     ]
    },
    {
     "name": "stdout",
     "output_type": "stream",
     "text": [
      "589120 values inserted into table SCHEDULE_RIE\n"
     ]
    },
    {
     "name": "stderr",
     "output_type": "stream",
     "text": [
      "C:\\Users\\whill\\anaconda3\\lib\\site-packages\\snowflake\\snowpark\\session.py:1891: UserWarning: Pandas Dataframe has non-standard index of type <class 'pandas.core.indexes.numeric.Int64Index'> which will not be written. Consider changing the index to pd.RangeIndex(start=0,...,step=1) or call reset_index() to keep index as column(s)\n",
      "  success, nchunks, nrows, ci_output = write_pandas(\n"
     ]
    },
    {
     "name": "stdout",
     "output_type": "stream",
     "text": [
      "589120 values inserted into table SCHEDULE_RC\n"
     ]
    },
    {
     "name": "stderr",
     "output_type": "stream",
     "text": [
      "C:\\Users\\whill\\anaconda3\\lib\\site-packages\\snowflake\\snowpark\\session.py:1891: UserWarning: Pandas Dataframe has non-standard index of type <class 'pandas.core.indexes.numeric.Int64Index'> which will not be written. Consider changing the index to pd.RangeIndex(start=0,...,step=1) or call reset_index() to keep index as column(s)\n",
      "  success, nchunks, nrows, ci_output = write_pandas(\n"
     ]
    },
    {
     "name": "stdout",
     "output_type": "stream",
     "text": [
      "589120 values inserted into table SCHEDULE_RCCII\n"
     ]
    },
    {
     "name": "stderr",
     "output_type": "stream",
     "text": [
      "C:\\Users\\whill\\anaconda3\\lib\\site-packages\\snowflake\\snowpark\\session.py:1891: UserWarning: Pandas Dataframe has non-standard index of type <class 'pandas.core.indexes.numeric.Int64Index'> which will not be written. Consider changing the index to pd.RangeIndex(start=0,...,step=1) or call reset_index() to keep index as column(s)\n",
      "  success, nchunks, nrows, ci_output = write_pandas(\n"
     ]
    },
    {
     "name": "stdout",
     "output_type": "stream",
     "text": [
      "589120 values inserted into table SCHEDULE_RCEI\n"
     ]
    },
    {
     "name": "stderr",
     "output_type": "stream",
     "text": [
      "C:\\Users\\whill\\anaconda3\\lib\\site-packages\\snowflake\\snowpark\\session.py:1891: UserWarning: Pandas Dataframe has non-standard index of type <class 'pandas.core.indexes.numeric.Int64Index'> which will not be written. Consider changing the index to pd.RangeIndex(start=0,...,step=1) or call reset_index() to keep index as column(s)\n",
      "  success, nchunks, nrows, ci_output = write_pandas(\n"
     ]
    },
    {
     "name": "stdout",
     "output_type": "stream",
     "text": [
      "589120 values inserted into table SCHEDULE_RCH\n"
     ]
    },
    {
     "name": "stderr",
     "output_type": "stream",
     "text": [
      "C:\\Users\\whill\\anaconda3\\lib\\site-packages\\snowflake\\snowpark\\session.py:1891: UserWarning: Pandas Dataframe has non-standard index of type <class 'pandas.core.indexes.numeric.Int64Index'> which will not be written. Consider changing the index to pd.RangeIndex(start=0,...,step=1) or call reset_index() to keep index as column(s)\n",
      "  success, nchunks, nrows, ci_output = write_pandas(\n"
     ]
    },
    {
     "name": "stdout",
     "output_type": "stream",
     "text": [
      "589120 values inserted into table SCHEDULE_RCI\n"
     ]
    },
    {
     "name": "stderr",
     "output_type": "stream",
     "text": [
      "C:\\Users\\whill\\anaconda3\\lib\\site-packages\\snowflake\\snowpark\\session.py:1891: UserWarning: Pandas Dataframe has non-standard index of type <class 'pandas.core.indexes.numeric.Int64Index'> which will not be written. Consider changing the index to pd.RangeIndex(start=0,...,step=1) or call reset_index() to keep index as column(s)\n",
      "  success, nchunks, nrows, ci_output = write_pandas(\n"
     ]
    },
    {
     "name": "stdout",
     "output_type": "stream",
     "text": [
      "589120 values inserted into table SCHEDULE_RIC\n"
     ]
    },
    {
     "name": "stderr",
     "output_type": "stream",
     "text": [
      "C:\\Users\\whill\\anaconda3\\lib\\site-packages\\snowflake\\snowpark\\session.py:1891: UserWarning: Pandas Dataframe has non-standard index of type <class 'pandas.core.indexes.numeric.Int64Index'> which will not be written. Consider changing the index to pd.RangeIndex(start=0,...,step=1) or call reset_index() to keep index as column(s)\n",
      "  success, nchunks, nrows, ci_output = write_pandas(\n"
     ]
    },
    {
     "name": "stdout",
     "output_type": "stream",
     "text": [
      "589120 values inserted into table SCHEDULE_RICII\n"
     ]
    },
    {
     "name": "stderr",
     "output_type": "stream",
     "text": [
      "C:\\Users\\whill\\anaconda3\\lib\\site-packages\\snowflake\\snowpark\\session.py:1891: UserWarning: Pandas Dataframe has non-standard index of type <class 'pandas.core.indexes.numeric.Int64Index'> which will not be written. Consider changing the index to pd.RangeIndex(start=0,...,step=1) or call reset_index() to keep index as column(s)\n",
      "  success, nchunks, nrows, ci_output = write_pandas(\n"
     ]
    },
    {
     "name": "stdout",
     "output_type": "stream",
     "text": [
      "589120 values inserted into table SCHEDULE_RCQ\n",
      "C:\\Users\\whill\\call-report-database\\Bulk_Files\\2018\\09_30\\FFIEC CDR Call Schedule CI 09302018.txt\n",
      "C:\\Users\\whill\\call-report-database\\Bulk_Files\\2018\\09_30\\FFIEC CDR Call Schedule ENT 09302018.txt\n",
      "C:\\Users\\whill\\call-report-database\\Bulk_Files\\2018\\09_30\\FFIEC CDR Call Schedule NARR 09302018.txt\n",
      "C:\\Users\\whill\\call-report-database\\Bulk_Files\\2018\\09_30\\FFIEC CDR Call Schedule RC 09302018.txt\n",
      "C:\\Users\\whill\\call-report-database\\Bulk_Files\\2018\\09_30\\FFIEC CDR Call Schedule RCA 09302018.txt\n",
      "C:\\Users\\whill\\call-report-database\\Bulk_Files\\2018\\09_30\\FFIEC CDR Call Schedule RCB 09302018(1 of 2).txt\n",
      "C:\\Users\\whill\\call-report-database\\Bulk_Files\\2018\\09_30\\FFIEC CDR Call Schedule RCB 09302018(2 of 2).txt\n",
      "C:\\Users\\whill\\call-report-database\\Bulk_Files\\2018\\09_30\\FFIEC CDR Call Schedule RCCI 09302018.txt\n",
      "C:\\Users\\whill\\call-report-database\\Bulk_Files\\2018\\09_30\\FFIEC CDR Call Schedule RCCII 09302018.txt\n",
      "C:\\Users\\whill\\call-report-database\\Bulk_Files\\2018\\09_30\\FFIEC CDR Call Schedule RCD 09302018.txt\n",
      "C:\\Users\\whill\\call-report-database\\Bulk_Files\\2018\\09_30\\FFIEC CDR Call Schedule RCE 09302018.txt\n",
      "C:\\Users\\whill\\call-report-database\\Bulk_Files\\2018\\09_30\\FFIEC CDR Call Schedule RCEI 09302018.txt\n",
      "C:\\Users\\whill\\call-report-database\\Bulk_Files\\2018\\09_30\\FFIEC CDR Call Schedule RCEII 09302018.txt\n",
      "C:\\Users\\whill\\call-report-database\\Bulk_Files\\2018\\09_30\\FFIEC CDR Call Schedule RCF 09302018.txt\n",
      "C:\\Users\\whill\\call-report-database\\Bulk_Files\\2018\\09_30\\FFIEC CDR Call Schedule RCG 09302018.txt\n",
      "C:\\Users\\whill\\call-report-database\\Bulk_Files\\2018\\09_30\\FFIEC CDR Call Schedule RCH 09302018.txt\n",
      "C:\\Users\\whill\\call-report-database\\Bulk_Files\\2018\\09_30\\FFIEC CDR Call Schedule RCI 09302018.txt\n",
      "C:\\Users\\whill\\call-report-database\\Bulk_Files\\2018\\09_30\\FFIEC CDR Call Schedule RCK 09302018.txt\n",
      "C:\\Users\\whill\\call-report-database\\Bulk_Files\\2018\\09_30\\FFIEC CDR Call Schedule RCL 09302018(1 of 2).txt\n",
      "C:\\Users\\whill\\call-report-database\\Bulk_Files\\2018\\09_30\\FFIEC CDR Call Schedule RCL 09302018(2 of 2).txt\n",
      "C:\\Users\\whill\\call-report-database\\Bulk_Files\\2018\\09_30\\FFIEC CDR Call Schedule RCM 09302018.txt\n",
      "C:\\Users\\whill\\call-report-database\\Bulk_Files\\2018\\09_30\\FFIEC CDR Call Schedule RCN 09302018(1 of 2).txt\n",
      "C:\\Users\\whill\\call-report-database\\Bulk_Files\\2018\\09_30\\FFIEC CDR Call Schedule RCN 09302018(2 of 2).txt\n",
      "C:\\Users\\whill\\call-report-database\\Bulk_Files\\2018\\09_30\\FFIEC CDR Call Schedule RCO 09302018(1 of 2).txt\n",
      "C:\\Users\\whill\\call-report-database\\Bulk_Files\\2018\\09_30\\FFIEC CDR Call Schedule RCO 09302018(2 of 2).txt\n",
      "C:\\Users\\whill\\call-report-database\\Bulk_Files\\2018\\09_30\\FFIEC CDR Call Schedule RCP 09302018.txt\n",
      "C:\\Users\\whill\\call-report-database\\Bulk_Files\\2018\\09_30\\FFIEC CDR Call Schedule RCQ 09302018(1 of 2).txt\n",
      "C:\\Users\\whill\\call-report-database\\Bulk_Files\\2018\\09_30\\FFIEC CDR Call Schedule RCQ 09302018(2 of 2).txt\n",
      "C:\\Users\\whill\\call-report-database\\Bulk_Files\\2018\\09_30\\FFIEC CDR Call Schedule RCRI 09302018.txt\n",
      "C:\\Users\\whill\\call-report-database\\Bulk_Files\\2018\\09_30\\FFIEC CDR Call Schedule RCRII 09302018(1 of 4).txt\n",
      "C:\\Users\\whill\\call-report-database\\Bulk_Files\\2018\\09_30\\FFIEC CDR Call Schedule RCRII 09302018(2 of 4).txt\n",
      "C:\\Users\\whill\\call-report-database\\Bulk_Files\\2018\\09_30\\FFIEC CDR Call Schedule RCRII 09302018(3 of 4).txt\n",
      "C:\\Users\\whill\\call-report-database\\Bulk_Files\\2018\\09_30\\FFIEC CDR Call Schedule RCRII 09302018(4 of 4).txt\n",
      "C:\\Users\\whill\\call-report-database\\Bulk_Files\\2018\\09_30\\FFIEC CDR Call Schedule RCS 09302018.txt\n",
      "C:\\Users\\whill\\call-report-database\\Bulk_Files\\2018\\09_30\\FFIEC CDR Call Schedule RCT 09302018(1 of 2).txt\n",
      "C:\\Users\\whill\\call-report-database\\Bulk_Files\\2018\\09_30\\FFIEC CDR Call Schedule RCT 09302018(2 of 2).txt\n",
      "C:\\Users\\whill\\call-report-database\\Bulk_Files\\2018\\09_30\\FFIEC CDR Call Schedule RCV 09302018.txt\n",
      "C:\\Users\\whill\\call-report-database\\Bulk_Files\\2018\\09_30\\FFIEC CDR Call Schedule RI 09302018.txt\n",
      "C:\\Users\\whill\\call-report-database\\Bulk_Files\\2018\\09_30\\FFIEC CDR Call Schedule RIA 09302018.txt\n",
      "C:\\Users\\whill\\call-report-database\\Bulk_Files\\2018\\09_30\\FFIEC CDR Call Schedule RIBI 09302018.txt\n",
      "C:\\Users\\whill\\call-report-database\\Bulk_Files\\2018\\09_30\\FFIEC CDR Call Schedule RIBII 09302018.txt\n",
      "C:\\Users\\whill\\call-report-database\\Bulk_Files\\2018\\09_30\\FFIEC CDR Call Schedule RIC 09302018.txt\n",
      "C:\\Users\\whill\\call-report-database\\Bulk_Files\\2018\\09_30\\FFIEC CDR Call Schedule RID 09302018.txt\n",
      "C:\\Users\\whill\\call-report-database\\Bulk_Files\\2018\\09_30\\FFIEC CDR Call Schedule RIE 09302018.txt\n",
      "C:\\Users\\whill\\call-report-database\\Bulk_Files\\2018\\09_30\\FFIEC CDR Call Schedule SU 09302018.txt\n"
     ]
    },
    {
     "name": "stderr",
     "output_type": "stream",
     "text": [
      "C:\\Users\\whill\\anaconda3\\lib\\site-packages\\snowflake\\snowpark\\session.py:1891: UserWarning: Pandas Dataframe has non-standard index of type <class 'pandas.core.indexes.numeric.Int64Index'> which will not be written. Consider changing the index to pd.RangeIndex(start=0,...,step=1) or call reset_index() to keep index as column(s)\n",
      "  success, nchunks, nrows, ci_output = write_pandas(\n"
     ]
    },
    {
     "name": "stdout",
     "output_type": "stream",
     "text": [
      "594647 values inserted into table SCHEDULE_RC\n"
     ]
    },
    {
     "name": "stderr",
     "output_type": "stream",
     "text": [
      "C:\\Users\\whill\\anaconda3\\lib\\site-packages\\snowflake\\snowpark\\session.py:1891: UserWarning: Pandas Dataframe has non-standard index of type <class 'pandas.core.indexes.numeric.Int64Index'> which will not be written. Consider changing the index to pd.RangeIndex(start=0,...,step=1) or call reset_index() to keep index as column(s)\n",
      "  success, nchunks, nrows, ci_output = write_pandas(\n"
     ]
    },
    {
     "name": "stdout",
     "output_type": "stream",
     "text": [
      "594647 values inserted into table SCHEDULE_RCA\n"
     ]
    },
    {
     "name": "stderr",
     "output_type": "stream",
     "text": [
      "C:\\Users\\whill\\anaconda3\\lib\\site-packages\\snowflake\\snowpark\\session.py:1891: UserWarning: Pandas Dataframe has non-standard index of type <class 'pandas.core.indexes.numeric.Int64Index'> which will not be written. Consider changing the index to pd.RangeIndex(start=0,...,step=1) or call reset_index() to keep index as column(s)\n",
      "  success, nchunks, nrows, ci_output = write_pandas(\n"
     ]
    },
    {
     "name": "stdout",
     "output_type": "stream",
     "text": [
      "594647 values inserted into table SCHEDULE_RCB\n"
     ]
    },
    {
     "name": "stderr",
     "output_type": "stream",
     "text": [
      "C:\\Users\\whill\\anaconda3\\lib\\site-packages\\snowflake\\snowpark\\session.py:1891: UserWarning: Pandas Dataframe has non-standard index of type <class 'pandas.core.indexes.numeric.Int64Index'> which will not be written. Consider changing the index to pd.RangeIndex(start=0,...,step=1) or call reset_index() to keep index as column(s)\n",
      "  success, nchunks, nrows, ci_output = write_pandas(\n"
     ]
    },
    {
     "name": "stdout",
     "output_type": "stream",
     "text": [
      "594647 values inserted into table SCHEDULE_RCH\n"
     ]
    },
    {
     "name": "stderr",
     "output_type": "stream",
     "text": [
      "C:\\Users\\whill\\anaconda3\\lib\\site-packages\\snowflake\\snowpark\\session.py:1891: UserWarning: Pandas Dataframe has non-standard index of type <class 'pandas.core.indexes.numeric.Int64Index'> which will not be written. Consider changing the index to pd.RangeIndex(start=0,...,step=1) or call reset_index() to keep index as column(s)\n",
      "  success, nchunks, nrows, ci_output = write_pandas(\n"
     ]
    },
    {
     "name": "stdout",
     "output_type": "stream",
     "text": [
      "594647 values inserted into table SCHEDULE_RCI\n"
     ]
    },
    {
     "name": "stderr",
     "output_type": "stream",
     "text": [
      "C:\\Users\\whill\\anaconda3\\lib\\site-packages\\snowflake\\snowpark\\session.py:1891: UserWarning: Pandas Dataframe has non-standard index of type <class 'pandas.core.indexes.numeric.Int64Index'> which will not be written. Consider changing the index to pd.RangeIndex(start=0,...,step=1) or call reset_index() to keep index as column(s)\n",
      "  success, nchunks, nrows, ci_output = write_pandas(\n"
     ]
    },
    {
     "name": "stdout",
     "output_type": "stream",
     "text": [
      "594647 values inserted into table SCHEDULE_RCL\n"
     ]
    },
    {
     "name": "stderr",
     "output_type": "stream",
     "text": [
      "C:\\Users\\whill\\anaconda3\\lib\\site-packages\\snowflake\\snowpark\\session.py:1891: UserWarning: Pandas Dataframe has non-standard index of type <class 'pandas.core.indexes.numeric.Int64Index'> which will not be written. Consider changing the index to pd.RangeIndex(start=0,...,step=1) or call reset_index() to keep index as column(s)\n",
      "  success, nchunks, nrows, ci_output = write_pandas(\n"
     ]
    },
    {
     "name": "stdout",
     "output_type": "stream",
     "text": [
      "594647 values inserted into table SCHEDULE_RCRII\n"
     ]
    },
    {
     "name": "stderr",
     "output_type": "stream",
     "text": [
      "C:\\Users\\whill\\anaconda3\\lib\\site-packages\\snowflake\\snowpark\\session.py:1891: UserWarning: Pandas Dataframe has non-standard index of type <class 'pandas.core.indexes.numeric.Int64Index'> which will not be written. Consider changing the index to pd.RangeIndex(start=0,...,step=1) or call reset_index() to keep index as column(s)\n",
      "  success, nchunks, nrows, ci_output = write_pandas(\n"
     ]
    },
    {
     "name": "stdout",
     "output_type": "stream",
     "text": [
      "594647 values inserted into table SCHEDULE_RCS\n"
     ]
    },
    {
     "name": "stderr",
     "output_type": "stream",
     "text": [
      "C:\\Users\\whill\\anaconda3\\lib\\site-packages\\snowflake\\snowpark\\session.py:1891: UserWarning: Pandas Dataframe has non-standard index of type <class 'pandas.core.indexes.numeric.Int64Index'> which will not be written. Consider changing the index to pd.RangeIndex(start=0,...,step=1) or call reset_index() to keep index as column(s)\n",
      "  success, nchunks, nrows, ci_output = write_pandas(\n"
     ]
    },
    {
     "name": "stdout",
     "output_type": "stream",
     "text": [
      "594647 values inserted into table SCHEDULE_RIBII\n"
     ]
    },
    {
     "name": "stderr",
     "output_type": "stream",
     "text": [
      "C:\\Users\\whill\\anaconda3\\lib\\site-packages\\snowflake\\snowpark\\session.py:1891: UserWarning: Pandas Dataframe has non-standard index of type <class 'pandas.core.indexes.numeric.Int64Index'> which will not be written. Consider changing the index to pd.RangeIndex(start=0,...,step=1) or call reset_index() to keep index as column(s)\n",
      "  success, nchunks, nrows, ci_output = write_pandas(\n"
     ]
    },
    {
     "name": "stdout",
     "output_type": "stream",
     "text": [
      "594647 values inserted into table SCHEDULE_UNDEFINED\n"
     ]
    },
    {
     "name": "stderr",
     "output_type": "stream",
     "text": [
      "C:\\Users\\whill\\anaconda3\\lib\\site-packages\\snowflake\\snowpark\\session.py:1891: UserWarning: Pandas Dataframe has non-standard index of type <class 'pandas.core.indexes.numeric.Int64Index'> which will not be written. Consider changing the index to pd.RangeIndex(start=0,...,step=1) or call reset_index() to keep index as column(s)\n",
      "  success, nchunks, nrows, ci_output = write_pandas(\n"
     ]
    },
    {
     "name": "stdout",
     "output_type": "stream",
     "text": [
      "594647 values inserted into table SCHEDULE_RIBI\n"
     ]
    },
    {
     "name": "stderr",
     "output_type": "stream",
     "text": [
      "C:\\Users\\whill\\anaconda3\\lib\\site-packages\\snowflake\\snowpark\\session.py:1891: UserWarning: Pandas Dataframe has non-standard index of type <class 'pandas.core.indexes.numeric.Int64Index'> which will not be written. Consider changing the index to pd.RangeIndex(start=0,...,step=1) or call reset_index() to keep index as column(s)\n",
      "  success, nchunks, nrows, ci_output = write_pandas(\n"
     ]
    },
    {
     "name": "stdout",
     "output_type": "stream",
     "text": [
      "594647 values inserted into table SCHEDULE_RI\n"
     ]
    },
    {
     "name": "stderr",
     "output_type": "stream",
     "text": [
      "C:\\Users\\whill\\anaconda3\\lib\\site-packages\\snowflake\\snowpark\\session.py:1891: UserWarning: Pandas Dataframe has non-standard index of type <class 'pandas.core.indexes.numeric.Int64Index'> which will not be written. Consider changing the index to pd.RangeIndex(start=0,...,step=1) or call reset_index() to keep index as column(s)\n",
      "  success, nchunks, nrows, ci_output = write_pandas(\n"
     ]
    },
    {
     "name": "stdout",
     "output_type": "stream",
     "text": [
      "594647 values inserted into table SCHEDULE_RICII\n"
     ]
    },
    {
     "name": "stderr",
     "output_type": "stream",
     "text": [
      "C:\\Users\\whill\\anaconda3\\lib\\site-packages\\snowflake\\snowpark\\session.py:1891: UserWarning: Pandas Dataframe has non-standard index of type <class 'pandas.core.indexes.numeric.Int64Index'> which will not be written. Consider changing the index to pd.RangeIndex(start=0,...,step=1) or call reset_index() to keep index as column(s)\n",
      "  success, nchunks, nrows, ci_output = write_pandas(\n"
     ]
    },
    {
     "name": "stdout",
     "output_type": "stream",
     "text": [
      "594647 values inserted into table SCHEDULE_SU\n"
     ]
    },
    {
     "name": "stderr",
     "output_type": "stream",
     "text": [
      "C:\\Users\\whill\\anaconda3\\lib\\site-packages\\snowflake\\snowpark\\session.py:1891: UserWarning: Pandas Dataframe has non-standard index of type <class 'pandas.core.indexes.numeric.Int64Index'> which will not be written. Consider changing the index to pd.RangeIndex(start=0,...,step=1) or call reset_index() to keep index as column(s)\n",
      "  success, nchunks, nrows, ci_output = write_pandas(\n"
     ]
    },
    {
     "name": "stdout",
     "output_type": "stream",
     "text": [
      "594647 values inserted into table SCHEDULE_RCN\n"
     ]
    },
    {
     "name": "stderr",
     "output_type": "stream",
     "text": [
      "C:\\Users\\whill\\anaconda3\\lib\\site-packages\\snowflake\\snowpark\\session.py:1891: UserWarning: Pandas Dataframe has non-standard index of type <class 'pandas.core.indexes.numeric.Int64Index'> which will not be written. Consider changing the index to pd.RangeIndex(start=0,...,step=1) or call reset_index() to keep index as column(s)\n",
      "  success, nchunks, nrows, ci_output = write_pandas(\n"
     ]
    },
    {
     "name": "stdout",
     "output_type": "stream",
     "text": [
      "594647 values inserted into table SCHEDULE_RCV\n"
     ]
    },
    {
     "name": "stderr",
     "output_type": "stream",
     "text": [
      "C:\\Users\\whill\\anaconda3\\lib\\site-packages\\snowflake\\snowpark\\session.py:1891: UserWarning: Pandas Dataframe has non-standard index of type <class 'pandas.core.indexes.numeric.Int64Index'> which will not be written. Consider changing the index to pd.RangeIndex(start=0,...,step=1) or call reset_index() to keep index as column(s)\n",
      "  success, nchunks, nrows, ci_output = write_pandas(\n"
     ]
    },
    {
     "name": "stdout",
     "output_type": "stream",
     "text": [
      "594647 values inserted into table SCHEDULE_ENT\n"
     ]
    },
    {
     "name": "stderr",
     "output_type": "stream",
     "text": [
      "C:\\Users\\whill\\anaconda3\\lib\\site-packages\\snowflake\\snowpark\\session.py:1891: UserWarning: Pandas Dataframe has non-standard index of type <class 'pandas.core.indexes.numeric.Int64Index'> which will not be written. Consider changing the index to pd.RangeIndex(start=0,...,step=1) or call reset_index() to keep index as column(s)\n",
      "  success, nchunks, nrows, ci_output = write_pandas(\n"
     ]
    },
    {
     "name": "stdout",
     "output_type": "stream",
     "text": [
      "594647 values inserted into table SCHEDULE_LEO\n"
     ]
    },
    {
     "name": "stderr",
     "output_type": "stream",
     "text": [
      "C:\\Users\\whill\\anaconda3\\lib\\site-packages\\snowflake\\snowpark\\session.py:1891: UserWarning: Pandas Dataframe has non-standard index of type <class 'pandas.core.indexes.numeric.Int64Index'> which will not be written. Consider changing the index to pd.RangeIndex(start=0,...,step=1) or call reset_index() to keep index as column(s)\n",
      "  success, nchunks, nrows, ci_output = write_pandas(\n"
     ]
    },
    {
     "name": "stdout",
     "output_type": "stream",
     "text": [
      "594647 values inserted into table SCHEDULE_RCD\n"
     ]
    },
    {
     "name": "stderr",
     "output_type": "stream",
     "text": [
      "C:\\Users\\whill\\anaconda3\\lib\\site-packages\\snowflake\\snowpark\\session.py:1891: UserWarning: Pandas Dataframe has non-standard index of type <class 'pandas.core.indexes.numeric.Int64Index'> which will not be written. Consider changing the index to pd.RangeIndex(start=0,...,step=1) or call reset_index() to keep index as column(s)\n",
      "  success, nchunks, nrows, ci_output = write_pandas(\n"
     ]
    },
    {
     "name": "stdout",
     "output_type": "stream",
     "text": [
      "594647 values inserted into table SCHEDULE_RCEI\n"
     ]
    },
    {
     "name": "stderr",
     "output_type": "stream",
     "text": [
      "C:\\Users\\whill\\anaconda3\\lib\\site-packages\\snowflake\\snowpark\\session.py:1891: UserWarning: Pandas Dataframe has non-standard index of type <class 'pandas.core.indexes.numeric.Int64Index'> which will not be written. Consider changing the index to pd.RangeIndex(start=0,...,step=1) or call reset_index() to keep index as column(s)\n",
      "  success, nchunks, nrows, ci_output = write_pandas(\n"
     ]
    },
    {
     "name": "stdout",
     "output_type": "stream",
     "text": [
      "594647 values inserted into table SCHEDULE_NARR\n"
     ]
    },
    {
     "name": "stderr",
     "output_type": "stream",
     "text": [
      "C:\\Users\\whill\\anaconda3\\lib\\site-packages\\snowflake\\snowpark\\session.py:1891: UserWarning: Pandas Dataframe has non-standard index of type <class 'pandas.core.indexes.numeric.Int64Index'> which will not be written. Consider changing the index to pd.RangeIndex(start=0,...,step=1) or call reset_index() to keep index as column(s)\n",
      "  success, nchunks, nrows, ci_output = write_pandas(\n"
     ]
    },
    {
     "name": "stdout",
     "output_type": "stream",
     "text": [
      "594647 values inserted into table SCHEDULE_RCF\n"
     ]
    },
    {
     "name": "stderr",
     "output_type": "stream",
     "text": [
      "C:\\Users\\whill\\anaconda3\\lib\\site-packages\\snowflake\\snowpark\\session.py:1891: UserWarning: Pandas Dataframe has non-standard index of type <class 'pandas.core.indexes.numeric.Int64Index'> which will not be written. Consider changing the index to pd.RangeIndex(start=0,...,step=1) or call reset_index() to keep index as column(s)\n",
      "  success, nchunks, nrows, ci_output = write_pandas(\n"
     ]
    },
    {
     "name": "stdout",
     "output_type": "stream",
     "text": [
      "594647 values inserted into table SCHEDULE_RCT\n"
     ]
    },
    {
     "name": "stderr",
     "output_type": "stream",
     "text": [
      "C:\\Users\\whill\\anaconda3\\lib\\site-packages\\snowflake\\snowpark\\session.py:1891: UserWarning: Pandas Dataframe has non-standard index of type <class 'pandas.core.indexes.numeric.Int64Index'> which will not be written. Consider changing the index to pd.RangeIndex(start=0,...,step=1) or call reset_index() to keep index as column(s)\n",
      "  success, nchunks, nrows, ci_output = write_pandas(\n"
     ]
    },
    {
     "name": "stdout",
     "output_type": "stream",
     "text": [
      "594647 values inserted into table SCHEDULE_RID\n"
     ]
    },
    {
     "name": "stderr",
     "output_type": "stream",
     "text": [
      "C:\\Users\\whill\\anaconda3\\lib\\site-packages\\snowflake\\snowpark\\session.py:1891: UserWarning: Pandas Dataframe has non-standard index of type <class 'pandas.core.indexes.numeric.Int64Index'> which will not be written. Consider changing the index to pd.RangeIndex(start=0,...,step=1) or call reset_index() to keep index as column(s)\n",
      "  success, nchunks, nrows, ci_output = write_pandas(\n"
     ]
    },
    {
     "name": "stdout",
     "output_type": "stream",
     "text": [
      "594647 values inserted into table SCHEDULE_RICI\n"
     ]
    },
    {
     "name": "stderr",
     "output_type": "stream",
     "text": [
      "C:\\Users\\whill\\anaconda3\\lib\\site-packages\\snowflake\\snowpark\\session.py:1891: UserWarning: Pandas Dataframe has non-standard index of type <class 'pandas.core.indexes.numeric.Int64Index'> which will not be written. Consider changing the index to pd.RangeIndex(start=0,...,step=1) or call reset_index() to keep index as column(s)\n",
      "  success, nchunks, nrows, ci_output = write_pandas(\n"
     ]
    },
    {
     "name": "stdout",
     "output_type": "stream",
     "text": [
      "594647 values inserted into table SCHEDULE_RCCI\n"
     ]
    },
    {
     "name": "stderr",
     "output_type": "stream",
     "text": [
      "C:\\Users\\whill\\anaconda3\\lib\\site-packages\\snowflake\\snowpark\\session.py:1891: UserWarning: Pandas Dataframe has non-standard index of type <class 'pandas.core.indexes.numeric.Int64Index'> which will not be written. Consider changing the index to pd.RangeIndex(start=0,...,step=1) or call reset_index() to keep index as column(s)\n",
      "  success, nchunks, nrows, ci_output = write_pandas(\n"
     ]
    },
    {
     "name": "stdout",
     "output_type": "stream",
     "text": [
      "594647 values inserted into table SCHEDULE_RCCII\n"
     ]
    },
    {
     "name": "stderr",
     "output_type": "stream",
     "text": [
      "C:\\Users\\whill\\anaconda3\\lib\\site-packages\\snowflake\\snowpark\\session.py:1891: UserWarning: Pandas Dataframe has non-standard index of type <class 'pandas.core.indexes.numeric.Int64Index'> which will not be written. Consider changing the index to pd.RangeIndex(start=0,...,step=1) or call reset_index() to keep index as column(s)\n",
      "  success, nchunks, nrows, ci_output = write_pandas(\n"
     ]
    },
    {
     "name": "stdout",
     "output_type": "stream",
     "text": [
      "594647 values inserted into table SCHEDULE_RCE\n"
     ]
    },
    {
     "name": "stderr",
     "output_type": "stream",
     "text": [
      "C:\\Users\\whill\\anaconda3\\lib\\site-packages\\snowflake\\snowpark\\session.py:1891: UserWarning: Pandas Dataframe has non-standard index of type <class 'pandas.core.indexes.numeric.Int64Index'> which will not be written. Consider changing the index to pd.RangeIndex(start=0,...,step=1) or call reset_index() to keep index as column(s)\n",
      "  success, nchunks, nrows, ci_output = write_pandas(\n"
     ]
    },
    {
     "name": "stdout",
     "output_type": "stream",
     "text": [
      "594647 values inserted into table SCHEDULE_RCM\n"
     ]
    },
    {
     "name": "stderr",
     "output_type": "stream",
     "text": [
      "C:\\Users\\whill\\anaconda3\\lib\\site-packages\\snowflake\\snowpark\\session.py:1891: UserWarning: Pandas Dataframe has non-standard index of type <class 'pandas.core.indexes.numeric.Int64Index'> which will not be written. Consider changing the index to pd.RangeIndex(start=0,...,step=1) or call reset_index() to keep index as column(s)\n",
      "  success, nchunks, nrows, ci_output = write_pandas(\n"
     ]
    },
    {
     "name": "stdout",
     "output_type": "stream",
     "text": [
      "594647 values inserted into table SCHEDULE_RCO\n"
     ]
    },
    {
     "name": "stderr",
     "output_type": "stream",
     "text": [
      "C:\\Users\\whill\\anaconda3\\lib\\site-packages\\snowflake\\snowpark\\session.py:1891: UserWarning: Pandas Dataframe has non-standard index of type <class 'pandas.core.indexes.numeric.Int64Index'> which will not be written. Consider changing the index to pd.RangeIndex(start=0,...,step=1) or call reset_index() to keep index as column(s)\n",
      "  success, nchunks, nrows, ci_output = write_pandas(\n"
     ]
    },
    {
     "name": "stdout",
     "output_type": "stream",
     "text": [
      "594647 values inserted into table SCHEDULE_RCQ\n"
     ]
    },
    {
     "name": "stderr",
     "output_type": "stream",
     "text": [
      "C:\\Users\\whill\\anaconda3\\lib\\site-packages\\snowflake\\snowpark\\session.py:1891: UserWarning: Pandas Dataframe has non-standard index of type <class 'pandas.core.indexes.numeric.Int64Index'> which will not be written. Consider changing the index to pd.RangeIndex(start=0,...,step=1) or call reset_index() to keep index as column(s)\n",
      "  success, nchunks, nrows, ci_output = write_pandas(\n"
     ]
    },
    {
     "name": "stdout",
     "output_type": "stream",
     "text": [
      "594647 values inserted into table SCHEDULE_RIA\n"
     ]
    },
    {
     "name": "stderr",
     "output_type": "stream",
     "text": [
      "C:\\Users\\whill\\anaconda3\\lib\\site-packages\\snowflake\\snowpark\\session.py:1891: UserWarning: Pandas Dataframe has non-standard index of type <class 'pandas.core.indexes.numeric.Int64Index'> which will not be written. Consider changing the index to pd.RangeIndex(start=0,...,step=1) or call reset_index() to keep index as column(s)\n",
      "  success, nchunks, nrows, ci_output = write_pandas(\n"
     ]
    },
    {
     "name": "stdout",
     "output_type": "stream",
     "text": [
      "594647 values inserted into table SCHEDULE_RIC\n"
     ]
    },
    {
     "name": "stderr",
     "output_type": "stream",
     "text": [
      "C:\\Users\\whill\\anaconda3\\lib\\site-packages\\snowflake\\snowpark\\session.py:1891: UserWarning: Pandas Dataframe has non-standard index of type <class 'pandas.core.indexes.numeric.Int64Index'> which will not be written. Consider changing the index to pd.RangeIndex(start=0,...,step=1) or call reset_index() to keep index as column(s)\n",
      "  success, nchunks, nrows, ci_output = write_pandas(\n"
     ]
    },
    {
     "name": "stdout",
     "output_type": "stream",
     "text": [
      "Error in table SCHEDULE_RCRI: 100071 (22000): Failed to cast variant value \"9.1497%\" to REAL\n"
     ]
    },
    {
     "name": "stderr",
     "output_type": "stream",
     "text": [
      "C:\\Users\\whill\\anaconda3\\lib\\site-packages\\snowflake\\snowpark\\session.py:1891: UserWarning: Pandas Dataframe has non-standard index of type <class 'pandas.core.indexes.numeric.Int64Index'> which will not be written. Consider changing the index to pd.RangeIndex(start=0,...,step=1) or call reset_index() to keep index as column(s)\n",
      "  success, nchunks, nrows, ci_output = write_pandas(\n"
     ]
    },
    {
     "name": "stdout",
     "output_type": "stream",
     "text": [
      "594647 values inserted into table SCHEDULE_RCEII\n"
     ]
    },
    {
     "name": "stderr",
     "output_type": "stream",
     "text": [
      "C:\\Users\\whill\\anaconda3\\lib\\site-packages\\snowflake\\snowpark\\session.py:1891: UserWarning: Pandas Dataframe has non-standard index of type <class 'pandas.core.indexes.numeric.Int64Index'> which will not be written. Consider changing the index to pd.RangeIndex(start=0,...,step=1) or call reset_index() to keep index as column(s)\n",
      "  success, nchunks, nrows, ci_output = write_pandas(\n"
     ]
    },
    {
     "name": "stdout",
     "output_type": "stream",
     "text": [
      "594647 values inserted into table SCHEDULE_RCG\n"
     ]
    },
    {
     "name": "stderr",
     "output_type": "stream",
     "text": [
      "C:\\Users\\whill\\anaconda3\\lib\\site-packages\\snowflake\\snowpark\\session.py:1891: UserWarning: Pandas Dataframe has non-standard index of type <class 'pandas.core.indexes.numeric.Int64Index'> which will not be written. Consider changing the index to pd.RangeIndex(start=0,...,step=1) or call reset_index() to keep index as column(s)\n",
      "  success, nchunks, nrows, ci_output = write_pandas(\n"
     ]
    },
    {
     "name": "stdout",
     "output_type": "stream",
     "text": [
      "594647 values inserted into table SCHEDULE_RCP\n"
     ]
    },
    {
     "name": "stderr",
     "output_type": "stream",
     "text": [
      "C:\\Users\\whill\\anaconda3\\lib\\site-packages\\snowflake\\snowpark\\session.py:1891: UserWarning: Pandas Dataframe has non-standard index of type <class 'pandas.core.indexes.numeric.Int64Index'> which will not be written. Consider changing the index to pd.RangeIndex(start=0,...,step=1) or call reset_index() to keep index as column(s)\n",
      "  success, nchunks, nrows, ci_output = write_pandas(\n"
     ]
    },
    {
     "name": "stdout",
     "output_type": "stream",
     "text": [
      "594647 values inserted into table SCHEDULE_RCR\n"
     ]
    },
    {
     "name": "stderr",
     "output_type": "stream",
     "text": [
      "C:\\Users\\whill\\anaconda3\\lib\\site-packages\\snowflake\\snowpark\\session.py:1891: UserWarning: Pandas Dataframe has non-standard index of type <class 'pandas.core.indexes.numeric.Int64Index'> which will not be written. Consider changing the index to pd.RangeIndex(start=0,...,step=1) or call reset_index() to keep index as column(s)\n",
      "  success, nchunks, nrows, ci_output = write_pandas(\n"
     ]
    },
    {
     "name": "stdout",
     "output_type": "stream",
     "text": [
      "594647 values inserted into table SCHEDULE_RIE\n"
     ]
    },
    {
     "name": "stderr",
     "output_type": "stream",
     "text": [
      "C:\\Users\\whill\\anaconda3\\lib\\site-packages\\snowflake\\snowpark\\session.py:1891: UserWarning: Pandas Dataframe has non-standard index of type <class 'pandas.core.indexes.numeric.Int64Index'> which will not be written. Consider changing the index to pd.RangeIndex(start=0,...,step=1) or call reset_index() to keep index as column(s)\n",
      "  success, nchunks, nrows, ci_output = write_pandas(\n"
     ]
    },
    {
     "name": "stdout",
     "output_type": "stream",
     "text": [
      "594647 values inserted into table SCHEDULE_RCK\n",
      "C:\\Users\\whill\\call-report-database\\Bulk_Files\\2018\\12_31\\FFIEC CDR Call Schedule CI 12312018.txt\n",
      "C:\\Users\\whill\\call-report-database\\Bulk_Files\\2018\\12_31\\FFIEC CDR Call Schedule ENT 12312018.txt\n",
      "C:\\Users\\whill\\call-report-database\\Bulk_Files\\2018\\12_31\\FFIEC CDR Call Schedule NARR 12312018.txt\n",
      "C:\\Users\\whill\\call-report-database\\Bulk_Files\\2018\\12_31\\FFIEC CDR Call Schedule RC 12312018.txt\n",
      "C:\\Users\\whill\\call-report-database\\Bulk_Files\\2018\\12_31\\FFIEC CDR Call Schedule RCA 12312018.txt\n",
      "C:\\Users\\whill\\call-report-database\\Bulk_Files\\2018\\12_31\\FFIEC CDR Call Schedule RCB 12312018(1 of 2).txt\n",
      "C:\\Users\\whill\\call-report-database\\Bulk_Files\\2018\\12_31\\FFIEC CDR Call Schedule RCB 12312018(2 of 2).txt\n",
      "C:\\Users\\whill\\call-report-database\\Bulk_Files\\2018\\12_31\\FFIEC CDR Call Schedule RCCI 12312018.txt\n",
      "C:\\Users\\whill\\call-report-database\\Bulk_Files\\2018\\12_31\\FFIEC CDR Call Schedule RCCII 12312018.txt\n",
      "C:\\Users\\whill\\call-report-database\\Bulk_Files\\2018\\12_31\\FFIEC CDR Call Schedule RCD 12312018.txt\n",
      "C:\\Users\\whill\\call-report-database\\Bulk_Files\\2018\\12_31\\FFIEC CDR Call Schedule RCE 12312018.txt\n",
      "C:\\Users\\whill\\call-report-database\\Bulk_Files\\2018\\12_31\\FFIEC CDR Call Schedule RCEI 12312018.txt\n",
      "C:\\Users\\whill\\call-report-database\\Bulk_Files\\2018\\12_31\\FFIEC CDR Call Schedule RCEII 12312018.txt\n",
      "C:\\Users\\whill\\call-report-database\\Bulk_Files\\2018\\12_31\\FFIEC CDR Call Schedule RCF 12312018.txt\n",
      "C:\\Users\\whill\\call-report-database\\Bulk_Files\\2018\\12_31\\FFIEC CDR Call Schedule RCG 12312018.txt\n",
      "C:\\Users\\whill\\call-report-database\\Bulk_Files\\2018\\12_31\\FFIEC CDR Call Schedule RCH 12312018.txt\n",
      "C:\\Users\\whill\\call-report-database\\Bulk_Files\\2018\\12_31\\FFIEC CDR Call Schedule RCI 12312018.txt\n",
      "C:\\Users\\whill\\call-report-database\\Bulk_Files\\2018\\12_31\\FFIEC CDR Call Schedule RCK 12312018.txt\n",
      "C:\\Users\\whill\\call-report-database\\Bulk_Files\\2018\\12_31\\FFIEC CDR Call Schedule RCL 12312018(1 of 2).txt\n",
      "C:\\Users\\whill\\call-report-database\\Bulk_Files\\2018\\12_31\\FFIEC CDR Call Schedule RCL 12312018(2 of 2).txt\n",
      "C:\\Users\\whill\\call-report-database\\Bulk_Files\\2018\\12_31\\FFIEC CDR Call Schedule RCM 12312018.txt\n",
      "C:\\Users\\whill\\call-report-database\\Bulk_Files\\2018\\12_31\\FFIEC CDR Call Schedule RCN 12312018(1 of 2).txt\n",
      "C:\\Users\\whill\\call-report-database\\Bulk_Files\\2018\\12_31\\FFIEC CDR Call Schedule RCN 12312018(2 of 2).txt\n",
      "C:\\Users\\whill\\call-report-database\\Bulk_Files\\2018\\12_31\\FFIEC CDR Call Schedule RCO 12312018(1 of 2).txt\n",
      "C:\\Users\\whill\\call-report-database\\Bulk_Files\\2018\\12_31\\FFIEC CDR Call Schedule RCO 12312018(2 of 2).txt\n",
      "C:\\Users\\whill\\call-report-database\\Bulk_Files\\2018\\12_31\\FFIEC CDR Call Schedule RCP 12312018.txt\n",
      "C:\\Users\\whill\\call-report-database\\Bulk_Files\\2018\\12_31\\FFIEC CDR Call Schedule RCQ 12312018(1 of 2).txt\n",
      "C:\\Users\\whill\\call-report-database\\Bulk_Files\\2018\\12_31\\FFIEC CDR Call Schedule RCQ 12312018(2 of 2).txt\n",
      "C:\\Users\\whill\\call-report-database\\Bulk_Files\\2018\\12_31\\FFIEC CDR Call Schedule RCRI 12312018.txt\n",
      "C:\\Users\\whill\\call-report-database\\Bulk_Files\\2018\\12_31\\FFIEC CDR Call Schedule RCRII 12312018(1 of 4).txt\n",
      "C:\\Users\\whill\\call-report-database\\Bulk_Files\\2018\\12_31\\FFIEC CDR Call Schedule RCRII 12312018(2 of 4).txt\n",
      "C:\\Users\\whill\\call-report-database\\Bulk_Files\\2018\\12_31\\FFIEC CDR Call Schedule RCRII 12312018(3 of 4).txt\n",
      "C:\\Users\\whill\\call-report-database\\Bulk_Files\\2018\\12_31\\FFIEC CDR Call Schedule RCRII 12312018(4 of 4).txt\n",
      "C:\\Users\\whill\\call-report-database\\Bulk_Files\\2018\\12_31\\FFIEC CDR Call Schedule RCS 12312018.txt\n",
      "C:\\Users\\whill\\call-report-database\\Bulk_Files\\2018\\12_31\\FFIEC CDR Call Schedule RCT 12312018(1 of 2).txt\n",
      "C:\\Users\\whill\\call-report-database\\Bulk_Files\\2018\\12_31\\FFIEC CDR Call Schedule RCT 12312018(2 of 2).txt\n",
      "C:\\Users\\whill\\call-report-database\\Bulk_Files\\2018\\12_31\\FFIEC CDR Call Schedule RCV 12312018.txt\n",
      "C:\\Users\\whill\\call-report-database\\Bulk_Files\\2018\\12_31\\FFIEC CDR Call Schedule RI 12312018.txt\n",
      "C:\\Users\\whill\\call-report-database\\Bulk_Files\\2018\\12_31\\FFIEC CDR Call Schedule RIA 12312018.txt\n",
      "C:\\Users\\whill\\call-report-database\\Bulk_Files\\2018\\12_31\\FFIEC CDR Call Schedule RIBI 12312018.txt\n",
      "C:\\Users\\whill\\call-report-database\\Bulk_Files\\2018\\12_31\\FFIEC CDR Call Schedule RIBII 12312018.txt\n",
      "C:\\Users\\whill\\call-report-database\\Bulk_Files\\2018\\12_31\\FFIEC CDR Call Schedule RIC 12312018.txt\n",
      "C:\\Users\\whill\\call-report-database\\Bulk_Files\\2018\\12_31\\FFIEC CDR Call Schedule RID 12312018.txt\n",
      "C:\\Users\\whill\\call-report-database\\Bulk_Files\\2018\\12_31\\FFIEC CDR Call Schedule RIE 12312018.txt\n",
      "C:\\Users\\whill\\call-report-database\\Bulk_Files\\2018\\12_31\\FFIEC CDR Call Schedule SU 12312018.txt\n"
     ]
    },
    {
     "name": "stderr",
     "output_type": "stream",
     "text": [
      "C:\\Users\\whill\\anaconda3\\lib\\site-packages\\snowflake\\snowpark\\session.py:1891: UserWarning: Pandas Dataframe has non-standard index of type <class 'pandas.core.indexes.numeric.Int64Index'> which will not be written. Consider changing the index to pd.RangeIndex(start=0,...,step=1) or call reset_index() to keep index as column(s)\n",
      "  success, nchunks, nrows, ci_output = write_pandas(\n"
     ]
    },
    {
     "name": "stdout",
     "output_type": "stream",
     "text": [
      "600103 values inserted into table SCHEDULE_RCCI\n"
     ]
    },
    {
     "name": "stderr",
     "output_type": "stream",
     "text": [
      "C:\\Users\\whill\\anaconda3\\lib\\site-packages\\snowflake\\snowpark\\session.py:1891: UserWarning: Pandas Dataframe has non-standard index of type <class 'pandas.core.indexes.numeric.Int64Index'> which will not be written. Consider changing the index to pd.RangeIndex(start=0,...,step=1) or call reset_index() to keep index as column(s)\n",
      "  success, nchunks, nrows, ci_output = write_pandas(\n"
     ]
    },
    {
     "name": "stdout",
     "output_type": "stream",
     "text": [
      "600103 values inserted into table SCHEDULE_RCF\n"
     ]
    },
    {
     "name": "stderr",
     "output_type": "stream",
     "text": [
      "C:\\Users\\whill\\anaconda3\\lib\\site-packages\\snowflake\\snowpark\\session.py:1891: UserWarning: Pandas Dataframe has non-standard index of type <class 'pandas.core.indexes.numeric.Int64Index'> which will not be written. Consider changing the index to pd.RangeIndex(start=0,...,step=1) or call reset_index() to keep index as column(s)\n",
      "  success, nchunks, nrows, ci_output = write_pandas(\n"
     ]
    },
    {
     "name": "stdout",
     "output_type": "stream",
     "text": [
      "600103 values inserted into table SCHEDULE_RCH\n"
     ]
    },
    {
     "name": "stderr",
     "output_type": "stream",
     "text": [
      "C:\\Users\\whill\\anaconda3\\lib\\site-packages\\snowflake\\snowpark\\session.py:1891: UserWarning: Pandas Dataframe has non-standard index of type <class 'pandas.core.indexes.numeric.Int64Index'> which will not be written. Consider changing the index to pd.RangeIndex(start=0,...,step=1) or call reset_index() to keep index as column(s)\n",
      "  success, nchunks, nrows, ci_output = write_pandas(\n"
     ]
    },
    {
     "name": "stdout",
     "output_type": "stream",
     "text": [
      "600103 values inserted into table SCHEDULE_RCS\n"
     ]
    },
    {
     "name": "stderr",
     "output_type": "stream",
     "text": [
      "C:\\Users\\whill\\anaconda3\\lib\\site-packages\\snowflake\\snowpark\\session.py:1891: UserWarning: Pandas Dataframe has non-standard index of type <class 'pandas.core.indexes.numeric.Int64Index'> which will not be written. Consider changing the index to pd.RangeIndex(start=0,...,step=1) or call reset_index() to keep index as column(s)\n",
      "  success, nchunks, nrows, ci_output = write_pandas(\n"
     ]
    },
    {
     "name": "stdout",
     "output_type": "stream",
     "text": [
      "600103 values inserted into table SCHEDULE_RICII\n"
     ]
    },
    {
     "name": "stderr",
     "output_type": "stream",
     "text": [
      "C:\\Users\\whill\\anaconda3\\lib\\site-packages\\snowflake\\snowpark\\session.py:1891: UserWarning: Pandas Dataframe has non-standard index of type <class 'pandas.core.indexes.numeric.Int64Index'> which will not be written. Consider changing the index to pd.RangeIndex(start=0,...,step=1) or call reset_index() to keep index as column(s)\n",
      "  success, nchunks, nrows, ci_output = write_pandas(\n"
     ]
    },
    {
     "name": "stdout",
     "output_type": "stream",
     "text": [
      "600103 values inserted into table SCHEDULE_RCEI\n"
     ]
    },
    {
     "name": "stderr",
     "output_type": "stream",
     "text": [
      "C:\\Users\\whill\\anaconda3\\lib\\site-packages\\snowflake\\snowpark\\session.py:1891: UserWarning: Pandas Dataframe has non-standard index of type <class 'pandas.core.indexes.numeric.Int64Index'> which will not be written. Consider changing the index to pd.RangeIndex(start=0,...,step=1) or call reset_index() to keep index as column(s)\n",
      "  success, nchunks, nrows, ci_output = write_pandas(\n"
     ]
    },
    {
     "name": "stdout",
     "output_type": "stream",
     "text": [
      "600103 values inserted into table SCHEDULE_RID\n"
     ]
    },
    {
     "name": "stderr",
     "output_type": "stream",
     "text": [
      "C:\\Users\\whill\\anaconda3\\lib\\site-packages\\snowflake\\snowpark\\session.py:1891: UserWarning: Pandas Dataframe has non-standard index of type <class 'pandas.core.indexes.numeric.Int64Index'> which will not be written. Consider changing the index to pd.RangeIndex(start=0,...,step=1) or call reset_index() to keep index as column(s)\n",
      "  success, nchunks, nrows, ci_output = write_pandas(\n"
     ]
    },
    {
     "name": "stdout",
     "output_type": "stream",
     "text": [
      "600103 values inserted into table SCHEDULE_RC\n"
     ]
    },
    {
     "name": "stderr",
     "output_type": "stream",
     "text": [
      "C:\\Users\\whill\\anaconda3\\lib\\site-packages\\snowflake\\snowpark\\session.py:1891: UserWarning: Pandas Dataframe has non-standard index of type <class 'pandas.core.indexes.numeric.Int64Index'> which will not be written. Consider changing the index to pd.RangeIndex(start=0,...,step=1) or call reset_index() to keep index as column(s)\n",
      "  success, nchunks, nrows, ci_output = write_pandas(\n"
     ]
    },
    {
     "name": "stdout",
     "output_type": "stream",
     "text": [
      "600103 values inserted into table SCHEDULE_RCD\n"
     ]
    },
    {
     "name": "stderr",
     "output_type": "stream",
     "text": [
      "C:\\Users\\whill\\anaconda3\\lib\\site-packages\\snowflake\\snowpark\\session.py:1891: UserWarning: Pandas Dataframe has non-standard index of type <class 'pandas.core.indexes.numeric.Int64Index'> which will not be written. Consider changing the index to pd.RangeIndex(start=0,...,step=1) or call reset_index() to keep index as column(s)\n",
      "  success, nchunks, nrows, ci_output = write_pandas(\n"
     ]
    },
    {
     "name": "stdout",
     "output_type": "stream",
     "text": [
      "600103 values inserted into table SCHEDULE_RCR\n"
     ]
    },
    {
     "name": "stderr",
     "output_type": "stream",
     "text": [
      "C:\\Users\\whill\\anaconda3\\lib\\site-packages\\snowflake\\snowpark\\session.py:1891: UserWarning: Pandas Dataframe has non-standard index of type <class 'pandas.core.indexes.numeric.Int64Index'> which will not be written. Consider changing the index to pd.RangeIndex(start=0,...,step=1) or call reset_index() to keep index as column(s)\n",
      "  success, nchunks, nrows, ci_output = write_pandas(\n"
     ]
    },
    {
     "name": "stdout",
     "output_type": "stream",
     "text": [
      "600103 values inserted into table SCHEDULE_RCRII\n"
     ]
    },
    {
     "name": "stderr",
     "output_type": "stream",
     "text": [
      "C:\\Users\\whill\\anaconda3\\lib\\site-packages\\snowflake\\snowpark\\session.py:1891: UserWarning: Pandas Dataframe has non-standard index of type <class 'pandas.core.indexes.numeric.Int64Index'> which will not be written. Consider changing the index to pd.RangeIndex(start=0,...,step=1) or call reset_index() to keep index as column(s)\n",
      "  success, nchunks, nrows, ci_output = write_pandas(\n"
     ]
    },
    {
     "name": "stdout",
     "output_type": "stream",
     "text": [
      "600103 values inserted into table SCHEDULE_RCT\n"
     ]
    },
    {
     "name": "stderr",
     "output_type": "stream",
     "text": [
      "C:\\Users\\whill\\anaconda3\\lib\\site-packages\\snowflake\\snowpark\\session.py:1891: UserWarning: Pandas Dataframe has non-standard index of type <class 'pandas.core.indexes.numeric.Int64Index'> which will not be written. Consider changing the index to pd.RangeIndex(start=0,...,step=1) or call reset_index() to keep index as column(s)\n",
      "  success, nchunks, nrows, ci_output = write_pandas(\n"
     ]
    },
    {
     "name": "stdout",
     "output_type": "stream",
     "text": [
      "600103 values inserted into table SCHEDULE_RCV\n"
     ]
    },
    {
     "name": "stderr",
     "output_type": "stream",
     "text": [
      "C:\\Users\\whill\\anaconda3\\lib\\site-packages\\snowflake\\snowpark\\session.py:1891: UserWarning: Pandas Dataframe has non-standard index of type <class 'pandas.core.indexes.numeric.Int64Index'> which will not be written. Consider changing the index to pd.RangeIndex(start=0,...,step=1) or call reset_index() to keep index as column(s)\n",
      "  success, nchunks, nrows, ci_output = write_pandas(\n"
     ]
    },
    {
     "name": "stdout",
     "output_type": "stream",
     "text": [
      "600103 values inserted into table SCHEDULE_RIA\n"
     ]
    },
    {
     "name": "stderr",
     "output_type": "stream",
     "text": [
      "C:\\Users\\whill\\anaconda3\\lib\\site-packages\\snowflake\\snowpark\\session.py:1891: UserWarning: Pandas Dataframe has non-standard index of type <class 'pandas.core.indexes.numeric.Int64Index'> which will not be written. Consider changing the index to pd.RangeIndex(start=0,...,step=1) or call reset_index() to keep index as column(s)\n",
      "  success, nchunks, nrows, ci_output = write_pandas(\n"
     ]
    },
    {
     "name": "stdout",
     "output_type": "stream",
     "text": [
      "600103 values inserted into table SCHEDULE_RI\n"
     ]
    },
    {
     "name": "stderr",
     "output_type": "stream",
     "text": [
      "C:\\Users\\whill\\anaconda3\\lib\\site-packages\\snowflake\\snowpark\\session.py:1891: UserWarning: Pandas Dataframe has non-standard index of type <class 'pandas.core.indexes.numeric.Int64Index'> which will not be written. Consider changing the index to pd.RangeIndex(start=0,...,step=1) or call reset_index() to keep index as column(s)\n",
      "  success, nchunks, nrows, ci_output = write_pandas(\n"
     ]
    },
    {
     "name": "stdout",
     "output_type": "stream",
     "text": [
      "600103 values inserted into table SCHEDULE_ENT\n"
     ]
    },
    {
     "name": "stderr",
     "output_type": "stream",
     "text": [
      "C:\\Users\\whill\\anaconda3\\lib\\site-packages\\snowflake\\snowpark\\session.py:1891: UserWarning: Pandas Dataframe has non-standard index of type <class 'pandas.core.indexes.numeric.Int64Index'> which will not be written. Consider changing the index to pd.RangeIndex(start=0,...,step=1) or call reset_index() to keep index as column(s)\n",
      "  success, nchunks, nrows, ci_output = write_pandas(\n"
     ]
    },
    {
     "name": "stdout",
     "output_type": "stream",
     "text": [
      "600103 values inserted into table SCHEDULE_NARR\n"
     ]
    },
    {
     "name": "stderr",
     "output_type": "stream",
     "text": [
      "C:\\Users\\whill\\anaconda3\\lib\\site-packages\\snowflake\\snowpark\\session.py:1891: UserWarning: Pandas Dataframe has non-standard index of type <class 'pandas.core.indexes.numeric.Int64Index'> which will not be written. Consider changing the index to pd.RangeIndex(start=0,...,step=1) or call reset_index() to keep index as column(s)\n",
      "  success, nchunks, nrows, ci_output = write_pandas(\n"
     ]
    },
    {
     "name": "stdout",
     "output_type": "stream",
     "text": [
      "600103 values inserted into table SCHEDULE_RCA\n"
     ]
    },
    {
     "name": "stderr",
     "output_type": "stream",
     "text": [
      "C:\\Users\\whill\\anaconda3\\lib\\site-packages\\snowflake\\snowpark\\session.py:1891: UserWarning: Pandas Dataframe has non-standard index of type <class 'pandas.core.indexes.numeric.Int64Index'> which will not be written. Consider changing the index to pd.RangeIndex(start=0,...,step=1) or call reset_index() to keep index as column(s)\n",
      "  success, nchunks, nrows, ci_output = write_pandas(\n"
     ]
    },
    {
     "name": "stdout",
     "output_type": "stream",
     "text": [
      "600103 values inserted into table SCHEDULE_RCB\n"
     ]
    },
    {
     "name": "stderr",
     "output_type": "stream",
     "text": [
      "C:\\Users\\whill\\anaconda3\\lib\\site-packages\\snowflake\\snowpark\\session.py:1891: UserWarning: Pandas Dataframe has non-standard index of type <class 'pandas.core.indexes.numeric.Int64Index'> which will not be written. Consider changing the index to pd.RangeIndex(start=0,...,step=1) or call reset_index() to keep index as column(s)\n",
      "  success, nchunks, nrows, ci_output = write_pandas(\n"
     ]
    },
    {
     "name": "stdout",
     "output_type": "stream",
     "text": [
      "600103 values inserted into table SCHEDULE_RCCII\n"
     ]
    },
    {
     "name": "stderr",
     "output_type": "stream",
     "text": [
      "C:\\Users\\whill\\anaconda3\\lib\\site-packages\\snowflake\\snowpark\\session.py:1891: UserWarning: Pandas Dataframe has non-standard index of type <class 'pandas.core.indexes.numeric.Int64Index'> which will not be written. Consider changing the index to pd.RangeIndex(start=0,...,step=1) or call reset_index() to keep index as column(s)\n",
      "  success, nchunks, nrows, ci_output = write_pandas(\n"
     ]
    },
    {
     "name": "stdout",
     "output_type": "stream",
     "text": [
      "600103 values inserted into table SCHEDULE_RCG\n"
     ]
    },
    {
     "name": "stderr",
     "output_type": "stream",
     "text": [
      "C:\\Users\\whill\\anaconda3\\lib\\site-packages\\snowflake\\snowpark\\session.py:1891: UserWarning: Pandas Dataframe has non-standard index of type <class 'pandas.core.indexes.numeric.Int64Index'> which will not be written. Consider changing the index to pd.RangeIndex(start=0,...,step=1) or call reset_index() to keep index as column(s)\n",
      "  success, nchunks, nrows, ci_output = write_pandas(\n"
     ]
    },
    {
     "name": "stdout",
     "output_type": "stream",
     "text": [
      "600103 values inserted into table SCHEDULE_RCN\n"
     ]
    },
    {
     "name": "stderr",
     "output_type": "stream",
     "text": [
      "C:\\Users\\whill\\anaconda3\\lib\\site-packages\\snowflake\\snowpark\\session.py:1891: UserWarning: Pandas Dataframe has non-standard index of type <class 'pandas.core.indexes.numeric.Int64Index'> which will not be written. Consider changing the index to pd.RangeIndex(start=0,...,step=1) or call reset_index() to keep index as column(s)\n",
      "  success, nchunks, nrows, ci_output = write_pandas(\n"
     ]
    },
    {
     "name": "stdout",
     "output_type": "stream",
     "text": [
      "600103 values inserted into table SCHEDULE_RCP\n"
     ]
    },
    {
     "name": "stderr",
     "output_type": "stream",
     "text": [
      "C:\\Users\\whill\\anaconda3\\lib\\site-packages\\snowflake\\snowpark\\session.py:1891: UserWarning: Pandas Dataframe has non-standard index of type <class 'pandas.core.indexes.numeric.Int64Index'> which will not be written. Consider changing the index to pd.RangeIndex(start=0,...,step=1) or call reset_index() to keep index as column(s)\n",
      "  success, nchunks, nrows, ci_output = write_pandas(\n"
     ]
    },
    {
     "name": "stdout",
     "output_type": "stream",
     "text": [
      "Error in table SCHEDULE_RCRI: 100071 (22000): Failed to cast variant value \"9.2273%\" to REAL\n"
     ]
    },
    {
     "name": "stderr",
     "output_type": "stream",
     "text": [
      "C:\\Users\\whill\\anaconda3\\lib\\site-packages\\snowflake\\snowpark\\session.py:1891: UserWarning: Pandas Dataframe has non-standard index of type <class 'pandas.core.indexes.numeric.Int64Index'> which will not be written. Consider changing the index to pd.RangeIndex(start=0,...,step=1) or call reset_index() to keep index as column(s)\n",
      "  success, nchunks, nrows, ci_output = write_pandas(\n"
     ]
    },
    {
     "name": "stdout",
     "output_type": "stream",
     "text": [
      "600103 values inserted into table SCHEDULE_RCL\n"
     ]
    },
    {
     "name": "stderr",
     "output_type": "stream",
     "text": [
      "C:\\Users\\whill\\anaconda3\\lib\\site-packages\\snowflake\\snowpark\\session.py:1891: UserWarning: Pandas Dataframe has non-standard index of type <class 'pandas.core.indexes.numeric.Int64Index'> which will not be written. Consider changing the index to pd.RangeIndex(start=0,...,step=1) or call reset_index() to keep index as column(s)\n",
      "  success, nchunks, nrows, ci_output = write_pandas(\n"
     ]
    },
    {
     "name": "stdout",
     "output_type": "stream",
     "text": [
      "600103 values inserted into table SCHEDULE_RICI\n"
     ]
    },
    {
     "name": "stderr",
     "output_type": "stream",
     "text": [
      "C:\\Users\\whill\\anaconda3\\lib\\site-packages\\snowflake\\snowpark\\session.py:1891: UserWarning: Pandas Dataframe has non-standard index of type <class 'pandas.core.indexes.numeric.Int64Index'> which will not be written. Consider changing the index to pd.RangeIndex(start=0,...,step=1) or call reset_index() to keep index as column(s)\n",
      "  success, nchunks, nrows, ci_output = write_pandas(\n"
     ]
    },
    {
     "name": "stdout",
     "output_type": "stream",
     "text": [
      "600103 values inserted into table SCHEDULE_RCQ\n"
     ]
    },
    {
     "name": "stderr",
     "output_type": "stream",
     "text": [
      "C:\\Users\\whill\\anaconda3\\lib\\site-packages\\snowflake\\snowpark\\session.py:1891: UserWarning: Pandas Dataframe has non-standard index of type <class 'pandas.core.indexes.numeric.Int64Index'> which will not be written. Consider changing the index to pd.RangeIndex(start=0,...,step=1) or call reset_index() to keep index as column(s)\n",
      "  success, nchunks, nrows, ci_output = write_pandas(\n"
     ]
    },
    {
     "name": "stdout",
     "output_type": "stream",
     "text": [
      "600103 values inserted into table SCHEDULE_LEO\n"
     ]
    },
    {
     "name": "stderr",
     "output_type": "stream",
     "text": [
      "C:\\Users\\whill\\anaconda3\\lib\\site-packages\\snowflake\\snowpark\\session.py:1891: UserWarning: Pandas Dataframe has non-standard index of type <class 'pandas.core.indexes.numeric.Int64Index'> which will not be written. Consider changing the index to pd.RangeIndex(start=0,...,step=1) or call reset_index() to keep index as column(s)\n",
      "  success, nchunks, nrows, ci_output = write_pandas(\n"
     ]
    },
    {
     "name": "stdout",
     "output_type": "stream",
     "text": [
      "600103 values inserted into table SCHEDULE_RCE\n"
     ]
    },
    {
     "name": "stderr",
     "output_type": "stream",
     "text": [
      "C:\\Users\\whill\\anaconda3\\lib\\site-packages\\snowflake\\snowpark\\session.py:1891: UserWarning: Pandas Dataframe has non-standard index of type <class 'pandas.core.indexes.numeric.Int64Index'> which will not be written. Consider changing the index to pd.RangeIndex(start=0,...,step=1) or call reset_index() to keep index as column(s)\n",
      "  success, nchunks, nrows, ci_output = write_pandas(\n"
     ]
    },
    {
     "name": "stdout",
     "output_type": "stream",
     "text": [
      "600103 values inserted into table SCHEDULE_RCEII\n"
     ]
    },
    {
     "name": "stderr",
     "output_type": "stream",
     "text": [
      "C:\\Users\\whill\\anaconda3\\lib\\site-packages\\snowflake\\snowpark\\session.py:1891: UserWarning: Pandas Dataframe has non-standard index of type <class 'pandas.core.indexes.numeric.Int64Index'> which will not be written. Consider changing the index to pd.RangeIndex(start=0,...,step=1) or call reset_index() to keep index as column(s)\n",
      "  success, nchunks, nrows, ci_output = write_pandas(\n"
     ]
    },
    {
     "name": "stdout",
     "output_type": "stream",
     "text": [
      "600103 values inserted into table SCHEDULE_RCI\n"
     ]
    },
    {
     "name": "stderr",
     "output_type": "stream",
     "text": [
      "C:\\Users\\whill\\anaconda3\\lib\\site-packages\\snowflake\\snowpark\\session.py:1891: UserWarning: Pandas Dataframe has non-standard index of type <class 'pandas.core.indexes.numeric.Int64Index'> which will not be written. Consider changing the index to pd.RangeIndex(start=0,...,step=1) or call reset_index() to keep index as column(s)\n",
      "  success, nchunks, nrows, ci_output = write_pandas(\n"
     ]
    },
    {
     "name": "stdout",
     "output_type": "stream",
     "text": [
      "600103 values inserted into table SCHEDULE_RCK\n"
     ]
    },
    {
     "name": "stderr",
     "output_type": "stream",
     "text": [
      "C:\\Users\\whill\\anaconda3\\lib\\site-packages\\snowflake\\snowpark\\session.py:1891: UserWarning: Pandas Dataframe has non-standard index of type <class 'pandas.core.indexes.numeric.Int64Index'> which will not be written. Consider changing the index to pd.RangeIndex(start=0,...,step=1) or call reset_index() to keep index as column(s)\n",
      "  success, nchunks, nrows, ci_output = write_pandas(\n"
     ]
    },
    {
     "name": "stdout",
     "output_type": "stream",
     "text": [
      "600103 values inserted into table SCHEDULE_RCO\n"
     ]
    },
    {
     "name": "stderr",
     "output_type": "stream",
     "text": [
      "C:\\Users\\whill\\anaconda3\\lib\\site-packages\\snowflake\\snowpark\\session.py:1891: UserWarning: Pandas Dataframe has non-standard index of type <class 'pandas.core.indexes.numeric.Int64Index'> which will not be written. Consider changing the index to pd.RangeIndex(start=0,...,step=1) or call reset_index() to keep index as column(s)\n",
      "  success, nchunks, nrows, ci_output = write_pandas(\n"
     ]
    },
    {
     "name": "stdout",
     "output_type": "stream",
     "text": [
      "600103 values inserted into table SCHEDULE_RIBII\n"
     ]
    },
    {
     "name": "stderr",
     "output_type": "stream",
     "text": [
      "C:\\Users\\whill\\anaconda3\\lib\\site-packages\\snowflake\\snowpark\\session.py:1891: UserWarning: Pandas Dataframe has non-standard index of type <class 'pandas.core.indexes.numeric.Int64Index'> which will not be written. Consider changing the index to pd.RangeIndex(start=0,...,step=1) or call reset_index() to keep index as column(s)\n",
      "  success, nchunks, nrows, ci_output = write_pandas(\n"
     ]
    },
    {
     "name": "stdout",
     "output_type": "stream",
     "text": [
      "600103 values inserted into table SCHEDULE_SU\n"
     ]
    },
    {
     "name": "stderr",
     "output_type": "stream",
     "text": [
      "C:\\Users\\whill\\anaconda3\\lib\\site-packages\\snowflake\\snowpark\\session.py:1891: UserWarning: Pandas Dataframe has non-standard index of type <class 'pandas.core.indexes.numeric.Int64Index'> which will not be written. Consider changing the index to pd.RangeIndex(start=0,...,step=1) or call reset_index() to keep index as column(s)\n",
      "  success, nchunks, nrows, ci_output = write_pandas(\n"
     ]
    },
    {
     "name": "stdout",
     "output_type": "stream",
     "text": [
      "600103 values inserted into table SCHEDULE_UNDEFINED\n"
     ]
    },
    {
     "name": "stderr",
     "output_type": "stream",
     "text": [
      "C:\\Users\\whill\\anaconda3\\lib\\site-packages\\snowflake\\snowpark\\session.py:1891: UserWarning: Pandas Dataframe has non-standard index of type <class 'pandas.core.indexes.numeric.Int64Index'> which will not be written. Consider changing the index to pd.RangeIndex(start=0,...,step=1) or call reset_index() to keep index as column(s)\n",
      "  success, nchunks, nrows, ci_output = write_pandas(\n"
     ]
    },
    {
     "name": "stdout",
     "output_type": "stream",
     "text": [
      "600103 values inserted into table SCHEDULE_RCM\n"
     ]
    },
    {
     "name": "stderr",
     "output_type": "stream",
     "text": [
      "C:\\Users\\whill\\anaconda3\\lib\\site-packages\\snowflake\\snowpark\\session.py:1891: UserWarning: Pandas Dataframe has non-standard index of type <class 'pandas.core.indexes.numeric.Int64Index'> which will not be written. Consider changing the index to pd.RangeIndex(start=0,...,step=1) or call reset_index() to keep index as column(s)\n",
      "  success, nchunks, nrows, ci_output = write_pandas(\n"
     ]
    },
    {
     "name": "stdout",
     "output_type": "stream",
     "text": [
      "600103 values inserted into table SCHEDULE_RIBI\n"
     ]
    },
    {
     "name": "stderr",
     "output_type": "stream",
     "text": [
      "C:\\Users\\whill\\anaconda3\\lib\\site-packages\\snowflake\\snowpark\\session.py:1891: UserWarning: Pandas Dataframe has non-standard index of type <class 'pandas.core.indexes.numeric.Int64Index'> which will not be written. Consider changing the index to pd.RangeIndex(start=0,...,step=1) or call reset_index() to keep index as column(s)\n",
      "  success, nchunks, nrows, ci_output = write_pandas(\n"
     ]
    },
    {
     "name": "stdout",
     "output_type": "stream",
     "text": [
      "600103 values inserted into table SCHEDULE_RIC\n"
     ]
    },
    {
     "name": "stderr",
     "output_type": "stream",
     "text": [
      "C:\\Users\\whill\\anaconda3\\lib\\site-packages\\snowflake\\snowpark\\session.py:1891: UserWarning: Pandas Dataframe has non-standard index of type <class 'pandas.core.indexes.numeric.Int64Index'> which will not be written. Consider changing the index to pd.RangeIndex(start=0,...,step=1) or call reset_index() to keep index as column(s)\n",
      "  success, nchunks, nrows, ci_output = write_pandas(\n"
     ]
    },
    {
     "name": "stdout",
     "output_type": "stream",
     "text": [
      "600103 values inserted into table SCHEDULE_RIE\n",
      "C:\\Users\\whill\\call-report-database\\Bulk_Files\\2019\\03_31\\FFIEC CDR Call Schedule CI 03312019.txt\n",
      "C:\\Users\\whill\\call-report-database\\Bulk_Files\\2019\\03_31\\FFIEC CDR Call Schedule ENT 03312019.txt\n",
      "C:\\Users\\whill\\call-report-database\\Bulk_Files\\2019\\03_31\\FFIEC CDR Call Schedule NARR 03312019.txt\n",
      "C:\\Users\\whill\\call-report-database\\Bulk_Files\\2019\\03_31\\FFIEC CDR Call Schedule RC 03312019.txt\n",
      "C:\\Users\\whill\\call-report-database\\Bulk_Files\\2019\\03_31\\FFIEC CDR Call Schedule RCA 03312019.txt\n",
      "C:\\Users\\whill\\call-report-database\\Bulk_Files\\2019\\03_31\\FFIEC CDR Call Schedule RCB 03312019(1 of 2).txt\n",
      "C:\\Users\\whill\\call-report-database\\Bulk_Files\\2019\\03_31\\FFIEC CDR Call Schedule RCB 03312019(2 of 2).txt\n",
      "C:\\Users\\whill\\call-report-database\\Bulk_Files\\2019\\03_31\\FFIEC CDR Call Schedule RCCI 03312019.txt\n",
      "C:\\Users\\whill\\call-report-database\\Bulk_Files\\2019\\03_31\\FFIEC CDR Call Schedule RCCII 03312019.txt\n",
      "C:\\Users\\whill\\call-report-database\\Bulk_Files\\2019\\03_31\\FFIEC CDR Call Schedule RCD 03312019.txt\n",
      "C:\\Users\\whill\\call-report-database\\Bulk_Files\\2019\\03_31\\FFIEC CDR Call Schedule RCE 03312019.txt\n",
      "C:\\Users\\whill\\call-report-database\\Bulk_Files\\2019\\03_31\\FFIEC CDR Call Schedule RCEI 03312019.txt\n",
      "C:\\Users\\whill\\call-report-database\\Bulk_Files\\2019\\03_31\\FFIEC CDR Call Schedule RCEII 03312019.txt\n",
      "C:\\Users\\whill\\call-report-database\\Bulk_Files\\2019\\03_31\\FFIEC CDR Call Schedule RCF 03312019.txt\n",
      "C:\\Users\\whill\\call-report-database\\Bulk_Files\\2019\\03_31\\FFIEC CDR Call Schedule RCG 03312019.txt\n",
      "C:\\Users\\whill\\call-report-database\\Bulk_Files\\2019\\03_31\\FFIEC CDR Call Schedule RCH 03312019.txt\n",
      "C:\\Users\\whill\\call-report-database\\Bulk_Files\\2019\\03_31\\FFIEC CDR Call Schedule RCI 03312019.txt\n",
      "C:\\Users\\whill\\call-report-database\\Bulk_Files\\2019\\03_31\\FFIEC CDR Call Schedule RCK 03312019.txt\n",
      "C:\\Users\\whill\\call-report-database\\Bulk_Files\\2019\\03_31\\FFIEC CDR Call Schedule RCL 03312019(1 of 2).txt\n",
      "C:\\Users\\whill\\call-report-database\\Bulk_Files\\2019\\03_31\\FFIEC CDR Call Schedule RCL 03312019(2 of 2).txt\n",
      "C:\\Users\\whill\\call-report-database\\Bulk_Files\\2019\\03_31\\FFIEC CDR Call Schedule RCM 03312019.txt\n",
      "C:\\Users\\whill\\call-report-database\\Bulk_Files\\2019\\03_31\\FFIEC CDR Call Schedule RCN 03312019(1 of 2).txt\n",
      "C:\\Users\\whill\\call-report-database\\Bulk_Files\\2019\\03_31\\FFIEC CDR Call Schedule RCN 03312019(2 of 2).txt\n",
      "C:\\Users\\whill\\call-report-database\\Bulk_Files\\2019\\03_31\\FFIEC CDR Call Schedule RCO 03312019(1 of 2).txt\n",
      "C:\\Users\\whill\\call-report-database\\Bulk_Files\\2019\\03_31\\FFIEC CDR Call Schedule RCO 03312019(2 of 2).txt\n",
      "C:\\Users\\whill\\call-report-database\\Bulk_Files\\2019\\03_31\\FFIEC CDR Call Schedule RCP 03312019.txt\n",
      "C:\\Users\\whill\\call-report-database\\Bulk_Files\\2019\\03_31\\FFIEC CDR Call Schedule RCQ 03312019(1 of 2).txt\n",
      "C:\\Users\\whill\\call-report-database\\Bulk_Files\\2019\\03_31\\FFIEC CDR Call Schedule RCQ 03312019(2 of 2).txt\n",
      "C:\\Users\\whill\\call-report-database\\Bulk_Files\\2019\\03_31\\FFIEC CDR Call Schedule RCRI 03312019.txt\n",
      "C:\\Users\\whill\\call-report-database\\Bulk_Files\\2019\\03_31\\FFIEC CDR Call Schedule RCRII 03312019(1 of 4).txt\n",
      "C:\\Users\\whill\\call-report-database\\Bulk_Files\\2019\\03_31\\FFIEC CDR Call Schedule RCRII 03312019(2 of 4).txt\n",
      "C:\\Users\\whill\\call-report-database\\Bulk_Files\\2019\\03_31\\FFIEC CDR Call Schedule RCRII 03312019(3 of 4).txt\n",
      "C:\\Users\\whill\\call-report-database\\Bulk_Files\\2019\\03_31\\FFIEC CDR Call Schedule RCRII 03312019(4 of 4).txt\n",
      "C:\\Users\\whill\\call-report-database\\Bulk_Files\\2019\\03_31\\FFIEC CDR Call Schedule RCS 03312019.txt\n",
      "C:\\Users\\whill\\call-report-database\\Bulk_Files\\2019\\03_31\\FFIEC CDR Call Schedule RCT 03312019(1 of 2).txt\n",
      "C:\\Users\\whill\\call-report-database\\Bulk_Files\\2019\\03_31\\FFIEC CDR Call Schedule RCT 03312019(2 of 2).txt\n",
      "C:\\Users\\whill\\call-report-database\\Bulk_Files\\2019\\03_31\\FFIEC CDR Call Schedule RCV 03312019.txt\n",
      "C:\\Users\\whill\\call-report-database\\Bulk_Files\\2019\\03_31\\FFIEC CDR Call Schedule RI 03312019.txt\n",
      "C:\\Users\\whill\\call-report-database\\Bulk_Files\\2019\\03_31\\FFIEC CDR Call Schedule RIA 03312019.txt\n",
      "C:\\Users\\whill\\call-report-database\\Bulk_Files\\2019\\03_31\\FFIEC CDR Call Schedule RIBI 03312019.txt\n",
      "C:\\Users\\whill\\call-report-database\\Bulk_Files\\2019\\03_31\\FFIEC CDR Call Schedule RIBII 03312019.txt\n",
      "C:\\Users\\whill\\call-report-database\\Bulk_Files\\2019\\03_31\\FFIEC CDR Call Schedule RICI 03312019.txt\n",
      "C:\\Users\\whill\\call-report-database\\Bulk_Files\\2019\\03_31\\FFIEC CDR Call Schedule RICII 03312019.txt\n",
      "C:\\Users\\whill\\call-report-database\\Bulk_Files\\2019\\03_31\\FFIEC CDR Call Schedule RID 03312019.txt\n"
     ]
    },
    {
     "name": "stderr",
     "output_type": "stream",
     "text": [
      "Skipping line 2420: '\t' expected after '\"'\n"
     ]
    },
    {
     "name": "stdout",
     "output_type": "stream",
     "text": [
      "C:\\Users\\whill\\call-report-database\\Bulk_Files\\2019\\03_31\\FFIEC CDR Call Schedule RIE 03312019.txt\n",
      "C:\\Users\\whill\\call-report-database\\Bulk_Files\\2019\\03_31\\FFIEC CDR Call Schedule SU 03312019.txt\n"
     ]
    },
    {
     "name": "stderr",
     "output_type": "stream",
     "text": [
      "C:\\Users\\whill\\anaconda3\\lib\\site-packages\\snowflake\\snowpark\\session.py:1891: UserWarning: Pandas Dataframe has non-standard index of type <class 'pandas.core.indexes.numeric.Int64Index'> which will not be written. Consider changing the index to pd.RangeIndex(start=0,...,step=1) or call reset_index() to keep index as column(s)\n",
      "  success, nchunks, nrows, ci_output = write_pandas(\n"
     ]
    },
    {
     "name": "stdout",
     "output_type": "stream",
     "text": [
      "605514 values inserted into table SCHEDULE_ENT\n"
     ]
    },
    {
     "name": "stderr",
     "output_type": "stream",
     "text": [
      "C:\\Users\\whill\\anaconda3\\lib\\site-packages\\snowflake\\snowpark\\session.py:1891: UserWarning: Pandas Dataframe has non-standard index of type <class 'pandas.core.indexes.numeric.Int64Index'> which will not be written. Consider changing the index to pd.RangeIndex(start=0,...,step=1) or call reset_index() to keep index as column(s)\n",
      "  success, nchunks, nrows, ci_output = write_pandas(\n"
     ]
    },
    {
     "name": "stdout",
     "output_type": "stream",
     "text": [
      "605514 values inserted into table SCHEDULE_LEO\n"
     ]
    },
    {
     "name": "stderr",
     "output_type": "stream",
     "text": [
      "C:\\Users\\whill\\anaconda3\\lib\\site-packages\\snowflake\\snowpark\\session.py:1891: UserWarning: Pandas Dataframe has non-standard index of type <class 'pandas.core.indexes.numeric.Int64Index'> which will not be written. Consider changing the index to pd.RangeIndex(start=0,...,step=1) or call reset_index() to keep index as column(s)\n",
      "  success, nchunks, nrows, ci_output = write_pandas(\n"
     ]
    },
    {
     "name": "stdout",
     "output_type": "stream",
     "text": [
      "605514 values inserted into table SCHEDULE_NARR\n"
     ]
    },
    {
     "name": "stderr",
     "output_type": "stream",
     "text": [
      "C:\\Users\\whill\\anaconda3\\lib\\site-packages\\snowflake\\snowpark\\session.py:1891: UserWarning: Pandas Dataframe has non-standard index of type <class 'pandas.core.indexes.numeric.Int64Index'> which will not be written. Consider changing the index to pd.RangeIndex(start=0,...,step=1) or call reset_index() to keep index as column(s)\n",
      "  success, nchunks, nrows, ci_output = write_pandas(\n"
     ]
    },
    {
     "name": "stdout",
     "output_type": "stream",
     "text": [
      "605514 values inserted into table SCHEDULE_RCCII\n"
     ]
    },
    {
     "name": "stderr",
     "output_type": "stream",
     "text": [
      "C:\\Users\\whill\\anaconda3\\lib\\site-packages\\snowflake\\snowpark\\session.py:1891: UserWarning: Pandas Dataframe has non-standard index of type <class 'pandas.core.indexes.numeric.Int64Index'> which will not be written. Consider changing the index to pd.RangeIndex(start=0,...,step=1) or call reset_index() to keep index as column(s)\n",
      "  success, nchunks, nrows, ci_output = write_pandas(\n"
     ]
    },
    {
     "name": "stdout",
     "output_type": "stream",
     "text": [
      "605514 values inserted into table SCHEDULE_RCE\n"
     ]
    },
    {
     "name": "stderr",
     "output_type": "stream",
     "text": [
      "C:\\Users\\whill\\anaconda3\\lib\\site-packages\\snowflake\\snowpark\\session.py:1891: UserWarning: Pandas Dataframe has non-standard index of type <class 'pandas.core.indexes.numeric.Int64Index'> which will not be written. Consider changing the index to pd.RangeIndex(start=0,...,step=1) or call reset_index() to keep index as column(s)\n",
      "  success, nchunks, nrows, ci_output = write_pandas(\n"
     ]
    },
    {
     "name": "stdout",
     "output_type": "stream",
     "text": [
      "605514 values inserted into table SCHEDULE_RCF\n"
     ]
    },
    {
     "name": "stderr",
     "output_type": "stream",
     "text": [
      "C:\\Users\\whill\\anaconda3\\lib\\site-packages\\snowflake\\snowpark\\session.py:1891: UserWarning: Pandas Dataframe has non-standard index of type <class 'pandas.core.indexes.numeric.Int64Index'> which will not be written. Consider changing the index to pd.RangeIndex(start=0,...,step=1) or call reset_index() to keep index as column(s)\n",
      "  success, nchunks, nrows, ci_output = write_pandas(\n"
     ]
    },
    {
     "name": "stdout",
     "output_type": "stream",
     "text": [
      "605514 values inserted into table SCHEDULE_RCI\n"
     ]
    },
    {
     "name": "stderr",
     "output_type": "stream",
     "text": [
      "C:\\Users\\whill\\anaconda3\\lib\\site-packages\\snowflake\\snowpark\\session.py:1891: UserWarning: Pandas Dataframe has non-standard index of type <class 'pandas.core.indexes.numeric.Int64Index'> which will not be written. Consider changing the index to pd.RangeIndex(start=0,...,step=1) or call reset_index() to keep index as column(s)\n",
      "  success, nchunks, nrows, ci_output = write_pandas(\n"
     ]
    },
    {
     "name": "stdout",
     "output_type": "stream",
     "text": [
      "605514 values inserted into table SCHEDULE_RCK\n"
     ]
    },
    {
     "name": "stderr",
     "output_type": "stream",
     "text": [
      "C:\\Users\\whill\\anaconda3\\lib\\site-packages\\snowflake\\snowpark\\session.py:1891: UserWarning: Pandas Dataframe has non-standard index of type <class 'pandas.core.indexes.numeric.Int64Index'> which will not be written. Consider changing the index to pd.RangeIndex(start=0,...,step=1) or call reset_index() to keep index as column(s)\n",
      "  success, nchunks, nrows, ci_output = write_pandas(\n"
     ]
    },
    {
     "name": "stdout",
     "output_type": "stream",
     "text": [
      "605514 values inserted into table SCHEDULE_RCN\n"
     ]
    },
    {
     "name": "stderr",
     "output_type": "stream",
     "text": [
      "C:\\Users\\whill\\anaconda3\\lib\\site-packages\\snowflake\\snowpark\\session.py:1891: UserWarning: Pandas Dataframe has non-standard index of type <class 'pandas.core.indexes.numeric.Int64Index'> which will not be written. Consider changing the index to pd.RangeIndex(start=0,...,step=1) or call reset_index() to keep index as column(s)\n",
      "  success, nchunks, nrows, ci_output = write_pandas(\n"
     ]
    },
    {
     "name": "stdout",
     "output_type": "stream",
     "text": [
      "605514 values inserted into table SCHEDULE_RCO\n"
     ]
    },
    {
     "name": "stderr",
     "output_type": "stream",
     "text": [
      "C:\\Users\\whill\\anaconda3\\lib\\site-packages\\snowflake\\snowpark\\session.py:1891: UserWarning: Pandas Dataframe has non-standard index of type <class 'pandas.core.indexes.numeric.Int64Index'> which will not be written. Consider changing the index to pd.RangeIndex(start=0,...,step=1) or call reset_index() to keep index as column(s)\n",
      "  success, nchunks, nrows, ci_output = write_pandas(\n"
     ]
    },
    {
     "name": "stdout",
     "output_type": "stream",
     "text": [
      "605514 values inserted into table SCHEDULE_RI\n"
     ]
    },
    {
     "name": "stderr",
     "output_type": "stream",
     "text": [
      "C:\\Users\\whill\\anaconda3\\lib\\site-packages\\snowflake\\snowpark\\session.py:1891: UserWarning: Pandas Dataframe has non-standard index of type <class 'pandas.core.indexes.numeric.Int64Index'> which will not be written. Consider changing the index to pd.RangeIndex(start=0,...,step=1) or call reset_index() to keep index as column(s)\n",
      "  success, nchunks, nrows, ci_output = write_pandas(\n"
     ]
    },
    {
     "name": "stdout",
     "output_type": "stream",
     "text": [
      "605514 values inserted into table SCHEDULE_RIBII\n"
     ]
    },
    {
     "name": "stderr",
     "output_type": "stream",
     "text": [
      "C:\\Users\\whill\\anaconda3\\lib\\site-packages\\snowflake\\snowpark\\session.py:1891: UserWarning: Pandas Dataframe has non-standard index of type <class 'pandas.core.indexes.numeric.Int64Index'> which will not be written. Consider changing the index to pd.RangeIndex(start=0,...,step=1) or call reset_index() to keep index as column(s)\n",
      "  success, nchunks, nrows, ci_output = write_pandas(\n"
     ]
    },
    {
     "name": "stdout",
     "output_type": "stream",
     "text": [
      "605514 values inserted into table SCHEDULE_SU\n"
     ]
    },
    {
     "name": "stderr",
     "output_type": "stream",
     "text": [
      "C:\\Users\\whill\\anaconda3\\lib\\site-packages\\snowflake\\snowpark\\session.py:1891: UserWarning: Pandas Dataframe has non-standard index of type <class 'pandas.core.indexes.numeric.Int64Index'> which will not be written. Consider changing the index to pd.RangeIndex(start=0,...,step=1) or call reset_index() to keep index as column(s)\n",
      "  success, nchunks, nrows, ci_output = write_pandas(\n"
     ]
    },
    {
     "name": "stdout",
     "output_type": "stream",
     "text": [
      "605514 values inserted into table SCHEDULE_RCQ\n"
     ]
    },
    {
     "name": "stderr",
     "output_type": "stream",
     "text": [
      "C:\\Users\\whill\\anaconda3\\lib\\site-packages\\snowflake\\snowpark\\session.py:1891: UserWarning: Pandas Dataframe has non-standard index of type <class 'pandas.core.indexes.numeric.Int64Index'> which will not be written. Consider changing the index to pd.RangeIndex(start=0,...,step=1) or call reset_index() to keep index as column(s)\n",
      "  success, nchunks, nrows, ci_output = write_pandas(\n"
     ]
    },
    {
     "name": "stdout",
     "output_type": "stream",
     "text": [
      "605514 values inserted into table SCHEDULE_RIE\n"
     ]
    },
    {
     "name": "stderr",
     "output_type": "stream",
     "text": [
      "C:\\Users\\whill\\anaconda3\\lib\\site-packages\\snowflake\\snowpark\\session.py:1891: UserWarning: Pandas Dataframe has non-standard index of type <class 'pandas.core.indexes.numeric.Int64Index'> which will not be written. Consider changing the index to pd.RangeIndex(start=0,...,step=1) or call reset_index() to keep index as column(s)\n",
      "  success, nchunks, nrows, ci_output = write_pandas(\n"
     ]
    },
    {
     "name": "stdout",
     "output_type": "stream",
     "text": [
      "605514 values inserted into table SCHEDULE_RCR\n"
     ]
    },
    {
     "name": "stderr",
     "output_type": "stream",
     "text": [
      "C:\\Users\\whill\\anaconda3\\lib\\site-packages\\snowflake\\snowpark\\session.py:1891: UserWarning: Pandas Dataframe has non-standard index of type <class 'pandas.core.indexes.numeric.Int64Index'> which will not be written. Consider changing the index to pd.RangeIndex(start=0,...,step=1) or call reset_index() to keep index as column(s)\n",
      "  success, nchunks, nrows, ci_output = write_pandas(\n"
     ]
    },
    {
     "name": "stdout",
     "output_type": "stream",
     "text": [
      "605514 values inserted into table SCHEDULE_RC\n"
     ]
    },
    {
     "name": "stderr",
     "output_type": "stream",
     "text": [
      "C:\\Users\\whill\\anaconda3\\lib\\site-packages\\snowflake\\snowpark\\session.py:1891: UserWarning: Pandas Dataframe has non-standard index of type <class 'pandas.core.indexes.numeric.Int64Index'> which will not be written. Consider changing the index to pd.RangeIndex(start=0,...,step=1) or call reset_index() to keep index as column(s)\n",
      "  success, nchunks, nrows, ci_output = write_pandas(\n"
     ]
    },
    {
     "name": "stdout",
     "output_type": "stream",
     "text": [
      "605514 values inserted into table SCHEDULE_RCEII\n"
     ]
    },
    {
     "name": "stderr",
     "output_type": "stream",
     "text": [
      "C:\\Users\\whill\\anaconda3\\lib\\site-packages\\snowflake\\snowpark\\session.py:1891: UserWarning: Pandas Dataframe has non-standard index of type <class 'pandas.core.indexes.numeric.Int64Index'> which will not be written. Consider changing the index to pd.RangeIndex(start=0,...,step=1) or call reset_index() to keep index as column(s)\n",
      "  success, nchunks, nrows, ci_output = write_pandas(\n"
     ]
    },
    {
     "name": "stdout",
     "output_type": "stream",
     "text": [
      "605514 values inserted into table SCHEDULE_RCRII\n"
     ]
    },
    {
     "name": "stderr",
     "output_type": "stream",
     "text": [
      "C:\\Users\\whill\\anaconda3\\lib\\site-packages\\snowflake\\snowpark\\session.py:1891: UserWarning: Pandas Dataframe has non-standard index of type <class 'pandas.core.indexes.numeric.Int64Index'> which will not be written. Consider changing the index to pd.RangeIndex(start=0,...,step=1) or call reset_index() to keep index as column(s)\n",
      "  success, nchunks, nrows, ci_output = write_pandas(\n"
     ]
    },
    {
     "name": "stdout",
     "output_type": "stream",
     "text": [
      "605514 values inserted into table SCHEDULE_RIBI\n"
     ]
    },
    {
     "name": "stderr",
     "output_type": "stream",
     "text": [
      "C:\\Users\\whill\\anaconda3\\lib\\site-packages\\snowflake\\snowpark\\session.py:1891: UserWarning: Pandas Dataframe has non-standard index of type <class 'pandas.core.indexes.numeric.Int64Index'> which will not be written. Consider changing the index to pd.RangeIndex(start=0,...,step=1) or call reset_index() to keep index as column(s)\n",
      "  success, nchunks, nrows, ci_output = write_pandas(\n"
     ]
    },
    {
     "name": "stdout",
     "output_type": "stream",
     "text": [
      "605514 values inserted into table SCHEDULE_RCB\n"
     ]
    },
    {
     "name": "stderr",
     "output_type": "stream",
     "text": [
      "C:\\Users\\whill\\anaconda3\\lib\\site-packages\\snowflake\\snowpark\\session.py:1891: UserWarning: Pandas Dataframe has non-standard index of type <class 'pandas.core.indexes.numeric.Int64Index'> which will not be written. Consider changing the index to pd.RangeIndex(start=0,...,step=1) or call reset_index() to keep index as column(s)\n",
      "  success, nchunks, nrows, ci_output = write_pandas(\n"
     ]
    },
    {
     "name": "stdout",
     "output_type": "stream",
     "text": [
      "605514 values inserted into table SCHEDULE_RCV\n"
     ]
    },
    {
     "name": "stderr",
     "output_type": "stream",
     "text": [
      "C:\\Users\\whill\\anaconda3\\lib\\site-packages\\snowflake\\snowpark\\session.py:1891: UserWarning: Pandas Dataframe has non-standard index of type <class 'pandas.core.indexes.numeric.Int64Index'> which will not be written. Consider changing the index to pd.RangeIndex(start=0,...,step=1) or call reset_index() to keep index as column(s)\n",
      "  success, nchunks, nrows, ci_output = write_pandas(\n"
     ]
    },
    {
     "name": "stdout",
     "output_type": "stream",
     "text": [
      "605514 values inserted into table SCHEDULE_UNDEFINED\n"
     ]
    },
    {
     "name": "stderr",
     "output_type": "stream",
     "text": [
      "C:\\Users\\whill\\anaconda3\\lib\\site-packages\\snowflake\\snowpark\\session.py:1891: UserWarning: Pandas Dataframe has non-standard index of type <class 'pandas.core.indexes.numeric.Int64Index'> which will not be written. Consider changing the index to pd.RangeIndex(start=0,...,step=1) or call reset_index() to keep index as column(s)\n",
      "  success, nchunks, nrows, ci_output = write_pandas(\n"
     ]
    },
    {
     "name": "stdout",
     "output_type": "stream",
     "text": [
      "605514 values inserted into table SCHEDULE_RICII\n"
     ]
    },
    {
     "name": "stderr",
     "output_type": "stream",
     "text": [
      "C:\\Users\\whill\\anaconda3\\lib\\site-packages\\snowflake\\snowpark\\session.py:1891: UserWarning: Pandas Dataframe has non-standard index of type <class 'pandas.core.indexes.numeric.Int64Index'> which will not be written. Consider changing the index to pd.RangeIndex(start=0,...,step=1) or call reset_index() to keep index as column(s)\n",
      "  success, nchunks, nrows, ci_output = write_pandas(\n"
     ]
    },
    {
     "name": "stdout",
     "output_type": "stream",
     "text": [
      "605514 values inserted into table SCHEDULE_RCS\n"
     ]
    },
    {
     "name": "stderr",
     "output_type": "stream",
     "text": [
      "C:\\Users\\whill\\anaconda3\\lib\\site-packages\\snowflake\\snowpark\\session.py:1891: UserWarning: Pandas Dataframe has non-standard index of type <class 'pandas.core.indexes.numeric.Int64Index'> which will not be written. Consider changing the index to pd.RangeIndex(start=0,...,step=1) or call reset_index() to keep index as column(s)\n",
      "  success, nchunks, nrows, ci_output = write_pandas(\n"
     ]
    },
    {
     "name": "stdout",
     "output_type": "stream",
     "text": [
      "605514 values inserted into table SCHEDULE_RCA\n"
     ]
    },
    {
     "name": "stderr",
     "output_type": "stream",
     "text": [
      "C:\\Users\\whill\\anaconda3\\lib\\site-packages\\snowflake\\snowpark\\session.py:1891: UserWarning: Pandas Dataframe has non-standard index of type <class 'pandas.core.indexes.numeric.Int64Index'> which will not be written. Consider changing the index to pd.RangeIndex(start=0,...,step=1) or call reset_index() to keep index as column(s)\n",
      "  success, nchunks, nrows, ci_output = write_pandas(\n"
     ]
    },
    {
     "name": "stdout",
     "output_type": "stream",
     "text": [
      "605514 values inserted into table SCHEDULE_RCCI\n"
     ]
    },
    {
     "name": "stderr",
     "output_type": "stream",
     "text": [
      "C:\\Users\\whill\\anaconda3\\lib\\site-packages\\snowflake\\snowpark\\session.py:1891: UserWarning: Pandas Dataframe has non-standard index of type <class 'pandas.core.indexes.numeric.Int64Index'> which will not be written. Consider changing the index to pd.RangeIndex(start=0,...,step=1) or call reset_index() to keep index as column(s)\n",
      "  success, nchunks, nrows, ci_output = write_pandas(\n"
     ]
    },
    {
     "name": "stdout",
     "output_type": "stream",
     "text": [
      "Error in table SCHEDULE_RCRI: 100071 (22000): Failed to cast variant value \"9.5087%\" to REAL\n"
     ]
    },
    {
     "name": "stderr",
     "output_type": "stream",
     "text": [
      "C:\\Users\\whill\\anaconda3\\lib\\site-packages\\snowflake\\snowpark\\session.py:1891: UserWarning: Pandas Dataframe has non-standard index of type <class 'pandas.core.indexes.numeric.Int64Index'> which will not be written. Consider changing the index to pd.RangeIndex(start=0,...,step=1) or call reset_index() to keep index as column(s)\n",
      "  success, nchunks, nrows, ci_output = write_pandas(\n"
     ]
    },
    {
     "name": "stdout",
     "output_type": "stream",
     "text": [
      "605514 values inserted into table SCHEDULE_RIA\n"
     ]
    },
    {
     "name": "stderr",
     "output_type": "stream",
     "text": [
      "C:\\Users\\whill\\anaconda3\\lib\\site-packages\\snowflake\\snowpark\\session.py:1891: UserWarning: Pandas Dataframe has non-standard index of type <class 'pandas.core.indexes.numeric.Int64Index'> which will not be written. Consider changing the index to pd.RangeIndex(start=0,...,step=1) or call reset_index() to keep index as column(s)\n",
      "  success, nchunks, nrows, ci_output = write_pandas(\n"
     ]
    },
    {
     "name": "stdout",
     "output_type": "stream",
     "text": [
      "605514 values inserted into table SCHEDULE_RICI\n"
     ]
    },
    {
     "name": "stderr",
     "output_type": "stream",
     "text": [
      "C:\\Users\\whill\\anaconda3\\lib\\site-packages\\snowflake\\snowpark\\session.py:1891: UserWarning: Pandas Dataframe has non-standard index of type <class 'pandas.core.indexes.numeric.Int64Index'> which will not be written. Consider changing the index to pd.RangeIndex(start=0,...,step=1) or call reset_index() to keep index as column(s)\n",
      "  success, nchunks, nrows, ci_output = write_pandas(\n"
     ]
    },
    {
     "name": "stdout",
     "output_type": "stream",
     "text": [
      "605514 values inserted into table SCHEDULE_RCD\n"
     ]
    },
    {
     "name": "stderr",
     "output_type": "stream",
     "text": [
      "C:\\Users\\whill\\anaconda3\\lib\\site-packages\\snowflake\\snowpark\\session.py:1891: UserWarning: Pandas Dataframe has non-standard index of type <class 'pandas.core.indexes.numeric.Int64Index'> which will not be written. Consider changing the index to pd.RangeIndex(start=0,...,step=1) or call reset_index() to keep index as column(s)\n",
      "  success, nchunks, nrows, ci_output = write_pandas(\n"
     ]
    },
    {
     "name": "stdout",
     "output_type": "stream",
     "text": [
      "605514 values inserted into table SCHEDULE_RCEI\n"
     ]
    },
    {
     "name": "stderr",
     "output_type": "stream",
     "text": [
      "C:\\Users\\whill\\anaconda3\\lib\\site-packages\\snowflake\\snowpark\\session.py:1891: UserWarning: Pandas Dataframe has non-standard index of type <class 'pandas.core.indexes.numeric.Int64Index'> which will not be written. Consider changing the index to pd.RangeIndex(start=0,...,step=1) or call reset_index() to keep index as column(s)\n",
      "  success, nchunks, nrows, ci_output = write_pandas(\n"
     ]
    },
    {
     "name": "stdout",
     "output_type": "stream",
     "text": [
      "605514 values inserted into table SCHEDULE_RCG\n"
     ]
    },
    {
     "name": "stderr",
     "output_type": "stream",
     "text": [
      "C:\\Users\\whill\\anaconda3\\lib\\site-packages\\snowflake\\snowpark\\session.py:1891: UserWarning: Pandas Dataframe has non-standard index of type <class 'pandas.core.indexes.numeric.Int64Index'> which will not be written. Consider changing the index to pd.RangeIndex(start=0,...,step=1) or call reset_index() to keep index as column(s)\n",
      "  success, nchunks, nrows, ci_output = write_pandas(\n"
     ]
    },
    {
     "name": "stdout",
     "output_type": "stream",
     "text": [
      "605514 values inserted into table SCHEDULE_RCL\n"
     ]
    },
    {
     "name": "stderr",
     "output_type": "stream",
     "text": [
      "C:\\Users\\whill\\anaconda3\\lib\\site-packages\\snowflake\\snowpark\\session.py:1891: UserWarning: Pandas Dataframe has non-standard index of type <class 'pandas.core.indexes.numeric.Int64Index'> which will not be written. Consider changing the index to pd.RangeIndex(start=0,...,step=1) or call reset_index() to keep index as column(s)\n",
      "  success, nchunks, nrows, ci_output = write_pandas(\n"
     ]
    },
    {
     "name": "stdout",
     "output_type": "stream",
     "text": [
      "605514 values inserted into table SCHEDULE_RCP\n"
     ]
    },
    {
     "name": "stderr",
     "output_type": "stream",
     "text": [
      "C:\\Users\\whill\\anaconda3\\lib\\site-packages\\snowflake\\snowpark\\session.py:1891: UserWarning: Pandas Dataframe has non-standard index of type <class 'pandas.core.indexes.numeric.Int64Index'> which will not be written. Consider changing the index to pd.RangeIndex(start=0,...,step=1) or call reset_index() to keep index as column(s)\n",
      "  success, nchunks, nrows, ci_output = write_pandas(\n"
     ]
    },
    {
     "name": "stdout",
     "output_type": "stream",
     "text": [
      "605514 values inserted into table SCHEDULE_RIC\n"
     ]
    },
    {
     "name": "stderr",
     "output_type": "stream",
     "text": [
      "C:\\Users\\whill\\anaconda3\\lib\\site-packages\\snowflake\\snowpark\\session.py:1891: UserWarning: Pandas Dataframe has non-standard index of type <class 'pandas.core.indexes.numeric.Int64Index'> which will not be written. Consider changing the index to pd.RangeIndex(start=0,...,step=1) or call reset_index() to keep index as column(s)\n",
      "  success, nchunks, nrows, ci_output = write_pandas(\n"
     ]
    },
    {
     "name": "stdout",
     "output_type": "stream",
     "text": [
      "605514 values inserted into table SCHEDULE_RCH\n"
     ]
    },
    {
     "name": "stderr",
     "output_type": "stream",
     "text": [
      "C:\\Users\\whill\\anaconda3\\lib\\site-packages\\snowflake\\snowpark\\session.py:1891: UserWarning: Pandas Dataframe has non-standard index of type <class 'pandas.core.indexes.numeric.Int64Index'> which will not be written. Consider changing the index to pd.RangeIndex(start=0,...,step=1) or call reset_index() to keep index as column(s)\n",
      "  success, nchunks, nrows, ci_output = write_pandas(\n"
     ]
    },
    {
     "name": "stdout",
     "output_type": "stream",
     "text": [
      "605514 values inserted into table SCHEDULE_RCM\n"
     ]
    },
    {
     "name": "stderr",
     "output_type": "stream",
     "text": [
      "C:\\Users\\whill\\anaconda3\\lib\\site-packages\\snowflake\\snowpark\\session.py:1891: UserWarning: Pandas Dataframe has non-standard index of type <class 'pandas.core.indexes.numeric.Int64Index'> which will not be written. Consider changing the index to pd.RangeIndex(start=0,...,step=1) or call reset_index() to keep index as column(s)\n",
      "  success, nchunks, nrows, ci_output = write_pandas(\n"
     ]
    },
    {
     "name": "stdout",
     "output_type": "stream",
     "text": [
      "605514 values inserted into table SCHEDULE_RID\n"
     ]
    },
    {
     "name": "stderr",
     "output_type": "stream",
     "text": [
      "C:\\Users\\whill\\anaconda3\\lib\\site-packages\\snowflake\\snowpark\\session.py:1891: UserWarning: Pandas Dataframe has non-standard index of type <class 'pandas.core.indexes.numeric.Int64Index'> which will not be written. Consider changing the index to pd.RangeIndex(start=0,...,step=1) or call reset_index() to keep index as column(s)\n",
      "  success, nchunks, nrows, ci_output = write_pandas(\n"
     ]
    },
    {
     "name": "stdout",
     "output_type": "stream",
     "text": [
      "605514 values inserted into table SCHEDULE_RCT\n",
      "C:\\Users\\whill\\call-report-database\\Bulk_Files\\2019\\06_30\\FFIEC CDR Call Schedule CI 06302019.txt\n",
      "C:\\Users\\whill\\call-report-database\\Bulk_Files\\2019\\06_30\\FFIEC CDR Call Schedule ENT 06302019.txt\n",
      "C:\\Users\\whill\\call-report-database\\Bulk_Files\\2019\\06_30\\FFIEC CDR Call Schedule NARR 06302019.txt\n",
      "C:\\Users\\whill\\call-report-database\\Bulk_Files\\2019\\06_30\\FFIEC CDR Call Schedule RC 06302019.txt\n",
      "C:\\Users\\whill\\call-report-database\\Bulk_Files\\2019\\06_30\\FFIEC CDR Call Schedule RCA 06302019.txt\n",
      "C:\\Users\\whill\\call-report-database\\Bulk_Files\\2019\\06_30\\FFIEC CDR Call Schedule RCB 06302019(1 of 2).txt\n",
      "C:\\Users\\whill\\call-report-database\\Bulk_Files\\2019\\06_30\\FFIEC CDR Call Schedule RCB 06302019(2 of 2).txt\n",
      "C:\\Users\\whill\\call-report-database\\Bulk_Files\\2019\\06_30\\FFIEC CDR Call Schedule RCCI 06302019.txt\n",
      "C:\\Users\\whill\\call-report-database\\Bulk_Files\\2019\\06_30\\FFIEC CDR Call Schedule RCCII 06302019.txt\n",
      "C:\\Users\\whill\\call-report-database\\Bulk_Files\\2019\\06_30\\FFIEC CDR Call Schedule RCD 06302019.txt\n",
      "C:\\Users\\whill\\call-report-database\\Bulk_Files\\2019\\06_30\\FFIEC CDR Call Schedule RCE 06302019.txt\n",
      "C:\\Users\\whill\\call-report-database\\Bulk_Files\\2019\\06_30\\FFIEC CDR Call Schedule RCEI 06302019.txt\n",
      "C:\\Users\\whill\\call-report-database\\Bulk_Files\\2019\\06_30\\FFIEC CDR Call Schedule RCEII 06302019.txt\n",
      "C:\\Users\\whill\\call-report-database\\Bulk_Files\\2019\\06_30\\FFIEC CDR Call Schedule RCF 06302019.txt\n",
      "C:\\Users\\whill\\call-report-database\\Bulk_Files\\2019\\06_30\\FFIEC CDR Call Schedule RCG 06302019.txt\n",
      "C:\\Users\\whill\\call-report-database\\Bulk_Files\\2019\\06_30\\FFIEC CDR Call Schedule RCH 06302019.txt\n",
      "C:\\Users\\whill\\call-report-database\\Bulk_Files\\2019\\06_30\\FFIEC CDR Call Schedule RCI 06302019.txt\n",
      "C:\\Users\\whill\\call-report-database\\Bulk_Files\\2019\\06_30\\FFIEC CDR Call Schedule RCK 06302019.txt\n",
      "C:\\Users\\whill\\call-report-database\\Bulk_Files\\2019\\06_30\\FFIEC CDR Call Schedule RCL 06302019(1 of 2).txt\n",
      "C:\\Users\\whill\\call-report-database\\Bulk_Files\\2019\\06_30\\FFIEC CDR Call Schedule RCL 06302019(2 of 2).txt\n",
      "C:\\Users\\whill\\call-report-database\\Bulk_Files\\2019\\06_30\\FFIEC CDR Call Schedule RCM 06302019.txt\n",
      "C:\\Users\\whill\\call-report-database\\Bulk_Files\\2019\\06_30\\FFIEC CDR Call Schedule RCN 06302019(1 of 2).txt\n",
      "C:\\Users\\whill\\call-report-database\\Bulk_Files\\2019\\06_30\\FFIEC CDR Call Schedule RCN 06302019(2 of 2).txt\n",
      "C:\\Users\\whill\\call-report-database\\Bulk_Files\\2019\\06_30\\FFIEC CDR Call Schedule RCO 06302019(1 of 2).txt\n",
      "C:\\Users\\whill\\call-report-database\\Bulk_Files\\2019\\06_30\\FFIEC CDR Call Schedule RCO 06302019(2 of 2).txt\n",
      "C:\\Users\\whill\\call-report-database\\Bulk_Files\\2019\\06_30\\FFIEC CDR Call Schedule RCP 06302019.txt\n",
      "C:\\Users\\whill\\call-report-database\\Bulk_Files\\2019\\06_30\\FFIEC CDR Call Schedule RCQ 06302019(1 of 2).txt\n",
      "C:\\Users\\whill\\call-report-database\\Bulk_Files\\2019\\06_30\\FFIEC CDR Call Schedule RCQ 06302019(2 of 2).txt\n",
      "C:\\Users\\whill\\call-report-database\\Bulk_Files\\2019\\06_30\\FFIEC CDR Call Schedule RCRI 06302019.txt\n",
      "C:\\Users\\whill\\call-report-database\\Bulk_Files\\2019\\06_30\\FFIEC CDR Call Schedule RCRII 06302019(1 of 4).txt\n",
      "C:\\Users\\whill\\call-report-database\\Bulk_Files\\2019\\06_30\\FFIEC CDR Call Schedule RCRII 06302019(2 of 4).txt\n",
      "C:\\Users\\whill\\call-report-database\\Bulk_Files\\2019\\06_30\\FFIEC CDR Call Schedule RCRII 06302019(3 of 4).txt\n",
      "C:\\Users\\whill\\call-report-database\\Bulk_Files\\2019\\06_30\\FFIEC CDR Call Schedule RCRII 06302019(4 of 4).txt\n",
      "C:\\Users\\whill\\call-report-database\\Bulk_Files\\2019\\06_30\\FFIEC CDR Call Schedule RCS 06302019.txt\n",
      "C:\\Users\\whill\\call-report-database\\Bulk_Files\\2019\\06_30\\FFIEC CDR Call Schedule RCT 06302019(1 of 2).txt\n",
      "C:\\Users\\whill\\call-report-database\\Bulk_Files\\2019\\06_30\\FFIEC CDR Call Schedule RCT 06302019(2 of 2).txt\n",
      "C:\\Users\\whill\\call-report-database\\Bulk_Files\\2019\\06_30\\FFIEC CDR Call Schedule RCV 06302019.txt\n",
      "C:\\Users\\whill\\call-report-database\\Bulk_Files\\2019\\06_30\\FFIEC CDR Call Schedule RI 06302019.txt\n",
      "C:\\Users\\whill\\call-report-database\\Bulk_Files\\2019\\06_30\\FFIEC CDR Call Schedule RIA 06302019.txt\n",
      "C:\\Users\\whill\\call-report-database\\Bulk_Files\\2019\\06_30\\FFIEC CDR Call Schedule RIBI 06302019.txt\n",
      "C:\\Users\\whill\\call-report-database\\Bulk_Files\\2019\\06_30\\FFIEC CDR Call Schedule RIBII 06302019.txt\n",
      "C:\\Users\\whill\\call-report-database\\Bulk_Files\\2019\\06_30\\FFIEC CDR Call Schedule RICI 06302019.txt\n",
      "C:\\Users\\whill\\call-report-database\\Bulk_Files\\2019\\06_30\\FFIEC CDR Call Schedule RICII 06302019.txt\n",
      "C:\\Users\\whill\\call-report-database\\Bulk_Files\\2019\\06_30\\FFIEC CDR Call Schedule RID 06302019.txt\n"
     ]
    },
    {
     "name": "stderr",
     "output_type": "stream",
     "text": [
      "Skipping line 2394: '\t' expected after '\"'\n"
     ]
    },
    {
     "name": "stdout",
     "output_type": "stream",
     "text": [
      "C:\\Users\\whill\\call-report-database\\Bulk_Files\\2019\\06_30\\FFIEC CDR Call Schedule RIE 06302019.txt\n",
      "C:\\Users\\whill\\call-report-database\\Bulk_Files\\2019\\06_30\\FFIEC CDR Call Schedule SU 06302019.txt\n"
     ]
    },
    {
     "name": "stderr",
     "output_type": "stream",
     "text": [
      "C:\\Users\\whill\\anaconda3\\lib\\site-packages\\snowflake\\snowpark\\session.py:1891: UserWarning: Pandas Dataframe has non-standard index of type <class 'pandas.core.indexes.numeric.Int64Index'> which will not be written. Consider changing the index to pd.RangeIndex(start=0,...,step=1) or call reset_index() to keep index as column(s)\n",
      "  success, nchunks, nrows, ci_output = write_pandas(\n"
     ]
    },
    {
     "name": "stdout",
     "output_type": "stream",
     "text": [
      "610866 values inserted into table SCHEDULE_ENT\n"
     ]
    },
    {
     "name": "stderr",
     "output_type": "stream",
     "text": [
      "C:\\Users\\whill\\anaconda3\\lib\\site-packages\\snowflake\\snowpark\\session.py:1891: UserWarning: Pandas Dataframe has non-standard index of type <class 'pandas.core.indexes.numeric.Int64Index'> which will not be written. Consider changing the index to pd.RangeIndex(start=0,...,step=1) or call reset_index() to keep index as column(s)\n",
      "  success, nchunks, nrows, ci_output = write_pandas(\n"
     ]
    },
    {
     "name": "stdout",
     "output_type": "stream",
     "text": [
      "610866 values inserted into table SCHEDULE_RCB\n"
     ]
    },
    {
     "name": "stderr",
     "output_type": "stream",
     "text": [
      "C:\\Users\\whill\\anaconda3\\lib\\site-packages\\snowflake\\snowpark\\session.py:1891: UserWarning: Pandas Dataframe has non-standard index of type <class 'pandas.core.indexes.numeric.Int64Index'> which will not be written. Consider changing the index to pd.RangeIndex(start=0,...,step=1) or call reset_index() to keep index as column(s)\n",
      "  success, nchunks, nrows, ci_output = write_pandas(\n"
     ]
    },
    {
     "name": "stdout",
     "output_type": "stream",
     "text": [
      "610866 values inserted into table SCHEDULE_RCG\n"
     ]
    },
    {
     "name": "stderr",
     "output_type": "stream",
     "text": [
      "C:\\Users\\whill\\anaconda3\\lib\\site-packages\\snowflake\\snowpark\\session.py:1891: UserWarning: Pandas Dataframe has non-standard index of type <class 'pandas.core.indexes.numeric.Int64Index'> which will not be written. Consider changing the index to pd.RangeIndex(start=0,...,step=1) or call reset_index() to keep index as column(s)\n",
      "  success, nchunks, nrows, ci_output = write_pandas(\n"
     ]
    },
    {
     "name": "stdout",
     "output_type": "stream",
     "text": [
      "610866 values inserted into table SCHEDULE_RIE\n"
     ]
    },
    {
     "name": "stderr",
     "output_type": "stream",
     "text": [
      "C:\\Users\\whill\\anaconda3\\lib\\site-packages\\snowflake\\snowpark\\session.py:1891: UserWarning: Pandas Dataframe has non-standard index of type <class 'pandas.core.indexes.numeric.Int64Index'> which will not be written. Consider changing the index to pd.RangeIndex(start=0,...,step=1) or call reset_index() to keep index as column(s)\n",
      "  success, nchunks, nrows, ci_output = write_pandas(\n"
     ]
    },
    {
     "name": "stdout",
     "output_type": "stream",
     "text": [
      "610866 values inserted into table SCHEDULE_RCF\n"
     ]
    },
    {
     "name": "stderr",
     "output_type": "stream",
     "text": [
      "C:\\Users\\whill\\anaconda3\\lib\\site-packages\\snowflake\\snowpark\\session.py:1891: UserWarning: Pandas Dataframe has non-standard index of type <class 'pandas.core.indexes.numeric.Int64Index'> which will not be written. Consider changing the index to pd.RangeIndex(start=0,...,step=1) or call reset_index() to keep index as column(s)\n",
      "  success, nchunks, nrows, ci_output = write_pandas(\n"
     ]
    },
    {
     "name": "stdout",
     "output_type": "stream",
     "text": [
      "610866 values inserted into table SCHEDULE_RICII\n"
     ]
    },
    {
     "name": "stderr",
     "output_type": "stream",
     "text": [
      "C:\\Users\\whill\\anaconda3\\lib\\site-packages\\snowflake\\snowpark\\session.py:1891: UserWarning: Pandas Dataframe has non-standard index of type <class 'pandas.core.indexes.numeric.Int64Index'> which will not be written. Consider changing the index to pd.RangeIndex(start=0,...,step=1) or call reset_index() to keep index as column(s)\n",
      "  success, nchunks, nrows, ci_output = write_pandas(\n"
     ]
    },
    {
     "name": "stdout",
     "output_type": "stream",
     "text": [
      "610866 values inserted into table SCHEDULE_SU\n"
     ]
    },
    {
     "name": "stderr",
     "output_type": "stream",
     "text": [
      "C:\\Users\\whill\\anaconda3\\lib\\site-packages\\snowflake\\snowpark\\session.py:1891: UserWarning: Pandas Dataframe has non-standard index of type <class 'pandas.core.indexes.numeric.Int64Index'> which will not be written. Consider changing the index to pd.RangeIndex(start=0,...,step=1) or call reset_index() to keep index as column(s)\n",
      "  success, nchunks, nrows, ci_output = write_pandas(\n"
     ]
    },
    {
     "name": "stdout",
     "output_type": "stream",
     "text": [
      "610866 values inserted into table SCHEDULE_NARR\n"
     ]
    },
    {
     "name": "stderr",
     "output_type": "stream",
     "text": [
      "C:\\Users\\whill\\anaconda3\\lib\\site-packages\\snowflake\\snowpark\\session.py:1891: UserWarning: Pandas Dataframe has non-standard index of type <class 'pandas.core.indexes.numeric.Int64Index'> which will not be written. Consider changing the index to pd.RangeIndex(start=0,...,step=1) or call reset_index() to keep index as column(s)\n",
      "  success, nchunks, nrows, ci_output = write_pandas(\n"
     ]
    },
    {
     "name": "stdout",
     "output_type": "stream",
     "text": [
      "610866 values inserted into table SCHEDULE_RCEII\n"
     ]
    },
    {
     "name": "stderr",
     "output_type": "stream",
     "text": [
      "C:\\Users\\whill\\anaconda3\\lib\\site-packages\\snowflake\\snowpark\\session.py:1891: UserWarning: Pandas Dataframe has non-standard index of type <class 'pandas.core.indexes.numeric.Int64Index'> which will not be written. Consider changing the index to pd.RangeIndex(start=0,...,step=1) or call reset_index() to keep index as column(s)\n",
      "  success, nchunks, nrows, ci_output = write_pandas(\n"
     ]
    },
    {
     "name": "stdout",
     "output_type": "stream",
     "text": [
      "610866 values inserted into table SCHEDULE_RCH\n"
     ]
    },
    {
     "name": "stderr",
     "output_type": "stream",
     "text": [
      "C:\\Users\\whill\\anaconda3\\lib\\site-packages\\snowflake\\snowpark\\session.py:1891: UserWarning: Pandas Dataframe has non-standard index of type <class 'pandas.core.indexes.numeric.Int64Index'> which will not be written. Consider changing the index to pd.RangeIndex(start=0,...,step=1) or call reset_index() to keep index as column(s)\n",
      "  success, nchunks, nrows, ci_output = write_pandas(\n"
     ]
    },
    {
     "name": "stdout",
     "output_type": "stream",
     "text": [
      "610866 values inserted into table SCHEDULE_RCK\n"
     ]
    },
    {
     "name": "stderr",
     "output_type": "stream",
     "text": [
      "C:\\Users\\whill\\anaconda3\\lib\\site-packages\\snowflake\\snowpark\\session.py:1891: UserWarning: Pandas Dataframe has non-standard index of type <class 'pandas.core.indexes.numeric.Int64Index'> which will not be written. Consider changing the index to pd.RangeIndex(start=0,...,step=1) or call reset_index() to keep index as column(s)\n",
      "  success, nchunks, nrows, ci_output = write_pandas(\n"
     ]
    },
    {
     "name": "stdout",
     "output_type": "stream",
     "text": [
      "610866 values inserted into table SCHEDULE_RCM\n"
     ]
    },
    {
     "name": "stderr",
     "output_type": "stream",
     "text": [
      "C:\\Users\\whill\\anaconda3\\lib\\site-packages\\snowflake\\snowpark\\session.py:1891: UserWarning: Pandas Dataframe has non-standard index of type <class 'pandas.core.indexes.numeric.Int64Index'> which will not be written. Consider changing the index to pd.RangeIndex(start=0,...,step=1) or call reset_index() to keep index as column(s)\n",
      "  success, nchunks, nrows, ci_output = write_pandas(\n"
     ]
    },
    {
     "name": "stdout",
     "output_type": "stream",
     "text": [
      "610866 values inserted into table SCHEDULE_RCR\n"
     ]
    },
    {
     "name": "stderr",
     "output_type": "stream",
     "text": [
      "C:\\Users\\whill\\anaconda3\\lib\\site-packages\\snowflake\\snowpark\\session.py:1891: UserWarning: Pandas Dataframe has non-standard index of type <class 'pandas.core.indexes.numeric.Int64Index'> which will not be written. Consider changing the index to pd.RangeIndex(start=0,...,step=1) or call reset_index() to keep index as column(s)\n",
      "  success, nchunks, nrows, ci_output = write_pandas(\n"
     ]
    },
    {
     "name": "stdout",
     "output_type": "stream",
     "text": [
      "610866 values inserted into table SCHEDULE_RCRII\n"
     ]
    },
    {
     "name": "stderr",
     "output_type": "stream",
     "text": [
      "C:\\Users\\whill\\anaconda3\\lib\\site-packages\\snowflake\\snowpark\\session.py:1891: UserWarning: Pandas Dataframe has non-standard index of type <class 'pandas.core.indexes.numeric.Int64Index'> which will not be written. Consider changing the index to pd.RangeIndex(start=0,...,step=1) or call reset_index() to keep index as column(s)\n",
      "  success, nchunks, nrows, ci_output = write_pandas(\n"
     ]
    },
    {
     "name": "stdout",
     "output_type": "stream",
     "text": [
      "610866 values inserted into table SCHEDULE_RCV\n"
     ]
    },
    {
     "name": "stderr",
     "output_type": "stream",
     "text": [
      "C:\\Users\\whill\\anaconda3\\lib\\site-packages\\snowflake\\snowpark\\session.py:1891: UserWarning: Pandas Dataframe has non-standard index of type <class 'pandas.core.indexes.numeric.Int64Index'> which will not be written. Consider changing the index to pd.RangeIndex(start=0,...,step=1) or call reset_index() to keep index as column(s)\n",
      "  success, nchunks, nrows, ci_output = write_pandas(\n"
     ]
    },
    {
     "name": "stdout",
     "output_type": "stream",
     "text": [
      "610866 values inserted into table SCHEDULE_RIC\n"
     ]
    },
    {
     "name": "stderr",
     "output_type": "stream",
     "text": [
      "C:\\Users\\whill\\anaconda3\\lib\\site-packages\\snowflake\\snowpark\\session.py:1891: UserWarning: Pandas Dataframe has non-standard index of type <class 'pandas.core.indexes.numeric.Int64Index'> which will not be written. Consider changing the index to pd.RangeIndex(start=0,...,step=1) or call reset_index() to keep index as column(s)\n",
      "  success, nchunks, nrows, ci_output = write_pandas(\n"
     ]
    },
    {
     "name": "stdout",
     "output_type": "stream",
     "text": [
      "610866 values inserted into table SCHEDULE_UNDEFINED\n"
     ]
    },
    {
     "name": "stderr",
     "output_type": "stream",
     "text": [
      "C:\\Users\\whill\\anaconda3\\lib\\site-packages\\snowflake\\snowpark\\session.py:1891: UserWarning: Pandas Dataframe has non-standard index of type <class 'pandas.core.indexes.numeric.Int64Index'> which will not be written. Consider changing the index to pd.RangeIndex(start=0,...,step=1) or call reset_index() to keep index as column(s)\n",
      "  success, nchunks, nrows, ci_output = write_pandas(\n"
     ]
    },
    {
     "name": "stdout",
     "output_type": "stream",
     "text": [
      "610866 values inserted into table SCHEDULE_RI\n"
     ]
    },
    {
     "name": "stderr",
     "output_type": "stream",
     "text": [
      "C:\\Users\\whill\\anaconda3\\lib\\site-packages\\snowflake\\snowpark\\session.py:1891: UserWarning: Pandas Dataframe has non-standard index of type <class 'pandas.core.indexes.numeric.Int64Index'> which will not be written. Consider changing the index to pd.RangeIndex(start=0,...,step=1) or call reset_index() to keep index as column(s)\n",
      "  success, nchunks, nrows, ci_output = write_pandas(\n"
     ]
    },
    {
     "name": "stdout",
     "output_type": "stream",
     "text": [
      "610866 values inserted into table SCHEDULE_LEO\n"
     ]
    },
    {
     "name": "stderr",
     "output_type": "stream",
     "text": [
      "C:\\Users\\whill\\anaconda3\\lib\\site-packages\\snowflake\\snowpark\\session.py:1891: UserWarning: Pandas Dataframe has non-standard index of type <class 'pandas.core.indexes.numeric.Int64Index'> which will not be written. Consider changing the index to pd.RangeIndex(start=0,...,step=1) or call reset_index() to keep index as column(s)\n",
      "  success, nchunks, nrows, ci_output = write_pandas(\n"
     ]
    },
    {
     "name": "stdout",
     "output_type": "stream",
     "text": [
      "610866 values inserted into table SCHEDULE_RC\n"
     ]
    },
    {
     "name": "stderr",
     "output_type": "stream",
     "text": [
      "C:\\Users\\whill\\anaconda3\\lib\\site-packages\\snowflake\\snowpark\\session.py:1891: UserWarning: Pandas Dataframe has non-standard index of type <class 'pandas.core.indexes.numeric.Int64Index'> which will not be written. Consider changing the index to pd.RangeIndex(start=0,...,step=1) or call reset_index() to keep index as column(s)\n",
      "  success, nchunks, nrows, ci_output = write_pandas(\n"
     ]
    },
    {
     "name": "stdout",
     "output_type": "stream",
     "text": [
      "610866 values inserted into table SCHEDULE_RCA\n"
     ]
    },
    {
     "name": "stderr",
     "output_type": "stream",
     "text": [
      "C:\\Users\\whill\\anaconda3\\lib\\site-packages\\snowflake\\snowpark\\session.py:1891: UserWarning: Pandas Dataframe has non-standard index of type <class 'pandas.core.indexes.numeric.Int64Index'> which will not be written. Consider changing the index to pd.RangeIndex(start=0,...,step=1) or call reset_index() to keep index as column(s)\n",
      "  success, nchunks, nrows, ci_output = write_pandas(\n"
     ]
    },
    {
     "name": "stdout",
     "output_type": "stream",
     "text": [
      "610866 values inserted into table SCHEDULE_RCCII\n"
     ]
    },
    {
     "name": "stderr",
     "output_type": "stream",
     "text": [
      "C:\\Users\\whill\\anaconda3\\lib\\site-packages\\snowflake\\snowpark\\session.py:1891: UserWarning: Pandas Dataframe has non-standard index of type <class 'pandas.core.indexes.numeric.Int64Index'> which will not be written. Consider changing the index to pd.RangeIndex(start=0,...,step=1) or call reset_index() to keep index as column(s)\n",
      "  success, nchunks, nrows, ci_output = write_pandas(\n"
     ]
    },
    {
     "name": "stdout",
     "output_type": "stream",
     "text": [
      "610866 values inserted into table SCHEDULE_RCD\n"
     ]
    },
    {
     "name": "stderr",
     "output_type": "stream",
     "text": [
      "C:\\Users\\whill\\anaconda3\\lib\\site-packages\\snowflake\\snowpark\\session.py:1891: UserWarning: Pandas Dataframe has non-standard index of type <class 'pandas.core.indexes.numeric.Int64Index'> which will not be written. Consider changing the index to pd.RangeIndex(start=0,...,step=1) or call reset_index() to keep index as column(s)\n",
      "  success, nchunks, nrows, ci_output = write_pandas(\n"
     ]
    },
    {
     "name": "stdout",
     "output_type": "stream",
     "text": [
      "610866 values inserted into table SCHEDULE_RCE\n"
     ]
    },
    {
     "name": "stderr",
     "output_type": "stream",
     "text": [
      "C:\\Users\\whill\\anaconda3\\lib\\site-packages\\snowflake\\snowpark\\session.py:1891: UserWarning: Pandas Dataframe has non-standard index of type <class 'pandas.core.indexes.numeric.Int64Index'> which will not be written. Consider changing the index to pd.RangeIndex(start=0,...,step=1) or call reset_index() to keep index as column(s)\n",
      "  success, nchunks, nrows, ci_output = write_pandas(\n"
     ]
    },
    {
     "name": "stdout",
     "output_type": "stream",
     "text": [
      "610866 values inserted into table SCHEDULE_RCI\n"
     ]
    },
    {
     "name": "stderr",
     "output_type": "stream",
     "text": [
      "C:\\Users\\whill\\anaconda3\\lib\\site-packages\\snowflake\\snowpark\\session.py:1891: UserWarning: Pandas Dataframe has non-standard index of type <class 'pandas.core.indexes.numeric.Int64Index'> which will not be written. Consider changing the index to pd.RangeIndex(start=0,...,step=1) or call reset_index() to keep index as column(s)\n",
      "  success, nchunks, nrows, ci_output = write_pandas(\n"
     ]
    },
    {
     "name": "stdout",
     "output_type": "stream",
     "text": [
      "610866 values inserted into table SCHEDULE_RCL\n"
     ]
    },
    {
     "name": "stderr",
     "output_type": "stream",
     "text": [
      "C:\\Users\\whill\\anaconda3\\lib\\site-packages\\snowflake\\snowpark\\session.py:1891: UserWarning: Pandas Dataframe has non-standard index of type <class 'pandas.core.indexes.numeric.Int64Index'> which will not be written. Consider changing the index to pd.RangeIndex(start=0,...,step=1) or call reset_index() to keep index as column(s)\n",
      "  success, nchunks, nrows, ci_output = write_pandas(\n"
     ]
    },
    {
     "name": "stdout",
     "output_type": "stream",
     "text": [
      "610866 values inserted into table SCHEDULE_RCN\n"
     ]
    },
    {
     "name": "stderr",
     "output_type": "stream",
     "text": [
      "C:\\Users\\whill\\anaconda3\\lib\\site-packages\\snowflake\\snowpark\\session.py:1891: UserWarning: Pandas Dataframe has non-standard index of type <class 'pandas.core.indexes.numeric.Int64Index'> which will not be written. Consider changing the index to pd.RangeIndex(start=0,...,step=1) or call reset_index() to keep index as column(s)\n",
      "  success, nchunks, nrows, ci_output = write_pandas(\n"
     ]
    },
    {
     "name": "stdout",
     "output_type": "stream",
     "text": [
      "Error in table SCHEDULE_RCRI: 100071 (22000): Failed to cast variant value \"9.9331%\" to REAL\n"
     ]
    },
    {
     "name": "stderr",
     "output_type": "stream",
     "text": [
      "C:\\Users\\whill\\anaconda3\\lib\\site-packages\\snowflake\\snowpark\\session.py:1891: UserWarning: Pandas Dataframe has non-standard index of type <class 'pandas.core.indexes.numeric.Int64Index'> which will not be written. Consider changing the index to pd.RangeIndex(start=0,...,step=1) or call reset_index() to keep index as column(s)\n",
      "  success, nchunks, nrows, ci_output = write_pandas(\n"
     ]
    },
    {
     "name": "stdout",
     "output_type": "stream",
     "text": [
      "610866 values inserted into table SCHEDULE_RCS\n"
     ]
    },
    {
     "name": "stderr",
     "output_type": "stream",
     "text": [
      "C:\\Users\\whill\\anaconda3\\lib\\site-packages\\snowflake\\snowpark\\session.py:1891: UserWarning: Pandas Dataframe has non-standard index of type <class 'pandas.core.indexes.numeric.Int64Index'> which will not be written. Consider changing the index to pd.RangeIndex(start=0,...,step=1) or call reset_index() to keep index as column(s)\n",
      "  success, nchunks, nrows, ci_output = write_pandas(\n"
     ]
    },
    {
     "name": "stdout",
     "output_type": "stream",
     "text": [
      "610866 values inserted into table SCHEDULE_RCT\n"
     ]
    },
    {
     "name": "stderr",
     "output_type": "stream",
     "text": [
      "C:\\Users\\whill\\anaconda3\\lib\\site-packages\\snowflake\\snowpark\\session.py:1891: UserWarning: Pandas Dataframe has non-standard index of type <class 'pandas.core.indexes.numeric.Int64Index'> which will not be written. Consider changing the index to pd.RangeIndex(start=0,...,step=1) or call reset_index() to keep index as column(s)\n",
      "  success, nchunks, nrows, ci_output = write_pandas(\n"
     ]
    },
    {
     "name": "stdout",
     "output_type": "stream",
     "text": [
      "610866 values inserted into table SCHEDULE_RIBII\n"
     ]
    },
    {
     "name": "stderr",
     "output_type": "stream",
     "text": [
      "C:\\Users\\whill\\anaconda3\\lib\\site-packages\\snowflake\\snowpark\\session.py:1891: UserWarning: Pandas Dataframe has non-standard index of type <class 'pandas.core.indexes.numeric.Int64Index'> which will not be written. Consider changing the index to pd.RangeIndex(start=0,...,step=1) or call reset_index() to keep index as column(s)\n",
      "  success, nchunks, nrows, ci_output = write_pandas(\n"
     ]
    },
    {
     "name": "stdout",
     "output_type": "stream",
     "text": [
      "610866 values inserted into table SCHEDULE_RCO\n"
     ]
    },
    {
     "name": "stderr",
     "output_type": "stream",
     "text": [
      "C:\\Users\\whill\\anaconda3\\lib\\site-packages\\snowflake\\snowpark\\session.py:1891: UserWarning: Pandas Dataframe has non-standard index of type <class 'pandas.core.indexes.numeric.Int64Index'> which will not be written. Consider changing the index to pd.RangeIndex(start=0,...,step=1) or call reset_index() to keep index as column(s)\n",
      "  success, nchunks, nrows, ci_output = write_pandas(\n"
     ]
    },
    {
     "name": "stdout",
     "output_type": "stream",
     "text": [
      "610866 values inserted into table SCHEDULE_RCEI\n"
     ]
    },
    {
     "name": "stderr",
     "output_type": "stream",
     "text": [
      "C:\\Users\\whill\\anaconda3\\lib\\site-packages\\snowflake\\snowpark\\session.py:1891: UserWarning: Pandas Dataframe has non-standard index of type <class 'pandas.core.indexes.numeric.Int64Index'> which will not be written. Consider changing the index to pd.RangeIndex(start=0,...,step=1) or call reset_index() to keep index as column(s)\n",
      "  success, nchunks, nrows, ci_output = write_pandas(\n"
     ]
    },
    {
     "name": "stdout",
     "output_type": "stream",
     "text": [
      "610866 values inserted into table SCHEDULE_RCP\n"
     ]
    },
    {
     "name": "stderr",
     "output_type": "stream",
     "text": [
      "C:\\Users\\whill\\anaconda3\\lib\\site-packages\\snowflake\\snowpark\\session.py:1891: UserWarning: Pandas Dataframe has non-standard index of type <class 'pandas.core.indexes.numeric.Int64Index'> which will not be written. Consider changing the index to pd.RangeIndex(start=0,...,step=1) or call reset_index() to keep index as column(s)\n",
      "  success, nchunks, nrows, ci_output = write_pandas(\n"
     ]
    },
    {
     "name": "stdout",
     "output_type": "stream",
     "text": [
      "610866 values inserted into table SCHEDULE_RCQ\n"
     ]
    },
    {
     "name": "stderr",
     "output_type": "stream",
     "text": [
      "C:\\Users\\whill\\anaconda3\\lib\\site-packages\\snowflake\\snowpark\\session.py:1891: UserWarning: Pandas Dataframe has non-standard index of type <class 'pandas.core.indexes.numeric.Int64Index'> which will not be written. Consider changing the index to pd.RangeIndex(start=0,...,step=1) or call reset_index() to keep index as column(s)\n",
      "  success, nchunks, nrows, ci_output = write_pandas(\n"
     ]
    },
    {
     "name": "stdout",
     "output_type": "stream",
     "text": [
      "610866 values inserted into table SCHEDULE_RIA\n"
     ]
    },
    {
     "name": "stderr",
     "output_type": "stream",
     "text": [
      "C:\\Users\\whill\\anaconda3\\lib\\site-packages\\snowflake\\snowpark\\session.py:1891: UserWarning: Pandas Dataframe has non-standard index of type <class 'pandas.core.indexes.numeric.Int64Index'> which will not be written. Consider changing the index to pd.RangeIndex(start=0,...,step=1) or call reset_index() to keep index as column(s)\n",
      "  success, nchunks, nrows, ci_output = write_pandas(\n"
     ]
    },
    {
     "name": "stdout",
     "output_type": "stream",
     "text": [
      "610866 values inserted into table SCHEDULE_RCCI\n"
     ]
    },
    {
     "name": "stderr",
     "output_type": "stream",
     "text": [
      "C:\\Users\\whill\\anaconda3\\lib\\site-packages\\snowflake\\snowpark\\session.py:1891: UserWarning: Pandas Dataframe has non-standard index of type <class 'pandas.core.indexes.numeric.Int64Index'> which will not be written. Consider changing the index to pd.RangeIndex(start=0,...,step=1) or call reset_index() to keep index as column(s)\n",
      "  success, nchunks, nrows, ci_output = write_pandas(\n"
     ]
    },
    {
     "name": "stdout",
     "output_type": "stream",
     "text": [
      "610866 values inserted into table SCHEDULE_RIBI\n"
     ]
    },
    {
     "name": "stderr",
     "output_type": "stream",
     "text": [
      "C:\\Users\\whill\\anaconda3\\lib\\site-packages\\snowflake\\snowpark\\session.py:1891: UserWarning: Pandas Dataframe has non-standard index of type <class 'pandas.core.indexes.numeric.Int64Index'> which will not be written. Consider changing the index to pd.RangeIndex(start=0,...,step=1) or call reset_index() to keep index as column(s)\n",
      "  success, nchunks, nrows, ci_output = write_pandas(\n"
     ]
    },
    {
     "name": "stdout",
     "output_type": "stream",
     "text": [
      "610866 values inserted into table SCHEDULE_RICI\n"
     ]
    },
    {
     "name": "stderr",
     "output_type": "stream",
     "text": [
      "C:\\Users\\whill\\anaconda3\\lib\\site-packages\\snowflake\\snowpark\\session.py:1891: UserWarning: Pandas Dataframe has non-standard index of type <class 'pandas.core.indexes.numeric.Int64Index'> which will not be written. Consider changing the index to pd.RangeIndex(start=0,...,step=1) or call reset_index() to keep index as column(s)\n",
      "  success, nchunks, nrows, ci_output = write_pandas(\n"
     ]
    },
    {
     "name": "stdout",
     "output_type": "stream",
     "text": [
      "610866 values inserted into table SCHEDULE_RID\n",
      "C:\\Users\\whill\\call-report-database\\Bulk_Files\\2019\\09_30\\FFIEC CDR Call Schedule CI 09302019.txt\n",
      "C:\\Users\\whill\\call-report-database\\Bulk_Files\\2019\\09_30\\FFIEC CDR Call Schedule ENT 09302019.txt\n",
      "C:\\Users\\whill\\call-report-database\\Bulk_Files\\2019\\09_30\\FFIEC CDR Call Schedule NARR 09302019.txt\n",
      "C:\\Users\\whill\\call-report-database\\Bulk_Files\\2019\\09_30\\FFIEC CDR Call Schedule RC 09302019.txt\n",
      "C:\\Users\\whill\\call-report-database\\Bulk_Files\\2019\\09_30\\FFIEC CDR Call Schedule RCA 09302019.txt\n",
      "C:\\Users\\whill\\call-report-database\\Bulk_Files\\2019\\09_30\\FFIEC CDR Call Schedule RCB 09302019(1 of 2).txt\n",
      "C:\\Users\\whill\\call-report-database\\Bulk_Files\\2019\\09_30\\FFIEC CDR Call Schedule RCB 09302019(2 of 2).txt\n",
      "C:\\Users\\whill\\call-report-database\\Bulk_Files\\2019\\09_30\\FFIEC CDR Call Schedule RCCI 09302019.txt\n",
      "C:\\Users\\whill\\call-report-database\\Bulk_Files\\2019\\09_30\\FFIEC CDR Call Schedule RCCII 09302019.txt\n",
      "C:\\Users\\whill\\call-report-database\\Bulk_Files\\2019\\09_30\\FFIEC CDR Call Schedule RCD 09302019.txt\n",
      "C:\\Users\\whill\\call-report-database\\Bulk_Files\\2019\\09_30\\FFIEC CDR Call Schedule RCE 09302019.txt\n",
      "C:\\Users\\whill\\call-report-database\\Bulk_Files\\2019\\09_30\\FFIEC CDR Call Schedule RCEI 09302019.txt\n",
      "C:\\Users\\whill\\call-report-database\\Bulk_Files\\2019\\09_30\\FFIEC CDR Call Schedule RCEII 09302019.txt\n",
      "C:\\Users\\whill\\call-report-database\\Bulk_Files\\2019\\09_30\\FFIEC CDR Call Schedule RCF 09302019.txt\n",
      "C:\\Users\\whill\\call-report-database\\Bulk_Files\\2019\\09_30\\FFIEC CDR Call Schedule RCG 09302019.txt\n",
      "C:\\Users\\whill\\call-report-database\\Bulk_Files\\2019\\09_30\\FFIEC CDR Call Schedule RCH 09302019.txt\n",
      "C:\\Users\\whill\\call-report-database\\Bulk_Files\\2019\\09_30\\FFIEC CDR Call Schedule RCI 09302019.txt\n",
      "C:\\Users\\whill\\call-report-database\\Bulk_Files\\2019\\09_30\\FFIEC CDR Call Schedule RCK 09302019.txt\n",
      "C:\\Users\\whill\\call-report-database\\Bulk_Files\\2019\\09_30\\FFIEC CDR Call Schedule RCL 09302019(1 of 2).txt\n",
      "C:\\Users\\whill\\call-report-database\\Bulk_Files\\2019\\09_30\\FFIEC CDR Call Schedule RCL 09302019(2 of 2).txt\n",
      "C:\\Users\\whill\\call-report-database\\Bulk_Files\\2019\\09_30\\FFIEC CDR Call Schedule RCM 09302019.txt\n",
      "C:\\Users\\whill\\call-report-database\\Bulk_Files\\2019\\09_30\\FFIEC CDR Call Schedule RCN 09302019(1 of 2).txt\n",
      "C:\\Users\\whill\\call-report-database\\Bulk_Files\\2019\\09_30\\FFIEC CDR Call Schedule RCN 09302019(2 of 2).txt\n",
      "C:\\Users\\whill\\call-report-database\\Bulk_Files\\2019\\09_30\\FFIEC CDR Call Schedule RCO 09302019(1 of 2).txt\n",
      "C:\\Users\\whill\\call-report-database\\Bulk_Files\\2019\\09_30\\FFIEC CDR Call Schedule RCO 09302019(2 of 2).txt\n",
      "C:\\Users\\whill\\call-report-database\\Bulk_Files\\2019\\09_30\\FFIEC CDR Call Schedule RCP 09302019.txt\n",
      "C:\\Users\\whill\\call-report-database\\Bulk_Files\\2019\\09_30\\FFIEC CDR Call Schedule RCQ 09302019(1 of 2).txt\n",
      "C:\\Users\\whill\\call-report-database\\Bulk_Files\\2019\\09_30\\FFIEC CDR Call Schedule RCQ 09302019(2 of 2).txt\n",
      "C:\\Users\\whill\\call-report-database\\Bulk_Files\\2019\\09_30\\FFIEC CDR Call Schedule RCRI 09302019.txt\n",
      "C:\\Users\\whill\\call-report-database\\Bulk_Files\\2019\\09_30\\FFIEC CDR Call Schedule RCRII 09302019(1 of 4).txt\n",
      "C:\\Users\\whill\\call-report-database\\Bulk_Files\\2019\\09_30\\FFIEC CDR Call Schedule RCRII 09302019(2 of 4).txt\n",
      "C:\\Users\\whill\\call-report-database\\Bulk_Files\\2019\\09_30\\FFIEC CDR Call Schedule RCRII 09302019(3 of 4).txt\n",
      "C:\\Users\\whill\\call-report-database\\Bulk_Files\\2019\\09_30\\FFIEC CDR Call Schedule RCRII 09302019(4 of 4).txt\n",
      "C:\\Users\\whill\\call-report-database\\Bulk_Files\\2019\\09_30\\FFIEC CDR Call Schedule RCS 09302019.txt\n",
      "C:\\Users\\whill\\call-report-database\\Bulk_Files\\2019\\09_30\\FFIEC CDR Call Schedule RCT 09302019(1 of 2).txt\n",
      "C:\\Users\\whill\\call-report-database\\Bulk_Files\\2019\\09_30\\FFIEC CDR Call Schedule RCT 09302019(2 of 2).txt\n",
      "C:\\Users\\whill\\call-report-database\\Bulk_Files\\2019\\09_30\\FFIEC CDR Call Schedule RCV 09302019.txt\n",
      "C:\\Users\\whill\\call-report-database\\Bulk_Files\\2019\\09_30\\FFIEC CDR Call Schedule RI 09302019.txt\n",
      "C:\\Users\\whill\\call-report-database\\Bulk_Files\\2019\\09_30\\FFIEC CDR Call Schedule RIA 09302019.txt\n",
      "C:\\Users\\whill\\call-report-database\\Bulk_Files\\2019\\09_30\\FFIEC CDR Call Schedule RIBI 09302019.txt\n",
      "C:\\Users\\whill\\call-report-database\\Bulk_Files\\2019\\09_30\\FFIEC CDR Call Schedule RIBII 09302019.txt\n",
      "C:\\Users\\whill\\call-report-database\\Bulk_Files\\2019\\09_30\\FFIEC CDR Call Schedule RIC 09302019.txt\n",
      "C:\\Users\\whill\\call-report-database\\Bulk_Files\\2019\\09_30\\FFIEC CDR Call Schedule RICI 09302019.txt\n",
      "C:\\Users\\whill\\call-report-database\\Bulk_Files\\2019\\09_30\\FFIEC CDR Call Schedule RICII 09302019.txt\n",
      "C:\\Users\\whill\\call-report-database\\Bulk_Files\\2019\\09_30\\FFIEC CDR Call Schedule RID 09302019.txt\n"
     ]
    },
    {
     "name": "stderr",
     "output_type": "stream",
     "text": [
      "Skipping line 2367: '\t' expected after '\"'\n"
     ]
    },
    {
     "name": "stdout",
     "output_type": "stream",
     "text": [
      "C:\\Users\\whill\\call-report-database\\Bulk_Files\\2019\\09_30\\FFIEC CDR Call Schedule RIE 09302019.txt\n",
      "C:\\Users\\whill\\call-report-database\\Bulk_Files\\2019\\09_30\\FFIEC CDR Call Schedule SU 09302019.txt\n"
     ]
    },
    {
     "name": "stderr",
     "output_type": "stream",
     "text": [
      "C:\\Users\\whill\\anaconda3\\lib\\site-packages\\snowflake\\snowpark\\session.py:1891: UserWarning: Pandas Dataframe has non-standard index of type <class 'pandas.core.indexes.numeric.Int64Index'> which will not be written. Consider changing the index to pd.RangeIndex(start=0,...,step=1) or call reset_index() to keep index as column(s)\n",
      "  success, nchunks, nrows, ci_output = write_pandas(\n"
     ]
    },
    {
     "name": "stdout",
     "output_type": "stream",
     "text": [
      "616174 values inserted into table SCHEDULE_LEO\n"
     ]
    },
    {
     "name": "stderr",
     "output_type": "stream",
     "text": [
      "C:\\Users\\whill\\anaconda3\\lib\\site-packages\\snowflake\\snowpark\\session.py:1891: UserWarning: Pandas Dataframe has non-standard index of type <class 'pandas.core.indexes.numeric.Int64Index'> which will not be written. Consider changing the index to pd.RangeIndex(start=0,...,step=1) or call reset_index() to keep index as column(s)\n",
      "  success, nchunks, nrows, ci_output = write_pandas(\n"
     ]
    },
    {
     "name": "stdout",
     "output_type": "stream",
     "text": [
      "616174 values inserted into table SCHEDULE_NARR\n"
     ]
    },
    {
     "name": "stderr",
     "output_type": "stream",
     "text": [
      "C:\\Users\\whill\\anaconda3\\lib\\site-packages\\snowflake\\snowpark\\session.py:1891: UserWarning: Pandas Dataframe has non-standard index of type <class 'pandas.core.indexes.numeric.Int64Index'> which will not be written. Consider changing the index to pd.RangeIndex(start=0,...,step=1) or call reset_index() to keep index as column(s)\n",
      "  success, nchunks, nrows, ci_output = write_pandas(\n"
     ]
    },
    {
     "name": "stdout",
     "output_type": "stream",
     "text": [
      "616174 values inserted into table SCHEDULE_RCB\n"
     ]
    },
    {
     "name": "stderr",
     "output_type": "stream",
     "text": [
      "C:\\Users\\whill\\anaconda3\\lib\\site-packages\\snowflake\\snowpark\\session.py:1891: UserWarning: Pandas Dataframe has non-standard index of type <class 'pandas.core.indexes.numeric.Int64Index'> which will not be written. Consider changing the index to pd.RangeIndex(start=0,...,step=1) or call reset_index() to keep index as column(s)\n",
      "  success, nchunks, nrows, ci_output = write_pandas(\n"
     ]
    },
    {
     "name": "stdout",
     "output_type": "stream",
     "text": [
      "616174 values inserted into table SCHEDULE_RCCI\n"
     ]
    },
    {
     "name": "stderr",
     "output_type": "stream",
     "text": [
      "C:\\Users\\whill\\anaconda3\\lib\\site-packages\\snowflake\\snowpark\\session.py:1891: UserWarning: Pandas Dataframe has non-standard index of type <class 'pandas.core.indexes.numeric.Int64Index'> which will not be written. Consider changing the index to pd.RangeIndex(start=0,...,step=1) or call reset_index() to keep index as column(s)\n",
      "  success, nchunks, nrows, ci_output = write_pandas(\n"
     ]
    },
    {
     "name": "stdout",
     "output_type": "stream",
     "text": [
      "616174 values inserted into table SCHEDULE_RCD\n"
     ]
    },
    {
     "name": "stderr",
     "output_type": "stream",
     "text": [
      "C:\\Users\\whill\\anaconda3\\lib\\site-packages\\snowflake\\snowpark\\session.py:1891: UserWarning: Pandas Dataframe has non-standard index of type <class 'pandas.core.indexes.numeric.Int64Index'> which will not be written. Consider changing the index to pd.RangeIndex(start=0,...,step=1) or call reset_index() to keep index as column(s)\n",
      "  success, nchunks, nrows, ci_output = write_pandas(\n"
     ]
    },
    {
     "name": "stdout",
     "output_type": "stream",
     "text": [
      "616174 values inserted into table SCHEDULE_RCE\n"
     ]
    },
    {
     "name": "stderr",
     "output_type": "stream",
     "text": [
      "C:\\Users\\whill\\anaconda3\\lib\\site-packages\\snowflake\\snowpark\\session.py:1891: UserWarning: Pandas Dataframe has non-standard index of type <class 'pandas.core.indexes.numeric.Int64Index'> which will not be written. Consider changing the index to pd.RangeIndex(start=0,...,step=1) or call reset_index() to keep index as column(s)\n",
      "  success, nchunks, nrows, ci_output = write_pandas(\n"
     ]
    },
    {
     "name": "stdout",
     "output_type": "stream",
     "text": [
      "616174 values inserted into table SCHEDULE_RCI\n"
     ]
    },
    {
     "name": "stderr",
     "output_type": "stream",
     "text": [
      "C:\\Users\\whill\\anaconda3\\lib\\site-packages\\snowflake\\snowpark\\session.py:1891: UserWarning: Pandas Dataframe has non-standard index of type <class 'pandas.core.indexes.numeric.Int64Index'> which will not be written. Consider changing the index to pd.RangeIndex(start=0,...,step=1) or call reset_index() to keep index as column(s)\n",
      "  success, nchunks, nrows, ci_output = write_pandas(\n"
     ]
    },
    {
     "name": "stdout",
     "output_type": "stream",
     "text": [
      "616174 values inserted into table SCHEDULE_RCN\n"
     ]
    },
    {
     "name": "stderr",
     "output_type": "stream",
     "text": [
      "C:\\Users\\whill\\anaconda3\\lib\\site-packages\\snowflake\\snowpark\\session.py:1891: UserWarning: Pandas Dataframe has non-standard index of type <class 'pandas.core.indexes.numeric.Int64Index'> which will not be written. Consider changing the index to pd.RangeIndex(start=0,...,step=1) or call reset_index() to keep index as column(s)\n",
      "  success, nchunks, nrows, ci_output = write_pandas(\n"
     ]
    },
    {
     "name": "stdout",
     "output_type": "stream",
     "text": [
      "616174 values inserted into table SCHEDULE_RID\n"
     ]
    },
    {
     "name": "stderr",
     "output_type": "stream",
     "text": [
      "C:\\Users\\whill\\anaconda3\\lib\\site-packages\\snowflake\\snowpark\\session.py:1891: UserWarning: Pandas Dataframe has non-standard index of type <class 'pandas.core.indexes.numeric.Int64Index'> which will not be written. Consider changing the index to pd.RangeIndex(start=0,...,step=1) or call reset_index() to keep index as column(s)\n",
      "  success, nchunks, nrows, ci_output = write_pandas(\n"
     ]
    },
    {
     "name": "stdout",
     "output_type": "stream",
     "text": [
      "616174 values inserted into table SCHEDULE_RCM\n"
     ]
    },
    {
     "name": "stderr",
     "output_type": "stream",
     "text": [
      "C:\\Users\\whill\\anaconda3\\lib\\site-packages\\snowflake\\snowpark\\session.py:1891: UserWarning: Pandas Dataframe has non-standard index of type <class 'pandas.core.indexes.numeric.Int64Index'> which will not be written. Consider changing the index to pd.RangeIndex(start=0,...,step=1) or call reset_index() to keep index as column(s)\n",
      "  success, nchunks, nrows, ci_output = write_pandas(\n"
     ]
    },
    {
     "name": "stdout",
     "output_type": "stream",
     "text": [
      "616174 values inserted into table SCHEDULE_RCS\n"
     ]
    },
    {
     "name": "stderr",
     "output_type": "stream",
     "text": [
      "C:\\Users\\whill\\anaconda3\\lib\\site-packages\\snowflake\\snowpark\\session.py:1891: UserWarning: Pandas Dataframe has non-standard index of type <class 'pandas.core.indexes.numeric.Int64Index'> which will not be written. Consider changing the index to pd.RangeIndex(start=0,...,step=1) or call reset_index() to keep index as column(s)\n",
      "  success, nchunks, nrows, ci_output = write_pandas(\n"
     ]
    },
    {
     "name": "stdout",
     "output_type": "stream",
     "text": [
      "616174 values inserted into table SCHEDULE_RCQ\n"
     ]
    },
    {
     "name": "stderr",
     "output_type": "stream",
     "text": [
      "C:\\Users\\whill\\anaconda3\\lib\\site-packages\\snowflake\\snowpark\\session.py:1891: UserWarning: Pandas Dataframe has non-standard index of type <class 'pandas.core.indexes.numeric.Int64Index'> which will not be written. Consider changing the index to pd.RangeIndex(start=0,...,step=1) or call reset_index() to keep index as column(s)\n",
      "  success, nchunks, nrows, ci_output = write_pandas(\n"
     ]
    },
    {
     "name": "stdout",
     "output_type": "stream",
     "text": [
      "616174 values inserted into table SCHEDULE_RCT\n"
     ]
    },
    {
     "name": "stderr",
     "output_type": "stream",
     "text": [
      "C:\\Users\\whill\\anaconda3\\lib\\site-packages\\snowflake\\snowpark\\session.py:1891: UserWarning: Pandas Dataframe has non-standard index of type <class 'pandas.core.indexes.numeric.Int64Index'> which will not be written. Consider changing the index to pd.RangeIndex(start=0,...,step=1) or call reset_index() to keep index as column(s)\n",
      "  success, nchunks, nrows, ci_output = write_pandas(\n"
     ]
    },
    {
     "name": "stdout",
     "output_type": "stream",
     "text": [
      "616174 values inserted into table SCHEDULE_RIE\n"
     ]
    },
    {
     "name": "stderr",
     "output_type": "stream",
     "text": [
      "C:\\Users\\whill\\anaconda3\\lib\\site-packages\\snowflake\\snowpark\\session.py:1891: UserWarning: Pandas Dataframe has non-standard index of type <class 'pandas.core.indexes.numeric.Int64Index'> which will not be written. Consider changing the index to pd.RangeIndex(start=0,...,step=1) or call reset_index() to keep index as column(s)\n",
      "  success, nchunks, nrows, ci_output = write_pandas(\n"
     ]
    },
    {
     "name": "stdout",
     "output_type": "stream",
     "text": [
      "616174 values inserted into table SCHEDULE_ENT\n"
     ]
    },
    {
     "name": "stderr",
     "output_type": "stream",
     "text": [
      "C:\\Users\\whill\\anaconda3\\lib\\site-packages\\snowflake\\snowpark\\session.py:1891: UserWarning: Pandas Dataframe has non-standard index of type <class 'pandas.core.indexes.numeric.Int64Index'> which will not be written. Consider changing the index to pd.RangeIndex(start=0,...,step=1) or call reset_index() to keep index as column(s)\n",
      "  success, nchunks, nrows, ci_output = write_pandas(\n"
     ]
    },
    {
     "name": "stdout",
     "output_type": "stream",
     "text": [
      "616174 values inserted into table SCHEDULE_RCA\n"
     ]
    },
    {
     "name": "stderr",
     "output_type": "stream",
     "text": [
      "C:\\Users\\whill\\anaconda3\\lib\\site-packages\\snowflake\\snowpark\\session.py:1891: UserWarning: Pandas Dataframe has non-standard index of type <class 'pandas.core.indexes.numeric.Int64Index'> which will not be written. Consider changing the index to pd.RangeIndex(start=0,...,step=1) or call reset_index() to keep index as column(s)\n",
      "  success, nchunks, nrows, ci_output = write_pandas(\n"
     ]
    },
    {
     "name": "stdout",
     "output_type": "stream",
     "text": [
      "616174 values inserted into table SCHEDULE_RCCII\n"
     ]
    },
    {
     "name": "stderr",
     "output_type": "stream",
     "text": [
      "C:\\Users\\whill\\anaconda3\\lib\\site-packages\\snowflake\\snowpark\\session.py:1891: UserWarning: Pandas Dataframe has non-standard index of type <class 'pandas.core.indexes.numeric.Int64Index'> which will not be written. Consider changing the index to pd.RangeIndex(start=0,...,step=1) or call reset_index() to keep index as column(s)\n",
      "  success, nchunks, nrows, ci_output = write_pandas(\n"
     ]
    },
    {
     "name": "stdout",
     "output_type": "stream",
     "text": [
      "616174 values inserted into table SCHEDULE_RCEII\n"
     ]
    },
    {
     "name": "stderr",
     "output_type": "stream",
     "text": [
      "C:\\Users\\whill\\anaconda3\\lib\\site-packages\\snowflake\\snowpark\\session.py:1891: UserWarning: Pandas Dataframe has non-standard index of type <class 'pandas.core.indexes.numeric.Int64Index'> which will not be written. Consider changing the index to pd.RangeIndex(start=0,...,step=1) or call reset_index() to keep index as column(s)\n",
      "  success, nchunks, nrows, ci_output = write_pandas(\n"
     ]
    },
    {
     "name": "stdout",
     "output_type": "stream",
     "text": [
      "616174 values inserted into table SCHEDULE_RI\n"
     ]
    },
    {
     "name": "stderr",
     "output_type": "stream",
     "text": [
      "C:\\Users\\whill\\anaconda3\\lib\\site-packages\\snowflake\\snowpark\\session.py:1891: UserWarning: Pandas Dataframe has non-standard index of type <class 'pandas.core.indexes.numeric.Int64Index'> which will not be written. Consider changing the index to pd.RangeIndex(start=0,...,step=1) or call reset_index() to keep index as column(s)\n",
      "  success, nchunks, nrows, ci_output = write_pandas(\n"
     ]
    },
    {
     "name": "stdout",
     "output_type": "stream",
     "text": [
      "616174 values inserted into table SCHEDULE_RCRII\n"
     ]
    },
    {
     "name": "stderr",
     "output_type": "stream",
     "text": [
      "C:\\Users\\whill\\anaconda3\\lib\\site-packages\\snowflake\\snowpark\\session.py:1891: UserWarning: Pandas Dataframe has non-standard index of type <class 'pandas.core.indexes.numeric.Int64Index'> which will not be written. Consider changing the index to pd.RangeIndex(start=0,...,step=1) or call reset_index() to keep index as column(s)\n",
      "  success, nchunks, nrows, ci_output = write_pandas(\n"
     ]
    },
    {
     "name": "stdout",
     "output_type": "stream",
     "text": [
      "616174 values inserted into table SCHEDULE_RCF\n"
     ]
    },
    {
     "name": "stderr",
     "output_type": "stream",
     "text": [
      "C:\\Users\\whill\\anaconda3\\lib\\site-packages\\snowflake\\snowpark\\session.py:1891: UserWarning: Pandas Dataframe has non-standard index of type <class 'pandas.core.indexes.numeric.Int64Index'> which will not be written. Consider changing the index to pd.RangeIndex(start=0,...,step=1) or call reset_index() to keep index as column(s)\n",
      "  success, nchunks, nrows, ci_output = write_pandas(\n"
     ]
    },
    {
     "name": "stdout",
     "output_type": "stream",
     "text": [
      "616174 values inserted into table SCHEDULE_RCG\n"
     ]
    },
    {
     "name": "stderr",
     "output_type": "stream",
     "text": [
      "C:\\Users\\whill\\anaconda3\\lib\\site-packages\\snowflake\\snowpark\\session.py:1891: UserWarning: Pandas Dataframe has non-standard index of type <class 'pandas.core.indexes.numeric.Int64Index'> which will not be written. Consider changing the index to pd.RangeIndex(start=0,...,step=1) or call reset_index() to keep index as column(s)\n",
      "  success, nchunks, nrows, ci_output = write_pandas(\n"
     ]
    },
    {
     "name": "stdout",
     "output_type": "stream",
     "text": [
      "616174 values inserted into table SCHEDULE_RCO\n"
     ]
    },
    {
     "name": "stderr",
     "output_type": "stream",
     "text": [
      "C:\\Users\\whill\\anaconda3\\lib\\site-packages\\snowflake\\snowpark\\session.py:1891: UserWarning: Pandas Dataframe has non-standard index of type <class 'pandas.core.indexes.numeric.Int64Index'> which will not be written. Consider changing the index to pd.RangeIndex(start=0,...,step=1) or call reset_index() to keep index as column(s)\n",
      "  success, nchunks, nrows, ci_output = write_pandas(\n"
     ]
    },
    {
     "name": "stdout",
     "output_type": "stream",
     "text": [
      "616174 values inserted into table SCHEDULE_RCP\n"
     ]
    },
    {
     "name": "stderr",
     "output_type": "stream",
     "text": [
      "C:\\Users\\whill\\anaconda3\\lib\\site-packages\\snowflake\\snowpark\\session.py:1891: UserWarning: Pandas Dataframe has non-standard index of type <class 'pandas.core.indexes.numeric.Int64Index'> which will not be written. Consider changing the index to pd.RangeIndex(start=0,...,step=1) or call reset_index() to keep index as column(s)\n",
      "  success, nchunks, nrows, ci_output = write_pandas(\n"
     ]
    },
    {
     "name": "stdout",
     "output_type": "stream",
     "text": [
      "616174 values inserted into table SCHEDULE_RCR\n"
     ]
    },
    {
     "name": "stderr",
     "output_type": "stream",
     "text": [
      "C:\\Users\\whill\\anaconda3\\lib\\site-packages\\snowflake\\snowpark\\session.py:1891: UserWarning: Pandas Dataframe has non-standard index of type <class 'pandas.core.indexes.numeric.Int64Index'> which will not be written. Consider changing the index to pd.RangeIndex(start=0,...,step=1) or call reset_index() to keep index as column(s)\n",
      "  success, nchunks, nrows, ci_output = write_pandas(\n"
     ]
    },
    {
     "name": "stdout",
     "output_type": "stream",
     "text": [
      "Error in table SCHEDULE_RCRI: 100071 (22000): Failed to cast variant value \"9.8825%\" to REAL\n"
     ]
    },
    {
     "name": "stderr",
     "output_type": "stream",
     "text": [
      "C:\\Users\\whill\\anaconda3\\lib\\site-packages\\snowflake\\snowpark\\session.py:1891: UserWarning: Pandas Dataframe has non-standard index of type <class 'pandas.core.indexes.numeric.Int64Index'> which will not be written. Consider changing the index to pd.RangeIndex(start=0,...,step=1) or call reset_index() to keep index as column(s)\n",
      "  success, nchunks, nrows, ci_output = write_pandas(\n"
     ]
    },
    {
     "name": "stdout",
     "output_type": "stream",
     "text": [
      "616174 values inserted into table SCHEDULE_RICI\n"
     ]
    },
    {
     "name": "stderr",
     "output_type": "stream",
     "text": [
      "C:\\Users\\whill\\anaconda3\\lib\\site-packages\\snowflake\\snowpark\\session.py:1891: UserWarning: Pandas Dataframe has non-standard index of type <class 'pandas.core.indexes.numeric.Int64Index'> which will not be written. Consider changing the index to pd.RangeIndex(start=0,...,step=1) or call reset_index() to keep index as column(s)\n",
      "  success, nchunks, nrows, ci_output = write_pandas(\n"
     ]
    },
    {
     "name": "stdout",
     "output_type": "stream",
     "text": [
      "616174 values inserted into table SCHEDULE_RCK\n"
     ]
    },
    {
     "name": "stderr",
     "output_type": "stream",
     "text": [
      "C:\\Users\\whill\\anaconda3\\lib\\site-packages\\snowflake\\snowpark\\session.py:1891: UserWarning: Pandas Dataframe has non-standard index of type <class 'pandas.core.indexes.numeric.Int64Index'> which will not be written. Consider changing the index to pd.RangeIndex(start=0,...,step=1) or call reset_index() to keep index as column(s)\n",
      "  success, nchunks, nrows, ci_output = write_pandas(\n"
     ]
    },
    {
     "name": "stdout",
     "output_type": "stream",
     "text": [
      "616174 values inserted into table SCHEDULE_UNDEFINED\n"
     ]
    },
    {
     "name": "stderr",
     "output_type": "stream",
     "text": [
      "C:\\Users\\whill\\anaconda3\\lib\\site-packages\\snowflake\\snowpark\\session.py:1891: UserWarning: Pandas Dataframe has non-standard index of type <class 'pandas.core.indexes.numeric.Int64Index'> which will not be written. Consider changing the index to pd.RangeIndex(start=0,...,step=1) or call reset_index() to keep index as column(s)\n",
      "  success, nchunks, nrows, ci_output = write_pandas(\n"
     ]
    },
    {
     "name": "stdout",
     "output_type": "stream",
     "text": [
      "616174 values inserted into table SCHEDULE_RIBI\n"
     ]
    },
    {
     "name": "stderr",
     "output_type": "stream",
     "text": [
      "C:\\Users\\whill\\anaconda3\\lib\\site-packages\\snowflake\\snowpark\\session.py:1891: UserWarning: Pandas Dataframe has non-standard index of type <class 'pandas.core.indexes.numeric.Int64Index'> which will not be written. Consider changing the index to pd.RangeIndex(start=0,...,step=1) or call reset_index() to keep index as column(s)\n",
      "  success, nchunks, nrows, ci_output = write_pandas(\n"
     ]
    },
    {
     "name": "stdout",
     "output_type": "stream",
     "text": [
      "616174 values inserted into table SCHEDULE_RC\n"
     ]
    },
    {
     "name": "stderr",
     "output_type": "stream",
     "text": [
      "C:\\Users\\whill\\anaconda3\\lib\\site-packages\\snowflake\\snowpark\\session.py:1891: UserWarning: Pandas Dataframe has non-standard index of type <class 'pandas.core.indexes.numeric.Int64Index'> which will not be written. Consider changing the index to pd.RangeIndex(start=0,...,step=1) or call reset_index() to keep index as column(s)\n",
      "  success, nchunks, nrows, ci_output = write_pandas(\n"
     ]
    },
    {
     "name": "stdout",
     "output_type": "stream",
     "text": [
      "616174 values inserted into table SCHEDULE_RCEI\n"
     ]
    },
    {
     "name": "stderr",
     "output_type": "stream",
     "text": [
      "C:\\Users\\whill\\anaconda3\\lib\\site-packages\\snowflake\\snowpark\\session.py:1891: UserWarning: Pandas Dataframe has non-standard index of type <class 'pandas.core.indexes.numeric.Int64Index'> which will not be written. Consider changing the index to pd.RangeIndex(start=0,...,step=1) or call reset_index() to keep index as column(s)\n",
      "  success, nchunks, nrows, ci_output = write_pandas(\n"
     ]
    },
    {
     "name": "stdout",
     "output_type": "stream",
     "text": [
      "616174 values inserted into table SCHEDULE_RCH\n"
     ]
    },
    {
     "name": "stderr",
     "output_type": "stream",
     "text": [
      "C:\\Users\\whill\\anaconda3\\lib\\site-packages\\snowflake\\snowpark\\session.py:1891: UserWarning: Pandas Dataframe has non-standard index of type <class 'pandas.core.indexes.numeric.Int64Index'> which will not be written. Consider changing the index to pd.RangeIndex(start=0,...,step=1) or call reset_index() to keep index as column(s)\n",
      "  success, nchunks, nrows, ci_output = write_pandas(\n"
     ]
    },
    {
     "name": "stdout",
     "output_type": "stream",
     "text": [
      "616174 values inserted into table SCHEDULE_RCL\n"
     ]
    },
    {
     "name": "stderr",
     "output_type": "stream",
     "text": [
      "C:\\Users\\whill\\anaconda3\\lib\\site-packages\\snowflake\\snowpark\\session.py:1891: UserWarning: Pandas Dataframe has non-standard index of type <class 'pandas.core.indexes.numeric.Int64Index'> which will not be written. Consider changing the index to pd.RangeIndex(start=0,...,step=1) or call reset_index() to keep index as column(s)\n",
      "  success, nchunks, nrows, ci_output = write_pandas(\n"
     ]
    },
    {
     "name": "stdout",
     "output_type": "stream",
     "text": [
      "616174 values inserted into table SCHEDULE_RCV\n"
     ]
    },
    {
     "name": "stderr",
     "output_type": "stream",
     "text": [
      "C:\\Users\\whill\\anaconda3\\lib\\site-packages\\snowflake\\snowpark\\session.py:1891: UserWarning: Pandas Dataframe has non-standard index of type <class 'pandas.core.indexes.numeric.Int64Index'> which will not be written. Consider changing the index to pd.RangeIndex(start=0,...,step=1) or call reset_index() to keep index as column(s)\n",
      "  success, nchunks, nrows, ci_output = write_pandas(\n"
     ]
    },
    {
     "name": "stdout",
     "output_type": "stream",
     "text": [
      "616174 values inserted into table SCHEDULE_RIC\n"
     ]
    },
    {
     "name": "stderr",
     "output_type": "stream",
     "text": [
      "C:\\Users\\whill\\anaconda3\\lib\\site-packages\\snowflake\\snowpark\\session.py:1891: UserWarning: Pandas Dataframe has non-standard index of type <class 'pandas.core.indexes.numeric.Int64Index'> which will not be written. Consider changing the index to pd.RangeIndex(start=0,...,step=1) or call reset_index() to keep index as column(s)\n",
      "  success, nchunks, nrows, ci_output = write_pandas(\n"
     ]
    },
    {
     "name": "stdout",
     "output_type": "stream",
     "text": [
      "616174 values inserted into table SCHEDULE_RICII\n"
     ]
    },
    {
     "name": "stderr",
     "output_type": "stream",
     "text": [
      "C:\\Users\\whill\\anaconda3\\lib\\site-packages\\snowflake\\snowpark\\session.py:1891: UserWarning: Pandas Dataframe has non-standard index of type <class 'pandas.core.indexes.numeric.Int64Index'> which will not be written. Consider changing the index to pd.RangeIndex(start=0,...,step=1) or call reset_index() to keep index as column(s)\n",
      "  success, nchunks, nrows, ci_output = write_pandas(\n"
     ]
    },
    {
     "name": "stdout",
     "output_type": "stream",
     "text": [
      "616174 values inserted into table SCHEDULE_RIA\n"
     ]
    },
    {
     "name": "stderr",
     "output_type": "stream",
     "text": [
      "C:\\Users\\whill\\anaconda3\\lib\\site-packages\\snowflake\\snowpark\\session.py:1891: UserWarning: Pandas Dataframe has non-standard index of type <class 'pandas.core.indexes.numeric.Int64Index'> which will not be written. Consider changing the index to pd.RangeIndex(start=0,...,step=1) or call reset_index() to keep index as column(s)\n",
      "  success, nchunks, nrows, ci_output = write_pandas(\n"
     ]
    },
    {
     "name": "stdout",
     "output_type": "stream",
     "text": [
      "616174 values inserted into table SCHEDULE_RIBII\n"
     ]
    },
    {
     "name": "stderr",
     "output_type": "stream",
     "text": [
      "C:\\Users\\whill\\anaconda3\\lib\\site-packages\\snowflake\\snowpark\\session.py:1891: UserWarning: Pandas Dataframe has non-standard index of type <class 'pandas.core.indexes.numeric.Int64Index'> which will not be written. Consider changing the index to pd.RangeIndex(start=0,...,step=1) or call reset_index() to keep index as column(s)\n",
      "  success, nchunks, nrows, ci_output = write_pandas(\n"
     ]
    },
    {
     "name": "stdout",
     "output_type": "stream",
     "text": [
      "616174 values inserted into table SCHEDULE_SU\n",
      "C:\\Users\\whill\\call-report-database\\Bulk_Files\\2019\\12_31\\FFIEC CDR Call Schedule CI 12312019.txt\n",
      "C:\\Users\\whill\\call-report-database\\Bulk_Files\\2019\\12_31\\FFIEC CDR Call Schedule ENT 12312019.txt\n",
      "C:\\Users\\whill\\call-report-database\\Bulk_Files\\2019\\12_31\\FFIEC CDR Call Schedule NARR 12312019.txt\n",
      "C:\\Users\\whill\\call-report-database\\Bulk_Files\\2019\\12_31\\FFIEC CDR Call Schedule RC 12312019.txt\n",
      "C:\\Users\\whill\\call-report-database\\Bulk_Files\\2019\\12_31\\FFIEC CDR Call Schedule RCA 12312019.txt\n",
      "C:\\Users\\whill\\call-report-database\\Bulk_Files\\2019\\12_31\\FFIEC CDR Call Schedule RCB 12312019(1 of 2).txt\n",
      "C:\\Users\\whill\\call-report-database\\Bulk_Files\\2019\\12_31\\FFIEC CDR Call Schedule RCB 12312019(2 of 2).txt\n",
      "C:\\Users\\whill\\call-report-database\\Bulk_Files\\2019\\12_31\\FFIEC CDR Call Schedule RCCI 12312019.txt\n",
      "C:\\Users\\whill\\call-report-database\\Bulk_Files\\2019\\12_31\\FFIEC CDR Call Schedule RCCII 12312019.txt\n",
      "C:\\Users\\whill\\call-report-database\\Bulk_Files\\2019\\12_31\\FFIEC CDR Call Schedule RCD 12312019.txt\n",
      "C:\\Users\\whill\\call-report-database\\Bulk_Files\\2019\\12_31\\FFIEC CDR Call Schedule RCE 12312019.txt\n",
      "C:\\Users\\whill\\call-report-database\\Bulk_Files\\2019\\12_31\\FFIEC CDR Call Schedule RCEI 12312019.txt\n",
      "C:\\Users\\whill\\call-report-database\\Bulk_Files\\2019\\12_31\\FFIEC CDR Call Schedule RCEII 12312019.txt\n",
      "C:\\Users\\whill\\call-report-database\\Bulk_Files\\2019\\12_31\\FFIEC CDR Call Schedule RCF 12312019.txt\n",
      "C:\\Users\\whill\\call-report-database\\Bulk_Files\\2019\\12_31\\FFIEC CDR Call Schedule RCG 12312019.txt\n",
      "C:\\Users\\whill\\call-report-database\\Bulk_Files\\2019\\12_31\\FFIEC CDR Call Schedule RCH 12312019.txt\n",
      "C:\\Users\\whill\\call-report-database\\Bulk_Files\\2019\\12_31\\FFIEC CDR Call Schedule RCI 12312019.txt\n",
      "C:\\Users\\whill\\call-report-database\\Bulk_Files\\2019\\12_31\\FFIEC CDR Call Schedule RCK 12312019.txt\n",
      "C:\\Users\\whill\\call-report-database\\Bulk_Files\\2019\\12_31\\FFIEC CDR Call Schedule RCL 12312019(1 of 2).txt\n",
      "C:\\Users\\whill\\call-report-database\\Bulk_Files\\2019\\12_31\\FFIEC CDR Call Schedule RCL 12312019(2 of 2).txt\n",
      "C:\\Users\\whill\\call-report-database\\Bulk_Files\\2019\\12_31\\FFIEC CDR Call Schedule RCM 12312019.txt\n",
      "C:\\Users\\whill\\call-report-database\\Bulk_Files\\2019\\12_31\\FFIEC CDR Call Schedule RCN 12312019(1 of 2).txt\n",
      "C:\\Users\\whill\\call-report-database\\Bulk_Files\\2019\\12_31\\FFIEC CDR Call Schedule RCN 12312019(2 of 2).txt\n",
      "C:\\Users\\whill\\call-report-database\\Bulk_Files\\2019\\12_31\\FFIEC CDR Call Schedule RCO 12312019(1 of 2).txt\n",
      "C:\\Users\\whill\\call-report-database\\Bulk_Files\\2019\\12_31\\FFIEC CDR Call Schedule RCO 12312019(2 of 2).txt\n",
      "C:\\Users\\whill\\call-report-database\\Bulk_Files\\2019\\12_31\\FFIEC CDR Call Schedule RCP 12312019.txt\n",
      "C:\\Users\\whill\\call-report-database\\Bulk_Files\\2019\\12_31\\FFIEC CDR Call Schedule RCQ 12312019(1 of 2).txt\n",
      "C:\\Users\\whill\\call-report-database\\Bulk_Files\\2019\\12_31\\FFIEC CDR Call Schedule RCQ 12312019(2 of 2).txt\n",
      "C:\\Users\\whill\\call-report-database\\Bulk_Files\\2019\\12_31\\FFIEC CDR Call Schedule RCRI 12312019.txt\n",
      "C:\\Users\\whill\\call-report-database\\Bulk_Files\\2019\\12_31\\FFIEC CDR Call Schedule RCRII 12312019(1 of 4).txt\n",
      "C:\\Users\\whill\\call-report-database\\Bulk_Files\\2019\\12_31\\FFIEC CDR Call Schedule RCRII 12312019(2 of 4).txt\n",
      "C:\\Users\\whill\\call-report-database\\Bulk_Files\\2019\\12_31\\FFIEC CDR Call Schedule RCRII 12312019(3 of 4).txt\n",
      "C:\\Users\\whill\\call-report-database\\Bulk_Files\\2019\\12_31\\FFIEC CDR Call Schedule RCRII 12312019(4 of 4).txt\n",
      "C:\\Users\\whill\\call-report-database\\Bulk_Files\\2019\\12_31\\FFIEC CDR Call Schedule RCS 12312019.txt\n",
      "C:\\Users\\whill\\call-report-database\\Bulk_Files\\2019\\12_31\\FFIEC CDR Call Schedule RCT 12312019(1 of 2).txt\n",
      "C:\\Users\\whill\\call-report-database\\Bulk_Files\\2019\\12_31\\FFIEC CDR Call Schedule RCT 12312019(2 of 2).txt\n",
      "C:\\Users\\whill\\call-report-database\\Bulk_Files\\2019\\12_31\\FFIEC CDR Call Schedule RCV 12312019.txt\n",
      "C:\\Users\\whill\\call-report-database\\Bulk_Files\\2019\\12_31\\FFIEC CDR Call Schedule RI 12312019.txt\n",
      "C:\\Users\\whill\\call-report-database\\Bulk_Files\\2019\\12_31\\FFIEC CDR Call Schedule RIA 12312019.txt\n",
      "C:\\Users\\whill\\call-report-database\\Bulk_Files\\2019\\12_31\\FFIEC CDR Call Schedule RIBI 12312019.txt\n",
      "C:\\Users\\whill\\call-report-database\\Bulk_Files\\2019\\12_31\\FFIEC CDR Call Schedule RIBII 12312019.txt\n",
      "C:\\Users\\whill\\call-report-database\\Bulk_Files\\2019\\12_31\\FFIEC CDR Call Schedule RIC 12312019.txt\n",
      "C:\\Users\\whill\\call-report-database\\Bulk_Files\\2019\\12_31\\FFIEC CDR Call Schedule RICI 12312019.txt\n",
      "C:\\Users\\whill\\call-report-database\\Bulk_Files\\2019\\12_31\\FFIEC CDR Call Schedule RICII 12312019.txt\n",
      "C:\\Users\\whill\\call-report-database\\Bulk_Files\\2019\\12_31\\FFIEC CDR Call Schedule RID 12312019.txt\n"
     ]
    },
    {
     "name": "stderr",
     "output_type": "stream",
     "text": [
      "Skipping line 2338: '\t' expected after '\"'\n"
     ]
    },
    {
     "name": "stdout",
     "output_type": "stream",
     "text": [
      "C:\\Users\\whill\\call-report-database\\Bulk_Files\\2019\\12_31\\FFIEC CDR Call Schedule RIE 12312019.txt\n",
      "C:\\Users\\whill\\call-report-database\\Bulk_Files\\2019\\12_31\\FFIEC CDR Call Schedule SU 12312019.txt\n"
     ]
    },
    {
     "name": "stderr",
     "output_type": "stream",
     "text": [
      "C:\\Users\\whill\\anaconda3\\lib\\site-packages\\snowflake\\snowpark\\session.py:1891: UserWarning: Pandas Dataframe has non-standard index of type <class 'pandas.core.indexes.numeric.Int64Index'> which will not be written. Consider changing the index to pd.RangeIndex(start=0,...,step=1) or call reset_index() to keep index as column(s)\n",
      "  success, nchunks, nrows, ci_output = write_pandas(\n"
     ]
    },
    {
     "name": "stdout",
     "output_type": "stream",
     "text": [
      "621401 values inserted into table SCHEDULE_ENT\n"
     ]
    },
    {
     "name": "stderr",
     "output_type": "stream",
     "text": [
      "C:\\Users\\whill\\anaconda3\\lib\\site-packages\\snowflake\\snowpark\\session.py:1891: UserWarning: Pandas Dataframe has non-standard index of type <class 'pandas.core.indexes.numeric.Int64Index'> which will not be written. Consider changing the index to pd.RangeIndex(start=0,...,step=1) or call reset_index() to keep index as column(s)\n",
      "  success, nchunks, nrows, ci_output = write_pandas(\n"
     ]
    },
    {
     "name": "stdout",
     "output_type": "stream",
     "text": [
      "621401 values inserted into table SCHEDULE_RCCII\n"
     ]
    },
    {
     "name": "stderr",
     "output_type": "stream",
     "text": [
      "C:\\Users\\whill\\anaconda3\\lib\\site-packages\\snowflake\\snowpark\\session.py:1891: UserWarning: Pandas Dataframe has non-standard index of type <class 'pandas.core.indexes.numeric.Int64Index'> which will not be written. Consider changing the index to pd.RangeIndex(start=0,...,step=1) or call reset_index() to keep index as column(s)\n",
      "  success, nchunks, nrows, ci_output = write_pandas(\n"
     ]
    },
    {
     "name": "stdout",
     "output_type": "stream",
     "text": [
      "621401 values inserted into table SCHEDULE_RCF\n"
     ]
    },
    {
     "name": "stderr",
     "output_type": "stream",
     "text": [
      "C:\\Users\\whill\\anaconda3\\lib\\site-packages\\snowflake\\snowpark\\session.py:1891: UserWarning: Pandas Dataframe has non-standard index of type <class 'pandas.core.indexes.numeric.Int64Index'> which will not be written. Consider changing the index to pd.RangeIndex(start=0,...,step=1) or call reset_index() to keep index as column(s)\n",
      "  success, nchunks, nrows, ci_output = write_pandas(\n"
     ]
    },
    {
     "name": "stdout",
     "output_type": "stream",
     "text": [
      "621401 values inserted into table SCHEDULE_RCK\n"
     ]
    },
    {
     "name": "stderr",
     "output_type": "stream",
     "text": [
      "C:\\Users\\whill\\anaconda3\\lib\\site-packages\\snowflake\\snowpark\\session.py:1891: UserWarning: Pandas Dataframe has non-standard index of type <class 'pandas.core.indexes.numeric.Int64Index'> which will not be written. Consider changing the index to pd.RangeIndex(start=0,...,step=1) or call reset_index() to keep index as column(s)\n",
      "  success, nchunks, nrows, ci_output = write_pandas(\n"
     ]
    },
    {
     "name": "stdout",
     "output_type": "stream",
     "text": [
      "621401 values inserted into table SCHEDULE_RCO\n"
     ]
    },
    {
     "name": "stderr",
     "output_type": "stream",
     "text": [
      "C:\\Users\\whill\\anaconda3\\lib\\site-packages\\snowflake\\snowpark\\session.py:1891: UserWarning: Pandas Dataframe has non-standard index of type <class 'pandas.core.indexes.numeric.Int64Index'> which will not be written. Consider changing the index to pd.RangeIndex(start=0,...,step=1) or call reset_index() to keep index as column(s)\n",
      "  success, nchunks, nrows, ci_output = write_pandas(\n"
     ]
    },
    {
     "name": "stdout",
     "output_type": "stream",
     "text": [
      "621401 values inserted into table SCHEDULE_RCP\n"
     ]
    },
    {
     "name": "stderr",
     "output_type": "stream",
     "text": [
      "C:\\Users\\whill\\anaconda3\\lib\\site-packages\\snowflake\\snowpark\\session.py:1891: UserWarning: Pandas Dataframe has non-standard index of type <class 'pandas.core.indexes.numeric.Int64Index'> which will not be written. Consider changing the index to pd.RangeIndex(start=0,...,step=1) or call reset_index() to keep index as column(s)\n",
      "  success, nchunks, nrows, ci_output = write_pandas(\n"
     ]
    },
    {
     "name": "stdout",
     "output_type": "stream",
     "text": [
      "621401 values inserted into table SCHEDULE_RIA\n"
     ]
    },
    {
     "name": "stderr",
     "output_type": "stream",
     "text": [
      "C:\\Users\\whill\\anaconda3\\lib\\site-packages\\snowflake\\snowpark\\session.py:1891: UserWarning: Pandas Dataframe has non-standard index of type <class 'pandas.core.indexes.numeric.Int64Index'> which will not be written. Consider changing the index to pd.RangeIndex(start=0,...,step=1) or call reset_index() to keep index as column(s)\n",
      "  success, nchunks, nrows, ci_output = write_pandas(\n"
     ]
    },
    {
     "name": "stdout",
     "output_type": "stream",
     "text": [
      "621401 values inserted into table SCHEDULE_RIBII\n"
     ]
    },
    {
     "name": "stderr",
     "output_type": "stream",
     "text": [
      "C:\\Users\\whill\\anaconda3\\lib\\site-packages\\snowflake\\snowpark\\session.py:1891: UserWarning: Pandas Dataframe has non-standard index of type <class 'pandas.core.indexes.numeric.Int64Index'> which will not be written. Consider changing the index to pd.RangeIndex(start=0,...,step=1) or call reset_index() to keep index as column(s)\n",
      "  success, nchunks, nrows, ci_output = write_pandas(\n"
     ]
    },
    {
     "name": "stdout",
     "output_type": "stream",
     "text": [
      "621401 values inserted into table SCHEDULE_RCM\n"
     ]
    },
    {
     "name": "stderr",
     "output_type": "stream",
     "text": [
      "C:\\Users\\whill\\anaconda3\\lib\\site-packages\\snowflake\\snowpark\\session.py:1891: UserWarning: Pandas Dataframe has non-standard index of type <class 'pandas.core.indexes.numeric.Int64Index'> which will not be written. Consider changing the index to pd.RangeIndex(start=0,...,step=1) or call reset_index() to keep index as column(s)\n",
      "  success, nchunks, nrows, ci_output = write_pandas(\n"
     ]
    },
    {
     "name": "stdout",
     "output_type": "stream",
     "text": [
      "621401 values inserted into table SCHEDULE_RICI\n"
     ]
    },
    {
     "name": "stderr",
     "output_type": "stream",
     "text": [
      "C:\\Users\\whill\\anaconda3\\lib\\site-packages\\snowflake\\snowpark\\session.py:1891: UserWarning: Pandas Dataframe has non-standard index of type <class 'pandas.core.indexes.numeric.Int64Index'> which will not be written. Consider changing the index to pd.RangeIndex(start=0,...,step=1) or call reset_index() to keep index as column(s)\n",
      "  success, nchunks, nrows, ci_output = write_pandas(\n"
     ]
    },
    {
     "name": "stdout",
     "output_type": "stream",
     "text": [
      "621401 values inserted into table SCHEDULE_RICII\n"
     ]
    },
    {
     "name": "stderr",
     "output_type": "stream",
     "text": [
      "C:\\Users\\whill\\anaconda3\\lib\\site-packages\\snowflake\\snowpark\\session.py:1891: UserWarning: Pandas Dataframe has non-standard index of type <class 'pandas.core.indexes.numeric.Int64Index'> which will not be written. Consider changing the index to pd.RangeIndex(start=0,...,step=1) or call reset_index() to keep index as column(s)\n",
      "  success, nchunks, nrows, ci_output = write_pandas(\n"
     ]
    },
    {
     "name": "stdout",
     "output_type": "stream",
     "text": [
      "621401 values inserted into table SCHEDULE_LEO\n"
     ]
    },
    {
     "name": "stderr",
     "output_type": "stream",
     "text": [
      "C:\\Users\\whill\\anaconda3\\lib\\site-packages\\snowflake\\snowpark\\session.py:1891: UserWarning: Pandas Dataframe has non-standard index of type <class 'pandas.core.indexes.numeric.Int64Index'> which will not be written. Consider changing the index to pd.RangeIndex(start=0,...,step=1) or call reset_index() to keep index as column(s)\n",
      "  success, nchunks, nrows, ci_output = write_pandas(\n"
     ]
    },
    {
     "name": "stdout",
     "output_type": "stream",
     "text": [
      "621401 values inserted into table SCHEDULE_NARR\n"
     ]
    },
    {
     "name": "stderr",
     "output_type": "stream",
     "text": [
      "C:\\Users\\whill\\anaconda3\\lib\\site-packages\\snowflake\\snowpark\\session.py:1891: UserWarning: Pandas Dataframe has non-standard index of type <class 'pandas.core.indexes.numeric.Int64Index'> which will not be written. Consider changing the index to pd.RangeIndex(start=0,...,step=1) or call reset_index() to keep index as column(s)\n",
      "  success, nchunks, nrows, ci_output = write_pandas(\n"
     ]
    },
    {
     "name": "stdout",
     "output_type": "stream",
     "text": [
      "621401 values inserted into table SCHEDULE_RCA\n"
     ]
    },
    {
     "name": "stderr",
     "output_type": "stream",
     "text": [
      "C:\\Users\\whill\\anaconda3\\lib\\site-packages\\snowflake\\snowpark\\session.py:1891: UserWarning: Pandas Dataframe has non-standard index of type <class 'pandas.core.indexes.numeric.Int64Index'> which will not be written. Consider changing the index to pd.RangeIndex(start=0,...,step=1) or call reset_index() to keep index as column(s)\n",
      "  success, nchunks, nrows, ci_output = write_pandas(\n"
     ]
    },
    {
     "name": "stdout",
     "output_type": "stream",
     "text": [
      "621401 values inserted into table SCHEDULE_RCB\n"
     ]
    },
    {
     "name": "stderr",
     "output_type": "stream",
     "text": [
      "C:\\Users\\whill\\anaconda3\\lib\\site-packages\\snowflake\\snowpark\\session.py:1891: UserWarning: Pandas Dataframe has non-standard index of type <class 'pandas.core.indexes.numeric.Int64Index'> which will not be written. Consider changing the index to pd.RangeIndex(start=0,...,step=1) or call reset_index() to keep index as column(s)\n",
      "  success, nchunks, nrows, ci_output = write_pandas(\n"
     ]
    },
    {
     "name": "stdout",
     "output_type": "stream",
     "text": [
      "621401 values inserted into table SCHEDULE_RCCI\n"
     ]
    },
    {
     "name": "stderr",
     "output_type": "stream",
     "text": [
      "C:\\Users\\whill\\anaconda3\\lib\\site-packages\\snowflake\\snowpark\\session.py:1891: UserWarning: Pandas Dataframe has non-standard index of type <class 'pandas.core.indexes.numeric.Int64Index'> which will not be written. Consider changing the index to pd.RangeIndex(start=0,...,step=1) or call reset_index() to keep index as column(s)\n",
      "  success, nchunks, nrows, ci_output = write_pandas(\n"
     ]
    },
    {
     "name": "stdout",
     "output_type": "stream",
     "text": [
      "621401 values inserted into table SCHEDULE_RCEII\n"
     ]
    },
    {
     "name": "stderr",
     "output_type": "stream",
     "text": [
      "C:\\Users\\whill\\anaconda3\\lib\\site-packages\\snowflake\\snowpark\\session.py:1891: UserWarning: Pandas Dataframe has non-standard index of type <class 'pandas.core.indexes.numeric.Int64Index'> which will not be written. Consider changing the index to pd.RangeIndex(start=0,...,step=1) or call reset_index() to keep index as column(s)\n",
      "  success, nchunks, nrows, ci_output = write_pandas(\n"
     ]
    },
    {
     "name": "stdout",
     "output_type": "stream",
     "text": [
      "621401 values inserted into table SCHEDULE_RCH\n"
     ]
    },
    {
     "name": "stderr",
     "output_type": "stream",
     "text": [
      "C:\\Users\\whill\\anaconda3\\lib\\site-packages\\snowflake\\snowpark\\session.py:1891: UserWarning: Pandas Dataframe has non-standard index of type <class 'pandas.core.indexes.numeric.Int64Index'> which will not be written. Consider changing the index to pd.RangeIndex(start=0,...,step=1) or call reset_index() to keep index as column(s)\n",
      "  success, nchunks, nrows, ci_output = write_pandas(\n"
     ]
    },
    {
     "name": "stdout",
     "output_type": "stream",
     "text": [
      "621401 values inserted into table SCHEDULE_RCN\n"
     ]
    },
    {
     "name": "stderr",
     "output_type": "stream",
     "text": [
      "C:\\Users\\whill\\anaconda3\\lib\\site-packages\\snowflake\\snowpark\\session.py:1891: UserWarning: Pandas Dataframe has non-standard index of type <class 'pandas.core.indexes.numeric.Int64Index'> which will not be written. Consider changing the index to pd.RangeIndex(start=0,...,step=1) or call reset_index() to keep index as column(s)\n",
      "  success, nchunks, nrows, ci_output = write_pandas(\n"
     ]
    },
    {
     "name": "stdout",
     "output_type": "stream",
     "text": [
      "621401 values inserted into table SCHEDULE_RCRII\n"
     ]
    },
    {
     "name": "stderr",
     "output_type": "stream",
     "text": [
      "C:\\Users\\whill\\anaconda3\\lib\\site-packages\\snowflake\\snowpark\\session.py:1891: UserWarning: Pandas Dataframe has non-standard index of type <class 'pandas.core.indexes.numeric.Int64Index'> which will not be written. Consider changing the index to pd.RangeIndex(start=0,...,step=1) or call reset_index() to keep index as column(s)\n",
      "  success, nchunks, nrows, ci_output = write_pandas(\n"
     ]
    },
    {
     "name": "stdout",
     "output_type": "stream",
     "text": [
      "621401 values inserted into table SCHEDULE_RCS\n"
     ]
    },
    {
     "name": "stderr",
     "output_type": "stream",
     "text": [
      "C:\\Users\\whill\\anaconda3\\lib\\site-packages\\snowflake\\snowpark\\session.py:1891: UserWarning: Pandas Dataframe has non-standard index of type <class 'pandas.core.indexes.numeric.Int64Index'> which will not be written. Consider changing the index to pd.RangeIndex(start=0,...,step=1) or call reset_index() to keep index as column(s)\n",
      "  success, nchunks, nrows, ci_output = write_pandas(\n"
     ]
    },
    {
     "name": "stdout",
     "output_type": "stream",
     "text": [
      "621401 values inserted into table SCHEDULE_UNDEFINED\n"
     ]
    },
    {
     "name": "stderr",
     "output_type": "stream",
     "text": [
      "C:\\Users\\whill\\anaconda3\\lib\\site-packages\\snowflake\\snowpark\\session.py:1891: UserWarning: Pandas Dataframe has non-standard index of type <class 'pandas.core.indexes.numeric.Int64Index'> which will not be written. Consider changing the index to pd.RangeIndex(start=0,...,step=1) or call reset_index() to keep index as column(s)\n",
      "  success, nchunks, nrows, ci_output = write_pandas(\n"
     ]
    },
    {
     "name": "stdout",
     "output_type": "stream",
     "text": [
      "621401 values inserted into table SCHEDULE_RCR\n"
     ]
    },
    {
     "name": "stderr",
     "output_type": "stream",
     "text": [
      "C:\\Users\\whill\\anaconda3\\lib\\site-packages\\snowflake\\snowpark\\session.py:1891: UserWarning: Pandas Dataframe has non-standard index of type <class 'pandas.core.indexes.numeric.Int64Index'> which will not be written. Consider changing the index to pd.RangeIndex(start=0,...,step=1) or call reset_index() to keep index as column(s)\n",
      "  success, nchunks, nrows, ci_output = write_pandas(\n"
     ]
    },
    {
     "name": "stdout",
     "output_type": "stream",
     "text": [
      "621401 values inserted into table SCHEDULE_RCEI\n"
     ]
    },
    {
     "name": "stderr",
     "output_type": "stream",
     "text": [
      "C:\\Users\\whill\\anaconda3\\lib\\site-packages\\snowflake\\snowpark\\session.py:1891: UserWarning: Pandas Dataframe has non-standard index of type <class 'pandas.core.indexes.numeric.Int64Index'> which will not be written. Consider changing the index to pd.RangeIndex(start=0,...,step=1) or call reset_index() to keep index as column(s)\n",
      "  success, nchunks, nrows, ci_output = write_pandas(\n"
     ]
    },
    {
     "name": "stdout",
     "output_type": "stream",
     "text": [
      "621401 values inserted into table SCHEDULE_RCG\n"
     ]
    },
    {
     "name": "stderr",
     "output_type": "stream",
     "text": [
      "C:\\Users\\whill\\anaconda3\\lib\\site-packages\\snowflake\\snowpark\\session.py:1891: UserWarning: Pandas Dataframe has non-standard index of type <class 'pandas.core.indexes.numeric.Int64Index'> which will not be written. Consider changing the index to pd.RangeIndex(start=0,...,step=1) or call reset_index() to keep index as column(s)\n",
      "  success, nchunks, nrows, ci_output = write_pandas(\n"
     ]
    },
    {
     "name": "stdout",
     "output_type": "stream",
     "text": [
      "621401 values inserted into table SCHEDULE_RCT\n"
     ]
    },
    {
     "name": "stderr",
     "output_type": "stream",
     "text": [
      "C:\\Users\\whill\\anaconda3\\lib\\site-packages\\snowflake\\snowpark\\session.py:1891: UserWarning: Pandas Dataframe has non-standard index of type <class 'pandas.core.indexes.numeric.Int64Index'> which will not be written. Consider changing the index to pd.RangeIndex(start=0,...,step=1) or call reset_index() to keep index as column(s)\n",
      "  success, nchunks, nrows, ci_output = write_pandas(\n"
     ]
    },
    {
     "name": "stdout",
     "output_type": "stream",
     "text": [
      "621401 values inserted into table SCHEDULE_RID\n"
     ]
    },
    {
     "name": "stderr",
     "output_type": "stream",
     "text": [
      "C:\\Users\\whill\\anaconda3\\lib\\site-packages\\snowflake\\snowpark\\session.py:1891: UserWarning: Pandas Dataframe has non-standard index of type <class 'pandas.core.indexes.numeric.Int64Index'> which will not be written. Consider changing the index to pd.RangeIndex(start=0,...,step=1) or call reset_index() to keep index as column(s)\n",
      "  success, nchunks, nrows, ci_output = write_pandas(\n"
     ]
    },
    {
     "name": "stdout",
     "output_type": "stream",
     "text": [
      "621401 values inserted into table SCHEDULE_RCL\n"
     ]
    },
    {
     "name": "stderr",
     "output_type": "stream",
     "text": [
      "C:\\Users\\whill\\anaconda3\\lib\\site-packages\\snowflake\\snowpark\\session.py:1891: UserWarning: Pandas Dataframe has non-standard index of type <class 'pandas.core.indexes.numeric.Int64Index'> which will not be written. Consider changing the index to pd.RangeIndex(start=0,...,step=1) or call reset_index() to keep index as column(s)\n",
      "  success, nchunks, nrows, ci_output = write_pandas(\n"
     ]
    },
    {
     "name": "stdout",
     "output_type": "stream",
     "text": [
      "Error in table SCHEDULE_RCRI: 100071 (22000): Failed to cast variant value \"10.0059%\" to REAL\n"
     ]
    },
    {
     "name": "stderr",
     "output_type": "stream",
     "text": [
      "C:\\Users\\whill\\anaconda3\\lib\\site-packages\\snowflake\\snowpark\\session.py:1891: UserWarning: Pandas Dataframe has non-standard index of type <class 'pandas.core.indexes.numeric.Int64Index'> which will not be written. Consider changing the index to pd.RangeIndex(start=0,...,step=1) or call reset_index() to keep index as column(s)\n",
      "  success, nchunks, nrows, ci_output = write_pandas(\n"
     ]
    },
    {
     "name": "stdout",
     "output_type": "stream",
     "text": [
      "621401 values inserted into table SCHEDULE_RI\n"
     ]
    },
    {
     "name": "stderr",
     "output_type": "stream",
     "text": [
      "C:\\Users\\whill\\anaconda3\\lib\\site-packages\\snowflake\\snowpark\\session.py:1891: UserWarning: Pandas Dataframe has non-standard index of type <class 'pandas.core.indexes.numeric.Int64Index'> which will not be written. Consider changing the index to pd.RangeIndex(start=0,...,step=1) or call reset_index() to keep index as column(s)\n",
      "  success, nchunks, nrows, ci_output = write_pandas(\n"
     ]
    },
    {
     "name": "stdout",
     "output_type": "stream",
     "text": [
      "621401 values inserted into table SCHEDULE_SU\n"
     ]
    },
    {
     "name": "stderr",
     "output_type": "stream",
     "text": [
      "C:\\Users\\whill\\anaconda3\\lib\\site-packages\\snowflake\\snowpark\\session.py:1891: UserWarning: Pandas Dataframe has non-standard index of type <class 'pandas.core.indexes.numeric.Int64Index'> which will not be written. Consider changing the index to pd.RangeIndex(start=0,...,step=1) or call reset_index() to keep index as column(s)\n",
      "  success, nchunks, nrows, ci_output = write_pandas(\n"
     ]
    },
    {
     "name": "stdout",
     "output_type": "stream",
     "text": [
      "621401 values inserted into table SCHEDULE_RC\n"
     ]
    },
    {
     "name": "stderr",
     "output_type": "stream",
     "text": [
      "C:\\Users\\whill\\anaconda3\\lib\\site-packages\\snowflake\\snowpark\\session.py:1891: UserWarning: Pandas Dataframe has non-standard index of type <class 'pandas.core.indexes.numeric.Int64Index'> which will not be written. Consider changing the index to pd.RangeIndex(start=0,...,step=1) or call reset_index() to keep index as column(s)\n",
      "  success, nchunks, nrows, ci_output = write_pandas(\n"
     ]
    },
    {
     "name": "stdout",
     "output_type": "stream",
     "text": [
      "621401 values inserted into table SCHEDULE_RCD\n"
     ]
    },
    {
     "name": "stderr",
     "output_type": "stream",
     "text": [
      "C:\\Users\\whill\\anaconda3\\lib\\site-packages\\snowflake\\snowpark\\session.py:1891: UserWarning: Pandas Dataframe has non-standard index of type <class 'pandas.core.indexes.numeric.Int64Index'> which will not be written. Consider changing the index to pd.RangeIndex(start=0,...,step=1) or call reset_index() to keep index as column(s)\n",
      "  success, nchunks, nrows, ci_output = write_pandas(\n"
     ]
    },
    {
     "name": "stdout",
     "output_type": "stream",
     "text": [
      "621401 values inserted into table SCHEDULE_RCI\n"
     ]
    },
    {
     "name": "stderr",
     "output_type": "stream",
     "text": [
      "C:\\Users\\whill\\anaconda3\\lib\\site-packages\\snowflake\\snowpark\\session.py:1891: UserWarning: Pandas Dataframe has non-standard index of type <class 'pandas.core.indexes.numeric.Int64Index'> which will not be written. Consider changing the index to pd.RangeIndex(start=0,...,step=1) or call reset_index() to keep index as column(s)\n",
      "  success, nchunks, nrows, ci_output = write_pandas(\n"
     ]
    },
    {
     "name": "stdout",
     "output_type": "stream",
     "text": [
      "621401 values inserted into table SCHEDULE_RIBI\n"
     ]
    },
    {
     "name": "stderr",
     "output_type": "stream",
     "text": [
      "C:\\Users\\whill\\anaconda3\\lib\\site-packages\\snowflake\\snowpark\\session.py:1891: UserWarning: Pandas Dataframe has non-standard index of type <class 'pandas.core.indexes.numeric.Int64Index'> which will not be written. Consider changing the index to pd.RangeIndex(start=0,...,step=1) or call reset_index() to keep index as column(s)\n",
      "  success, nchunks, nrows, ci_output = write_pandas(\n"
     ]
    },
    {
     "name": "stdout",
     "output_type": "stream",
     "text": [
      "621401 values inserted into table SCHEDULE_RIC\n"
     ]
    },
    {
     "name": "stderr",
     "output_type": "stream",
     "text": [
      "C:\\Users\\whill\\anaconda3\\lib\\site-packages\\snowflake\\snowpark\\session.py:1891: UserWarning: Pandas Dataframe has non-standard index of type <class 'pandas.core.indexes.numeric.Int64Index'> which will not be written. Consider changing the index to pd.RangeIndex(start=0,...,step=1) or call reset_index() to keep index as column(s)\n",
      "  success, nchunks, nrows, ci_output = write_pandas(\n"
     ]
    },
    {
     "name": "stdout",
     "output_type": "stream",
     "text": [
      "621401 values inserted into table SCHEDULE_RCQ\n"
     ]
    },
    {
     "name": "stderr",
     "output_type": "stream",
     "text": [
      "C:\\Users\\whill\\anaconda3\\lib\\site-packages\\snowflake\\snowpark\\session.py:1891: UserWarning: Pandas Dataframe has non-standard index of type <class 'pandas.core.indexes.numeric.Int64Index'> which will not be written. Consider changing the index to pd.RangeIndex(start=0,...,step=1) or call reset_index() to keep index as column(s)\n",
      "  success, nchunks, nrows, ci_output = write_pandas(\n"
     ]
    },
    {
     "name": "stdout",
     "output_type": "stream",
     "text": [
      "621401 values inserted into table SCHEDULE_RIE\n"
     ]
    },
    {
     "name": "stderr",
     "output_type": "stream",
     "text": [
      "C:\\Users\\whill\\anaconda3\\lib\\site-packages\\snowflake\\snowpark\\session.py:1891: UserWarning: Pandas Dataframe has non-standard index of type <class 'pandas.core.indexes.numeric.Int64Index'> which will not be written. Consider changing the index to pd.RangeIndex(start=0,...,step=1) or call reset_index() to keep index as column(s)\n",
      "  success, nchunks, nrows, ci_output = write_pandas(\n"
     ]
    },
    {
     "name": "stdout",
     "output_type": "stream",
     "text": [
      "621401 values inserted into table SCHEDULE_RCV\n"
     ]
    },
    {
     "name": "stderr",
     "output_type": "stream",
     "text": [
      "C:\\Users\\whill\\anaconda3\\lib\\site-packages\\snowflake\\snowpark\\session.py:1891: UserWarning: Pandas Dataframe has non-standard index of type <class 'pandas.core.indexes.numeric.Int64Index'> which will not be written. Consider changing the index to pd.RangeIndex(start=0,...,step=1) or call reset_index() to keep index as column(s)\n",
      "  success, nchunks, nrows, ci_output = write_pandas(\n"
     ]
    },
    {
     "name": "stdout",
     "output_type": "stream",
     "text": [
      "621401 values inserted into table SCHEDULE_RCE\n"
     ]
    }
   ],
   "source": [
    "if __name__ == \"__main__\":\n",
    "    warehouse = \"COMPUTE_WH\"\n",
    "    session = initialize_snowflake_connection(username= \"\",password = \"\",account= \"\",role = \"\",\n",
    "                                    warehouse = \"\",database = \"\",schema = \"\")\n",
    "    p = Path('C:\\\\Users\\\\whill\\\\call-report-database\\\\Bulk_Files')\n",
    "    fp = 'C:\\\\Users\\\\whill\\\\call-report-database\\\\Bulk_Files'\n",
    "    years = [2013+ x for x in range(0,7)]\n",
    "    quarters = ['03_31', '06_30', '09_30','12_31']\n",
    "    for y in years:\n",
    "        for q in quarters:\n",
    "            df = format_callreports(p, fp, y, q)\n",
    "            main(session, df,fp, y, q)"
   ]
  },
  {
   "cell_type": "code",
   "execution_count": null,
   "id": "6aa06d73",
   "metadata": {},
   "outputs": [],
   "source": []
  }
 ],
 "metadata": {
  "kernelspec": {
   "display_name": "Python 3 (ipykernel)",
   "language": "python",
   "name": "python3"
  },
  "language_info": {
   "codemirror_mode": {
    "name": "ipython",
    "version": 3
   },
   "file_extension": ".py",
   "mimetype": "text/x-python",
   "name": "python",
   "nbconvert_exporter": "python",
   "pygments_lexer": "ipython3",
   "version": "3.9.13"
  }
 },
 "nbformat": 4,
 "nbformat_minor": 5
}
