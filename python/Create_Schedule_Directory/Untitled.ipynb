{
 "cells": [
  {
   "cell_type": "code",
   "execution_count": 2,
   "id": "766c34f7",
   "metadata": {},
   "outputs": [],
   "source": [
    "from ffiec_data_connect import methods, credentials, ffiec_connection\n",
    "import pandas as pd\n",
    "import snowflake.snowpark as snowpark\n",
    "from snowflake.connector.pandas_tools import write_pandas\n",
    "import time\n",
    "from zeep.exceptions import Fault\n",
    "import datetime\n",
    "from pathlib import Path\n",
    "import numpy as np \n",
    "from snowflake.connector.errors import ProgrammingError\n",
    "#creds = credentials.WebserviceCredentials(username=\"your-username\", password=\"your-token\")\n",
    "creds = credentials.WebserviceCredentials(username=\"whills12\", password=\"vGzHZX7EAsPCwfXuV6pI\")\n",
    "conn = ffiec_connection.FFIECConnection()"
   ]
  },
  {
   "cell_type": "code",
   "execution_count": 6,
   "id": "13639f71",
   "metadata": {},
   "outputs": [
    {
     "data": {
      "text/plain": [
       "7922"
      ]
     },
     "execution_count": 6,
     "metadata": {},
     "output_type": "execute_result"
    }
   ],
   "source": [
    "filers = methods.collect_filers_on_reporting_period(\n",
    "    session=conn,\n",
    "    creds=creds,\n",
    "    reporting_period=\"12/31/2006\",\n",
    "    output_type='pandas'\n",
    ")\n",
    "len(filers)"
   ]
  },
  {
   "cell_type": "code",
   "execution_count": null,
   "id": "2c52383d",
   "metadata": {},
   "outputs": [],
   "source": []
  }
 ],
 "metadata": {
  "kernelspec": {
   "display_name": "Python 3 (ipykernel)",
   "language": "python",
   "name": "python3"
  },
  "language_info": {
   "codemirror_mode": {
    "name": "ipython",
    "version": 3
   },
   "file_extension": ".py",
   "mimetype": "text/x-python",
   "name": "python",
   "nbconvert_exporter": "python",
   "pygments_lexer": "ipython3",
   "version": "3.9.13"
  }
 },
 "nbformat": 4,
 "nbformat_minor": 5
}
