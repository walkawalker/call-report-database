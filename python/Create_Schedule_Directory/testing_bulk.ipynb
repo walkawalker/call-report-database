{
 "cells": [
  {
   "cell_type": "code",
   "execution_count": 7,
   "id": "8168e742",
   "metadata": {},
   "outputs": [],
   "source": [
    "import pandas as pd\n",
    "from pathlib import Path\n",
    "import snowflake.connector as snow\n",
    "import pandas as pd"
   ]
  },
  {
   "cell_type": "code",
   "execution_count": 2,
   "id": "eace2a02",
   "metadata": {},
   "outputs": [],
   "source": [
    "def format_callreports(p,fp):\n",
    "    years = [2001]# + x for x in range(0,19)]\n",
    "    quarters = ['03_31']#,'Source_6.30', 'Source_9.30', 'Source_12.31']#, 'Source_3.31','Source_6.30', 'Source_9.30', 'Source_12.31']\n",
    "    for y in years:\n",
    "        yeardf = pd.DataFrame()\n",
    "        yearflag = 0\n",
    "        for q in quarters:\n",
    "            ct=0\n",
    "            plist = list(p.glob(f'**\\\\{y}\\\\{q}\\\\*'))\n",
    "            if not plist:\n",
    "                print(f'the following folder didnt exist/has nothing {y}:{q}')\n",
    "                continue\n",
    "            for pl in plist:\n",
    "                if ct == 0:\n",
    "                    dfinitial = pd.read_csv(pl, sep='\\t', on_bad_lines='warn',engine=\"python\") \n",
    "                    dfinitial.drop(dfinitial.columns[-1],axis=1,inplace=True)\n",
    "                    #columndescrip = pd.DataFrame(dfinitial.columns)\n",
    "                    #dfinitial.drop(0,inplace=True)\n",
    "                    dfinitial['IDRSSD'] = dfinitial['IDRSSD'].astype(int)\n",
    "                    #dfinitial = createdatecol(q, y, dfinitial)\n",
    "                    ct += 1\n",
    "                    continue\n",
    "                else: \n",
    "                    dftomerge = pd.read_csv(pl, sep='\\t', on_bad_lines='warn', engine=\"python\")\n",
    "                    dftomerge.drop(dftomerge.columns[-1],axis=1,inplace=True)\n",
    "                    #columndescriptomerge = dftomerge.iloc[0]\n",
    "                    dftomerge.drop(0,inplace=True)\n",
    "                print(str(pl))\n",
    "                dftomerge['IDRSSD'] = pd.to_numeric(dftomerge['IDRSSD'], errors = 'coerce').dropna()\n",
    "                #dftomerge = createdatecol(q, y, dftomerge)\n",
    "                dfinitial = pd.merge(dfinitial, dftomerge, on=['IDRSSD'], how='left', suffixes=('', '_y'))\n",
    "                dfinitial.drop(dfinitial.filter(regex='_y$').columns, axis=1, inplace=True)\n",
    "            #    columndescrip = pd.concat([columndescrip, columndescriptomerge])\n",
    "            #    columndescrip.drop(['IDRSSD'], axis=0, inplace=True)\n",
    "            #columndescrip.drop(list(columndescrip.filter(regex = 'TEXT',axis=0).index),axis = 0, inplace = True)\n",
    "            #columndescrip.to_csv(f'{fp}\\\\{y}\\\\{y}_ColumnDescription_{q}.csv')\n",
    "            if yearflag==0:\n",
    "                yeardf = dfinitial\n",
    "                yearflag+=1\n",
    "            else:\n",
    "                yeardf = pd.concat([yeardf, dfinitial], axis=0, ignore_index=True)\n",
    "                print(len(yeardf))        \n",
    "        yeardf.drop(list(yeardf.filter(regex = 'TEXT').columns),axis = 1, inplace = True)\n",
    "        #colnotnumeric = ['RCON9224','RCON9999','IDRSSD','FDIC Certificate Number','OCC Charter Number','OTS Docket Number','Primary ABA Routing Number','Financial Institution Name','Financial Institution Address','Financial Institution City','Financial Institution State','Financial Institution Zip Code','Financial Institution Filing Type','Last Date/Time Submission Updated On','RCONFT03','RCONFT06',\t'RCONFT07', 'RCONFT09','RCONFT11', 'RCONFT13','RCONFT16','RCONFT17']\n",
    "        #colnumeric = []\n",
    "        #for col in yeardf.columns:\n",
    "        #    if col not in colnotnumeric:\n",
    "        #        colnumeric.append(col)\n",
    "        #yeardf[colnumeric] = yeardf[colnumeric].apply(pd.to_numeric, errors='coerce', axis=1)\n",
    "        #yeardf.to_excel(f'{fp}\\\\{y}\\\\{y}_CallReports_{q}.xlsx',index=False)\n",
    "        yeardf.to_excel(f'{fp}\\\\{y}_CallReports_{q}.xlsx',index=False)\n",
    "#def createdatecol(q, y, df):\n",
    "#    for i in range(len(df)):\n",
    "#        if q == 'Source_3.31':\n",
    "#            df['Reporting_Period_End_Date'] = pd.Series([f'{y}0331' for x in range(len(df.index))])\n",
    "#        elif q == 'Source_6.30':\n",
    "#            df['Reporting_Period_End_Date'] = pd.Series([f'{y}0630' for x in range(len(df.index))])\n",
    "#        elif q == 'Source_9.30':\n",
    "#            df['Reporting_Period_End_Date'] = pd.Series([f'{y}0930' for x in range(len(df.index))])\n",
    "#        elif q == 'Source_12.31':\n",
    "#            df['Reporting_Period_End_Date'] = pd.Series([f'{y}1231' for x in range(len(df.index))])\n",
    "\n"
   ]
  },
  {
   "cell_type": "code",
   "execution_count": 3,
   "id": "709459b4",
   "metadata": {},
   "outputs": [
    {
     "name": "stdout",
     "output_type": "stream",
     "text": [
      "C:\\Users\\whill\\call-report-database\\Bulk_Files\\2001\\03_31\\FFIEC CDR Call Schedule CI 03312001.txt\n",
      "C:\\Users\\whill\\call-report-database\\Bulk_Files\\2001\\03_31\\FFIEC CDR Call Schedule ENT 03312001.txt\n",
      "C:\\Users\\whill\\call-report-database\\Bulk_Files\\2001\\03_31\\FFIEC CDR Call Schedule LEO 03312001.txt\n",
      "C:\\Users\\whill\\call-report-database\\Bulk_Files\\2001\\03_31\\FFIEC CDR Call Schedule NARR 03312001.txt\n",
      "C:\\Users\\whill\\call-report-database\\Bulk_Files\\2001\\03_31\\FFIEC CDR Call Schedule RC 03312001.txt\n",
      "C:\\Users\\whill\\call-report-database\\Bulk_Files\\2001\\03_31\\FFIEC CDR Call Schedule RCA 03312001.txt\n",
      "C:\\Users\\whill\\call-report-database\\Bulk_Files\\2001\\03_31\\FFIEC CDR Call Schedule RCB 03312001.txt\n",
      "C:\\Users\\whill\\call-report-database\\Bulk_Files\\2001\\03_31\\FFIEC CDR Call Schedule RCCI 03312001.txt\n",
      "C:\\Users\\whill\\call-report-database\\Bulk_Files\\2001\\03_31\\FFIEC CDR Call Schedule RCCII 03312001.txt\n",
      "C:\\Users\\whill\\call-report-database\\Bulk_Files\\2001\\03_31\\FFIEC CDR Call Schedule RCD 03312001.txt\n",
      "C:\\Users\\whill\\call-report-database\\Bulk_Files\\2001\\03_31\\FFIEC CDR Call Schedule RCE 03312001.txt\n",
      "C:\\Users\\whill\\call-report-database\\Bulk_Files\\2001\\03_31\\FFIEC CDR Call Schedule RCEI 03312001.txt\n",
      "C:\\Users\\whill\\call-report-database\\Bulk_Files\\2001\\03_31\\FFIEC CDR Call Schedule RCEII 03312001.txt\n"
     ]
    },
    {
     "name": "stderr",
     "output_type": "stream",
     "text": [
      "Skipping line 40: '\t' expected after '\"'\n",
      "Skipping line 8350: '\t' expected after '\"'\n"
     ]
    },
    {
     "name": "stdout",
     "output_type": "stream",
     "text": [
      "C:\\Users\\whill\\call-report-database\\Bulk_Files\\2001\\03_31\\FFIEC CDR Call Schedule RCF 03312001.txt\n",
      "C:\\Users\\whill\\call-report-database\\Bulk_Files\\2001\\03_31\\FFIEC CDR Call Schedule RCG 03312001.txt\n",
      "C:\\Users\\whill\\call-report-database\\Bulk_Files\\2001\\03_31\\FFIEC CDR Call Schedule RCH 03312001.txt\n",
      "C:\\Users\\whill\\call-report-database\\Bulk_Files\\2001\\03_31\\FFIEC CDR Call Schedule RCI 03312001.txt\n",
      "C:\\Users\\whill\\call-report-database\\Bulk_Files\\2001\\03_31\\FFIEC CDR Call Schedule RCK 03312001.txt\n",
      "C:\\Users\\whill\\call-report-database\\Bulk_Files\\2001\\03_31\\FFIEC CDR Call Schedule RCL 03312001.txt\n",
      "C:\\Users\\whill\\call-report-database\\Bulk_Files\\2001\\03_31\\FFIEC CDR Call Schedule RCM 03312001.txt\n",
      "C:\\Users\\whill\\call-report-database\\Bulk_Files\\2001\\03_31\\FFIEC CDR Call Schedule RCN 03312001.txt\n",
      "C:\\Users\\whill\\call-report-database\\Bulk_Files\\2001\\03_31\\FFIEC CDR Call Schedule RCO 03312001.txt\n",
      "C:\\Users\\whill\\call-report-database\\Bulk_Files\\2001\\03_31\\FFIEC CDR Call Schedule RCR 03312001(1 of 2).txt\n",
      "C:\\Users\\whill\\call-report-database\\Bulk_Files\\2001\\03_31\\FFIEC CDR Call Schedule RCR 03312001(2 of 2).txt\n",
      "C:\\Users\\whill\\call-report-database\\Bulk_Files\\2001\\03_31\\FFIEC CDR Call Schedule RCS 03312001.txt\n",
      "C:\\Users\\whill\\call-report-database\\Bulk_Files\\2001\\03_31\\FFIEC CDR Call Schedule RI 03312001.txt\n",
      "C:\\Users\\whill\\call-report-database\\Bulk_Files\\2001\\03_31\\FFIEC CDR Call Schedule RIA 03312001.txt\n",
      "C:\\Users\\whill\\call-report-database\\Bulk_Files\\2001\\03_31\\FFIEC CDR Call Schedule RIBI 03312001.txt\n",
      "C:\\Users\\whill\\call-report-database\\Bulk_Files\\2001\\03_31\\FFIEC CDR Call Schedule RIBII 03312001.txt\n",
      "C:\\Users\\whill\\call-report-database\\Bulk_Files\\2001\\03_31\\FFIEC CDR Call Schedule RID 03312001.txt\n",
      "C:\\Users\\whill\\call-report-database\\Bulk_Files\\2001\\03_31\\FFIEC CDR Call Schedule RIE 03312001.txt\n"
     ]
    }
   ],
   "source": [
    "if __name__ == \"__main__\":\n",
    "    p = Path('C:\\\\Users\\\\whill\\\\call-report-database\\\\Bulk_Files')\n",
    "    fp = 'C:\\\\Users\\\\whill\\\\call-report-database\\\\Bulk_Files'\n",
    "    format_callreports(p, fp)"
   ]
  },
  {
   "cell_type": "code",
   "execution_count": 4,
   "id": "c6d78797",
   "metadata": {},
   "outputs": [
    {
     "name": "stdout",
     "output_type": "stream",
     "text": [
      "Hello World\n"
     ]
    }
   ],
   "source": [
    "if __name__ == \"__main__\":\n",
    "    main()"
   ]
  },
  {
   "cell_type": "code",
   "execution_count": 1,
   "id": "ff965b79",
   "metadata": {},
   "outputs": [],
   "source": [
    "def main():\n",
    "    print('Hello World')"
   ]
  },
  {
   "cell_type": "code",
   "execution_count": null,
   "id": "cea2bfed",
   "metadata": {},
   "outputs": [],
   "source": [
    "def grab_table_name(session: snowpark.Session):\n",
    "    tables = session.sql('''SELECT TABLE_NAME\n",
    "    FROM INFORMATION_SCHEMA.TABLES\n",
    "    WHERE TABLE_SCHEMA = 'PUBLIC';''').collect()\n",
    "    table_names = pd.DataFrame(tables)\n",
    "    table_list = table_names['TABLE_NAME'].tolist()\n",
    "    table_list.remove('SCHEDULE_METADATA')\n",
    "    return table_list"
   ]
  },
  {
   "cell_type": "code",
   "execution_count": 12,
   "id": "7817357b",
   "metadata": {},
   "outputs": [],
   "source": [
    "def main(username, password, account, role, warehouse, database, schema):\n",
    "    try: \n",
    "        conn = snow.connect(\n",
    "        user= username,\n",
    "        password = password,\n",
    "        account = account,\n",
    "        role = role,\n",
    "        warehouse = warehouse,\n",
    "        database = database,\n",
    "        schema = schema)\n",
    "        cur = conn.cursor()\n",
    "        sql = f\"ALTER WAREHOUSE {warehouse} RESUME IF SUSPENDED;\"\n",
    "        cur.execute(sql)\n",
    "        print(\"Spinning up Warehouse\")\n",
    "        sql = 'Create Temporary Stage bulk_upload_stage;'\n",
    "        cur.execute(sql)\n",
    "        print('Stage Created')\n",
    "        sql = r'Put file:///C:\\Users\\whill\\call-report-database\\Bulk_Files\\SCHEDULE_RCCI\\2001_CallReports_03_31.csv @bulk_upload_stage'\n",
    "        cur.execute(sql)\n",
    "        print('File put in stage')\n",
    "        sql = r\"Copy Into SCHEDULE_RCCI From @bulk_upload_stage on_error=skip_file FILE_FORMAT=(SKIP_HEADER=1 ERROR_ON_COLUMN_COUNT_MISMATCH=FALSE EMPTY_FIELD_AS_NULL =TRUE FIELD_OPTIONALLY_ENCLOSED_BY='\\\"' TRIM_SPACE=TRUE);\"\n",
    "        cur.execute(sql)\n",
    "        print('Data copied to table')#need to figure out way to copy error messages to here\n",
    "        conn.commit()\n",
    "        sql = \"Select Count(IDRSSD) From SCHEDULE_RCCI where RCON9999 = '2001-03-31';\"\n",
    "        returns = cur.execute(sql)\n",
    "        for rets in returns:\n",
    "            print(rets)\n",
    "        sql = f\"ALTER WAREHOUSE {warehouse} SUSPEND;\"\n",
    "        cur.execute(sql)\n",
    "        print('Warehouse Suspended')\n",
    "    except Exception as e: \n",
    "        print(e)\n",
    "    finally:\n",
    "        if conn: \n",
    "            conn.close()\n",
    "            print('Snowflake Connection Closed')"
   ]
  },
  {
   "cell_type": "code",
   "execution_count": 13,
   "id": "719311fd",
   "metadata": {},
   "outputs": [
    {
     "name": "stdout",
     "output_type": "stream",
     "text": [
      "Spinning up Warehouse\n",
      "Stage Created\n",
      "File put in stage\n",
      "Data copied to table\n",
      "(8857,)\n",
      "Warehouse Suspended\n",
      "Snowflake Connection Closed\n"
     ]
    }
   ],
   "source": [
    "if __name__ == \"__main__\":\n",
    "    username= \"WALKERHILLS\"\n",
    "    password = \"h!123@iLLs#\"\n",
    "    account= \"lrlwqdb-yib23397\"\n",
    "    role = \"ACCOUNTADMIN\"\n",
    "    warehouse = \"COMPUTE_WH\"\n",
    "    database = \"CALLREPORTDB\"\n",
    "    schema = \"PUBLIC\"\n",
    "    main(username,password,account, role, warehouse,database, schema)"
   ]
  },
  {
   "cell_type": "code",
   "execution_count": null,
   "id": "66a4c2a7",
   "metadata": {},
   "outputs": [],
   "source": []
  }
 ],
 "metadata": {
  "kernelspec": {
   "display_name": "Python 3 (ipykernel)",
   "language": "python",
   "name": "python3"
  },
  "language_info": {
   "codemirror_mode": {
    "name": "ipython",
    "version": 3
   },
   "file_extension": ".py",
   "mimetype": "text/x-python",
   "name": "python",
   "nbconvert_exporter": "python",
   "pygments_lexer": "ipython3",
   "version": "3.9.13"
  }
 },
 "nbformat": 4,
 "nbformat_minor": 5
}
